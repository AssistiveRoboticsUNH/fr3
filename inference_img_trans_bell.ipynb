{
 "cells": [
  {
   "cell_type": "code",
   "execution_count": 1,
   "metadata": {},
   "outputs": [
    {
     "name": "stderr",
     "output_type": "stream",
     "text": [
      "pybullet build time: Nov 28 2023 23:45:17\n",
      "/usr/lib/python3/dist-packages/scipy/__init__.py:146: UserWarning: A NumPy version >=1.17.3 and <1.25.0 is required for this version of SciPy (detected version 1.26.0\n",
      "  warnings.warn(f\"A NumPy version >={np_minversion} and <{np_maxversion}\"\n"
     ]
    },
    {
     "name": "stdout",
     "output_type": "stream",
     "text": [
      "\u001b[33mROBOMIMIC WARNING(\n",
      "    No private macro file found!\n",
      "    It is recommended to use a private macro file\n",
      "    To setup, run: python /home/franka_deoxys/robomimic/robomimic/scripts/setup_macros.py\n",
      ")\u001b[0m\n"
     ]
    },
    {
     "name": "stderr",
     "output_type": "stream",
     "text": [
      "/home/franka_deoxys/.local/lib/python3.10/site-packages/matplotlib/projections/__init__.py:63: UserWarning: Unable to import Axes3D. This may be due to multiple versions of Matplotlib being installed (e.g. as a system package and as a pip package). As a result, the 3D projection is not available.\n",
      "  warnings.warn(\"Unable to import Axes3D. This may be due to multiple versions of \"\n"
     ]
    }
   ],
   "source": [
    "import argparse\n",
    "import json\n",
    "import os\n",
    "import pprint\n",
    "import sys\n",
    "from pathlib import Path\n",
    "\n",
    "import cv2\n",
    "import h5py\n",
    "# import hydra\n",
    "import numpy as np\n",
    "import torch\n",
    "import torchvision\n",
    "import yaml\n",
    "from easydict import EasyDict\n",
    "# from hydra.experimental import compose, initialize\n",
    "# from omegaconf import DictConfig, OmegaConf\n",
    "from PIL import Image\n",
    "from torch.utils.data import DataLoader, Dataset\n",
    "# from torch.utils.tensorboard import SummaryWriter\n",
    "from torchvision import transforms\n",
    "\n",
    "from deoxys import config_root\n",
    "# Control import\n",
    "from deoxys.franka_interface import FrankaInterface\n",
    "# from deoxys.utils import RobotStateRawObsDictGenerator, YamlConfig\n",
    "from deoxys.utils import  YamlConfig\n",
    "from deoxys.utils.config_utils import robot_config_parse_args\n",
    "from deoxys.utils.input_utils import input2action\n",
    "from deoxys.utils.io_devices import SpaceMouse\n",
    "from deoxys.utils.log_utils import get_deoxys_example_logger\n",
    "from deoxys.experimental.motion_utils import follow_joint_traj, reset_joints_to\n",
    "\n",
    "\n",
    "import argparse\n",
    "import json\n",
    "import numpy as np\n",
    "import time\n",
    "import os\n",
    "import shutil\n",
    "import psutil\n",
    "import sys\n",
    "import socket\n",
    "import traceback\n",
    "\n",
    "from threading import Thread\n",
    "import time\n",
    "\n",
    "from collections import OrderedDict\n",
    "\n",
    "import torch\n",
    "from torch.utils.data import DataLoader\n",
    "\n",
    "import robomimic\n",
    "import robomimic.utils.train_utils as TrainUtils\n",
    "import robomimic.utils.torch_utils as TorchUtils\n",
    "import robomimic.utils.obs_utils as ObsUtils\n",
    "import robomimic.utils.env_utils as EnvUtils\n",
    "import robomimic.utils.file_utils as FileUtils\n",
    "from robomimic.config import config_factory\n",
    "from robomimic.algo import algo_factory, RolloutPolicy\n",
    "from robomimic.utils.log_utils import PrintLogger, DataLogger, flush_warnings\n",
    "\n",
    "\n",
    "import robomimic.utils.train_utils as TrainUtils\n",
    "import robomimic.utils.torch_utils as TorchUtils\n",
    "import robomimic.utils.tensor_utils as TensorUtils\n",
    "import robomimic.utils.obs_utils as ObsUtils\n",
    "import robomimic.utils.env_utils as EnvUtils\n",
    "import robomimic.utils.file_utils as FileUtils\n",
    "\n",
    "import imageio \n",
    "\n",
    "import matplotlib.pyplot as plt\n",
    "\n",
    "from robomimic.envs.wrappers import EnvWrapper\n",
    "from copy import deepcopy\n",
    "import textwrap\n",
    "import numpy as np\n",
    "from collections import deque\n",
    "\n",
    "from deoxys_vision.networking.camera_redis_interface import CameraRedisSubInterface\n",
    "from deoxys_vision.utils.camera_utils import assert_camera_ref_convention, get_camera_info\n",
    "\n",
    "np.set_printoptions(precision=3, suppress=True)\n",
    "\n",
    "logger = get_deoxys_example_logger()"
   ]
  },
  {
   "cell_type": "code",
   "execution_count": 2,
   "metadata": {},
   "outputs": [
    {
     "data": {
      "text/plain": [
       "device(type='cuda', index=0)"
      ]
     },
     "execution_count": 2,
     "metadata": {},
     "output_type": "execute_result"
    }
   ],
   "source": [
    "device = TorchUtils.get_torch_device(try_to_use_cuda=True)\n",
    "device "
   ]
  },
  {
   "cell_type": "code",
   "execution_count": null,
   "metadata": {},
   "outputs": [],
   "source": []
  },
  {
   "cell_type": "code",
   "execution_count": 3,
   "metadata": {},
   "outputs": [],
   "source": [
    "class FrameStackForTrans:\n",
    "    def __init__(self, num_frames):\n",
    "        self.num_frames = num_frames\n",
    "        self.obs_history = {}\n",
    "        \n",
    "    def reset(self, init_obs):\n",
    "        \"\"\" \n",
    "        init_obs: dict of initial observation at the start of the episode\n",
    "        return stacked obs by repeating the first observation num_frames times\n",
    "        \"\"\"\n",
    "        \n",
    "        self.obs_history = {}\n",
    "        for k in init_obs:\n",
    "            self.obs_history[k] = deque([init_obs[k][None] for _ in range(self.num_frames)], maxlen=self.num_frames,)\n",
    "        obs = { k : np.concatenate(self.obs_history[k], axis=0) for k in self.obs_history }\n",
    "        return obs \n",
    "\n",
    "    def add_new_obs(self, new_obs):\n",
    "        \"\"\" \n",
    "        new_obs: dict of new observation at current timestep\n",
    "        return stacked obs\n",
    "        \"\"\"\n",
    "        for k in new_obs:\n",
    "            if 'timesteps' in k or 'actions' in k: continue\n",
    "            self.obs_history[k].append(new_obs[k][None])\n",
    "\n",
    "        obs= { k : np.concatenate(self.obs_history[k], axis=0) for k in self.obs_history }\n",
    "        return obs "
   ]
  },
  {
   "cell_type": "code",
   "execution_count": null,
   "metadata": {},
   "outputs": [],
   "source": []
  },
  {
   "cell_type": "code",
   "execution_count": 4,
   "metadata": {},
   "outputs": [],
   "source": [
    "class BaseRawObsDictGenerator:\n",
    "    def __init__(self, *args, **kwargs):\n",
    "        self.last_obs_dict = None\n",
    "\n",
    "    def get_raw_obs_dict(self, state_info):\n",
    "        \"\"\"\n",
    "        Args:\n",
    "           state_info (dict): A dictionary of robot state + images\n",
    "        \"\"\"\n",
    "        obs_dict = {}\n",
    "        raise NotImplementedError\n",
    "\n",
    "    def load(self):\n",
    "        raise NotImplementedError\n",
    "\n",
    "\n",
    "class RobotStateRawObsDictGenerator(BaseRawObsDictGenerator):\n",
    "    def __init__(self, *args, **kwargs):\n",
    "        super().__init__(*args, **kwargs)\n",
    "\n",
    "    def load(self, obs_dict, key, value, check_valid=True):\n",
    "        \"\"\"\n",
    "        This is to check if the data is correct or not. Sometimes the data will be all zero depending on the networking conditions.\n",
    "        \"\"\"\n",
    "        if (\n",
    "            (\n",
    "                np.sum(np.abs(value)) == 0.0\n",
    "                and key in [\"ee_states\", \"joint_states\", \"gripper_states\"]\n",
    "            )\n",
    "            and check_valid\n",
    "            and self.last_obs_dict is not None\n",
    "        ):\n",
    "            value = self.last_obs_dict[key]\n",
    "        obs_dict[key] = value\n",
    "\n",
    "    def get_raw_obs_dict(self, state_info):\n",
    "        last_state = state_info[\"last_state\"]\n",
    "        last_gripper_state = state_info[\"last_gripper_state\"]\n",
    "        obs_dict = {}\n",
    "\n",
    "        ee_states = np.array(last_state.O_T_EE)\n",
    "        joint_states = np.array(last_state.q)\n",
    "        gripper_states = np.array([last_gripper_state.width])\n",
    "\n",
    "        self.load(obs_dict, \"ee_states\", ee_states)\n",
    "        self.load(obs_dict, \"joint_states\", joint_states)\n",
    "        # Gripper widh will probably become zero\n",
    "        self.load(obs_dict, \"gripper_states\", gripper_states, check_valid=False)\n",
    "\n",
    "        for state in [\"ee_states\", \"joint_states\", \"gripper_states\"]:\n",
    "            if (\n",
    "                np.sum(np.abs(obs_dict[state])) <= 1e-6\n",
    "                and self.last_obs_dict is not None\n",
    "            ):\n",
    "                print(f\"{state} missing!!!!\")\n",
    "                obs_dict[state] = self.last_obs_dict[state]\n",
    "        self.last_obs_dict = obs_dict\n",
    "        return obs_dict"
   ]
  },
  {
   "cell_type": "code",
   "execution_count": null,
   "metadata": {},
   "outputs": [],
   "source": []
  },
  {
   "cell_type": "code",
   "execution_count": 5,
   "metadata": {},
   "outputs": [],
   "source": [
    "# def stacked_get_init(init_obs, num_frames):\n",
    "#     obs_history = {}\n",
    "#     for k in init_obs:\n",
    "#         obs_history[k] = deque([init_obs[k][None] for _ in range(num_frames)], maxlen=num_frames,)\n",
    "#     obs = { k : np.concatenate(obs_history[k], axis=0) for k in obs_history }\n",
    "#     return obs_history, obs \n",
    "\n",
    "# def stacked_add_new(obs_history, new_obs):\n",
    "#     for k in new_obs:\n",
    "#         if 'timesteps' in k or 'actions' in k: continue\n",
    "#         obs_history[k].append(new_obs[k][None])\n",
    "\n",
    "#     obs= { k : np.concatenate(obs_history[k], axis=0) for k in obs_history }\n",
    "#     return obs_history, obs "
   ]
  },
  {
   "cell_type": "code",
   "execution_count": null,
   "metadata": {},
   "outputs": [],
   "source": []
  },
  {
   "cell_type": "code",
   "execution_count": 6,
   "metadata": {},
   "outputs": [
    {
     "name": "stderr",
     "output_type": "stream",
     "text": [
      "/home/franka_deoxys/robomimic/robomimic/utils/file_utils.py:186: FutureWarning: You are using `torch.load` with `weights_only=False` (the current default value), which uses the default pickle module implicitly. It is possible to construct malicious pickle data which will execute arbitrary code during unpickling (See https://github.com/pytorch/pytorch/blob/main/SECURITY.md#untrusted-models for more details). In a future release, the default value for `weights_only` will be flipped to `True`. This limits the functions that could be executed during unpickling. Arbitrary objects will no longer be allowed to be loaded via this mode unless they are explicitly allowlisted by the user via `torch.serialization.add_safe_globals`. We recommend you start setting `weights_only=True` for any use case where you don't have full control of the loaded file. Please open an issue on GitHub for any issues related to this experimental feature.\n",
      "  ckpt_dict = torch.load(ckpt_path)\n"
     ]
    },
    {
     "name": "stdout",
     "output_type": "stream",
     "text": [
      "\n",
      "============= Initialized Observation Utils with Obs Spec =============\n",
      "\n",
      "using obs modality: low_dim with keys: ['gripper_states', 'joint_states', 'ee_states']\n",
      "using obs modality: rgb with keys: ['agentview_rgb', 'eye_in_hand_rgb']\n",
      "using obs modality: depth with keys: ['agentview_rgb_depth', 'eye_in_hand_rgb_depth']\n",
      "using obs modality: scan with keys: []\n"
     ]
    },
    {
     "name": "stderr",
     "output_type": "stream",
     "text": [
      "/home/franka_deoxys/.local/lib/python3.10/site-packages/torchvision/models/_utils.py:208: UserWarning: The parameter 'pretrained' is deprecated since 0.13 and may be removed in the future, please use 'weights' instead.\n",
      "  warnings.warn(\n",
      "/home/franka_deoxys/.local/lib/python3.10/site-packages/torchvision/models/_utils.py:223: UserWarning: Arguments other than a weight enum or `None` for 'weights' are deprecated since 0.13 and may be removed in the future. The current behavior is equivalent to passing `weights=None`.\n",
      "  warnings.warn(msg)\n"
     ]
    },
    {
     "name": "stdout",
     "output_type": "stream",
     "text": [
      "Created GPT_Backbone model with number of parameters: 18906112\n",
      "\n",
      "============= Initialized Observation Utils with Obs Spec =============\n",
      "\n",
      "using obs modality: low_dim with keys: ['gripper_states', 'joint_states', 'ee_states']\n",
      "using obs modality: rgb with keys: ['agentview_rgb', 'eye_in_hand_rgb']\n",
      "using obs modality: depth with keys: ['agentview_rgb_depth', 'eye_in_hand_rgb_depth']\n",
      "using obs modality: scan with keys: []\n",
      "SequenceDataset: loading dataset into memory...\n",
      "100%|██████████| 80/80 [00:01<00:00, 63.75it/s]\n",
      "SequenceDataset: caching get_item calls...\n",
      "100%|██████████| 12629/12629 [00:13<00:00, 934.25it/s] \n"
     ]
    },
    {
     "data": {
      "text/plain": [
       "80"
      ]
     },
     "execution_count": 6,
     "metadata": {},
     "output_type": "execute_result"
    }
   ],
   "source": [
    "ckpt_path = \"/home/franka_deoxys/data_franka/imgsd_demo_bell/policy_trans/model_epoch_600.pth\"\n",
    "\n",
    "\n",
    "assert os.path.exists(ckpt_path)\n",
    "\n",
    " \n",
    "# restore policy\n",
    "policy, ckpt_dict = FileUtils.policy_from_checkpoint(ckpt_path=ckpt_path, device=device, verbose=False)\n",
    "ckpt_dict = FileUtils.maybe_dict_from_checkpoint(ckpt_path=ckpt_path, ckpt_dict=None)\n",
    "# algo name and config from model dict\n",
    "algo_name, _ = FileUtils.algo_name_from_checkpoint(ckpt_dict=ckpt_dict)\n",
    "config, _ = FileUtils.config_from_checkpoint(algo_name=algo_name, ckpt_dict=ckpt_dict, verbose=False)\n",
    "\n",
    "config.unlock()\n",
    "config.train.data=\"/home/franka_deoxys/data_franka/imgsd_demo_bell/policy_trans/franka_bellpepper_g80_sub.hdf5\"\n",
    "config.lock() \n",
    "\n",
    "\n",
    "ObsUtils.initialize_obs_utils_with_config(config)\n",
    "\n",
    "shape_meta = FileUtils.get_shape_metadata_from_dataset(\n",
    "    dataset_path=config.train.data,\n",
    "    all_obs_keys=config.all_obs_keys,\n",
    "    verbose=False\n",
    ")\n",
    "trainset, validset = TrainUtils.load_data_for_training(\n",
    "    config, obs_keys=shape_meta[\"all_obs_keys\"])\n",
    "len(trainset.demos)"
   ]
  },
  {
   "cell_type": "code",
   "execution_count": 7,
   "metadata": {},
   "outputs": [],
   "source": [
    "model = policy.policy\n",
    "model.set_eval()"
   ]
  },
  {
   "cell_type": "code",
   "execution_count": null,
   "metadata": {},
   "outputs": [],
   "source": []
  },
  {
   "cell_type": "code",
   "execution_count": null,
   "metadata": {},
   "outputs": [],
   "source": []
  },
  {
   "cell_type": "code",
   "execution_count": 8,
   "metadata": {},
   "outputs": [
    {
     "name": "stdout",
     "output_type": "stream",
     "text": [
      "\u001b[1m\u001b[33m[Deoxys Examples WARNING] \u001b[0mThis is a very dummy control policy!!!!! (Ln 1)\n",
      "Opening SpaceMouse device\n",
      "Manufacturer: 3Dconnexion\n",
      "Product: SpaceMouse Wireless\n",
      "\n",
      "Control                       \tCommand\n",
      "Right button                  \treset simulation\n",
      "Left button (hold)            \tclose gripper\n",
      "Move mouse laterally          \tmove arm horizontally in x-y plane\n",
      "Move mouse vertically         \tmove arm vertically\n",
      "Twist mouse about an axis     \trotate arm about a corresponding axis\n",
      "ESC                           \tquit\n",
      "\n"
     ]
    },
    {
     "name": "stderr",
     "output_type": "stream",
     "text": [
      "/tmp/ipykernel_57020/2597759035.py:1: DeprecationWarning: The 'warn' method is deprecated, use 'warning' instead\n",
      "  logger.warn(\"This is a very dummy control policy!!!!!\")\n"
     ]
    }
   ],
   "source": [
    "logger.warn(\"This is a very dummy control policy!!!!!\")\n",
    "\n",
    "args = robot_config_parse_args()\n",
    "robot_interface = FrankaInterface(os.path.join(config_root, args.interface_cfg))\n",
    "controller_cfg = YamlConfig(\n",
    "    os.path.join(config_root, args.controller_cfg)\n",
    ").as_easydict()\n",
    "controller_type = args.controller_type\n",
    "\n",
    "spacemouse = SpaceMouse(vendor_id=9583, product_id=50734)\n",
    "spacemouse.start_control()\n",
    "\n",
    "raw_obs_dict_generator = RobotStateRawObsDictGenerator()\n",
    "\n",
    "import time\n",
    "\n",
    "time.sleep(0.3)\n",
    "dummy_torch_model = torch.nn.Linear(7, 1)"
   ]
  },
  {
   "cell_type": "code",
   "execution_count": 9,
   "metadata": {},
   "outputs": [
    {
     "data": {
      "text/plain": [
       "Namespace(interface_cfg='charmander.yml', folder=PosixPath('/home/franka_deoxys/.local/share/jupyter/runtime/kernel-v2-53186wEGvPxARLWuM.json'), controller_type='OSC_POSE', controller_cfg='osc-position-controller.yml')"
      ]
     },
     "execution_count": 9,
     "metadata": {},
     "output_type": "execute_result"
    }
   ],
   "source": [
    "args "
   ]
  },
  {
   "cell_type": "code",
   "execution_count": 10,
   "metadata": {},
   "outputs": [
    {
     "data": {
      "text/plain": [
       "(142, 7)"
      ]
     },
     "execution_count": 10,
     "metadata": {},
     "output_type": "execute_result"
    }
   ],
   "source": [
    "file=trainset.hdf5_file\n",
    "demo = file['data']['demo_5']\n",
    "actions=demo['actions']\n",
    "actions.shape"
   ]
  },
  {
   "cell_type": "code",
   "execution_count": 11,
   "metadata": {},
   "outputs": [],
   "source": [
    "# file[\"data\"].attrs[\"config\"]\n",
    "for key in file[\"data\"].attrs.keys():\n",
    "    print(key, file[\"data\"].attrs[key])"
   ]
  },
  {
   "cell_type": "code",
   "execution_count": 12,
   "metadata": {},
   "outputs": [
    {
     "data": {
      "text/plain": [
       "(145, 7)"
      ]
     },
     "execution_count": 12,
     "metadata": {},
     "output_type": "execute_result"
    }
   ],
   "source": [
    "joint_sequence = file[\"data/demo_1/obs/joint_states\"]\n",
    "joint_sequence.shape"
   ]
  },
  {
   "cell_type": "code",
   "execution_count": 13,
   "metadata": {},
   "outputs": [],
   "source": [
    "def set_gripper(open=True):\n",
    "    d=-1. if open else 1.0\n",
    "    action_close=np.array([ 0.,  0., -0.,  0.,  0., -0., d])\n",
    "    robot_interface.control(\n",
    "        controller_type=controller_type,\n",
    "        action=action_close,\n",
    "        controller_cfg=controller_cfg,\n",
    "    )"
   ]
  },
  {
   "cell_type": "code",
   "execution_count": null,
   "metadata": {},
   "outputs": [],
   "source": []
  },
  {
   "cell_type": "code",
   "execution_count": 30,
   "metadata": {},
   "outputs": [
    {
     "name": "stdout",
     "output_type": "stream",
     "text": [
      "\u001b[1m\u001b[30m[Deoxys Examples INFO] \u001b[0mResetting to the initial configuration (Ln 1)\n",
      "JOINT_POSITION\n"
     ]
    }
   ],
   "source": [
    "logger.info(\"Resetting to the initial configuration\")\n",
    "reset_joints_to(robot_interface, joint_sequence[0])\n",
    "set_gripper(open=True)"
   ]
  },
  {
   "cell_type": "code",
   "execution_count": 15,
   "metadata": {},
   "outputs": [],
   "source": [
    "# set_gripper(open=False)"
   ]
  },
  {
   "cell_type": "code",
   "execution_count": 16,
   "metadata": {},
   "outputs": [
    {
     "name": "stdout",
     "output_type": "stream",
     "text": [
      "---------****-----------\n",
      "{'camera_id': 0, 'camera_type': 'rs', 'camera_name': 'camera_rs_0'}\n",
      "--------------------------\n",
      "CameraRedisSubInterface:: {'camera_id': 0, 'camera_type': 'rs', 'camera_name': 'camera_rs_0'} True True\n",
      "---------****-----------\n",
      "{'camera_id': 1, 'camera_type': 'rs', 'camera_name': 'camera_rs_1'}\n",
      "--------------------------\n",
      "CameraRedisSubInterface:: {'camera_id': 1, 'camera_type': 'rs', 'camera_name': 'camera_rs_1'} True True\n"
     ]
    }
   ],
   "source": [
    "camera_ids = [0, 1]\n",
    "# camera_ids = [0]\n",
    "cr_interfaces = {}\n",
    "\n",
    "for camera_id in camera_ids:\n",
    "    camera_ref=f\"rs_{camera_id}\"\n",
    "    assert_camera_ref_convention(camera_ref)\n",
    "    camera_info = get_camera_info(camera_ref)\n",
    "    print('---------****-----------')\n",
    "    print(camera_info)\n",
    "    print('--------------------------')\n",
    "    # camera_info=  {'camera_id': 0, 'camera_type': 'rs', 'camera_name': 'camera_rs_0'}\n",
    "# \n",
    "\n",
    "    cr_interface = CameraRedisSubInterface(camera_info=camera_info, use_depth=True, redis_host='127.0.0.1')\n",
    "    cr_interface.start()\n",
    "    cr_interfaces[camera_id] = cr_interface"
   ]
  },
  {
   "cell_type": "code",
   "execution_count": 17,
   "metadata": {},
   "outputs": [],
   "source": [
    "def get_imgs():\n",
    "    data = {}\n",
    "    for camera_id in camera_ids:\n",
    "        img_info = cr_interfaces[camera_id].get_img_info()\n",
    "        data[f\"camera_{camera_id}\"]=img_info\n",
    "\n",
    "        imgs = cr_interfaces[camera_id].get_img()\n",
    "    \n",
    "        color_img = imgs[\"color\"][..., ::-1]\n",
    "        depth_img = imgs[\"depth\"]\n",
    "\n",
    "        color_img = cv2.resize(color_img, (128, 128))  \n",
    "        depth_img = cv2.resize(depth_img, (128, 128))\n",
    "\n",
    "        data[f\"camera_{camera_id}_color\"]=color_img\n",
    "        data[f\"camera_{camera_id}_depth\"]=depth_img\n",
    "    return data"
   ]
  },
  {
   "cell_type": "code",
   "execution_count": 18,
   "metadata": {},
   "outputs": [
    {
     "data": {
      "text/plain": [
       "dict_keys(['camera_0', 'camera_0_color', 'camera_0_depth', 'camera_1', 'camera_1_color', 'camera_1_depth'])"
      ]
     },
     "execution_count": 18,
     "metadata": {},
     "output_type": "execute_result"
    }
   ],
   "source": [
    "data = get_imgs()\n",
    "data.keys()"
   ]
  },
  {
   "cell_type": "code",
   "execution_count": 19,
   "metadata": {},
   "outputs": [
    {
     "data": {
      "text/plain": [
       "<matplotlib.image.AxesImage at 0x768e25f248e0>"
      ]
     },
     "execution_count": 19,
     "metadata": {},
     "output_type": "execute_result"
    },
    {
     "data": {
      "image/png": "[encoded data removed]",
      "text/plain": [
       "<Figure size 640x480 with 4 Axes>"
      ]
     },
     "metadata": {},
     "output_type": "display_data"
    }
   ],
   "source": [
    "data = get_imgs()\n",
    "agentview_rgb = data['camera_0_color']\n",
    "eye_in_hand_rgb = data['camera_1_color']\n",
    "agentview_rgb_depth = data['camera_0_depth']\n",
    "eye_in_hand_rgb_depth = data['camera_1_depth']\n",
    "\n",
    "\n",
    " \n",
    "plt.subplot(141)\n",
    "plt.imshow(agentview_rgb[:,:,::-1])\n",
    "plt.subplot(142)\n",
    "plt.imshow(eye_in_hand_rgb[:,:,::-1])\n",
    "plt.subplot(143)\n",
    "plt.imshow(agentview_rgb_depth)\n",
    "plt.subplot(144)\n",
    "plt.imshow(eye_in_hand_rgb_depth)"
   ]
  },
  {
   "cell_type": "code",
   "execution_count": 20,
   "metadata": {},
   "outputs": [],
   "source": [
    "def get_current_obs(robot_interface):\n",
    "    last_state = robot_interface._state_buffer[-1]\n",
    "    last_gripper_state = robot_interface._gripper_state_buffer[-1]\n",
    "\n",
    "    obs_dict = raw_obs_dict_generator.get_raw_obs_dict(\n",
    "    {\"last_state\": last_state, \"last_gripper_state\": last_gripper_state})\n",
    "\n",
    "    data = get_imgs()\n",
    "    agentview_rgb = data['camera_0_color']\n",
    "    eye_in_hand_rgb = data['camera_1_color']\n",
    "    agentview_rgb_depth = data['camera_0_depth']\n",
    "    eye_in_hand_rgb_depth = data['camera_1_depth']\n",
    "\n",
    "    obs_dict['agentview_rgb']=agentview_rgb.transpose(2, 1, 0)\n",
    "    obs_dict['eye_in_hand_rgb']=eye_in_hand_rgb.transpose(2, 1, 0)\n",
    "    obs_dict['agentview_rgb_depth']=agentview_rgb_depth.reshape(1, 128,128)\n",
    "    obs_dict['eye_in_hand_rgb_depth']=eye_in_hand_rgb_depth.reshape(1, 128,128)\n",
    "    return obs_dict"
   ]
  },
  {
   "cell_type": "code",
   "execution_count": 21,
   "metadata": {},
   "outputs": [
    {
     "name": "stdout",
     "output_type": "stream",
     "text": [
      "ee_states (1, 16)\n",
      "joint_states (1, 7)\n",
      "gripper_states (1, 1)\n",
      "agentview_rgb (1, 3, 128, 128)\n",
      "eye_in_hand_rgb (1, 3, 128, 128)\n",
      "agentview_rgb_depth (1, 1, 128, 128)\n",
      "eye_in_hand_rgb_depth (1, 1, 128, 128)\n"
     ]
    }
   ],
   "source": [
    "obs_dict=get_current_obs(robot_interface)\n",
    "for key in obs_dict.keys():\n",
    "    obs_dict[key]=obs_dict[key][None]\n",
    "    print(key, obs_dict[key].shape)"
   ]
  },
  {
   "cell_type": "code",
   "execution_count": null,
   "metadata": {},
   "outputs": [],
   "source": []
  },
  {
   "cell_type": "code",
   "execution_count": 22,
   "metadata": {},
   "outputs": [],
   "source": [
    "num_frames=10\n",
    "framestacker=FrameStackForTrans(num_frames=num_frames)"
   ]
  },
  {
   "cell_type": "code",
   "execution_count": 23,
   "metadata": {},
   "outputs": [],
   "source": [
    "init_obs = get_current_obs(robot_interface)\n",
    "obs=framestacker.reset(init_obs)"
   ]
  },
  {
   "cell_type": "code",
   "execution_count": 24,
   "metadata": {},
   "outputs": [],
   "source": [
    "# ob2 = policy._prepare_observation(obs_dict)\n",
    "# ac = policy.policy.get_action(obs_dict=ob2, goal_dict=None)\n",
    "# ac=ac.detach().cpu().numpy()[0]\n",
    "# ac "
   ]
  },
  {
   "cell_type": "code",
   "execution_count": 25,
   "metadata": {},
   "outputs": [],
   "source": [
    "# ob2 = policy._prepare_observation(obs)\n",
    "# ac = policy.policy.get_action(obs_dict=ob2, goal_dict=None)\n",
    "# ac=ac.detach().cpu().numpy()[0]\n",
    "# ac "
   ]
  },
  {
   "cell_type": "code",
   "execution_count": null,
   "metadata": {},
   "outputs": [],
   "source": []
  },
  {
   "cell_type": "code",
   "execution_count": null,
   "metadata": {},
   "outputs": [],
   "source": []
  },
  {
   "cell_type": "code",
   "execution_count": 26,
   "metadata": {},
   "outputs": [
    {
     "data": {
      "text/plain": [
       "array([ 0.058,  0.021,  0.032,  0.002, -0.011, -0.   , -1.   ],\n",
       "      dtype=float32)"
      ]
     },
     "execution_count": 26,
     "metadata": {},
     "output_type": "execute_result"
    }
   ],
   "source": [
    "init_obs = get_current_obs(robot_interface)\n",
    "obs=framestacker.reset(init_obs)\n",
    "obs=TensorUtils.to_torch(obs, device=device)\n",
    "\n",
    "batch_obs={key:obs[key][None] for key in obs} \n",
    "pred = model.get_action(obs_dict=batch_obs , goal_dict=None)\n",
    "ac=pred.detach().cpu().numpy().squeeze()\n",
    "ac"
   ]
  },
  {
   "cell_type": "code",
   "execution_count": 27,
   "metadata": {},
   "outputs": [
    {
     "data": {
      "text/plain": [
       "array([ 0.565,  0.208,  0.343,  0.02 , -0.114, -0.006, -1.   ],\n",
       "      dtype=float32)"
      ]
     },
     "execution_count": 27,
     "metadata": {},
     "output_type": "execute_result"
    }
   ],
   "source": [
    "obs_t = get_current_obs(robot_interface)\n",
    "obs=framestacker.add_new_obs(obs_t)\n",
    "obs=TensorUtils.to_torch(obs, device=device)\n",
    "batch_obs={key:obs[key][None] for key in obs} \n",
    "pred = model.get_action(obs_dict=batch_obs , goal_dict=None)\n",
    "action=pred.detach().cpu().numpy().squeeze() \n",
    "action[:6] *=10\n",
    "action "
   ]
  },
  {
   "cell_type": "code",
   "execution_count": null,
   "metadata": {},
   "outputs": [],
   "source": []
  },
  {
   "cell_type": "code",
   "execution_count": 31,
   "metadata": {},
   "outputs": [
    {
     "ename": "KeyboardInterrupt",
     "evalue": "",
     "output_type": "error",
     "traceback": [
      "\u001b[0;31m---------------------------------------------------------------------------\u001b[0m",
      "\u001b[0;31mKeyboardInterrupt\u001b[0m                         Traceback (most recent call last)",
      "Cell \u001b[0;32mIn[31], line 34\u001b[0m\n\u001b[1;32m     26\u001b[0m     actions\u001b[38;5;241m.\u001b[39mappend(action)\n\u001b[1;32m     28\u001b[0m     robot_interface\u001b[38;5;241m.\u001b[39mcontrol(\n\u001b[1;32m     29\u001b[0m         controller_type\u001b[38;5;241m=\u001b[39mcontroller_type,\n\u001b[1;32m     30\u001b[0m         action\u001b[38;5;241m=\u001b[39maction,\n\u001b[1;32m     31\u001b[0m         controller_cfg\u001b[38;5;241m=\u001b[39mcontroller_cfg,\n\u001b[1;32m     32\u001b[0m     )\n\u001b[0;32m---> 34\u001b[0m     \u001b[43mtime\u001b[49m\u001b[38;5;241;43m.\u001b[39;49m\u001b[43msleep\u001b[49m\u001b[43m(\u001b[49m\u001b[38;5;241;43m0.45\u001b[39;49m\u001b[43m)\u001b[49m\n\u001b[1;32m     36\u001b[0m robot_interface\u001b[38;5;241m.\u001b[39mclose()\n",
      "\u001b[0;31mKeyboardInterrupt\u001b[0m: "
     ]
    }
   ],
   "source": [
    "actions=[]\n",
    "\n",
    "for _ in range(500):\n",
    "    action, grasp = input2action(\n",
    "        device=spacemouse,\n",
    "        controller_type=controller_type,\n",
    "    )\n",
    "    if action is None:\n",
    "        break\n",
    "    if len(robot_interface._state_buffer) == 0:\n",
    "        continue\n",
    "\n",
    "    obs_t = get_current_obs(robot_interface)\n",
    "    obs=framestacker.add_new_obs(obs_t)\n",
    "    obs=TensorUtils.to_torch(obs, device=device)\n",
    "    batch_obs={key:obs[key][None] for key in obs} \n",
    "    pred = model.get_action(obs_dict=batch_obs , goal_dict=None) \n",
    "    action=pred.detach().cpu().numpy().squeeze() \n",
    "\n",
    "    # for key in obs_t.keys():\n",
    "    #     obs_t[key]=obs_t[key][None]\n",
    "    # ob2 = policy._prepare_observation(obs_t)\n",
    "    # ac = policy.policy.get_action(obs_dict=ob2, goal_dict=None)\n",
    "    # action=ac.detach().cpu().numpy()[0]\n",
    "\n",
    "    actions.append(action)\n",
    "\n",
    "    robot_interface.control(\n",
    "        controller_type=controller_type,\n",
    "        action=action,\n",
    "        controller_cfg=controller_cfg,\n",
    "    )\n",
    "\n",
    "    time.sleep(0.45)\n",
    "\n",
    "robot_interface.close()"
   ]
  },
  {
   "cell_type": "code",
   "execution_count": null,
   "metadata": {},
   "outputs": [],
   "source": []
  },
  {
   "cell_type": "code",
   "execution_count": 29,
   "metadata": {},
   "outputs": [
    {
     "data": {
      "text/plain": [
       "[array([ 0.059,  0.02 ,  0.034,  0.002, -0.011, -0.001, -1.   ],\n",
       "       dtype=float32),\n",
       " array([ 0.063,  0.021,  0.03 ,  0.002, -0.01 , -0.001, -1.   ],\n",
       "       dtype=float32),\n",
       " array([ 0.06 ,  0.021,  0.024,  0.002, -0.007, -0.001, -1.   ],\n",
       "       dtype=float32),\n",
       " array([ 0.061,  0.022,  0.028,  0.002, -0.008, -0.001, -1.   ],\n",
       "       dtype=float32),\n",
       " array([ 0.062,  0.021,  0.028,  0.002, -0.006, -0.001, -1.   ],\n",
       "       dtype=float32),\n",
       " array([ 0.063,  0.022,  0.025,  0.001, -0.005, -0.002, -1.   ],\n",
       "       dtype=float32),\n",
       " array([ 0.065,  0.022,  0.023,  0.002, -0.004, -0.002, -1.   ],\n",
       "       dtype=float32),\n",
       " array([ 0.066,  0.022,  0.021,  0.001, -0.003, -0.002, -1.   ],\n",
       "       dtype=float32),\n",
       " array([ 0.063,  0.02 ,  0.019,  0.001, -0.001, -0.002, -1.   ],\n",
       "       dtype=float32),\n",
       " array([ 0.069,  0.019,  0.021,  0.002, -0.   , -0.003, -1.   ],\n",
       "       dtype=float32),\n",
       " array([ 0.065,  0.019,  0.02 ,  0.002,  0.001, -0.003, -1.   ],\n",
       "       dtype=float32),\n",
       " array([ 0.074,  0.018,  0.021,  0.002,  0.001, -0.003, -1.   ],\n",
       "       dtype=float32),\n",
       " array([ 0.079,  0.017,  0.018,  0.002,  0.002, -0.004, -1.   ],\n",
       "       dtype=float32),\n",
       " array([ 0.07 ,  0.019,  0.02 ,  0.002,  0.005, -0.002, -1.   ],\n",
       "       dtype=float32),\n",
       " array([ 0.072,  0.019,  0.018,  0.001,  0.005, -0.002, -1.   ],\n",
       "       dtype=float32),\n",
       " array([ 0.075,  0.018,  0.014,  0.001,  0.005, -0.003, -1.   ],\n",
       "       dtype=float32),\n",
       " array([ 0.071,  0.02 ,  0.018,  0.001,  0.007, -0.002, -1.   ],\n",
       "       dtype=float32),\n",
       " array([ 0.072,  0.018,  0.013,  0.001,  0.007, -0.002, -1.   ],\n",
       "       dtype=float32),\n",
       " array([ 0.074,  0.019,  0.015,  0.001,  0.005, -0.001, -1.   ],\n",
       "       dtype=float32),\n",
       " array([ 0.074,  0.02 ,  0.02 ,  0.   ,  0.003, -0.002, -1.   ],\n",
       "       dtype=float32),\n",
       " array([ 0.074,  0.02 ,  0.019, -0.   ,  0.002, -0.002, -1.   ],\n",
       "       dtype=float32),\n",
       " array([ 0.071,  0.018,  0.017, -0.001,  0.001, -0.002, -1.   ],\n",
       "       dtype=float32),\n",
       " array([ 0.075,  0.018,  0.019, -0.001, -0.001, -0.002, -1.   ],\n",
       "       dtype=float32),\n",
       " array([ 0.069,  0.017,  0.018, -0.001, -0.001, -0.002, -1.   ],\n",
       "       dtype=float32),\n",
       " array([ 0.073,  0.017,  0.019, -0.001, -0.002, -0.003, -1.   ],\n",
       "       dtype=float32),\n",
       " array([ 0.077,  0.018,  0.018, -0.001, -0.001, -0.003, -1.   ],\n",
       "       dtype=float32),\n",
       " array([ 0.076,  0.019,  0.019, -0.001, -0.001, -0.003, -1.   ],\n",
       "       dtype=float32),\n",
       " array([ 0.073,  0.017,  0.018, -0.002, -0.001, -0.003, -1.   ],\n",
       "       dtype=float32),\n",
       " array([ 0.073,  0.016,  0.012, -0.001, -0.   , -0.003, -1.   ],\n",
       "       dtype=float32),\n",
       " array([ 0.066,  0.016,  0.014, -0.001, -0.001, -0.003, -1.   ],\n",
       "       dtype=float32)]"
      ]
     },
     "execution_count": 29,
     "metadata": {},
     "output_type": "execute_result"
    }
   ],
   "source": [
    "actions"
   ]
  },
  {
   "cell_type": "code",
   "execution_count": null,
   "metadata": {},
   "outputs": [],
   "source": []
  },
  {
   "cell_type": "code",
   "execution_count": null,
   "metadata": {},
   "outputs": [],
   "source": []
  },
  {
   "cell_type": "code",
   "execution_count": null,
   "metadata": {},
   "outputs": [],
   "source": []
  },
  {
   "cell_type": "code",
   "execution_count": null,
   "metadata": {},
   "outputs": [],
   "source": [
    "robot_interface.close()"
   ]
  },
  {
   "cell_type": "code",
   "execution_count": null,
   "metadata": {},
   "outputs": [],
   "source": []
  },
  {
   "cell_type": "code",
   "execution_count": null,
   "metadata": {},
   "outputs": [],
   "source": [
    "import matplotlib.pyplot as plt"
   ]
  },
  {
   "cell_type": "code",
   "execution_count": null,
   "metadata": {},
   "outputs": [],
   "source": []
  },
  {
   "cell_type": "code",
   "execution_count": null,
   "metadata": {},
   "outputs": [],
   "source": []
  },
  {
   "cell_type": "code",
   "execution_count": null,
   "metadata": {},
   "outputs": [],
   "source": []
  },
  {
   "cell_type": "code",
   "execution_count": null,
   "metadata": {},
   "outputs": [],
   "source": []
  },
  {
   "cell_type": "code",
   "execution_count": null,
   "metadata": {},
   "outputs": [],
   "source": []
  }
 ],
 "metadata": {
  "kernelspec": {
   "display_name": "Python 3",
   "language": "python",
   "name": "python3"
  },
  "language_info": {
   "codemirror_mode": {
    "name": "ipython",
    "version": 3
   },
   "file_extension": ".py",
   "mimetype": "text/x-python",
   "name": "python",
   "nbconvert_exporter": "python",
   "pygments_lexer": "ipython3",
   "version": "3.10.12"
  }
 },
 "nbformat": 4,
 "nbformat_minor": 2
}
