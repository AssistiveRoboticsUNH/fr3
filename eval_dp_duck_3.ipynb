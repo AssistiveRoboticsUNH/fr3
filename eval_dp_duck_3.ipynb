{
 "cells": [
  {
   "cell_type": "code",
   "execution_count": 1,
   "metadata": {},
   "outputs": [
    {
     "name": "stderr",
     "output_type": "stream",
     "text": [
      "/home/franka_deoxys/miniconda3/envs/robodiff_2/lib/python3.9/site-packages/tqdm/auto.py:21: TqdmWarning: IProgress not found. Please update jupyter and ipywidgets. See https://ipywidgets.readthedocs.io/en/stable/user_install.html\n",
      "  from .autonotebook import tqdm as notebook_tqdm\n",
      "/home/franka_deoxys/miniconda3/envs/robodiff_2/lib/python3.9/site-packages/torch/cuda/__init__.py:129: UserWarning: CUDA initialization: The NVIDIA driver on your system is too old (found version 11040). Please update your GPU driver by downloading and installing a new version from the URL: http://www.nvidia.com/Download/index.aspx Alternatively, go to: https://pytorch.org to install a PyTorch version that has been compiled with your version of the CUDA driver. (Triggered internally at /pytorch/c10/cuda/CUDAFunctions.cpp:109.)\n",
      "  return torch._C._cuda_getDeviceCount() > 0\n"
     ]
    }
   ],
   "source": [
    "import sys \n",
    "from pathlib import Path\n",
    "import torch\n",
    "import os\n",
    "import dill\n",
    "import numpy as np\n",
    "import matplotlib.pyplot as plt\n",
    "import tqdm\n",
    "import os\n",
    "from pathlib import Path\n",
    "import cv2\n",
    "import time\n",
    "\n",
    "sys.path.append(\"/home/franka_deoxys/diffusion_policy\")\n",
    "from diffusion_policy.workspace.base_workspace import BaseWorkspace\n",
    "from diffusion_policy.model.common.rotation_transformer import RotationTransformer\n",
    "from diffusion_policy.common.pytorch_util import dict_apply\n",
    "from diffusion_policy.workspace.train_diffusion_unet_hybrid_workspace import TrainDiffusionUnetHybridWorkspace\n",
    "\n",
    "\n",
    "sys.path.append(\"/home/franka_deoxys/deoxys_control/deoxys\")\n",
    "from deoxys import config_root\n",
    "from deoxys.franka_interface import FrankaInterface\n",
    "from deoxys.utils import  YamlConfig\n",
    "from deoxys.utils.config_utils import robot_config_parse_args\n",
    "from deoxys.utils.input_utils import input2action\n",
    "from deoxys.utils.io_devices import SpaceMouse\n",
    "from deoxys.utils.log_utils import get_deoxys_example_logger\n",
    "from deoxys.experimental.motion_utils import follow_joint_traj, reset_joints_to\n",
    "\n",
    "sys.path.append(\"/home/franka_deoxys/deoxys_vision\")\n",
    "from deoxys_vision.networking.camera_redis_interface import CameraRedisSubInterface\n",
    "from deoxys_vision.utils.camera_utils import assert_camera_ref_convention, get_camera_info\n",
    "\n",
    "\n",
    "from util_eval import RobotStateRawObsDictGenerator, FrameStackForTrans\n",
    "\n",
    "np.set_printoptions(precision=3, suppress=True)\n",
    "\n",
    "logger = get_deoxys_example_logger()"
   ]
  },
  {
   "cell_type": "code",
   "execution_count": 2,
   "metadata": {},
   "outputs": [
    {
     "data": {
      "text/plain": [
       "device(type='cpu')"
      ]
     },
     "execution_count": 2,
     "metadata": {},
     "output_type": "execute_result"
    }
   ],
   "source": [
    "device = torch.device(\"cuda\" if torch.cuda.is_available() else \"cpu\")\n",
    "device"
   ]
  },
  {
   "cell_type": "code",
   "execution_count": 3,
   "metadata": {},
   "outputs": [
    {
     "name": "stdout",
     "output_type": "stream",
     "text": [
      "Opening SpaceMouse device\n",
      "Manufacturer: 3Dconnexion\n",
      "Product: 3Dconnexion Universal Receiver\n",
      "\n",
      "Control                       \tCommand\n",
      "Right button                  \treset simulation\n",
      "Left button (hold)            \tclose gripper\n",
      "Move mouse laterally          \tmove arm horizontally in x-y plane\n",
      "Move mouse vertically         \tmove arm vertically\n",
      "Twist mouse about an axis     \trotate arm about a corresponding axis\n",
      "ESC                           \tquit\n",
      "\n"
     ]
    }
   ],
   "source": [
    "args = robot_config_parse_args()\n",
    "robot_interface = FrankaInterface(os.path.join(config_root, args.interface_cfg))\n",
    "controller_cfg = YamlConfig(\n",
    "    os.path.join(config_root, args.controller_cfg)\n",
    ").as_easydict()\n",
    "controller_type = args.controller_type\n",
    "\n",
    "# spacemouse = SpaceMouse(vendor_id=9583, product_id=50734) \n",
    "#old spacemoue not wireless\n",
    "spacemouse = SpaceMouse(vendor_id=9583, product_id=50770)\n",
    "spacemouse.start_control()\n",
    "raw_obs_dict_generator = RobotStateRawObsDictGenerator()"
   ]
  },
  {
   "cell_type": "code",
   "execution_count": 4,
   "metadata": {},
   "outputs": [],
   "source": [
    "def set_gripper(open=True):\n",
    "    d=-1. if open else 1.0\n",
    "    action_close=np.array([ 0.,  0., -0.,  0.,  0., -0., d])\n",
    "    robot_interface.control(\n",
    "        controller_type=controller_type,\n",
    "        action=action_close,\n",
    "        controller_cfg=controller_cfg,\n",
    "    )"
   ]
  },
  {
   "cell_type": "markdown",
   "metadata": {},
   "source": [
    "### reset robot position (no need to do it from terminal)"
   ]
  },
  {
   "cell_type": "code",
   "execution_count": 5,
   "metadata": {},
   "outputs": [],
   "source": [
    "# copied from reset_robot_joints.py\n",
    "# Golden resetting joints\n",
    "reset_joint_positions = [\n",
    "        0.037,-1.655,0.099,-2.993,-0.074,2.321,0.921]\n",
    "\n",
    "# reset_joint_positions= [0.03492503,-1.64946574,0.09731048,-2.99831706,\n",
    "#                         0.06887073,2.31927159,0.91575789]"
   ]
  },
  {
   "cell_type": "code",
   "execution_count": 7,
   "metadata": {},
   "outputs": [],
   "source": [
    "if robot_interface._state_buffer:\n",
    "    last_state = robot_interface._state_buffer[-1]\n",
    "else:\n",
    "    print(\"The state buffer is empty.\")\n",
    "    "
   ]
  },
  {
   "cell_type": "markdown",
   "metadata": {},
   "source": [
    "### getting lowdim obs + camera obs"
   ]
  },
  {
   "cell_type": "code",
   "execution_count": 8,
   "metadata": {},
   "outputs": [
    {
     "name": "stdout",
     "output_type": "stream",
     "text": [
      "---------****-----------\n",
      "{'camera_id': 0, 'camera_type': 'rs', 'camera_name': 'camera_rs_0'}\n",
      "--------------------------\n",
      "CameraRedisSubInterface:: {'camera_id': 0, 'camera_type': 'rs', 'camera_name': 'camera_rs_0'} True False\n",
      "---------****-----------\n",
      "{'camera_id': 1, 'camera_type': 'rs', 'camera_name': 'camera_rs_1'}\n",
      "--------------------------\n",
      "CameraRedisSubInterface:: {'camera_id': 1, 'camera_type': 'rs', 'camera_name': 'camera_rs_1'} True False\n"
     ]
    }
   ],
   "source": [
    "camera_ids = [0, 1]\n",
    "# camera_ids = [0]\n",
    "cr_interfaces = {}\n",
    "\n",
    "use_depth = False\n",
    "for camera_id in camera_ids:\n",
    "    camera_ref=f\"rs_{camera_id}\"\n",
    "    assert_camera_ref_convention(camera_ref)\n",
    "    camera_info = get_camera_info(camera_ref)\n",
    "    print('---------****-----------')\n",
    "    print(camera_info)\n",
    "    print('--------------------------')\n",
    "    # camera_info=  {'camera_id': 0, 'camera_type': 'rs', 'camera_name': 'camera_rs_0'}\n",
    "# \n",
    "\n",
    "    cr_interface = CameraRedisSubInterface(camera_info=camera_info, use_depth=use_depth, redis_host='127.0.0.1')\n",
    "    cr_interface.start()\n",
    "    cr_interfaces[camera_id] = cr_interface"
   ]
  },
  {
   "cell_type": "code",
   "execution_count": 9,
   "metadata": {},
   "outputs": [],
   "source": [
    "def get_imgs(use_depth=False):\n",
    "    data = {}\n",
    "    for camera_id in camera_ids:\n",
    "        img_info = cr_interfaces[camera_id].get_img_info()\n",
    "        data[f\"camera_{camera_id}\"]=img_info\n",
    "\n",
    "        imgs = cr_interfaces[camera_id].get_img()\n",
    "    \n",
    "        color_img = imgs[\"color\"][..., ::-1]\n",
    "        \n",
    "        # color_img = cv2.resize(color_img, (128, 128))  \n",
    "        # depth_img = cv2.resize(depth_img, (128, 128))\n",
    "        \n",
    "        # color_img = cv2.resize(color_img, ) \n",
    "\n",
    "\n",
    "        # color_img = cv2.resize(color_img, (224, 224), fx=0.5, fy=0.5)\n",
    "\n",
    "        color_img = cv2.resize(color_img, None, fx=0.5, fy=0.5)\n",
    "\n",
    "        data[f\"camera_{camera_id}_color\"]=color_img\n",
    "\n",
    "        if use_depth:\n",
    "            depth_img = imgs[\"depth\"]\n",
    "            depth_img = cv2.resize(depth_img, (224, 224)) \n",
    "            data[f\"camera_{camera_id}_depth\"]=depth_img\n",
    "    return data"
   ]
  },
  {
   "cell_type": "code",
   "execution_count": 10,
   "metadata": {},
   "outputs": [
    {
     "name": "stdout",
     "output_type": "stream",
     "text": [
      "keys:  dict_keys(['camera_0', 'camera_0_color', 'camera_1', 'camera_1_color'])\n"
     ]
    },
    {
     "data": {
      "text/plain": [
       "((240, 320, 3), (240, 320, 3))"
      ]
     },
     "execution_count": 10,
     "metadata": {},
     "output_type": "execute_result"
    }
   ],
   "source": [
    "data = get_imgs()\n",
    "print('keys: ', data.keys())\n",
    "\n",
    "img_wrist = data['camera_0_color']\n",
    "img_front = data['camera_1_color']\n",
    "\n",
    "agentview_rgb=img_wrist \n",
    "eye_in_hand_rgb=img_front\n",
    "agentview_rgb.shape, eye_in_hand_rgb.shape"
   ]
  },
  {
   "cell_type": "code",
   "execution_count": 11,
   "metadata": {},
   "outputs": [
    {
     "data": {
      "text/plain": [
       "<matplotlib.image.AxesImage at 0x71a538930bb0>"
      ]
     },
     "execution_count": 11,
     "metadata": {},
     "output_type": "execute_result"
    },
    {
     "data": {
      "image/png": "[encoded data removed]",
      "text/plain": [
       "<Figure size 640x480 with 2 Axes>"
      ]
     },
     "metadata": {},
     "output_type": "display_data"
    }
   ],
   "source": [
    "plt.subplot(121)\n",
    "plt.imshow(agentview_rgb[:,:,::-1])\n",
    "plt.subplot(122)\n",
    "plt.imshow(eye_in_hand_rgb[:,:,::-1])"
   ]
  },
  {
   "cell_type": "code",
   "execution_count": null,
   "metadata": {},
   "outputs": [],
   "source": []
  },
  {
   "cell_type": "code",
   "execution_count": 12,
   "metadata": {},
   "outputs": [],
   "source": [
    "def get_current_obs(robot_interface):\n",
    "    last_state = robot_interface._state_buffer[-1]\n",
    "    # print(last_state)\n",
    "    last_gripper_state = robot_interface._gripper_state_buffer[-1]\n",
    "    \n",
    "    obs_dict = raw_obs_dict_generator.get_raw_obs_dict(\n",
    "    {\"last_state\": last_state, \"last_gripper_state\": last_gripper_state})\n",
    "    # obs_dict={} #rgb only \n",
    "\n",
    "    data = get_imgs()\n",
    "    img_wrist = data['camera_0_color']\n",
    "    img_front = data['camera_1_color']\n",
    "\n",
    "    agentview_rgb=img_wrist\n",
    "    eye_in_hand_rgb=img_front\n",
    "    # agentview_rgb=cv2.resize(img_wrist, (120, 120))  \n",
    "    # eye_in_hand_rgb=cv2.resize(img_front, (120, 120)) \n",
    "\n",
    "    # agentview_rgb.shape, eye_in_hand_rgb.shape\n",
    "\n",
    "    # obs_dict['agentview_rgb']=agentview_rgb.transpose(2, 1, 0)\n",
    "    obs_dict['eye_in_hand_rgb']=eye_in_hand_rgb.transpose(2, 1, 0)\n",
    "    return obs_dict"
   ]
  },
  {
   "cell_type": "code",
   "execution_count": 26,
   "metadata": {},
   "outputs": [
    {
     "name": "stdout",
     "output_type": "stream",
     "text": [
      "ee_states (1, 16)\n",
      "joint_states (1, 7)\n",
      "gripper_states (1, 1)\n",
      "eye_in_hand_rgb (1, 3, 320, 240)\n"
     ]
    }
   ],
   "source": [
    "obs_dict=get_current_obs(robot_interface)\n",
    "for key in obs_dict.keys():\n",
    "    obs_dict[key]=obs_dict[key][None]\n",
    "    print(key, obs_dict[key].shape)"
   ]
  },
  {
   "cell_type": "code",
   "execution_count": null,
   "metadata": {},
   "outputs": [],
   "source": []
  },
  {
   "cell_type": "markdown",
   "metadata": {},
   "source": [
    "### Now load dp policy"
   ]
  },
  {
   "cell_type": "code",
   "execution_count": 25,
   "metadata": {},
   "outputs": [
    {
     "name": "stdout",
     "output_type": "stream",
     "text": [
      "\n",
      "============= Initialized Observation Utils with Obs Spec =============\n",
      "\n",
      "using obs modality: low_dim with keys: ['joint_states', 'ee_states', 'gripper_states']\n",
      "using obs modality: rgb with keys: ['eye_in_hand_rgb']\n",
      "using obs modality: depth with keys: []\n",
      "using obs modality: scan with keys: []\n"
     ]
    },
    {
     "name": "stderr",
     "output_type": "stream",
     "text": [
      "/home/franka_deoxys/miniconda3/envs/robodiff_2/lib/python3.9/site-packages/torchvision/models/_utils.py:208: UserWarning: The parameter 'pretrained' is deprecated since 0.13 and may be removed in the future, please use 'weights' instead.\n",
      "  warnings.warn(\n",
      "/home/franka_deoxys/miniconda3/envs/robodiff_2/lib/python3.9/site-packages/torchvision/models/_utils.py:223: UserWarning: Arguments other than a weight enum or `None` for 'weights' are deprecated since 0.13 and may be removed in the future. The current behavior is equivalent to passing `weights=None`.\n",
      "  warnings.warn(msg)\n"
     ]
    },
    {
     "name": "stdout",
     "output_type": "stream",
     "text": [
      "Diffusion params: 2.528022e+08\n",
      "Vision params: 1.119709e+07\n"
     ]
    }
   ],
   "source": [
    "checkpoint = '/home/franka_deoxys/riad/diffusion_policy/duck_train/epoch_400_20250227_225952.ckpt'\n",
    "payload = torch.load(open(checkpoint, 'rb'), pickle_module=dill)\n",
    "cfg = payload['cfg'] \n",
    "workspace = TrainDiffusionUnetHybridWorkspace(cfg, output_dir=None)\n",
    "workspace: BaseWorkspace\n",
    "workspace.load_payload(payload, exclude_keys=None, include_keys=None)"
   ]
  },
  {
   "cell_type": "code",
   "execution_count": 27,
   "metadata": {},
   "outputs": [],
   "source": [
    "# get policy from workspace\n",
    "policy = workspace.model\n",
    "if cfg.training.use_ema:\n",
    "    policy = workspace.ema_model\n",
    "\n",
    "device = torch.device(device)\n",
    "policy.to(device)\n",
    "policy.eval()\n",
    "pass "
   ]
  },
  {
   "cell_type": "code",
   "execution_count": 28,
   "metadata": {},
   "outputs": [],
   "source": [
    "rotation_transformer = RotationTransformer('axis_angle', 'rotation_6d')\n",
    "\n",
    "def undo_transform_action( action):\n",
    "    raw_shape = action.shape\n",
    "    if raw_shape[-1] == 20:\n",
    "        # dual arm\n",
    "        action = action.reshape(-1,2,10)\n",
    "\n",
    "    d_rot = action.shape[-1] - 4\n",
    "    pos = action[...,:3]\n",
    "    rot = action[...,3:3+d_rot]\n",
    "    gripper = action[...,[-1]]\n",
    "    rot = rotation_transformer.inverse(rot)\n",
    "    uaction = np.concatenate([\n",
    "        pos, rot, gripper\n",
    "    ], axis=-1)\n",
    "\n",
    "    if raw_shape[-1] == 20:\n",
    "        # dual arm\n",
    "        uaction = uaction.reshape(*raw_shape[:-1], 14)\n",
    "\n",
    "    return uaction\n"
   ]
  },
  {
   "cell_type": "markdown",
   "metadata": {},
   "source": [
    "### test prediction on a obs"
   ]
  },
  {
   "cell_type": "code",
   "execution_count": 29,
   "metadata": {},
   "outputs": [],
   "source": [
    "def predict_action(obs):\n",
    "    \"\"\" \n",
    "    obs: 2x...\n",
    "    \"\"\"\n",
    "    np_obs_dict = {key:obs[key] for key in keys_select}\n",
    "    obs_dict = dict_apply(np_obs_dict, \n",
    "        lambda x: torch.from_numpy(x).to(\n",
    "            device=device))\n",
    "\n",
    "    for key in obs_dict.keys():\n",
    "        obs_dict[key]=obs_dict[key].unsqueeze(0) \n",
    "\n",
    "    \n",
    "    with torch.no_grad():\n",
    "        action_dict = policy.predict_action(obs_dict)\n",
    "\n",
    "    # device_transfer\n",
    "    np_action_dict = dict_apply(action_dict, lambda x: x.detach().to('cpu').numpy())\n",
    "\n",
    "\n",
    "    # step env\n",
    "    env_action =  np_action_dict['action']\n",
    "    env_action = undo_transform_action(env_action)\n",
    "\n",
    "    env_action=env_action.squeeze()\n",
    "    return env_action"
   ]
  },
  {
   "cell_type": "code",
   "execution_count": 30,
   "metadata": {},
   "outputs": [],
   "source": [
    "framestacker=FrameStackForTrans(2)\n",
    "keys_select = [ 'joint_states', 'ee_states', 'eye_in_hand_rgb', 'gripper_states']"
   ]
  },
  {
   "cell_type": "code",
   "execution_count": 31,
   "metadata": {},
   "outputs": [
    {
     "name": "stdout",
     "output_type": "stream",
     "text": [
      "ee_states (16,)\n",
      "joint_states (7,)\n",
      "gripper_states (1,)\n",
      "eye_in_hand_rgb (3, 320, 240)\n"
     ]
    }
   ],
   "source": [
    "obs_dict=get_current_obs(robot_interface)\n",
    "for key in obs_dict.keys(): \n",
    "    print(key, obs_dict[key].shape)"
   ]
  },
  {
   "cell_type": "code",
   "execution_count": 32,
   "metadata": {},
   "outputs": [],
   "source": [
    "keys_select = [ 'joint_states', 'ee_states', 'eye_in_hand_rgb', 'gripper_states']"
   ]
  },
  {
   "cell_type": "code",
   "execution_count": 33,
   "metadata": {},
   "outputs": [],
   "source": [
    "framestacker=FrameStackForTrans(2) \n",
    "policy.reset()\n",
    "\n",
    "obs_dict=get_current_obs(robot_interface)\n",
    "obs = framestacker.reset(obs_dict)"
   ]
  },
  {
   "cell_type": "code",
   "execution_count": 34,
   "metadata": {},
   "outputs": [
    {
     "data": {
      "text/plain": [
       "array([[ 0.48 ,  0.005,  0.162,  0.003,  0.03 , -0.008, -1.   ],\n",
       "       [ 0.478,  0.006,  0.175,  0.002,  0.024, -0.008, -0.998],\n",
       "       [ 0.499,  0.012,  0.151,  0.002,  0.017, -0.006, -0.998],\n",
       "       [ 0.499,  0.012,  0.157,  0.001,  0.015, -0.008, -1.   ],\n",
       "       [ 0.514,  0.012,  0.127,  0.002,  0.01 , -0.008, -0.999],\n",
       "       [ 0.538,  0.02 ,  0.148, -0.002,  0.011, -0.008, -0.998],\n",
       "       [ 0.534,  0.013,  0.118,  0.001,  0.005, -0.01 , -0.999],\n",
       "       [ 0.545,  0.019,  0.119, -0.003,  0.004, -0.009, -0.999]],\n",
       "      dtype=float32)"
      ]
     },
     "execution_count": 34,
     "metadata": {},
     "output_type": "execute_result"
    }
   ],
   "source": [
    "obs_dict=get_current_obs(robot_interface)\n",
    "obs = framestacker.add_new_obs(obs_dict)\n",
    "action_pred=predict_action(obs)\n",
    "action_pred"
   ]
  },
  {
   "cell_type": "code",
   "execution_count": null,
   "metadata": {},
   "outputs": [],
   "source": []
  },
  {
   "cell_type": "markdown",
   "metadata": {},
   "source": [
    "Safety Check"
   ]
  },
  {
   "cell_type": "code",
   "execution_count": 35,
   "metadata": {},
   "outputs": [],
   "source": [
    "import time\n",
    "import numpy as np\n",
    "import plotly.graph_objects as go\n",
    "from scipy.spatial import ConvexHull\n",
    "from scipy.spatial.transform import Rotation as R\n",
    "\n",
    "\n",
    "###############################################################################\n",
    "# 1) (Unchanged) Forward Kinematics & Safe-Set Utilities\n",
    "###############################################################################\n",
    "def dh_transform(a, alpha, d, theta):\n",
    "    return np.array([\n",
    "        [ np.cos(theta), -np.sin(theta)*np.cos(alpha),  np.sin(theta)*np.sin(alpha),  a*np.cos(theta)],\n",
    "        [ np.sin(theta),  np.cos(theta)*np.cos(alpha), -np.cos(theta)*np.sin(alpha),  a*np.sin(theta)],\n",
    "        [ 0,              np.sin(alpha),                np.cos(alpha),                d              ],\n",
    "        [ 0,              0,                            0,                            1              ]\n",
    "    ], dtype=float)\n",
    "\n",
    "\n",
    "def franka_forward_kinematics(joint_angles):\n",
    "    \"\"\"\n",
    "    Convert 7 Franka joint angles -> 4x4 transform in the base frame.\n",
    "    (Same code as used in your safe-set generation.)\n",
    "    \"\"\"\n",
    "    q1, q2, q3, q4, q5, q6, q7 = joint_angles\n",
    "    T1 = dh_transform(a=0,       alpha=0,         d=0.333,   theta=q1)\n",
    "    T2 = dh_transform(a=0,       alpha=-np.pi/2,  d=0,       theta=q2)\n",
    "    T3 = dh_transform(a=0,       alpha=np.pi/2,   d=0.316,   theta=q3)\n",
    "    T4 = dh_transform(a=0.0825,  alpha=np.pi/2,   d=0,       theta=q4)\n",
    "    T5 = dh_transform(a=-0.0825, alpha=-np.pi/2,  d=0.384,   theta=q5)\n",
    "    T6 = dh_transform(a=0,       alpha=np.pi/2,   d=0,       theta=q6)\n",
    "    T7 = dh_transform(a=0.088,   alpha=np.pi/2,   d=0,       theta=q7)\n",
    "    # Flange offset\n",
    "    T_flange = dh_transform(a=0, alpha=0, d=0.107, theta=0)\n",
    "    return T1 @ T2 @ T3 @ T4 @ T5 @ T6 @ T7 @ T_flange\n",
    "\n",
    "def joint_angles_to_end_effector_pose(joint_angles):\n",
    "    \"\"\"\n",
    "    Convert 7 Franka joint angles -> [x, y, z, qx, qy, qz, qw].\n",
    "    (Exactly the same as in your safe-set code.)\n",
    "    \"\"\"\n",
    "    T = franka_forward_kinematics(joint_angles)\n",
    "    x, y, z = T[0, 3], T[1, 3], T[2, 3]\n",
    "    rot_mat = T[:3, :3]\n",
    "    quat = R.from_matrix(rot_mat).as_quat()  # [qx, qy, qz, qw]\n",
    "    return np.array([x, y, z, quat[0], quat[1], quat[2], quat[3]], dtype=float)\n",
    "\n",
    "def normalize_quaternion(q):\n",
    "    norm = np.linalg.norm(q)\n",
    "    return q / norm if norm > 1e-6 else np.array([0, 0, 0, 1])\n",
    "\n",
    "def pose7d_to_6d(pose7d):\n",
    "    \"\"\"\n",
    "    Convert a 7D pose (position + quaternion) to a minimal 6D representation:\n",
    "    [x, y, z, rx, ry, rz] where (rx, ry, rz) is the rotation vector.\n",
    "    \"\"\"\n",
    "    pos = pose7d[:3]\n",
    "    quat = pose7d[3:7]\n",
    "    norm = np.linalg.norm(quat)\n",
    "    quat = quat / norm if norm > 1e-6 else np.array([0, 0, 0, 1])\n",
    "    rotvec = R.from_quat(quat).as_rotvec()\n",
    "    return np.hstack([pos, rotvec])\n",
    "\n",
    "def load_safe_set(file_path=\"safe_set_6d.npz\"):\n",
    "    data = np.load(file_path)\n",
    "    return data[\"safe_set\"], data[\"hull_equations\"], data[\"hull_vertices\"]\n",
    "\n",
    "def is_pose_in_safe_set_6d(query_6d, hull_equations, tol=1e-8):\n",
    "    A = hull_equations[:, :-1]  # shape (m,6)\n",
    "    b = hull_equations[:, -1]   # shape (m,)\n",
    "    norms = np.linalg.norm(A, axis=1)\n",
    "    distances = (A.dot(query_6d) + b) / norms\n",
    "    inside = np.all(distances <= tol)\n",
    "    return inside, distances\n",
    "\n",
    "###############################################################################\n",
    "# 2) Visualization (optional, unchanged from your snippet)\n",
    "###############################################################################\n",
    "def visualize_policy_predictions(safe_set, predicted_poses_7d, inside_flags, title=\"Policy Predictions vs. Safe Set\"):\n",
    "    hull_3d = ConvexHull(safe_set[:, :3])\n",
    "    fig = go.Figure()\n",
    "    fig.add_trace(go.Mesh3d(\n",
    "        x=safe_set[:, 0],\n",
    "        y=safe_set[:, 1],\n",
    "        z=safe_set[:, 2],\n",
    "        i=hull_3d.simplices[:, 0],\n",
    "        j=hull_3d.simplices[:, 1],\n",
    "        k=hull_3d.simplices[:, 2],\n",
    "        opacity=0.3,\n",
    "        color='lightblue',\n",
    "        name='Safe Set Hull'\n",
    "    ))\n",
    "    predicted_positions = predicted_poses_7d[:, :3]\n",
    "    colors = [\"green\" if flag else \"red\" for flag in inside_flags]\n",
    "    fig.add_trace(go.Scatter3d(\n",
    "        x=predicted_positions[:, 0],\n",
    "        y=predicted_positions[:, 1],\n",
    "        z=predicted_positions[:, 2],\n",
    "        mode='markers+lines',\n",
    "        marker=dict(size=5, color=colors),\n",
    "        line=dict(color='gray', width=2),\n",
    "        name='EEF Poses (Real Joints)'\n",
    "    ))\n",
    "    fig.update_layout(\n",
    "        title=title,\n",
    "        scene=dict(xaxis_title=\"X\", yaxis_title=\"Y\", zaxis_title=\"Z\")\n",
    "    )\n",
    "    fig.show()\n",
    "\n",
    "\n",
    "def push_pose_outside_safe_set_7d(pose_7d, hull_equations, margin=1e-3, tol=1e-8):\n",
    "    \"\"\"\n",
    "    If pose_7d is inside the safe set, push it slightly outside along the facet\n",
    "    with the largest distance. This ensures the resulting pose is outside by\n",
    "    at least 'margin'.\n",
    "\n",
    "    pose_7d: [x,y,z, qx,qy,qz,qw]\n",
    "    hull_equations: from your .npz file => hull_equations\n",
    "    margin: how far beyond the hull to push\n",
    "    tol: tolerance to treat as \"inside\"\n",
    "\n",
    "    Returns:\n",
    "      new_pose_7d: The pose (7D) guaranteed to be outside the safe set.\n",
    "    \"\"\"\n",
    "    # 1) Convert to 6D (pos + rotation vector)\n",
    "    pose_6d = pose7d_to_6d(pose_7d)\n",
    "    inside, distances = is_pose_in_safe_set_6d(pose_6d, hull_equations, tol)\n",
    "    if not inside:\n",
    "        # Already outside => return as-is\n",
    "        return pose_7d\n",
    "\n",
    "    # 2) Find the facet with the maximum distance\n",
    "    #    Typically, distances for an inside point are <= 0 or negative, but we pick\n",
    "    #    the largest anyway. We'll push along that normal.\n",
    "    i_max = np.argmax(distances)\n",
    "    d_max = distances[i_max]\n",
    "    A_i = hull_equations[i_max, :-1]   # normal vector\n",
    "    norm_A = np.linalg.norm(A_i)\n",
    "\n",
    "    # 3) Compute shift => we move (tol - d_max + margin) along the normal\n",
    "    #    so that the new point is just outside by 'margin'.\n",
    "    shift_6d = ((tol - d_max) + margin) * (A_i / norm_A)\n",
    "    pose_6d_out = pose_6d + shift_6d\n",
    "\n",
    "    # 4) Convert back to 7D => new position + orientation\n",
    "    new_pos = pose_6d_out[:3]\n",
    "    new_rotvec = pose_6d_out[3:]\n",
    "    new_quat = R.from_rotvec(new_rotvec).as_quat()\n",
    "    new_pose_7d = np.hstack([new_pos, new_quat])\n",
    "    return new_pose_7d\n",
    "\n",
    "\n",
    "safe_set_file=\"Safe_diffusion_policy/safe_set_6d_dummy.npz\"\n",
    "safe_set, hull_equations, _ = load_safe_set(safe_set_file)\n"
   ]
  },
  {
   "cell_type": "markdown",
   "metadata": {},
   "source": [
    "### Now run inference in loop"
   ]
  },
  {
   "cell_type": "code",
   "execution_count": null,
   "metadata": {},
   "outputs": [],
   "source": [
    "# # reset robot\n",
    "set_gripper(open=True)\n",
    "reset_joints_to(robot_interface, reset_joint_positions)\n",
    "set_gripper(open=True)\n",
    "policy.reset()\n",
    "\n",
    "images = []\n",
    "all_poses_7d = []\n",
    "all_inside_flags = []\n",
    "\n",
    "for _ in range(50):\n",
    "    # 1) Acquire user input\n",
    "    action, grasp = input2action(device=spacemouse, controller_type=controller_type)\n",
    "    if action is None:\n",
    "        break\n",
    "    if len(robot_interface._state_buffer) == 0:\n",
    "        continue\n",
    "\n",
    "    # 2) Get observation\n",
    "    obs_dict = get_current_obs(robot_interface)\n",
    "    img = obs_dict['eye_in_hand_rgb']\n",
    "    images.append(img)\n",
    "    obs = framestacker.add_new_obs(obs_dict)\n",
    "\n",
    "    # 3) Policy predicts an action (whatever format: delta pose, EEF pose, etc.)\n",
    "    #    We'll send it to the robot\n",
    "    action_pred = predict_action(obs)  # shape is up to your policy\n",
    "    # print(\"Raw policy prediction:\", action_pred)\n",
    "\n",
    "    \n",
    "\n",
    "    # 4) Let's say we control the robot with the first 4 predicted actions\n",
    "    for i, single_cmd in enumerate(action_pred[:4]):\n",
    "        print(f\"Sending to robot: action {i} =>\", single_cmd)\n",
    "        robot_interface.control(\n",
    "            controller_type=controller_type,\n",
    "            action=single_cmd,\n",
    "            controller_cfg=controller_cfg,\n",
    "        )\n",
    "\n",
    "        # (Optional) short delay for the robot to move\n",
    "        time.sleep(0.05)\n",
    "\n",
    "        # 5) Now read the *actual* real joint angles from the robot\n",
    "        #    e.g. shape (7,) => [q1, q2, q3, q4, q5, q6, q7]\n",
    "        js_real = robot_interface.last_q  \n",
    "        if js_real is None:\n",
    "            print(\"No joint angles read. Skipping.\")\n",
    "            continue\n",
    "\n",
    "        # 6) Convert those real joints => 7D EEF pose => 6D => safe-set check\n",
    "        eef_pose_7d = joint_angles_to_end_effector_pose(js_real)  # shape (7,)\n",
    "        eef_pose_6d = pose7d_to_6d(eef_pose_7d)\n",
    "        inside, distances = is_pose_in_safe_set_6d(eef_pose_6d, hull_equations, tol=1e-1)\n",
    "\n",
    "        # print(f\"   => Real Joints {js_real}, EEF pose {eef_pose_7d}\")\n",
    "        print(f\"   => inside={inside}, distances={distances}\")\n",
    "\n",
    "        # 7) Collect for final visualization\n",
    "        all_poses_7d.append(eef_pose_7d)\n",
    "        all_inside_flags.append(inside)\n",
    "\n",
    "robot_interface.close()"
   ]
  }
 ],
 "metadata": {
  "kernelspec": {
   "display_name": "Python 3",
   "language": "python",
   "name": "python3"
  },
  "language_info": {
   "codemirror_mode": {
    "name": "ipython",
    "version": 3
   },
   "file_extension": ".py",
   "mimetype": "text/x-python",
   "name": "python",
   "nbconvert_exporter": "python",
   "pygments_lexer": "ipython3",
   "version": "3.9.18"
  }
 },
 "nbformat": 4,
 "nbformat_minor": 2
}
