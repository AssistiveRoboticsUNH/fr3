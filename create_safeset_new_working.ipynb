{
 "cells": [
  {
   "cell_type": "code",
   "execution_count": 1,
   "metadata": {},
   "outputs": [
    {
     "name": "stdout",
     "output_type": "stream",
     "text": [
      "Available Demos: ['demo_0', 'demo_1', 'demo_2', 'demo_3', 'demo_4', 'demo_5', 'demo_6', 'demo_7', 'demo_8']\n",
      "Goal Index 139\n",
      "Generated 6795 candidate viewpoints; 21 passed FoV check.\n",
      "Demo demo_0: 21 candidate points passed FoV check.\n",
      "Goal Index 197\n",
      "Generated 9450 candidate viewpoints; 158 passed FoV check.\n",
      "Demo demo_1: 158 candidate points passed FoV check.\n",
      "Goal Index 198\n",
      "Generated 9360 candidate viewpoints; 102 passed FoV check.\n",
      "Demo demo_2: 102 candidate points passed FoV check.\n",
      "Goal Index 176\n",
      "Generated 8595 candidate viewpoints; 537 passed FoV check.\n",
      "Demo demo_3: 537 candidate points passed FoV check.\n",
      "Goal Index 258\n",
      "Generated 11970 candidate viewpoints; 22 passed FoV check.\n",
      "Demo demo_4: 22 candidate points passed FoV check.\n",
      "Safe set generation started for simulation environment...\n",
      "Safe set generation ended.\n",
      "Safe set (3D positions + orientation bounds) saved to 'safe_set_6d_simulation_seed_10_6.npz'.\n",
      "Sample 1 position is inside the safe set (position hull).\n",
      "Sample 2 position is inside the safe set (position hull).\n",
      "Sample 3 position is inside the safe set (position hull).\n",
      "Sample 4 position is inside the safe set (position hull).\n",
      "Sample 5 position is inside the safe set (position hull).\n",
      "Sample 6 position is inside the safe set (position hull).\n",
      "Sample 7 position is inside the safe set (position hull).\n",
      "Sample 8 position is inside the safe set (position hull).\n",
      "Sample 9 position is inside the safe set (position hull).\n",
      "Sample 10 position is inside the safe set (position hull).\n",
      "Sample 11 position is inside the safe set (position hull).\n",
      "Sample 12 position is inside the safe set (position hull).\n",
      "Sample 13 position is outside the safe set (position hull).\n",
      "Sample 14 position is inside the safe set (position hull).\n",
      "Sample 15 position is inside the safe set (position hull).\n",
      "Sample 16 position is inside the safe set (position hull).\n",
      "Sample 17 position is outside the safe set (position hull).\n",
      "Sample 18 position is inside the safe set (position hull).\n",
      "Sample 19 position is inside the safe set (position hull).\n",
      "Sample 20 position is inside the safe set (position hull).\n"
     ]
    }
   ],
   "source": [
    "import random\n",
    "import h5py\n",
    "import numpy as np\n",
    "from scipy.spatial import ConvexHull\n",
    "from scipy.spatial.transform import Rotation as R\n",
    "import cv2\n",
    "\n",
    "###############################################################################\n",
    "# Real-Robot Forward Kinematics Functions\n",
    "###############################################################################\n",
    "def dh_transform(a, alpha, d, theta):\n",
    "    return np.array([\n",
    "        [np.cos(theta), -np.sin(theta)*np.cos(alpha),  np.sin(theta)*np.sin(alpha),  a*np.cos(theta)],\n",
    "        [np.sin(theta),  np.cos(theta)*np.cos(alpha), -np.cos(theta)*np.sin(alpha),  a*np.sin(theta)],\n",
    "        [0,              np.sin(alpha),                np.cos(alpha),                d],\n",
    "        [0,              0,                            0,                            1]\n",
    "    ], dtype=float)\n",
    "\n",
    "def franka_forward_kinematics(joint_angles):\n",
    "    q1, q2, q3, q4, q5, q6, q7 = joint_angles\n",
    "    T1 = dh_transform(a=0,       alpha=0,         d=0.333,   theta=q1)\n",
    "    T2 = dh_transform(a=0,       alpha=-np.pi/2,  d=0,       theta=q2)\n",
    "    T3 = dh_transform(a=0,       alpha=np.pi/2,   d=0.316,   theta=q3)\n",
    "    T4 = dh_transform(a=0.0825,  alpha=np.pi/2,   d=0,       theta=q4)\n",
    "    T5 = dh_transform(a=-0.0825, alpha=-np.pi/2,  d=0.384,   theta=q5)\n",
    "    T6 = dh_transform(a=0,       alpha=np.pi/2,   d=0,       theta=q6)\n",
    "    T7 = dh_transform(a=0.088,   alpha=np.pi/2,   d=0,       theta=q7)\n",
    "    T_flange = dh_transform(a=0, alpha=0, d=0.107, theta=0)\n",
    "    Rz_neg_45 = dh_transform(a=0, alpha=0, d=0, theta=-np.pi/4)\n",
    "    T_panda_hand = T1 @ T2 @ T3 @ T4 @ T5 @ T6 @ T7 @ T_flange @ Rz_neg_45\n",
    "    return T_panda_hand\n",
    "\n",
    "def joint_angles_to_end_effector_pose(joint_angles):\n",
    "    \"\"\"\n",
    "    Convert 7 joint angles into a 7D end-effector pose:\n",
    "    [x, y, z, qx, qy, qz, qw].\n",
    "    \"\"\"\n",
    "    T = franka_forward_kinematics(joint_angles)\n",
    "    x, y, z = T[0, 3], T[1, 3], T[2, 3]\n",
    "    rotation_matrix = T[:3, :3]\n",
    "    quat = R.from_matrix(rotation_matrix).as_quat()  # [qx, qy, qz, qw]\n",
    "    return np.array([x, y, z, quat[0], quat[1], quat[2], quat[3]], dtype=float)\n",
    "\n",
    "###############################################################################\n",
    "# Simulation Process Functions (Corrected Sim Code)\n",
    "###############################################################################\n",
    "# 1) Utility Functions (Quaternion normalization, Spherical/Cartesian Conversions)\n",
    "def normalize_quaternion(q):\n",
    "    \"\"\"Normalize a quaternion, returning [0,0,0,1] if near zero.\"\"\"\n",
    "    norm = np.linalg.norm(q)\n",
    "    if norm < 1e-6:\n",
    "        return np.array([0, 0, 0, 1])\n",
    "    return q / norm\n",
    "\n",
    "def cart2sph(x, y, z):\n",
    "    \"\"\"Convert Cartesian to spherical coords (r, az, el).\"\"\"\n",
    "    r = np.sqrt(x**2 + y**2 + z**2)\n",
    "    az = np.arctan2(y, x)\n",
    "    el = np.arctan2(z, np.sqrt(x**2 + y**2))\n",
    "    return r, az, el\n",
    "\n",
    "def sph2cart(r, az, el):\n",
    "    \"\"\"Convert spherical to Cartesian coords.\"\"\"\n",
    "    x = r * np.cos(el) * np.cos(az)\n",
    "    y = r * np.cos(el) * np.sin(az)\n",
    "    z = r * np.sin(el)\n",
    "    return x, y, z\n",
    "\n",
    "# 2) Image Generation and FoV Helpers\n",
    "def generate_image_frame(img_width, img_height, point_coord, dot_dia=10):\n",
    "    image = np.zeros((img_height, img_width, 3), dtype=np.uint8)\n",
    "    cv2.circle(image, point_coord, dot_dia // 2, (255, 255, 255), -1)\n",
    "    return image\n",
    "\n",
    "def generate_camera_image(camera_pose, camera_fov, point_obj,\n",
    "                          img_width=640, img_height=480, dot_dia=10):\n",
    "    cam_pos = np.array(camera_pose[:3])\n",
    "    cam_quat = camera_pose[3:]\n",
    "    cam_rot = R.from_quat(cam_quat).as_matrix()\n",
    "    # For an orthonormal matrix, use the transpose instead of the inverse.\n",
    "    point_in_cam = cam_rot.T @ (np.array(point_obj) - cam_pos)\n",
    "    h_fov, v_fov = np.radians(camera_fov)\n",
    "    x_cam, y_cam, z_cam = point_in_cam\n",
    "    h_angle = np.arctan2(y_cam, x_cam)\n",
    "    v_angle = np.arctan2(z_cam, x_cam)\n",
    "    img_x = int((h_angle + h_fov / 2) / h_fov * img_width)\n",
    "    img_y = int((v_angle + v_fov / 2) / v_fov * img_height)\n",
    "    return generate_image_frame(img_width, img_height, (img_x, img_y), dot_dia)\n",
    "\n",
    "def is_inFOV(camera_pose, camera_fov, point_obj):\n",
    "    cam_pos = np.array(camera_pose[:3])\n",
    "    if np.linalg.norm(np.array(point_obj) - cam_pos) < 1e-4:\n",
    "        return True\n",
    "    cam_quat = camera_pose[3:]\n",
    "    cam_rot = R.from_quat(cam_quat).as_matrix()\n",
    "    point_in_cam = cam_rot.T @ (np.array(point_obj) - cam_pos)\n",
    "    h_fov, v_fov = np.radians(camera_fov)\n",
    "    x_cam, y_cam, z_cam = point_in_cam\n",
    "    if x_cam <= 0:\n",
    "        return False\n",
    "    h_angle = np.arctan2(y_cam, x_cam)\n",
    "    v_angle = np.arctan2(z_cam, x_cam)\n",
    "    return (abs(h_angle) <= h_fov / 2) and (abs(v_angle) <= v_fov / 2)\n",
    "\n",
    "# 3) Minimal 6D Representation Conversion (not used for hull but kept for completeness)\n",
    "def pose7d_to_6d(pose7d):\n",
    "    \"\"\"Convert a 7D pose (position + quaternion) to position + rotation vector.\"\"\"\n",
    "    pos = pose7d[:3]\n",
    "    quat = normalize_quaternion(pose7d[3:7])\n",
    "    rotvec = R.from_quat(quat).as_rotvec()\n",
    "    return np.hstack([pos, rotvec])\n",
    "\n",
    "# 4) Cube Creation (Candidate Viewpoints)\n",
    "def make_cube(cx, cy, cz, rotation, side=0.005):\n",
    "    half = side / 2.0\n",
    "    corners = np.array([\n",
    "        [-half, -half, -half],\n",
    "        [-half, -half,  half],\n",
    "        [-half,  half, -half],\n",
    "        [-half,  half,  half],\n",
    "        [ half, -half, -half],\n",
    "        [ half, -half,  half],\n",
    "        [ half,  half, -half],\n",
    "        [ half,  half,  half]\n",
    "    ])\n",
    "    rotated_corners = rotation.apply(corners)\n",
    "    rotated_corners += np.array([cx, cy, cz])\n",
    "    return rotated_corners\n",
    "\n",
    "# 5) Generate Candidates for Each Demo Using Cube Method and FoV Filtering\n",
    "def generate_candidates_for_demo(positions, goal_pose, num_samples=5):\n",
    "    n_points = len(positions)\n",
    "    deg_to_rad = np.pi / 180.0\n",
    "    max_deg = 5.0\n",
    "    max_side = 0.1\n",
    "    max_roll = 30 * deg_to_rad\n",
    "    max_pitch = 30 * deg_to_rad\n",
    "    max_yaw = 30 * deg_to_rad\n",
    "    lambda_decay = 1.1\n",
    "    camera_fov = (80, 80)\n",
    "    img_width, img_height, dot_dia = 640, 480, 10\n",
    "\n",
    "    goal_pos = goal_pose[:3]\n",
    "    goal_quat = np.array([0, 0, 0, 1])  # neutral orientation for sampling\n",
    "\n",
    "    dataset = []\n",
    "    total_candidates = 0\n",
    "    in_fov_candidates = 0\n",
    "\n",
    "    for i in range(n_points):\n",
    "        x, y, z = positions[i]\n",
    "        dx = x - goal_pos[0]\n",
    "        dy = y - goal_pos[1]\n",
    "        dz = z - goal_pos[2]\n",
    "        r_val, az, el = cart2sph(dx, dy, dz)\n",
    "        for sample in range(num_samples):\n",
    "            frac = np.exp(-lambda_decay * (i / (n_points - 1))) if n_points > 1 else 1.0\n",
    "            delta_angle = frac * (max_deg * deg_to_rad)\n",
    "            az_var = az + random.choice([-1, 1]) * delta_angle\n",
    "            el_var = el + random.choice([-1, 1]) * delta_angle\n",
    "            dx_var, dy_var, dz_var = sph2cart(r_val, az_var, el_var)\n",
    "            # Offset from the goal position\n",
    "            x_new = x + dx_var\n",
    "            y_new = y + dy_var\n",
    "            z_new = z + dz_var\n",
    "\n",
    "            roll_off = frac * max_roll\n",
    "            pitch_off = frac * max_pitch\n",
    "            yaw_off = frac * max_yaw\n",
    "            droll = random.choice([-1, 1]) * roll_off\n",
    "            dpitch = random.choice([-1, 1]) * pitch_off\n",
    "            dyaw = random.choice([-1, 1]) * yaw_off\n",
    "\n",
    "            # Use 'xyz' Euler order as in the simulation process\n",
    "            rot_obj = R.from_euler('zyx', [droll, dpitch, dyaw])\n",
    "            quat = rot_obj.as_quat()\n",
    "            quat = normalize_quaternion(quat)\n",
    "\n",
    "            candidate_center = [x_new, y_new, z_new, quat[0], quat[1], quat[2], quat[3]]\n",
    "            total_candidates += 1\n",
    "            in_fov = is_inFOV(candidate_center, camera_fov, goal_pos)\n",
    "            if in_fov:\n",
    "                in_fov_candidates += 1\n",
    "            img = generate_camera_image(candidate_center, camera_fov, goal_pos,\n",
    "                                        img_width, img_height, dot_dia)\n",
    "            dataset.append({\n",
    "                \"trajectory_idx\": i,\n",
    "                \"pose_7d\": candidate_center,\n",
    "                \"in_fov\": in_fov,\n",
    "                \"image\": img\n",
    "            })\n",
    "\n",
    "            # Also add the corners of a small cube around the candidate center\n",
    "            candidates_cube = make_cube(x_new, y_new, z_new, rot_obj, side=frac * max_side)\n",
    "            for corner in candidates_cube:\n",
    "                total_candidates += 1\n",
    "                candidate_pose = [corner[0], corner[1], corner[2],\n",
    "                                  quat[0], quat[1], quat[2], quat[3]]\n",
    "                in_fov2 = is_inFOV(candidate_pose, camera_fov, goal_pos)\n",
    "                if in_fov2:\n",
    "                    in_fov_candidates += 1\n",
    "                img2 = generate_camera_image(candidate_pose, camera_fov, goal_pos,\n",
    "                                             img_width, img_height, dot_dia)\n",
    "                dataset.append({\n",
    "                    \"trajectory_idx\": i,\n",
    "                    \"pose_7d\": candidate_pose,\n",
    "                    \"in_fov\": in_fov2,\n",
    "                    \"image\": img2\n",
    "                })\n",
    "\n",
    "    print(f\"Generated {total_candidates} candidate viewpoints; {in_fov_candidates} passed FoV check.\")\n",
    "    filtered = [vp for vp in dataset if vp[\"in_fov\"]]\n",
    "    return filtered\n",
    "\n",
    "# 6) Compute Global Safe Set and Convex Hull in 3D for Positions + Orientation Info\n",
    "def compute_convex_hull_all(all_candidates, all_main_states):\n",
    "    \"\"\"\n",
    "    Build a 3D convex hull for the positions and determine orientation bounds.\n",
    "    \"\"\"\n",
    "    candidate_positions = []\n",
    "    candidate_forwards = []\n",
    "    candidate_rotvecs = []\n",
    "    for vp in all_candidates:\n",
    "        p7 = vp[\"pose_7d\"]\n",
    "        candidate_positions.append(p7[:3])\n",
    "        quat = normalize_quaternion(p7[3:7])\n",
    "        candidate_forwards.append(R.from_quat(quat).apply([1, 0, 0]))\n",
    "        candidate_rotvecs.append(R.from_quat(quat).as_rotvec())\n",
    "\n",
    "    candidate_positions = np.array(candidate_positions)\n",
    "    candidate_forwards = np.array(candidate_forwards)\n",
    "    candidate_rotvecs = np.array(candidate_rotvecs)\n",
    "\n",
    "    main_positions_list = []\n",
    "    main_forwards_list = []\n",
    "    main_rotvecs_list = []\n",
    "    for states in all_main_states:\n",
    "        states[:, 3:7] = np.array([normalize_quaternion(q) for q in states[:, 3:7]])\n",
    "        main_positions_list.append(states[:, :3])\n",
    "        fwd = []\n",
    "        rotv = []\n",
    "        for s in states:\n",
    "            quat = normalize_quaternion(s[3:7])\n",
    "            fwd.append(R.from_quat(quat).apply([1, 0, 0]))\n",
    "            rotv.append(R.from_quat(quat).as_rotvec())\n",
    "        main_forwards_list.append(np.array(fwd))\n",
    "        main_rotvecs_list.append(np.array(rotv))\n",
    "\n",
    "    main_positions = np.vstack(main_positions_list)\n",
    "    main_forwards = np.vstack(main_forwards_list)\n",
    "    main_rotvecs = np.vstack(main_rotvecs_list)\n",
    "\n",
    "    all_positions = np.vstack((main_positions, candidate_positions))\n",
    "    all_forwards = np.vstack((main_forwards, candidate_forwards))\n",
    "    all_rotvecs = np.vstack((main_rotvecs, candidate_rotvecs))\n",
    "\n",
    "    # Build a 3D convex hull using positions only.\n",
    "    hull = ConvexHull(all_positions, qhull_options=\"QJ\")\n",
    "\n",
    "    # Determine the orientation bounding box (in rotation-vector space)\n",
    "    ori_min = np.min(all_rotvecs, axis=0)\n",
    "    ori_max = np.max(all_rotvecs, axis=0)\n",
    "\n",
    "    return all_positions, hull, ori_min, ori_max, all_forwards\n",
    "\n",
    "# 7) Save Safe Set + Convex Hull and Sample Random 6D Poses for Testing\n",
    "def save_and_test_safe_set(all_positions_3d, hull, ori_min, ori_max, all_forwards, num_samples=20):\n",
    "    np.savez(\"safe_set_6d_multiple_object_61_20.npz\",\n",
    "             safe_set_positions=all_positions_3d,\n",
    "             hull_equations=hull.equations,\n",
    "             hull_vertices=hull.vertices,\n",
    "             orientation_min=ori_min,\n",
    "             orientation_max=ori_max,\n",
    "             safe_set_orientations=all_forwards)\n",
    "    print(\"Safe set (3D positions + orientation bounds) saved to 'safe_set_6d_simulation_seed_10_6.npz'.\")\n",
    "\n",
    "    pos_mins = np.min(all_positions_3d, axis=0)\n",
    "    pos_maxs = np.max(all_positions_3d, axis=0)\n",
    "    samples = []\n",
    "    for _ in range(num_samples):\n",
    "        # Sample a position within the bounding box.\n",
    "        sample_pos = np.random.uniform(pos_mins, pos_maxs)\n",
    "        # Sample an orientation in rotation-vector space.\n",
    "        sample_rotvec = np.random.uniform(ori_min, ori_max)\n",
    "        quat = R.from_rotvec(sample_rotvec).as_quat()\n",
    "        sample_pose7d = np.concatenate([sample_pos, quat])\n",
    "        samples.append(sample_pose7d)\n",
    "    samples = np.array(samples)\n",
    "\n",
    "    tol = 1e-1\n",
    "    for i, s in enumerate(samples):\n",
    "        inside_pos = np.all(np.dot(hull.equations[:, :-1], s[:3]) + hull.equations[:, -1] <= tol)\n",
    "        print(f\"Sample {i+1} position is {'inside' if inside_pos else 'outside'} the safe set (position hull).\")\n",
    "    return samples\n",
    "\n",
    "###############################################################################\n",
    "# 8) Main Execution (Real-Robot Data Converted to Simulation Process)\n",
    "###############################################################################\n",
    "def main_execution():\n",
    "    # Use the real-robot data file containing joint_states.\n",
    "    file_path = \"/home/franka_deoxys/data_franka/imgsd_demo/demo.hdf5\"\n",
    "    all_candidates = []\n",
    "    all_main_states = []  # List to store 7D EEF poses for each demo\n",
    "\n",
    "    with h5py.File(file_path, \"r\") as f:\n",
    "        demo_keys = list(f[\"data\"].keys())\n",
    "        print(\"Available Demos:\", demo_keys)\n",
    "        for demo_name in demo_keys[:5]:\n",
    "            demo_data = f[\"data\"][demo_name]\n",
    "            obs_group = demo_data[\"obs\"]\n",
    "\n",
    "            # For real-robot demos, we assume joint_states exist.\n",
    "            if \"joint_states\" not in obs_group:\n",
    "                print(f\"Demo {demo_name} has no joint_states. Skipping.\")\n",
    "                continue\n",
    "\n",
    "            joint_states = obs_group[\"joint_states\"][:]\n",
    "            eef_poses_7d = []\n",
    "            for js in joint_states:\n",
    "                eef_pose = joint_angles_to_end_effector_pose(js)\n",
    "                eef_poses_7d.append(eef_pose)\n",
    "            eef_poses_7d = np.array(eef_poses_7d)\n",
    "            all_main_states.append(eef_poses_7d)\n",
    "\n",
    "            # Determine goal pose using gripper data if available.\n",
    "            if \"gripper_states\" in obs_group:\n",
    "                gripper_qpos = obs_group[\"gripper_states\"][:]\n",
    "                # print(gripper_qpos)\n",
    "                closed_indices = np.where(np.all(gripper_qpos < 0.02, axis=1))[0]\n",
    "                goal_idx = closed_indices[0] if closed_indices.size > 0 else -1\n",
    "            else:\n",
    "                goal_idx = -1  # Use the last pose if no gripper info.\n",
    "            print(f\"Goal Index {goal_idx}\")\n",
    "            goal_pose = eef_poses_7d[goal_idx]\n",
    "\n",
    "            positions = eef_poses_7d[:, :3]\n",
    "            candidates = generate_candidates_for_demo(positions, goal_pose, num_samples=5)\n",
    "            if not candidates:\n",
    "                print(f\"No candidate points for {demo_name}.\")\n",
    "                continue\n",
    "            print(f\"Demo {demo_name}: {len(candidates)} candidate points passed FoV check.\")\n",
    "            all_candidates.extend(candidates)\n",
    "\n",
    "    if not all_candidates:\n",
    "        print(\"No candidates from any demo. Exiting.\")\n",
    "        return\n",
    "\n",
    "    print(\"Safe set generation started for simulation environment...\")\n",
    "    all_positions, hull, ori_min, ori_max, all_forwards = compute_convex_hull_all(all_candidates, all_main_states)\n",
    "    print(\"Safe set generation ended.\")\n",
    "\n",
    "    save_and_test_safe_set(all_positions, hull, ori_min, ori_max, all_forwards, num_samples=20)\n",
    "\n",
    "if __name__ == \"__main__\":\n",
    "    main_execution()\n"
   ]
  },
  {
   "cell_type": "code",
   "execution_count": 2,
   "metadata": {},
   "outputs": [
    {
     "data": {
      "application/vnd.plotly.v1+json": {
       "config": {
        "plotlyServerURL": "https://plot.ly"
       },
       "data": [
        {
         "color": "red",
         "i": {
          "bdata": "PgQAAD4EAACNBAAAjQQAAHoBAAB6AQAAegEAAGoDAAAlAwAAIwMAAD0DAACdBQAADgYAAA4GAADUBAAA1AQAANQEAADUBAAA1AQAAK4DAACuAwAAMQQAAJcEAACXBAAAlwQAADYFAAA2BQAANgUAADYFAAA2BQAAuQUAAJoEAACaBAAAOwMAAO0EAADtBAAA7QQAAPgFAAD4BQAA+AUAAPgFAAA7BQAAOwUAADsFAABFBgAARQYAAEUGAAB/AQAAfwEAAH8BAAC3BQAAtwUAALcFAAC3BQAAtwUAADoCAAAgAwAAIAMAACADAAAiAwAAIgMAAG4DAACXAAAAlwAAAEwDAABMAwAAmgMAAMEFAADBBQAAwQUAAL0FAABKAwAASgMAAKUDAAClAwAAkwQAAJMEAACTBAAAbAMAAGwDAABsAwAAbAMAAGwDAABsAwAAbAMAAGwDAADSBAAA0gQAANIEAADSBAAA0gQAANIEAADSBAAA0gQAAAIAAAACAAAAAgAAAAIAAAACAAAAAgAAAAIAAAB1AQAAdQEAAHUBAAB5AQAAeQEAAGgDAABoAwAAaAMAAGgDAACYAAAAmAAAAJgAAACYAAAAmAAAAJgAAACYAAAAmAAAAJkDAACZAwAASAMAAJwDAACcAwAAnAMAAJ4DAACeAwAArQMAAK0DAABtAwAAbQMAAG0DAABtAwAAdwEAAHcBAAB3AQAAXgMAAFkDAAA0AwAAKAMAAKcDAACnAwAApwMAAKcDAACnAwAAeAEAAHgBAAB4AQAAeAEAAF0DAABdAwAAXQMAAF0DAABdAwAAXwMAAF8DAABfAwAAXwMAAFoDAABaAwAAWgMAADMDAAAzAwAAMwMAADUDAAA1AwAAKQMAACkDAAApAwAAKQMAACkDAAAxAAAAMQAAAJcDAABRAwAAUQMAAJQDAACUAwAAlAMAAJQDAACUAwAAWwMAAFsDAABbAwAAWwMAAFsDAABbAwAAVgMAAFYDAAAnAwAAJwMAACcDAAA2AwAANgMAADYDAAA2AwAAKgMAACoDAAAqAwAAKgMAAJYDAACWAwAAlgMAAFIDAABSAwAAUgMAAFIDAABSAwAAUAMAAFADAABQAwAAVQMAAFUDAABVAwAAVQMAAFgDAABYAwAAWAMAAFgDAABYAwAAWAMAACYDAAAmAwAAJgMAACYDAABUAwAAVAMAAFQDAABUAwAAPgMAAD4DAAA+AwAAQQMAAEEDAABBAwAANwMAADcDAAA3AwAANwMAADcDAAA3AwAANwMAAD8DAAA/AwAAPwMAAD8DAAA/AwAA",
          "dtype": "i4"
         },
         "j": {
          "bdata": "NQUAADUFAAA+BAAAPgQAAGsDAAAQAAAAEAAAAHoBAAAwAAAAMAAAAJQEAACxBQAATQUAAE0FAADEBQAAfQEAAH0BAAAQAAAAEAAAAD4EAACNBAAAPgQAAJ0FAACUBAAAnQUAAJcEAACNBAAATQUAANgFAABNBQAA2AUAAJQEAAChBAAAMAAAAJQEAACdBQAAnQUAAA4GAAAOBgAAxAUAAMQFAAA1BQAADgYAAA4GAAA1BQAADgYAAA4GAAAxBAAAxAUAAMQFAAA2BQAAuQUAAJcEAAA2BQAAsQUAAGkDAAAhAwAAaQMAAGkDAABpAwAAIQMAAGkDAAAjAwAAIgMAAEsDAABNAwAAmwMAAMQFAAC5BQAAuQUAALkFAABLAwAASQMAAKYDAABuAwAAlwQAAK4DAACXBAAAfwEAADEEAAB/AQAAfQEAAGoDAACuAwAAawMAAH0BAAC3BQAAvQUAALcFAADUBAAAvQUAAD0DAAA9AwAA1AQAAHYBAAB2AQAAaQEAAJcAAACXAAAAMAAAAAMAAACZAAAAdgEAAHYBAABqAwAAegEAACIDAAAiAwAAIwMAACUDAABpAQAAlwAAAJkAAABpAwAAOgIAADoCAAAiAwAAlwAAAJgDAACaAwAASQMAAKUDAACbAwAApQMAAKUDAAClAwAAkwQAAGwDAABuAwAAbAMAAG4DAABsAwAAdgEAAAMAAAB2AQAAngMAAJoDAABKAwAATgMAAK0DAACmAwAAkwQAAGwDAACtAwAAeQEAAHcBAAB5AQAAdwEAAFwDAABeAwAAXgMAAJwDAACcAwAAngMAAF4DAABuAwAAXgMAAFkDAABoAwAAWQMAADQDAABKAwAAMgMAADQDAAAoAwAATAMAACgDAABMAwAAKAMAADMDAAAlAwAAOwMAAJgDAABPAwAAKAMAAE8DAABOAwAAUQMAAE0DAACVAwAAnAMAAFoDAACcAwAAWgMAAGgDAABcAwAAmQMAAFcDAABZAwAAaAMAADUDAABIAwAANQMAACcDAAAnAwAAMgMAACkDAAAzAwAAKQMAAJUDAACXAwAAlQMAAJUDAABRAwAAUQMAACcDAAAnAwAAUQMAAJQDAACUAwAAlwMAAFYDAACWAwAAJwMAACcDAABZAwAAVgMAACcDAACZAwAAVwMAAGgDAAAnAwAAMQAAACcDAACWAwAAVQMAACcDAABVAwAAmgQAAD0DAACaBAAANgMAAEADAABIAwAANgMAAEEDAABBAwAAMQAAAD4DAAA7AwAAPQMAADcDAAA3AwAAPgMAAKEEAABAAwAA",
          "dtype": "i4"
         },
         "k": {
          "bdata": "LgUAAIABAAAuBQAAlgQAAHsBAAB7AQAAPAMAAGsDAAAkAwAAJAMAAOsEAADrBAAA2AUAAC4FAAB+AQAAfgEAAHsBAAB7AQAAPAMAAJYEAACWBAAAgAEAALEFAAB/BAAAlAQAAI0EAAAuBQAALgUAAL4FAADYBQAAvgUAAH8EAAB/BAAAPAMAAOsEAADrBAAAlAQAANgFAACAAQAA2AUAAIABAACAAQAAgAEAADUFAAAuBQAALgUAADUFAACAAQAAgAEAAH4BAAC+BQAAvgUAALEFAACXBAAA6wQAADkCAAA5AgAAOQIAACEDAAAhAwAAOQIAAGoDAAAwAAAAIwMAAH8EAAB/BAAAfwQAANgFAADYBQAAxAUAAMQFAAB/BAAAfwQAAH8EAACmAwAAjQQAAI0EAAB/BAAAMQQAAD4EAAB+AQAAfgEAAGsDAAA+BAAAewEAAHsBAAC5BQAAuQUAAOsEAADEBQAAxAUAAOsEAAA8AwAAPAMAAAMAAACZAAAAmQAAAGkBAAAwAAAAPAMAADwDAABqAwAAagMAAJkAAAB6AQAAPAMAACMDAABpAwAAJAMAACQDAACZAAAAaQEAAGoDAABqAwAAaQMAADkCAAA5AgAAIgMAAH8EAAB/BAAAfwQAAJ0DAAB/BAAAfwQAAJ0DAABuAwAArgMAAK4DAABqAwAAagMAAKYDAACmAwAAagMAADwDAAADAAAAnQMAAJsDAABJAwAATQMAAJMEAAB/BAAAfwQAAKYDAABsAwAAagMAAGoDAAA8AwAAPAMAAGkDAABpAwAAnQMAAJ0DAABcAwAAbgMAAJ4DAABpAwAAaQMAAJsDAABnAwAAZwMAAEoDAABLAwAASwMAAEkDAAA0AwAATQMAAE0DAABLAwAANAMAADQDAAAwAAAAMAAAAH8EAABOAwAATgMAAE4DAABNAwAAlQMAAH8EAAB/BAAAmwMAAJsDAABcAwAAaAMAAGkDAABpAwAAmAMAAJkDAABnAwAAZwMAACgDAABJAwAASQMAADUDAAAxAAAASwMAAEsDAAAyAwAAMwMAAH8EAAB/BAAAUwMAAFMDAACVAwAAKAMAAFMDAAAoAwAATwMAAE8DAABRAwAAmAMAAJgDAACXAwAAVgMAAFkDAACaAwAAVwMAAFYDAACaAwAAmQMAACUDAABoAwAAJQMAADEAAABTAwAAlgMAAFMDAAAnAwAAoQQAAJQEAACUBAAASAMAAH8EAAB/BAAAMQAAADYDAABAAwAAOwMAAD0DAAA8AwAAPAMAAEADAAA+AwAAoQQAAH8EAAB/BAAA",
          "dtype": "i4"
         },
         "name": "Convex Hull",
         "opacity": 0.3,
         "type": "mesh3d",
         "x": {
          "bdata": "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",
          "dtype": "f8"
         },
         "y": {
          "bdata": "rJS9Dvlv0T+slL0O+W/RP5mGrUH7f9E/kMBCpXzD0T/ZeQJJARDSP3Ly0RN8YtI/u0FQyZSu0j8eu9HlTf/SP3FBh4RfT9M/ka+CqnKg0z8QPaj1rvHTPx82bY2FP9Q/YNOzsZWM1D+3zXp91tnUPyWgBEtcItU/VuwY459o1T9LDw/ocrPVP5CbWOMLAtY/8mx14VRU1j8TKMcgIq7WP2RF5Sd8Cdc/himDV9gz1z9qX1Q74zHXPwsYUxs4LNc/RX4t2U4p1z/JuX/tsSbXPwSALO5lOdc/BtOqbodo1z8S0PVD3rDXP3s/CWL5Ftg/JNKVldCp2D8/3oMuGFrZP82XxSIIHto/TEbO56zr2j/YJdJxncLbP24+lia6ldw/kqdV/axA3T9y+RMHbBDePy2Z3lOt2t4/jOyjhBqa3z90n1XbDy7gP5s96BwXjeA/VYZ+Ddns4D+Yo0T9gErhP8e2n97Up+E/gvYk9lIB4j8xoIFViUriP83t0wJ4feI/SbGqRVqV4j+ALkzv1pziP4noxr0eneI/KUW2+3ma4j8YPPziXZfiP83xwfP9lOI/3wBoYj6S4j/1ICQdc4/iP+IpMPs0jeI/Damo9amL4j9bCUHmn4viP5HhpozhjeI/JrGtjzyS4j/8qhHfNpniPzSsAjp+oeI/rfiYS6ip4j8Oozd/t7DiP/1BvT6FtuI/v9DbCri54j8qF2sdibniP6KJ2ntdteI/FJfr1d+v4j9H8wXJOariP0GOnw+fpOI/oDKok92e4j+ECvtXb5jiP6ZIHEpTk+I/euaNeiON4j9iECl47oPiPyrAIKBze+I/+HfukCRy4j/v07ilu2fiP7k7TE/CXeI/EdedF5FT4j8+07ULmEbiPz14MbJsO+I/DMMhaSI04j8UOILUniriP5PcNUq5IeI/BthM6/wa4j98bANWOBTiPwBSU1i1DOI/Cy62i+oE4j/eDFw0kPzhP7CV3cJ18+E/dZk+Wezp4T+kX4rDbt/hPxBL6UiY1OE/XvlgfMjK4T8IiILGYMThP3rV/Dkxv+E/ALPmgLW94T+ZSu50j7vhPw6IOrEjuuE/+mK6FSW64T8MSEP/9LnhPzMzbG1XueE/fChuuuu44T9jRHpA1LjhP1uSvgOsuOE/vTq35YK44T+5T3eAdLjhP9yD0uhtuOE/OwWli1y44T8W35YFXLjhP9KznzFYuOE/z11/X1K44T9vG8/FRrjhP2fbVQhGuOE/d1Ki6kO44T+pif3hO7jhP44BWVE7uOE/EjsqjTa44T8h1pJxMrjhP8O+vgwzuOE/A1Qf/ym44T+9Ovp+K7jhP/Th84YkuOE/osnk5gy44T8LI9yj47fhP3qvK6Plt+E/qO3FAs+34T9k/F3uS7fhP7Nwr6ymtuE/D/MTeAe14T9dAJNQebLhP6PFS5LKruE/d0uflfGs4T9CknAnj6zhP/3MCzmerOE/oPmmTaqs4T/cs2xrhazhPx7sTofNq+E/eOYCEemr4T/De/H/2KvhP/6o8KSpq+E/jwFFfZqr4T8jd9p6k6vhP0UR+EKEq+E/48yXSYCr4T9HQgipeKvhP+9ta+10q+E/i7urT3Or4T+wOvYi2G/RP7A69iLYb9E/4vZhWTdu0T8iUtcdmpfRPzHqp1pu99E/kG/RWTlb0j/hx/hyzb3SP5lE6igkMdM/rMTjUE2m0z8bvXLR8TDUPywFPL6ewNQ/J8CkSv1P1T/hJ6bJwtvVPxHIltN3VdY/D9Y/B7a+1j/EvNqrVCLXPyN6mYjah9c/xCABFvra1z/+G48n/U/YP3ZvyjX5ntg/RIWH5gEW2T8FdpTHFF7ZP5gN/bTOtNk/86do01kG2j+6LPVv/VPaP24QkdNKpto/JD123Ez52j8EsMydl0jbP3pLZlSCkts/eO/bDLfS2z9EDBtIOQncP1nFRM/TOtw/JFDXUqVp3D/Op6ilSprcP18boXB2w9w/GITdpCvx3D83QbvSeR7dP9j0tt22St0/HiVMlud13T+sdzkN4JrdPxLireEiyd0/k140fb333T/125Z/fxjeP+Aml2sSOd4/UIrfThtX3j+/PIWZxmjeP0bm+VYkft4/unhBF7qN3j9CUTlueZTePzAWjvgSld4/MEfM3ZKb3j+xuc+izpneP2NE3BGwlt4/+VUUJNuM3j+a7eWyloHeP9iNAvnift4/iOaE4nl/3j8zKhCfFIfeP4qRdB22j94/iX7SjTWP3j90ta/0VJPeP5F553xZmd4/rcqoP0ag3j9gj6f4n67ePzZUjjkivN4/zubDfi/R3j+CRTngsOvePxcPwpcaBt8/8j+24Xwb3z/sclDYbDLfP1wVwPuCSN8/u0CiOgRb3z8jj+sl+mXfP++J6AJKct8/MAfvAC2f3z9rvmq5gtLfP3ZyND3UCuA/2o7bSgs34D8Z1xR3FGbgPyrgqI1tk+A/14uPRJK+4D/eb6Cnp+jgP/dU3TxFDuE/8sruCiAm4T9FJJsvmzHhPwwwUFuaN+E/nyy5KDM64T+ktTqLgDvhPza4vH6uPeE/U/XYmghC4T9NAWZ/gEPhP5LI7oSpQeE/WzIMsCs94T/ZLg1j/jnhP6Z3ewOsPuE/lwnO4LdM4T+YLDQF/FrhP+nmLoBud+E/NSIQd32R4T8wAa9KuqvhP3IPDhRHxOE/fRrEZGPb4T8jzHLfbOzhPzMsfs7r9OE/TBMKuhn64T+SjOwzlPzhP6IE8zFT/uE/bbN2wt8A4j8wLVSR8wPiP1CYY/FWB+I/dBohrZkK4j+VxUpv1AziPzodWfQkDuI/HgtRPHMQ4j8E2TlBEBPiP0RiuNICFuI/GR/hFogX4j8vEdKOBRniP3UaxbwdG+I/Tvpg8S0e4j8JKzf2vx/iP9ZnZ6IKIeI/0asemw0i4j+ORvBCgiDiPwrpSdSFGuI/dgYOIKwT4j+IxCDaigziP6ec7RB8BOI/gI3Eatz74T8kPEZikPXhP93r8hEO8eE/cC0kR/zt4T87/6LF9ezhP8lIDGV67eE/Z96F+urs4T97nce6YevhPzixA4iY6eE/gVLIg1Xl4T9+25wp/t/hP8Z0ykxh3eE/A/Hgz9/W4T9rDZuGx8rhP7Pyiq2Ot+E/IO9Usdqe4T9j542mvILhP+GEj+lDY+E/iayC8TpC4T/YumIKPx7hP54yZRxC++A/ntIGzfva4D/OdoXGzsHgP9+TcSuXteA/dO+Q+46u4D98qo1h/6fgP85Hmvf/oOA/3TOtnLOb4D8O0yhtN5fgP/HVEuc9lOA/XPGpDZ2S4D9+IiNvhJDgP1MbQWecjeA/2Vk6JpKK4D82uw/3/YfgP29CPqQWh+A/D/8WXjuF4D8vD6bc3YLgP17C9M6vgeA/SaeHK8mA4D8IFgKD4n/gPzRGMmEef+A/gYyGrDJ+4D+FqCL+Kn3gP6JiCClRfOA/aBHadGx74D/aZpVBrXrgP//akx0MeeA/TVv5ouZ24D+Ypwtp7HPgPwFjlQY5cOA/O/my6kRs4D+5/5cJkmfgP6rtJ0aqYuA/1zo5olld4D9TzUZ0mVngP8Q6Pq+3V+A/2O1TJaRX4D9OwTKqmFfgP3tuCf4YV+A/Cwx9TZNV4D/IWGA0NlXgP9Imoy98VOA/YDBlfJdT4D/horjmfFPgP6QJ2+N5U+A/hU1MIkdT4D9kRvfN7VLgP5queMY4UuA/Qsgnj4FS4D+ZnotZMlPgP6rvmWVRVOA/GYvPCuNU4D8m7WD/WlXgP03GllV0VeA/vvPx/31V4D9fmSk2g1XgPyCtz6qOVeA/j0K425JV4D8b68qilVXgPx/bqmOZVeA/Gk7SAJlV4D8jVOH7zG/RPyNU4fvMb9E/9UyacVBu0T+whp6gx2/RP7RZlFVBbNE/fiV3Rcpl0T+qoDx1XVjRPz1ffjrkQNE/gUocnVwu0T9Qgoao/BnRP5+cv6aHBNE/SJnzkTLr0D8bkzAqEtHQP8NSvI6lvNA/PHcmCJas0D8U355flZvQP9xNUtIQjNA/eoNvDCl+0D+9WYSErXfQPxrvgCTsftA/9ryWoWyD0D+PX5/FDo7QP3ORPa73qdA/KPSXLe3I0D+OMdTVN/bQP+H4d3TqLtE/PhpBcxdo0T+t2GiQbZrRP19w0DP6ydE/TkY8sWH20T/R1nCk1ybSP0wM0iNhXtI/5Of6Kr2X0j+sq4azqs/SPzYPjL4GBdM/OfnIA0s90z9Z7HdFzXLTP22im2VCq9M/FNpfHgnl0z+C6PKSgxjUP95o1daqRtQ/Ry5d/n9u1D+ZdMVHMJrUP4zU57YE0NQ//o7XsJYM1T/YX50HIFHVP6ZjYZ29mdU/IInh4Mzg1T9KmNdkQTbWPzEXC5GZidY/Q7YvuPre1j+290u6eTLXP1zHzF3/jdc/A9015GDm1z/R9/e8fC/YPxXRLCPnjtg/X4cek1oH2T8J5bjfq2jZP4BtHXGUudk/BX8EkCMZ2j9fS604aXjaPzYo/+CP09o/r/Vo8GAz2z8M8LgPBZnbP/hvzUU7Bdw/tEqtFSJz3D8XRC3+zeHcPwtGazf4R90/ZSONPQSc3T+ChLuXSerdP2CnHlkPK94/CJD3cfZk3j+GMyYkdZPeP7OQKf17qN4/PizS4r+43j/H/cJUX7/eP02D/NQWu94/vAfEwDi33j/XjZvUXq7eP2xhow97pt4/JgOZBzOn3j/bvQIf5bLePx6QpYbCv94/MVU7eBjI3j/jBw/hb8veP/Meu71bzd4/6tzn/EjR3j/2A2aKDNfeP9f4YNZt3N4/DttCw47f3j/d9CrNBNveP0antowy1N4/TYkEb/LN3j9G89ejjcHeP6Xt+Ubpst4/3cshETyh3j+a7xwXbI7eP73KKBDDet4/fA43ibhn3j/kgAmxUVbeP3rRw6A0Rd4/EUWmMLY23j+Jk603wyrePw9YAmxvIN4/95us+0MY3j/fbs71FA3eP35OsBZZBN4/+xU4jwT03T8kcZwhVuDdP4p3LmS4x90/OcXKvays3T/AitL0HpDdP6b/cQtQcN0/CWMD/qNT3T/m/8vwFjvdP/6+YgC0J90/UiOSB74Z3T9YEDRTyRTdPzBMcQrvFd0/KsGvIV8b3T+2Zjo1sSrdPx5pFtrRQt0/qRUWO99T3T/0hBeR82XdP7TGg9Szg90/iPCP5Tyf3T9cb1nGn7ndP9ngRbeC2N0/M9rvGv393T9ULjFxNCHeP+fPN+76Q94/LQCsNQdm3j8ECvTow4beP0OC3Ugoo94/Z+iu8xy93j+J7TuXqtDePyvxy3HX4d4/ESRo/gr13j/qr8DJOwffP2Bcv8ZpFt8/VRyhAGUl3z8qe1ScjjzfP+a0ZMGYWt8/jk7Vqot83z/ze4IP3JjfP3I6a39rpt8/N1E5ll+o3z9WF8eGe6jfP4nceLCCqd8/rqkGKHar3z8kQAfaf63fP7dWH7b+r98/Q3LXRIa03z9hPslIN7vfP/Gi9gRvwt8/DzQYZdbJ3z/3T1V3ttPfP7WrzRVj3t8/MmI/nBrp3z8p0odvrfPfPztF8GcI/t8/JavdNMAD4D8yS55eJQbgP/ogLnJkBeA/uo7PYYsD4D8/DjCL6QLgP8Pgv0C2AuA/UbUuOlwE4D8+RDj2AwrgP4jehGbNEeA/Dul6Iw0W4D+OPpifqBjgP6RfntMvG+A/zlhdHLsc4D896uIchh3gPzfQ2r/JHeA/5ivQ+u4d4D/ie1V0BB7gP/HWwCM1HuA/L2plbSge4D/q3DbCjR3gP3wuKMecHeA/nRz5FNEd4D/e4wmK+x3gP+ybJ7PkHuA/ud/hYjQg4D9zkFUwQyHgP6u/CeLkIeA/Ooenr6Yh4D8xu5wJHyHgP6rXyj3IIOA/QJvuIKgf4D+aXgMK6h/gP/bzQKCCH+A/vqbuMJMe4D+IO5OC/xzgP3ysobH2G+A/IKANs/sa4D9YxtLV8BjgP5kDb/juF+A/U4lYDywY4D8XdmeEbRjgPwHRicRoGOA/BtWphUEY4D9mB+k+OBjgPxPhv4ApGOA/tQnuICEY4D/zqWAvIhjgP568mi0ScNE/nryaLRJw0T8+VFuGQHTRP0uvRfSWqNE/7opiqljx0T/vycAcozLSP2YFhmeWitI/bd4KT6C50j8dV2hnsAnTP92Yp622XdM/xfnE2H+40z9Dv1wj5gzUPyXq7HdmVdQ/pSmVRn6W1D+CU/9tHuHUP1XmVOPAM9U/j8yjpzh+1T+B8Mp7KMjVP2kDpgoiFNY/Sycz9NNm1j+sKb3Gs7zWPzMsSct4Gdc/Utbnp8R/1z8LwRjo7OvXP0WB2m17YNg/NjBthaPc2D9QO/N8Ol/ZP5G3zjtG5tk/D4SbRpZx2j8XSKpU+gHbPwuQIjZkkNs/TlnS51Ed3D+4YYpkTavcPyAcQWruLd0/C/XVxoGk3T8AzAsStQzeP6J9z+ipX94/YqVF4JKU3j93GD/hK7reP9AZ6lOp1d4/ISlDhm3d3j9JI3qc7tjeP6k0r7560t4/5c/MVr3M3j+xCDAyQMXeP6xkyTDJuN4/qg0Ci/Kq3j9rCgSbcaTeP0vnZT3wmt4/IfOY+tGN3j957rbmqoDeP59pBJvEa94/rB6ukthO3j8IbsftHTHeP3CQwZzGEN4/i+iNBbT23T826oxMtdPdPzF4mGMZrt0/DddQIoOH3T/o5lgwTWPdP0Wcsg85Qd0/TgAz5x8i3T87zHFVsQXdP29BAr4h7tw/imDHobjX3D/FxsePRsLcPzq2G+zIr9w/2QDDSVud3D868UCV/IjcP7UPHZU5dNw/JKfP7xxg3D8I50HikkvcP6xZA8BDNtw/90TylSgh3D8WDAJ4Aw7cP82dsu/e+ts/Hkktg5Lt2z/qckmCLujbPzsY4yCj5ds/Cw3xA3Hl2z+iG84hO+TbPwaI/v6g49s/7vRGw+Dj2z/MviMwUuLbP3WMB/5+4Ns/UzknXhLe2z9MPeI3x93bP3nVKkLA3Ns///uhAN7a2z8BgfAHYNnbP2G+Omg019s/0KcC/LfV2z/I2cHqCNTbP/z4faAh0ts/bSd6lGjQ2z/sFHLJwc7bP6rFqpxdzNs/di0+zXbK2z+LFQrnD8nbPzeVAVANx9s/eITdy3XD2z+zi8l7h77bP4O9ftyBtts/wxh/5ems2z8BG6C3IaDbPzwfP83Rkds/25v+gfCC2z8SG0lHr3XbPwK0/naDads/PJS8nLFd2z8fZ9BRnFLbP4IIQNYZR9s/zF+P7t072z99ROl1BzLbP7KhO+yMKds/crK9EU4l2z+0UPYWDCXbPwDkDIK8Jts/VRro+Ooq2z9piJZlQC/bP6x6epQINNs/UEGux+042z/jWcYvvT/bP66kiWxoRts/8F9pRUtK2z/+YQ5LUE/bP7jXe6uHVds/fwdqnh1Z2z+zdAJOQV3bP2QlRwp3Xds/zDxNkshc2z8PvSTd6lrbP7agDy/XWNs/uhMtbm5X2z+0BUV7UVfbP4n85hYPV9s/wTtovRtW2z9fBGTMsFXbP/KYYDu4Vts/vxqzj7xZ2z9lSymV5l3bP27x1+KFZds/rh5nKINs2z9GCnVr8XDbP9QCqwWIc9s/EW6aj3N02z+gnJ7cbnTbP0OChyyQdNs/F7t3OMZ02z8cdVqvXnXbPxdzWRkMdts/Ik2SmGR32z8Bezx7h3nbP/zmGd7Ce9s/WvRJyGF92z+uT7KLT3/bP/qe0Ab2gNs/yhBZkFGC2z+lsHlkaITbP3v0aZe4h9s/5x/7gyiL2z82pT9vIY7bP9ezk1ZJkNs/7bF+0QCS2z/may3wm5LbP7Xuu0fnkts/FRHcJMCS2z9Cwf1BvZLbPwd813qikts/oZH+mKyS2z/AnReKr5LbP1LlzUaXkts/qz+nh5GS2z/86qWYu5LbP/VrrpIYk9s/msbXeDSS2z/gG0idu5DbPxIbtkdgj9s/vHlT9Z2O2z+1oDtsHo7bPyZM+pWljds/UNKoY3eN2z9z65qJU43bP0qGn8U/jds/0Oxh5TuN2z+b6mVOHI3bP6E1cZYsjds/ukiicSWN2z/ANgmbHY3bP2vAROYZjds/YM4DYhuN2z+pevBjE3DRP1YuUfc0bdE/n509zMtw0T8JlecKlKXRPxDedTgp1tE/MsjyKTcY0j8KybCfD1jSPyDYlubUpNI/VHjXV0X20j+YefrXl0rTP0A4hentpNM/kYWRPzz/0z/9nEd5rlbUP/US1SNPgdQ/2vK4nuuG1D8AXvA3H4jUP+puOuFbmdQ/jgDc5yfC1D/O8ZbtBwnVPzjEt2JhZ9U/FJivZAXO1T9HMv19ekLWP8CAv9gKwtY/9PJXufVP1z/DU3iuD+PXP0Yk91TGe9g/+Nm0obMc2T9jgK8H4MbZPxACdsBvcdo/VfDAVK8i2z87j90DydXbP7NnSBMoidw/LBEMILpA3T+cBAGASvvdP0zeNAY6sN4/i2qDioxi3z/5HnMmSwvgPz64dyN3ZeA/Wj3+04K64D+6evz+ZgzhP6q9dZ3pWeE/Sb2gIFyj4T+IcjHz3OrhPyWSO2AWLuI/2mHreFVq4j+ISTE3BpjiP9Q880hMu+I/qGDLqDXS4j/7fxOHG9riPyOdMyhy2OI/Lsn2Vh/W4j+xAK2g/9LiP5dwXj530eI/7OI3o/nO4j/yAZSUxsviP8R8I6wHx+I/HyQYup/B4j8i65I9FLriP8kn13PqrOI/xm4W7xyY4j/HD3HB0HniP0J53dXyU+I/1pZaBd0l4j/BfjkmhvXhP5aiLnYCyeE/Jjg5rCKf4T/tr9+tUIDhP31XFnzhbeE/R7KBCOBl4T8u5Zgpg2rhPznTrswFfeE//N9cj7mS4T/yqtLY9aThP8mKKDQvs+E/hwAemyO04T/8S8EYabPhP4QHtKkqseE/XnGE+mmz4T/S7/X8ssLhP7uvtftt6OE/n5916X4f4j/1L8cf4F7iP8cwmR4jl+I/7I3EI3LB4j9Ak1KY+9fiPwNHB2uE3+I/ryXaxnTd4j8dnEHt3NjiPyI12YuS1eI/yKAmeZnT4j+8OPJwsNHiP4V6F8G/zOI/nHry4bbD4j/He3sG57XiP0jm2OlApOI/b9gvAbCO4j+cZCvmxHbiPwT7TzA9XOI/1iir3ddB4j/huyKqhyziP0gXUseGFuI/ra/asB7+4T/2djwkVOXhP1vULr/80OE/Rz5N0lW44T+sbURLx6XhP/sPLxHUlOE/Ky5z/0OH4T8/sArq6HzhPw0CJXiyduE/cI4sSRpz4T9AqrlPz2vhPxdDwBYXY+E/wqdfjXRf4T9zzD4yEl3hPwXu/FkzWuE/KsfraN5Y4T+q0DkhqF3hP8xvKS2XYuE/P0LdYBpm4T9fI/GxGmzhPzSoxQLReOE/mpA4zLqP4T9czTzUAKrhP9AIRHIDw+E/Fv7bWEzY4T8MPHmGu+vhP/al5e7V/OE/OmN8RlwI4j95W58JYxHiPyZLlHtWHeI/8u8l8LQr4j+6zp69BjjiP1IdmjSbQeI/vpAafrZH4j/WG4zqyE3iP2QAgZ8AVeI/y1n18YVb4j/pwLcuD2HiPzvx677+YuI/AchTiqZg4j/oDOI2Y17iPwpf5nX3XOI/yn5lyRdb4j/A6Ele/VjiPyKMLL+GWuI/FxTmAXNg4j8AZMWMs2biP/sr36ZVbuI/z/qr58V34j9z5RkzHoLiP+VgItdni+I/7a/+9OqU4j9mUx8p8Z/iP3+7TvJrqOI/Nln8TVWx4j8mIqGs7rTiPyZY8yJYsuI/+TpGvWOq4j/fQJZ3np3iP3vOIJSMjeI/fJhV85154j8BO54hc2DiPyS7v8MiQuI/HZawg4Ye4j8QqgKI5PvhP565c/9i4eE/vpQCWnvR4T8bEhQ4HcnhPxzRk1S/wuE/d/gvGMG94T91w2EOrLrhP81WyVxxueE/Gdr8Moq24T84cccoTbLhPzsdqW08reE/L1rwfcOp4T8DaLvodKXhPxMmKfBToOE/WxHVw0iZ4T/sxbbqDZHhP0UwCDp1ieE/uq2tsO+C4T9e0Arwxn/hP95FTwq4geE/oOhkzkyG4T9+pneaZI3hP41s+CnsleE/t0buxRye4T8sEX1du6ThP0bvn5rdqOE/3bvaX8yt4T8EQ7vDx67hP9yECddiquE/vdu4cr6i4T8aM6mni5vhP8t3FtzXk+E/am2hL0eQ4T9iY22YmZDhP6X27vhNkOE/Oq+uZ/SO4T+KM5UNE4/hP2kT7h6QkOE/PRqdJRiT4T93OdODJ5bhP3pmEW/4meE/IUn5d+Sd4T/xo8EbFKLhP3NyqIeQpuE/FvIEzOGq4T+OyirVKa/hP7DSQrKbs+E/INnk9CG34T8Hldmk6bnhPwaYZdYDvOE/IFA0FIi94T/U3EWbXL7hP6ft7rTavuE/c9at3ti+4T/C79SugL7hP5u7pZi+vOE/0By7k+264T8V+bMJy7fhP2STmb1FtOE/Gsb1ZIyz4T8i2TeIMbPhPz811pE5s+E/GkSyrhKz4T9DYSxirbLhP+VuLfLmsuE/Zs82tgmz4T9LrjEbKrPhP4zH9ExMs+E/WJRJUkCz4T/2Nv6cN7PhP/J3CjQrs+E/XcxkXhmz4T+h9H7q7rLhP5wA/6L1suE/j3wEYhmz4T+1oV9LRrPhP0P8MD9us+E/pRrOLKmz4T+hPeWKBbThP0nt7RamtOE/mbMvuMq14T/OXwTsfLbhP6XvY74Pt+E/MHS0AaW34T/Ln1y/IbjhPxjJXTBbuOE/SjD0fDu54T8/xhZcfrnhP70ckBw1ueE/TJKqa2e44T+ZTbZMIbjhP+THBa4/uOE/AeaVFh+44T+hPTqtILjhP1nRkpYUuOE/1C8kaP+34T8dbLKhF7jhPwz3o58ouOE/2aV4wiK44T+lsZx5K7jhP9UpC2sxuOE/1nOkqpas4T/XYbmtm6zhP07hbfGarOE/8+OyOZas4T/z47I5lqzhPz9cQe+0rOE/gDmIoLes4T+AOYigt6zhPy4wviW5rOE/LjC+Jbms4T8AXQ5XzazhP6lKXLjOrOE/AF0OV82s4T8hU8gA0azhPwBdDlfNrOE/3LNsa4Ws4T/cs2xrhazhP9yzbGuFrOE/3LNsa4Ws4T/cs2xrhazhP9oZlDUaq+E/h68GQ5zj3T9X/JwbYkLeP2MURZ7R9N0/h0g2a58j3j/eh5d85z3eP6jO8D4FQt0/931vTK1g3T/WisTh3MvePx6fT2y3Ft0/Tzc8SivZ3z9q6VhhFkLdP+I/lwEz2t0/Ouvw/iMp3D87knXIbvrdP5M9z8VfSdw/bXQ0tUTk3j+u6H6kxPzdP7Ea8EPe4t4/bCDdrQvj3z+lzyoMC/reP68PWSj6zt4/A1vWi9Xn3j9xU1p510LdPxKsx9mb498/A1vWi9Xn3j9xU1p510LdPxwzWE9Z2d4/7DS7NVA43T9WFlUX5B3ePyYYuP3afNw/60/p9Bv+3T/snCLmlCbePzEd7394idw/6AYdclwO3j+kVVf/ae/fP5m8AV/iON4/HvQIcaqf3D+ozE87cCHePyVQus8k8t8/rZ8wuVHy3j9UD6oS9lzdPyVQus8k8t8/RrEDW3hi3j9GsQNbeGLeP+Y4q9Xw0Nw/mQ3YcQEw3z/KY5yH+CHgP28sbQuHEuA/9rPWtryg3j+bpK0rxRbdP5ozjvZ7bt8/9rPWtryg3j+bpK0rxRbdP5ozjvZ7bt8/fhQiLl+13j9eay0+chreP6FVmtwued8/mrWbvEHU3j8ctkRX8+jeP9vthubbtN8/i8hVz3d73j/oFK0QxxLfP8J5UEFnxN0/jyoYx6mM4D+jy7Tv86neP9xev8ieP98/4BcV2XW63j9LuRsq5x/gP4IqVxEzyN4/t58jeeJq3z82FX4ARjjePxKU7SDgqOA/+FlF0VKw4D8EoS1hK0fePweL9fURo+A/xvPzDlge3z+Qu8rioijfP7UMnXKAb94/ZumqzT0Q4D+Ff08UpergP0mot+RsDeA/+2jY1zFM4D9ZBxnlbl3gP3aA8H9uHd8/ozxWV+E63z9eCmGcckLgP72M83tMid0/FXZpmYuS4D+ynrx3londPxD/TZewkuA/6gjyxNSn3z+0NDVvFW/fP3Nvj8e6r+E/Yayw5Yku4D+0NDVvFW/fP3Nvj8e6r+E/pgPKqv534T9go3jj9mPgP17ZyZsb998/g9e2VcyK3j8WBVRYvObfP0VWq7J1beA/j7/ARJiY3z+k25njP13gP3i3PBFTJeI/514f8ltT3z+Zy10r0wfhP88FtR41D+A/xfV4Zsi54D+XZM/qxxrgP41UkzJbxeA/xtP/we284D91GGea3GXhP6wuK+qe798/fXezKbC54D8svBoCn2LhP8bT/8HtvOA/dRhnmtxl4T+S2D+MfP3gP9IvmpzKpOE/ktg/jHz94D/SL5qcyqThP3S8WPbztOA/EYgi429C4D+Mom9OjDXhP3PDGzg92+E/xgR/ESXt4D9Eq9MqN+vgPyvMfxTokOE/FMFOhu384D9OHlbGAU7hPzI3viQZ8uE/RMdW5ZYR4T8VZO1NGLThP/Xb7aePWuE/ACj8UR2d4D9KwuGUMxDhP1xSftDjYOE/oqi70tIB4j9pFOzrthrhP5d0KOiYZOE/XigP6UVZ4T/te+mSEqjgPwzNTqDhYuE/AuxwfF5d4T/4XBexdyXhPyw3Fn1Mw+E/aBritiJt4T+a0JkfNmzhPwLQOsYfbuE/RGIk31tp4T8vj3Jf9VHgP1O797H4UeA/Qsgnj4FS4D9CyCePgVLgP0LIJ4+BUuA/Qsgnj4FS4D9CyCePgVLgPwA/hglvvN0/xnV+xl+O3T8AVODKlXPdP6a829hJXt0/kdde3Qg63T+/xKRryAXdP64/D0Bv09w/PwCE9UHY3D8/AIT1QdjcPzNHnkakm9w/M0eeRqSb3D9LH6rkwWjbP2G1AznfYdw/5JSJAPMw2z9Fnd58lCfcP88LfSJiItw/hm3Mjrzq2j8CHuQg6N7bP4ZtzI686to/Ah7kIOje2z/Y9EArJ/PaP1SlWL1S59s/vG0uSqmp2z8GF5mi1cLaP2nLWCyRtNs/actYLJG02z8GF5mi1cLaPyXiRC85j9s/IoxrIKpu2z9T3P0wvYHaP15kDstIZNs/ocPkexN82j+DHaJzYXPbPyc4xwX1f9s/em77DlXB2z99GNayDdnbPyASZxxR9ts/9ggupsx43D/OvgYo+WjcP5mEDlwy2tw/rUw8+eR23T8B1j6kuGjdP0FCGxDDu90/PuvRAWQi3T+U2o3VGfDdPzCTOkglL90/80c+Jsj63T+2Fp1zu0HeP6HzT7fEP94/BpwY5BgX3z9mdm0r2mTdPwBC2CdvLt4/qo5bWn113j8aS0dZr7fdP7QWslVEgd4/NCYWAb/k3T/7gRolS6zeP9MQQSHN3t0/mmxFRVmm3j80wAUfKuPePxYRaHV6qd4/lN7mJnHY3j+Rrq4lgMnePwb02n5AA98/ka6uJYDJ3j/+UgjK1QffPyo12tPymd8/tmEJfC3h3z8rxMSR8u7eP2ZpQmfbHt8/p6+8/Irh3j9rYgJsywffP1iYT16fh94/N908pDlH3z833TykOUffP22d3p34D98/MokxEBf93z8HMRXSonXeP69cxMtMM98/HscrAjFw3z8EIi1ViQzgP+xIv+bplN4/v1ASXahQ3z8bRVU4A4/eP+5MqK7BSt8/tDOfptCU3j+HO/Icj1DfP0ZcBG5wHeA/+iPCIRgX4D/6I8IhGBfgP7du5VrRoN8/QtkhTC+y3j9Lfnj9BmzfP0nf7UQo098/WMbS1fAY4D9YxtLV8BjgP1jG0tXwGOA/WMbS1fAY4D9YxtLV8BjgP9gn8PHlFuA/khC7DOYW4D/YJ/Dx5RbgP2iDTzqIH9w/DRzdSGa63D9ionVrAvDcP2dlCAw81ts/zuHmyC612z/O4ebILrXbP11OlttoAts/Y2uMmFwc3D+60Q8/VHLbP2NrjJhcHNw/fC5CZIFG2z8fWLOD17fcP5VvYUJsCtw/ekx3uLvr2j+SvrOVjX3cP0iyDNThyds/IrtETeDC2j8u1JiTCxvbP3n3uwU1nto/vjIqf8vz2j97nlIGQJnbPyO5d39edNk/5gmLY9Uz3j/Y5WNDsj7ZP6YKM3AiT94/eoDOP15B2j/FYf6sRTnZP2DyUH0qBt0/LeAoKY/q2z/3EWjiWTnaPwY84I4EPNo/WksWYvvi2z8AYdhBdTnZPz15ev5eAd0/ahssKU7g2z+PHAu1bTnaPxDdzgmv4ts/Gd1TyRdU2j/a2UFg41TbP/cADii6Uts/6nixtc5v2z8MPrg1JzzaP+D4FrrpXtk/4PgWuule2T9AZACiwm3bP/x1uzDNP9o/rMHW2E9X2j+EpoAuxlnaPw5b+31eQNo/4ojSWeFm2T9ep+vQL7naPyYi01k7J94/XBJ1lUrT2z+4cP7y8FHZP6hmrCWlzts/9w+2arPa2z94LDxxkmPZP3gsPHGSY9k/Abb+gqKh2j/kitjcEaraP3z0LlgkMdo/2XLxhTyh2j/oDzGT85/aP5nk+KcCZdk/zE4Lb2Kg2j+sf3IVRp/aP5cc3mVyRts/zD5ApK2f2j8rXYsVcUraP85gjDXcQNo/zmCMNdxA2j9FmQwWZETbPzWOJWJ1nNo/pK0szp8+2j/cFy2J9zbbP4gzNCUcPdo/r468YzJz2T/5mpct0ovaP4HAJQO1SNo/QezcgPZG2j9B7NyA9kbaP5F3oNWac9k/c+oTxiOf2z9r+JZ0nDfaP2v4lnScN9o/YdncGUE22j+a0OFVI2fZP/VRaGa1Mts/E8HHDiuG2z/S6C1PDnjaP5h54LiQZNk/vuE1+EDE3D8JpaEAqSfbP2wzNWc5fts/0/zi8ztq2z+ivlSuyl7ZP5zQRqP6udw/TG+5Q35q2z9GDJ7TZy3aP2KC4fv1ENs/vxGMVktX2T/uNSkOiqncP5VbXKIwCto/AK0HtH392j9V0CLd5XjdP/f/sZOU+do/JiRPS9NL3j9td46ZoWDdP8XwZHYa9Nk/rXkRKZX22T935bQv2zPcP1v8LxmmHNk/goIe7Adm3D+VkvLra+HZP9WsIDqEINk//DIPDeZp3D8T58aaYSfdP2C53tmE+ts/gfcB3pq92T8tU13MdfTbP3e4TLEC19o/FVPYN8/d2j+Gy1idkdfcP/8RL/oJ2ds/IbN72YiS2T8CF95iCrTcP20R0SPNYNo/nTPhfQmd3T9PnWFtesXaP++r+yJ7fNk/TH1R3R+Q3D92TUgdYYfZPw4J6ktwmdw/aQjOWIPg3D9j0mLt26bbP+PVhjI9wtw/nmTMl3un2D9ctItbDdvbP0WoN/ELlto/vDPzmKqA3D9UvMEDK2fcPygiCPI4Sdk/ekAqJNlV3D/AEsqDC6ncP8R7TQRbGdo/y5Ge9Z5I3T+gE4/zJZPcP1qBbxV2Ido/IV85KnFM3T+xIwk66C3ZP2aAfJuFM9w/Qr7e/MaQ2D9nZSAnfrfbPyicxbdoS9s/GY3MHlV63D/OXxp2Xx/ZP++Xdkl8Idw/CIf7Xjg72z8TcMGKVenZPw+5l7jNC90/mmeDTT8T2T+6n98gXBXcP0OHUdNeb9g/P9AnAdeR2z8Y+WqP/PXZP5YRFqs6FN0/3d6kJvfU2T9b909CNfPcPy9ECZ7jM9s/L0wFU9Be2D+tZLBuDn3bP55hkvrJeNg/7PV66tKS2z8CQZHrzi/cP1RP2sMPVds/TG01tMlf3D8kskWZMzrbPyOvmSC7WNs/L9dgfLlE3D97V47k2VrcP3wjO3IGOd0/t77l+uMv3D97V47k2VrcP6BQU1cUTNw/oYHyPjdi3D/zLj0tUEfZP0qEq+T1N9w/pacdnYNp2z+hF6rRcS3dP+jJnrm0+Nk/jZ2PZjsG3T+iXq51pyjdP25qnqVFRdk/JBqW/m8y3D90zR6DizrZPyp9Fty1J9w/dM0eg4s62T8qfRbctSfcPxXDJOVBZts/XqImkD7r2j8UHupznLjYP8Sq84Pkvds/aJS8REw73T9JHcC5s2fbP16iJpA+69o/FB7qc5y42D/EqvOD5L3bP2Pey05ccdw/E+zgLb5q2T/w19cz9VDcP3Ftq4Jqe9w/s01grnFe3D9zU9vCkoncPxPs4C2+atk/8NfXM/VQ3D9yZ28TMYfcPysKjOd1atk/1vvYGjVN3D/0+RqvhIbcP3JnbxMxh9w/w3vK87n82j+n0YOKvdHYP0gtyCBDl9k/T1SFPNrO2z/wr8nSX5TcP94QcZ9dmtw/bK1lzJ0J2z+wZlJwauLYPyUZYK7Dpdk/skGQoXjb2z8n9J3f0Z7cPyPKOIwpBds/k25tOdh82T8/c9HpIFzcP2pePqoDadw/bK1lzJ0J2z+wZlJwauLYPyUZYK7Dpdk/skGQoXjb2z8n9J3f0Z7cP6rxlMnML90/lNUgiw9y3D/vjJzBHgnbP7sQZdPwgtk/lZgHG77B2D/0gn9gxF7cP84KIqiRnds/w1t12pei3D8jCdSvTI/cP0mBMWh/UN0/huTG7pig3D+UdSrmql/dPzyjyHM5Wd0/sI+GiRoW2z/WpGNVZefbP+M1x0x3ptw/iCTzOqQe2z/U4JUp5bPbP5R1KuaqX90/kr0mLsul3D8JTIwbwmLdP/sQ4EtqH9s/lKiwn3K12z/MYc1GaTvdP/sQ4EtqH9s/lKiwn3K12z8Fb/rerJ/cP3z9X8yjXN0/RZY4INY+3T/2vHmT9IPcP2o5w5qEJ9s/RrFfzE2+2z+Uih5ZL3ncP+geqmI4Yt0/gpbUSEQs2z9g/iCf9BPZP6/X3yvWztk/CzfXVfj82z9aEJbi2bfcP4zRdkTUP90/Pfi3t/KE3D+O8TJn8SfbP5BwwJ1X+Ns/lUqhZSmx3D/FFSymhy3bP3Xo/iXPr9k/cA4eXv322D+wTkER3X3cP6t0YEkLxds/5PhAr3te3T9tVGNXLkLdP2d6go9cidw/S/Dr0FNB3T9FFgsJgojcPzOBDPeRJts/m4XCSnCt3D9IxWXZl17dP6C+Cy2cJds/P9zX+/qp2T91voRqM/PYPzzaxoGbdNw/crxz8NO92z8zgQz3kSbbP9Ke2MXwqtk/CIGFNCn02D/PnMdLkXXcPwV/dLrJvts/oNyc/5U33T/WvkluzoDcP5znTn7HIts/xfqgLzup2T+fge1TePTYP4EprAZwcNw/W7D4Kq272z+lBbKUE6LcP8t+ZXDWVt0/mU2wqBZR3T/OGARGhyjbP/crVvf6rtk/0bKiGzj62D+zWmHOL3bcP43hrfJswds/HqCjXR1Q3T+FnxJqoXrcP9uuN/+NHts/xc/TrsSg3D+FnxJqoXrcPzD37zeSHds/GhiM58if3D/brjf/jR7bP5O3R3gbuNs/ot/9Ed9q3D/9RbJx8yfdP3NajLMpd9w/4IQnSudA3T9WmQGMHZDcP+CEJ0rnQN0/6CSpieVB3T+t1EVQ9SDdPyPpH5IrcNw/kbaz/qVD3T9gl/SNdCHbPyRcwbu8Htk/A4Gl95HN2T+ay3m/PfDbP3nwXfsSn9w/E9KZmo8g2z/XlmbI1x3ZP7a7SgStzNk/TQYfzFjv2z8sKwMILp7cP72tQyRXddw/kbaz/qVD3T/Pvcg+PR/dP0jP3zhXctw/wkoUbDtz3D+tH9I+7SDbP6U9fm9OvNs/LSxndTRp3D+I0F9n+hnbP4DuC5hbtds/CN30nUFi3D8ncpK59xrbPzro+bZPltw/3JEzfVYz3T+vqE2yZTjdP9oLCCgSGds/ulOIdieS3D+tIiJdIR7bP4DPORfZrtk/q5z2B90D2T+aDNrzDmXcP8TZluQSuts/2gsIKBIZ2z/kIEVnK+fbP7pTiHYnktw/ET+JhG5s3D/Jv1SAgA/dP17/OzVpZtw/fP+hz4UV3T8RP4mEbmzcP0jdGjeDhNw/s50zgpot3T8RP4mEbmzcP9Fc/MTeK90/QE5DNmka2z8EZkOkarfbP5zC6VCiXtw/PtgXMf9m3D+vjpAMaRnbP2zVNiIEjtw/nVtVGrAx3T+W/FQNFCXbPwqeyTqVwts/rnEJYvJn3D8bxUNBnx/bPxMQv5al7Ns/tuP+vQKS3D+PGnUtABLdP+xGNQajbNw/wqOhxq0z3T+A8bBmlDTdP3wiVRpplNw/lymlyPA33T9mOV6GonLcPyyqgJUrLds/3DGsEO7F2T/BKlxiZiLZP9V0GNiubtw/um3IKSfL2z8sqoCVKy3bP9wxrBDuxdk/wSpcYmYi2T/VdBjYrm7cP7ptyCkny9s/Nt/OPREu2z8BPXgWufrbPxxEyMRAntw/Q6EfovI82z9vxd+ZOgncP56/OM/xqtw/LRFvAq4m3T/WJJR4UaHcPwYf7a0IQ90/tWvBX7w42z8QitqMu6bcPwYf7a0IQ90/LU8BMQdH2z9g6dfk5+XbP8eeJYMQRts/ukUM6+Kx3D/HniWDEEbbP4JpGDv3Edw/ukUM6+Kx3D/p9IHWxk3dP/2uOI85St0/nuNiGSFT2z/+OdQ3pR7cP1hLpUnKvNw/910x+ztS2z9XtKIZwB3cP7DFcyvlu9w/eMc9WTVQ2z8vzrsEpo3cP3eoEFEAltw/vXmayDlP2z90gBh0qozcP3vQ6CLCvtw/hiSB+Y1U2z9GUJp6P/TbPyConnb7Ut0/qxGe8XpP3T9qbbY9FVHdPw1Uf1ZzVts/2MDoMCyR3D9MCTHa/FjbP+FE5a5Zktw/te0cQiaa3D8VJIlhZlfbPwjd58y6Idw/WQcf9qi63D8GHLdi4VnbP0otNA5Q+ts/Bhy3YuFZ2z9KLTQOUPrbPzayNSEzsdw/z0pKRKtX2z+x7mFdcfjbP+zJvnxLl9w/dpc5xzxZ2z+BvyOPPZHcP3aXOcc8Wds/WDtR4AL62z+RLA9Ln5jcP7/cLq6lWds/Wo89a0qQ3D/49HF6KbfcP3s9F6AjV9s/mvqmfTz42z91qJcftbjcP9fZlOapuNw/fyBupWNE3T/G5Xq2YbHcP3s3qkhdWNs/SKrzknYh3D/2IGxCWLXcPw2ftTXulNw/pqgLyP9c2z9bf9+UrSXcPxF/6pcsl9w/Pt+N07tA3T/mLVdxyT/dP93S0MAhXNs/i5TtfdL92z8JddHnWa/cPwRM3ppyXds/WbdzubMl3D8JddHnWa/cP7ct/XjKY9s/r58wy/+U3D/cKOeb0rHcP5T6e53Ps9w/AEvC6eFg2z/4vPU7F5LcP5gNzwLRQN0/3nhqvKSe3D+3hvItPbrcP/EMncUlaNs/ZM+o/Aos3T8o27uzUWfbPz0bukTFCdw/EMMyHNmc3D8fRzAZxmjbP+hpfDq6L9w/xDC2fnUq3T9RomO8E77cP9SS48lPK90/HrcvUcih3D/Jxf+OeyrdP1+zP/27bNs/QA8z3z4z3D9ZIcbRjKPcP/AkdK8+cts/UxDEk/Ms3T+3cmTG23TbP2nG5OZ4Otw/MGidSvVy2z9W7LiFRHfbPzw6reNZf9s/nCqHBPF+2z+JO+UHdIXbP0PDcwCfi9s/4BtInbuQ2z/gG0idu5DbP+AbSJ27kNs/4BtInbuQ2z/gG0idu5DbP6E1UVK3uOE/l+dwcKi44T/z5utKGbjhP/Pm60oZuOE/8+brShm44T+g5GGPKrjhP29vEGcZuOE/BOewPFm44T/Kj4cmZLjhP81o/g5kuOE/yo+HJmS44T+GtDIsWbjhP+h+Js4guOE/NDm0MRq44T/Xd9YyGrjhPxVrjM4guOE/6H4mziC44T+hPTqtILjhP6E9Oq0guOE/oT06rSC44T+hPTqtILjhP6E9Oq0guOE/",
          "dtype": "f8"
         },
         "z": {
          "bdata": "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",
          "dtype": "f8"
         }
        },
        {
         "marker": {
          "color": "blue",
          "size": 3
         },
         "mode": "markers",
         "name": "Safe Set Positions",
         "type": "scatter3d",
         "x": {
          "bdata": "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",
          "dtype": "f8"
         },
         "y": {
          "bdata": "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",
          "dtype": "f8"
         },
         "z": {
          "bdata": "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",
          "dtype": "f8"
         }
        },
        {
         "anchor": "tail",
         "colorscale": [
          [
           0,
           "rgb(247,251,255)"
          ],
          [
           0.125,
           "rgb(222,235,247)"
          ],
          [
           0.25,
           "rgb(198,219,239)"
          ],
          [
           0.375,
           "rgb(158,202,225)"
          ],
          [
           0.5,
           "rgb(107,174,214)"
          ],
          [
           0.625,
           "rgb(66,146,198)"
          ],
          [
           0.75,
           "rgb(33,113,181)"
          ],
          [
           0.875,
           "rgb(8,81,156)"
          ],
          [
           1,
           "rgb(8,48,107)"
          ]
         ],
         "name": "Orientation Cones",
         "showscale": false,
         "sizemode": "absolute",
         "sizeref": 0.02,
         "type": "cone",
         "u": {
          "bdata": "7EkYqBuegT/sSRioG56BP6MkHeJ7NIE/BY9o5KGqgD9HiWG11hKAP3ElZnb07X4/cElwTkSJfT8kE8AYGyJ8P1eIp/9DpXo/lVvj1IUleT+DKSsgeKJ3P0EqfdQQOXY/pa2ptnHUdD/DhWHPFnBzP8qAQ7LkIXI/NydRzLD0cD92Mv8SDBFwP4rrRPQxxG4/TnvxgvfEbT+xt8djBDxtP4oDyeIhQG0/usiUjxo9bj/KUEuZiLVuPwxI3wRynW4/6IrWOe2Sbj/OelA7KFRuP6kdg+4+5m0/ANGkAaM4bT+878J18iNsP872XABtxmo/N50ImuMHaj8+NIb2GdxpP9jEJC0+U2o/o76ESm03az9AgYf8jHNsP/I0bSvk4G0/Hya3o9uWbz8DwzqnYCVxP38BvpJD1nI/csXQHQ+ZdD911nzCplt2Pzr7AbqiJHg/UGM6jsXxeT9VCKnnk2h7P1dUDGwYanw/TCJlUVHXfD8VpVi1s9h8P+0VyOb37Hw/MvVtQ2LwfD8NG04LirF8PxNSn+uJe3w/xRTT93NTfD8jAin31yV8P1Pf55Ko+ns/UZxo17Whez8gWPnmWCp7P6ouPEgvk3o/HENjgZ7XeT9hcpZc3fV4P5YXIqoQxnc/Pm/EHzxvdj+D5cO7mvF0P3NM12kVdHM/56m32+rTcT9hnDkkjQpwP6V+VBYsa2w/N98anKe0aD/3grGXkh9mP1F3YofKeGQ/hzTEguX7Yj9T6Iam3tRhP4okzVwEuWA/Gem5u8RaXz/Mhg5wkHVdPzrvlU1kWVs/BeScHmLpWD81ALuD1NFVP/kk8TXZqVI/nkwpo2DPTj+JNbys+xtIP2wj+LCZZUE/6HQrYO5nND8DevXTJjgXP5LxtJsLbCG/I30PnVHoM7+/3a37/QVAv5LlpUPqGkW/fA6/gwiYSb+Fw3dCXFVOv+RWkECokFG/dwTaqLnPU79E1v+jaBlWvzXCtczBxli/nHKeCIytW78c8VA6iKVevxg2vZh2wWC/ZKoUxOUmYr/vkeV+2oViv7eBtd2d8mK/wrKTBc81Y7+lv8U7bHJjv00dz17ckmO/g3GfBVmHY7/enG1kvnZjv0s1jh2LfmO/uLeC1KiDY7/ms49zMYRjv4So7V2ohWO/cHgnM3WHY7/AqRzx7Ydjv2vhSyNKiGO/C88z1DOJY7+azINVmYljv0cjUUdoiWO/yFSZ+MKJY7/rB10PaYpjv1XO3odLimO/tbl4WG2KY786Yg3ts4pjv/XKohwNi2O/Die/BiaLY7+8uosNKYtjv8oMN9ppi2O/CHfO9M+LY7+L/D58ZYtjvyblM7e4i2O/mCZ8bQmNY7+MCvkwZ49jvwrJUVrKjGO/PxMzMDuIY7//Q4aRhH9jv2YjjDhrXmO/vRaoYNJJY7//6QAVnV1jvz0n1Gg7i2O/QtWx5xOhY7+44iCmnaJjvzayP0d+oGO/8eF+DMOiY7+tTHzuL6Vjv2wEflXEsWO/g3L4wyyxY7+MtgjpZrNjvw+fHqDdtmO/bmCEGN23Y7+G1ZbzVrhjvy0tLl9JuWO/DyAEbI25Y7+RVFRvELpjv7lU/rxiumO/5f6vp3S6Y7+uIvfMrZ2BP64i98ytnYE/KsUjm4SagT+ID2Tw9ymBPxR1LxFWoYA/Zg9Z+UQbgD/X5y7EdR9/P8DDaqs7HH4/CdNBa/8ZfT8TMFXCJ0N8P46MZH3UdHs/NtGCyFrMej/kR4qT1jV6P9DbNMJWuXk/uipRhEsueT/eFR0yoq14P6enHU9nNHg/56/ITVHcdz/H/6/DsYd3P7qGML/XXHc/RQdfMHIwdz8fAtphXQt3P0XTesbD8XY/6todR5/bdj916IsYxsR2P3FLb23esnY/mGArSV+bdj++JCSlN4l2PzprJBLNcXY/Dc9Wp7hPdj88IVio1xZ2P2dsKfy9t3U/hYHiUNtDdT+/8fd6s7x0P0r7xfSaDHQ/H3ZFvIxccz/KpdUq7IpyP0DvlyNzrXE/Yi2UzfTKcD+zwJUiPrRvP0fFbEcrEm4/E9R0YFQkbD+JMOv2rstpP26DdWENzWc/SioojnoGZj/e4buiRiJkP3Cl90CsU2I/fZU19I+EYD/HteFFW5ddP2phWCmXulo/I0HRD9SLWD8YNXJn8h9XP4w3GpDRilY/mNeRFVAFVj8JCbd+NZVVP07BtjTgeFU/9s/A2kaKVT823fhC2AhWP0UBkY9OnlY/IFDjmRvOVj8OmSCUbkRXP2Tzn6GJzVc/JWdVc254WD9F6C3qgJ1ZP7X9usRmsFo/rNj1GQM7XD8nqZwllR9eP+pZmFe4/18/rNaLhcXIYD8jyEdhvp1hP1PIQjNeYWI/qQsP6xb0Yj8S3h/BJhxjP5c9OZ4W1GE/RHp/XpDpXD+kRWPcXeJVP6Al2fjIi08/uPFOsAkSQj+y3wUF2Z4fP3wCwoqgMTW/JyNKzp+bSL91iAvIdahSv8MfJNDQC1e/+sQxx6nuV7+6V9hKiuNWv5FGzclmH1W/mjWOd52+Ur88NDR9CFhQv4SpIVJIPEy//AgDZESlRb/IPruL5nY5v7b4cS/eNgW/7qAmvYFvOD8k7/Qsb6BKP75yEGAdKVQ/lqRPDyE9XD9h9X2nZMtgPzX9Z2cbqWQ/qUJEGEFGaD+A4wPHLv9rP8H7/OdAlW8/DK3w3qyycT+5Y1ruUINzP+qdQhhuHHU/oVa6Kcthdj8EwR0fZTR3P2lJY0Vbunc/p6deWV0LeD+HxQHyQzp4P1o3yyT5Wng/5fHVa4h3eD/BfGyKQn54P7/Ojhldb3g/TLCBMttIeD+8XETTTR94P+1uzQh58Hc/yAUWBJfDdz+ozqdvZXR3Pzbqh0zOCHc/Xl+B/7Zqdj/KVsB5zv51P5UxxN7qgnU//2ZcWgXddD9prSERlmB0P9PxrNnIj3M/s9xoxkKmcj9J/Vea2spxP2Eq+e1HCHE/PiGE2Y1+cD+wybASGA5wP2nkXtuZY28/iXQmR6LVbj8ymDHWkLBuP1DFzKVIsW4/hCL+qCyXbj/lksataV9uPxP4MzOTtm0/9wu/GSWTbD+h+liZjmdrP+48ALA+LWo/2Kut2g4caT+kavtaVKRnP35hCZtMq2U/D71BAeVIYz/RKbfaosNgP2WFoesXQVw/pDm+w6cNVz+9LPFBXMBRP7WheGegk0k/sqfJm24eQT9trL47v+U1PznUA5Mvqi8/hMReYoRwJz+4rEMJIPkkP67Duyod3CQ/B1+0r+2cJT/zVsF0QZYkPyd3Ej5wMSQ/c47N/MZgJz8sDZ/rv9EsP5EGuto9KzE/pJ8KkwexMj8g7PUKF2ozP8EusVI9JzM/+eZNZ592ND9oZarKx5s0P4hUvgwwLzQ/Uu8tlF/lMz+MHzULvpAzP5Xhl/XbSDM/BwMKmSHrMj+6fLUf+YAyP1ejVNBUJzI/CVMPrEvKMT/SjZdPWX8xP7UXDgoWwDA/cAvtyUlMLz/JdEg9+eErP7GcoC4QiyY/e7SqifvOID86JG3tdBwTPzIVKx5q2vE+rSahAM2QBb/uqgS608IZv01nYVOD8R6/jJc7IMS3IL/EMz/r7wchv762Rw9onyG/DJTjzABjIb/Xo2+KtHchv2H4shAS1iG/CBM0+nJIIr8+w8Yfl64hv9+oanZlViG/TG0Ld7P7IL9I09DJM6Mgv+h9NldAhCC/EWqiIeNvH78u4Uh5o1Uev2iS7Jv2XRy/U+CHSTFAG79jzKnNazIav5Lw6y454hm/CEHmLOunGb+j+RJ+n4IZv6AQJGIgehm/9tzG78tbGb9IYHIIyU4Zv6Bg8SOvOxm/X2dkqpk+Gb/04l39252BP/TiXf3bnYE/iBY1EhqZgT8My6f5fJKBP+H+Q3wpg4E/YfSwlzlpgT+jTreCNUOBPx9PGwRAC4E/1Tr8LKPggD88dJNRSqyAP+M4sZtRcYA/07Koa2gvgD96Tm8ORKV/P8X4aWeb7H4/J7SIMCoffj9tYgyZtxJ9P8w/VWAB+Xs/EL8HrdG8ej8kgE6SBil5P/oOtMrqPXc/oTumNmU5dT/BgJ6LbkVzP7dXCnwUn3E/tQafLv4pcD9DPWBMMbdtP0fIeEGiLGs/aIDDM6w1aT+7s5UPgVtnP7tgfrt/lmU/FBxJcsXYYz9jpIoduz9iP+5LmscmoWA/qukM1a1uXj87lbg3bDlcP/Zos/XRN1o/HgTohA2ZWD//LmcmurJXP3o5U9617FY/3jvf21nbVj9tW9w9gkdXP3K3riXcnFg/sI7zRv90Wj9QXWDyfzRcP3ZFndYruV0/V1gKWNnOXj+c3XDtnqZfPxfme3hBH2A/HiSRIVJsYD+nGxp+K/lgP73KfUOCdmE/s9R5TJH2YT/aQG6CqYZiPxzNpc2OJWM/bKiRcwa/Yz9tF7nLFlJkP/gph2dEEmU/Ue9gIQK0ZT9q1Ii8BRtmP3xwxLKgb2Y/9c4Upy1aZj9ymD+Fa/VlP97FAFAWY2U/3zXvV3bBZD/MSHMBI+NjP5w3ZnKJtGI/7kNpHO8eYT8Xqz3r8HReP44ALET3Blo/HjUcZ562VT+i3QB4udNRP6EgX3A9FEs/9TORC3FLQj/k4ugjKHkxPxJOX3FGmfO+bKiy5OCyL79uemmelaE6v1/EZnElh0K/JXK2QxAgRr/6z7oeFLdHv9Ksm74bB0i/Knr8Wg81R79Ol23fDU5Fv5rGtbcWIEO/ywPdrCf9QL9J9gMkMcU9vxd2cGELTDm/miwZnH+GNb9d1C3zXJ4yv7NSeUTSgjC/GVj9t5gSL79lPJ6344swv0McYDsLZTK/hG8a4qWpNL+XsgaCvn04v4xFNJgu2zy/XD7YDv/QQL/efO70IHFDv0qbfMLXGEa/v34QnB6vSL92g9GmOfxKv2URfFGzT02/+VmUlc6aT7/e2evX7w9Rv8XMwJpJelK/BUAp65y9U78Wy87PT/dVv/aN7nvncVe/Ur47bf+nWb/QtJ1n6ihcv5fJcVtHx16/S8gB8ZGVYL9xr32MgM1hv5S2v8ojFGO/yf6pMUdNZL8ueztpgn1lv2cMoxZXWma/KUdYc1jqZr8ueA0/vuZmv7NjVGS0dGa/c1MvZdP7Zb8bogwajYxlvxb+Lnnk7WS/1lGhAXGUZL+d2vibXTtkv7ZNIJ+a3WO/Utn19RrnY7+EhiBIXJ5kv3rqR8YotWW/QNI4sOFXZ7/bGeP68nZpvyCArpNko2u/aElFKK+ebb8AJSfm+x1vv7/3a6YN0m+/NxGCd6zjb78KenjZwYRvv6lctFwP2G6/198Tux72bb+35tgKHuVsv4iPcawBvGu/BVZ5HJeSar8gq1GrRWtpv2kzvIKNOWi/R9xdkof6Zr8NWrLvL9Blv41nhpvE02S/4VYWRl1NZL8XIa3vQg5kv84SZa2K8mO//i9gYdbyY7/LjkaZvwJkvyLkrb73J2S/6TJ2aehvZL+vQ+Y+Jttkv6gNSP2xcGW/LPdubUX9Zb9OnQ+A3Lxmv2j6IFc/2Ge/gP/GSR4Bab8JYOwGzwZqvy3wi7AK/2q/Dp0V4EXTa7+uhSVBdlhsv4P5smwIfWy/FR9dEjSDbL8NVmEbwn1sv0fgNiZDY2y/PLlPQ0M6bL/IKb0aIdZrv9IOrIBqWGu/heTZhLAaa78RME5K9+1qv9p8sDsWyGq/c1HQac2uar+e1WnopKVqvyH/zqoDqmq/TTadGfGqar8qQG5vZK1qv2GL8YlNt2q/UH37Pr3Har9s3jrlxfhqv7BtGTEuUWu/yHLika3Ja7+IU5qdz0psvzJLMXvhwGy/pVCai94abb+Y1dwD6Hxtv5ZBX0a1z22/CWw7LYYNbr9ymmSUJ05uv+rJ1L8moW6/+QrU9Uribr9uq4aBHfxuvz7SnnB+BW+/mnVJeToBb78ZYoqIfexuvwWxyxuU126/Ta7LaG/Vbr9WVU760Oxuv/BsZBha+W6/IHAIm/n3br/cjtd/L/Zuv1aYo0i79m6/JNscCfP4br+kVqzVwfluv0dZfaVp+m6/bVMN/Z76br88+LGawPpuv8AY0+sMnoE/wBjT6wyegT8OJIN9FoSBP5GR7TdAJIE/8TYVNTLNgD/ct3HGIYaAPzmBYgkTAYA/GvBN774sfz/JcyxatDV+Pw1HOPozMH0/Y/W8EvJdfD/wh6KO/px7P+dccDzZ5no/MRBIoCs8ej+8D+REALF5P/aFiTJROXk/FTDLPJXLeD/o8GAiLXF4P6dPOc9lIng/b3AiA5PFdz9VcvWgAEh3P0kONmtvrHY/4wrm88LudT+tVQrVMCN1P9nPpCFOJ3Q/KO4iNO8Ncz+cet5XSudxP8FfLAfwt3A/AXIIaNoZbz9X66JnNcRsPwGi10lqb2o/h3LFuE4WaD9V09Ge+PVlP3E+HsWNSGQ//GE9R/LwYj9haS5lSRZiPxMS309FtmE/n3Rg/HDWYT+akcyKS2RiP3mJvy9XF2M/fv2qFSiuYz+Kw8So9DhkP7EgvTDLuWQ/WDGH4iUeZT/stVXWtDNlP06YQ4XR3GQ/owbhH08YZD/RyARZfMxiP7/pQvskO2E/aD8x4yYHXz9tIcdu79xbP2MKuoA+a1g/7UvJ4tb0VD9emIRyWd5QP1WhxJb8Ekk/U5/jaZMWQj9J7iDGVakyP/XimqItpBA/rsyf2Z+hI7+/KPWYvdA2v1wh9n3sdUG/LkV80tUdR78oVPGT3aVLv/qqfKjq/k6/F3CuJKgLUb8Rh5iUv1pSv84P5om7WFO/mh7FjjNLVL8j3d956F5Vvzdd3F3ZcVa/Txc5nW95V7/6YEWZ65xYv1Of3xBw2Vm/0JuE5BwaW79uvoxSNRZcv8weVg7BCl2/uoR+N2MCXr8wVB1XrFFev5/eHG/tjV6/MRtUdVXNXr82sGWM5IJfvygPhTUWJ2C/utsH/0eXYL9Dnz78ex1hv15dCD13qWG/WBGc9SBBYr9BLkixrgJjv3zGX7Xt9GO/DtAEP0vKZL/cIGRo829lv/uQL2kT8mW/weOfnNx0Zr/HlyCUKRNnv/xMq7Bsq2e/wVfRmLMQaL++Iytcc2RovxtndHI1s2i/01wwqrn8aL8kD6EESFBpv3IPWwgKuGm/5NrLitQ/ar8srzhOQrhqv9fU/Cx0Zmu/qOBfOYQdbL8R1BFOgKlsv+PZOuXNMW2/3sbsE56vbb92SlgMChZuv2h9KoEjUG6/d0vnAghTbr+cWKjh9FxuvwNrHI/+bm6/9tishgh9br/VxqO+moduv0TBxhd5jm6/2spbQN9tbr82+5it8/1tv4woaGWbN22/MVgsuL84bL9QkusPJC5rv1buAaa++2m/ngRTqu52aL+3O28mf9Fmv4DH4kczG2W/5+rNnC+WY796D/yYqNJiv6v14B3/jmK/wXUNLjwyYr+UWnyfAe9hv5wOmIM47WG/JOmLYs/vYb8sigz53/dhv5fxX2EQAWK/lu8wohwHYr8sHUmW7wZiv7++Z0AOCGK/PnQjLKYMYr8tEvwRzw1iv6PZdHcd/2G/EI/YnQfnYb+9sO8WWNRhvxHznTiAqmG/45/I6D2AYb8QBV6j/T9hvymU4fcIJWG/qAwHM+QfYb9u17RI6R9hvzUyqwIGH2G/8g3FUgAeYb/m7KyL0Bphv6EQXW+HF2G/IDBS2OYQYb95XPFm/gVhvz8O01Hk+mC/58F5SXP1YL+4G0G+VfBgv8OPfWc+8WC/bo2bmpX1YL9zW5zKb+pgv5MgqUaF0GC/s0bpIWmuYL/b4lWDpJNgv051R6Xjh2C/7j9tRTZ/YL8O7bia6n1gv4rgvuwYf2C//nhgFNqCYL/jM/U4JIVgv7apO0fqh2C/X8eC3iiIYL+5pb0Kp4hgv/4eZ9YriGC/ws2EQZuGYL9v6ZgnP4hgv0i2f0zYh2C/ha44Fc+JYL/Kfijq44dgv1fcciClf2C/ZcukKCZ7YL/ecCoy8X1gv5o9ZK8YgGC/1iLenaqAYL+RojGhaoFgv92c7ziugWC/Nactv7+BYL+qTbyFmYJgv4+GpL4NgmC/hH4ktiiCYL9IhQJsPIJgv4p/5oJzgmC/BoibjGWCYL+FyhS+N56BP8yYEMqql4E/UYXMCi2bgT+xotyBn6CBPxe/wRJHq4E//SyLB5aygT9h+i0apbmBP6WXdipJxoE/WwS3RQLSgT8o/huVj9mBP3gMjExI24E/OL7WqW7TgT+iKn0dxaGBP21TSsYlPIE/T26scZMZgT/6bLgT4BiBP1i2ohr56IA/ZRmav6vHgD8DB+LbE7SAP3HN46K/rIA/b8fhBgS2gD8vfRLlDM2AP+8sJA1o64A/WQsJLzcVgT+tEyuBqkCBP4w6qoDIdYE/3nmYQjm2gT9aMyviKgyCP1XuGIY9ZoI/SBMHiI3Lgj92iK6gHjaDP0WxaCxqo4M/FmlAagQRhD9yfZM2F4KEP7IoGHLi94Q/ODKIz3tihT88511k3LOFPyGDk5U22YU/RJMtG9jjhT8npdb7i82FP63iR7/4gYU/o8nRE4f3hD/Co+7d7DmEP448UC6aX4M/4dSZRsprgj/rH8wmmXiBPw3SvdXlhoA/M9gGwB4Jfz9fdlxrHSJ9PxNZj1TTans/NvlQaQthej/ywoNixNh4P/5j+JYe6Xc/Yy0Ib9HPdj+NgzNyJuJ1P4dJ4YonC3U/kQF9fQ7rcz9XbzgkBt5xP8BPcHlUpW0/uJ3tN3/rZT+yxjUZx3BaP85xhfD1oEI/aLcbCNEyQL+gUVjVi0VXv3e6DJziUWG/X6FO2KKRZr8ng7vwOhprvxuxBlqwi26/Ia8vPvVMcL/MbzPOsXtwv/ujvsmudW+/1516CLpcbb9fzxYlYR1rv5fj6oagdmm/OkPKw45iab91DkYG0WVpvwPd29qrSWm/Q6QVFDoSaL/XXOjt4ZNlv0hpcdjwOmG/A/jFjbk7Vb+YFOGMa340v+c7vu8UBUk/WxC7RukDXj9tbu9cvCVmPyyjawL1Jms/WTLUspvCbj+7QuX3DqxwPzQDviZwxnE/IAKwrwaBcj/LzlAJfhdzPz7N98Oe5nM/QEvh7RkgdT/NWH57pLd2P7qUBCjebHg/AKu/Jr98ej9M2D/lPbd8PxZYkHk04H4/3CSDrCBegD8hREX7JBiBP5if04JEt4E/S0csAvtPgj+RoRxPrACDP2YaD9GZk4M//0ESBvNehD/NRHWCQSCFP9sLDFUG6YU/D0mXtpudhj9a/4j1tUGHP2cLADzvy4c/Fhh06oEsiD+fIZr1cGmIPwzQ1TZFfog/OCN32uBziD/1Wx3baWKIP/4zlQL4OYg/nI7pzVACiD/6fQ0nUJaHP89G6Qp5EIc/Lr3QZeKOhj+kTolOHfmFP7c5qWziQ4U/V15aToJmhD9xjZTXUIKDP+aeiqibjII/qPcYLLZugT/MP5s1pVCAP1PeM5JIc34/LJznd2O2fD/M4z5GGzp7P/FZN06/o3k/ZyWaxT/3dz9KrGys4Vd2PzIC5y/zynQ/Ast7QAxccz/SEtdX3ARyP/PSapRXlHA/0RmKoS1Ibj8EMmThY5ZrP1fHgwxwXmk/MXOzGewwaD8h9L1EuA5oP3zicBHi/Gc/8TTEwA/9Zz/+RsBvihVoP3CXS1qZ52c/Z9ogliETZz/BUsn5h+9lP2dD7fXuq2Q/5CY3bLguYz9xgldBkIhhPweX3+uU1F8/mAY+igOlXD/K3nPYXrtZP9DLyTP7B1g/L26pgN1DVj94gniZcmlVP36qu+Kp8VU/HPy/1EKIWD9etTmvySVcP8RQu45pa18/7snRkzM7YT8zrD4inJpiP9WdFD1U3WM/MxY/pdjYZD/zjW87MSNlP59tpWhHy2Q/6xiGM9bUYz/yFBBsCahiPyeUubwVdGE//jiV9TNfYD+5W15pEspePyFcH8oW9Fw/dtbQUsX8Wj9kMabvVIxZP2xNnysmSlg/NxRz3nmZVj8KzPuCxq9UPyqZcknzxFI/qblc3qxXUT8oqzAsAcVPPxPlq4n/z0w/gKoHsHCNST+YTSf2u55GP+QjPzVTnkM/oDNXIepyQD+uj35xcrY5P/UFBwMx0TE/pOMO9o+EIT+o6UgZUTcJv84Fh/4foTG/ZLc/HvL3QL+wgTTD5HpJv/YZ0mCGllC/aNt7y2j/U7+l5RgVpXJXv6CqAwIyXVq//xF4TP/0W7/jUFZWtjtdv4VkaCUIxF2/6OU58BBRXr9z2zU4k8xev9vA3rmwSV+/mmdCQssrYL/9WeBGYM9gvwgGmlz/h2G/m+D89dspYr+u4sTRsrViv7pakVTAWGO/sSBDRJUFZL8O/jbpxKRkv20ypng8KmW/oKiL96p8Zb8zkbPZKaJlv6ogdC4VqGW/QC+wHI6TZb/YnxZ/hIdlvwkgjwxZfmW/KvFBli5gZb9HAC/dniVlv5h7LBV/BWW/juQ45BzyZL+Hiy57d+5kv8Q2Mes0AmW/fthWfSz9ZL+8ANVC4e5kv1jzOaao6mS/kvWWJeTuZL9J941Fg/9kvzN1rEwiBmW/TBaNvr0NZb/2gSEmAxRlv7WormBRGWW//qqbl1scZb+1ehtcjx9lv6ynJIH2K2W/35wkWEY+Zb9V84FKbV9lv06yQDTnk2W/gHTI6U/KZb/TWNYjU/5lv2eGuGa/Lma/anEZyI5YZr+uet2Hpolmvy6hoWjbvma/Tqjvm/wTZ7/aci0IeFhnvwCbQ5x1pGe/SFAf6B8CaL8YL3rj0Vxovyzii6BNvGi/OCaYZFQOab/2fG1rmFdpv7LkpH6yoWm/Mgf8YrTGab9EtjMj6rxpv/cCEUAGuWm/EZGSaSK7ab/pvgtA4LxpvzZBocWrwGm/FTm0dn/Dab/qTRnMmMJpv8CKii0Nwmm/wbRufKrCab+j7Odf78FpvzcyI6/zwWm/wfZDq7u5kz/B9kOru7mTP8H2Q6u7uZM/wfZDq7u5kz/B9kOru7mTP2YdS7yCvJM/Zh1LvIK8kz9mHUu8gryTP2YdS7yCvJM/Zh1LvIK8kz8zXB20P7+TPzNcHbQ/v5M/M1wdtD+/kz8zXB20P7+TPzNcHbQ/v5M/9/h/tvLBkz/3+H+28sGTP/f4f7bywZM/9/h/tvLBkz/3+H+28sGTP46UwOabxJM/pe6lRzs+kT/h5c2qbEaRP+HlzapsRpE/gU+yXHFmkT+BT7JccWaRP60lyRRDbpE/rSXJFENukT/HWrAeAnaRP8dasB4CdpE/x1qwHgJ2kT9WdrSgrn2RP1Z2tKCufZE/Vna0oK59kT9WdrSgrn2RP1Z2tKCufZE/Vna0oK59kT8eI/fASIWRPx4j98BIhZE/c3pupdCMkT9zem6l0IyRP3N6bqXQjJE/+Fbkc0aUkT/4VuRzRpSRP/hW5HNGlJE/+Fbkc0aUkT/4VuRzRpSRP3yu9VGqm5E/fK71UaqbkT97rvVRqpuRP3uu9VGqm5E/e671UaqbkT/f8hFl/KKRP9/yEWX8opE/3/IRZfyikT/ReXrSPKqRP9F5etI8qpE/0Xl60jyqkT8z60G/a7GRPzPrQb9rsZE/M+tBv2uxkT8z60G/a7GRPzPrQb9rsZE/CLZLUIm4kT8ItktQibiRPwi2S1CJuJE/CLZLUIm4kT/Oi0uqlb+RP86LS6qVv5E/7uHE8ZDGkT/u4cTxkMaRP+7hxPGQxpE/7uHE8ZDGkT/u4cTxkMaRP+7hxPGQxpE/ankKS3vNkT9peQpLe82RP2l5Ckt7zZE/ankKS3vNkT9S7D3aVNSRP1PsPdpU1JE/GkFPwx3bkT8cQU/DHduRP4WD/CnW4ZE/hYP8KdbhkT+Fg/wp1uGRP4WD/CnW4ZE/FWPRMX7okT8VY9ExfuiRPxVj0TF+6JE/FWPRMX7okT/g1ib+Fe+RP9/WJv4V75E/39Ym/hXvkT/g1ib+Fe+RP5jGIrKd9ZE/t7i3cBX8kT+3uLdwFfyRP7e4t3AV/JE/l4WkXH0Ckj+YhaRcfQKSP5eFpFx9ApI/l4WkXH0Ckj+XhaRcfQKSP34PdJjVCJI/fg90mNUIkj9+D3SY1QiSP0L/fEYeD5I/Qv98Rh4Pkj9C/3xGHg+SP0L/fEYeD5I/Qv98Rh4Pkj+xheGIVxWSP7GF4YhXFZI/sIXhiFcVkj+xheGIVxWSP7GF4YhXFZI/ViGPgYEbkj9WIY+BgRuSP69oPlKcIZI/r2g+Upwhkj+vaD5SnCGSP69oPlKcIZI/r2g+Upwhkj+q2HIcqCeSP6rYchyoJ5I/q9hyHKgnkj+q2HIcqCeSP6vYchyoJ5I/q9hyHKgnkj+r2HIcqCeSP6vYchyoJ5I/Qad6AaUtkj9Bp3oBpS2SP0GnegGlLZI/Qad6AaUtkj9Bp3oBpS2SP0GnegGlLZI/Qad6AaUtkj8dmm4ikzOSPx2abiKTM5I/HZpuIpMzkj8dmm4ikzOSPxyabiKTM5I/HJpuIpMzkj894TGgcjmSPz3hMaByOZI/PuExoHI5kj8+4TGgcjmSPz7hMaByOZI/X/Vxm0M/kj9f9XGbQz+SP1/1cZtDP5I/MXqmNAZFkj8xeqY0BkWSPzB6pjQGRZI/MXqmNAZFkj8YJBGMukqSPxgkEYy6SpI/GCQRjLpKkj+Pob3BYFCSP4+hvcFgUJI/j6G9wWBQkj+Pob3BYFCSP+2HgfX4VZI/7YeB9fhVkj/th4H1+FWSP+2HgfX4VZI/f0P8RoNbkj9/Q/xGg1uSP+wKl9X/YJI/wNWEwG5mkj+A0mvGXsaTP3/Sa8ZexpM/lYrnEz3Ikz+ViucTPciTP5WK5xM9yJM/lYrnEz3Ikz+ViucTPciTP4kP04rFmZI/RTWOki+tkj9FNY6SL62SP6vatXHrsZI/SqPlNT+7kj++Qo1T17+SP5jFTb5jxJI/mMVNvmPEkj+YxU2+Y8SSP+VB7ZHkyJI/5UHtkeTIkj/zBfvpWc2SP/MF++lZzZI/J8PP4cPRkj8nw8/hw9GSPyfDz+HD0ZI/d7qNlCLWkj93uo2UItaSP3e6jZQi1pI/d7qNlCLWkj93uo2UItaSP3e6jZQi1pI/a+ogHXbakj9r6iAddtqSP2vqIB122pI/a+ogHXbakj9r6iAddtqSP7M+P5a+3pI/JMFoGvzikj8kwWga/OKSP4M+0axW65I/gz7RrFbrkj91sATvc++SPwSqLKSG85I/nNq+5Y73kj+6UfzMjPuSP9G48XKA/5I/1mAyXkkHkz/WYDJeSQeTP/f81mvqDpM/O3j+XGQWkz87eP5cZBaTPzHIXeYSGpM/Mchd5hIakz8xyF3mEhqTP2pkmO+3HZM/amSY77cdkz9qZJjvtx2TP5gt7o9TIZM/mC3uj1Mhkz+YLe6PUyGTP5gt7o9TIZM/mC3uj1Mhkz+YLe6PUyGTP5gt7o9TIZM/4RRt3uUkkz/hFG3e5SSTP+EUbd7lJJM/4RRt3uUkkz88X/HxbiiTPzxf8fFuKJM/PF/x8W4okz+F6SXh7iuTP4XpJeHuK5M/hekl4e4rkz+F6SXh7iuTP4XpJeHuK5M/H22EwmUvkz8fbYTCZS+TPx9thMJlL5M/H22EwmUvkz8uxVWs0zKTPy7FVazTMpM/LsVVrNMykz8uxVWs0zKTPy7FVazTMpM/ZTSytDg2kz9lNLK0ODaTP2U0srQ4NpM/ZTSytDg2kz9lNLK0ODaTP0qrgfGUOZM/SquB8ZQ5kz9Kq4HxlDmTP0qrgfGUOZM/SquB8ZQ5kz9Kq4HxlDmTP0qrgfGUOZM/Aw98eOg8kz8DD3x46DyTPwMPfHjoPJM/Aw98eOg8kz8DD3x46DyTP5OAKV8zQJM/qNRnr5LNkz+o1Gevks2TP6fUZ6+SzZM/p9Rnr5LNkz+o1Gevks2TP6Mo5ohiz5M/oyjmiGLPkz+jKOaIYs+TP2FFgQyB+ZE/H8fsCZMAkj8fx+wJkwCSP5pEVP+RB5I/sIXhiFcVkj+wheGIVxWSP140rHceHJI/XjSsdx4ckj9eNKx3HhySP140rHceHJI/KP+7E9Mikj8o/7sT0yKSPyj/uxPTIpI/KP+7E9Mikj+ckaGJdSmSP5yRoYl1KZI/nJGhiXUpkj+ckaGJdSmSPx6KnwUGMJI/HoqfBQYwkj/uOKqzhDaSP+44qrOENpI/H2Znv/E8kj8fZme/8TySPx9mZ7/xPJI/H2Znv/E8kj86Hi5UTUOSPzoeLlRNQ5I/Oh4uVE1Dkj86Hi5UTUOSPzoeLlRNQ5I/eIUGnZdJkj94hQadl0mSP3iFBp2XSZI/R7GpxNBPkj9HsanE0E+SP0exqcTQT5I/7YeB9fhVkj/th4H1+FWSP+2HgfX4VZI/7YeB9fhVkj/th4H1+FWSPzamqFkQXJI/NqaoWRBckj82pqhZEFySP8xK6hoXYpI/zErqGhdikj/MSuoaF2KSP0RHwmINaJI/REfCYg1okj9ER8JiDWiSP0RHwmINaJI/REfCYg1okj+D9lxa822SP4P2XFrzbZI/ejiXKslzkj96OJcqyXOSP3o4lyrJc5I/53L++455kj8Xl9D2RH+SPxeX0PZEf5I/Yyz8QuuEkj9RXyAIgoqSPzsVjW0JkJI/OhWNbQmQkj86FY1tCZCSPzMEQ5qBlZI/NARDmoGVkj8vz/O06pqSPy/P87TqmpI/L8/ztOqakj8uz/O06pqSPy4mAuREoJI/LiYC5ESgkj8uJgLkRKCSP1fqgU2QpZI/2lU4F82qkj/aVTgXzaqSP9pVOBfNqpI/biecZvuvkj9uJ5xm+6+SP24nnGb7r5I/biecZvuvkj9o0dVgG7WSP2jR1WAbtZI/KKy/Ki26kj8orL8qLbqSPyisvyotupI/KKy/Ki26kj/aK+boML+SP1gZiL8mxJI/WBmIvybEkj9YGYi/JsSSPx/OltIOyZI/H86W0g7Jkj8fzpbSDsmSPx/OltIOyZI/M3O2RenNkj8zc7ZF6c2SPzNztkXpzZI/1UI+PLbSkj/VQj48ttKSP9RCPjy20pI/1UI+PLbSkj/UQj48ttKSP9VCPjy20pI/1UI+PLbSkj/vzDjZddeSP+/MONl115I/78w42XXXkj/vzDjZddeSPy8+ZD8o3JI/Lz5kPyjckj8vPmQ/KNySPy8+ZD8o3JI/Lz5kPyjckj+OqTKRzeCSP46pMpHN4JI/jqkykc3gkj+OqTKRzeCSP1VUyvBl5ZI/VVTK8GXlkj9VVMrwZeWSP1VUyvBl5ZI/cgQGgPHpkj9yBAaA8emSP3IEBoDx6ZI/cgQGgPHpkj9yBAaA8emSPwBRdWBw7pI/AFF1YHDukj8AUXVgcO6SPwBRdWBw7pI/AFF1YHDukj/89Fyz4vKSP/z0XLPi8pI//PRcs+Lykj/89Fyz4vKSP/z0XLPi8pI//PRcs+Lykj8DJLeZSPeSPwIkt5lI95I/AiS3mUj3kj8CJLeZSPeSPwMkt5lI95I/AyS3mUj3kj8CJLeZSPeSPwXhMzSi+5I/BeEzNKL7kj/gVjmj7/+SP+BWOaPv/5I/31Y5o+//kj/fVjmj7/+SP+BWOaPv/5I/4FY5o+//kj+/MuQGMQSTP78y5AYxBJM/vzLkBjEEkz+/MuQGMQSTP78y5AYxBJM/vzLkBjEEkz+/MuQGMQSTP78y5AYxBJM/vzLkBjEEkz85AAh/ZgiTPzkACH9mCJM/OQAIf2YIkz85AAh/ZgiTPzgACH9mCJM/OQAIf2YIkz85AAh/ZgiTPwyHLyuQDJM/DIcvK5AMkz8Mhy8rkAyTPwyHLyuQDJM/cCqdKq4Qkz9wKp0qrhCTP3AqnSquEJM/cCqdKq4Qkz/kSUucwBSTP+NJS5zAFJM/5ElLnMAUkz/kSUucwBSTP+NJS5zAFJM/Y6PsnscYkz9ko+yexxiTP2Sj7J7HGJM/ZKPsnscYkz9ko+yexxiTP2Oj7J7HGJM/Y6PsnscYkz8Bt+xQwxyTPwG37FDDHJM/AbfsUMMckz8Bt+xQwxyTPwG37FDDHJM/AbfsUMMckz8Bt+xQwxyTPwG37FDDHJM/uCtw0LMgkz+4K3DQsyCTP7grcNCzIJM/uStw0LMgkz+5K3DQsyCTP7grcNCzIJM/uCtw0LMgkz+4K3DQsyCTP7krcNCzIJM/hTVVO5kkkz+FNVU7mSSTP4U1VTuZJJM/hDVVO5kkkz+ENVU7mSSTP4U1VTuZJJM/hTVVO5kkkz+V/DOvcyiTP5X8M69zKJM/lfwzr3Mokz+V/DOvcyiTP5X8M69zKJM/lfwzr3Mokz+V/DOvcyiTP5X8M69zKJM/lfwzr3Mokz+V/DOvcyiTP6QFX0lDLJM/pAVfSUMskz+kBV9JQyyTP6QFX0lDLJM/pAVfSUMskz+kBV9JQyyTP6QFX0lDLJM/pAVfSUMskz+kBV9JQyyTP6QFX0lDLJM/pAVfSUMskz+kBV9JQyyTP6QFX0lDLJM/pAVfSUMskz+kBV9JQyyTP0Sb4yYIMJM/RJvjJggwkz9Fm+MmCDCTP0Wb4yYIMJM/RZvjJggwkz9Fm+MmCDCTP0Wb4yYIMJM/RJvjJggwkz9Fm+MmCDCTP0Wb4yYIMJM/NTiKZMIzkz81OIpkwjOTPzU4imTCM5M/NTiKZMIzkz81OIpkwjOTPzU4imTCM5M/NTiKZMIzkz81OIpkwjOTPzU4imTCM5M/lvLWHnI3kz+W8tYecjeTP5by1h5yN5M/lvLWHnI3kz+W8tYecjeTP5by1h5yN5M/lvLWHnI3kz+W8tYecjeTP5by1h5yN5M//ucJchc7kz/+5wlyFzuTP/7nCXIXO5M//ucJchc7kz/+5wlyFzuTP/7nCXIXO5M//ucJchc7kz/+5wlyFzuTP/7nCXIXO5M//ucJchc7kz/+5wlyFzuTP/7nCXIXO5M//ucJchc7kz9Yqh96sj6TP1iqH3qyPpM/WKoferI+kz9Xqh96sj6TP1eqH3qyPpM/V6oferI+kz9Xqh96sj6TP1eqH3qyPpM/V6oferI+kz9Yqh96sj6TP1iqH3qyPpM/WKoferI+kz9Yqh96sj6TP36t0VJDQpM/fq3RUkNCkz9+rdFSQ0KTP36t0VJDQpM/fq3RUkNCkz9+rdFSQ0KTP36t0VJDQpM/fq3RUkNCkz9+rdFSQ0KTP36t0VJDQpM/fq3RUkNCkz9+rdFSQ0KTP36t0VJDQpM/fq3RUkNCkz9+rdFSQ0KTP5O1lhfKRZM/k7WWF8pFkz+TtZYXykWTP5O1lhfKRZM/k7WWF8pFkz+TtZYXykWTP5O1lhfKRZM/k7WWF8pFkz+TtZYXykWTP5O1lhfKRZM/k7WWF8pFkz+TtZYXykWTP5O1lhfKRZM/k7WWF8pFkz/zRaPjRkmTP/NFo+NGSZM/80Wj40ZJkz/zRaPjRkmTP/NFo+NGSZM/80Wj40ZJkz/zRaPjRkmTP/NFo+NGSZM/80Wj40ZJkz/FEOrRuUyTP8UQ6tG5TJM/xhDq0blMkz/GEOrRuUyTP8YQ6tG5TJM/xhDq0blMkz/FEOrRuUyTP8UQ6tG5TJM/G2cc/SJQkz8aZxz9IlCTPxpnHP0iUJM/Gmcc/SJQkz8aZxz9IlCTPxpnHP0iUJM/Gmcc/SJQkz8aZxz9IlCTPxpnHP0iUJM/Gmcc/SJQkz8aZxz9IlCTPxpnHP0iUJM/G2cc/SJQkz+Kqap/glOTP4qpqn+CU5M/iqmqf4JTkz+Kqap/glOTP4qpqn+CU5M/iqmqf4JTkz+Kqap/glOTP4qpqn+CU5M/iqmqf4JTkz+Kqap/glOTP4qpqn+CU5M/RbnEc9hWkz9FucRz2FaTP0W5xHPYVpM/RbnEc9hWkz9FucRz2FaTP0W5xHPYVpM/RbnEc9hWkz9FucRz2FaTP0W5xHPYVpM/RbnEc9hWkz9FucRz2FaTP0W5xHPYVpM/nGla8yRakz+caVrzJFqTP5xpWvMkWpM/nGla8yRakz+caVrzJFqTP5xpWvMkWpM/nGla8yRakz+caVrzJFqTP9fxGxhoXZM/1/EbGGhdkz/X8RsYaF2TP9fxGxhoXZM/2PEbGGhdkz/Y8RsYaF2TP9jxGxhoXZM/1/EbGGhdkz91X3r7oWCTP3VfevuhYJM/dV96+6Fgkz90X3r7oWCTP3RfevuhYJM/dF96+6Fgkz90X3r7oWCTP3RfevuhYJM/dV96+6Fgkz91X3r7oWCTP6MIqLbSY5M/owiottJjkz+iCKi20mOTP6MIqLbSY5M/owiottJjkz+jCKi20mOTP6MIqLbSY5M/owiottJjkz+jCKi20mOTP6MIqLbSY5M/owiottJjkz+jCKi20mOTP6MIqLbSY5M/ogiottJjkz+iCKi20mOTP6IIqLbSY5M/C/+YYvpmkz8L/5hi+maTPwv/mGL6ZpM/C/+YYvpmkz8K/5hi+maTPwr/mGL6ZpM/C/+YYvpmkz8L/5hi+maTPwr/mGL6ZpM/zYIDGBlqkz/NggMYGWqTP8yCAxgZapM/zIIDGBlqkz/MggMYGWqTP8yCAxgZapM/zIIDGBlqkz/NggMYGWqTP82CAxgZapM/qHVg7y5tkz+odWDvLm2TP6h1YO8ubZM/qHVg7y5tkz+odWDvLm2TP6h1YO8ubZM/qHVg7y5tkz+odWDvLm2TP6h1YO8ubZM/qHVg7y5tkz+odWDvLm2TP1PO6wA8cJM/U87rADxwkz9TzusAPHCTP1PO6wA8cJM/7wulZEBzkz/vC6VkQHOTP+8LpWRAc5M/7wulZEBzkz+FqU8yPHaTP4WpTzI8dpM/halPMjx2kz+FqU8yPHaTP4WpTzI8dpM/halPMjx2kz+FqU8yPHaTP4WpTzI8dpM/halPMjx2kz+FqU8yPHaTP6mRc4EveZM/qZFzgS95kz+pkXOBL3mTP6qRc4EveZM/qZFzgS95kz+pkXOBL3mTP6mRc4EveZM/qZFzgS95kz8Ikl1pGnyTPwiSXWkafJM/CJJdaRp8kz8Ikl1pGnyTPwiSXWkafJM/CJJdaRp8kz8Ikl1pGnyTPwrPHwH9fpM/Cs8fAf1+kz8Kzx8B/X6TPwrPHwH9fpM/Cs8fAf1+kz8Kzx8B/X6TPwrPHwH9fpM/WzeSX9eBkz9bN5Jf14GTP1s3kl/XgZM/WzeSX9eBkz9bN5Jf14GTP1s3kl/XgZM/WzeSX9eBkz9x91KbqYSTP3D3UpuphJM/cPdSm6mEkz9x91KbqYSTP/Hsxspzh5M/8ezGynOHkz/x7MbKc4eTP/Hsxspzh5M/8ezGynOHkz/x7MbKc4eTP/Hsxspzh5M//hkaBDaKkz/+GRoENoqTP/4ZGgQ2ipM//hkaBDaKkz/+GRoENoqTP/4ZGgQ2ipM//hkaBDaKkz9aGEBd8IyTP1oYQF3wjJM/WhhAXfCMkz9aGEBd8IyTP1oYQF3wjJM/aYz066KPkz9pjPTroo+TP2mM9Ouij5M/aYz066KPkz/8l7vFTZKTP/yXu8VNkpM//Je7xU2Skz/nTOL/8JSTP+dM4v/wlJM/50zi//CUkz9dH3+vjJeTPwpYcukgmpM/Clhy6SCakz/phWbCrZyTP8zv0E4zn5M/QGwLl87Bkz9BbAuXzsGTP0FsC5fOwZM/QGwLl87Bkz9BbAuXzsGTP8NJy05QzpM/w0nLTlDOkz/gRqyDuc+TP+BGrIO5z5M/4Easg7nPkz/gRqyDuc+TP+BGrIO5z5M/EIz3zB/Rkz8RjPfMH9GTPxGM98wf0ZM/EIz3zB/Rkz8RjPfMH9GTP6SPlDCD0pM/o4+UMIPSkz+kj5Qwg9KTP6OPlDCD0pM/pI+UMIPSkz9rcF+049OTP2twX7Tj05M/a3BftOPTkz9rcF+049OTP2twX7Tj05M/",
          "dtype": "f8"
         },
         "v": {
          "bdata": "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",
          "dtype": "f8"
         },
         "w": {
          "bdata": "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",
          "dtype": "f8"
         },
         "x": {
          "bdata": "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",
          "dtype": "f8"
         },
         "y": {
          "bdata": "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",
          "dtype": "f8"
         },
         "z": {
          "bdata": "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",
          "dtype": "f8"
         }
        }
       ],
       "layout": {
        "scene": {
         "xaxis": {
          "title": {
           "text": "X"
          }
         },
         "yaxis": {
          "title": {
           "text": "Y"
          }
         },
         "zaxis": {
          "title": {
           "text": "Z"
          }
         }
        },
        "template": {
         "data": {
          "bar": [
           {
            "error_x": {
             "color": "#2a3f5f"
            },
            "error_y": {
             "color": "#2a3f5f"
            },
            "marker": {
             "line": {
              "color": "#E5ECF6",
              "width": 0.5
             },
             "pattern": {
              "fillmode": "overlay",
              "size": 10,
              "solidity": 0.2
             }
            },
            "type": "bar"
           }
          ],
          "barpolar": [
           {
            "marker": {
             "line": {
              "color": "#E5ECF6",
              "width": 0.5
             },
             "pattern": {
              "fillmode": "overlay",
              "size": 10,
              "solidity": 0.2
             }
            },
            "type": "barpolar"
           }
          ],
          "carpet": [
           {
            "aaxis": {
             "endlinecolor": "#2a3f5f",
             "gridcolor": "white",
             "linecolor": "white",
             "minorgridcolor": "white",
             "startlinecolor": "#2a3f5f"
            },
            "baxis": {
             "endlinecolor": "#2a3f5f",
             "gridcolor": "white",
             "linecolor": "white",
             "minorgridcolor": "white",
             "startlinecolor": "#2a3f5f"
            },
            "type": "carpet"
           }
          ],
          "choropleth": [
           {
            "colorbar": {
             "outlinewidth": 0,
             "ticks": ""
            },
            "type": "choropleth"
           }
          ],
          "contour": [
           {
            "colorbar": {
             "outlinewidth": 0,
             "ticks": ""
            },
            "colorscale": [
             [
              0,
              "#0d0887"
             ],
             [
              0.1111111111111111,
              "#46039f"
             ],
             [
              0.2222222222222222,
              "#7201a8"
             ],
             [
              0.3333333333333333,
              "#9c179e"
             ],
             [
              0.4444444444444444,
              "#bd3786"
             ],
             [
              0.5555555555555556,
              "#d8576b"
             ],
             [
              0.6666666666666666,
              "#ed7953"
             ],
             [
              0.7777777777777778,
              "#fb9f3a"
             ],
             [
              0.8888888888888888,
              "#fdca26"
             ],
             [
              1,
              "#f0f921"
             ]
            ],
            "type": "contour"
           }
          ],
          "contourcarpet": [
           {
            "colorbar": {
             "outlinewidth": 0,
             "ticks": ""
            },
            "type": "contourcarpet"
           }
          ],
          "heatmap": [
           {
            "colorbar": {
             "outlinewidth": 0,
             "ticks": ""
            },
            "colorscale": [
             [
              0,
              "#0d0887"
             ],
             [
              0.1111111111111111,
              "#46039f"
             ],
             [
              0.2222222222222222,
              "#7201a8"
             ],
             [
              0.3333333333333333,
              "#9c179e"
             ],
             [
              0.4444444444444444,
              "#bd3786"
             ],
             [
              0.5555555555555556,
              "#d8576b"
             ],
             [
              0.6666666666666666,
              "#ed7953"
             ],
             [
              0.7777777777777778,
              "#fb9f3a"
             ],
             [
              0.8888888888888888,
              "#fdca26"
             ],
             [
              1,
              "#f0f921"
             ]
            ],
            "type": "heatmap"
           }
          ],
          "histogram": [
           {
            "marker": {
             "pattern": {
              "fillmode": "overlay",
              "size": 10,
              "solidity": 0.2
             }
            },
            "type": "histogram"
           }
          ],
          "histogram2d": [
           {
            "colorbar": {
             "outlinewidth": 0,
             "ticks": ""
            },
            "colorscale": [
             [
              0,
              "#0d0887"
             ],
             [
              0.1111111111111111,
              "#46039f"
             ],
             [
              0.2222222222222222,
              "#7201a8"
             ],
             [
              0.3333333333333333,
              "#9c179e"
             ],
             [
              0.4444444444444444,
              "#bd3786"
             ],
             [
              0.5555555555555556,
              "#d8576b"
             ],
             [
              0.6666666666666666,
              "#ed7953"
             ],
             [
              0.7777777777777778,
              "#fb9f3a"
             ],
             [
              0.8888888888888888,
              "#fdca26"
             ],
             [
              1,
              "#f0f921"
             ]
            ],
            "type": "histogram2d"
           }
          ],
          "histogram2dcontour": [
           {
            "colorbar": {
             "outlinewidth": 0,
             "ticks": ""
            },
            "colorscale": [
             [
              0,
              "#0d0887"
             ],
             [
              0.1111111111111111,
              "#46039f"
             ],
             [
              0.2222222222222222,
              "#7201a8"
             ],
             [
              0.3333333333333333,
              "#9c179e"
             ],
             [
              0.4444444444444444,
              "#bd3786"
             ],
             [
              0.5555555555555556,
              "#d8576b"
             ],
             [
              0.6666666666666666,
              "#ed7953"
             ],
             [
              0.7777777777777778,
              "#fb9f3a"
             ],
             [
              0.8888888888888888,
              "#fdca26"
             ],
             [
              1,
              "#f0f921"
             ]
            ],
            "type": "histogram2dcontour"
           }
          ],
          "mesh3d": [
           {
            "colorbar": {
             "outlinewidth": 0,
             "ticks": ""
            },
            "type": "mesh3d"
           }
          ],
          "parcoords": [
           {
            "line": {
             "colorbar": {
              "outlinewidth": 0,
              "ticks": ""
             }
            },
            "type": "parcoords"
           }
          ],
          "pie": [
           {
            "automargin": true,
            "type": "pie"
           }
          ],
          "scatter": [
           {
            "fillpattern": {
             "fillmode": "overlay",
             "size": 10,
             "solidity": 0.2
            },
            "type": "scatter"
           }
          ],
          "scatter3d": [
           {
            "line": {
             "colorbar": {
              "outlinewidth": 0,
              "ticks": ""
             }
            },
            "marker": {
             "colorbar": {
              "outlinewidth": 0,
              "ticks": ""
             }
            },
            "type": "scatter3d"
           }
          ],
          "scattercarpet": [
           {
            "marker": {
             "colorbar": {
              "outlinewidth": 0,
              "ticks": ""
             }
            },
            "type": "scattercarpet"
           }
          ],
          "scattergeo": [
           {
            "marker": {
             "colorbar": {
              "outlinewidth": 0,
              "ticks": ""
             }
            },
            "type": "scattergeo"
           }
          ],
          "scattergl": [
           {
            "marker": {
             "colorbar": {
              "outlinewidth": 0,
              "ticks": ""
             }
            },
            "type": "scattergl"
           }
          ],
          "scattermap": [
           {
            "marker": {
             "colorbar": {
              "outlinewidth": 0,
              "ticks": ""
             }
            },
            "type": "scattermap"
           }
          ],
          "scattermapbox": [
           {
            "marker": {
             "colorbar": {
              "outlinewidth": 0,
              "ticks": ""
             }
            },
            "type": "scattermapbox"
           }
          ],
          "scatterpolar": [
           {
            "marker": {
             "colorbar": {
              "outlinewidth": 0,
              "ticks": ""
             }
            },
            "type": "scatterpolar"
           }
          ],
          "scatterpolargl": [
           {
            "marker": {
             "colorbar": {
              "outlinewidth": 0,
              "ticks": ""
             }
            },
            "type": "scatterpolargl"
           }
          ],
          "scatterternary": [
           {
            "marker": {
             "colorbar": {
              "outlinewidth": 0,
              "ticks": ""
             }
            },
            "type": "scatterternary"
           }
          ],
          "surface": [
           {
            "colorbar": {
             "outlinewidth": 0,
             "ticks": ""
            },
            "colorscale": [
             [
              0,
              "#0d0887"
             ],
             [
              0.1111111111111111,
              "#46039f"
             ],
             [
              0.2222222222222222,
              "#7201a8"
             ],
             [
              0.3333333333333333,
              "#9c179e"
             ],
             [
              0.4444444444444444,
              "#bd3786"
             ],
             [
              0.5555555555555556,
              "#d8576b"
             ],
             [
              0.6666666666666666,
              "#ed7953"
             ],
             [
              0.7777777777777778,
              "#fb9f3a"
             ],
             [
              0.8888888888888888,
              "#fdca26"
             ],
             [
              1,
              "#f0f921"
             ]
            ],
            "type": "surface"
           }
          ],
          "table": [
           {
            "cells": {
             "fill": {
              "color": "#EBF0F8"
             },
             "line": {
              "color": "white"
             }
            },
            "header": {
             "fill": {
              "color": "#C8D4E3"
             },
             "line": {
              "color": "white"
             }
            },
            "type": "table"
           }
          ]
         },
         "layout": {
          "annotationdefaults": {
           "arrowcolor": "#2a3f5f",
           "arrowhead": 0,
           "arrowwidth": 1
          },
          "autotypenumbers": "strict",
          "coloraxis": {
           "colorbar": {
            "outlinewidth": 0,
            "ticks": ""
           }
          },
          "colorscale": {
           "diverging": [
            [
             0,
             "#8e0152"
            ],
            [
             0.1,
             "#c51b7d"
            ],
            [
             0.2,
             "#de77ae"
            ],
            [
             0.3,
             "#f1b6da"
            ],
            [
             0.4,
             "#fde0ef"
            ],
            [
             0.5,
             "#f7f7f7"
            ],
            [
             0.6,
             "#e6f5d0"
            ],
            [
             0.7,
             "#b8e186"
            ],
            [
             0.8,
             "#7fbc41"
            ],
            [
             0.9,
             "#4d9221"
            ],
            [
             1,
             "#276419"
            ]
           ],
           "sequential": [
            [
             0,
             "#0d0887"
            ],
            [
             0.1111111111111111,
             "#46039f"
            ],
            [
             0.2222222222222222,
             "#7201a8"
            ],
            [
             0.3333333333333333,
             "#9c179e"
            ],
            [
             0.4444444444444444,
             "#bd3786"
            ],
            [
             0.5555555555555556,
             "#d8576b"
            ],
            [
             0.6666666666666666,
             "#ed7953"
            ],
            [
             0.7777777777777778,
             "#fb9f3a"
            ],
            [
             0.8888888888888888,
             "#fdca26"
            ],
            [
             1,
             "#f0f921"
            ]
           ],
           "sequentialminus": [
            [
             0,
             "#0d0887"
            ],
            [
             0.1111111111111111,
             "#46039f"
            ],
            [
             0.2222222222222222,
             "#7201a8"
            ],
            [
             0.3333333333333333,
             "#9c179e"
            ],
            [
             0.4444444444444444,
             "#bd3786"
            ],
            [
             0.5555555555555556,
             "#d8576b"
            ],
            [
             0.6666666666666666,
             "#ed7953"
            ],
            [
             0.7777777777777778,
             "#fb9f3a"
            ],
            [
             0.8888888888888888,
             "#fdca26"
            ],
            [
             1,
             "#f0f921"
            ]
           ]
          },
          "colorway": [
           "#636efa",
           "#EF553B",
           "#00cc96",
           "#ab63fa",
           "#FFA15A",
           "#19d3f3",
           "#FF6692",
           "#B6E880",
           "#FF97FF",
           "#FECB52"
          ],
          "font": {
           "color": "#2a3f5f"
          },
          "geo": {
           "bgcolor": "white",
           "lakecolor": "white",
           "landcolor": "#E5ECF6",
           "showlakes": true,
           "showland": true,
           "subunitcolor": "white"
          },
          "hoverlabel": {
           "align": "left"
          },
          "hovermode": "closest",
          "mapbox": {
           "style": "light"
          },
          "paper_bgcolor": "white",
          "plot_bgcolor": "#E5ECF6",
          "polar": {
           "angularaxis": {
            "gridcolor": "white",
            "linecolor": "white",
            "ticks": ""
           },
           "bgcolor": "#E5ECF6",
           "radialaxis": {
            "gridcolor": "white",
            "linecolor": "white",
            "ticks": ""
           }
          },
          "scene": {
           "xaxis": {
            "backgroundcolor": "#E5ECF6",
            "gridcolor": "white",
            "gridwidth": 2,
            "linecolor": "white",
            "showbackground": true,
            "ticks": "",
            "zerolinecolor": "white"
           },
           "yaxis": {
            "backgroundcolor": "#E5ECF6",
            "gridcolor": "white",
            "gridwidth": 2,
            "linecolor": "white",
            "showbackground": true,
            "ticks": "",
            "zerolinecolor": "white"
           },
           "zaxis": {
            "backgroundcolor": "#E5ECF6",
            "gridcolor": "white",
            "gridwidth": 2,
            "linecolor": "white",
            "showbackground": true,
            "ticks": "",
            "zerolinecolor": "white"
           }
          },
          "shapedefaults": {
           "line": {
            "color": "#2a3f5f"
           }
          },
          "ternary": {
           "aaxis": {
            "gridcolor": "white",
            "linecolor": "white",
            "ticks": ""
           },
           "baxis": {
            "gridcolor": "white",
            "linecolor": "white",
            "ticks": ""
           },
           "bgcolor": "#E5ECF6",
           "caxis": {
            "gridcolor": "white",
            "linecolor": "white",
            "ticks": ""
           }
          },
          "title": {
           "x": 0.05
          },
          "xaxis": {
           "automargin": true,
           "gridcolor": "white",
           "linecolor": "white",
           "ticks": "",
           "title": {
            "standoff": 15
           },
           "zerolinecolor": "white",
           "zerolinewidth": 2
          },
          "yaxis": {
           "automargin": true,
           "gridcolor": "white",
           "linecolor": "white",
           "ticks": "",
           "title": {
            "standoff": 15
           },
           "zerolinecolor": "white",
           "zerolinewidth": 2
          }
         }
        },
        "title": {
         "text": "Interactive Safe Set with Orientation Cones"
        }
       }
      }
     },
     "metadata": {},
     "output_type": "display_data"
    }
   ],
   "source": [
    "import numpy as np\n",
    "import plotly.graph_objects as go\n",
    "from scipy.spatial import ConvexHull\n",
    "\n",
    "def plot_interactive_safe_set_with_cones(npz_filepath=\"safe_set_6d_simulation_seed_10_6.npz\"):\n",
    "    \"\"\"\n",
    "    Load safe-set data (positions + forward vectors) from an NPZ file,\n",
    "    plot the convex hull of positions, and draw orientation cones.\n",
    "    \n",
    "    Args:\n",
    "        npz_filepath (str): Path to the NPZ file containing:\n",
    "            - \"safe_set_positions\": (N,3) array of 3D positions\n",
    "            - \"safe_set_orientations\": (N,3) array of forward vectors\n",
    "    \"\"\"\n",
    "    # Load data from the NPZ file\n",
    "    data = np.load(npz_filepath)\n",
    "    safe_set_positions = data[\"safe_set_positions\"]  # shape (N, 3)\n",
    "    safe_set_orientations = data[\"safe_set_orientations\"]  # shape (N, 3)\n",
    "\n",
    "    # Build the convex hull for the positions\n",
    "    hull = ConvexHull(safe_set_positions, qhull_options=\"QJ\")\n",
    "\n",
    "    # 1) Scatter trace of the raw positions\n",
    "    scatter_trace = go.Scatter3d(\n",
    "        x=safe_set_positions[:, 0],\n",
    "        y=safe_set_positions[:, 1],\n",
    "        z=safe_set_positions[:, 2],\n",
    "        mode=\"markers\",\n",
    "        marker=dict(size=3, color=\"blue\"),\n",
    "        name=\"Safe Set Positions\"\n",
    "    )\n",
    "\n",
    "    # 2) Mesh trace for the convex hull\n",
    "    mesh_trace = go.Mesh3d(\n",
    "        x=safe_set_positions[:, 0],\n",
    "        y=safe_set_positions[:, 1],\n",
    "        z=safe_set_positions[:, 2],\n",
    "        i=hull.simplices[:, 0],\n",
    "        j=hull.simplices[:, 1],\n",
    "        k=hull.simplices[:, 2],\n",
    "        opacity=0.3,\n",
    "        color=\"red\",\n",
    "        name=\"Convex Hull\"\n",
    "    )\n",
    "\n",
    "    # 3) Orientation cones for each position\n",
    "    # Normalize orientation vectors so that we can scale them uniformly\n",
    "    norms = np.linalg.norm(safe_set_orientations, axis=1, keepdims=True)\n",
    "    norms[norms == 0] = 1.0  # avoid division by zero\n",
    "    unit_orientations = safe_set_orientations / norms\n",
    "\n",
    "    # Adjust the scale of cones as needed\n",
    "    scale = 0.02  \n",
    "    u = unit_orientations[:, 0] * scale\n",
    "    v = unit_orientations[:, 1] * scale\n",
    "    w = unit_orientations[:, 2] * scale\n",
    "\n",
    "    cone_trace = go.Cone(\n",
    "        x=safe_set_positions[:, 0],\n",
    "        y=safe_set_positions[:, 1],\n",
    "        z=safe_set_positions[:, 2],\n",
    "        u=u,\n",
    "        v=v,\n",
    "        w=w,\n",
    "        sizemode=\"absolute\",\n",
    "        sizeref=scale,\n",
    "        anchor=\"tail\",\n",
    "        colorscale=\"Blues\",\n",
    "        showscale=False,\n",
    "        name=\"Orientation Cones\"\n",
    "    )\n",
    "\n",
    "    # Combine all traces into a single figure\n",
    "    fig = go.Figure(data=[mesh_trace, scatter_trace, cone_trace])\n",
    "    fig.update_layout(\n",
    "        title=\"Interactive Safe Set with Orientation Cones\",\n",
    "        scene=dict(\n",
    "            xaxis_title=\"X\",\n",
    "            yaxis_title=\"Y\",\n",
    "            zaxis_title=\"Z\"\n",
    "        )\n",
    "    )\n",
    "    fig.show()\n",
    "\n",
    "if __name__ == \"__main__\":\n",
    "    plot_interactive_safe_set_with_cones(\"safe_set_6d_multiple_object_61_20.npz\")\n"
   ]
  }
 ],
 "metadata": {
  "kernelspec": {
   "display_name": "robodiff_2",
   "language": "python",
   "name": "python3"
  },
  "language_info": {
   "codemirror_mode": {
    "name": "ipython",
    "version": 3
   },
   "file_extension": ".py",
   "mimetype": "text/x-python",
   "name": "python",
   "nbconvert_exporter": "python",
   "pygments_lexer": "ipython3",
   "version": "3.9.18"
  }
 },
 "nbformat": 4,
 "nbformat_minor": 2
}
