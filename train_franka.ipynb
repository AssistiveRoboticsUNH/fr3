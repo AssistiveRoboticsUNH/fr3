{
 "cells": [
  {
   "cell_type": "code",
   "execution_count": 1,
   "metadata": {},
   "outputs": [
    {
     "name": "stdout",
     "output_type": "stream",
     "text": [
      "\u001b[33mROBOMIMIC WARNING(\n",
      "    No private macro file found!\n",
      "    It is recommended to use a private macro file\n",
      "    To setup, run: python /home/franka_deoxys/robomimic/robomimic/scripts/setup_macros.py\n",
      ")\u001b[0m\n"
     ]
    }
   ],
   "source": [
    "import argparse\n",
    "import json\n",
    "import numpy as np\n",
    "import time\n",
    "import os\n",
    "import shutil\n",
    "import psutil\n",
    "import sys\n",
    "import socket\n",
    "import traceback\n",
    "\n",
    "from collections import OrderedDict\n",
    "\n",
    "import torch\n",
    "from torch.utils.data import DataLoader\n",
    "\n",
    "import robomimic\n",
    "import robomimic.utils.train_utils as TrainUtils\n",
    "import robomimic.utils.torch_utils as TorchUtils\n",
    "import robomimic.utils.obs_utils as ObsUtils\n",
    "import robomimic.utils.env_utils as EnvUtils\n",
    "import robomimic.utils.file_utils as FileUtils\n",
    "from robomimic.config import config_factory\n",
    "from robomimic.algo import algo_factory, RolloutPolicy\n",
    "from robomimic.utils.log_utils import PrintLogger, DataLogger, flush_warnings"
   ]
  },
  {
   "cell_type": "code",
   "execution_count": 2,
   "metadata": {},
   "outputs": [],
   "source": [
    "config_file = \"/home/franka_deoxys/data_franka/configs/bc_trans.json\" "
   ]
  },
  {
   "cell_type": "code",
   "execution_count": 3,
   "metadata": {},
   "outputs": [
    {
     "data": {
      "text/plain": [
       "device(type='cuda', index=0)"
      ]
     },
     "execution_count": 3,
     "metadata": {},
     "output_type": "execute_result"
    }
   ],
   "source": [
    "ext_cfg = json.load(open(config_file, 'r'))\n",
    "config = config_factory(ext_cfg[\"algo_name\"])\n",
    "# update config with external json - this will throw errors if\n",
    "# the external config has keys not present in the base algo config\n",
    "with config.values_unlocked():\n",
    "    config.update(ext_cfg)\n",
    "\n",
    "config.lock()\n",
    "\n",
    "# get torch device\n",
    "device = TorchUtils.get_torch_device(try_to_use_cuda=config.train.cuda)\n",
    "device"
   ]
  },
  {
   "cell_type": "code",
   "execution_count": null,
   "metadata": {},
   "outputs": [],
   "source": []
  },
  {
   "cell_type": "code",
   "execution_count": 4,
   "metadata": {},
   "outputs": [
    {
     "name": "stdout",
     "output_type": "stream",
     "text": [
      "\n",
      "============= Initialized Observation Utils with Obs Spec =============\n",
      "\n",
      "using obs modality: low_dim with keys: ['ee_states', 'gripper_states', 'joint_states']\n",
      "using obs modality: rgb with keys: ['agentview_rgb', 'eye_in_hand_rgb']\n",
      "using obs modality: depth with keys: []\n",
      "using obs modality: scan with keys: []\n",
      "obs key agentview_rgb with shape (120, 120, 3)\n",
      "obs key ee_states with shape (16,)\n",
      "obs key eye_in_hand_rgb with shape (120, 120, 3)\n",
      "obs key gripper_states with shape (1,)\n",
      "obs key joint_states with shape (7,)\n",
      "SequenceDataset: loading dataset into memory...\n",
      "100%|██████████| 30/30 [00:00<00:00, 195.08it/s]\n",
      "SequenceDataset: caching get_item calls...\n",
      "100%|██████████| 3767/3767 [00:01<00:00, 2436.81it/s]\n"
     ]
    }
   ],
   "source": [
    "# read config to set up metadata for observation modalities (e.g. detecting rgb observations)\n",
    "ObsUtils.initialize_obs_utils_with_config(config)\n",
    "\n",
    "# make sure the dataset exists\n",
    "dataset_path = os.path.expanduser(config.train.data)\n",
    "\n",
    "# load basic metadata from training file\n",
    "shape_meta = FileUtils.get_shape_metadata_from_dataset(\n",
    "    dataset_path=config.train.data,\n",
    "    all_obs_keys=config.all_obs_keys,\n",
    "    verbose=True\n",
    ")\n",
    "trainset, validset = TrainUtils.load_data_for_training(\n",
    "    config, obs_keys=shape_meta[\"all_obs_keys\"])\n",
    "train_sampler = trainset.get_dataset_sampler()"
   ]
  },
  {
   "cell_type": "code",
   "execution_count": 5,
   "metadata": {},
   "outputs": [],
   "source": [
    "# initialize data loaders\n",
    "train_loader = DataLoader(\n",
    "    dataset=trainset,\n",
    "    sampler=train_sampler,\n",
    "    batch_size=config.train.batch_size,\n",
    "    shuffle=(train_sampler is None),\n",
    "    num_workers=config.train.num_data_workers,\n",
    "    drop_last=True\n",
    ")"
   ]
  },
  {
   "cell_type": "code",
   "execution_count": 6,
   "metadata": {},
   "outputs": [
    {
     "name": "stderr",
     "output_type": "stream",
     "text": [
      "/home/franka_deoxys/miniconda3/envs/fr3/lib/python3.8/site-packages/torchvision/models/_utils.py:208: UserWarning: The parameter 'pretrained' is deprecated since 0.13 and may be removed in the future, please use 'weights' instead.\n",
      "  warnings.warn(\n",
      "/home/franka_deoxys/miniconda3/envs/fr3/lib/python3.8/site-packages/torchvision/models/_utils.py:223: UserWarning: Arguments other than a weight enum or `None` for 'weights' are deprecated since 0.13 and may be removed in the future. The current behavior is equivalent to passing `weights=None`.\n",
      "  warnings.warn(msg)\n"
     ]
    },
    {
     "name": "stdout",
     "output_type": "stream",
     "text": [
      "Created GPT_Backbone model with number of parameters: 18906112\n"
     ]
    }
   ],
   "source": [
    "model = algo_factory(\n",
    "    algo_name=config.algo_name,\n",
    "    config=config,\n",
    "    obs_key_shapes=shape_meta[\"all_shapes\"],\n",
    "    ac_dim=shape_meta[\"ac_dim\"],\n",
    "    device=device,\n",
    ")"
   ]
  },
  {
   "cell_type": "code",
   "execution_count": null,
   "metadata": {},
   "outputs": [],
   "source": []
  },
  {
   "cell_type": "code",
   "execution_count": null,
   "metadata": {},
   "outputs": [],
   "source": [
    "# step_log = TrainUtils.run_epoch(\n",
    "#     model=model,\n",
    "#     data_loader=train_loader,\n",
    "#     epoch=epoch,\n",
    "#     num_steps=train_num_steps,\n",
    "#     obs_normalization_stats=obs_normalization_stats,\n",
    "# )\n",
    "# model.on_epoch_end(epoch)"
   ]
  },
  {
   "cell_type": "code",
   "execution_count": null,
   "metadata": {},
   "outputs": [],
   "source": []
  },
  {
   "cell_type": "code",
   "execution_count": 9,
   "metadata": {},
   "outputs": [
    {
     "data": {
      "text/plain": [
       "37"
      ]
     },
     "execution_count": 9,
     "metadata": {},
     "output_type": "execute_result"
    }
   ],
   "source": [
    "len(train_loader)"
   ]
  },
  {
   "cell_type": "code",
   "execution_count": 10,
   "metadata": {},
   "outputs": [
    {
     "data": {
      "text/plain": [
       "dict_keys(['actions', 'obs'])"
      ]
     },
     "execution_count": 10,
     "metadata": {},
     "output_type": "execute_result"
    }
   ],
   "source": [
    "batch = next(iter(train_loader))\n",
    "batch.keys()"
   ]
  },
  {
   "cell_type": "code",
   "execution_count": 12,
   "metadata": {},
   "outputs": [
    {
     "name": "stdout",
     "output_type": "stream",
     "text": [
      "agentview_rgb torch.Size([100, 10, 120, 120, 3])\n",
      "ee_states torch.Size([100, 10, 16])\n",
      "eye_in_hand_rgb torch.Size([100, 10, 120, 120, 3])\n",
      "gripper_states torch.Size([100, 10, 1])\n",
      "joint_states torch.Size([100, 10, 7])\n"
     ]
    }
   ],
   "source": [
    "for key in batch['obs'].keys():\n",
    "    print(key, batch['obs'][key].shape)"
   ]
  },
  {
   "cell_type": "code",
   "execution_count": null,
   "metadata": {},
   "outputs": [],
   "source": []
  },
  {
   "cell_type": "code",
   "execution_count": null,
   "metadata": {},
   "outputs": [],
   "source": []
  },
  {
   "cell_type": "code",
   "execution_count": null,
   "metadata": {},
   "outputs": [],
   "source": []
  },
  {
   "cell_type": "code",
   "execution_count": null,
   "metadata": {},
   "outputs": [],
   "source": []
  },
  {
   "cell_type": "code",
   "execution_count": null,
   "metadata": {},
   "outputs": [],
   "source": []
  },
  {
   "cell_type": "code",
   "execution_count": null,
   "metadata": {},
   "outputs": [],
   "source": []
  },
  {
   "cell_type": "code",
   "execution_count": null,
   "metadata": {},
   "outputs": [],
   "source": []
  },
  {
   "cell_type": "code",
   "execution_count": null,
   "metadata": {},
   "outputs": [],
   "source": []
  },
  {
   "cell_type": "code",
   "execution_count": null,
   "metadata": {},
   "outputs": [],
   "source": []
  },
  {
   "cell_type": "code",
   "execution_count": null,
   "metadata": {},
   "outputs": [],
   "source": []
  },
  {
   "cell_type": "code",
   "execution_count": null,
   "metadata": {},
   "outputs": [],
   "source": []
  }
 ],
 "metadata": {
  "kernelspec": {
   "display_name": "Python 3 (ipykernel)",
   "language": "python",
   "name": "python3"
  },
  "language_info": {
   "codemirror_mode": {
    "name": "ipython",
    "version": 3
   },
   "file_extension": ".py",
   "mimetype": "text/x-python",
   "name": "python",
   "nbconvert_exporter": "python",
   "pygments_lexer": "ipython3",
   "version": "3.8.20"
  },
  "orig_nbformat": 4,
  "vscode": {
   "interpreter": {
    "hash": "0470c1ad2f0fb27cfc2238567a653f05115d47bf4fc5f86d0f161d89abc1f79a"
   }
  }
 },
 "nbformat": 4,
 "nbformat_minor": 2
}
