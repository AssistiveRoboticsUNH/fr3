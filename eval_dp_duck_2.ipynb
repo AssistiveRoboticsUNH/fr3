{
 "cells": [
  {
   "cell_type": "code",
   "execution_count": 1,
   "metadata": {},
   "outputs": [
    {
     "name": "stderr",
     "output_type": "stream",
     "text": [
      "/home/franka_deoxys/miniconda3/envs/robodiff_2/lib/python3.9/site-packages/tqdm/auto.py:21: TqdmWarning: IProgress not found. Please update jupyter and ipywidgets. See https://ipywidgets.readthedocs.io/en/stable/user_install.html\n",
      "  from .autonotebook import tqdm as notebook_tqdm\n",
      "/home/franka_deoxys/miniconda3/envs/robodiff_2/lib/python3.9/site-packages/torch/cuda/__init__.py:129: UserWarning: CUDA initialization: The NVIDIA driver on your system is too old (found version 11040). Please update your GPU driver by downloading and installing a new version from the URL: http://www.nvidia.com/Download/index.aspx Alternatively, go to: https://pytorch.org to install a PyTorch version that has been compiled with your version of the CUDA driver. (Triggered internally at /pytorch/c10/cuda/CUDAFunctions.cpp:109.)\n",
      "  return torch._C._cuda_getDeviceCount() > 0\n"
     ]
    }
   ],
   "source": [
    "import sys \n",
    "from pathlib import Path\n",
    "import torch\n",
    "import os\n",
    "import dill\n",
    "import numpy as np\n",
    "import matplotlib.pyplot as plt\n",
    "import tqdm\n",
    "import os\n",
    "from pathlib import Path\n",
    "import cv2\n",
    "import time\n",
    "\n",
    "sys.path.append(\"/home/franka_deoxys/diffusion_policy\")\n",
    "from diffusion_policy.workspace.base_workspace import BaseWorkspace\n",
    "from diffusion_policy.model.common.rotation_transformer import RotationTransformer\n",
    "from diffusion_policy.common.pytorch_util import dict_apply\n",
    "from diffusion_policy.workspace.train_diffusion_unet_hybrid_workspace import TrainDiffusionUnetHybridWorkspace\n",
    "\n",
    "\n",
    "sys.path.append(\"/home/franka_deoxys/deoxys_control/deoxys\")\n",
    "from deoxys import config_root\n",
    "from deoxys.franka_interface import FrankaInterface\n",
    "from deoxys.utils import  YamlConfig\n",
    "from deoxys.utils.config_utils import robot_config_parse_args\n",
    "from deoxys.utils.input_utils import input2action\n",
    "from deoxys.utils.io_devices import SpaceMouse\n",
    "from deoxys.utils.log_utils import get_deoxys_example_logger\n",
    "from deoxys.experimental.motion_utils import follow_joint_traj, reset_joints_to\n",
    "\n",
    "sys.path.append(\"/home/franka_deoxys/deoxys_vision\")\n",
    "from deoxys_vision.networking.camera_redis_interface import CameraRedisSubInterface\n",
    "from deoxys_vision.utils.camera_utils import assert_camera_ref_convention, get_camera_info\n",
    "\n",
    "\n",
    "from util_eval import RobotStateRawObsDictGenerator, FrameStackForTrans\n",
    "\n",
    "np.set_printoptions(precision=3, suppress=True)\n",
    "\n",
    "logger = get_deoxys_example_logger()"
   ]
  },
  {
   "cell_type": "code",
   "execution_count": 2,
   "metadata": {},
   "outputs": [
    {
     "data": {
      "text/plain": [
       "device(type='cpu')"
      ]
     },
     "execution_count": 2,
     "metadata": {},
     "output_type": "execute_result"
    }
   ],
   "source": [
    "device = torch.device(\"cuda\" if torch.cuda.is_available() else \"cpu\")\n",
    "device"
   ]
  },
  {
   "cell_type": "code",
   "execution_count": 3,
   "metadata": {},
   "outputs": [
    {
     "name": "stdout",
     "output_type": "stream",
     "text": [
      "Opening SpaceMouse device\n",
      "Manufacturer: 3Dconnexion\n",
      "Product: 3Dconnexion Universal Receiver\n",
      "\n",
      "Control                       \tCommand\n",
      "Right button                  \treset simulation\n",
      "Left button (hold)            \tclose gripper\n",
      "Move mouse laterally          \tmove arm horizontally in x-y plane\n",
      "Move mouse vertically         \tmove arm vertically\n",
      "Twist mouse about an axis     \trotate arm about a corresponding axis\n",
      "ESC                           \tquit\n",
      "\n"
     ]
    }
   ],
   "source": [
    "args = robot_config_parse_args()\n",
    "robot_interface = FrankaInterface(os.path.join(config_root, args.interface_cfg))\n",
    "controller_cfg = YamlConfig(\n",
    "    os.path.join(config_root, args.controller_cfg)\n",
    ").as_easydict()\n",
    "controller_type = args.controller_type\n",
    "\n",
    "# spacemouse = SpaceMouse(vendor_id=9583, product_id=50734) \n",
    "#old spacemoue not wireless\n",
    "spacemouse = SpaceMouse(vendor_id=9583, product_id=50770)\n",
    "spacemouse.start_control()\n",
    "raw_obs_dict_generator = RobotStateRawObsDictGenerator()"
   ]
  },
  {
   "cell_type": "code",
   "execution_count": 4,
   "metadata": {},
   "outputs": [],
   "source": [
    "def set_gripper(open=True):\n",
    "    d=-1. if open else 1.0\n",
    "    action_close=np.array([ 0.,  0., -0.,  0.,  0., -0., d])\n",
    "    robot_interface.control(\n",
    "        controller_type=controller_type,\n",
    "        action=action_close,\n",
    "        controller_cfg=controller_cfg,\n",
    "    )"
   ]
  },
  {
   "cell_type": "markdown",
   "metadata": {},
   "source": [
    "### reset robot position (no need to do it from terminal)"
   ]
  },
  {
   "cell_type": "code",
   "execution_count": 5,
   "metadata": {},
   "outputs": [],
   "source": [
    "# copied from reset_robot_joints.py\n",
    "# Golden resetting joints\n",
    "reset_joint_positions = [\n",
    "        0.037,-1.655,0.099,-2.993,-0.074,2.321,0.921]\n",
    "\n",
    "# reset_joint_positions= [0.03492503,-1.64946574,0.09731048,-2.99831706,\n",
    "#                         0.06887073,2.31927159,0.91575789]"
   ]
  },
  {
   "cell_type": "code",
   "execution_count": 6,
   "metadata": {},
   "outputs": [
    {
     "name": "stdout",
     "output_type": "stream",
     "text": [
      "JOINT_POSITION\n"
     ]
    },
    {
     "data": {
      "text/plain": [
       "True"
      ]
     },
     "execution_count": 6,
     "metadata": {},
     "output_type": "execute_result"
    }
   ],
   "source": [
    "reset_joints_to(robot_interface, reset_joint_positions)\n",
    "# set_gripper(open=True)"
   ]
  },
  {
   "cell_type": "code",
   "execution_count": 7,
   "metadata": {},
   "outputs": [],
   "source": [
    "if robot_interface._state_buffer:\n",
    "    last_state = robot_interface._state_buffer[-1]\n",
    "else:\n",
    "    print(\"The state buffer is empty.\")\n",
    "    "
   ]
  },
  {
   "cell_type": "markdown",
   "metadata": {},
   "source": [
    "### getting lowdim obs + camera obs"
   ]
  },
  {
   "cell_type": "code",
   "execution_count": 8,
   "metadata": {},
   "outputs": [
    {
     "name": "stdout",
     "output_type": "stream",
     "text": [
      "---------****-----------\n",
      "{'camera_id': 0, 'camera_type': 'rs', 'camera_name': 'camera_rs_0'}\n",
      "--------------------------\n",
      "CameraRedisSubInterface:: {'camera_id': 0, 'camera_type': 'rs', 'camera_name': 'camera_rs_0'} True False\n",
      "---------****-----------\n",
      "{'camera_id': 1, 'camera_type': 'rs', 'camera_name': 'camera_rs_1'}\n",
      "--------------------------\n",
      "CameraRedisSubInterface:: {'camera_id': 1, 'camera_type': 'rs', 'camera_name': 'camera_rs_1'} True False\n"
     ]
    }
   ],
   "source": [
    "camera_ids = [0, 1]\n",
    "# camera_ids = [0]\n",
    "cr_interfaces = {}\n",
    "\n",
    "use_depth = False\n",
    "for camera_id in camera_ids:\n",
    "    camera_ref=f\"rs_{camera_id}\"\n",
    "    assert_camera_ref_convention(camera_ref)\n",
    "    camera_info = get_camera_info(camera_ref)\n",
    "    print('---------****-----------')\n",
    "    print(camera_info)\n",
    "    print('--------------------------')\n",
    "    # camera_info=  {'camera_id': 0, 'camera_type': 'rs', 'camera_name': 'camera_rs_0'}\n",
    "# \n",
    "\n",
    "    cr_interface = CameraRedisSubInterface(camera_info=camera_info, use_depth=use_depth, redis_host='127.0.0.1')\n",
    "    cr_interface.start()\n",
    "    cr_interfaces[camera_id] = cr_interface"
   ]
  },
  {
   "cell_type": "code",
   "execution_count": null,
   "metadata": {},
   "outputs": [],
   "source": []
  },
  {
   "cell_type": "code",
   "execution_count": 9,
   "metadata": {},
   "outputs": [],
   "source": [
    "def get_imgs(use_depth=False):\n",
    "    data = {}\n",
    "    for camera_id in camera_ids:\n",
    "        img_info = cr_interfaces[camera_id].get_img_info()\n",
    "        data[f\"camera_{camera_id}\"]=img_info\n",
    "\n",
    "        imgs = cr_interfaces[camera_id].get_img()\n",
    "    \n",
    "        color_img = imgs[\"color\"][..., ::-1]\n",
    "        \n",
    "        # color_img = cv2.resize(color_img, (128, 128))  \n",
    "        # depth_img = cv2.resize(depth_img, (128, 128))\n",
    "        \n",
    "        # color_img = cv2.resize(color_img, ) \n",
    "\n",
    "\n",
    "        # color_img = cv2.resize(color_img, (224, 224), fx=0.5, fy=0.5)\n",
    "\n",
    "        color_img = cv2.resize(color_img, None, fx=0.5, fy=0.5)\n",
    "\n",
    "        data[f\"camera_{camera_id}_color\"]=color_img\n",
    "\n",
    "        if use_depth:\n",
    "            depth_img = imgs[\"depth\"]\n",
    "            depth_img = cv2.resize(depth_img, (224, 224)) \n",
    "            data[f\"camera_{camera_id}_depth\"]=depth_img\n",
    "    return data"
   ]
  },
  {
   "cell_type": "code",
   "execution_count": 10,
   "metadata": {},
   "outputs": [
    {
     "name": "stdout",
     "output_type": "stream",
     "text": [
      "keys:  dict_keys(['camera_0', 'camera_0_color', 'camera_1', 'camera_1_color'])\n"
     ]
    },
    {
     "data": {
      "text/plain": [
       "((240, 320, 3), (240, 320, 3))"
      ]
     },
     "execution_count": 10,
     "metadata": {},
     "output_type": "execute_result"
    }
   ],
   "source": [
    "data = get_imgs()\n",
    "print('keys: ', data.keys())\n",
    "\n",
    "img_wrist = data['camera_0_color']\n",
    "img_front = data['camera_1_color']\n",
    "\n",
    "agentview_rgb=img_wrist \n",
    "eye_in_hand_rgb=img_front\n",
    "agentview_rgb.shape, eye_in_hand_rgb.shape"
   ]
  },
  {
   "cell_type": "code",
   "execution_count": 11,
   "metadata": {},
   "outputs": [
    {
     "data": {
      "text/plain": [
       "<matplotlib.image.AxesImage at 0x71a538930bb0>"
      ]
     },
     "execution_count": 11,
     "metadata": {},
     "output_type": "execute_result"
    },
    {
     "data": {
      "image/png": "[encoded data removed]",
      "text/plain": [
       "<Figure size 640x480 with 2 Axes>"
      ]
     },
     "metadata": {},
     "output_type": "display_data"
    }
   ],
   "source": [
    "plt.subplot(121)\n",
    "plt.imshow(agentview_rgb[:,:,::-1])\n",
    "plt.subplot(122)\n",
    "plt.imshow(eye_in_hand_rgb[:,:,::-1])"
   ]
  },
  {
   "cell_type": "code",
   "execution_count": null,
   "metadata": {},
   "outputs": [],
   "source": []
  },
  {
   "cell_type": "code",
   "execution_count": 12,
   "metadata": {},
   "outputs": [],
   "source": [
    "def get_current_obs(robot_interface):\n",
    "    last_state = robot_interface._state_buffer[-1]\n",
    "    # print(last_state)\n",
    "    last_gripper_state = robot_interface._gripper_state_buffer[-1]\n",
    "    \n",
    "    obs_dict = raw_obs_dict_generator.get_raw_obs_dict(\n",
    "    {\"last_state\": last_state, \"last_gripper_state\": last_gripper_state})\n",
    "    # obs_dict={} #rgb only \n",
    "\n",
    "    data = get_imgs()\n",
    "    img_wrist = data['camera_0_color']\n",
    "    img_front = data['camera_1_color']\n",
    "\n",
    "    agentview_rgb=img_wrist\n",
    "    eye_in_hand_rgb=img_front\n",
    "    # agentview_rgb=cv2.resize(img_wrist, (120, 120))  \n",
    "    # eye_in_hand_rgb=cv2.resize(img_front, (120, 120)) \n",
    "\n",
    "    # agentview_rgb.shape, eye_in_hand_rgb.shape\n",
    "\n",
    "    # obs_dict['agentview_rgb']=agentview_rgb.transpose(2, 1, 0)\n",
    "    obs_dict['eye_in_hand_rgb']=eye_in_hand_rgb.transpose(2, 1, 0)\n",
    "    return obs_dict"
   ]
  },
  {
   "cell_type": "code",
   "execution_count": 26,
   "metadata": {},
   "outputs": [
    {
     "name": "stdout",
     "output_type": "stream",
     "text": [
      "ee_states (1, 16)\n",
      "joint_states (1, 7)\n",
      "gripper_states (1, 1)\n",
      "eye_in_hand_rgb (1, 3, 320, 240)\n"
     ]
    }
   ],
   "source": [
    "obs_dict=get_current_obs(robot_interface)\n",
    "for key in obs_dict.keys():\n",
    "    obs_dict[key]=obs_dict[key][None]\n",
    "    print(key, obs_dict[key].shape)"
   ]
  },
  {
   "cell_type": "code",
   "execution_count": null,
   "metadata": {},
   "outputs": [],
   "source": []
  },
  {
   "cell_type": "markdown",
   "metadata": {},
   "source": [
    "### Now load dp policy"
   ]
  },
  {
   "cell_type": "code",
   "execution_count": 25,
   "metadata": {},
   "outputs": [
    {
     "name": "stdout",
     "output_type": "stream",
     "text": [
      "\n",
      "============= Initialized Observation Utils with Obs Spec =============\n",
      "\n",
      "using obs modality: low_dim with keys: ['joint_states', 'ee_states', 'gripper_states']\n",
      "using obs modality: rgb with keys: ['eye_in_hand_rgb']\n",
      "using obs modality: depth with keys: []\n",
      "using obs modality: scan with keys: []\n"
     ]
    },
    {
     "name": "stderr",
     "output_type": "stream",
     "text": [
      "/home/franka_deoxys/miniconda3/envs/robodiff_2/lib/python3.9/site-packages/torchvision/models/_utils.py:208: UserWarning: The parameter 'pretrained' is deprecated since 0.13 and may be removed in the future, please use 'weights' instead.\n",
      "  warnings.warn(\n",
      "/home/franka_deoxys/miniconda3/envs/robodiff_2/lib/python3.9/site-packages/torchvision/models/_utils.py:223: UserWarning: Arguments other than a weight enum or `None` for 'weights' are deprecated since 0.13 and may be removed in the future. The current behavior is equivalent to passing `weights=None`.\n",
      "  warnings.warn(msg)\n"
     ]
    },
    {
     "name": "stdout",
     "output_type": "stream",
     "text": [
      "Diffusion params: 2.528022e+08\n",
      "Vision params: 1.119709e+07\n"
     ]
    }
   ],
   "source": [
    "# checkpoint = \"/home/franka_deoxys/data_franka/dp_policy/after_train.ckpt\"\n",
    "\n",
    "# checkpoint = \"/home/franka_deoxys/data_franka/gib_epoch_100_20250122_162234.ckpt\"\n",
    "# checkpoint = \"/home/franka_deoxys/data_franka/40good_epoch_700_20250102_033222.ckpt\"\n",
    "# checkpoint = \"/home/franka_deoxys/data_franka/epoch_400_20250104_131502.ckpt\"\n",
    "# checkpoint = \"/home/franka_deoxys/data_franka/1000_epochs_40_old_ola.ckpt\"\n",
    "# checkpoint = \"/home/franka_deoxys/data_franka/bell180_after_train.ckpt\"\n",
    "# checkpoint = \"/home/franka_deoxys/data_franka/drawer_mixed_700.ckpt\"\n",
    "# checkpoint = \"/home/franka_deoxys/data_franka/40good_bell_epoch_900_20250121_072728.ckpt\"\n",
    "\n",
    "# checkpoint = \"/home/franka_deoxys/data_franka/gib2_epoch_700_20250124_102842.ckpt\"\n",
    "# checkpoint = \"/home/franka_deoxys/data_franka/drawer_mixed_700.ckpt\"\n",
    "\n",
    "# checkpoint = \"/home/franka_deoxys/data_franka/policies/epoch_700_drawer_bell40.ckpt\"\n",
    "# checkpoint = \"/home/franka_deoxys/data_franka/policies/epoch_700_drawer_bell_60.ckpt\"\n",
    "# checkpoint = \"/home/franka_deoxys/data_franka/policies/epoch_600_20250127_111354.ckpt\"\n",
    "# checkpoint = \"/home/franka_deoxys/data_franka/policies/epoch_700_drawer_bellpepper_bed.ckpt\"\n",
    "# checkpoint = \"/home/franka_deoxys/data_franka/policies/epoch_700_20250127_131921_gib.ckpt\"\n",
    "checkpoint = '/home/franka_deoxys/riad/diffusion_policy/duck_train/epoch_400_20250227_225952.ckpt'\n",
    "payload = torch.load(open(checkpoint, 'rb'), pickle_module=dill)\n",
    "cfg = payload['cfg'] \n",
    "workspace = TrainDiffusionUnetHybridWorkspace(cfg, output_dir=None)\n",
    "workspace: BaseWorkspace\n",
    "workspace.load_payload(payload, exclude_keys=None, include_keys=None)"
   ]
  },
  {
   "cell_type": "code",
   "execution_count": 27,
   "metadata": {},
   "outputs": [],
   "source": [
    "# get policy from workspace\n",
    "policy = workspace.model\n",
    "if cfg.training.use_ema:\n",
    "    policy = workspace.ema_model\n",
    "\n",
    "device = torch.device(device)\n",
    "policy.to(device)\n",
    "policy.eval()\n",
    "pass "
   ]
  },
  {
   "cell_type": "code",
   "execution_count": 28,
   "metadata": {},
   "outputs": [],
   "source": [
    "rotation_transformer = RotationTransformer('axis_angle', 'rotation_6d')\n",
    "\n",
    "def undo_transform_action( action):\n",
    "    raw_shape = action.shape\n",
    "    if raw_shape[-1] == 20:\n",
    "        # dual arm\n",
    "        action = action.reshape(-1,2,10)\n",
    "\n",
    "    d_rot = action.shape[-1] - 4\n",
    "    pos = action[...,:3]\n",
    "    rot = action[...,3:3+d_rot]\n",
    "    gripper = action[...,[-1]]\n",
    "    rot = rotation_transformer.inverse(rot)\n",
    "    uaction = np.concatenate([\n",
    "        pos, rot, gripper\n",
    "    ], axis=-1)\n",
    "\n",
    "    if raw_shape[-1] == 20:\n",
    "        # dual arm\n",
    "        uaction = uaction.reshape(*raw_shape[:-1], 14)\n",
    "\n",
    "    return uaction\n"
   ]
  },
  {
   "cell_type": "markdown",
   "metadata": {},
   "source": [
    "### test prediction on a obs"
   ]
  },
  {
   "cell_type": "code",
   "execution_count": 29,
   "metadata": {},
   "outputs": [],
   "source": [
    "def predict_action(obs):\n",
    "    \"\"\" \n",
    "    obs: 2x...\n",
    "    \"\"\"\n",
    "    np_obs_dict = {key:obs[key] for key in keys_select}\n",
    "    obs_dict = dict_apply(np_obs_dict, \n",
    "        lambda x: torch.from_numpy(x).to(\n",
    "            device=device))\n",
    "\n",
    "    for key in obs_dict.keys():\n",
    "        obs_dict[key]=obs_dict[key].unsqueeze(0) \n",
    "\n",
    "    \n",
    "    with torch.no_grad():\n",
    "        action_dict = policy.predict_action(obs_dict)\n",
    "\n",
    "    # device_transfer\n",
    "    np_action_dict = dict_apply(action_dict, lambda x: x.detach().to('cpu').numpy())\n",
    "\n",
    "\n",
    "    # step env\n",
    "    env_action =  np_action_dict['action']\n",
    "    env_action = undo_transform_action(env_action)\n",
    "\n",
    "    env_action=env_action.squeeze()\n",
    "    return env_action"
   ]
  },
  {
   "cell_type": "code",
   "execution_count": 30,
   "metadata": {},
   "outputs": [],
   "source": [
    "framestacker=FrameStackForTrans(2)\n",
    "keys_select = [ 'joint_states', 'ee_states', 'eye_in_hand_rgb', 'gripper_states']"
   ]
  },
  {
   "cell_type": "code",
   "execution_count": 31,
   "metadata": {},
   "outputs": [
    {
     "name": "stdout",
     "output_type": "stream",
     "text": [
      "ee_states (16,)\n",
      "joint_states (7,)\n",
      "gripper_states (1,)\n",
      "eye_in_hand_rgb (3, 320, 240)\n"
     ]
    }
   ],
   "source": [
    "obs_dict=get_current_obs(robot_interface)\n",
    "for key in obs_dict.keys(): \n",
    "    print(key, obs_dict[key].shape)"
   ]
  },
  {
   "cell_type": "code",
   "execution_count": 32,
   "metadata": {},
   "outputs": [],
   "source": [
    "keys_select = [ 'joint_states', 'ee_states', 'eye_in_hand_rgb', 'gripper_states']"
   ]
  },
  {
   "cell_type": "code",
   "execution_count": 33,
   "metadata": {},
   "outputs": [],
   "source": [
    "framestacker=FrameStackForTrans(2) \n",
    "policy.reset()\n",
    "\n",
    "obs_dict=get_current_obs(robot_interface)\n",
    "obs = framestacker.reset(obs_dict)"
   ]
  },
  {
   "cell_type": "code",
   "execution_count": 34,
   "metadata": {},
   "outputs": [
    {
     "data": {
      "text/plain": [
       "array([[ 0.48 ,  0.005,  0.162,  0.003,  0.03 , -0.008, -1.   ],\n",
       "       [ 0.478,  0.006,  0.175,  0.002,  0.024, -0.008, -0.998],\n",
       "       [ 0.499,  0.012,  0.151,  0.002,  0.017, -0.006, -0.998],\n",
       "       [ 0.499,  0.012,  0.157,  0.001,  0.015, -0.008, -1.   ],\n",
       "       [ 0.514,  0.012,  0.127,  0.002,  0.01 , -0.008, -0.999],\n",
       "       [ 0.538,  0.02 ,  0.148, -0.002,  0.011, -0.008, -0.998],\n",
       "       [ 0.534,  0.013,  0.118,  0.001,  0.005, -0.01 , -0.999],\n",
       "       [ 0.545,  0.019,  0.119, -0.003,  0.004, -0.009, -0.999]],\n",
       "      dtype=float32)"
      ]
     },
     "execution_count": 34,
     "metadata": {},
     "output_type": "execute_result"
    }
   ],
   "source": [
    "obs_dict=get_current_obs(robot_interface)\n",
    "obs = framestacker.add_new_obs(obs_dict)\n",
    "action_pred=predict_action(obs)\n",
    "action_pred"
   ]
  },
  {
   "cell_type": "code",
   "execution_count": null,
   "metadata": {},
   "outputs": [],
   "source": []
  },
  {
   "cell_type": "markdown",
   "metadata": {},
   "source": [
    "Safety Check"
   ]
  },
  {
   "cell_type": "code",
   "execution_count": 35,
   "metadata": {},
   "outputs": [],
   "source": [
    "import time\n",
    "import numpy as np\n",
    "import plotly.graph_objects as go\n",
    "from scipy.spatial import ConvexHull\n",
    "from scipy.spatial.transform import Rotation as R"
   ]
  },
  {
   "cell_type": "code",
   "execution_count": 39,
   "metadata": {},
   "outputs": [],
   "source": [
    "###############################################################################\n",
    "# 1) (Unchanged) Forward Kinematics & Safe-Set Utilities\n",
    "###############################################################################\n",
    "def dh_transform(a, alpha, d, theta):\n",
    "    return np.array([\n",
    "        [ np.cos(theta), -np.sin(theta)*np.cos(alpha),  np.sin(theta)*np.sin(alpha),  a*np.cos(theta)],\n",
    "        [ np.sin(theta),  np.cos(theta)*np.cos(alpha), -np.cos(theta)*np.sin(alpha),  a*np.sin(theta)],\n",
    "        [ 0,              np.sin(alpha),                np.cos(alpha),                d              ],\n",
    "        [ 0,              0,                            0,                            1              ]\n",
    "    ], dtype=float)\n",
    "\n",
    "\n",
    "def franka_forward_kinematics(joint_angles):\n",
    "    \"\"\"\n",
    "    Convert 7 Franka joint angles -> 4x4 transform in the base frame.\n",
    "    (Same code as used in your safe-set generation.)\n",
    "    \"\"\"\n",
    "    q1, q2, q3, q4, q5, q6, q7 = joint_angles\n",
    "    T1 = dh_transform(a=0,       alpha=0,         d=0.333,   theta=q1)\n",
    "    T2 = dh_transform(a=0,       alpha=-np.pi/2,  d=0,       theta=q2)\n",
    "    T3 = dh_transform(a=0,       alpha=np.pi/2,   d=0.316,   theta=q3)\n",
    "    T4 = dh_transform(a=0.0825,  alpha=np.pi/2,   d=0,       theta=q4)\n",
    "    T5 = dh_transform(a=-0.0825, alpha=-np.pi/2,  d=0.384,   theta=q5)\n",
    "    T6 = dh_transform(a=0,       alpha=np.pi/2,   d=0,       theta=q6)\n",
    "    T7 = dh_transform(a=0.088,   alpha=np.pi/2,   d=0,       theta=q7)\n",
    "    # Flange offset\n",
    "    T_flange = dh_transform(a=0, alpha=0, d=0.107, theta=0)\n",
    "    return T1 @ T2 @ T3 @ T4 @ T5 @ T6 @ T7 @ T_flange\n",
    "\n",
    "def joint_angles_to_end_effector_pose(joint_angles):\n",
    "    \"\"\"\n",
    "    Convert 7 Franka joint angles -> [x, y, z, qx, qy, qz, qw].\n",
    "    (Exactly the same as in your safe-set code.)\n",
    "    \"\"\"\n",
    "    T = franka_forward_kinematics(joint_angles)\n",
    "    x, y, z = T[0, 3], T[1, 3], T[2, 3]\n",
    "    rot_mat = T[:3, :3]\n",
    "    quat = R.from_matrix(rot_mat).as_quat()  # [qx, qy, qz, qw]\n",
    "    return np.array([x, y, z, quat[0], quat[1], quat[2], quat[3]], dtype=float)\n",
    "\n",
    "def normalize_quaternion(q):\n",
    "    norm = np.linalg.norm(q)\n",
    "    return q / norm if norm > 1e-6 else np.array([0, 0, 0, 1])\n",
    "\n",
    "def pose7d_to_6d(pose7d):\n",
    "    \"\"\"\n",
    "    Convert a 7D pose (position + quaternion) to a minimal 6D representation:\n",
    "    [x, y, z, rx, ry, rz] where (rx, ry, rz) is the rotation vector.\n",
    "    \"\"\"\n",
    "    pos = pose7d[:3]\n",
    "    quat = pose7d[3:7]\n",
    "    norm = np.linalg.norm(quat)\n",
    "    quat = quat / norm if norm > 1e-6 else np.array([0, 0, 0, 1])\n",
    "    rotvec = R.from_quat(quat).as_rotvec()\n",
    "    return np.hstack([pos, rotvec])\n",
    "\n",
    "def load_safe_set(file_path=\"safe_set_6d.npz\"):\n",
    "    data = np.load(file_path)\n",
    "    return data[\"safe_set\"], data[\"hull_equations\"], data[\"hull_vertices\"]\n",
    "\n",
    "def is_pose_in_safe_set_6d(query_6d, hull_equations, tol=1e-8):\n",
    "    A = hull_equations[:, :-1]  # shape (m,6)\n",
    "    b = hull_equations[:, -1]   # shape (m,)\n",
    "    norms = np.linalg.norm(A, axis=1)\n",
    "    distances = (A.dot(query_6d) + b) / norms\n",
    "    inside = np.all(distances <= tol)\n",
    "    return inside, distances\n",
    "\n",
    "###############################################################################\n",
    "# 2) Visualization (optional, unchanged from your snippet)\n",
    "###############################################################################\n",
    "def visualize_policy_predictions(safe_set, predicted_poses_7d, inside_flags, title=\"Policy Predictions vs. Safe Set\"):\n",
    "    hull_3d = ConvexHull(safe_set[:, :3])\n",
    "    fig = go.Figure()\n",
    "    fig.add_trace(go.Mesh3d(\n",
    "        x=safe_set[:, 0],\n",
    "        y=safe_set[:, 1],\n",
    "        z=safe_set[:, 2],\n",
    "        i=hull_3d.simplices[:, 0],\n",
    "        j=hull_3d.simplices[:, 1],\n",
    "        k=hull_3d.simplices[:, 2],\n",
    "        opacity=0.3,\n",
    "        color='lightblue',\n",
    "        name='Safe Set Hull'\n",
    "    ))\n",
    "    predicted_positions = predicted_poses_7d[:, :3]\n",
    "    colors = [\"green\" if flag else \"red\" for flag in inside_flags]\n",
    "    fig.add_trace(go.Scatter3d(\n",
    "        x=predicted_positions[:, 0],\n",
    "        y=predicted_positions[:, 1],\n",
    "        z=predicted_positions[:, 2],\n",
    "        mode='markers+lines',\n",
    "        marker=dict(size=5, color=colors),\n",
    "        line=dict(color='gray', width=2),\n",
    "        name='EEF Poses (Real Joints)'\n",
    "    ))\n",
    "    fig.update_layout(\n",
    "        title=title,\n",
    "        scene=dict(xaxis_title=\"X\", yaxis_title=\"Y\", zaxis_title=\"Z\")\n",
    "    )\n",
    "    fig.show()\n",
    "\n",
    "\n",
    "def push_pose_outside_safe_set_7d(pose_7d, hull_equations, margin=1e-3, tol=1e-8):\n",
    "    \"\"\"\n",
    "    If pose_7d is inside the safe set, push it slightly outside along the facet\n",
    "    with the largest distance. This ensures the resulting pose is outside by\n",
    "    at least 'margin'.\n",
    "\n",
    "    pose_7d: [x,y,z, qx,qy,qz,qw]\n",
    "    hull_equations: from your .npz file => hull_equations\n",
    "    margin: how far beyond the hull to push\n",
    "    tol: tolerance to treat as \"inside\"\n",
    "\n",
    "    Returns:\n",
    "      new_pose_7d: The pose (7D) guaranteed to be outside the safe set.\n",
    "    \"\"\"\n",
    "    # 1) Convert to 6D (pos + rotation vector)\n",
    "    pose_6d = pose7d_to_6d(pose_7d)\n",
    "    inside, distances = is_pose_in_safe_set_6d(pose_6d, hull_equations, tol)\n",
    "    if not inside:\n",
    "        # Already outside => return as-is\n",
    "        return pose_7d\n",
    "\n",
    "    # 2) Find the facet with the maximum distance\n",
    "    #    Typically, distances for an inside point are <= 0 or negative, but we pick\n",
    "    #    the largest anyway. We'll push along that normal.\n",
    "    i_max = np.argmax(distances)\n",
    "    d_max = distances[i_max]\n",
    "    A_i = hull_equations[i_max, :-1]   # normal vector\n",
    "    norm_A = np.linalg.norm(A_i)\n",
    "\n",
    "    # 3) Compute shift => we move (tol - d_max + margin) along the normal\n",
    "    #    so that the new point is just outside by 'margin'.\n",
    "    shift_6d = ((tol - d_max) + margin) * (A_i / norm_A)\n",
    "    pose_6d_out = pose_6d + shift_6d\n",
    "\n",
    "    # 4) Convert back to 7D => new position + orientation\n",
    "    new_pos = pose_6d_out[:3]\n",
    "    new_rotvec = pose_6d_out[3:]\n",
    "    new_quat = R.from_rotvec(new_rotvec).as_quat()\n",
    "    new_pose_7d = np.hstack([new_pos, new_quat])\n",
    "    return new_pose_7d\n"
   ]
  },
  {
   "cell_type": "code",
   "execution_count": 40,
   "metadata": {},
   "outputs": [],
   "source": [
    "safe_set_file=\"Safe_diffusion_policy/safe_set_6d_dummy.npz\"\n",
    "safe_set, hull_equations, _ = load_safe_set(safe_set_file)"
   ]
  },
  {
   "cell_type": "markdown",
   "metadata": {},
   "source": [
    "### Now run inference in loop"
   ]
  },
  {
   "cell_type": "code",
   "execution_count": 64,
   "metadata": {},
   "outputs": [
    {
     "name": "stdout",
     "output_type": "stream",
     "text": [
      "JOINT_POSITION\n"
     ]
    }
   ],
   "source": []
  },
  {
   "cell_type": "code",
   "execution_count": 42,
   "metadata": {},
   "outputs": [
    {
     "name": "stdout",
     "output_type": "stream",
     "text": [
      "JOINT_POSITION\n",
      "from controller:  [0. 0. 0.] [0. 0. 0.]\n",
      "Sending to robot: action 0 => [ 0.389  0.     0.096  0.011 -0.009  0.004 -0.996]\n",
      "   => inside=True, distances=[-0.303 -0.076 -1.054 ... -0.129 -0.13  -0.126]\n",
      "Sending to robot: action 1 => [ 0.393 -0.001  0.085  0.015 -0.003  0.001 -1.   ]\n",
      "   => inside=True, distances=[-0.306 -0.075 -1.069 ... -0.141 -0.141 -0.138]\n",
      "Sending to robot: action 2 => [ 0.427  0.002  0.078  0.008  0.003 -0.003 -0.999]\n",
      "   => inside=True, distances=[-0.309 -0.072 -1.083 ... -0.154 -0.154 -0.151]\n",
      "Sending to robot: action 3 => [ 0.435  0.001  0.073  0.006  0.006 -0.004 -1.   ]\n",
      "   => inside=True, distances=[-0.315 -0.067 -1.104 ... -0.173 -0.173 -0.17 ]\n",
      "from controller:  [0. 0. 0.] [0. 0. 0.]\n",
      "Sending to robot: action 0 => [ 0.248 -0.003  0.113  0.008  0.034  0.006 -0.999]\n",
      "   => inside=True, distances=[-0.326 -0.057 -1.152 ... -0.219 -0.218 -0.216]\n",
      "Sending to robot: action 1 => [ 0.28  -0.     0.126  0.006  0.03   0.001 -1.   ]\n",
      "   => inside=True, distances=[-0.327 -0.056 -1.156 ... -0.224 -0.223 -0.221]\n",
      "Sending to robot: action 2 => [ 0.297  0.     0.126  0.006  0.031  0.003 -1.   ]\n",
      "   => inside=True, distances=[-0.331 -0.052 -1.169 ... -0.239 -0.238 -0.236]\n",
      "Sending to robot: action 3 => [ 0.321 -0.     0.136  0.004  0.03  -0.002 -1.   ]\n",
      "   => inside=True, distances=[-0.334 -0.049 -1.181 ... -0.253 -0.251 -0.25 ]\n",
      "from controller:  [0. 0. 0.] [0. 0. 0.]\n",
      "Sending to robot: action 0 => [ 0.439 -0.024  0.086  0.011  0.089  0.    -1.   ]\n",
      "   => inside=True, distances=[-0.343 -0.039 -1.211 ... -0.291 -0.289 -0.288]\n",
      "Sending to robot: action 1 => [ 0.462 -0.028  0.106  0.012  0.086 -0.001 -1.   ]\n",
      "   => inside=True, distances=[-0.345 -0.038 -1.216 ... -0.298 -0.295 -0.295]\n",
      "Sending to robot: action 2 => [ 0.475 -0.034  0.114  0.013  0.083 -0.002 -1.   ]\n",
      "   => inside=True, distances=[-0.35  -0.031 -1.233 ... -0.323 -0.32  -0.32 ]\n",
      "Sending to robot: action 3 => [ 0.483 -0.029  0.124  0.013  0.082 -0.003 -1.   ]\n",
      "   => inside=True, distances=[-0.354 -0.024 -1.249 ... -0.35  -0.347 -0.347]\n",
      "from controller:  [0. 0. 0.] [0. 0. 0.]\n",
      "Sending to robot: action 0 => [ 0.499 -0.068  0.128  0.027  0.119 -0.006 -1.   ]\n",
      "   => inside=True, distances=[-0.362 -0.012 -1.272 ... -0.398 -0.394 -0.396]\n",
      "Sending to robot: action 1 => [ 0.51  -0.073  0.145  0.025  0.107 -0.006 -1.   ]\n",
      "   => inside=True, distances=[-0.363 -0.011 -1.277 ... -0.407 -0.403 -0.405]\n",
      "Sending to robot: action 2 => [ 0.503 -0.071  0.149  0.027  0.098 -0.007 -1.   ]\n",
      "   => inside=True, distances=[-0.365 -0.006 -1.291 ... -0.436 -0.431 -0.434]\n",
      "Sending to robot: action 3 => [ 0.499 -0.076  0.178  0.031  0.088 -0.006 -1.   ]\n",
      "   => inside=True, distances=[-0.365 -0.003 -1.302 ... -0.462 -0.457 -0.46 ]\n",
      "from controller:  [0. 0. 0.] [0. 0. 0.]\n",
      "Sending to robot: action 0 => [ 0.452 -0.051  0.189  0.027  0.075 -0.007 -0.998]\n",
      "   => inside=True, distances=[-0.363  0.001 -1.322 ... -0.515 -0.509 -0.514]\n",
      "Sending to robot: action 1 => [ 0.445 -0.051  0.199  0.023  0.066 -0.005 -1.   ]\n",
      "   => inside=True, distances=[-0.362  0.001 -1.327 ... -0.527 -0.52  -0.525]\n",
      "Sending to robot: action 2 => [ 0.437 -0.032  0.198  0.019  0.061 -0.005 -1.   ]\n",
      "   => inside=True, distances=[-0.362  0.001 -1.339 ... -0.551 -0.544 -0.549]\n",
      "Sending to robot: action 3 => [ 0.43  -0.022  0.211  0.018  0.054 -0.003 -1.   ]\n",
      "   => inside=True, distances=[-0.361  0.    -1.348 ... -0.571 -0.563 -0.569]\n",
      "from controller:  [0. 0. 0.] [0. 0. 0.]\n",
      "Sending to robot: action 0 => [ 0.563 -0.001  0.075  0.009  0.024 -0.017 -1.   ]\n",
      "   => inside=True, distances=[-0.36  -0.005 -1.369 ... -0.617 -0.608 -0.615]\n",
      "Sending to robot: action 1 => [ 0.561  0.     0.088  0.007  0.013 -0.017 -1.   ]\n",
      "   => inside=True, distances=[-0.359 -0.007 -1.38  ... -0.635 -0.626 -0.633]\n",
      "Sending to robot: action 2 => [ 0.553  0.005  0.059  0.006  0.007 -0.016 -1.   ]\n",
      "   => inside=True, distances=[-0.358 -0.011 -1.398 ... -0.666 -0.657 -0.665]\n",
      "Sending to robot: action 3 => [ 0.555  0.008  0.077  0.005  0.004 -0.013 -1.   ]\n",
      "   => inside=True, distances=[-0.357 -0.016 -1.414 ... -0.694 -0.684 -0.693]\n",
      "from controller:  [0. 0. 0.] [0. 0. 0.]\n",
      "Sending to robot: action 0 => [ 0.537  0.006  0.035  0.016 -0.008 -0.014 -1.   ]\n",
      "   => inside=True, distances=[-0.354 -0.028 -1.446 ... -0.755 -0.744 -0.754]\n",
      "Sending to robot: action 1 => [ 0.547  0.011  0.062  0.012 -0.024 -0.011 -1.   ]\n",
      "   => inside=True, distances=[-0.353 -0.031 -1.454 ... -0.77  -0.758 -0.769]\n",
      "Sending to robot: action 2 => [ 0.484  0.011  0.024  0.018 -0.046 -0.011 -1.   ]\n",
      "   => inside=True, distances=[-0.349 -0.039 -1.474 ... -0.807 -0.795 -0.807]\n",
      "Sending to robot: action 3 => [ 0.504  0.009  0.039  0.017 -0.059 -0.009 -1.   ]\n",
      "   => inside=True, distances=[-0.345 -0.046 -1.491 ... -0.84  -0.827 -0.84 ]\n",
      "from controller:  [0. 0. 0.] [0. 0. 0.]\n",
      "Sending to robot: action 0 => [ 0.56   0.008  0.003  0.018 -0.041 -0.012 -1.   ]\n",
      "   => inside=True, distances=[-0.333 -0.067 -1.533 ... -0.924 -0.909 -0.925]\n",
      "Sending to robot: action 1 => [ 0.579  0.009  0.01   0.014 -0.057 -0.013 -1.   ]\n",
      "   => inside=True, distances=[-0.031 -0.076 -0.047 ... -0.263 -0.258 -0.261]\n",
      "Sending to robot: action 2 => [ 0.548  0.009  0.007  0.014 -0.07  -0.013 -1.   ]\n",
      "   => inside=True, distances=[-0.038 -0.068 -0.036 ... -0.239 -0.234 -0.237]\n",
      "Sending to robot: action 3 => [ 0.545  0.009  0.     0.015 -0.079 -0.011 -0.999]\n",
      "   => inside=True, distances=[-0.046 -0.06  -0.024 ... -0.212 -0.208 -0.21 ]\n",
      "from controller:  [0. 0. 0.] [0. 0. 0.]\n",
      "Sending to robot: action 0 => [ 0.582  0.005 -0.004  0.015 -0.082 -0.007 -1.   ]\n",
      "   => inside=True, distances=[-0.065 -0.045 -0.008 ... -0.159 -0.156 -0.157]\n",
      "Sending to robot: action 1 => [ 0.578  0.004  0.014  0.011 -0.092 -0.012 -1.   ]\n",
      "   => inside=True, distances=[-0.067 -0.043 -0.006 ... -0.15  -0.148 -0.148]\n",
      "Sending to robot: action 2 => [ 0.557  0.004  0.     0.012 -0.096 -0.009 -1.   ]\n",
      "   => inside=True, distances=[-0.072 -0.04  -0.003 ... -0.135 -0.133 -0.133]\n",
      "Sending to robot: action 3 => [ 0.544  0.003  0.014  0.015 -0.093 -0.008 -1.   ]\n",
      "   => inside=True, distances=[-0.08  -0.037 -0.001 ... -0.112 -0.11  -0.11 ]\n",
      "from controller:  [0. 0. 0.] [0. 0. 0.]\n",
      "Sending to robot: action 0 => [ 0.532  0.014 -0.004  0.009 -0.082 -0.005 -1.   ]\n",
      "   => inside=True, distances=[-0.094 -0.034 -0.008 ... -0.07  -0.069 -0.068]\n",
      "Sending to robot: action 1 => [ 0.517  0.013 -0.008  0.015 -0.073 -0.009 -1.   ]\n",
      "   => inside=True, distances=[-0.095 -0.035 -0.012 ... -0.063 -0.063 -0.061]\n",
      "Sending to robot: action 2 => [ 0.533  0.013 -0.009  0.012 -0.059 -0.008 -1.   ]\n",
      "   => inside=True, distances=[-0.097 -0.04  -0.02  ... -0.053 -0.053 -0.051]\n",
      "Sending to robot: action 3 => [ 0.535  0.017 -0.015  0.014 -0.054 -0.008 -1.   ]\n",
      "   => inside=True, distances=[-0.099 -0.043 -0.026 ... -0.046 -0.046 -0.044]\n",
      "from controller:  [0. 0. 0.] [0. 0. 0.]\n",
      "Sending to robot: action 0 => [ 0.605  0.077 -0.126  0.011 -0.054  0.002 -1.   ]\n",
      "   => inside=False, distances=[-0.106 -0.056 -0.048 ... -0.029 -0.03  -0.028]\n",
      "Sending to robot: action 1 => [ 0.621  0.092 -0.115  0.015 -0.038 -0.001 -1.   ]\n",
      "   => inside=False, distances=[-0.106 -0.059 -0.054 ... -0.027 -0.027 -0.025]\n",
      "Sending to robot: action 2 => [ 0.606  0.087 -0.106  0.015 -0.03  -0.001 -1.   ]\n",
      "   => inside=True, distances=[-0.106 -0.069 -0.07  ... -0.021 -0.022 -0.02 ]\n",
      "Sending to robot: action 3 => [ 0.593  0.087 -0.092  0.016 -0.027 -0.001 -1.   ]\n",
      "   => inside=True, distances=[-0.107 -0.079 -0.087 ... -0.016 -0.017 -0.015]\n",
      "from controller:  [0. 0. 0.] [0. 0. 0.]\n",
      "Sending to robot: action 0 => [ 0.471  0.128 -0.057  0.012 -0.024  0.001 -1.   ]\n",
      "   => inside=True, distances=[-0.108 -0.101 -0.124 ... -0.009 -0.01  -0.008]\n",
      "Sending to robot: action 1 => [ 0.475  0.114 -0.061  0.015 -0.018  0.003 -1.   ]\n",
      "   => inside=True, distances=[-0.108 -0.105 -0.131 ... -0.008 -0.009 -0.007]\n",
      "Sending to robot: action 2 => [ 0.478  0.12  -0.068  0.011 -0.009  0.002 -1.   ]\n",
      "   => inside=True, distances=[-0.108 -0.112 -0.144 ... -0.006 -0.008 -0.006]\n",
      "Sending to robot: action 3 => [ 0.473  0.109 -0.078  0.015 -0.007 -0.    -1.   ]\n",
      "   => inside=True, distances=[-0.108 -0.123 -0.161 ... -0.005 -0.006 -0.004]\n",
      "from controller:  [0. 0. 0.] [0. 0. 0.]\n",
      "Sending to robot: action 0 => [ 0.402  0.104 -0.031  0.01  -0.013  0.001 -0.999]\n",
      "   => inside=True, distances=[-0.108 -0.142 -0.195 ... -0.003 -0.004 -0.002]\n",
      "Sending to robot: action 1 => [ 0.411  0.094 -0.027  0.008 -0.006  0.002 -0.999]\n",
      "   => inside=True, distances=[-0.108 -0.147 -0.204 ... -0.002 -0.004 -0.002]\n",
      "Sending to robot: action 2 => [ 0.401  0.067 -0.042  0.007 -0.003  0.004 -0.997]\n",
      "   => inside=True, distances=[-0.108 -0.155 -0.219 ... -0.002 -0.003 -0.002]\n",
      "Sending to robot: action 3 => [ 0.404  0.05  -0.045  0.009  0.     0.002 -0.995]\n",
      "   => inside=True, distances=[-0.108 -0.163 -0.233 ... -0.002 -0.003 -0.001]\n",
      "from controller:  [0. 0. 0.] [0. 0. 0.]\n",
      "Sending to robot: action 0 => [ 0.333  0.014 -0.027  0.007 -0.008 -0.001 -1.   ]\n",
      "   => inside=True, distances=[-0.108 -0.181 -0.268 ... -0.002 -0.003 -0.001]\n",
      "Sending to robot: action 1 => [ 0.319  0.011 -0.036  0.006 -0.009 -0.    -0.998]\n",
      "   => inside=True, distances=[-0.108 -0.184 -0.273 ... -0.002 -0.003 -0.002]\n",
      "Sending to robot: action 2 => [ 0.329  0.005 -0.036  0.006 -0.003 -0.    -0.999]\n",
      "   => inside=True, distances=[-0.109 -0.189 -0.285 ... -0.002 -0.003 -0.002]\n",
      "Sending to robot: action 3 => [ 0.306  0.007 -0.039  0.007 -0.004 -0.    -1.   ]\n",
      "   => inside=True, distances=[-0.109 -0.194 -0.295 ... -0.002 -0.004 -0.002]\n",
      "from controller:  [0. 0. 0.] [0. 0. 0.]\n",
      "Sending to robot: action 0 => [ 0.272  0.005  0.002  0.006 -0.017 -0.001 -1.   ]\n",
      "   => inside=True, distances=[-0.109 -0.206 -0.32  ... -0.003 -0.005 -0.003]\n",
      "Sending to robot: action 1 => [ 0.286  0.003  0.002  0.006 -0.014 -0.001 -1.   ]\n",
      "   => inside=True, distances=[-0.109 -0.209 -0.326 ... -0.003 -0.005 -0.003]\n",
      "Sending to robot: action 2 => [ 0.281 -0.003 -0.011  0.007 -0.013 -0.001 -1.   ]\n",
      "   => inside=True, distances=[-0.109 -0.212 -0.334 ... -0.004 -0.005 -0.004]\n",
      "Sending to robot: action 3 => [ 0.278 -0.004 -0.011  0.009 -0.011 -0.002 -1.   ]\n",
      "   => inside=True, distances=[-0.11  -0.216 -0.342 ... -0.004 -0.006 -0.004]\n",
      "from controller:  [0. 0. 0.] [0. 0. 0.]\n",
      "Sending to robot: action 0 => [ 0.342  0.     0.006  0.017 -0.009 -0.004 -1.   ]\n",
      "   => inside=True, distances=[-0.11  -0.225 -0.364 ... -0.006 -0.007 -0.006]\n",
      "Sending to robot: action 1 => [ 0.333 -0.003 -0.001  0.02  -0.003 -0.003 -0.999]\n",
      "   => inside=True, distances=[-0.11  -0.227 -0.368 ... -0.006 -0.007 -0.006]\n",
      "Sending to robot: action 2 => [ 0.331 -0.002  0.001  0.02   0.002 -0.002 -1.   ]\n",
      "   => inside=True, distances=[-0.11  -0.232 -0.378 ... -0.007 -0.008 -0.007]\n",
      "Sending to robot: action 3 => [ 0.3   -0.005 -0.014  0.023  0.005 -0.003 -1.   ]\n",
      "   => inside=True, distances=[-0.111 -0.236 -0.389 ... -0.008 -0.009 -0.008]\n",
      "from controller:  [0. 0. 0.] [0. 0. 0.]\n",
      "Sending to robot: action 0 => [ 0.31  -0.003 -0.01   0.027 -0.    -0.003 -1.   ]\n",
      "   => inside=False, distances=[-0.111 -0.245 -0.411 ... -0.01  -0.011 -0.01 ]\n",
      "Sending to robot: action 1 => [ 0.281  0.002  0.017  0.017  0.001 -0.001 -0.994]\n",
      "   => inside=False, distances=[-0.111 -0.247 -0.416 ... -0.01  -0.011 -0.01 ]\n",
      "Sending to robot: action 2 => [ 0.202 -0.002  0.015  0.016 -0.005 -0.001 -1.   ]\n",
      "   => inside=False, distances=[-0.111 -0.251 -0.425 ... -0.011 -0.012 -0.011]\n",
      "Sending to robot: action 3 => [ 0.204 -0.006 -0.003  0.019  0.001  0.006  0.997]\n",
      "   => inside=False, distances=[-0.112 -0.252 -0.43  ... -0.011 -0.013 -0.012]\n",
      "from controller:  [0. 0. 0.] [0. 0. 0.]\n",
      "Sending to robot: action 0 => [ 0.199 -0.001  0.017  0.016 -0.001 -0.003 -0.988]\n",
      "   => inside=False, distances=[-0.112 -0.256 -0.441 ... -0.012 -0.014 -0.013]\n",
      "Sending to robot: action 1 => [ 0.175 -0.004  0.004  0.019  0.001  0.003  0.997]\n",
      "   => inside=False, distances=[-0.112 -0.257 -0.442 ... -0.013 -0.014 -0.013]\n",
      "Sending to robot: action 2 => [ 0.157 -0.01   0.     0.026  0.003  0.007  1.   ]\n",
      "   => inside=False, distances=[-0.112 -0.258 -0.444 ... -0.013 -0.014 -0.013]\n",
      "Sending to robot: action 3 => [ 0.124 -0.001  0.006  0.001  0.009  0.001  0.999]\n",
      "   => inside=False, distances=[-0.112 -0.258 -0.445 ... -0.013 -0.014 -0.013]\n",
      "from controller:  [0. 0. 0.] [0. 0. 0.]\n",
      "Sending to robot: action 0 => [ 0.078 -0.002  0.009 -0.001  0.005  0.003  1.   ]\n",
      "   => inside=False, distances=[-0.112 -0.258 -0.445 ... -0.013 -0.014 -0.013]\n",
      "Sending to robot: action 1 => [ 0.027  0.001  0.001 -0.006  0.003 -0.001  0.999]\n",
      "   => inside=False, distances=[-0.112 -0.258 -0.445 ... -0.013 -0.014 -0.013]\n",
      "Sending to robot: action 2 => [ 0.011  0.001  0.001 -0.006  0.005  0.001  0.998]\n",
      "   => inside=False, distances=[-0.112 -0.258 -0.445 ... -0.013 -0.014 -0.013]\n",
      "Sending to robot: action 3 => [ 0.003  0.001  0.003 -0.004  0.002 -0.003  0.998]\n",
      "   => inside=False, distances=[-0.112 -0.258 -0.445 ... -0.013 -0.014 -0.013]\n",
      "from controller:  [0. 0. 0.] [0. 0. 0.]\n",
      "Sending to robot: action 0 => [ 0.037  0.003 -0.    -0.007  0.003  0.001  0.999]\n",
      "   => inside=False, distances=[-0.112 -0.258 -0.445 ... -0.013 -0.014 -0.013]\n",
      "Sending to robot: action 1 => [ 0.027  0.005  0.003 -0.011  0.006 -0.001  0.999]\n",
      "   => inside=False, distances=[-0.112 -0.258 -0.444 ... -0.013 -0.014 -0.013]\n",
      "Sending to robot: action 2 => [ 0.006  0.005  0.002 -0.009  0.005 -0.002  0.997]\n",
      "   => inside=False, distances=[-0.112 -0.258 -0.444 ... -0.013 -0.014 -0.013]\n",
      "Sending to robot: action 3 => [-0.01   0.007  0.001 -0.007  0.005 -0.001  0.997]\n",
      "   => inside=False, distances=[-0.112 -0.258 -0.444 ... -0.013 -0.014 -0.013]\n",
      "from controller:  [0. 0. 0.] [0. 0. 0.]\n",
      "Sending to robot: action 0 => [-0.015  0.034 -0.002 -0.026 -0.008  0.001  1.   ]\n",
      "   => inside=False, distances=[-0.112 -0.258 -0.445 ... -0.013 -0.014 -0.013]\n",
      "Sending to robot: action 1 => [-0.007  0.035  0.001 -0.031 -0.002 -0.001  1.   ]\n",
      "   => inside=False, distances=[-0.112 -0.258 -0.445 ... -0.013 -0.014 -0.013]\n",
      "Sending to robot: action 2 => [-0.015  0.036 -0.001 -0.03  -0.003 -0.002  1.   ]\n",
      "   => inside=False, distances=[-0.111 -0.258 -0.444 ... -0.013 -0.014 -0.013]\n",
      "Sending to robot: action 3 => [-0.008  0.032  0.005 -0.027 -0.004 -0.001  1.   ]\n",
      "   => inside=False, distances=[-0.109 -0.258 -0.444 ... -0.012 -0.014 -0.012]\n",
      "from controller:  [0. 0. 0.] [0. 0. 0.]\n",
      "Sending to robot: action 0 => [ 0.011  0.002  0.106 -0.014  0.002 -0.001 -1.   ]\n",
      "   => inside=False, distances=[-0.108 -0.258 -0.444 ... -0.012 -0.013 -0.012]\n",
      "Sending to robot: action 1 => [-0.001  0.002  0.103 -0.011 -0.003 -0.003 -1.   ]\n",
      "   => inside=False, distances=[-0.108 -0.258 -0.444 ... -0.012 -0.013 -0.012]\n",
      "Sending to robot: action 2 => [ 0.004 -0.004  0.06  -0.006 -0.002 -0.    -1.   ]\n",
      "   => inside=False, distances=[-0.108 -0.258 -0.444 ... -0.012 -0.013 -0.012]\n",
      "Sending to robot: action 3 => [ 0.    -0.006  0.007 -0.006 -0.001 -0.001 -1.   ]\n",
      "   => inside=False, distances=[-0.108 -0.258 -0.444 ... -0.012 -0.013 -0.012]\n",
      "from controller:  [0. 0. 0.] [0. 0. 0.]\n",
      "Sending to robot: action 0 => [ 0.001  0.003  0.106 -0.011 -0.004  0.001 -1.   ]\n",
      "   => inside=False, distances=[-0.108 -0.258 -0.444 ... -0.012 -0.013 -0.012]\n",
      "Sending to robot: action 1 => [ 0.001 -0.002  0.069 -0.009 -0.004 -0.002 -1.   ]\n",
      "   => inside=False, distances=[-0.108 -0.258 -0.444 ... -0.012 -0.013 -0.012]\n",
      "Sending to robot: action 2 => [ 0.003 -0.01   0.011 -0.006 -0.003 -0.001 -1.   ]\n",
      "   => inside=False, distances=[-0.108 -0.258 -0.444 ... -0.012 -0.013 -0.012]\n",
      "Sending to robot: action 3 => [ 0.001 -0.008  0.007 -0.01  -0.003 -0.001 -1.   ]\n",
      "   => inside=False, distances=[-0.108 -0.258 -0.444 ... -0.012 -0.013 -0.012]\n",
      "from controller:  [0. 0. 0.] [0. 0. 0.]\n",
      "Sending to robot: action 0 => [ 0.074  0.002  0.009 -0.002  0.004  0.003  0.989]\n",
      "   => inside=False, distances=[-0.108 -0.258 -0.444 ... -0.012 -0.013 -0.012]\n",
      "Sending to robot: action 1 => [ 0.059 -0.001  0.01   0.003  0.005  0.     0.995]\n",
      "   => inside=False, distances=[-0.108 -0.258 -0.444 ... -0.012 -0.013 -0.012]\n",
      "Sending to robot: action 2 => [ 0.033  0.007  0.009 -0.009  0.003 -0.001  0.998]\n",
      "   => inside=False, distances=[-0.108 -0.258 -0.444 ... -0.012 -0.013 -0.012]\n",
      "Sending to robot: action 3 => [ 0.01   0.002  0.007 -0.012  0.007 -0.003  0.997]\n",
      "   => inside=False, distances=[-0.108 -0.258 -0.444 ... -0.012 -0.013 -0.012]\n",
      "from controller:  [0. 0. 0.] [0. 0. 0.]\n",
      "Sending to robot: action 0 => [ 0.027 -0.001 -0.    -0.002  0.002  0.002  1.   ]\n",
      "   => inside=False, distances=[-0.108 -0.258 -0.444 ... -0.012 -0.013 -0.012]\n",
      "Sending to robot: action 1 => [ 0.018  0.003  0.001 -0.008  0.002  0.001  1.   ]\n",
      "   => inside=False, distances=[-0.108 -0.258 -0.444 ... -0.012 -0.013 -0.012]\n",
      "Sending to robot: action 2 => [ 0.02   0.006  0.005 -0.01   0.006 -0.001  1.   ]\n",
      "   => inside=False, distances=[-0.108 -0.258 -0.444 ... -0.012 -0.013 -0.012]\n",
      "Sending to robot: action 3 => [-0.009  0.012  0.002 -0.008  0.004 -0.001  1.   ]\n",
      "   => inside=False, distances=[-0.108 -0.258 -0.444 ... -0.012 -0.013 -0.012]\n",
      "from controller:  [0. 0. 0.] [0. 0. 0.]\n",
      "Sending to robot: action 0 => [-0.006  0.042 -0.002 -0.028 -0.002  0.002  1.   ]\n",
      "   => inside=False, distances=[-0.108 -0.258 -0.444 ... -0.012 -0.013 -0.012]\n",
      "Sending to robot: action 1 => [-0.014  0.043  0.    -0.036 -0.003 -0.002  1.   ]\n",
      "   => inside=False, distances=[-0.108 -0.258 -0.444 ... -0.012 -0.013 -0.012]\n",
      "Sending to robot: action 2 => [-0.013  0.062  0.007 -0.041 -0.005 -0.003  1.   ]\n",
      "   => inside=False, distances=[-0.107 -0.258 -0.444 ... -0.012 -0.013 -0.012]\n",
      "Sending to robot: action 3 => [-0.015  0.054  0.007 -0.04  -0.007 -0.003  1.   ]\n",
      "   => inside=False, distances=[-0.106 -0.258 -0.444 ... -0.011 -0.013 -0.012]\n",
      "from controller:  [0. 0. 0.] [0. 0. 0.]\n"
     ]
    },
    {
     "ename": "KeyboardInterrupt",
     "evalue": "",
     "output_type": "error",
     "traceback": [
      "\u001b[0;31m---------------------------------------------------------------------------\u001b[0m",
      "\u001b[0;31mKeyboardInterrupt\u001b[0m                         Traceback (most recent call last)",
      "Cell \u001b[0;32mIn[42], line 27\u001b[0m\n\u001b[1;32m     23\u001b[0m obs \u001b[38;5;241m=\u001b[39m framestacker\u001b[38;5;241m.\u001b[39madd_new_obs(obs_dict)\n\u001b[1;32m     25\u001b[0m \u001b[38;5;66;03m# 3) Policy predicts an action (whatever format: delta pose, EEF pose, etc.)\u001b[39;00m\n\u001b[1;32m     26\u001b[0m \u001b[38;5;66;03m#    We'll send it to the robot\u001b[39;00m\n\u001b[0;32m---> 27\u001b[0m action_pred \u001b[38;5;241m=\u001b[39m \u001b[43mpredict_action\u001b[49m\u001b[43m(\u001b[49m\u001b[43mobs\u001b[49m\u001b[43m)\u001b[49m  \u001b[38;5;66;03m# shape is up to your policy\u001b[39;00m\n\u001b[1;32m     28\u001b[0m \u001b[38;5;66;03m# print(\"Raw policy prediction:\", action_pred)\u001b[39;00m\n\u001b[1;32m     29\u001b[0m \n\u001b[1;32m     30\u001b[0m \n\u001b[1;32m     31\u001b[0m \n\u001b[1;32m     32\u001b[0m \u001b[38;5;66;03m# 4) Let's say we control the robot with the first 4 predicted actions\u001b[39;00m\n\u001b[1;32m     33\u001b[0m \u001b[38;5;28;01mfor\u001b[39;00m i, single_cmd \u001b[38;5;129;01min\u001b[39;00m \u001b[38;5;28menumerate\u001b[39m(action_pred[:\u001b[38;5;241m4\u001b[39m]):\n",
      "Cell \u001b[0;32mIn[29], line 15\u001b[0m, in \u001b[0;36mpredict_action\u001b[0;34m(obs)\u001b[0m\n\u001b[1;32m     11\u001b[0m     obs_dict[key]\u001b[38;5;241m=\u001b[39mobs_dict[key]\u001b[38;5;241m.\u001b[39munsqueeze(\u001b[38;5;241m0\u001b[39m) \n\u001b[1;32m     14\u001b[0m \u001b[38;5;28;01mwith\u001b[39;00m torch\u001b[38;5;241m.\u001b[39mno_grad():\n\u001b[0;32m---> 15\u001b[0m     action_dict \u001b[38;5;241m=\u001b[39m \u001b[43mpolicy\u001b[49m\u001b[38;5;241;43m.\u001b[39;49m\u001b[43mpredict_action\u001b[49m\u001b[43m(\u001b[49m\u001b[43mobs_dict\u001b[49m\u001b[43m)\u001b[49m\n\u001b[1;32m     17\u001b[0m \u001b[38;5;66;03m# device_transfer\u001b[39;00m\n\u001b[1;32m     18\u001b[0m np_action_dict \u001b[38;5;241m=\u001b[39m dict_apply(action_dict, \u001b[38;5;28;01mlambda\u001b[39;00m x: x\u001b[38;5;241m.\u001b[39mdetach()\u001b[38;5;241m.\u001b[39mto(\u001b[38;5;124m'\u001b[39m\u001b[38;5;124mcpu\u001b[39m\u001b[38;5;124m'\u001b[39m)\u001b[38;5;241m.\u001b[39mnumpy())\n",
      "File \u001b[0;32m~/diffusion_policy/diffusion_policy/policy/diffusion_unet_hybrid_image_policy.py:258\u001b[0m, in \u001b[0;36mDiffusionUnetHybridImagePolicy.predict_action\u001b[0;34m(self, obs_dict)\u001b[0m\n\u001b[1;32m    255\u001b[0m     cond_mask[:,:To,Da:] \u001b[38;5;241m=\u001b[39m \u001b[38;5;28;01mTrue\u001b[39;00m\n\u001b[1;32m    257\u001b[0m \u001b[38;5;66;03m# run sampling\u001b[39;00m\n\u001b[0;32m--> 258\u001b[0m nsample \u001b[38;5;241m=\u001b[39m \u001b[38;5;28;43mself\u001b[39;49m\u001b[38;5;241;43m.\u001b[39;49m\u001b[43mconditional_sample\u001b[49m\u001b[43m(\u001b[49m\n\u001b[1;32m    259\u001b[0m \u001b[43m    \u001b[49m\u001b[43mcond_data\u001b[49m\u001b[43m,\u001b[49m\u001b[43m \u001b[49m\n\u001b[1;32m    260\u001b[0m \u001b[43m    \u001b[49m\u001b[43mcond_mask\u001b[49m\u001b[43m,\u001b[49m\n\u001b[1;32m    261\u001b[0m \u001b[43m    \u001b[49m\u001b[43mlocal_cond\u001b[49m\u001b[38;5;241;43m=\u001b[39;49m\u001b[43mlocal_cond\u001b[49m\u001b[43m,\u001b[49m\n\u001b[1;32m    262\u001b[0m \u001b[43m    \u001b[49m\u001b[43mglobal_cond\u001b[49m\u001b[38;5;241;43m=\u001b[39;49m\u001b[43mglobal_cond\u001b[49m\u001b[43m,\u001b[49m\n\u001b[1;32m    263\u001b[0m \u001b[43m    \u001b[49m\u001b[38;5;241;43m*\u001b[39;49m\u001b[38;5;241;43m*\u001b[39;49m\u001b[38;5;28;43mself\u001b[39;49m\u001b[38;5;241;43m.\u001b[39;49m\u001b[43mkwargs\u001b[49m\u001b[43m)\u001b[49m\n\u001b[1;32m    265\u001b[0m \u001b[38;5;66;03m# unnormalize prediction\u001b[39;00m\n\u001b[1;32m    266\u001b[0m naction_pred \u001b[38;5;241m=\u001b[39m nsample[\u001b[38;5;241m.\u001b[39m\u001b[38;5;241m.\u001b[39m\u001b[38;5;241m.\u001b[39m,:Da]\n",
      "File \u001b[0;32m~/diffusion_policy/diffusion_policy/policy/diffusion_unet_hybrid_image_policy.py:199\u001b[0m, in \u001b[0;36mDiffusionUnetHybridImagePolicy.conditional_sample\u001b[0;34m(self, condition_data, condition_mask, local_cond, global_cond, generator, **kwargs)\u001b[0m\n\u001b[1;32m    196\u001b[0m trajectory[condition_mask] \u001b[38;5;241m=\u001b[39m condition_data[condition_mask]\n\u001b[1;32m    198\u001b[0m \u001b[38;5;66;03m# 2. predict model output\u001b[39;00m\n\u001b[0;32m--> 199\u001b[0m model_output \u001b[38;5;241m=\u001b[39m \u001b[43mmodel\u001b[49m\u001b[43m(\u001b[49m\u001b[43mtrajectory\u001b[49m\u001b[43m,\u001b[49m\u001b[43m \u001b[49m\u001b[43mt\u001b[49m\u001b[43m,\u001b[49m\u001b[43m \u001b[49m\n\u001b[1;32m    200\u001b[0m \u001b[43m    \u001b[49m\u001b[43mlocal_cond\u001b[49m\u001b[38;5;241;43m=\u001b[39;49m\u001b[43mlocal_cond\u001b[49m\u001b[43m,\u001b[49m\u001b[43m \u001b[49m\u001b[43mglobal_cond\u001b[49m\u001b[38;5;241;43m=\u001b[39;49m\u001b[43mglobal_cond\u001b[49m\u001b[43m)\u001b[49m\n\u001b[1;32m    202\u001b[0m \u001b[38;5;66;03m# 3. compute previous image: x_t -> x_t-1\u001b[39;00m\n\u001b[1;32m    203\u001b[0m trajectory \u001b[38;5;241m=\u001b[39m scheduler\u001b[38;5;241m.\u001b[39mstep(\n\u001b[1;32m    204\u001b[0m     model_output, t, trajectory, \n\u001b[1;32m    205\u001b[0m     generator\u001b[38;5;241m=\u001b[39mgenerator,\n\u001b[1;32m    206\u001b[0m     \u001b[38;5;241m*\u001b[39m\u001b[38;5;241m*\u001b[39mkwargs\n\u001b[1;32m    207\u001b[0m     )\u001b[38;5;241m.\u001b[39mprev_sample\n",
      "File \u001b[0;32m~/miniconda3/envs/robodiff_2/lib/python3.9/site-packages/torch/nn/modules/module.py:1739\u001b[0m, in \u001b[0;36mModule._wrapped_call_impl\u001b[0;34m(self, *args, **kwargs)\u001b[0m\n\u001b[1;32m   1737\u001b[0m     \u001b[38;5;28;01mreturn\u001b[39;00m \u001b[38;5;28mself\u001b[39m\u001b[38;5;241m.\u001b[39m_compiled_call_impl(\u001b[38;5;241m*\u001b[39margs, \u001b[38;5;241m*\u001b[39m\u001b[38;5;241m*\u001b[39mkwargs)  \u001b[38;5;66;03m# type: ignore[misc]\u001b[39;00m\n\u001b[1;32m   1738\u001b[0m \u001b[38;5;28;01melse\u001b[39;00m:\n\u001b[0;32m-> 1739\u001b[0m     \u001b[38;5;28;01mreturn\u001b[39;00m \u001b[38;5;28;43mself\u001b[39;49m\u001b[38;5;241;43m.\u001b[39;49m\u001b[43m_call_impl\u001b[49m\u001b[43m(\u001b[49m\u001b[38;5;241;43m*\u001b[39;49m\u001b[43margs\u001b[49m\u001b[43m,\u001b[49m\u001b[43m \u001b[49m\u001b[38;5;241;43m*\u001b[39;49m\u001b[38;5;241;43m*\u001b[39;49m\u001b[43mkwargs\u001b[49m\u001b[43m)\u001b[49m\n",
      "File \u001b[0;32m~/miniconda3/envs/robodiff_2/lib/python3.9/site-packages/torch/nn/modules/module.py:1750\u001b[0m, in \u001b[0;36mModule._call_impl\u001b[0;34m(self, *args, **kwargs)\u001b[0m\n\u001b[1;32m   1745\u001b[0m \u001b[38;5;66;03m# If we don't have any hooks, we want to skip the rest of the logic in\u001b[39;00m\n\u001b[1;32m   1746\u001b[0m \u001b[38;5;66;03m# this function, and just call forward.\u001b[39;00m\n\u001b[1;32m   1747\u001b[0m \u001b[38;5;28;01mif\u001b[39;00m \u001b[38;5;129;01mnot\u001b[39;00m (\u001b[38;5;28mself\u001b[39m\u001b[38;5;241m.\u001b[39m_backward_hooks \u001b[38;5;129;01mor\u001b[39;00m \u001b[38;5;28mself\u001b[39m\u001b[38;5;241m.\u001b[39m_backward_pre_hooks \u001b[38;5;129;01mor\u001b[39;00m \u001b[38;5;28mself\u001b[39m\u001b[38;5;241m.\u001b[39m_forward_hooks \u001b[38;5;129;01mor\u001b[39;00m \u001b[38;5;28mself\u001b[39m\u001b[38;5;241m.\u001b[39m_forward_pre_hooks\n\u001b[1;32m   1748\u001b[0m         \u001b[38;5;129;01mor\u001b[39;00m _global_backward_pre_hooks \u001b[38;5;129;01mor\u001b[39;00m _global_backward_hooks\n\u001b[1;32m   1749\u001b[0m         \u001b[38;5;129;01mor\u001b[39;00m _global_forward_hooks \u001b[38;5;129;01mor\u001b[39;00m _global_forward_pre_hooks):\n\u001b[0;32m-> 1750\u001b[0m     \u001b[38;5;28;01mreturn\u001b[39;00m \u001b[43mforward_call\u001b[49m\u001b[43m(\u001b[49m\u001b[38;5;241;43m*\u001b[39;49m\u001b[43margs\u001b[49m\u001b[43m,\u001b[49m\u001b[43m \u001b[49m\u001b[38;5;241;43m*\u001b[39;49m\u001b[38;5;241;43m*\u001b[39;49m\u001b[43mkwargs\u001b[49m\u001b[43m)\u001b[49m\n\u001b[1;32m   1752\u001b[0m result \u001b[38;5;241m=\u001b[39m \u001b[38;5;28;01mNone\u001b[39;00m\n\u001b[1;32m   1753\u001b[0m called_always_called_hooks \u001b[38;5;241m=\u001b[39m \u001b[38;5;28mset\u001b[39m()\n",
      "File \u001b[0;32m~/diffusion_policy/diffusion_policy/model/diffusion/conditional_unet1d.py:228\u001b[0m, in \u001b[0;36mConditionalUnet1D.forward\u001b[0;34m(self, sample, timestep, local_cond, global_cond, **kwargs)\u001b[0m\n\u001b[1;32m    226\u001b[0m \u001b[38;5;28;01mfor\u001b[39;00m idx, (resnet, resnet2, upsample) \u001b[38;5;129;01min\u001b[39;00m \u001b[38;5;28menumerate\u001b[39m(\u001b[38;5;28mself\u001b[39m\u001b[38;5;241m.\u001b[39mup_modules):\n\u001b[1;32m    227\u001b[0m     x \u001b[38;5;241m=\u001b[39m torch\u001b[38;5;241m.\u001b[39mcat((x, h\u001b[38;5;241m.\u001b[39mpop()), dim\u001b[38;5;241m=\u001b[39m\u001b[38;5;241m1\u001b[39m)\n\u001b[0;32m--> 228\u001b[0m     x \u001b[38;5;241m=\u001b[39m \u001b[43mresnet\u001b[49m\u001b[43m(\u001b[49m\u001b[43mx\u001b[49m\u001b[43m,\u001b[49m\u001b[43m \u001b[49m\u001b[43mglobal_feature\u001b[49m\u001b[43m)\u001b[49m\n\u001b[1;32m    229\u001b[0m     \u001b[38;5;66;03m# The correct condition should be:\u001b[39;00m\n\u001b[1;32m    230\u001b[0m     \u001b[38;5;66;03m# if idx == (len(self.up_modules)-1) and len(h_local) > 0:\u001b[39;00m\n\u001b[1;32m    231\u001b[0m     \u001b[38;5;66;03m# However this change will break compatibility with published checkpoints.\u001b[39;00m\n\u001b[1;32m    232\u001b[0m     \u001b[38;5;66;03m# Therefore it is left as a comment.\u001b[39;00m\n\u001b[1;32m    233\u001b[0m     \u001b[38;5;28;01mif\u001b[39;00m idx \u001b[38;5;241m==\u001b[39m \u001b[38;5;28mlen\u001b[39m(\u001b[38;5;28mself\u001b[39m\u001b[38;5;241m.\u001b[39mup_modules) \u001b[38;5;129;01mand\u001b[39;00m \u001b[38;5;28mlen\u001b[39m(h_local) \u001b[38;5;241m>\u001b[39m \u001b[38;5;241m0\u001b[39m:\n",
      "File \u001b[0;32m~/miniconda3/envs/robodiff_2/lib/python3.9/site-packages/torch/nn/modules/module.py:1739\u001b[0m, in \u001b[0;36mModule._wrapped_call_impl\u001b[0;34m(self, *args, **kwargs)\u001b[0m\n\u001b[1;32m   1737\u001b[0m     \u001b[38;5;28;01mreturn\u001b[39;00m \u001b[38;5;28mself\u001b[39m\u001b[38;5;241m.\u001b[39m_compiled_call_impl(\u001b[38;5;241m*\u001b[39margs, \u001b[38;5;241m*\u001b[39m\u001b[38;5;241m*\u001b[39mkwargs)  \u001b[38;5;66;03m# type: ignore[misc]\u001b[39;00m\n\u001b[1;32m   1738\u001b[0m \u001b[38;5;28;01melse\u001b[39;00m:\n\u001b[0;32m-> 1739\u001b[0m     \u001b[38;5;28;01mreturn\u001b[39;00m \u001b[38;5;28;43mself\u001b[39;49m\u001b[38;5;241;43m.\u001b[39;49m\u001b[43m_call_impl\u001b[49m\u001b[43m(\u001b[49m\u001b[38;5;241;43m*\u001b[39;49m\u001b[43margs\u001b[49m\u001b[43m,\u001b[49m\u001b[43m \u001b[49m\u001b[38;5;241;43m*\u001b[39;49m\u001b[38;5;241;43m*\u001b[39;49m\u001b[43mkwargs\u001b[49m\u001b[43m)\u001b[49m\n",
      "File \u001b[0;32m~/miniconda3/envs/robodiff_2/lib/python3.9/site-packages/torch/nn/modules/module.py:1750\u001b[0m, in \u001b[0;36mModule._call_impl\u001b[0;34m(self, *args, **kwargs)\u001b[0m\n\u001b[1;32m   1745\u001b[0m \u001b[38;5;66;03m# If we don't have any hooks, we want to skip the rest of the logic in\u001b[39;00m\n\u001b[1;32m   1746\u001b[0m \u001b[38;5;66;03m# this function, and just call forward.\u001b[39;00m\n\u001b[1;32m   1747\u001b[0m \u001b[38;5;28;01mif\u001b[39;00m \u001b[38;5;129;01mnot\u001b[39;00m (\u001b[38;5;28mself\u001b[39m\u001b[38;5;241m.\u001b[39m_backward_hooks \u001b[38;5;129;01mor\u001b[39;00m \u001b[38;5;28mself\u001b[39m\u001b[38;5;241m.\u001b[39m_backward_pre_hooks \u001b[38;5;129;01mor\u001b[39;00m \u001b[38;5;28mself\u001b[39m\u001b[38;5;241m.\u001b[39m_forward_hooks \u001b[38;5;129;01mor\u001b[39;00m \u001b[38;5;28mself\u001b[39m\u001b[38;5;241m.\u001b[39m_forward_pre_hooks\n\u001b[1;32m   1748\u001b[0m         \u001b[38;5;129;01mor\u001b[39;00m _global_backward_pre_hooks \u001b[38;5;129;01mor\u001b[39;00m _global_backward_hooks\n\u001b[1;32m   1749\u001b[0m         \u001b[38;5;129;01mor\u001b[39;00m _global_forward_hooks \u001b[38;5;129;01mor\u001b[39;00m _global_forward_pre_hooks):\n\u001b[0;32m-> 1750\u001b[0m     \u001b[38;5;28;01mreturn\u001b[39;00m \u001b[43mforward_call\u001b[49m\u001b[43m(\u001b[49m\u001b[38;5;241;43m*\u001b[39;49m\u001b[43margs\u001b[49m\u001b[43m,\u001b[49m\u001b[43m \u001b[49m\u001b[38;5;241;43m*\u001b[39;49m\u001b[38;5;241;43m*\u001b[39;49m\u001b[43mkwargs\u001b[49m\u001b[43m)\u001b[49m\n\u001b[1;32m   1752\u001b[0m result \u001b[38;5;241m=\u001b[39m \u001b[38;5;28;01mNone\u001b[39;00m\n\u001b[1;32m   1753\u001b[0m called_always_called_hooks \u001b[38;5;241m=\u001b[39m \u001b[38;5;28mset\u001b[39m()\n",
      "File \u001b[0;32m~/diffusion_policy/diffusion_policy/model/diffusion/conditional_unet1d.py:54\u001b[0m, in \u001b[0;36mConditionalResidualBlock1D.forward\u001b[0;34m(self, x, cond)\u001b[0m\n\u001b[1;32m     46\u001b[0m \u001b[38;5;28;01mdef\u001b[39;00m\u001b[38;5;250m \u001b[39m\u001b[38;5;21mforward\u001b[39m(\u001b[38;5;28mself\u001b[39m, x, cond):\n\u001b[1;32m     47\u001b[0m \u001b[38;5;250m    \u001b[39m\u001b[38;5;124;03m'''\u001b[39;00m\n\u001b[1;32m     48\u001b[0m \u001b[38;5;124;03m        x : [ batch_size x in_channels x horizon ]\u001b[39;00m\n\u001b[1;32m     49\u001b[0m \u001b[38;5;124;03m        cond : [ batch_size x cond_dim]\u001b[39;00m\n\u001b[0;32m   (...)\u001b[0m\n\u001b[1;32m     52\u001b[0m \u001b[38;5;124;03m        out : [ batch_size x out_channels x horizon ]\u001b[39;00m\n\u001b[1;32m     53\u001b[0m \u001b[38;5;124;03m    '''\u001b[39;00m\n\u001b[0;32m---> 54\u001b[0m     out \u001b[38;5;241m=\u001b[39m \u001b[38;5;28;43mself\u001b[39;49m\u001b[38;5;241;43m.\u001b[39;49m\u001b[43mblocks\u001b[49m\u001b[43m[\u001b[49m\u001b[38;5;241;43m0\u001b[39;49m\u001b[43m]\u001b[49m\u001b[43m(\u001b[49m\u001b[43mx\u001b[49m\u001b[43m)\u001b[49m\n\u001b[1;32m     55\u001b[0m     embed \u001b[38;5;241m=\u001b[39m \u001b[38;5;28mself\u001b[39m\u001b[38;5;241m.\u001b[39mcond_encoder(cond)\n\u001b[1;32m     56\u001b[0m     \u001b[38;5;28;01mif\u001b[39;00m \u001b[38;5;28mself\u001b[39m\u001b[38;5;241m.\u001b[39mcond_predict_scale:\n",
      "File \u001b[0;32m~/miniconda3/envs/robodiff_2/lib/python3.9/site-packages/torch/nn/modules/module.py:1739\u001b[0m, in \u001b[0;36mModule._wrapped_call_impl\u001b[0;34m(self, *args, **kwargs)\u001b[0m\n\u001b[1;32m   1737\u001b[0m     \u001b[38;5;28;01mreturn\u001b[39;00m \u001b[38;5;28mself\u001b[39m\u001b[38;5;241m.\u001b[39m_compiled_call_impl(\u001b[38;5;241m*\u001b[39margs, \u001b[38;5;241m*\u001b[39m\u001b[38;5;241m*\u001b[39mkwargs)  \u001b[38;5;66;03m# type: ignore[misc]\u001b[39;00m\n\u001b[1;32m   1738\u001b[0m \u001b[38;5;28;01melse\u001b[39;00m:\n\u001b[0;32m-> 1739\u001b[0m     \u001b[38;5;28;01mreturn\u001b[39;00m \u001b[38;5;28;43mself\u001b[39;49m\u001b[38;5;241;43m.\u001b[39;49m\u001b[43m_call_impl\u001b[49m\u001b[43m(\u001b[49m\u001b[38;5;241;43m*\u001b[39;49m\u001b[43margs\u001b[49m\u001b[43m,\u001b[49m\u001b[43m \u001b[49m\u001b[38;5;241;43m*\u001b[39;49m\u001b[38;5;241;43m*\u001b[39;49m\u001b[43mkwargs\u001b[49m\u001b[43m)\u001b[49m\n",
      "File \u001b[0;32m~/miniconda3/envs/robodiff_2/lib/python3.9/site-packages/torch/nn/modules/module.py:1750\u001b[0m, in \u001b[0;36mModule._call_impl\u001b[0;34m(self, *args, **kwargs)\u001b[0m\n\u001b[1;32m   1745\u001b[0m \u001b[38;5;66;03m# If we don't have any hooks, we want to skip the rest of the logic in\u001b[39;00m\n\u001b[1;32m   1746\u001b[0m \u001b[38;5;66;03m# this function, and just call forward.\u001b[39;00m\n\u001b[1;32m   1747\u001b[0m \u001b[38;5;28;01mif\u001b[39;00m \u001b[38;5;129;01mnot\u001b[39;00m (\u001b[38;5;28mself\u001b[39m\u001b[38;5;241m.\u001b[39m_backward_hooks \u001b[38;5;129;01mor\u001b[39;00m \u001b[38;5;28mself\u001b[39m\u001b[38;5;241m.\u001b[39m_backward_pre_hooks \u001b[38;5;129;01mor\u001b[39;00m \u001b[38;5;28mself\u001b[39m\u001b[38;5;241m.\u001b[39m_forward_hooks \u001b[38;5;129;01mor\u001b[39;00m \u001b[38;5;28mself\u001b[39m\u001b[38;5;241m.\u001b[39m_forward_pre_hooks\n\u001b[1;32m   1748\u001b[0m         \u001b[38;5;129;01mor\u001b[39;00m _global_backward_pre_hooks \u001b[38;5;129;01mor\u001b[39;00m _global_backward_hooks\n\u001b[1;32m   1749\u001b[0m         \u001b[38;5;129;01mor\u001b[39;00m _global_forward_hooks \u001b[38;5;129;01mor\u001b[39;00m _global_forward_pre_hooks):\n\u001b[0;32m-> 1750\u001b[0m     \u001b[38;5;28;01mreturn\u001b[39;00m \u001b[43mforward_call\u001b[49m\u001b[43m(\u001b[49m\u001b[38;5;241;43m*\u001b[39;49m\u001b[43margs\u001b[49m\u001b[43m,\u001b[49m\u001b[43m \u001b[49m\u001b[38;5;241;43m*\u001b[39;49m\u001b[38;5;241;43m*\u001b[39;49m\u001b[43mkwargs\u001b[49m\u001b[43m)\u001b[49m\n\u001b[1;32m   1752\u001b[0m result \u001b[38;5;241m=\u001b[39m \u001b[38;5;28;01mNone\u001b[39;00m\n\u001b[1;32m   1753\u001b[0m called_always_called_hooks \u001b[38;5;241m=\u001b[39m \u001b[38;5;28mset\u001b[39m()\n",
      "File \u001b[0;32m~/diffusion_policy/diffusion_policy/model/diffusion/conv1d_components.py:40\u001b[0m, in \u001b[0;36mConv1dBlock.forward\u001b[0;34m(self, x)\u001b[0m\n\u001b[1;32m     39\u001b[0m \u001b[38;5;28;01mdef\u001b[39;00m\u001b[38;5;250m \u001b[39m\u001b[38;5;21mforward\u001b[39m(\u001b[38;5;28mself\u001b[39m, x):\n\u001b[0;32m---> 40\u001b[0m     \u001b[38;5;28;01mreturn\u001b[39;00m \u001b[38;5;28;43mself\u001b[39;49m\u001b[38;5;241;43m.\u001b[39;49m\u001b[43mblock\u001b[49m\u001b[43m(\u001b[49m\u001b[43mx\u001b[49m\u001b[43m)\u001b[49m\n",
      "File \u001b[0;32m~/miniconda3/envs/robodiff_2/lib/python3.9/site-packages/torch/nn/modules/module.py:1739\u001b[0m, in \u001b[0;36mModule._wrapped_call_impl\u001b[0;34m(self, *args, **kwargs)\u001b[0m\n\u001b[1;32m   1737\u001b[0m     \u001b[38;5;28;01mreturn\u001b[39;00m \u001b[38;5;28mself\u001b[39m\u001b[38;5;241m.\u001b[39m_compiled_call_impl(\u001b[38;5;241m*\u001b[39margs, \u001b[38;5;241m*\u001b[39m\u001b[38;5;241m*\u001b[39mkwargs)  \u001b[38;5;66;03m# type: ignore[misc]\u001b[39;00m\n\u001b[1;32m   1738\u001b[0m \u001b[38;5;28;01melse\u001b[39;00m:\n\u001b[0;32m-> 1739\u001b[0m     \u001b[38;5;28;01mreturn\u001b[39;00m \u001b[38;5;28;43mself\u001b[39;49m\u001b[38;5;241;43m.\u001b[39;49m\u001b[43m_call_impl\u001b[49m\u001b[43m(\u001b[49m\u001b[38;5;241;43m*\u001b[39;49m\u001b[43margs\u001b[49m\u001b[43m,\u001b[49m\u001b[43m \u001b[49m\u001b[38;5;241;43m*\u001b[39;49m\u001b[38;5;241;43m*\u001b[39;49m\u001b[43mkwargs\u001b[49m\u001b[43m)\u001b[49m\n",
      "File \u001b[0;32m~/miniconda3/envs/robodiff_2/lib/python3.9/site-packages/torch/nn/modules/module.py:1750\u001b[0m, in \u001b[0;36mModule._call_impl\u001b[0;34m(self, *args, **kwargs)\u001b[0m\n\u001b[1;32m   1745\u001b[0m \u001b[38;5;66;03m# If we don't have any hooks, we want to skip the rest of the logic in\u001b[39;00m\n\u001b[1;32m   1746\u001b[0m \u001b[38;5;66;03m# this function, and just call forward.\u001b[39;00m\n\u001b[1;32m   1747\u001b[0m \u001b[38;5;28;01mif\u001b[39;00m \u001b[38;5;129;01mnot\u001b[39;00m (\u001b[38;5;28mself\u001b[39m\u001b[38;5;241m.\u001b[39m_backward_hooks \u001b[38;5;129;01mor\u001b[39;00m \u001b[38;5;28mself\u001b[39m\u001b[38;5;241m.\u001b[39m_backward_pre_hooks \u001b[38;5;129;01mor\u001b[39;00m \u001b[38;5;28mself\u001b[39m\u001b[38;5;241m.\u001b[39m_forward_hooks \u001b[38;5;129;01mor\u001b[39;00m \u001b[38;5;28mself\u001b[39m\u001b[38;5;241m.\u001b[39m_forward_pre_hooks\n\u001b[1;32m   1748\u001b[0m         \u001b[38;5;129;01mor\u001b[39;00m _global_backward_pre_hooks \u001b[38;5;129;01mor\u001b[39;00m _global_backward_hooks\n\u001b[1;32m   1749\u001b[0m         \u001b[38;5;129;01mor\u001b[39;00m _global_forward_hooks \u001b[38;5;129;01mor\u001b[39;00m _global_forward_pre_hooks):\n\u001b[0;32m-> 1750\u001b[0m     \u001b[38;5;28;01mreturn\u001b[39;00m \u001b[43mforward_call\u001b[49m\u001b[43m(\u001b[49m\u001b[38;5;241;43m*\u001b[39;49m\u001b[43margs\u001b[49m\u001b[43m,\u001b[49m\u001b[43m \u001b[49m\u001b[38;5;241;43m*\u001b[39;49m\u001b[38;5;241;43m*\u001b[39;49m\u001b[43mkwargs\u001b[49m\u001b[43m)\u001b[49m\n\u001b[1;32m   1752\u001b[0m result \u001b[38;5;241m=\u001b[39m \u001b[38;5;28;01mNone\u001b[39;00m\n\u001b[1;32m   1753\u001b[0m called_always_called_hooks \u001b[38;5;241m=\u001b[39m \u001b[38;5;28mset\u001b[39m()\n",
      "File \u001b[0;32m~/miniconda3/envs/robodiff_2/lib/python3.9/site-packages/torch/nn/modules/container.py:250\u001b[0m, in \u001b[0;36mSequential.forward\u001b[0;34m(self, input)\u001b[0m\n\u001b[1;32m    248\u001b[0m \u001b[38;5;28;01mdef\u001b[39;00m\u001b[38;5;250m \u001b[39m\u001b[38;5;21mforward\u001b[39m(\u001b[38;5;28mself\u001b[39m, \u001b[38;5;28minput\u001b[39m):\n\u001b[1;32m    249\u001b[0m     \u001b[38;5;28;01mfor\u001b[39;00m module \u001b[38;5;129;01min\u001b[39;00m \u001b[38;5;28mself\u001b[39m:\n\u001b[0;32m--> 250\u001b[0m         \u001b[38;5;28minput\u001b[39m \u001b[38;5;241m=\u001b[39m \u001b[43mmodule\u001b[49m\u001b[43m(\u001b[49m\u001b[38;5;28;43minput\u001b[39;49m\u001b[43m)\u001b[49m\n\u001b[1;32m    251\u001b[0m     \u001b[38;5;28;01mreturn\u001b[39;00m \u001b[38;5;28minput\u001b[39m\n",
      "File \u001b[0;32m~/miniconda3/envs/robodiff_2/lib/python3.9/site-packages/torch/nn/modules/module.py:1739\u001b[0m, in \u001b[0;36mModule._wrapped_call_impl\u001b[0;34m(self, *args, **kwargs)\u001b[0m\n\u001b[1;32m   1737\u001b[0m     \u001b[38;5;28;01mreturn\u001b[39;00m \u001b[38;5;28mself\u001b[39m\u001b[38;5;241m.\u001b[39m_compiled_call_impl(\u001b[38;5;241m*\u001b[39margs, \u001b[38;5;241m*\u001b[39m\u001b[38;5;241m*\u001b[39mkwargs)  \u001b[38;5;66;03m# type: ignore[misc]\u001b[39;00m\n\u001b[1;32m   1738\u001b[0m \u001b[38;5;28;01melse\u001b[39;00m:\n\u001b[0;32m-> 1739\u001b[0m     \u001b[38;5;28;01mreturn\u001b[39;00m \u001b[38;5;28;43mself\u001b[39;49m\u001b[38;5;241;43m.\u001b[39;49m\u001b[43m_call_impl\u001b[49m\u001b[43m(\u001b[49m\u001b[38;5;241;43m*\u001b[39;49m\u001b[43margs\u001b[49m\u001b[43m,\u001b[49m\u001b[43m \u001b[49m\u001b[38;5;241;43m*\u001b[39;49m\u001b[38;5;241;43m*\u001b[39;49m\u001b[43mkwargs\u001b[49m\u001b[43m)\u001b[49m\n",
      "File \u001b[0;32m~/miniconda3/envs/robodiff_2/lib/python3.9/site-packages/torch/nn/modules/module.py:1750\u001b[0m, in \u001b[0;36mModule._call_impl\u001b[0;34m(self, *args, **kwargs)\u001b[0m\n\u001b[1;32m   1745\u001b[0m \u001b[38;5;66;03m# If we don't have any hooks, we want to skip the rest of the logic in\u001b[39;00m\n\u001b[1;32m   1746\u001b[0m \u001b[38;5;66;03m# this function, and just call forward.\u001b[39;00m\n\u001b[1;32m   1747\u001b[0m \u001b[38;5;28;01mif\u001b[39;00m \u001b[38;5;129;01mnot\u001b[39;00m (\u001b[38;5;28mself\u001b[39m\u001b[38;5;241m.\u001b[39m_backward_hooks \u001b[38;5;129;01mor\u001b[39;00m \u001b[38;5;28mself\u001b[39m\u001b[38;5;241m.\u001b[39m_backward_pre_hooks \u001b[38;5;129;01mor\u001b[39;00m \u001b[38;5;28mself\u001b[39m\u001b[38;5;241m.\u001b[39m_forward_hooks \u001b[38;5;129;01mor\u001b[39;00m \u001b[38;5;28mself\u001b[39m\u001b[38;5;241m.\u001b[39m_forward_pre_hooks\n\u001b[1;32m   1748\u001b[0m         \u001b[38;5;129;01mor\u001b[39;00m _global_backward_pre_hooks \u001b[38;5;129;01mor\u001b[39;00m _global_backward_hooks\n\u001b[1;32m   1749\u001b[0m         \u001b[38;5;129;01mor\u001b[39;00m _global_forward_hooks \u001b[38;5;129;01mor\u001b[39;00m _global_forward_pre_hooks):\n\u001b[0;32m-> 1750\u001b[0m     \u001b[38;5;28;01mreturn\u001b[39;00m \u001b[43mforward_call\u001b[49m\u001b[43m(\u001b[49m\u001b[38;5;241;43m*\u001b[39;49m\u001b[43margs\u001b[49m\u001b[43m,\u001b[49m\u001b[43m \u001b[49m\u001b[38;5;241;43m*\u001b[39;49m\u001b[38;5;241;43m*\u001b[39;49m\u001b[43mkwargs\u001b[49m\u001b[43m)\u001b[49m\n\u001b[1;32m   1752\u001b[0m result \u001b[38;5;241m=\u001b[39m \u001b[38;5;28;01mNone\u001b[39;00m\n\u001b[1;32m   1753\u001b[0m called_always_called_hooks \u001b[38;5;241m=\u001b[39m \u001b[38;5;28mset\u001b[39m()\n",
      "File \u001b[0;32m~/miniconda3/envs/robodiff_2/lib/python3.9/site-packages/torch/nn/modules/conv.py:375\u001b[0m, in \u001b[0;36mConv1d.forward\u001b[0;34m(self, input)\u001b[0m\n\u001b[1;32m    374\u001b[0m \u001b[38;5;28;01mdef\u001b[39;00m\u001b[38;5;250m \u001b[39m\u001b[38;5;21mforward\u001b[39m(\u001b[38;5;28mself\u001b[39m, \u001b[38;5;28minput\u001b[39m: Tensor) \u001b[38;5;241m-\u001b[39m\u001b[38;5;241m>\u001b[39m Tensor:\n\u001b[0;32m--> 375\u001b[0m     \u001b[38;5;28;01mreturn\u001b[39;00m \u001b[38;5;28;43mself\u001b[39;49m\u001b[38;5;241;43m.\u001b[39;49m\u001b[43m_conv_forward\u001b[49m\u001b[43m(\u001b[49m\u001b[38;5;28;43minput\u001b[39;49m\u001b[43m,\u001b[49m\u001b[43m \u001b[49m\u001b[38;5;28;43mself\u001b[39;49m\u001b[38;5;241;43m.\u001b[39;49m\u001b[43mweight\u001b[49m\u001b[43m,\u001b[49m\u001b[43m \u001b[49m\u001b[38;5;28;43mself\u001b[39;49m\u001b[38;5;241;43m.\u001b[39;49m\u001b[43mbias\u001b[49m\u001b[43m)\u001b[49m\n",
      "File \u001b[0;32m~/miniconda3/envs/robodiff_2/lib/python3.9/site-packages/torch/nn/modules/conv.py:370\u001b[0m, in \u001b[0;36mConv1d._conv_forward\u001b[0;34m(self, input, weight, bias)\u001b[0m\n\u001b[1;32m    358\u001b[0m \u001b[38;5;28;01mif\u001b[39;00m \u001b[38;5;28mself\u001b[39m\u001b[38;5;241m.\u001b[39mpadding_mode \u001b[38;5;241m!=\u001b[39m \u001b[38;5;124m\"\u001b[39m\u001b[38;5;124mzeros\u001b[39m\u001b[38;5;124m\"\u001b[39m:\n\u001b[1;32m    359\u001b[0m     \u001b[38;5;28;01mreturn\u001b[39;00m F\u001b[38;5;241m.\u001b[39mconv1d(\n\u001b[1;32m    360\u001b[0m         F\u001b[38;5;241m.\u001b[39mpad(\n\u001b[1;32m    361\u001b[0m             \u001b[38;5;28minput\u001b[39m, \u001b[38;5;28mself\u001b[39m\u001b[38;5;241m.\u001b[39m_reversed_padding_repeated_twice, mode\u001b[38;5;241m=\u001b[39m\u001b[38;5;28mself\u001b[39m\u001b[38;5;241m.\u001b[39mpadding_mode\n\u001b[0;32m   (...)\u001b[0m\n\u001b[1;32m    368\u001b[0m         \u001b[38;5;28mself\u001b[39m\u001b[38;5;241m.\u001b[39mgroups,\n\u001b[1;32m    369\u001b[0m     )\n\u001b[0;32m--> 370\u001b[0m \u001b[38;5;28;01mreturn\u001b[39;00m \u001b[43mF\u001b[49m\u001b[38;5;241;43m.\u001b[39;49m\u001b[43mconv1d\u001b[49m\u001b[43m(\u001b[49m\n\u001b[1;32m    371\u001b[0m \u001b[43m    \u001b[49m\u001b[38;5;28;43minput\u001b[39;49m\u001b[43m,\u001b[49m\u001b[43m \u001b[49m\u001b[43mweight\u001b[49m\u001b[43m,\u001b[49m\u001b[43m \u001b[49m\u001b[43mbias\u001b[49m\u001b[43m,\u001b[49m\u001b[43m \u001b[49m\u001b[38;5;28;43mself\u001b[39;49m\u001b[38;5;241;43m.\u001b[39;49m\u001b[43mstride\u001b[49m\u001b[43m,\u001b[49m\u001b[43m \u001b[49m\u001b[38;5;28;43mself\u001b[39;49m\u001b[38;5;241;43m.\u001b[39;49m\u001b[43mpadding\u001b[49m\u001b[43m,\u001b[49m\u001b[43m \u001b[49m\u001b[38;5;28;43mself\u001b[39;49m\u001b[38;5;241;43m.\u001b[39;49m\u001b[43mdilation\u001b[49m\u001b[43m,\u001b[49m\u001b[43m \u001b[49m\u001b[38;5;28;43mself\u001b[39;49m\u001b[38;5;241;43m.\u001b[39;49m\u001b[43mgroups\u001b[49m\n\u001b[1;32m    372\u001b[0m \u001b[43m\u001b[49m\u001b[43m)\u001b[49m\n",
      "\u001b[0;31mKeyboardInterrupt\u001b[0m: "
     ]
    }
   ],
   "source": [
    "# # reset robot\n",
    "set_gripper(open=True)\n",
    "reset_joints_to(robot_interface, reset_joint_positions)\n",
    "set_gripper(open=True)\n",
    "policy.reset()\n",
    "\n",
    "images = []\n",
    "all_poses_7d = []\n",
    "all_inside_flags = []\n",
    "\n",
    "for _ in range(50):\n",
    "    # 1) Acquire user input\n",
    "    action, grasp = input2action(device=spacemouse, controller_type=controller_type)\n",
    "    if action is None:\n",
    "        break\n",
    "    if len(robot_interface._state_buffer) == 0:\n",
    "        continue\n",
    "\n",
    "    # 2) Get observation\n",
    "    obs_dict = get_current_obs(robot_interface)\n",
    "    img = obs_dict['eye_in_hand_rgb']\n",
    "    images.append(img)\n",
    "    obs = framestacker.add_new_obs(obs_dict)\n",
    "\n",
    "    # 3) Policy predicts an action (whatever format: delta pose, EEF pose, etc.)\n",
    "    #    We'll send it to the robot\n",
    "    action_pred = predict_action(obs)  # shape is up to your policy\n",
    "    # print(\"Raw policy prediction:\", action_pred)\n",
    "\n",
    "    \n",
    "\n",
    "    # 4) Let's say we control the robot with the first 4 predicted actions\n",
    "    for i, single_cmd in enumerate(action_pred[:4]):\n",
    "        print(f\"Sending to robot: action {i} =>\", single_cmd)\n",
    "        robot_interface.control(\n",
    "            controller_type=controller_type,\n",
    "            action=single_cmd,\n",
    "            controller_cfg=controller_cfg,\n",
    "        )\n",
    "\n",
    "        # (Optional) short delay for the robot to move\n",
    "        time.sleep(0.05)\n",
    "\n",
    "        # 5) Now read the *actual* real joint angles from the robot\n",
    "        #    e.g. shape (7,) => [q1, q2, q3, q4, q5, q6, q7]\n",
    "        js_real = robot_interface.last_q  \n",
    "        if js_real is None:\n",
    "            print(\"No joint angles read. Skipping.\")\n",
    "            continue\n",
    "\n",
    "        # 6) Convert those real joints => 7D EEF pose => 6D => safe-set check\n",
    "        eef_pose_7d = joint_angles_to_end_effector_pose(js_real)  # shape (7,)\n",
    "        eef_pose_6d = pose7d_to_6d(eef_pose_7d)\n",
    "        inside, distances = is_pose_in_safe_set_6d(eef_pose_6d, hull_equations, tol=1e-1)\n",
    "\n",
    "        # print(f\"   => Real Joints {js_real}, EEF pose {eef_pose_7d}\")\n",
    "        print(f\"   => inside={inside}, distances={distances}\")\n",
    "\n",
    "        # 7) Collect for final visualization\n",
    "        all_poses_7d.append(eef_pose_7d)\n",
    "        all_inside_flags.append(inside)\n",
    "\n",
    "robot_interface.close()"
   ]
  },
  {
   "cell_type": "code",
   "execution_count": 59,
   "metadata": {},
   "outputs": [
    {
     "data": {
      "text/plain": [
       "array([ 0.037, -1.654,  0.099, -2.993, -0.073,  2.32 ,  0.921])"
      ]
     },
     "execution_count": 59,
     "metadata": {},
     "output_type": "execute_result"
    }
   ],
   "source": [
    "js_real = robot_interface.last_q\n",
    "js_real"
   ]
  },
  {
   "cell_type": "code",
   "execution_count": null,
   "metadata": {},
   "outputs": [],
   "source": []
  },
  {
   "cell_type": "code",
   "execution_count": 43,
   "metadata": {},
   "outputs": [
    {
     "data": {
      "application/vnd.plotly.v1+json": {
       "config": {
        "plotlyServerURL": "https://plot.ly"
       },
       "data": [
        {
         "color": "lightblue",
         "i": {
          "bdata": "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",
          "dtype": "i4"
         },
         "j": {
          "bdata": "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",
          "dtype": "i4"
         },
         "k": {
          "bdata": "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",
          "dtype": "i4"
         },
         "name": "Safe Set Hull",
         "opacity": 0.3,
         "type": "mesh3d",
         "x": {
          "bdata": "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",
          "dtype": "f8"
         },
         "y": {
          "bdata": "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",
          "dtype": "f8"
         },
         "z": {
          "bdata": "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",
          "dtype": "f8"
         }
        },
        {
         "line": {
          "color": "gray",
          "width": 2
         },
         "marker": {
          "color": [
           "green",
           "green",
           "green",
           "green",
           "green",
           "green",
           "green",
           "green",
           "green",
           "green",
           "green",
           "green",
           "green",
           "green",
           "green",
           "green",
           "green",
           "green",
           "green",
           "green",
           "green",
           "green",
           "green",
           "green",
           "green",
           "green",
           "green",
           "green",
           "green",
           "green",
           "green",
           "green",
           "green",
           "green",
           "green",
           "green",
           "green",
           "green",
           "green",
           "green",
           "red",
           "red",
           "green",
           "green",
           "green",
           "green",
           "green",
           "green",
           "green",
           "green",
           "green",
           "green",
           "green",
           "green",
           "green",
           "green",
           "green",
           "green",
           "green",
           "green",
           "green",
           "green",
           "green",
           "green",
           "red",
           "red",
           "red",
           "red",
           "red",
           "red",
           "red",
           "red",
           "red",
           "red",
           "red",
           "red",
           "red",
           "red",
           "red",
           "red",
           "red",
           "red",
           "red",
           "red",
           "red",
           "red",
           "red",
           "red",
           "red",
           "red",
           "red",
           "red",
           "red",
           "red",
           "red",
           "red",
           "red",
           "red",
           "red",
           "red",
           "red",
           "red",
           "red",
           "red"
          ],
          "size": 5
         },
         "mode": "markers+lines",
         "name": "EEF Poses (Real Joints)",
         "type": "scatter3d",
         "x": {
          "bdata": "c8ArZQNn4z/xwm8Gso3jP0D+vdeFteM/XHqtYnjs4z+p0Fqnb17kP5a0VtwsZ+Q/ghDBZqJ+5D9zfHQoaI/kP0eLokqCnuQ/jwRedVGd5D+z0N2kXYfkP32T8ERZUuQ/5Yq/+K2U4z+mZRwFe3DjP91+MLPy6eI/3zjKi9lZ4j/XkhksvOjgP8ZABhATrOA/ja0z2scM4D9ESbFM7vTePyyOxr5vD9w/kvdGF1aT2z/V3mTHODPaP5poaSpw9Ng/y+eTK9zw1T/W8EWGHVnVP9B9NIUwstM/pb+VuJNb0j/4mbwY6j3OPxbNShlWdcw/PdAPLo+3yD+ow/riIovEPwwbKradHbg/bBRDQca3tD+iptYrpLyrPyhc1LjsboI/GqyLXrB7tr+yOIhA1kK8v68gAcvyScO/CPcyiz0Rx7/OsRPRgFvQv5Vm4fPDdtG/ltKOnCc/1L/Co36QcMTWv9BSqUL9O9u/7R0mlsbz27/lBWZryEzdv55c7gbS4t6/nesvBv234L/hceLLYf7gv210P7tpc+G/um6UG8ze4b/XFYRSvqfiv4yO0CDvxOK/gcIf7kP+4r8JduT9rCnjv/MS0FbdiuO/nTFPXNee47/JCqAxdbjjv4haBRIq0OO/RwysoEQE5L89yaRtswvkvxDu88fWHOS/W3LwNKUu5L+8nxFxPUnkv/H3Xr/xSuS/NV08WVhR5L/4uD5lbFXkv5MLXVUMXeS/1E152W9c5L8ZZejxjVvkv9ADI36IW+S/jTBfKHlb5L9+aEKTeVvkv6CnWYB0W+S/h8JqWz1a5L89yp9NE1rkv7xCXt/1WeS/JItbpvBZ5L+5mypy+1nkvwFTyKlPWuS/RimSr5Na5L/sqmVSE1vkv9I7zqCzW+S/ekQTJm5c5L8Yfp3zOl3kv2ofWFJMXeS/ymE+SV5d5L8lvG9GwlzkvyJDM3ErXeS/9wGRAy1d5L/KMbSJAV3kvwrUC5PJXOS/8I3zqZpc5L+vHW3bsVzkv7JSMLmnXOS/Mxn9Q0ld5L+aALd2SF3kvzOYRqZJXeS/kNq0oUVd5L9NB0iXhl3kvyYwuRiaXeS/nvzQngde5L/K7angel7kvw==",
          "dtype": "f8"
         },
         "y": {
          "bdata": "lG5rr3ectL8Rfr/w3/myv1DMZuJuB7C/fR2ARV7npr8A00JXhRA+v9A3ONQt3XE/5NWWSrpIlj+Y1j/bJpOjP6/UdMv2PbY/m8jCOh6ZuD9eYOAIrKbAP9JsbYEFmcU/dBmPe94azz+aejb3yljQP2BUHcrEz9I/1Cf/le3z1D+kWiLdtivZP/ET6lyP39k/S0dRuXZ22z9KEYAnibrcPwId0fbPgt8/XYEq7cgb4D8kN6vq1M7gP+BCSCqXYuE/rHP4cZ+O4j80zN/hzM3iP9DfenDXZ+M/pP/cihjk4z86pd9zsv3kP0bv38yqOOU/42Egs22k5T+IayvMoxPmP9YDR+mz4eY/RMKavBL/5j8MjMHeEynnP4e7qryyXuc/SnlLbdqF5z/i2BqXY3LnP51VrdYEOOc/ZH1v08r/5j9x6/ISzTXmP0a9YG7L8+U/cMlG2REz5T+ipbVecGvkP+9ERQlEq+I/O3foatFT4j/KPCtbYqbhP9rJTNq5yeA/aea+hhBT3j+dqsuIM4DdP5FLT4JeFtw/69r1YUOu2j8HaCMtsXzXP3KQlM3+79Y/nOz6l2fc1T+8GuVQO/vUP6wpbs1suNI/T24lM30x0j+7pzT073bRP+O96tcVuNA/IC81L++1zT9rUHzH/tHMP35MZecWD8s/+fcToL0yyT8gScax0V7FP4mY14pkdsQ/C4JhqAbqwj8sz8XJSDnCPxJ4r4WyXMA/Nz4eJXwOwD9+W1ZyKJC/P2kHrxnZR78/nFGAr55Dvz9NThoIQkO/P2WGg9qfSb8/rrL2xDKBvz+lCHgrfLW/P0OyAfW5ub8/IicEuh28vz8auDlfiLu/P4AwUb/CuL8/Pl92NdS5vz8e9lwtI7u/P3C2BkoIvb8/frhwrobCvz/ypLXl08S/PwaBPKk/xb8/CM9UGEHEvz+C5osBjcq/P8RrvuOFx78/in7T2XDHvz+lFQVt68i/P/7/2pyNy78/TLmhtFS9vz98HwJWLbm/P3TZ1Ndhur8/F2faoQm5vz8+iDQx1bi/P5BloznPuL8/JMaZaDq5vz9iirDxZba/P5iNgE5Atr8/pAgjcZm2vz8w+O6Cx7a/Pw==",
          "dtype": "f8"
         },
         "z": {
          "bdata": "GrJYpYwn1j8ttD1GkifWP5whu9eVJ9Y/YBvav4on1j/7tz6mhinWP6ZF152kKdY/7kuhYKkq1j88ckPI+CzWP1psqh0jNNY/xO+UnoUu1j962qnGbTXWP9rWTfDvQNY/zQPCF/9Z1j+VCFulr1bWP1GnjB42ZNY/SqE+kypx1j9XnYxAaInWP65ldoeTi9Y/FkzLxUOS1j/SliuvypfWPyZev3SRpNY/3Ib6IhOn1j/S92JzUK3WP4238ZCbs9Y/7P+M75vB1j+0/hAm0sPWPy8LMpA5ydY/6uj6VYHL1j8smfUnftLWP1l/P4xM09Y/afgkCk/X1j/TJOSmhdfWP5416r5l1tY/MxiLWM/X1j+1hOJ+oNnWPz9HIHKy2dY/qJUQzirT1j9M0wbMAM/WP0hFhnLEytY/bralUnrR1j/UDxc6iODWP3dV2L1U6NY/1+JTotQB1z/1CtjO9RrXP0/jRnDnQ9c/E/Dje6tN1z+GYHO9e2TXP73gFnjCdtc/1oM8xHeE1z81lGbxN4jXP9lJgRvgjdc/yX6VqZmS1z/s3W51gJzXPxRK3QQjntc/Lq6X1vWg1z9z7UEAOaPXP/FfuGnqqNc/KCF5Akeq1z/xCgOyx6vXPwnFd/azrdc/u5L+wrex1z/TTe+A/LLXP7wFmqgWtdc/CoARFju31z+I7SQgiLvXPxeSdnhuvdc/+TbSs8O+1z/hphnMgr/XP3he0Howwdc/nnmCQ0zB1z9yGpCmn8HXP6yTk8TVwdc/yg5m2unA1z/GsbaQ4cDXP0QzqIcWwNc/C1jUxqm81z9fqsh/2rzXP+YKjw7fvNc/aANt2ia81z9+q9B6MLzXP7+cDzAqvNc/AeieBFW21z9fn4YJ+qvXP9BEcy8lntc/YZ1TXtSQ1z+NAVCi2ZDXP5yoPS7ZkNc/be43h+KQ1z830PfP35DXP9+2CTbWkNc/whaGK96Q1z/SgWvj25DXP1sZkbXlkNc/4ssItsyQ1z/nvegR0JDXP4LfjmGlkNc/qFLUSVuP1z8+Y7L9Xo/XP+MwXGZTj9c/nIEPcViP1z+EcavGPI/XP+8uBv9Pjdc/UmHsF+aC1z/LXmPgynfXPw==",
          "dtype": "f8"
         }
        }
       ],
       "layout": {
        "scene": {
         "xaxis": {
          "title": {
           "text": "X"
          }
         },
         "yaxis": {
          "title": {
           "text": "Y"
          }
         },
         "zaxis": {
          "title": {
           "text": "Z"
          }
         }
        },
        "template": {
         "data": {
          "bar": [
           {
            "error_x": {
             "color": "#2a3f5f"
            },
            "error_y": {
             "color": "#2a3f5f"
            },
            "marker": {
             "line": {
              "color": "#E5ECF6",
              "width": 0.5
             },
             "pattern": {
              "fillmode": "overlay",
              "size": 10,
              "solidity": 0.2
             }
            },
            "type": "bar"
           }
          ],
          "barpolar": [
           {
            "marker": {
             "line": {
              "color": "#E5ECF6",
              "width": 0.5
             },
             "pattern": {
              "fillmode": "overlay",
              "size": 10,
              "solidity": 0.2
             }
            },
            "type": "barpolar"
           }
          ],
          "carpet": [
           {
            "aaxis": {
             "endlinecolor": "#2a3f5f",
             "gridcolor": "white",
             "linecolor": "white",
             "minorgridcolor": "white",
             "startlinecolor": "#2a3f5f"
            },
            "baxis": {
             "endlinecolor": "#2a3f5f",
             "gridcolor": "white",
             "linecolor": "white",
             "minorgridcolor": "white",
             "startlinecolor": "#2a3f5f"
            },
            "type": "carpet"
           }
          ],
          "choropleth": [
           {
            "colorbar": {
             "outlinewidth": 0,
             "ticks": ""
            },
            "type": "choropleth"
           }
          ],
          "contour": [
           {
            "colorbar": {
             "outlinewidth": 0,
             "ticks": ""
            },
            "colorscale": [
             [
              0,
              "#0d0887"
             ],
             [
              0.1111111111111111,
              "#46039f"
             ],
             [
              0.2222222222222222,
              "#7201a8"
             ],
             [
              0.3333333333333333,
              "#9c179e"
             ],
             [
              0.4444444444444444,
              "#bd3786"
             ],
             [
              0.5555555555555556,
              "#d8576b"
             ],
             [
              0.6666666666666666,
              "#ed7953"
             ],
             [
              0.7777777777777778,
              "#fb9f3a"
             ],
             [
              0.8888888888888888,
              "#fdca26"
             ],
             [
              1,
              "#f0f921"
             ]
            ],
            "type": "contour"
           }
          ],
          "contourcarpet": [
           {
            "colorbar": {
             "outlinewidth": 0,
             "ticks": ""
            },
            "type": "contourcarpet"
           }
          ],
          "heatmap": [
           {
            "colorbar": {
             "outlinewidth": 0,
             "ticks": ""
            },
            "colorscale": [
             [
              0,
              "#0d0887"
             ],
             [
              0.1111111111111111,
              "#46039f"
             ],
             [
              0.2222222222222222,
              "#7201a8"
             ],
             [
              0.3333333333333333,
              "#9c179e"
             ],
             [
              0.4444444444444444,
              "#bd3786"
             ],
             [
              0.5555555555555556,
              "#d8576b"
             ],
             [
              0.6666666666666666,
              "#ed7953"
             ],
             [
              0.7777777777777778,
              "#fb9f3a"
             ],
             [
              0.8888888888888888,
              "#fdca26"
             ],
             [
              1,
              "#f0f921"
             ]
            ],
            "type": "heatmap"
           }
          ],
          "histogram": [
           {
            "marker": {
             "pattern": {
              "fillmode": "overlay",
              "size": 10,
              "solidity": 0.2
             }
            },
            "type": "histogram"
           }
          ],
          "histogram2d": [
           {
            "colorbar": {
             "outlinewidth": 0,
             "ticks": ""
            },
            "colorscale": [
             [
              0,
              "#0d0887"
             ],
             [
              0.1111111111111111,
              "#46039f"
             ],
             [
              0.2222222222222222,
              "#7201a8"
             ],
             [
              0.3333333333333333,
              "#9c179e"
             ],
             [
              0.4444444444444444,
              "#bd3786"
             ],
             [
              0.5555555555555556,
              "#d8576b"
             ],
             [
              0.6666666666666666,
              "#ed7953"
             ],
             [
              0.7777777777777778,
              "#fb9f3a"
             ],
             [
              0.8888888888888888,
              "#fdca26"
             ],
             [
              1,
              "#f0f921"
             ]
            ],
            "type": "histogram2d"
           }
          ],
          "histogram2dcontour": [
           {
            "colorbar": {
             "outlinewidth": 0,
             "ticks": ""
            },
            "colorscale": [
             [
              0,
              "#0d0887"
             ],
             [
              0.1111111111111111,
              "#46039f"
             ],
             [
              0.2222222222222222,
              "#7201a8"
             ],
             [
              0.3333333333333333,
              "#9c179e"
             ],
             [
              0.4444444444444444,
              "#bd3786"
             ],
             [
              0.5555555555555556,
              "#d8576b"
             ],
             [
              0.6666666666666666,
              "#ed7953"
             ],
             [
              0.7777777777777778,
              "#fb9f3a"
             ],
             [
              0.8888888888888888,
              "#fdca26"
             ],
             [
              1,
              "#f0f921"
             ]
            ],
            "type": "histogram2dcontour"
           }
          ],
          "mesh3d": [
           {
            "colorbar": {
             "outlinewidth": 0,
             "ticks": ""
            },
            "type": "mesh3d"
           }
          ],
          "parcoords": [
           {
            "line": {
             "colorbar": {
              "outlinewidth": 0,
              "ticks": ""
             }
            },
            "type": "parcoords"
           }
          ],
          "pie": [
           {
            "automargin": true,
            "type": "pie"
           }
          ],
          "scatter": [
           {
            "fillpattern": {
             "fillmode": "overlay",
             "size": 10,
             "solidity": 0.2
            },
            "type": "scatter"
           }
          ],
          "scatter3d": [
           {
            "line": {
             "colorbar": {
              "outlinewidth": 0,
              "ticks": ""
             }
            },
            "marker": {
             "colorbar": {
              "outlinewidth": 0,
              "ticks": ""
             }
            },
            "type": "scatter3d"
           }
          ],
          "scattercarpet": [
           {
            "marker": {
             "colorbar": {
              "outlinewidth": 0,
              "ticks": ""
             }
            },
            "type": "scattercarpet"
           }
          ],
          "scattergeo": [
           {
            "marker": {
             "colorbar": {
              "outlinewidth": 0,
              "ticks": ""
             }
            },
            "type": "scattergeo"
           }
          ],
          "scattergl": [
           {
            "marker": {
             "colorbar": {
              "outlinewidth": 0,
              "ticks": ""
             }
            },
            "type": "scattergl"
           }
          ],
          "scattermap": [
           {
            "marker": {
             "colorbar": {
              "outlinewidth": 0,
              "ticks": ""
             }
            },
            "type": "scattermap"
           }
          ],
          "scattermapbox": [
           {
            "marker": {
             "colorbar": {
              "outlinewidth": 0,
              "ticks": ""
             }
            },
            "type": "scattermapbox"
           }
          ],
          "scatterpolar": [
           {
            "marker": {
             "colorbar": {
              "outlinewidth": 0,
              "ticks": ""
             }
            },
            "type": "scatterpolar"
           }
          ],
          "scatterpolargl": [
           {
            "marker": {
             "colorbar": {
              "outlinewidth": 0,
              "ticks": ""
             }
            },
            "type": "scatterpolargl"
           }
          ],
          "scatterternary": [
           {
            "marker": {
             "colorbar": {
              "outlinewidth": 0,
              "ticks": ""
             }
            },
            "type": "scatterternary"
           }
          ],
          "surface": [
           {
            "colorbar": {
             "outlinewidth": 0,
             "ticks": ""
            },
            "colorscale": [
             [
              0,
              "#0d0887"
             ],
             [
              0.1111111111111111,
              "#46039f"
             ],
             [
              0.2222222222222222,
              "#7201a8"
             ],
             [
              0.3333333333333333,
              "#9c179e"
             ],
             [
              0.4444444444444444,
              "#bd3786"
             ],
             [
              0.5555555555555556,
              "#d8576b"
             ],
             [
              0.6666666666666666,
              "#ed7953"
             ],
             [
              0.7777777777777778,
              "#fb9f3a"
             ],
             [
              0.8888888888888888,
              "#fdca26"
             ],
             [
              1,
              "#f0f921"
             ]
            ],
            "type": "surface"
           }
          ],
          "table": [
           {
            "cells": {
             "fill": {
              "color": "#EBF0F8"
             },
             "line": {
              "color": "white"
             }
            },
            "header": {
             "fill": {
              "color": "#C8D4E3"
             },
             "line": {
              "color": "white"
             }
            },
            "type": "table"
           }
          ]
         },
         "layout": {
          "annotationdefaults": {
           "arrowcolor": "#2a3f5f",
           "arrowhead": 0,
           "arrowwidth": 1
          },
          "autotypenumbers": "strict",
          "coloraxis": {
           "colorbar": {
            "outlinewidth": 0,
            "ticks": ""
           }
          },
          "colorscale": {
           "diverging": [
            [
             0,
             "#8e0152"
            ],
            [
             0.1,
             "#c51b7d"
            ],
            [
             0.2,
             "#de77ae"
            ],
            [
             0.3,
             "#f1b6da"
            ],
            [
             0.4,
             "#fde0ef"
            ],
            [
             0.5,
             "#f7f7f7"
            ],
            [
             0.6,
             "#e6f5d0"
            ],
            [
             0.7,
             "#b8e186"
            ],
            [
             0.8,
             "#7fbc41"
            ],
            [
             0.9,
             "#4d9221"
            ],
            [
             1,
             "#276419"
            ]
           ],
           "sequential": [
            [
             0,
             "#0d0887"
            ],
            [
             0.1111111111111111,
             "#46039f"
            ],
            [
             0.2222222222222222,
             "#7201a8"
            ],
            [
             0.3333333333333333,
             "#9c179e"
            ],
            [
             0.4444444444444444,
             "#bd3786"
            ],
            [
             0.5555555555555556,
             "#d8576b"
            ],
            [
             0.6666666666666666,
             "#ed7953"
            ],
            [
             0.7777777777777778,
             "#fb9f3a"
            ],
            [
             0.8888888888888888,
             "#fdca26"
            ],
            [
             1,
             "#f0f921"
            ]
           ],
           "sequentialminus": [
            [
             0,
             "#0d0887"
            ],
            [
             0.1111111111111111,
             "#46039f"
            ],
            [
             0.2222222222222222,
             "#7201a8"
            ],
            [
             0.3333333333333333,
             "#9c179e"
            ],
            [
             0.4444444444444444,
             "#bd3786"
            ],
            [
             0.5555555555555556,
             "#d8576b"
            ],
            [
             0.6666666666666666,
             "#ed7953"
            ],
            [
             0.7777777777777778,
             "#fb9f3a"
            ],
            [
             0.8888888888888888,
             "#fdca26"
            ],
            [
             1,
             "#f0f921"
            ]
           ]
          },
          "colorway": [
           "#636efa",
           "#EF553B",
           "#00cc96",
           "#ab63fa",
           "#FFA15A",
           "#19d3f3",
           "#FF6692",
           "#B6E880",
           "#FF97FF",
           "#FECB52"
          ],
          "font": {
           "color": "#2a3f5f"
          },
          "geo": {
           "bgcolor": "white",
           "lakecolor": "white",
           "landcolor": "#E5ECF6",
           "showlakes": true,
           "showland": true,
           "subunitcolor": "white"
          },
          "hoverlabel": {
           "align": "left"
          },
          "hovermode": "closest",
          "mapbox": {
           "style": "light"
          },
          "paper_bgcolor": "white",
          "plot_bgcolor": "#E5ECF6",
          "polar": {
           "angularaxis": {
            "gridcolor": "white",
            "linecolor": "white",
            "ticks": ""
           },
           "bgcolor": "#E5ECF6",
           "radialaxis": {
            "gridcolor": "white",
            "linecolor": "white",
            "ticks": ""
           }
          },
          "scene": {
           "xaxis": {
            "backgroundcolor": "#E5ECF6",
            "gridcolor": "white",
            "gridwidth": 2,
            "linecolor": "white",
            "showbackground": true,
            "ticks": "",
            "zerolinecolor": "white"
           },
           "yaxis": {
            "backgroundcolor": "#E5ECF6",
            "gridcolor": "white",
            "gridwidth": 2,
            "linecolor": "white",
            "showbackground": true,
            "ticks": "",
            "zerolinecolor": "white"
           },
           "zaxis": {
            "backgroundcolor": "#E5ECF6",
            "gridcolor": "white",
            "gridwidth": 2,
            "linecolor": "white",
            "showbackground": true,
            "ticks": "",
            "zerolinecolor": "white"
           }
          },
          "shapedefaults": {
           "line": {
            "color": "#2a3f5f"
           }
          },
          "ternary": {
           "aaxis": {
            "gridcolor": "white",
            "linecolor": "white",
            "ticks": ""
           },
           "baxis": {
            "gridcolor": "white",
            "linecolor": "white",
            "ticks": ""
           },
           "bgcolor": "#E5ECF6",
           "caxis": {
            "gridcolor": "white",
            "linecolor": "white",
            "ticks": ""
           }
          },
          "title": {
           "x": 0.05
          },
          "xaxis": {
           "automargin": true,
           "gridcolor": "white",
           "linecolor": "white",
           "ticks": "",
           "title": {
            "standoff": 15
           },
           "zerolinecolor": "white",
           "zerolinewidth": 2
          },
          "yaxis": {
           "automargin": true,
           "gridcolor": "white",
           "linecolor": "white",
           "ticks": "",
           "title": {
            "standoff": 15
           },
           "zerolinecolor": "white",
           "zerolinewidth": 2
          }
         }
        },
        "title": {
         "text": "Policy vs. Safe Set (Real Joints after Action)"
        }
       }
      }
     },
     "metadata": {},
     "output_type": "display_data"
    }
   ],
   "source": [
    "# 8) Visualize final real EEF poses vs. safe set\n",
    "all_poses_7d = np.array(all_poses_7d)\n",
    "all_inside_flags = np.array(all_inside_flags, dtype=bool)\n",
    "if len(all_poses_7d) > 0:\n",
    "    visualize_policy_predictions(\n",
    "        safe_set,\n",
    "        predicted_poses_7d=all_poses_7d,\n",
    "        inside_flags=all_inside_flags,\n",
    "        title=\"Policy vs. Safe Set (Real Joints after Action)\"\n",
    "    )\n",
    "else:\n",
    "    print(\"No EEF poses to visualize.\")"
   ]
  },
  {
   "cell_type": "code",
   "execution_count": 49,
   "metadata": {},
   "outputs": [
    {
     "name": "stdout",
     "output_type": "stream",
     "text": [
      "JOINT_POSITION\n"
     ]
    }
   ],
   "source": [
    "# # reset robot\n",
    "set_gripper(open=True)\n",
    "reset_joints_to(robot_interface, reset_joint_positions)\n",
    "set_gripper(open=True)"
   ]
  },
  {
   "cell_type": "code",
   "execution_count": 42,
   "metadata": {},
   "outputs": [
    {
     "name": "stdout",
     "output_type": "stream",
     "text": [
      "JOINT_POSITION\n"
     ]
    },
    {
     "ename": "KeyboardInterrupt",
     "evalue": "",
     "output_type": "error",
     "traceback": [
      "\u001b[0;31m---------------------------------------------------------------------------\u001b[0m",
      "\u001b[0;31mKeyboardInterrupt\u001b[0m                         Traceback (most recent call last)",
      "Cell \u001b[0;32mIn[42], line 3\u001b[0m\n\u001b[1;32m      1\u001b[0m \u001b[38;5;66;03m# # reset robot\u001b[39;00m\n\u001b[1;32m      2\u001b[0m set_gripper(\u001b[38;5;28mopen\u001b[39m\u001b[38;5;241m=\u001b[39m\u001b[38;5;28;01mTrue\u001b[39;00m)\n\u001b[0;32m----> 3\u001b[0m \u001b[43mreset_joints_to\u001b[49m\u001b[43m(\u001b[49m\u001b[43mrobot_interface\u001b[49m\u001b[43m,\u001b[49m\u001b[43m \u001b[49m\u001b[43mreset_joint_positions\u001b[49m\u001b[43m)\u001b[49m\n\u001b[1;32m      4\u001b[0m set_gripper(\u001b[38;5;28mopen\u001b[39m\u001b[38;5;241m=\u001b[39m\u001b[38;5;28;01mTrue\u001b[39;00m)\n\u001b[1;32m      5\u001b[0m all_poses_7d \u001b[38;5;241m=\u001b[39m []\n",
      "File \u001b[0;32m~/deoxys_control/deoxys/deoxys/experimental/motion_utils.py:53\u001b[0m, in \u001b[0;36mreset_joints_to\u001b[0;34m(robot_interface, start_joint_pos, controller_cfg, timeout, gripper_open)\u001b[0m\n\u001b[1;32m     46\u001b[0m     \u001b[38;5;28;01mif\u001b[39;00m (\n\u001b[1;32m     47\u001b[0m         np\u001b[38;5;241m.\u001b[39mmax(\n\u001b[1;32m     48\u001b[0m             np\u001b[38;5;241m.\u001b[39mabs(np\u001b[38;5;241m.\u001b[39marray(robot_interface\u001b[38;5;241m.\u001b[39mlast_q) \u001b[38;5;241m-\u001b[39m np\u001b[38;5;241m.\u001b[39marray(start_joint_pos))\n\u001b[1;32m     49\u001b[0m         )\n\u001b[1;32m     50\u001b[0m         \u001b[38;5;241m<\u001b[39m \u001b[38;5;241m1e-3\u001b[39m\n\u001b[1;32m     51\u001b[0m     ):\n\u001b[1;32m     52\u001b[0m         \u001b[38;5;28;01mbreak\u001b[39;00m\n\u001b[0;32m---> 53\u001b[0m \u001b[43mrobot_interface\u001b[49m\u001b[38;5;241;43m.\u001b[39;49m\u001b[43mcontrol\u001b[49m\u001b[43m(\u001b[49m\n\u001b[1;32m     54\u001b[0m \u001b[43m    \u001b[49m\u001b[43mcontroller_type\u001b[49m\u001b[38;5;241;43m=\u001b[39;49m\u001b[38;5;124;43m\"\u001b[39;49m\u001b[38;5;124;43mJOINT_POSITION\u001b[39;49m\u001b[38;5;124;43m\"\u001b[39;49m\u001b[43m,\u001b[49m\n\u001b[1;32m     55\u001b[0m \u001b[43m    \u001b[49m\u001b[43maction\u001b[49m\u001b[38;5;241;43m=\u001b[39;49m\u001b[43maction\u001b[49m\u001b[43m,\u001b[49m\n\u001b[1;32m     56\u001b[0m \u001b[43m    \u001b[49m\u001b[43mcontroller_cfg\u001b[49m\u001b[38;5;241;43m=\u001b[39;49m\u001b[43mcontroller_cfg\u001b[49m\u001b[43m,\u001b[49m\n\u001b[1;32m     57\u001b[0m \u001b[43m\u001b[49m\u001b[43m)\u001b[49m\n\u001b[1;32m     58\u001b[0m end_time \u001b[38;5;241m=\u001b[39m time\u001b[38;5;241m.\u001b[39mtime()\n\u001b[1;32m     60\u001b[0m \u001b[38;5;66;03m# Add timeout\u001b[39;00m\n",
      "File \u001b[0;32m~/deoxys_control/deoxys/deoxys/franka_interface/franka_interface.py:249\u001b[0m, in \u001b[0;36mFrankaInterface.control\u001b[0;34m(self, controller_type, action, controller_cfg, termination)\u001b[0m\n\u001b[1;32m    245\u001b[0m     remaining_time \u001b[38;5;241m=\u001b[39m \u001b[38;5;28mself\u001b[39m\u001b[38;5;241m.\u001b[39m_control_interval \u001b[38;5;241m-\u001b[39m (\n\u001b[1;32m    246\u001b[0m         current_time \u001b[38;5;241m-\u001b[39m \u001b[38;5;28mself\u001b[39m\u001b[38;5;241m.\u001b[39mlast_time\n\u001b[1;32m    247\u001b[0m     ) \u001b[38;5;241m/\u001b[39m (\u001b[38;5;241m10\u001b[39m\u001b[38;5;241m*\u001b[39m\u001b[38;5;241m*\u001b[39m\u001b[38;5;241m9\u001b[39m)\n\u001b[1;32m    248\u001b[0m     \u001b[38;5;28;01mif\u001b[39;00m \u001b[38;5;241m0.0001\u001b[39m \u001b[38;5;241m<\u001b[39m remaining_time \u001b[38;5;241m<\u001b[39m \u001b[38;5;28mself\u001b[39m\u001b[38;5;241m.\u001b[39m_control_timeout:\n\u001b[0;32m--> 249\u001b[0m         \u001b[43mtime\u001b[49m\u001b[38;5;241;43m.\u001b[39;49m\u001b[43msleep\u001b[49m\u001b[43m(\u001b[49m\u001b[43mremaining_time\u001b[49m\u001b[43m)\u001b[49m\n\u001b[1;32m    250\u001b[0m     \u001b[38;5;28mself\u001b[39m\u001b[38;5;241m.\u001b[39mlast_time \u001b[38;5;241m=\u001b[39m time\u001b[38;5;241m.\u001b[39mtime_ns()\n\u001b[1;32m    252\u001b[0m \u001b[38;5;28;01mif\u001b[39;00m \u001b[38;5;28mself\u001b[39m\u001b[38;5;241m.\u001b[39m_last_controller_type \u001b[38;5;241m!=\u001b[39m controller_type:\n",
      "\u001b[0;31mKeyboardInterrupt\u001b[0m: "
     ]
    }
   ],
   "source": [
    "# # reset robot\n",
    "set_gripper(open=True)\n",
    "reset_joints_to(robot_interface, reset_joint_positions)\n",
    "set_gripper(open=True)\n",
    "all_poses_7d = []\n",
    "all_inside_flags=[]\n",
    "\n",
    "def push_pose_outside_safe_set_7d(pose_7d, hull_equations, margin=1e-3, tol=1e-8):\n",
    "    pose_6d = pose7d_to_6d(pose_7d)\n",
    "    inside, distances = is_pose_in_safe_set_6d(pose_6d, hull_equations, tol)\n",
    "    if not inside:\n",
    "        return pose_7d\n",
    "    i_max = np.argmax(distances)\n",
    "    d_max = distances[i_max]\n",
    "    A_i = hull_equations[i_max, :-1]\n",
    "    norm_A = np.linalg.norm(A_i)\n",
    "    shift = ((tol - d_max) + margin) * (A_i / norm_A)\n",
    "    pose_6d_out = pose_6d + shift\n",
    "    new_pos = pose_6d_out[:3]\n",
    "    new_rotvec = pose_6d_out[3:]\n",
    "    new_quat = R.from_rotvec(new_rotvec).as_quat()\n",
    "    new_pose_7d = np.hstack([new_pos, new_quat])\n",
    "    return new_pose_7d\n",
    "\n",
    "\n",
    "def push_robot_outside_loop(robot_interface, hull_equations, max_tries=10, margin=1e-6, tol=1e-12):\n",
    "    \"\"\"\n",
    "    Repeatedly check if robot is inside safe set, if so push it out\n",
    "    and command the new pose, up to `max_tries`.\n",
    "    \"\"\"\n",
    "    tries = 0\n",
    "    while tries < max_tries:\n",
    "        # read real joints\n",
    "        js_real = robot_interface.last_q\n",
    "        if js_real is None:\n",
    "            print(\"No joint angles read, skip attempt.\")\n",
    "            time.sleep(0.05)\n",
    "            tries += 1\n",
    "            continue\n",
    "\n",
    "        # convert to 7D\n",
    "        eef_pose_7d = joint_angles_to_end_effector_pose(js_real)\n",
    "        pose_6d = pose7d_to_6d(eef_pose_7d)\n",
    "        inside, distances = is_pose_in_safe_set_6d(pose_6d, hull_equations, tol)\n",
    "        # 7) Collect for final visualization\n",
    "        all_poses_7d.append(eef_pose_7d)\n",
    "        all_inside_flags.append(inside)\n",
    "        if not inside:\n",
    "            print(\"Already outside the safe set!\")\n",
    "            break\n",
    "\n",
    "        # push it\n",
    "        pushed_pose_7d = push_pose_outside_safe_set_7d(eef_pose_7d, hull_equations, margin, tol)\n",
    "        print(f\"Push attempt {tries}: new pose => {pushed_pose_7d}\")\n",
    "\n",
    "        # command the new pose\n",
    "        robot_interface.control(\n",
    "            controller_type=\"OSC_POSE\",  # or your controller\n",
    "            action=pushed_pose_7d,\n",
    "            controller_cfg=controller_cfg,\n",
    "        )\n",
    "\n",
    "        time.sleep(0.5)\n",
    "        tries += 1\n",
    "\n",
    "    if tries >= max_tries:\n",
    "        print(\"Reached max tries; might still be inside or can't push further.\")\n",
    "\n",
    "\n",
    "###############################################################################\n",
    "# 3) Example integrated with your policy rollout: push after 4 steps\n",
    "###############################################################################\n",
    "# def main_policy_rollout_with_push(robot_interface, hull_equations, policy, max_steps=10):\n",
    "policy.reset()\n",
    "\n",
    "for step in range(50):\n",
    "    # 1) Acquire user input, or do something else\n",
    "    action, grasp = input2action(device=spacemouse, controller_type=controller_type)\n",
    "    if action is None:\n",
    "        break\n",
    "    if len(robot_interface._state_buffer) == 0:\n",
    "        continue\n",
    "\n",
    "    # 2) Predict actions (whatever your policy returns)\n",
    "    obs_dict = get_current_obs(robot_interface)\n",
    "    obs = framestacker.add_new_obs(obs_dict)\n",
    "    action_pred = predict_action(obs)  # shape (N,7) or (N,6), etc.\n",
    "    print(f\"Step {step}:\")\n",
    "\n",
    "    # 3) Send some subset of those actions to the robot\n",
    "    for i, single_cmd in enumerate(action_pred[:6]):  # e.g. first 6\n",
    "        print(f\"Sending action {i} => {single_cmd}\")\n",
    "        robot_interface.control(\n",
    "            controller_type=controller_type,\n",
    "            action=single_cmd,\n",
    "            controller_cfg=controller_cfg,\n",
    "        )\n",
    "        time.sleep(0.1)\n",
    "    \n",
    "    # convert to 7D\n",
    "    js_real = robot_interface.last_q\n",
    "    if js_real is None:\n",
    "        print(\"No joint angles read, skip attempt.\")\n",
    "        time.sleep(0.05)\n",
    "        # tries += 1\n",
    "        continue\n",
    "    eef_pose_7d = joint_angles_to_end_effector_pose(js_real)\n",
    "    pose_6d = pose7d_to_6d(eef_pose_7d)\n",
    "    inside, distances = is_pose_in_safe_set_6d(pose_6d, hull_equations, 1e-1)\n",
    "    \n",
    "    # 7) Collect for final visualization\n",
    "    all_poses_7d.append(eef_pose_7d)\n",
    "    all_inside_flags.append(inside)\n",
    "\n",
    "    # 4) At step == 4, do the \"push outside\" loop\n",
    "    if step == 6:\n",
    "        print(\"Now pushing the robot outside the safe set!\")\n",
    "        push_robot_outside_loop(robot_interface, hull_equations, max_tries=10, margin=1e-3)\n",
    "        # After the push loop, we continue normal steps\n",
    "        # Or if you prefer, you could break out entirely.\n",
    "\n",
    "robot_interface.close()"
   ]
  },
  {
   "cell_type": "code",
   "execution_count": 40,
   "metadata": {},
   "outputs": [
    {
     "data": {
      "application/vnd.plotly.v1+json": {
       "config": {
        "plotlyServerURL": "https://plot.ly"
       },
       "data": [
        {
         "color": "lightblue",
         "i": {
          "bdata": "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",
          "dtype": "i4"
         },
         "j": {
          "bdata": "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",
          "dtype": "i4"
         },
         "k": {
          "bdata": "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",
          "dtype": "i4"
         },
         "name": "Safe Set Hull",
         "opacity": 0.3,
         "type": "mesh3d",
         "x": {
          "bdata": "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",
          "dtype": "f8"
         },
         "y": {
          "bdata": "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",
          "dtype": "f8"
         },
         "z": {
          "bdata": "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",
          "dtype": "f8"
         }
        },
        {
         "line": {
          "color": "gray",
          "width": 2
         },
         "marker": {
          "color": [
           "green",
           "green",
           "green",
           "green",
           "green",
           "green",
           "green",
           "green",
           "red",
           "red",
           "red",
           "red",
           "red",
           "red"
          ],
          "size": 5
         },
         "mode": "markers+lines",
         "name": "EEF Poses (Real Joints)",
         "type": "scatter3d",
         "x": {
          "bdata": "WbX8owrB4z9WQOhmyAnkPyQmp6v+auM/Sa0v6L7x4D8MSLZjWwbaPzfVz2FGX9I/Xoujz5yQxz9e3CJrkgDHPyw82Jm28Li/wibIcZhW0b+CLeGN2JDMvyE2A+ogy8K/TqznzhjLxr/j+xXXJsnUvw==",
          "dtype": "f8"
         },
         "y": {
          "bdata": "BLXKAs7inL8yLf1eQmWzP8zoyVrv3cs/pp73Nsiu2D9m1QGTTLrgP9L0N1v4ceM/exHtLih05T84NdkWrY3lP9m+1GmMKeI/fMfwY0ZB2j9+PErQJgHbP7DB0D4z9t0/W/SKl1Hn3T9qEUy2bDTgPw==",
          "dtype": "f8"
         },
         "z": {
          "bdata": "oJPuoPYn1j8T80RKdC/WP4VaaS1TS9Y/hBwdXmp/1j9Rba8YFrXWP7ZBbLAW3tY/gPRcrkP11j/BPKo6CfXWP+8lMXB4beE/c6GxbbIs4j91q8FNtuDhP5xNSMbMYN4/prFZjYWs2T/NgjPj4OHZPw==",
          "dtype": "f8"
         }
        }
       ],
       "layout": {
        "scene": {
         "xaxis": {
          "title": {
           "text": "X"
          }
         },
         "yaxis": {
          "title": {
           "text": "Y"
          }
         },
         "zaxis": {
          "title": {
           "text": "Z"
          }
         }
        },
        "template": {
         "data": {
          "bar": [
           {
            "error_x": {
             "color": "#2a3f5f"
            },
            "error_y": {
             "color": "#2a3f5f"
            },
            "marker": {
             "line": {
              "color": "#E5ECF6",
              "width": 0.5
             },
             "pattern": {
              "fillmode": "overlay",
              "size": 10,
              "solidity": 0.2
             }
            },
            "type": "bar"
           }
          ],
          "barpolar": [
           {
            "marker": {
             "line": {
              "color": "#E5ECF6",
              "width": 0.5
             },
             "pattern": {
              "fillmode": "overlay",
              "size": 10,
              "solidity": 0.2
             }
            },
            "type": "barpolar"
           }
          ],
          "carpet": [
           {
            "aaxis": {
             "endlinecolor": "#2a3f5f",
             "gridcolor": "white",
             "linecolor": "white",
             "minorgridcolor": "white",
             "startlinecolor": "#2a3f5f"
            },
            "baxis": {
             "endlinecolor": "#2a3f5f",
             "gridcolor": "white",
             "linecolor": "white",
             "minorgridcolor": "white",
             "startlinecolor": "#2a3f5f"
            },
            "type": "carpet"
           }
          ],
          "choropleth": [
           {
            "colorbar": {
             "outlinewidth": 0,
             "ticks": ""
            },
            "type": "choropleth"
           }
          ],
          "contour": [
           {
            "colorbar": {
             "outlinewidth": 0,
             "ticks": ""
            },
            "colorscale": [
             [
              0,
              "#0d0887"
             ],
             [
              0.1111111111111111,
              "#46039f"
             ],
             [
              0.2222222222222222,
              "#7201a8"
             ],
             [
              0.3333333333333333,
              "#9c179e"
             ],
             [
              0.4444444444444444,
              "#bd3786"
             ],
             [
              0.5555555555555556,
              "#d8576b"
             ],
             [
              0.6666666666666666,
              "#ed7953"
             ],
             [
              0.7777777777777778,
              "#fb9f3a"
             ],
             [
              0.8888888888888888,
              "#fdca26"
             ],
             [
              1,
              "#f0f921"
             ]
            ],
            "type": "contour"
           }
          ],
          "contourcarpet": [
           {
            "colorbar": {
             "outlinewidth": 0,
             "ticks": ""
            },
            "type": "contourcarpet"
           }
          ],
          "heatmap": [
           {
            "colorbar": {
             "outlinewidth": 0,
             "ticks": ""
            },
            "colorscale": [
             [
              0,
              "#0d0887"
             ],
             [
              0.1111111111111111,
              "#46039f"
             ],
             [
              0.2222222222222222,
              "#7201a8"
             ],
             [
              0.3333333333333333,
              "#9c179e"
             ],
             [
              0.4444444444444444,
              "#bd3786"
             ],
             [
              0.5555555555555556,
              "#d8576b"
             ],
             [
              0.6666666666666666,
              "#ed7953"
             ],
             [
              0.7777777777777778,
              "#fb9f3a"
             ],
             [
              0.8888888888888888,
              "#fdca26"
             ],
             [
              1,
              "#f0f921"
             ]
            ],
            "type": "heatmap"
           }
          ],
          "histogram": [
           {
            "marker": {
             "pattern": {
              "fillmode": "overlay",
              "size": 10,
              "solidity": 0.2
             }
            },
            "type": "histogram"
           }
          ],
          "histogram2d": [
           {
            "colorbar": {
             "outlinewidth": 0,
             "ticks": ""
            },
            "colorscale": [
             [
              0,
              "#0d0887"
             ],
             [
              0.1111111111111111,
              "#46039f"
             ],
             [
              0.2222222222222222,
              "#7201a8"
             ],
             [
              0.3333333333333333,
              "#9c179e"
             ],
             [
              0.4444444444444444,
              "#bd3786"
             ],
             [
              0.5555555555555556,
              "#d8576b"
             ],
             [
              0.6666666666666666,
              "#ed7953"
             ],
             [
              0.7777777777777778,
              "#fb9f3a"
             ],
             [
              0.8888888888888888,
              "#fdca26"
             ],
             [
              1,
              "#f0f921"
             ]
            ],
            "type": "histogram2d"
           }
          ],
          "histogram2dcontour": [
           {
            "colorbar": {
             "outlinewidth": 0,
             "ticks": ""
            },
            "colorscale": [
             [
              0,
              "#0d0887"
             ],
             [
              0.1111111111111111,
              "#46039f"
             ],
             [
              0.2222222222222222,
              "#7201a8"
             ],
             [
              0.3333333333333333,
              "#9c179e"
             ],
             [
              0.4444444444444444,
              "#bd3786"
             ],
             [
              0.5555555555555556,
              "#d8576b"
             ],
             [
              0.6666666666666666,
              "#ed7953"
             ],
             [
              0.7777777777777778,
              "#fb9f3a"
             ],
             [
              0.8888888888888888,
              "#fdca26"
             ],
             [
              1,
              "#f0f921"
             ]
            ],
            "type": "histogram2dcontour"
           }
          ],
          "mesh3d": [
           {
            "colorbar": {
             "outlinewidth": 0,
             "ticks": ""
            },
            "type": "mesh3d"
           }
          ],
          "parcoords": [
           {
            "line": {
             "colorbar": {
              "outlinewidth": 0,
              "ticks": ""
             }
            },
            "type": "parcoords"
           }
          ],
          "pie": [
           {
            "automargin": true,
            "type": "pie"
           }
          ],
          "scatter": [
           {
            "fillpattern": {
             "fillmode": "overlay",
             "size": 10,
             "solidity": 0.2
            },
            "type": "scatter"
           }
          ],
          "scatter3d": [
           {
            "line": {
             "colorbar": {
              "outlinewidth": 0,
              "ticks": ""
             }
            },
            "marker": {
             "colorbar": {
              "outlinewidth": 0,
              "ticks": ""
             }
            },
            "type": "scatter3d"
           }
          ],
          "scattercarpet": [
           {
            "marker": {
             "colorbar": {
              "outlinewidth": 0,
              "ticks": ""
             }
            },
            "type": "scattercarpet"
           }
          ],
          "scattergeo": [
           {
            "marker": {
             "colorbar": {
              "outlinewidth": 0,
              "ticks": ""
             }
            },
            "type": "scattergeo"
           }
          ],
          "scattergl": [
           {
            "marker": {
             "colorbar": {
              "outlinewidth": 0,
              "ticks": ""
             }
            },
            "type": "scattergl"
           }
          ],
          "scattermap": [
           {
            "marker": {
             "colorbar": {
              "outlinewidth": 0,
              "ticks": ""
             }
            },
            "type": "scattermap"
           }
          ],
          "scattermapbox": [
           {
            "marker": {
             "colorbar": {
              "outlinewidth": 0,
              "ticks": ""
             }
            },
            "type": "scattermapbox"
           }
          ],
          "scatterpolar": [
           {
            "marker": {
             "colorbar": {
              "outlinewidth": 0,
              "ticks": ""
             }
            },
            "type": "scatterpolar"
           }
          ],
          "scatterpolargl": [
           {
            "marker": {
             "colorbar": {
              "outlinewidth": 0,
              "ticks": ""
             }
            },
            "type": "scatterpolargl"
           }
          ],
          "scatterternary": [
           {
            "marker": {
             "colorbar": {
              "outlinewidth": 0,
              "ticks": ""
             }
            },
            "type": "scatterternary"
           }
          ],
          "surface": [
           {
            "colorbar": {
             "outlinewidth": 0,
             "ticks": ""
            },
            "colorscale": [
             [
              0,
              "#0d0887"
             ],
             [
              0.1111111111111111,
              "#46039f"
             ],
             [
              0.2222222222222222,
              "#7201a8"
             ],
             [
              0.3333333333333333,
              "#9c179e"
             ],
             [
              0.4444444444444444,
              "#bd3786"
             ],
             [
              0.5555555555555556,
              "#d8576b"
             ],
             [
              0.6666666666666666,
              "#ed7953"
             ],
             [
              0.7777777777777778,
              "#fb9f3a"
             ],
             [
              0.8888888888888888,
              "#fdca26"
             ],
             [
              1,
              "#f0f921"
             ]
            ],
            "type": "surface"
           }
          ],
          "table": [
           {
            "cells": {
             "fill": {
              "color": "#EBF0F8"
             },
             "line": {
              "color": "white"
             }
            },
            "header": {
             "fill": {
              "color": "#C8D4E3"
             },
             "line": {
              "color": "white"
             }
            },
            "type": "table"
           }
          ]
         },
         "layout": {
          "annotationdefaults": {
           "arrowcolor": "#2a3f5f",
           "arrowhead": 0,
           "arrowwidth": 1
          },
          "autotypenumbers": "strict",
          "coloraxis": {
           "colorbar": {
            "outlinewidth": 0,
            "ticks": ""
           }
          },
          "colorscale": {
           "diverging": [
            [
             0,
             "#8e0152"
            ],
            [
             0.1,
             "#c51b7d"
            ],
            [
             0.2,
             "#de77ae"
            ],
            [
             0.3,
             "#f1b6da"
            ],
            [
             0.4,
             "#fde0ef"
            ],
            [
             0.5,
             "#f7f7f7"
            ],
            [
             0.6,
             "#e6f5d0"
            ],
            [
             0.7,
             "#b8e186"
            ],
            [
             0.8,
             "#7fbc41"
            ],
            [
             0.9,
             "#4d9221"
            ],
            [
             1,
             "#276419"
            ]
           ],
           "sequential": [
            [
             0,
             "#0d0887"
            ],
            [
             0.1111111111111111,
             "#46039f"
            ],
            [
             0.2222222222222222,
             "#7201a8"
            ],
            [
             0.3333333333333333,
             "#9c179e"
            ],
            [
             0.4444444444444444,
             "#bd3786"
            ],
            [
             0.5555555555555556,
             "#d8576b"
            ],
            [
             0.6666666666666666,
             "#ed7953"
            ],
            [
             0.7777777777777778,
             "#fb9f3a"
            ],
            [
             0.8888888888888888,
             "#fdca26"
            ],
            [
             1,
             "#f0f921"
            ]
           ],
           "sequentialminus": [
            [
             0,
             "#0d0887"
            ],
            [
             0.1111111111111111,
             "#46039f"
            ],
            [
             0.2222222222222222,
             "#7201a8"
            ],
            [
             0.3333333333333333,
             "#9c179e"
            ],
            [
             0.4444444444444444,
             "#bd3786"
            ],
            [
             0.5555555555555556,
             "#d8576b"
            ],
            [
             0.6666666666666666,
             "#ed7953"
            ],
            [
             0.7777777777777778,
             "#fb9f3a"
            ],
            [
             0.8888888888888888,
             "#fdca26"
            ],
            [
             1,
             "#f0f921"
            ]
           ]
          },
          "colorway": [
           "#636efa",
           "#EF553B",
           "#00cc96",
           "#ab63fa",
           "#FFA15A",
           "#19d3f3",
           "#FF6692",
           "#B6E880",
           "#FF97FF",
           "#FECB52"
          ],
          "font": {
           "color": "#2a3f5f"
          },
          "geo": {
           "bgcolor": "white",
           "lakecolor": "white",
           "landcolor": "#E5ECF6",
           "showlakes": true,
           "showland": true,
           "subunitcolor": "white"
          },
          "hoverlabel": {
           "align": "left"
          },
          "hovermode": "closest",
          "mapbox": {
           "style": "light"
          },
          "paper_bgcolor": "white",
          "plot_bgcolor": "#E5ECF6",
          "polar": {
           "angularaxis": {
            "gridcolor": "white",
            "linecolor": "white",
            "ticks": ""
           },
           "bgcolor": "#E5ECF6",
           "radialaxis": {
            "gridcolor": "white",
            "linecolor": "white",
            "ticks": ""
           }
          },
          "scene": {
           "xaxis": {
            "backgroundcolor": "#E5ECF6",
            "gridcolor": "white",
            "gridwidth": 2,
            "linecolor": "white",
            "showbackground": true,
            "ticks": "",
            "zerolinecolor": "white"
           },
           "yaxis": {
            "backgroundcolor": "#E5ECF6",
            "gridcolor": "white",
            "gridwidth": 2,
            "linecolor": "white",
            "showbackground": true,
            "ticks": "",
            "zerolinecolor": "white"
           },
           "zaxis": {
            "backgroundcolor": "#E5ECF6",
            "gridcolor": "white",
            "gridwidth": 2,
            "linecolor": "white",
            "showbackground": true,
            "ticks": "",
            "zerolinecolor": "white"
           }
          },
          "shapedefaults": {
           "line": {
            "color": "#2a3f5f"
           }
          },
          "ternary": {
           "aaxis": {
            "gridcolor": "white",
            "linecolor": "white",
            "ticks": ""
           },
           "baxis": {
            "gridcolor": "white",
            "linecolor": "white",
            "ticks": ""
           },
           "bgcolor": "#E5ECF6",
           "caxis": {
            "gridcolor": "white",
            "linecolor": "white",
            "ticks": ""
           }
          },
          "title": {
           "x": 0.05
          },
          "xaxis": {
           "automargin": true,
           "gridcolor": "white",
           "linecolor": "white",
           "ticks": "",
           "title": {
            "standoff": 15
           },
           "zerolinecolor": "white",
           "zerolinewidth": 2
          },
          "yaxis": {
           "automargin": true,
           "gridcolor": "white",
           "linecolor": "white",
           "ticks": "",
           "title": {
            "standoff": 15
           },
           "zerolinecolor": "white",
           "zerolinewidth": 2
          }
         }
        },
        "title": {
         "text": "Policy vs. Safe Set (Real Joints after Action)"
        }
       }
      }
     },
     "metadata": {},
     "output_type": "display_data"
    }
   ],
   "source": [
    "# 8) Visualize final real EEF poses vs. safe set\n",
    "all_poses_7d = np.array(all_poses_7d)\n",
    "all_inside_flags = np.array(all_inside_flags, dtype=bool)\n",
    "if len(all_poses_7d) > 0:\n",
    "    visualize_policy_predictions(\n",
    "        safe_set,\n",
    "        predicted_poses_7d=all_poses_7d,\n",
    "        inside_flags=all_inside_flags,\n",
    "        title=\"Policy vs. Safe Set (Real Joints after Action)\"\n",
    "    )\n",
    "else:\n",
    "    print(\"No EEF poses to visualize.\")"
   ]
  },
  {
   "cell_type": "code",
   "execution_count": null,
   "metadata": {},
   "outputs": [],
   "source": []
  },
  {
   "cell_type": "code",
   "execution_count": 58,
   "metadata": {},
   "outputs": [],
   "source": [
    "def dh_transform(a, alpha, d, theta):\n",
    "    return np.array([\n",
    "        [np.cos(theta), -np.sin(theta)*np.cos(alpha),  np.sin(theta)*np.sin(alpha),  a*np.cos(theta)],\n",
    "        [np.sin(theta),  np.cos(theta)*np.cos(alpha), -np.cos(theta)*np.sin(alpha),  a*np.sin(theta)],\n",
    "        [0,              np.sin(alpha),                np.cos(alpha),                d              ],\n",
    "        [0,              0,                            0,                            1              ]\n",
    "    ], dtype=float)\n",
    "\n",
    "def franka_forward_kinematics_panda_hand(joint_angles):\n",
    "    \"\"\"\n",
    "    Returns a 4x4 transform from the panda base to the 'panda_hand' link.\n",
    "    \"\"\"\n",
    "    q1, q2, q3, q4, q5, q6, q7 = joint_angles\n",
    "    \n",
    "    # DH transforms up to the flange (link8 in the URDF).\n",
    "    T1 = dh_transform(a=0,       alpha=0,         d=0.333,   theta=q1)\n",
    "    T2 = dh_transform(a=0,       alpha=-np.pi/2,  d=0,       theta=q2)\n",
    "    T3 = dh_transform(a=0,       alpha=np.pi/2,   d=0.316,   theta=q3)\n",
    "    T4 = dh_transform(a=0.0825,  alpha=np.pi/2,   d=0,       theta=q4)\n",
    "    T5 = dh_transform(a=-0.0825, alpha=-np.pi/2,  d=0.384,   theta=q5)\n",
    "    T6 = dh_transform(a=0,       alpha=np.pi/2,   d=0,       theta=q6)\n",
    "    T7 = dh_transform(a=0.088,   alpha=np.pi/2,   d=0,       theta=q7)\n",
    "    \n",
    "    # Flange offset (link8).\n",
    "    T_flange = dh_transform(a=0, alpha=0, d=0.107, theta=0)\n",
    "    \n",
    "    # Extra rotation from flange -> panda_hand (about Z by -π/4).\n",
    "    Rz_neg_45 = dh_transform(a=0, alpha=0, d=0, theta=-np.pi/4)\n",
    "\n",
    "    T_panda_hand = T1 @ T2 @ T3 @ T4 @ T5 @ T6 @ T7 @ T_flange @ Rz_neg_45\n",
    "    return T_panda_hand\n",
    "\n",
    "def joint_angles_to_end_effector_pose(joint_angles):\n",
    "    \"\"\"\n",
    "    Convert 7 Franka joint angles -> [x, y, z, qx, qy, qz, qw].\n",
    "    (Exactly the same as in your safe-set code.)\n",
    "    \"\"\"\n",
    "    T = franka_forward_kinematics(joint_angles)\n",
    "    x, y, z = T[0, 3], T[1, 3], T[2, 3]\n",
    "    rot_mat = T[:3, :3]\n",
    "    quat = R.from_matrix(rot_mat).as_quat()  # [qx, qy, qz, qw]\n",
    "    return np.array([x, y, z, quat[0], quat[1], quat[2], quat[3]], dtype=float)\n",
    "\n",
    "def normalize_quaternion(q):\n",
    "    norm = np.linalg.norm(q)\n",
    "    return q / norm if norm > 1e-6 else np.array([0, 0, 0, 1])\n",
    "\n",
    "def pose7d_to_6d(pose7d):\n",
    "    \"\"\"\n",
    "    Convert a 7D pose (position + quaternion) to a minimal 6D representation:\n",
    "    [x, y, z, rx, ry, rz] where (rx, ry, rz) is the rotation vector.\n",
    "    \"\"\"\n",
    "    pos = pose7d[:3]\n",
    "    quat = pose7d[3:7]\n",
    "    norm = np.linalg.norm(quat)\n",
    "    quat = quat / norm if norm > 1e-6 else np.array([0, 0, 0, 1])\n",
    "    rotvec = R.from_quat(quat).as_rotvec()\n",
    "    return np.hstack([pos, rotvec])\n",
    "\n",
    "def load_safe_set(file_path=\"safe_set_6d.npz\"):\n",
    "    data = np.load(file_path)\n",
    "    return data[\"safe_set\"], data[\"hull_equations\"], data[\"hull_vertices\"]\n",
    "\n",
    "def is_pose_in_safe_set_6d(query_6d, hull_equations, tol=1e-8):\n",
    "    A = hull_equations[:, :-1]  # shape (m,6)\n",
    "    b = hull_equations[:, -1]   # shape (m,)\n",
    "    norms = np.linalg.norm(A, axis=1)\n",
    "    distances = (A.dot(query_6d) + b) / norms\n",
    "    inside = np.all(distances <= tol)\n",
    "    return inside, distances\n",
    "\n",
    "###############################################################################\n",
    "# 2) Visualization (optional, unchanged from your snippet)\n",
    "###############################################################################\n",
    "def visualize_policy_predictions(safe_set, predicted_poses_7d, inside_flags, title=\"Policy Predictions vs. Safe Set\"):\n",
    "    hull_3d = ConvexHull(safe_set[:, :3])\n",
    "    fig = go.Figure()\n",
    "    fig.add_trace(go.Mesh3d(\n",
    "        x=safe_set[:, 0],\n",
    "        y=safe_set[:, 1],\n",
    "        z=safe_set[:, 2],\n",
    "        i=hull_3d.simplices[:, 0],\n",
    "        j=hull_3d.simplices[:, 1],\n",
    "        k=hull_3d.simplices[:, 2],\n",
    "        opacity=0.3,\n",
    "        color='lightblue',\n",
    "        name='Safe Set Hull'\n",
    "    ))\n",
    "    predicted_positions = predicted_poses_7d[:, :3]\n",
    "    colors = [\"green\" if flag else \"red\" for flag in inside_flags]\n",
    "    fig.add_trace(go.Scatter3d(\n",
    "        x=predicted_positions[:, 0],\n",
    "        y=predicted_positions[:, 1],\n",
    "        z=predicted_positions[:, 2],\n",
    "        mode='markers+lines',\n",
    "        marker=dict(size=5, color=colors),\n",
    "        line=dict(color='gray', width=2),\n",
    "        name='EEF Poses (Real Joints)'\n",
    "    ))\n",
    "    fig.update_layout(\n",
    "        title=title,\n",
    "        scene=dict(xaxis_title=\"X\", yaxis_title=\"Y\", zaxis_title=\"Z\")\n",
    "    )\n",
    "    fig.show()\n",
    "\n",
    "\n",
    "def push_pose_outside_safe_set_7d(pose_7d, hull_equations, margin=1e-3, tol=1e-8):\n",
    "    \"\"\"\n",
    "    If pose_7d is inside the safe set, push it slightly outside along the facet\n",
    "    with the largest distance. This ensures the resulting pose is outside by\n",
    "    at least 'margin'.\n",
    "\n",
    "    pose_7d: [x,y,z, qx,qy,qz,qw]\n",
    "    hull_equations: from your .npz file => hull_equations\n",
    "    margin: how far beyond the hull to push\n",
    "    tol: tolerance to treat as \"inside\"\n",
    "\n",
    "    Returns:\n",
    "      new_pose_7d: The pose (7D) guaranteed to be outside the safe set.\n",
    "    \"\"\"\n",
    "    # 1) Convert to 6D (pos + rotation vector)\n",
    "    pose_6d = pose7d_to_6d(pose_7d)\n",
    "    inside, distances = is_pose_in_safe_set_6d(pose_6d, hull_equations, tol)\n",
    "    if not inside:\n",
    "        # Already outside => return as-is\n",
    "        return pose_7d\n",
    "\n",
    "    # 2) Find the facet with the maximum distance\n",
    "    #    Typically, distances for an inside point are <= 0 or negative, but we pick\n",
    "    #    the largest anyway. We'll push along that normal.\n",
    "    i_max = np.argmax(distances)\n",
    "    d_max = distances[i_max]\n",
    "    A_i = hull_equations[i_max, :-1]   # normal vector\n",
    "    norm_A = np.linalg.norm(A_i)\n",
    "\n",
    "    # 3) Compute shift => we move (tol - d_max + margin) along the normal\n",
    "    #    so that the new point is just outside by 'margin'.\n",
    "    shift_6d = ((tol - d_max) + margin) * (A_i / norm_A)\n",
    "    pose_6d_out = pose_6d + shift_6d\n",
    "\n",
    "    # 4) Convert back to 7D => new position + orientation\n",
    "    new_pos = pose_6d_out[:3]\n",
    "    new_rotvec = pose_6d_out[3:]\n",
    "    new_quat = R.from_rotvec(new_rotvec).as_quat()\n",
    "    new_pose_7d = np.hstack([new_pos, new_quat])\n",
    "    return new_pose_7d\n",
    "def compose_new_pose_7d(current_pose_7d, delta_action, trans_scale=0.06, rot_scale=1.2):\n",
    "    \"\"\"\n",
    "    Compute a new 7D pose by applying a scaled delta action to the current 7D pose.\n",
    "    Parameters:\n",
    "      current_pose_7d: [x, y, z, qx, qy, qz, qw]\n",
    "      delta_action: [dx, dy, dz, dax, day, daz, gripper]\n",
    "      trans_scale: scaling for translation\n",
    "      rot_scale: scaling for rotation (axis-angle)\n",
    "    Returns:\n",
    "      new_pose_7d: [x, y, z, qx, qy, qz, qw]\n",
    "    \"\"\"\n",
    "    \n",
    "    delta_trans = trans_scale * delta_action[:3]\n",
    "    delta_rot = rot_scale * delta_action[3:6]\n",
    "    new_pos = current_pose_7d[:3] + delta_trans\n",
    "    current_quat = current_pose_7d[3:7]\n",
    "\n",
    "    delta_quat = R.from_rotvec(delta_rot).as_quat()\n",
    "    new_rot = R.from_quat(current_quat) * R.from_quat(delta_quat)\n",
    "    new_quat = normalize_quaternion(new_rot.as_quat())\n",
    "    \n",
    "    new_pose= np.hstack([new_pos, new_quat,current_pose_7d[-1]])\n",
    "    \n",
    "    # absolute_correct_robot_pose(robot_interface, new_pose)\n",
    "    return new_pose\n",
    "\n",
    "safe_set_file=\"Safe_diffusion_policy/safe_set_6d_dummy.npz\"\n",
    "safe_set, hull_equations, _ = load_safe_set(safe_set_file)"
   ]
  },
  {
   "cell_type": "code",
   "execution_count": 55,
   "metadata": {},
   "outputs": [
    {
     "name": "stdout",
     "output_type": "stream",
     "text": [
      "JOINT_POSITION\n"
     ]
    }
   ],
   "source": [
    "# # reset robot\n",
    "set_gripper(open=True)\n",
    "reset_joints_to(robot_interface, reset_joint_positions)\n",
    "set_gripper(open=True)"
   ]
  },
  {
   "cell_type": "code",
   "execution_count": 56,
   "metadata": {},
   "outputs": [
    {
     "name": "stdout",
     "output_type": "stream",
     "text": [
      "JOINT_POSITION\n",
      "Initial computed 7D Pose from joint angles: [ 0.606 -0.081  0.346 -0.374  0.821 -0.175 -0.395]\n",
      "from controller:  [0. 0. 0.] [ 0.  0. -0.]\n",
      "Sending to robot: action 0 => [ 0.23   0.008  0.208  0.005 -0.055  0.003 -0.991]\n",
      "Predicted:  [ 0.615 -0.08   0.355 -0.378  0.831 -0.168 -0.373 -0.395]\n",
      "  Safe set check: inside = False\n",
      "Actual  [ 0.606 -0.08   0.346 -0.374  0.821 -0.175 -0.395]\n",
      "Sending to robot: action 1 => [ 0.232  0.004  0.178  0.014 -0.044 -0.001 -0.993]\n",
      "Predicted:  [ 0.616 -0.081  0.353 -0.38   0.827 -0.173 -0.376 -0.395]\n",
      "  Safe set check: inside = False\n",
      "Actual  [ 0.611 -0.076  0.346 -0.395  0.811 -0.186 -0.39 ]\n",
      "Sending to robot: action 2 => [ 0.249  0.007  0.21   0.011 -0.024  0.003 -0.99 ]\n",
      "Predicted:  [ 0.616 -0.08   0.355 -0.377  0.825 -0.176 -0.384 -0.395]\n",
      "  Safe set check: inside = False\n",
      "Actual  [ 0.615 -0.072  0.346 -0.407  0.804 -0.193 -0.387]\n",
      "Sending to robot: action 3 => [ 0.257  0.004  0.163  0.009 -0.026  0.002 -0.997]\n",
      "Predicted:  [ 0.617 -0.081  0.353 -0.377  0.825 -0.175 -0.383 -0.395]\n",
      "  Safe set check: inside = False\n",
      "Actual  [ 0.619 -0.066  0.346 -0.423  0.796 -0.201 -0.383]\n",
      "from controller:  [0. 0. 0.] [ 0.  0. -0.]\n",
      "Sending to robot: action 0 => [ 0.135 -0.005  0.125  0.001  0.025  0.002 -0.993]\n",
      "Predicted:  [ 0.612 -0.081  0.351 -0.371  0.816 -0.181 -0.404 -0.395]\n",
      "  Safe set check: inside = False\n",
      "Actual  [ 0.628 -0.045  0.346 -0.464  0.773 -0.221 -0.371]\n",
      "Sending to robot: action 1 => [ 0.125  0.     0.086  0.002  0.024  0.009 -0.997]\n",
      "Predicted:  [ 0.611 -0.081  0.35  -0.368  0.818 -0.182 -0.403 -0.395]\n",
      "  Safe set check: inside = False\n",
      "Actual  [ 0.63  -0.036  0.346 -0.473  0.768 -0.226 -0.369]\n",
      "Sending to robot: action 2 => [ 0.13  -0.     0.111  0.001  0.026  0.006 -1.   ]\n",
      "Predicted:  [ 0.611 -0.081  0.351 -0.369  0.817 -0.182 -0.404 -0.395]\n",
      "  Safe set check: inside = False\n",
      "Actual  [ 0.631 -0.028  0.346 -0.481  0.763 -0.23  -0.366]\n",
      "Sending to robot: action 3 => [ 0.157  0.001  0.141  0.004  0.027  0.002 -0.999]\n",
      "Predicted:  [ 0.613 -0.081  0.352 -0.371  0.816 -0.182 -0.405 -0.395]\n",
      "  Safe set check: inside = False\n",
      "Actual  [ 0.633 -0.02   0.346 -0.489  0.758 -0.234 -0.364]\n",
      "from controller:  [0. 0. 0.] [ 0.  0. -0.]\n",
      "Sending to robot: action 0 => [ 0.274 -0.002  0.121 -0.001  0.053  0.002 -1.   ]\n",
      "Predicted:  [ 0.617 -0.081  0.351 -0.368  0.811 -0.185 -0.415 -0.395]\n",
      "  Safe set check: inside = False\n",
      "Actual  [ 0.635  0.003  0.346 -0.51   0.744 -0.244 -0.357]\n",
      "Sending to robot: action 1 => [ 0.303 -0.003  0.133  0.002  0.054  0.    -1.   ]\n",
      "Predicted:  [ 0.618 -0.081  0.352 -0.369  0.81  -0.186 -0.415 -0.395]\n",
      "  Safe set check: inside = False\n",
      "Actual  [ 0.637  0.018  0.346 -0.526  0.732 -0.252 -0.351]\n",
      "Sending to robot: action 2 => [ 0.311 -0.003  0.142  0.     0.049  0.002 -1.   ]\n",
      "Predicted:  [ 0.619 -0.081  0.352 -0.369  0.812 -0.184 -0.414 -0.395]\n",
      "  Safe set check: inside = False\n",
      "Actual  [ 0.639  0.04   0.347 -0.547  0.717 -0.263 -0.344]\n",
      "Sending to robot: action 3 => [ 0.331 -0.003  0.122  0.001  0.053  0.    -1.   ]\n",
      "Predicted:  [ 0.62  -0.081  0.351 -0.369  0.811 -0.185 -0.415 -0.395]\n",
      "  Safe set check: inside = False\n",
      "Actual  [ 0.64   0.057  0.347 -0.562  0.705 -0.271 -0.338]\n",
      "from controller:  [0. 0. 0.] [ 0.  0. -0.]\n",
      "Sending to robot: action 0 => [ 0.4   -0.03   0.107  0.012  0.096 -0.    -1.   ]\n",
      "Predicted:  [ 0.622 -0.082  0.351 -0.368  0.801 -0.197 -0.43  -0.395]\n",
      "  Safe set check: inside = False\n",
      "Actual  [ 0.637  0.107  0.347 -0.601  0.673 -0.29  -0.32 ]\n",
      "Sending to robot: action 1 => [ 0.412 -0.028  0.116  0.012  0.087 -0.    -1.   ]\n",
      "Predicted:  [ 0.623 -0.082  0.351 -0.368  0.803 -0.195 -0.427 -0.395]\n",
      "  Safe set check: inside = False\n",
      "Actual  [ 0.635  0.134  0.347 -0.621  0.654 -0.3   -0.311]\n",
      "Sending to robot: action 2 => [ 0.429 -0.032  0.13   0.013  0.085 -0.002 -1.   ]\n",
      "Predicted:  [ 0.623 -0.082  0.351 -0.37   0.803 -0.195 -0.426 -0.395]\n",
      "  Safe set check: inside = False\n",
      "Actual  [ 0.629  0.166  0.348  0.642 -0.633  0.312  0.301]\n",
      "Sending to robot: action 3 => [ 0.436 -0.031  0.133  0.011  0.081 -0.002 -1.   ]\n",
      "Predicted:  [ 0.624 -0.082  0.352 -0.369  0.804 -0.194 -0.425 -0.395]\n",
      "  Safe set check: inside = False\n",
      "Actual  [ 0.62   0.2    0.349  0.663 -0.61   0.323  0.289]\n",
      "from controller:  [0. 0. 0.] [ 0.  0. -0.]\n",
      "Sending to robot: action 0 => [ 0.451 -0.076  0.17   0.027  0.111 -0.006 -1.   ]\n",
      "Predicted:  [ 0.624 -0.084  0.353 -0.371  0.795 -0.204 -0.433 -0.395]\n",
      "  Safe set check: inside = False\n",
      "Actual  [ 0.599  0.258  0.35   0.695 -0.572  0.341  0.27 ]\n",
      "Sending to robot: action 1 => [ 0.46  -0.066  0.174  0.023  0.097 -0.004 -1.   ]\n",
      "Predicted:  [ 0.625 -0.083  0.353 -0.371  0.799 -0.201 -0.429 -0.395]\n",
      "  Safe set check: inside = False\n",
      "Actual  [ 0.591  0.279  0.35   0.708 -0.557  0.348  0.262]\n",
      "Sending to robot: action 2 => [ 0.456 -0.065  0.175  0.026  0.082 -0.007 -1.   ]\n",
      "Predicted:  [ 0.625 -0.083  0.353 -0.374  0.801 -0.199 -0.423 -0.395]\n",
      "  Safe set check: inside = False\n",
      "Actual  [ 0.575  0.31   0.351  0.724 -0.533  0.359  0.251]\n",
      "Sending to robot: action 3 => [ 0.456 -0.065  0.193  0.025  0.075 -0.004 -1.   ]\n",
      "Predicted:  [ 0.625 -0.083  0.354 -0.374  0.803 -0.198 -0.42  -0.395]\n",
      "  Safe set check: inside = False\n",
      "Actual  [ 0.559  0.339  0.351  0.739 -0.51   0.368  0.24 ]\n",
      "from controller:  [0. 0. 0.] [ 0.  0. -0.]\n",
      "Sending to robot: action 0 => [ 0.422 -0.022  0.195  0.015  0.064 -0.008 -0.999]\n",
      "Predicted:  [ 0.623 -0.082  0.354 -0.374  0.806 -0.191 -0.418 -0.395]\n",
      "  Safe set check: inside = False\n",
      "Actual  [ 0.524  0.391  0.352  0.765 -0.468  0.385  0.219]\n",
      "Sending to robot: action 1 => [ 0.42  -0.016  0.197  0.013  0.055 -0.006 -1.   ]\n",
      "Predicted:  [ 0.623 -0.081  0.354 -0.374  0.808 -0.189 -0.415 -0.395]\n",
      "  Safe set check: inside = False\n",
      "Actual  [ 0.509  0.412  0.353  0.777 -0.447  0.391  0.208]\n",
      "Sending to robot: action 2 => [ 0.428 -0.004  0.193  0.008  0.05  -0.005 -1.   ]\n",
      "Predicted:  [ 0.623 -0.081  0.354 -0.373  0.81  -0.186 -0.413 -0.395]\n",
      "  Safe set check: inside = False\n",
      "Actual  [ 0.491  0.434  0.353  0.788 -0.427  0.397  0.197]\n",
      "Sending to robot: action 3 => [ 0.428 -0.001  0.199  0.007  0.051 -0.007 -1.   ]\n",
      "Predicted:  [ 0.623 -0.081  0.354 -0.374  0.809 -0.186 -0.414 -0.395]\n",
      "  Safe set check: inside = False\n",
      "Actual  [ 0.475  0.45   0.354  0.797 -0.41   0.401  0.188]\n",
      "from controller:  [0. 0. 0.] [ 0.  0. -0.]\n",
      "Sending to robot: action 0 => [ 0.542 -0.005  0.097  0.013  0.024 -0.012 -1.   ]\n",
      "Predicted:  [ 0.628 -0.081  0.35  -0.379  0.813 -0.182 -0.403 -0.395]\n",
      "  Safe set check: inside = False\n",
      "Actual  [ 0.437  0.488  0.354  0.818 -0.367  0.412  0.165]\n",
      "Sending to robot: action 1 => [ 0.537  0.     0.096  0.013  0.015 -0.011 -1.   ]\n",
      "Predicted:  [ 0.628 -0.081  0.35  -0.379  0.815 -0.181 -0.4   -0.395]\n",
      "  Safe set check: inside = False\n",
      "Actual  [ 0.423  0.505  0.355  0.829 -0.341  0.417  0.152]\n",
      "Sending to robot: action 2 => [ 0.518  0.004  0.105  0.011  0.007 -0.011 -1.   ]\n",
      "Predicted:  [ 0.627 -0.081  0.35  -0.379  0.817 -0.179 -0.397 -0.395]\n",
      "  Safe set check: inside = False\n",
      "Actual  [ 0.4    0.527  0.355  0.841 -0.308  0.424  0.136]\n",
      "Sending to robot: action 3 => [ 0.513  0.01   0.076  0.011  0.008 -0.008 -1.   ]\n",
      "Predicted:  [ 0.627 -0.08   0.349 -0.378  0.817 -0.179 -0.397 -0.395]\n",
      "  Safe set check: inside = False\n",
      "Actual  [ 0.382  0.543  0.355  0.849 -0.282  0.429  0.123]\n",
      "from controller:  [0. 0. 0.] [ 0.  0. -0.]\n",
      "Sending to robot: action 0 => [ 0.515  0.012  0.094  0.006 -0.006 -0.008 -1.   ]\n",
      "Predicted:  [ 0.627 -0.08   0.35  -0.378  0.82  -0.175 -0.392 -0.395]\n",
      "  Safe set check: inside = False\n",
      "Actual  [ 0.338  0.577  0.356  0.866 -0.223  0.439  0.093]\n",
      "Sending to robot: action 1 => [ 0.455  0.011  0.049  0.015 -0.026 -0.011 -1.   ]\n",
      "Predicted:  [ 0.624 -0.08   0.348 -0.383  0.822 -0.175 -0.383 -0.395]\n",
      "  Safe set check: inside = False\n",
      "Actual  [ 0.319  0.592  0.356  0.872 -0.194  0.442  0.078]\n",
      "Sending to robot: action 2 => [ 0.485  0.015  0.08   0.009 -0.037 -0.007 -1.   ]\n",
      "Predicted:  [ 0.626 -0.08   0.349 -0.381  0.826 -0.171 -0.379 -0.395]\n",
      "  Safe set check: inside = False\n",
      "Actual  [ 0.298  0.607  0.357  0.878 -0.162  0.446  0.062]\n",
      "Sending to robot: action 3 => [ 0.426  0.013  0.052  0.017 -0.059 -0.011 -0.999]\n",
      "Predicted:  [ 0.623 -0.08   0.348 -0.386  0.828 -0.17  -0.37  -0.395]\n",
      "  Safe set check: inside = False\n",
      "Actual  [ 0.283  0.619  0.357  0.882 -0.134  0.449  0.049]\n",
      "from controller:  [0. 0. 0.] [ 0.  0. -0.]\n",
      "Sending to robot: action 0 => [ 0.49   0.005  0.045  0.017 -0.033 -0.008 -0.999]\n",
      "Predicted:  [ 0.626 -0.08   0.348 -0.383  0.824 -0.174 -0.38  -0.395]\n",
      "  Safe set check: inside = False\n",
      "Actual  [ 0.251  0.643  0.357  0.888 -0.073  0.453  0.019]\n",
      "Sending to robot: action 1 => [ 0.482  0.015  0.037  0.014 -0.051 -0.009 -0.999]\n",
      "Predicted:  [ 0.626 -0.08   0.348 -0.384  0.827 -0.17  -0.373 -0.395]\n",
      "  Safe set check: inside = False\n",
      "Actual  [ 0.232  0.654  0.357  0.89  -0.045  0.454  0.005]\n",
      "Sending to robot: action 2 => [ 0.481  0.013  0.034  0.016 -0.065 -0.007 -0.999]\n",
      "Predicted:  [ 0.626 -0.08   0.348 -0.385  0.83  -0.169 -0.367 -0.395]\n",
      "  Safe set check: inside = False\n",
      "Actual  [ 0.205  0.668  0.357  0.89  -0.006  0.455 -0.014]\n",
      "Sending to robot: action 3 => [ 0.438  0.005  0.021  0.023 -0.077 -0.009 -0.999]\n",
      "Predicted:  [ 0.624 -0.081  0.347 -0.387  0.831 -0.169 -0.361 -0.395]\n",
      "  Safe set check: inside = False\n",
      "Actual  [ 0.183  0.68   0.358  0.889  0.029  0.455 -0.031]\n",
      "from controller:  [0. 0. 0.] [ 0.  0. -0.]\n",
      "Sending to robot: action 0 => [ 0.558  0.003  0.025  0.013 -0.074 -0.007 -0.999]\n",
      "Predicted:  [ 0.629 -0.081  0.347 -0.385  0.832 -0.166 -0.364 -0.395]\n",
      "  Safe set check: inside = False\n",
      "Actual  [ 0.139  0.703  0.358  0.883  0.103  0.453 -0.067]\n",
      "Sending to robot: action 1 => [ 0.504  0.007 -0.     0.014 -0.086 -0.01  -1.   ]\n",
      "Predicted:  [ 0.626 -0.08   0.346 -0.387  0.833 -0.163 -0.359 -0.395]\n",
      "  Safe set check: inside = False\n",
      "Actual  [ 0.106  0.712  0.358  0.877  0.143  0.451 -0.087]\n",
      "Sending to robot: action 2 => [ 0.508  0.003  0.035  0.01  -0.087 -0.008 -1.   ]\n",
      "Predicted:  [ 0.627 -0.081  0.348 -0.386  0.834 -0.162 -0.36  -0.395]\n",
      "  Safe set check: inside = False\n",
      "Actual  [ 0.07   0.721  0.358  0.868  0.188  0.447 -0.109]\n",
      "Sending to robot: action 3 => [ 0.518  0.003  0.022  0.011 -0.081 -0.006 -0.996]\n",
      "Predicted:  [ 0.627 -0.081  0.347 -0.385  0.833 -0.164 -0.362 -0.395]\n",
      "  Safe set check: inside = False\n",
      "Actual  [ 0.043  0.727  0.358  0.86   0.22   0.444 -0.125]\n",
      "from controller:  [0. 0. 0.] [ 0.  0. -0.]\n"
     ]
    },
    {
     "ename": "KeyboardInterrupt",
     "evalue": "",
     "output_type": "error",
     "traceback": [
      "\u001b[0;31m---------------------------------------------------------------------------\u001b[0m",
      "\u001b[0;31mKeyboardInterrupt\u001b[0m                         Traceback (most recent call last)",
      "Cell \u001b[0;32mIn[56], line 41\u001b[0m\n\u001b[1;32m     37\u001b[0m obs \u001b[38;5;241m=\u001b[39m framestacker\u001b[38;5;241m.\u001b[39madd_new_obs(obs_dict)\n\u001b[1;32m     39\u001b[0m \u001b[38;5;66;03m# 3) Policy predicts an action (whatever format: delta pose, EEF pose, etc.)\u001b[39;00m\n\u001b[1;32m     40\u001b[0m \u001b[38;5;66;03m#    We'll send it to the robot\u001b[39;00m\n\u001b[0;32m---> 41\u001b[0m action_pred \u001b[38;5;241m=\u001b[39m \u001b[43mpredict_action\u001b[49m\u001b[43m(\u001b[49m\u001b[43mobs\u001b[49m\u001b[43m)\u001b[49m  \u001b[38;5;66;03m# shape is up to your policy\u001b[39;00m\n\u001b[1;32m     42\u001b[0m \u001b[38;5;66;03m# print(\"Raw policy prediction:\", action_pred)\u001b[39;00m\n\u001b[1;32m     43\u001b[0m \n\u001b[1;32m     44\u001b[0m \n\u001b[1;32m     45\u001b[0m \n\u001b[1;32m     46\u001b[0m \u001b[38;5;66;03m# 4) Let's say we control the robot with the first 4 predicted actions\u001b[39;00m\n\u001b[1;32m     47\u001b[0m \u001b[38;5;28;01mfor\u001b[39;00m i, single_cmd \u001b[38;5;129;01min\u001b[39;00m \u001b[38;5;28menumerate\u001b[39m(action_pred[:\u001b[38;5;241m4\u001b[39m]):\n",
      "Cell \u001b[0;32mIn[29], line 15\u001b[0m, in \u001b[0;36mpredict_action\u001b[0;34m(obs)\u001b[0m\n\u001b[1;32m     11\u001b[0m     obs_dict[key]\u001b[38;5;241m=\u001b[39mobs_dict[key]\u001b[38;5;241m.\u001b[39munsqueeze(\u001b[38;5;241m0\u001b[39m) \n\u001b[1;32m     14\u001b[0m \u001b[38;5;28;01mwith\u001b[39;00m torch\u001b[38;5;241m.\u001b[39mno_grad():\n\u001b[0;32m---> 15\u001b[0m     action_dict \u001b[38;5;241m=\u001b[39m \u001b[43mpolicy\u001b[49m\u001b[38;5;241;43m.\u001b[39;49m\u001b[43mpredict_action\u001b[49m\u001b[43m(\u001b[49m\u001b[43mobs_dict\u001b[49m\u001b[43m)\u001b[49m\n\u001b[1;32m     17\u001b[0m \u001b[38;5;66;03m# device_transfer\u001b[39;00m\n\u001b[1;32m     18\u001b[0m np_action_dict \u001b[38;5;241m=\u001b[39m dict_apply(action_dict, \u001b[38;5;28;01mlambda\u001b[39;00m x: x\u001b[38;5;241m.\u001b[39mdetach()\u001b[38;5;241m.\u001b[39mto(\u001b[38;5;124m'\u001b[39m\u001b[38;5;124mcpu\u001b[39m\u001b[38;5;124m'\u001b[39m)\u001b[38;5;241m.\u001b[39mnumpy())\n",
      "File \u001b[0;32m~/diffusion_policy/diffusion_policy/policy/diffusion_unet_hybrid_image_policy.py:258\u001b[0m, in \u001b[0;36mDiffusionUnetHybridImagePolicy.predict_action\u001b[0;34m(self, obs_dict)\u001b[0m\n\u001b[1;32m    255\u001b[0m     cond_mask[:,:To,Da:] \u001b[38;5;241m=\u001b[39m \u001b[38;5;28;01mTrue\u001b[39;00m\n\u001b[1;32m    257\u001b[0m \u001b[38;5;66;03m# run sampling\u001b[39;00m\n\u001b[0;32m--> 258\u001b[0m nsample \u001b[38;5;241m=\u001b[39m \u001b[38;5;28;43mself\u001b[39;49m\u001b[38;5;241;43m.\u001b[39;49m\u001b[43mconditional_sample\u001b[49m\u001b[43m(\u001b[49m\n\u001b[1;32m    259\u001b[0m \u001b[43m    \u001b[49m\u001b[43mcond_data\u001b[49m\u001b[43m,\u001b[49m\u001b[43m \u001b[49m\n\u001b[1;32m    260\u001b[0m \u001b[43m    \u001b[49m\u001b[43mcond_mask\u001b[49m\u001b[43m,\u001b[49m\n\u001b[1;32m    261\u001b[0m \u001b[43m    \u001b[49m\u001b[43mlocal_cond\u001b[49m\u001b[38;5;241;43m=\u001b[39;49m\u001b[43mlocal_cond\u001b[49m\u001b[43m,\u001b[49m\n\u001b[1;32m    262\u001b[0m \u001b[43m    \u001b[49m\u001b[43mglobal_cond\u001b[49m\u001b[38;5;241;43m=\u001b[39;49m\u001b[43mglobal_cond\u001b[49m\u001b[43m,\u001b[49m\n\u001b[1;32m    263\u001b[0m \u001b[43m    \u001b[49m\u001b[38;5;241;43m*\u001b[39;49m\u001b[38;5;241;43m*\u001b[39;49m\u001b[38;5;28;43mself\u001b[39;49m\u001b[38;5;241;43m.\u001b[39;49m\u001b[43mkwargs\u001b[49m\u001b[43m)\u001b[49m\n\u001b[1;32m    265\u001b[0m \u001b[38;5;66;03m# unnormalize prediction\u001b[39;00m\n\u001b[1;32m    266\u001b[0m naction_pred \u001b[38;5;241m=\u001b[39m nsample[\u001b[38;5;241m.\u001b[39m\u001b[38;5;241m.\u001b[39m\u001b[38;5;241m.\u001b[39m,:Da]\n",
      "File \u001b[0;32m~/diffusion_policy/diffusion_policy/policy/diffusion_unet_hybrid_image_policy.py:199\u001b[0m, in \u001b[0;36mDiffusionUnetHybridImagePolicy.conditional_sample\u001b[0;34m(self, condition_data, condition_mask, local_cond, global_cond, generator, **kwargs)\u001b[0m\n\u001b[1;32m    196\u001b[0m trajectory[condition_mask] \u001b[38;5;241m=\u001b[39m condition_data[condition_mask]\n\u001b[1;32m    198\u001b[0m \u001b[38;5;66;03m# 2. predict model output\u001b[39;00m\n\u001b[0;32m--> 199\u001b[0m model_output \u001b[38;5;241m=\u001b[39m \u001b[43mmodel\u001b[49m\u001b[43m(\u001b[49m\u001b[43mtrajectory\u001b[49m\u001b[43m,\u001b[49m\u001b[43m \u001b[49m\u001b[43mt\u001b[49m\u001b[43m,\u001b[49m\u001b[43m \u001b[49m\n\u001b[1;32m    200\u001b[0m \u001b[43m    \u001b[49m\u001b[43mlocal_cond\u001b[49m\u001b[38;5;241;43m=\u001b[39;49m\u001b[43mlocal_cond\u001b[49m\u001b[43m,\u001b[49m\u001b[43m \u001b[49m\u001b[43mglobal_cond\u001b[49m\u001b[38;5;241;43m=\u001b[39;49m\u001b[43mglobal_cond\u001b[49m\u001b[43m)\u001b[49m\n\u001b[1;32m    202\u001b[0m \u001b[38;5;66;03m# 3. compute previous image: x_t -> x_t-1\u001b[39;00m\n\u001b[1;32m    203\u001b[0m trajectory \u001b[38;5;241m=\u001b[39m scheduler\u001b[38;5;241m.\u001b[39mstep(\n\u001b[1;32m    204\u001b[0m     model_output, t, trajectory, \n\u001b[1;32m    205\u001b[0m     generator\u001b[38;5;241m=\u001b[39mgenerator,\n\u001b[1;32m    206\u001b[0m     \u001b[38;5;241m*\u001b[39m\u001b[38;5;241m*\u001b[39mkwargs\n\u001b[1;32m    207\u001b[0m     )\u001b[38;5;241m.\u001b[39mprev_sample\n",
      "File \u001b[0;32m~/miniconda3/envs/robodiff_2/lib/python3.9/site-packages/torch/nn/modules/module.py:1739\u001b[0m, in \u001b[0;36mModule._wrapped_call_impl\u001b[0;34m(self, *args, **kwargs)\u001b[0m\n\u001b[1;32m   1737\u001b[0m     \u001b[38;5;28;01mreturn\u001b[39;00m \u001b[38;5;28mself\u001b[39m\u001b[38;5;241m.\u001b[39m_compiled_call_impl(\u001b[38;5;241m*\u001b[39margs, \u001b[38;5;241m*\u001b[39m\u001b[38;5;241m*\u001b[39mkwargs)  \u001b[38;5;66;03m# type: ignore[misc]\u001b[39;00m\n\u001b[1;32m   1738\u001b[0m \u001b[38;5;28;01melse\u001b[39;00m:\n\u001b[0;32m-> 1739\u001b[0m     \u001b[38;5;28;01mreturn\u001b[39;00m \u001b[38;5;28;43mself\u001b[39;49m\u001b[38;5;241;43m.\u001b[39;49m\u001b[43m_call_impl\u001b[49m\u001b[43m(\u001b[49m\u001b[38;5;241;43m*\u001b[39;49m\u001b[43margs\u001b[49m\u001b[43m,\u001b[49m\u001b[43m \u001b[49m\u001b[38;5;241;43m*\u001b[39;49m\u001b[38;5;241;43m*\u001b[39;49m\u001b[43mkwargs\u001b[49m\u001b[43m)\u001b[49m\n",
      "File \u001b[0;32m~/miniconda3/envs/robodiff_2/lib/python3.9/site-packages/torch/nn/modules/module.py:1750\u001b[0m, in \u001b[0;36mModule._call_impl\u001b[0;34m(self, *args, **kwargs)\u001b[0m\n\u001b[1;32m   1745\u001b[0m \u001b[38;5;66;03m# If we don't have any hooks, we want to skip the rest of the logic in\u001b[39;00m\n\u001b[1;32m   1746\u001b[0m \u001b[38;5;66;03m# this function, and just call forward.\u001b[39;00m\n\u001b[1;32m   1747\u001b[0m \u001b[38;5;28;01mif\u001b[39;00m \u001b[38;5;129;01mnot\u001b[39;00m (\u001b[38;5;28mself\u001b[39m\u001b[38;5;241m.\u001b[39m_backward_hooks \u001b[38;5;129;01mor\u001b[39;00m \u001b[38;5;28mself\u001b[39m\u001b[38;5;241m.\u001b[39m_backward_pre_hooks \u001b[38;5;129;01mor\u001b[39;00m \u001b[38;5;28mself\u001b[39m\u001b[38;5;241m.\u001b[39m_forward_hooks \u001b[38;5;129;01mor\u001b[39;00m \u001b[38;5;28mself\u001b[39m\u001b[38;5;241m.\u001b[39m_forward_pre_hooks\n\u001b[1;32m   1748\u001b[0m         \u001b[38;5;129;01mor\u001b[39;00m _global_backward_pre_hooks \u001b[38;5;129;01mor\u001b[39;00m _global_backward_hooks\n\u001b[1;32m   1749\u001b[0m         \u001b[38;5;129;01mor\u001b[39;00m _global_forward_hooks \u001b[38;5;129;01mor\u001b[39;00m _global_forward_pre_hooks):\n\u001b[0;32m-> 1750\u001b[0m     \u001b[38;5;28;01mreturn\u001b[39;00m \u001b[43mforward_call\u001b[49m\u001b[43m(\u001b[49m\u001b[38;5;241;43m*\u001b[39;49m\u001b[43margs\u001b[49m\u001b[43m,\u001b[49m\u001b[43m \u001b[49m\u001b[38;5;241;43m*\u001b[39;49m\u001b[38;5;241;43m*\u001b[39;49m\u001b[43mkwargs\u001b[49m\u001b[43m)\u001b[49m\n\u001b[1;32m   1752\u001b[0m result \u001b[38;5;241m=\u001b[39m \u001b[38;5;28;01mNone\u001b[39;00m\n\u001b[1;32m   1753\u001b[0m called_always_called_hooks \u001b[38;5;241m=\u001b[39m \u001b[38;5;28mset\u001b[39m()\n",
      "File \u001b[0;32m~/diffusion_policy/diffusion_policy/model/diffusion/conditional_unet1d.py:216\u001b[0m, in \u001b[0;36mConditionalUnet1D.forward\u001b[0;34m(self, sample, timestep, local_cond, global_cond, **kwargs)\u001b[0m\n\u001b[1;32m    214\u001b[0m h \u001b[38;5;241m=\u001b[39m []\n\u001b[1;32m    215\u001b[0m \u001b[38;5;28;01mfor\u001b[39;00m idx, (resnet, resnet2, downsample) \u001b[38;5;129;01min\u001b[39;00m \u001b[38;5;28menumerate\u001b[39m(\u001b[38;5;28mself\u001b[39m\u001b[38;5;241m.\u001b[39mdown_modules):\n\u001b[0;32m--> 216\u001b[0m     x \u001b[38;5;241m=\u001b[39m \u001b[43mresnet\u001b[49m\u001b[43m(\u001b[49m\u001b[43mx\u001b[49m\u001b[43m,\u001b[49m\u001b[43m \u001b[49m\u001b[43mglobal_feature\u001b[49m\u001b[43m)\u001b[49m\n\u001b[1;32m    217\u001b[0m     \u001b[38;5;28;01mif\u001b[39;00m idx \u001b[38;5;241m==\u001b[39m \u001b[38;5;241m0\u001b[39m \u001b[38;5;129;01mand\u001b[39;00m \u001b[38;5;28mlen\u001b[39m(h_local) \u001b[38;5;241m>\u001b[39m \u001b[38;5;241m0\u001b[39m:\n\u001b[1;32m    218\u001b[0m         x \u001b[38;5;241m=\u001b[39m x \u001b[38;5;241m+\u001b[39m h_local[\u001b[38;5;241m0\u001b[39m]\n",
      "File \u001b[0;32m~/miniconda3/envs/robodiff_2/lib/python3.9/site-packages/torch/nn/modules/module.py:1739\u001b[0m, in \u001b[0;36mModule._wrapped_call_impl\u001b[0;34m(self, *args, **kwargs)\u001b[0m\n\u001b[1;32m   1737\u001b[0m     \u001b[38;5;28;01mreturn\u001b[39;00m \u001b[38;5;28mself\u001b[39m\u001b[38;5;241m.\u001b[39m_compiled_call_impl(\u001b[38;5;241m*\u001b[39margs, \u001b[38;5;241m*\u001b[39m\u001b[38;5;241m*\u001b[39mkwargs)  \u001b[38;5;66;03m# type: ignore[misc]\u001b[39;00m\n\u001b[1;32m   1738\u001b[0m \u001b[38;5;28;01melse\u001b[39;00m:\n\u001b[0;32m-> 1739\u001b[0m     \u001b[38;5;28;01mreturn\u001b[39;00m \u001b[38;5;28;43mself\u001b[39;49m\u001b[38;5;241;43m.\u001b[39;49m\u001b[43m_call_impl\u001b[49m\u001b[43m(\u001b[49m\u001b[38;5;241;43m*\u001b[39;49m\u001b[43margs\u001b[49m\u001b[43m,\u001b[49m\u001b[43m \u001b[49m\u001b[38;5;241;43m*\u001b[39;49m\u001b[38;5;241;43m*\u001b[39;49m\u001b[43mkwargs\u001b[49m\u001b[43m)\u001b[49m\n",
      "File \u001b[0;32m~/miniconda3/envs/robodiff_2/lib/python3.9/site-packages/torch/nn/modules/module.py:1750\u001b[0m, in \u001b[0;36mModule._call_impl\u001b[0;34m(self, *args, **kwargs)\u001b[0m\n\u001b[1;32m   1745\u001b[0m \u001b[38;5;66;03m# If we don't have any hooks, we want to skip the rest of the logic in\u001b[39;00m\n\u001b[1;32m   1746\u001b[0m \u001b[38;5;66;03m# this function, and just call forward.\u001b[39;00m\n\u001b[1;32m   1747\u001b[0m \u001b[38;5;28;01mif\u001b[39;00m \u001b[38;5;129;01mnot\u001b[39;00m (\u001b[38;5;28mself\u001b[39m\u001b[38;5;241m.\u001b[39m_backward_hooks \u001b[38;5;129;01mor\u001b[39;00m \u001b[38;5;28mself\u001b[39m\u001b[38;5;241m.\u001b[39m_backward_pre_hooks \u001b[38;5;129;01mor\u001b[39;00m \u001b[38;5;28mself\u001b[39m\u001b[38;5;241m.\u001b[39m_forward_hooks \u001b[38;5;129;01mor\u001b[39;00m \u001b[38;5;28mself\u001b[39m\u001b[38;5;241m.\u001b[39m_forward_pre_hooks\n\u001b[1;32m   1748\u001b[0m         \u001b[38;5;129;01mor\u001b[39;00m _global_backward_pre_hooks \u001b[38;5;129;01mor\u001b[39;00m _global_backward_hooks\n\u001b[1;32m   1749\u001b[0m         \u001b[38;5;129;01mor\u001b[39;00m _global_forward_hooks \u001b[38;5;129;01mor\u001b[39;00m _global_forward_pre_hooks):\n\u001b[0;32m-> 1750\u001b[0m     \u001b[38;5;28;01mreturn\u001b[39;00m \u001b[43mforward_call\u001b[49m\u001b[43m(\u001b[49m\u001b[38;5;241;43m*\u001b[39;49m\u001b[43margs\u001b[49m\u001b[43m,\u001b[49m\u001b[43m \u001b[49m\u001b[38;5;241;43m*\u001b[39;49m\u001b[38;5;241;43m*\u001b[39;49m\u001b[43mkwargs\u001b[49m\u001b[43m)\u001b[49m\n\u001b[1;32m   1752\u001b[0m result \u001b[38;5;241m=\u001b[39m \u001b[38;5;28;01mNone\u001b[39;00m\n\u001b[1;32m   1753\u001b[0m called_always_called_hooks \u001b[38;5;241m=\u001b[39m \u001b[38;5;28mset\u001b[39m()\n",
      "File \u001b[0;32m~/diffusion_policy/diffusion_policy/model/diffusion/conditional_unet1d.py:64\u001b[0m, in \u001b[0;36mConditionalResidualBlock1D.forward\u001b[0;34m(self, x, cond)\u001b[0m\n\u001b[1;32m     62\u001b[0m \u001b[38;5;28;01melse\u001b[39;00m:\n\u001b[1;32m     63\u001b[0m     out \u001b[38;5;241m=\u001b[39m out \u001b[38;5;241m+\u001b[39m embed\n\u001b[0;32m---> 64\u001b[0m out \u001b[38;5;241m=\u001b[39m \u001b[38;5;28;43mself\u001b[39;49m\u001b[38;5;241;43m.\u001b[39;49m\u001b[43mblocks\u001b[49m[\u001b[38;5;241m1\u001b[39m](out)\n\u001b[1;32m     65\u001b[0m out \u001b[38;5;241m=\u001b[39m out \u001b[38;5;241m+\u001b[39m \u001b[38;5;28mself\u001b[39m\u001b[38;5;241m.\u001b[39mresidual_conv(x)\n\u001b[1;32m     66\u001b[0m \u001b[38;5;28;01mreturn\u001b[39;00m out\n",
      "File \u001b[0;32m~/miniconda3/envs/robodiff_2/lib/python3.9/site-packages/torch/nn/modules/module.py:1915\u001b[0m, in \u001b[0;36mModule.__getattr__\u001b[0;34m(self, name)\u001b[0m\n\u001b[1;32m   1910\u001b[0m         \u001b[38;5;28mself\u001b[39m\u001b[38;5;241m.\u001b[39m_backward_pre_hooks \u001b[38;5;241m=\u001b[39m OrderedDict()\n\u001b[1;32m   1912\u001b[0m \u001b[38;5;66;03m# It is crucial that the return type is not annotated as `Any`, otherwise type checking\u001b[39;00m\n\u001b[1;32m   1913\u001b[0m \u001b[38;5;66;03m# on `torch.nn.Module` and all its subclasses is largely disabled as a result. See:\u001b[39;00m\n\u001b[1;32m   1914\u001b[0m \u001b[38;5;66;03m# https://github.com/pytorch/pytorch/pull/115074\u001b[39;00m\n\u001b[0;32m-> 1915\u001b[0m \u001b[38;5;28;01mdef\u001b[39;00m\u001b[38;5;250m \u001b[39m\u001b[38;5;21m__getattr__\u001b[39m(\u001b[38;5;28mself\u001b[39m, name: \u001b[38;5;28mstr\u001b[39m) \u001b[38;5;241m-\u001b[39m\u001b[38;5;241m>\u001b[39m Union[Tensor, \u001b[38;5;124m\"\u001b[39m\u001b[38;5;124mModule\u001b[39m\u001b[38;5;124m\"\u001b[39m]:\n\u001b[1;32m   1916\u001b[0m     \u001b[38;5;28;01mif\u001b[39;00m \u001b[38;5;124m\"\u001b[39m\u001b[38;5;124m_parameters\u001b[39m\u001b[38;5;124m\"\u001b[39m \u001b[38;5;129;01min\u001b[39;00m \u001b[38;5;28mself\u001b[39m\u001b[38;5;241m.\u001b[39m\u001b[38;5;18m__dict__\u001b[39m:\n\u001b[1;32m   1917\u001b[0m         _parameters \u001b[38;5;241m=\u001b[39m \u001b[38;5;28mself\u001b[39m\u001b[38;5;241m.\u001b[39m\u001b[38;5;18m__dict__\u001b[39m[\u001b[38;5;124m\"\u001b[39m\u001b[38;5;124m_parameters\u001b[39m\u001b[38;5;124m\"\u001b[39m]\n",
      "\u001b[0;31mKeyboardInterrupt\u001b[0m: "
     ]
    }
   ],
   "source": [
    "\n",
    "### Now run inference in loop\n",
    "\n",
    "# # reset robot\n",
    "set_gripper(open=True)\n",
    "reset_joints_to(robot_interface, reset_joint_positions)\n",
    "set_gripper(open=True)\n",
    "policy.reset()\n",
    "\n",
    "images = []\n",
    "all_poses_7d = []\n",
    "all_inside_flags = []\n",
    "js = robot_interface.last_q\n",
    "if js is None:\n",
    "    raise ValueError(\"No joint angles available to compute the initial pose.\")\n",
    "initial_pose = joint_angles_to_end_effector_pose(js)\n",
    "print(\"Initial computed 7D Pose from joint angles:\", initial_pose)\n",
    "# Store the current pose\n",
    "current_pose_7d = initial_pose.copy()\n",
    "\n",
    "for _ in range(50):\n",
    "    # 1) Acquire user input\n",
    "    action, grasp = input2action(device=spacemouse, controller_type=controller_type)\n",
    "    if action is None:\n",
    "        break\n",
    "    if len(robot_interface._state_buffer) == 0:\n",
    "        continue\n",
    "\n",
    "    # Compute the initial pose from joint angles\n",
    "    \n",
    "\n",
    "    \n",
    "\n",
    "    # 2) Get observation\n",
    "    obs_dict = get_current_obs(robot_interface)\n",
    "    img = obs_dict['eye_in_hand_rgb']\n",
    "    images.append(img)\n",
    "    obs = framestacker.add_new_obs(obs_dict)\n",
    "\n",
    "    # 3) Policy predicts an action (whatever format: delta pose, EEF pose, etc.)\n",
    "    #    We'll send it to the robot\n",
    "    action_pred = predict_action(obs)  # shape is up to your policy\n",
    "    # print(\"Raw policy prediction:\", action_pred)\n",
    "\n",
    "    \n",
    "\n",
    "    # 4) Let's say we control the robot with the first 4 predicted actions\n",
    "    for i, single_cmd in enumerate(action_pred[:4]):\n",
    "        print(f\"Sending to robot: action {i} =>\", single_cmd)\n",
    "        robot_interface.control(\n",
    "            controller_type=controller_type,\n",
    "            action=single_cmd,\n",
    "            controller_cfg=controller_cfg,\n",
    "        )\n",
    "\n",
    "        # (Optional) short delay for the robot to move\n",
    "        time.sleep(0.05)\n",
    "        predicted_pose = compose_new_pose_7d(current_pose_7d, single_cmd)\n",
    "        predicted_pose_6d = pose7d_to_6d(predicted_pose)\n",
    "        inside, distances = is_pose_in_safe_set_6d(predicted_pose_6d, hull_equations, tol=1e-1)\n",
    "        print(\"Predicted: \",predicted_pose)\n",
    "\n",
    "        print(f\"  Safe set check: inside = {inside}\")\n",
    "\n",
    "        # 5) Now read the *actual* real joint angles from the robot\n",
    "        #    e.g. shape (7,) => [q1, q2, q3, q4, q5, q6, q7]\n",
    "        js_real = robot_interface.last_q  \n",
    "        if js_real is None:\n",
    "            print(\"No joint angles read. Skipping.\")\n",
    "            continue\n",
    "\n",
    "        # 6) Convert those real joints => 7D EEF pose => 6D => safe-set check\n",
    "        eef_pose_7d = joint_angles_to_end_effector_pose(js_real)  # shape (7,)\n",
    "        print(\"Actual \",eef_pose_7d)\n",
    "        # eef_pose_6d = pose7d_to_6d(eef_pose_7d)\n",
    "        # inside, distances = is_pose_in_safe_set_6d(eef_pose_6d, hull_equations, tol=1e-1)\n",
    "\n",
    "        # print(f\"   => Real Joints {js_real}, EEF pose {eef_pose_7d}\")\n",
    "        # print(f\"   => inside={inside}, distances={distances}\")\n",
    "\n",
    "        # 7) Collect for final visualization\n",
    "        all_poses_7d.append(predicted_pose)\n",
    "        all_inside_flags.append(inside)\n",
    "\n",
    "robot_interface.close()"
   ]
  },
  {
   "cell_type": "code",
   "execution_count": 59,
   "metadata": {},
   "outputs": [],
   "source": [
    "from deoxys.utils import ik_utils"
   ]
  },
  {
   "cell_type": "code",
   "execution_count": null,
   "metadata": {},
   "outputs": [],
   "source": []
  },
  {
   "cell_type": "code",
   "execution_count": null,
   "metadata": {},
   "outputs": [],
   "source": []
  },
  {
   "cell_type": "code",
   "execution_count": null,
   "metadata": {},
   "outputs": [],
   "source": []
  },
  {
   "cell_type": "code",
   "execution_count": 57,
   "metadata": {},
   "outputs": [
    {
     "data": {
      "application/vnd.plotly.v1+json": {
       "config": {
        "plotlyServerURL": "https://plot.ly"
       },
       "data": [
        {
         "color": "lightblue",
         "i": {
          "bdata": "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",
          "dtype": "i4"
         },
         "j": {
          "bdata": "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",
          "dtype": "i4"
         },
         "k": {
          "bdata": "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",
          "dtype": "i4"
         },
         "name": "Safe Set Hull",
         "opacity": 0.3,
         "type": "mesh3d",
         "x": {
          "bdata": "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",
          "dtype": "f8"
         },
         "y": {
          "bdata": "QgATUcaEtL9W0NMb04i0v2FoTGDDGLK/NM7SjVAppr9XyyU+0ch4v9Fjt5YQt6Q/4YQ0p1CDtz+5zqXnhW7CPz+g70MY8sg/qWJ+LHNVzz+QFZmUlbHSP8XsSr4sodU/Yyd3WvRd2D9nxSc+pcraP5Ly1929J90/Lg+EOSRp3z/ZBdeqPcrgP3ku07jQ1eE/GUSsPd7X4j83KDkwdMzjP9bOATjMs+Q/pRODzrOC5T8GfH3IcxzmP1rmAriPnuY/SKXE5vz65j+HfJov7zfnPyPtHguAW+c/u1Jq3m5l5z+OF2v2lFPnP40HAdaAKuc/Y2NeWNPr5j8fV1CFv5zmP+nnRf6RO+Y/vWTUE5zC5T/vg6prRDXlP7+itHF+lOQ/64KPs4P24z/5/5jsllLjP5aV0FKEq+I/e4YSjHsG4j9IVGgedmThP+sNkUitz+A/c//Myd884D/Zy9d2WkrfP5m0OpZsJ94/A+I+b9ZE3T/xovjpJoTcP0FzSrMl8Ns/I1Zn3Mwh2z9pCav0dz3aPyQ24uAgPtk/hB+aPUZv2D/1Lu/3oLDXPxEljgXOJ9c/Ycfvj2e61j/LljLsTXPWP09/YgVpQtY/9zzQsacc1j8khY805NDVPxPEgkLJRNU/6X3BVo+p1D8DPEFm8v7TPztvEkCsT9M/MGyndwud0j9YHYJJqu7RP2zPnDYKQtE/5/zYktiI0D8mvj3dSbfPP4b/52GEYs4/91wdEL0IzT/r/aD/n3DLP5OL5y55zck/4wHB7GgryD/b4lbCbxrHP9GtG2tiTMY/jxXRHx/nxT9sutVMFijFP4HbzJWrVcQ/5r+5+goaxD+BBL+RBAjEP7dpsmGQ/sM/pwH9g0Liwz/5xeQgEc3DPyTRd4e7wsM/aphB1ErBwz8wf1h+trzDPxG2lgvMucM/jXhlHAW6wz95gtOifLzDP9ztuImfu8M/X2XRS0G7wz/pWQV50sDDP2a7rFfT/MM/f5wr7whMxD++Nebnp6HEP0GHtN6KAcU/vc3QjvBRxT8r+VjRpprFP8N/NWa4y8U/fmID4knqxT8+MGKiI12zv0qdNxHZXLO/MBOJOjcBs7+Bhix7yrWxv65xNHSuJa6/UamImqCQpr92p0/Tkmucv7nNvr8OLoe/JlRT+PQxfz+skm1rqGigP0ElvUTpGrA/OxiJiNeKuT+5OZk2mu3BP6BVKzq8tsY/iBZwH0LHyz+sGOFzE6bQP2AosA2mcNM/rYiHJM831j+49rweIQHZP555ThvmmNs/Vt6O+56t3j+CXC4Y9p7gPxS3fPdvpuE/ht+ysvqm4j8G9SXBk5DjP7Z3IzYwYOQ/UU1Rc5IR5T8XbVUCBaPlP39ohRjmF+Y/OsLMupdz5j/bA2OR/6fmP/iSBukBxuY/o61q83rS5j/z9WcTec/mP1A9GauOvuY/TejVpdOg5j88ppddoXbmPzbGbte0QuY/WhJdhT0J5j8Ez/HtKcflPxY68fOdceU/VVXWwa8W5T9xIrn4e7LkP9iUTaG5PeQ/0heFLuzC4z+F/m6ImEDjP3dqlTqmsOI/GC0ehyQC4j+9QmHk+l/hP2wg9trVx+A/lLKS5QMY4D/TGOAE5tTeP+m+7U+xg90/3JVLKOZL3D8oerYiwtfaP7R0Dq294Nk/U4bnBg7V2D+wXL44a5/XP/dbDgTcV9Y/6a1YgeoZ1T9vC/8DXNrTPwGGOcNVpNI/TDIKk/uQ0T/ufkPLgojQP799htjPLM8/K6wxAFcozT/3ufzQJzLLP4bk5lW3Q8k/XGIukdJDxz/ByjbLgzPFP+I7QTO9ccQ/8ixaSxGIxD+Nseo5TJTEP8bGoMRbicQ/PIT6fNqFxD+2Tq/gKIXEP3pHg3W5kMQ/Elr1HzfExD8l/LR8Tt7EPw8QGkbs8cQ/dBjrgjryxD+Ptge5lufEP9l6u24p7cQ/Aey3ckPnxD/IHfwo0efEPyFwtkIc58Q/BCXI0KjnxD/3Z5scAW61vyfurwgXP7W/gghG0x/Esb/sNjgMnKylv5U8x24x3H6/IfB63gq+nz9tLX/8LWmyP42/QdJ1gb0/WWnrGaEKxD/R5Xlw+PDIP2cXrX/iGM0/xMGOhEHK0D8+q37CP9vSP7HkL0l+/tQ/eMKdXJcf1z9cVy5e1jTZP24r1Scxx9s/2qYRTI6t3T8ECryKQ1XfP25f+JEXXuA/La2wPJH14D9W8EDBQnbhP4u897uI7+E/3gHNPnh94j9ARglmrh7jP8P3GNoRv+M/2bG/z/0+5D9RB2bhOrXkP5F2JB37EOU/pfnoSl1a5T/Vv+ggZaPlP4Xqbu315eU/j8vy4Rsd5j+D823qDkLmP4SZPpSFW+Y/7V5o7Vdk5j+b0XaLy2HmP4yssVHSVeY/jnokXCw/5j9QMiZ0fhrmPztIgSXk5uU/sgcXMuuZ5T+YYhHSWTvlP8nHVmbzxeQ/c6i3xPhF5D/sqMg3ZcHjP3+sbstdP+M/cI7cF4644j8dgnVEKjjiP0bFEXKryeE/fGO9Kyxq4T/R4EjUCg/hPy/CqnZBteA/kB2Uh91o4D+aGcg5qjjgPyrbv88qCOA/zQBpyH2e3z9VtR0RsTTfP71JRcM7zt4//Wj3U5wU3j9M8bQPnmbdPw3PLWplgdw/e+0pYYVr2z+OvNOL0CfaP6sStiZG5dg/Q0q6yNqX1z8Yv4SPTE7WP39BRLA+F9U/U0O5/GT/0z8Wh6By4wTTP/MAYEw9HNI/KhUp1AyA0T96xR6+N+LQP5jWlqwhWdA/gDP2uFRXzz8pNNPdRkvOP/jsi8RtJ80//1fptkkNzD8s4+v0DqjKP/qky6dmQsk/OhgXMN2Qxz/9ZZI+jgXGP36RXKRIfMQ/X84rxJxxwz+NOz9LnKjCPzbjPb/q5ME/OVEJIdmWwT8fHjPCKHrBP08NMlIOfcE/KCR3eVB9wT/yYIEHKn3BP2ojJ38LgcE//WIJV6mOwT/htcjEvY7BP/NKudQ+jsE/8TV0LLqNwT/qoOf1pI3BP+PLLdixJba/8gDKjp0btr8Dw7Mx9d60v1SM6Bt1aq6/yCFA8su/nb/ythyWZx5RP9rCJY63UKE/OpPcGfvssj/YcmLc8dK/P6mFpIYeD8c/3gbuqwtQzj8vaiYHYdXSP3XPqxkSidY/N0Kt+gUK2j8Dj3MROi/dP/CTeYdI9d8/Zpdew8E84T+OlgJNzF7iP2KltWeMXOM/xR2LUqU35D/QdbCPHO7kP/5Ey97ie+U/TP59Qwjq5T/L81S7eTTmPw00xVafWeY/NUDUJ8Jk5j9zmWiTGVnmP+3K/W0DOeY/eEP2/RsD5j/iI30Xtb3lP8/iLLqfaeU/CKi6p8oQ5T9PFDAY2LTkPx8W11KZWuQ/QyWpC6Ty4z/jozWDinPjP2W8XOan4uI/J/H4bWs84j/YhTkgo43hP93ROroMz+A/iQVGYcoS4D9ovWeA2L3eP0ETmIyhhd0/V3ZPxVls3D9lkyV8q2XbPyDnfmvih9o/66Ss1cOt2T9MPRYZs6LYP6nzH7Lmf9c/FVszc64K1j+ErAisLUzUPyFCd/n7Y9I/asXjQoxt0D8xe11iD+/MP91xd12MTsk/MaJgWC1Hxj9xCSKwjHTDPzwy3Lwd4MA/ShAohb1svT9ps4x+v9u6P2aqNF0ncro/EDhyh3V/uj+wN80hk5C6Pz4K9t9Riro/YeXz5V2juj/9CbwBarC6P94fRhYSs7o/C2Aorxy6uj9YourAg7y6P7T9o6yTuro/dNkFqjO8uj/JDvD1Jby6P1/8eZ1FvLo/juR04HDIuj8DNUJAa9O6PxYEDF5fwbo/abz00ry3uj8jOgPOpve6PwP+WjWQR7s/x7QnB7Zxuz/mltxBxna7Pzn2QUKWf7s/ddWoBKCSuz/uVM7bUry7P2nk7Brn4bs/w6NQm64zvD+5BaTL0ny0v0oWTZQTfbS/Uornn1HWs79qaDcthnmyv6Qzq9Rnqqy/+K0pFE1Znr9MDAMUyZdzv4stgRi30ZU/xDiQI0GDqj/8XU1qZuG1P+fyl7Tpbb8/F+L3kSrGxD+EtPaYIdrJP7Qn2G5lPs8/S5bE5g6v0j9LXr5CNCHWP7YPN5a0oNk/2oYs0Ub23D/8B8gXytrfP6jT9zMiKOE/JVhXOrU/4j8rYksABELjPyxt9a68JeQ/Y9AedoLl5D8Zx6S0KYXlP/0GWaz/CeY/7eWcuFlu5j/YdfxNV8TmP/AzbhRI9OY/WPlxPIcH5z/UQ1Tl4f/mP7cq2pjx3OY/jY21xyGf5j+2sHv6DErmP2sRbODl3eU/YywDd3lg5T9dFD6rzsPkPwuoMEs5EOQ/8SjxAIBF4z8MeW+XBnbiPwQNgirJq+E/ZkGUqQji4D/BGFmxNQLgP0dPj2nzMN4/wMVUAzQy3D/5rF/bCS7aPwImA84+dNg/pT34xtU/1z+KWxsmC5fWP38L1U67QdY/pNvKLm4I1j/9olqwYrrVP8dtZPWFRdU/hmAhdemc1D+bTsXdv+TTP5rCPFPC8NI/cLWOYfDu0T8ooKARadjQPw27S7Ggtc8/MzwlJ6fezT88WmjQmyzMP0WdZTX8c8o/q9R1KUkbyT8xm3X+sBLIP0QOSs/QzMY/mhoom2e2xT+T35r897nEPy2bPPWgjsQ/3fJA6/GUxD/bhTT36JPEPyMg3JZ9lcQ/YRoJRc2cxD/Cheucz63EP18AWVfbkcQ/sSGTG6yUxD+/OWkTjKLEP5pu9KOUpMQ/ngxKGsuexD98Hu0bdqPEPzfrFMWMocQ/7TfAxAGjxD+OWeCT463EPx4s2ojbr8Q/IiWSK+uxxD9rhTmfcq/EP3lXjyFDr8Q/GTtx/gCvxD9Vr+7JbK/EP9Tor90Zr8Q/dkwRWAKvxD+Ju7QHBK/EP/3nW3/ErsQ/RFFFm+WuxD82cL09bavEP/JuMvQRn8Q/x0b0aFOSxD+gR5pxDIrEPz0iIpG3ubW/aCc285nItb8e4lfmoCu0v0wUeiWI9LC/sR/jsD/9qr/UbWutmnmjv6FXCOPziZq/Qjg71Bm1ib/Z1kEILatwP/bpuqG9Z5c/8iMKOb0/qD9AmlThwCizP/kDEmBoFLk/u6L1TbhFvj8PGe91tdHBP27nB1JR68Q/6EtuB5Tjxz/XUgLpNdLKP9VHD2k+s80/H4ORKD6D0D//hnWdZFfSP3Eesc9jN9Q/W1kTpIzt1T+1rEeLQEHXP6ua0s2xbtg/pKOtxIyF2T/beXm/f4naP1yxmM9onts/6QraFLHR3D/VeFK31R3eP7VKSKaZZd8/yPi8/Tdi4D+ejH1viQ7hP9yHQYdMseE/VxrYly9H4j8/LwKqwMXiP84peyxfKOM/MZqDFEOR4z/1h19zdt/jPzL0xL9YMeQ/wcaHevaH5D8iTgPtG+DkP2+onl1rROU/CJQgeVuV5T8uAZTiQNjlPyfS3IJOCuY/bXfILv0m5j/Fn69KKTXmP/KUHt33NeY/7N9Z+3Qq5j9T/D20lQ/mPymqlw135uU/2wzlWVC05T9+RplmSmvlP/4YKgE6I+U/oPfUq6Df5D+sxyMOb6TkP4gmpou7YOQ/yIpftZYc5D8kyIvP0dDjP7YsaVVSfOM/n+Q10ogT4z8K0b+ZC5/iP9fHmLZWI+I//qhPiW2p4T8Dvm1ftTThP7EDzQXkuuA/kszZCHE14D9j0o2YJkvfP0osMImZK94/d6czXtER3T9PGMRDb+vbP+UAJwW/vNo/u3bE0Rmg2T/ae+2YuI3YPz868F/nj9c/VScnYIg51j+VglSAdDLVP1m2AGTWMNQ/7CS4474W0z8Jr6ODgVPSPxQMeuMmi9E/lomjMAOs0D9XeSEttZ/PP0a3Idi6l80/3dilvsaSyz+pBNw52m/JPwmL0pCR9sc/oFKVMOS+xj8eYke91zPGP1g9QVT3OcY/+HbKveFHxj9O5wQC/D3GP2cKwGgBRsY/VXhEsqpBxj8uyYcPPEDGP0raGei1P8Y/8qDPV7A+xj9vTM4yTT/GP2jaqKGjP8Y/ejxWtDJExj9DLhTefkDGP4vzMsAZQMY/mwy7avtFxj/OZHhvq0jGP0Y+xVh2SMY/dWQSpOVHxj846Nli9kfGPw9kFc4oR8Y/ri6zxTpExj83m6XJBUTGP1kMrFFsF7W/g1idB48Xtb/U4583g8qzv+L47sRiM6y/AB1MW/BLmr+i1SgDUnV1P/Rj/HOH2KI/rKms1fp3sj/p9fv+w5K8P1ZatMy/uMM/hkWwdRagyT8ctp8sB+bPP3T4kXEOCNM/ZzkJ4m/p1T82AbvuMOnYPw6lrnGfjts/BrHBuKci3j/Un7JbSEngPzObsVOlgOE/PhPr+KSH4j8fhLW2u3XjP90R45UfXOQ/pCZIYeEF5T8yzT18N6PlPywJUnkxMeY/lbl1AdGq5j9pTJdufgznP2u52q63T+c/7kuUG4d45z/jd5cw13TnP6Z6iMlfVOc/yLTURx4W5z/V80TB+r3mP18ziM+fTuY/wd+ExbTD5T+VNueKwSHlP3s5g6JvZOQ/8/D033C34z/Wmanc2vHiP+Ma2SryKOI/dq5tN0tW4T/+yuE2O4DgP2CEGmqXX98/+F9iPLze3T9KMpE2xovcPy282pw6dNs/ag79XcOw2j+umJQRlN/ZP7KcO5OI+Ng/LKTONpnv1z+mfTqc+M3WP5NQAdBErdU/DDAzj8uT1D9x+6klT4LTP8BoDb9dV9I/x8J1wssk0T+WWR/O4KnPPyv/3OVE1sw/1sH5G/Qmyj9hzhWwTazHP1I3bby9PsU/iLt7QemRwz/OOdnkP2rCP2zIxn3jp8E/WOy/2rMYwT/6P5Uit/PAP/eEnms408A/1MO6XMqewD9ISZ5ld57AP19qdk5xiMA/qsNOw9eAwD/Mro+GsnTAP613dXZdZcA/1RPEM1VswD+PGm45cGvAP/ypwmJka8A/rHCU8dJmwD9aGtNaqWDAP2bchYQpUMA/JIqaSHJnwD9yGGZHclbAP0uDF0raU8A/yXP2PtNNwD+o542nIUvAPwWEg2ZaT8A/nrkynvhCwD95STgsgjbAP46070w7LMA/pbMr5zUpwD8z7oqTuh3APyy5CSz0GcA/5KPVT9UIwD+hu/CV9d2/P+eM6pjAt7S/lF7OPaSetL/071vfKV+zv9czQ1/irLG/XTNY4k7Yrr9PC0oLJiKqv6Urv9uXoqW/v9LkHyVXnr+CjTApG4OEv7VHCxo21I4/Bh+orojJpj9ql6eR6OmyP31v7zG9Ebo/dawE2zeawD+5gwUodjvEP4TqooYxEMc/71DogBDlyT8UWouc41nMP228PwXn084/cstfiaB/0D8kMzsq6nnRP3twQTgqrNI/TqyXSUBJ1D80b59BjCfWP0kdMEyg7Nc/jTjd8/Kg2T+66wcBox3bP7fqk3Ufgdw/Smqilpbh3T+Y87XmwRrfP3QvWynSFuA/yI+7STKU4D+pK4ZOlhLhP9vnsot0k+E/lvhmW3EV4j9znPIPB5PiP89GE8cQA+M/UWP7vL954z+Vpa8Z6e/jPxxdAnptZeQ/1ShEA4jU5D9JeBqKHj/lP3W0q+V0neU/5AQF9ovv5T+1SuDNgi3mP/+2UeaOYeY/Q8TxlxyJ5j8GfudUDKXmPxFYzSxiueY/jFyjquHI5j/osPP81tPmP69vjcsl2eY/EczcQyTR5j8+vRdA573mPxZl4jcOn+Y/9GTABjRp5j8AJfNcCy3mP7Y4hfLk0+U/NgpipM5i5T8mTYeggeTkP+9STe+EZ+Q/aP3d/znt4z9JVbyTFXfjP44akMQcB+M/hEg534Si4j/yqAfU7TTiPxSpLXrYxeE/ly+pufxb4T9OIdZ05+vgP10PqfBIcuA/hq500Crg3z8Imhx/GNPeP/GOTnl+rN0/JNToxRd03D8wt+pTQjDbP7sNSVvo8Nk/zg4cNLyl2D99wn4zlpLXP/tRhdB6qNY/Sr668Duc1T93vx+Ad7nUP0Jl9nhy2tM/enB3rX4C0z+rIwvNKhLSP3bDnjxX/dA/UEls/gbFzz9YTftvsG/NP+1Kxnx+rso/fIVUHjbKxz8cmhdNF/rEP29wtgBelsI/RVewj5r9wD8s+KwYfzPAPxn23jHWCcA/MXFvMpzZvz9Xo2QqB6O/PxxtaAw6iL8/oFZTCXePvz8sj72i3o2/P3Cs6q/xj78/4gCjfmeQvz89ad4iBJG/P0CO/cGLkL8/2lPrnhSSvz8Iq5s87ZG/Pw7QB36dkr8/mInkI7aTvz8QqUBuXpO/P/v6hcuXk78/BfWpSgKTvz82tVLu/P+zv7GgQslO37O/IgbOCWkXsL9HVwS5b9GhvxT1Folqr1+/2sE2OUeXoT/VZAjqvl6zP7yipnJtzb8/Q1kwnSp+xj9Kw05XQ13NP/uUE8h08tE/KHzYXvGF1T8ma0cD0K3YP9KzUSk8R9s/aMO4PRSH3T8Iz0DD4p7fPw98Qb9r0eA/7lKn1QzI4T/WgMQBjajiP0EcqqDIdeM/pkwsxeIs5D+ZTgyXbNPkP+DdyyUTZOU/kfhV1kDX5T/YC7YO4S7mP7j/pMiIaeY/3vUblaWG5j9QoFlDcoLmP7xy/5QWX+Y/lwjznHci5j8UiR3DmtLlP72s3DRRdOU/8fqHsoIG5T9X9YGz04LkP5eFAp0O+eM/F5vzz3JT4z9vsauxqaXiP6Lb10ev7eE/1i+FUB0b4T9SCPvtojzgP4JQ0rX3yN4/pj+SjVsx3T8I+6Gez4bbP6EbPBAzztk/QrSCD78u2D9SKOe0kpzWP3M4+aoFBtU/nQeO52x10z/Orr9ISyPSP1EaSSBXAdE/Vw/dfS0O0D9/a+7OehTOP/jTXKSj/ss/THPnacrOyT9YJ2GDX9DHPxbWOxeC3sY/s1p6zJjGxj9a4DkpqNTGP3h1HAQqucY/m6JJ0byhxj8IH7a8HJDGP980GKlFj8Y/In+J9HGkxj//Wd1huaPGP+TMrGUNpMY/sJGDww6kxj+YXPKB0KPGP8mw/sYwo8Y/wlEEj1ejxj+uAHdzUKPGP0QzmlMbo8Y/apkVruCixj95xp8e16LGP0SQoNR+osY/CTbEefqgxj93x/bU3JLGPwOEeMPSbcY/w3DyKv3/tb8t2xEK/f+1v2geLfH8/7W/1GNeMP3/tb+G+/MM/f+1v/xpETH9/7W/H6GL/Pz/tb/i0tcT/f+1v1/2GSz9/7W/CNW7+fz/tb/eR643/f+1vyM3V/78/7W/jKx5zqIDtr+qE+/6E3W1vzqeeeu456+/IVrtIJtylL+hlpg+Q7CkPzKwg4xkYrs/I/U1QjPgxj/c/vSLiS3QP98JOIGqtdQ/NmySkTTW2D/5gsp2a2zdPyQUR/cjLOA/YtYC8pV74T+rvqWG/qHiP48DOV9lkuM/WsYsif9n5D/aCkz2MxrlP4gPmA6rpeU/Fi4GuiMM5j8zLmMBd0rmP2/xZVwaZeY/i1ZFFURa5j89OU9hnzLmP5ZNAqW66uU/g9WBUIKT5T8/HTfpNSTlP2o4U6arpOQ/OpcdHk0I5D9VUtQ6alHjPxMvh890gOI/4pv1+VWY4T9Kf/s6wovgP5zakP0+x94/WRrsgkAI3T+TjrRj23PbP/sFPUI8Rto/LIHbp6V32T+MBHh+NATZP+Hemh2aodg/yW1CyzU22D/iE98dA2LXP0C54Ck+W9Y/M5kdhDkM1T9GUdb6QbLTP8s4yMuxHNI/WbME2s190D85BguTzvDNP5Y566uR1cs/j0TBQCU3yj8rKtQzSN7IP3Azq7BIy8c/7larSAgIxz+jtNWeQqPGP/Mpb7UDgcY/zVylv0mAxj8Wk8Vpc5vGP9xZnJAMl8Y/mJ45go54xj9FPhDqD3jGP5jM8NDaasY/FMJPtq5mxj+DAnl9HGbGP4uTZyGdYMY/FYfhj8hhxj/YHFOPWV/GPzhMmyWFYMY/CYw9YA/Ntb+jlVRL1LC1v6q2Eu5oyrK/3Q+v3hroq79/j+MKBcagv9qXbLbytoO/zGgy3f0tkT+OU3cUeE+oP7o9uD0G9rQ/REFRc5Efvj/zhr05fw/EP1yJBLA2JMk/LtOmqGl6zj/g7dApGAnSP1w640611tQ/6mEZFiNX1z9yEJ45oprZP1vcUvkT5ts/QsXX310w3j8i7m/BkS3gPy0UESNiJuE/K44iROQS4j83CuCDj/HiP3tr3F3nw+M/VZF5bcR75D9PkyGiyxLlP6gvJ0sbjuU/LyfqWAfw5T8vHKzhgjzmP/B8isF/ceY/2ErBU7qS5j+73OPPgKTmP9Y6J/JaouY/dKbAP8CL5j9RcBv+x1/mP8rrG/h+EOY/O5tUktyq5T9ZsnghMjPlP9anMD+9q+Q/ckkfqEUb5D+esfJVno3jP4w7oAmGBuM/jSaCt2994j96xRvUD/ThPwFK3u3PaeE/XqF3717j4D8przLKWmTgPziv3aob3d8/7HGMpE/03j/I1cVkPSHeP9RqJvKUet0/Js6QLCfi3D8ibJRVJ1ncP+P1xObuz9s/l+HsBu1h2z9rw5DqcebaP3Yrv7lZeNo/pEVd7/Qc2j/cNQy27rbZP8V03c/0Sdk/Cpu3QPv22D9xfM0W3YvYPzXaAl9Q6Nc/YutDwnI/1z+4gqM1r4XWPyTTXMxH4tU/DHt2V+T81D+tWxD01QXUP+xMH5BIE9M/53Y6c0dh0j/qGhumW9rRP4fSU6rNgtE/G97tVS1d0T9dxWV2CEfRP6DCkew4ONE/mH9vwl0s0T9keprYoCvRPwMdOsfQK9E/pTuHz2Is0T+gAZX0si3RP6lbM7H0MdE/ygNiAZIz0T8+SScQeUPRP/SrKKXpXtE/rQdewg1y0T/xcntZ5oDRP5g2Q4sumtE/HBZjXT1Ntb/liy8/MT+1v9kFnXQHjrK/tbOD9EZAq78jhUuQMn6Zv/qWSYyFqHU//hVZdG8VoT/aAOXoYyiwP6GRmDdpMrg/hbeFARvEvz/ej1No8M/DP/0wBaix0cg/4j8FC59gzj/x+ZstoMXRP6MF32hontQ/sjGkPRoi1z8YErJOwYzZP1WbYuOnxds/z3S3voTi3T+4aLYAWPvfPyNAmYhdC+E/FcLTKHsA4j/veBu5o9viP6o9NdrVruM/8k+ciGls5D+N8ozULRHlP5lE+Rf/m+U/UNN//qwN5j9dwUuIwGbmP913X7ZLn+Y/5IFse76/5j9Wo6sPoMzmP3jOADzxyOY/cBhonEG15j/w7NoFn5TmP6YAwO++aeY/y5F4lm855j/3a/ujIwDmP3TrLLIXveU/tAJXoNp15T95GRIDpBLlP7EOPXB3nOQ/YTVONEIU5D/jDxgBTHjjP09/w+8qzOI/1P8lqDMb4j/VNDQQTV/hP7VlT0ifq+A/MN+RdJMH4D+mtb2o5OTeP92w4Yhnwd0/9047dmWh3D/nQOq5C5zbPyqiSOWUmNo/jqjatNux2T+GGXPdburYPyU/pkCvJtg/bBftmSx61z9bjh2s9MDWPwslQb6eONY/cEy8GnKx1T/2ATLOB0vVPw0mhIePyNQ/LJCqhSxM1D8ZEsBkiMTTPwSTaaZNKdM/FYHSajKf0j8jU+IAXi/SP4ojOwTApNE/GX2NuydA0T9qenGeyTDRP8tecwmXO9E/eSnNzl830T86pju0dzrRP+2YadknONE/UvEEyzY20T/nXFvDcDHRP5YR4JsVK9E/SezGpWMj0T8M9IONlizRPw7pYMKwMNE/ZodTisgn0T/hLUpEfCPRP2c4joZuIdE/619FrDsT0T9RszsoQxLRPyPkVog5EtE/FL1at+mzs7+fxT5VhqOyv8KFtpeCV6y/AzdqEXiIob/rrULDzjWMv/I6UNzKvnu/RvjYZW+ceb+48+fbkI92vxQGB+ddyne/PY6218/BeL95CRzG3lFYP6FXrj555JM/plN321fkpj9u9vj+0XyyP4TJCwEIaLk/b4QG4OFcwD9tgHmSIr3EP9u6MbT5Cso/Xh8SSVrqzz+bxEjfdCPTP0oIMNixcdY/RyQxlXe+2T9IYOWLoO3cP3MGNcea998/g2OZmWpi4T/isvaQrpDiP55QDBo0vuM/miEKGAi05D8jL3qc23blP798FFYNBOY/GIFQgPJq5j+LGdr/nabmP/TpxE24xeY/FYuGIZXU5j967II7s9nmPwtRYNhH1+Y/L1eesRfL5j/0nQCYArHmPxser4prfuY/4RFtbTEr5j/xwKeW5bblP3mqCoGvJOU/SnRL7Xdw5D8bjnJzO6bjPzrOAgdTwuI/MGOPYDHL4T/F/XYAEMTgPwRd7yWmht8/MfY2LISM3T+X59S03r/bP4sR6gc+Rto/cb2d2o0v2T/CUi1bFlbYP9yexSjmpdc/g1sKc4A51z/vHfQoJrTWP2GIpGhQDdY/7hOz5jxP1T9RoHoho2zUP9y16vydUdM/mz1sODQR0j83v5p6w4/QPzjqju3FCc4/NvUhjS3oyj/9ddNwY9fHP9P9k02N6MQ/0JwnXsx6wj/GCeX3eszAP3XgpM6pJ8A/+wWD+TM6wD8y/WLMr5XAPwu/nIcO8sA/02abHnIZwT/yYBfdbA7BP/SuZ5kiFME/1MQgnAcewT/ttLfSzy7BP5WqlxKlPcE/piLyP0k8wT9xwYFjIzDBP0niY1LbE8E/iSCyO+vYwD8QWANXqbXAP/gpQO3SasA/+GiPGasKwD9q3v1+rYK/PzFfo2sPdb8/xBMloa9rvz+1J1evpZa/P3YlItZDub8/EjXVoyDGvz/5yX0ykMS/PwOZCclCw78/U3J3Bs7Dvz/vV+jEpMO/P3pRZUUIw78/WOhavaXCvz+7u4NN+cK/P/39R8eiwb8/CjNLkHl/tL/3Z78E+oy0vzayi4Ss4LK/hh38NTNOqb+5epYP5GKLv4AHdoP/h5s/F4TDAR2Csj/o8P9ro4i+P0DlXeohUcU/1Di0sPiIyz8ybNPrDD/RP5d5iwBHbNQ/zSc1Qh921z/L3DOTm3baP7Xf05+6UN0/ESOrqKnh3z9TbSaupwvhPyEUAdiy9+E/8+Yx+E3S4j+hmEdkUZzjP/gLoiXxWOQ/cHOs6ar+5D+oFcY2/IflPwVKxXPa+eU/DyXIOfJW5j/GnRzRT57mP88XSdz2z+Y/o2akZePq5j9QkCoJx+3mP/BNRBbx2eY/p+V1hOmv5j8kRmi1F3fmP3nBcF0aF+Y/Zwju7fum5T/YBbw1ph/lP5IL+Lwoh+Q/ErTD4rr54z99u4T0aGnjP9XrvMXL0OI/SdJnF8M14j+94cgwUJThPzBOaYLa9eA/Z1zWMzhd4D+4Yhg59KrfP+ezXWtmkd4/KzDpwyRK3T8khWsvdDncPxPJgbdWMds/RctAHEbk2T8QywfdFrHYP6IAgwzkUNc/9BPyN4Xf1T/WkzyzCqjUP4zzEzJntdM/+x7l3gTl0j/5xvRB3jHSP2zpBNuWltE/e9oNCaMi0T+jMtKLg8TQP+mke7RAYNA/xs+/2vMQ0D/IrRcHo6bPP7t3NIGSCs8/q0Wb8hovzj/qCaWflEfNP0eNei2mGcw/otolKkbZyj9hKnBjzkLJP7b4N21Lucc/8ArL+DMVxz8Ne9TwOQfHP4f42y7t/8Y/9YMWi1YZxz9Ah/X+dxrHPwlcQtsQE8c/uwEl3IYRxz/ggXvd4BDHPzVhhp7CEMc/t/aWVpcTxz99/NSV4bizvwU8f84+X7O/pG4OKupHsL/5ZwvjLmqmv78Q9BepzZS/H5u7hyRdN79w+2Ey4NaRP+NTgrCp6KA/EVAYupDJpz9KvmWxpxSuP/elEHaJcLE/NhLOo/NWtD9f8r3WS8q3P5CK77PfM7s/GgRlOYjYvT9VDA2uU7zAP/wrteDH1MI/GfPRSVNvxD8FBiH+LbzFP5be1EG+Ycc/d08l5v0+yT/ICsDTwCPLP4LRTiTaLc0/JZC5sDpPzz8OBdm1qIDQPzPwMIVkK9E/9q/N+XTX0T+2iQj/PV/SP6/tlAb3ENM/PlLJBJPb0z92GPEvVrjUP7ftW+mNv9U/KHuvDIsg1z/fo7o0M7LYP1xxEc9VXNo/dJtshLAR3D9SToTtqaDdP5Nt3VwXCd8/QT5Z/oMk4D8VVSpsz7rgP610vUi1P+E/27tK6i2z4T/3QO9iVQ3iPzn7AYzvW+I/LykpHlKY4j+Kg7tmQcviP4OL51ck9eI/ikRFgBQt4z+kEA14EGrjP2vDI0qeuuM/i76/8bUS5D+4GbH/WHDkPxo1OOwb0+Q/mRSMDHIs5T/yrNETy3blP5oEtQrSueU/VrjHGGT05T94I7JMSiHmPzXrFq87QOY/V6/W97VU5j/YCagI4GHmP7uqL3ePZ+Y/g3CnX2Bq5j+g3nxMhGrmP/YnaLHpZOY/Ds6C5iFZ5j/asbTtIkfmP+ze4HdrMeY/aa+nnSAZ5j/Fxule+fjlP6gMTjIK0uU/iw3gcz6l5T+GbIQBFHLlPyLXFwMXMOU/dz0h1jvk5D/wmdhV85HkP9L+HO9aOuQ/3fQUjWzj4z+s9t+GDnnjP+bB6eJ6KuM/goWOLz7p4j/7Xdt8UbPiPw0wMWfNhOI/ts6o6Atl4j/T3kZZV0TiP7j79CmoGOI/yJRDEXHj4T9Fx2lO9qThP+KdQ6HIWuE/6pL7IML+4D9iBX0YM6fgP1nJX+uNROA/Dr5ap9vH3z/5GQRX0fDeP3PytBBeQd4/pAvFqrV83T/drcNmmbDcPwUX0wbp2ds/dwwIHDzj2j+FHgokIyHaPzQ9K9GPXdk/HoQEvJis2D8ck+iXPfXXP/0Y6Zl/R9c/KG3Tweh01j8EzJ6PoJnVP4ZHNiaXnNQ/f9DPLly60z+3oQeTiNLSP4+dvPUeuNE/fMIZ7x+N0D9drt5mCdjOP8io/K9cpMw/68HGINPsyj/Ghmah8gPKP5sy+krJpMk/u5pr4pG2yT/i4HQFaqbJP02/H+G3u8k/qQV82GK9yT+U1dQXocPJPwW9t9jizck/RCWAOjnRyT9VtLr9NN3JPygO3El/4sk/lY5QCVrkyT+Rq3/souXJP+EFdTg158k/XlCE+HrnyT/8Tzr5L+fJPyfy7IVn58k/ipTn1V/nyT9X7uh3WOfJP5IVW4qX58k/5qqvNBvoyT/p3WUfCOfJP14LkiQX58k/PXVvV2wStr/BBSE3CfO1v6RqkgbLa7W/+NGnqpHhs7+m3pb3LPGxv8lOGVVxQK+/HX3ubgTHqb91XL60L42jvxyz9/1hOJi/U3LNpyLBdb+wz7ytdkaQPwKRGGdioKQ/A4Yan80asT+VGTBPBOu4P2JwIiX83MA/iwTcdaEVxj9jjrM3X1fKP2DskZVC+84/wleqI4P90T9vJ+uCn4nUP6xAP8+uFdc/Kh9OraeO2T+BOFTCZt/bP6j/YBbGCd4/HrtCYMIF4D/CgG90svTgP9+MP/5Tz+E/lgtQss2f4j8pIPohtmLjP8X9xiscAOQ/ISehkud65D9xBaX7zPTkP5q3kABfZ+U/qgeB7QjQ5T+xfBrBBSvmP4I0mR5gc+Y/RwTTTfWq5j+Em28vedDmPzBNA5pj5OY/QSC+Hqnq5j90yjCCuunmP8qGZBc93+Y/FWqWQojJ5j+tBLFgpaTmP8VuWilsceY/IUrlCPY45j+aEvpPMPnlP5xQS8LBquU/ek3V7hVR5T9gGAw5p+PkPw6YdK7UceQ/AAFganHl4z8p4sFozEvjP77g//UIouI/5Dqd3rLl4T84busRRCrhPyaNqp1QceA/LcLPQF+K3z+xewOz+8HeP9QUpIMkit4/sR2WyOej3j8biHT0z77eP0c0TNTT1t4/367JhhLY3j/gw/oyYs3eP42FGt2ru94/1pNSJm+a3j9cGq4JYXLeP1JuxFP9U94/cH26mtM83j+TXQE35EHeP0/7aZaPX94/SRa8cZ6G3j/wzqbunX7eP1LZRNYoF94/fPkRZG8h3T8n9a5TgdPbPz9cFG/aWNo/1a2q0uvw2D9yi6joYKXXP95qEJPRUNY/TOcaYFOJ1T/hIFv6ztHUP5HYThlmW9Q/s9R0W6n00z9JnWLaOonTP1yDZASgHNM//wFrRzu60j+UDMeNp3nSPwUaJrekTdI//E+uwUYp0j+aDTaCDgTSPyTrzK1l2dE/l90lLHCa0T/jt1IM24zRPwpiTDN1ltE/KBmX5QeX0T/55PdXsZfRP3JQZb0XmdE/AAzlD1ac0T/xkztMKZ3RP3o1lGYdndE/nr5r3sGc0T92qT3qD53RP86zfqwTntE/N5ApbHie0T/HdHgsO57RP5QC5zuJntE/8OJ2Weif0T/HED0cjKXRP3I+UTGAsdE/b68wHs7M0T92n0tRguvRP4jZzJdAD9I/HyEGrpw80j9gRw8QXknSP5eETr/7MtI/LG6w+rTjtL8V8lUvTh21vzEE+CzwMLW/VN/G4phwsr+AXRXgsfuuv6Jym87Bqaa/9yDW1atjlb9BScixR2aFPz3DRbs5/ao/m7YwezVNuT+fD2ff0ibDP1QKR5hjzMk/fj/KY5LQzz8EZUfyHpbSP//biYXdqdQ/2fvXdpz41j+NJx2oTGXZP/9YZTFI19s/IqiIKY0/3j9YC6a8VULgPwhR8KXqU+E/9Vpk6NBM4j9r9ppHbi3jP9Axp1Wf7eM/i4nwgo2Q5D93WwMuvBvlP3O/a4PAiuU/Fk3c8+je5T9SUO6f5RbmP+VzvO83N+Y//vDTh7085j/S1oWDhyjmP73U06Hj/OU/G7yHARy55T8GcdyHcGXlP8uyyh7bBuU/AwVkK5eX5D8TQ/QD5wzkPzr+1ilpceM/yvihAHTC4j9SC7XDpv3hPxgxhdZ6MuE/s94yO3Zt4D9etxQgCI/fP1YorGVpKd4/DIPGTOWO3D9s3MqqdOfaP/AF/7E5U9k/s8G/5bWY1z91XayYhNzVP2FJRDILMdQ/Gyj/HDS30j9geAEVt8zRP2VOb3WedtE/lJJKoTQt0T/NJ/aRnb3QP77BSWN5XdA/bt553Qzzzz+GF+hMeuHOP4bGSvxsgs0/y+A3v5kUzD8BH6wvmHnKP0ob3wGBEsk/aWFGRJfVxz+vz+wFuabGP3LKk1xFwMU/33VmMY6jxT/Dqnna95vFPyjlfdpzmMU/p+CWIHeFxT9y47y9UpPFP0OkjMijlcU/r1YfOox+xT+OI4VgQnbFP2BKpDQ1d8U/jlwextt2xT9+4mzDz3TFP22cQ+6udMU/8cRAVX90xT8Oi4b49HTFPzeLv/8gdMU/QYKezEd0xT+F8qpdznPFP5rqelBgdMU/bZjajAR0xT99uXhXEXTFPwB6kSCcccU/cUrec7N6s7/OkBW1THmzvxtPnBcAc7O/ETc1B/gzs79QKL1SCzazvxn/gU8iDbO/5st/uaIdsr81u6mdbBWwv8SaHipZV6a/YlEu7EhVlL8T6ZhOKPNoPx1R1ARhQqE/rB9+MjX8rT/8GgbwK820P11L8wxWfbo/KZo3MapRwT/6QUF8oyHGP+XgvOiFj8s/+Ii6ZUcc0D9ALNHraFLSPx+1al3Qf9Q/EM6lrdaN1j9TYygRIonYP78AskGVnNo/oicxPxd93D+Co7rH3JDePwITt5M7SuA/Lo6R5fg94T9Ijw/m5TDiP0kAkN/UGeM/lkIMPET64z8mFjT7McTkP9nkqKWCd+U/De5j9yAS5j++VIRXl5TmPy5JI10XA+c/vicl979o5z9w0+DAHrnnP5S61/Zx8Oc/4APTxi4O6D8Fz1ieZQ7oPzH9q+LI7ec/5e/tFOWw5z9D8SoVlmPnP3/KvVXNDuc/exN9Aiuw5j/NYOvGdFXmP2/AM4x9BOY/QGd9E4G25T/7uzHjTm/lP8fDVushJeU/mGGakgHU5D8f7qp+gnfkP1wct6ezFeQ/s3+i6i2h4z/vlzaz+BTjPzMStcvReeI/fwINJm7V4T+9lCzo4TLhP3dqk6FRk+A/tLD3bEPh3z9aFUJZv6bePwFVggwuiN0/9TyToBRv3D/54OUZq1HbP7757k6rSto/loSGuwJC2T8uGpg4kXLYP/RoX23urdc/U8vmUSgf1z/WaWKBZrDWP1wIi8pjWtY/yWjLtiDP1T8R4PE1+P7UPymH4YsjD9Q/fFAiwhks0z+BP4BX5kDSPzrQk8hhhNE/pi8y/pnt0D86OGal2I/QP5IOF7f1bdA/aZCmHohT0D+VpqICij/QP2y7WbgMKdA/j4A7jAQe0D/sFINWUBzQP9FB9Yg8GtA/BGbJVbYP0D/pWve+rw/QP4jUWzvoEdA/xOavHfER0D+xgskE6BHQP1iV2cHTEdA/IMHbo/8R0D9b/FdArRHQP1WSCkvYGtA/KpJvlFUj0D+CEL5s7S/QP2/sF5/fM9A/ircuKvku0D/14KzbjyXQP3jaj82GI9A/gN8d1yIp0D/obi0VPzbQP5qtT1vwTtA/D1VREHRY0D8m/GPbq/m0v5AHlXm86rS/vAwJilM0s7/NE8jvB6mwvxFC/BnI9qq/Z3jRZBkTo79663kpIfOSv309+tGfc2c/NFynmIzYmj9DJKXRfVCrP9L3AnMQK7U/schTuZSvvT+YP9kv8gbDP16z9aF3b8g/A7209f8RzT9k6cf8iTnRP5uAb7tgC9Q/k8TLLZ3Y1j/1oJfa/onZP8bnsH/oWtw/wHy02AKF3j/Rslv8j2/gP5VOv2obieE/2IAoZ82I4j+DF6EzDGzjPx4toIjnMOQ/PmZv+Orc5D8Ls7yNNW7lP5d9AF039eU/xftx4nNe5j/2hB6BE6XmP9IePlo1yOY/b7KtfU7I5j/+WCUCUaTmP7mT0Pf8XeY/7VtC9Hr05T/NebcZ6G7lPzVb3zPPyuQ//hq7498e5D8Q8vSUyEnjP8cfYzE3WuI/MCYksN5f4T/qDBMvhlfgPxmgBjvmc94/e0bNYvEP3D/z/Df7EQjaP7Fw9UoYYtg/RV21MQDy1j/gogvjI4zVPys7kjKeVNQ/WTkfvM8t0z9pcW3VpgXSP28CoeA12NA/UGn/OrQ/zz8yTP5z3f7MP0UN4T0m8so/J6sCWyUgyT/GEBB500jHP2yZLHQgUsU/oyV1tQM6wz8+30vGXifBP0TK7Mx+hMA/FhrGzeuCwD+Jo1LkI4bAPygEos9rhsA/2kkRVKuYwD+n8iv4ta3AP1Cp1X6uucA/BpAZSH+8wD/pQ1axIr3AP3b1NS4avcA/0pGu4Sa9wD9ZtcqRB73AP0f17HwsvcA/qFEcdUS9wD9YcrO4SL3AP0qoUWwsvcA/OYacyjq9wD/6RGEfp7rAP5W0lozRssA/gOlwAMGdwD+vit+JXYbAP8ZjMctDZbO/yw7GRylls7//Hk1Vtl+zv8nuOBp9XrO/QNY9nYVes78npm8SAT2zv+bGSIbBObK/K3ddRJc2rr+Ft8AOpmWgv4NiPogi70s/fteMjQJwoz8QqQ/JXyCyP9++Fdojg7s/QUVPq072wj84Vs5OsN7IPyqeSTCsCc8/q9ga1Y2S0j9Vt/S0r8bVP8pZtM3Y+9g/2zHxO9Ym3D8QAwTUBBLfP4Bisw536OA/jDLBdlNL4j/okHOIfGvjPzKOVKsDZuQ/BDbS/Mk55T/5vdQeBOHlP1x23ihAYuY/lVy2MAPE5j9l5JH4bQfnP04UKoiUJuc/kQBGbeUl5z9gH2I0jQznP5n9clMh1uY/c+l7xsqM5j+wM/DAAiLmP/r4bm0qnuU/Qnc+ceb85D/uYL/ZND/kPwtQgCwxd+M/GJXlerSj4j+zgQXUqrfhP28sCi4vreA/WqaALYoU3z+73v1VIbrcPwvwKIesT9o/CeTvne7M1z8dHFp3DmXVP4uP7Tyv/9I/0sgEwGK+0D9KXJJh9zvNP72VjC2PYMk/o4y68brVxj+JsYweB33FPzEmU+RfScQ/2MOi2Gyywz8tgx5jNtHDP4RKO6bjBsQ/sZcsepQKxD/TNj6nFezDP4gEJyt9r8M/Y9XN1w+bwz+ju8P4lJrDPxUIDQz2dMM/UTcS2irswj9XpCRQgZzCP9Lecm59hsI/i6OMzvVSwj/IZYYePzDCP5q0u074H8I/rCfIi24Dwj+ycDoMx/LBP6tA+JQdvcE/pqNMlBeiwT8zO0XhxZnBP7La2g8BpME/NhlRsM6OwT8DEYkhTJ7BP6Vi9OHtnME/MTeT25CdwT9FClqWzpzBPyf5J/SqncE/kcZMG3mhwT/qbmB/LqjBP2rKrAuLtME/6dioKbe2wT+cDsSWUMvBP11Wsm/wxsE/Iy1/y5XIwT8UnHBKT8vBPwpFK7D69sE/CE7cpSI+wj/aYtqI7p7CPzE9f6FzLrW/eCNflq0rtb/NLxBTevW0v8rpE/1xnbS/UXu/BzJhtL96kzlvtVS0v5pgoGis2rO/4ja3zNassr8VxrFdcHywv8OipGLpyam/0IjCWUVroL+mJaKAZS+Gv0b4DhDuE4w/kjTqLrsRpD/4QOATXP+xP8BZQjI2E7s/HuNLsR+bwj+hgbV1ncLHPzKC3TFk3Mw/OBB4Rz/g0D/sMEbaLgnTP7jPwjbi7dQ/XHOiwMbV1j+IWqWD20LYP9vtuhEms9k/nVsUGRNl2z8V/65O0PPcPySWegaulN4/DsbOAkcr4D+4+pTJTQfhP6T490Dm4eE/IZXJhoqo4j827Wf7El7jPwXlFonYCeQ/pkxrUduh5D9F8aVNWxzlP90GgUJ0iuU/ra7MJyTu5T+3hF6200fmPwqW3EWJh+Y/RrsFOYWu5j86lYdr/b7mP//y8zscuuY/opT86lig5j+2NtF7FnLmP9lMJnRWMeY/ngCq+Gnc5T8P75WN5XflP3Srfx7hA+U/22uNZ22B5D+pjp2dhvDjPyskFdr6W+M/CYUEquLN4j95SLdaYU3iPzfde2V60eE//yXG6mFl4T/ihPzdbvngP/wDdp8mfOA/z+9JqVHh3z84fmCHEtDeP7DBVcJMdN0/0w0h7JA33D+4swYhsgbbP0fUmPZ/0tk/hzwkCXCw2D/+ZHNXsZPXP6abPXhJXtY/pwZq9jwl1T8pS49x5/fTP5f+s2QfBNM/o5coXbFB0j88ERZkI7TRP0RjWfhIE9E/96u2AIVt0D/RMB9oRnjPP/gAwFz16s0/0bRlUMg+zD/bk1Z9xs7KP7aUczE5xsk/QHauUmVjyD9hCkrOcfjGPxSP7HNgDcY//b/BE79KxT/6A5q3XAzFP4siZErLFcU/t/S5gXwXxT946QoPgxjFPxcQA5iqGMU/pKgBpXscxT/FqhwDHSXFP5tSsMxLKsU/TOl0AWUyxT/FnneUPTPFP6ccQY7pMsU/LTKD3OMyxT/uz4ao6TLFP371MsbXMsU/9N9AYw0zxT+3PRHJ7jPFPxu8xF4DNMU/K4vej+QzxT+JJzTzNjLFP0EcjNoUwLS/MA090AKGtL/zl6/Zx9Swv7o4SK5K5qK/N3bE4y27hD8GQjPlx2+wPwPVqY/CwL0/yw0pZNNGxT8ekIeXNNnKP1zyM112Mc8/5/g1JpyS0T8337DpT5XTP+2/lXHzd9U/Pcy1q1NR1z9Ayyy+AGjZPzAHtKPIods/OfqUZG6+3T9r+EgyF73fP3N+78FvwuA/2sLhYmiY4T9eVzw/uU3iP9bpKdvQ5eI/Uo/s1P5k4z/7c9M2+MzjP8TanXg0KeQ/ceYh+Gp55D+bZfCtFr/kPzeb7cxtAuU/vfeLZIQ85T8JSscCA2nlPwmsvOSpfeU/j7dNB8Z15T8JeH/lElHlPw1BrymXEuU/isuGXGm95D9qQ80iGm3kP8T9SNb0COQ/HD0TDJeb4z8TfNfouxfjP4kx6MwTg+I/0zAhzXPk4T80Mfu81z3hP3DXb3yEkOA/xNUuvQ213z9hhwnidVbeP1VY9xa7EN0/KRvP1Pzi2z+9zRUYz7HaP2iOHU8+d9k/NM04zGlJ2D/ueDTRZWPXP8c3f0RuA9c/686HJwDZ1j9m9VuRktTWP2le1/eSwNY/bKgvO4CE1j/++u42ISnWP+ZNOaIfytU/yTS520FW1T8bWbLqe93UP0OvHioYWNQ/x3VXmDfT0z8YThw+PAzTP6KmdoOBS9I/ShTi5b2d0T8rZV2+UQrRP+quCQQiYtA/S0ZiuXhtzz/g8QAdMQzOP1f3ocDulsw/0s0zuFAHzD81w/VrfwLMP0P+BdhTIMw/NMUbqoo6zD8N504yrEXMPw6dq2EOHMw/Cvp9fyoJzD9qfILq+wTMP961rGq/CMw/yPrPNXwFzD9yZn7rTAHMPxC3VTtWBMw/I9bzHe8FzD+fQoh1jwXMP6DcXTK+Bcw/RiXj5JoFzD+r6Vq0oAXMP/fU8nepBcw/WSUaj1kFzD/zw9gWLku0vwoZarNzSLS/bLnhvG3+s7+aSyGFJpSzvybICbJjJLO/KwCW3c8rsr9SHbgNDgWwv/2lJLqb9Ki/Y43xeSb6oL/wnhA3G4WDv6PB+2XCQJM/H55qSBYZqj+M6rJJoAS3P/S6dVOVlME/HD+9Syt0xz9H8AytTRXOP/+tfRqXcdI/jcRZxBzE1T9qpMzj7TjZPy8e9S5Ej9w/1RPoxV9j3z8/5YGnhe3gP3YWBf9GBuI/FW8S91UE4z9wEEFOxtnjPxr0wHJUmOQ/jgc7pqoi5T9c1PKgSpflP2524wyY8eU/YaaBw6Ev5j+gZ8j50lrmPxX7bhHYe+Y/Jm3UvG6V5j9HBde00KnmP1Wm1J2Vt+Y/4/vCtqC65j9GwQJ9UbLmP17TezOtpOY/8DrqTJ6E5j+NwVlXgVbmPxmiy2VNDuY/yu7+ku3D5T9SYwBHyF7lPzaC30Gd2eQ/8Og6WZQ65D/r+gUGkJzjP5RLLTHw/eI/ZFJfqTNW4j/ebq36iZ/hPyPel/CW++A/wb4ldJJT4D/NIMcxsYLfP6N60928aN4/PbUbuhJT3T/yuRHA+CbcP2PTiCbJ/do/ag+ue7fW2T/NMNhPaqfYP5dWmsgKedc/5hfwPbdt1j/178zTU5fVPwv+Pxeo99Q/RTqYwpCC1D82CYHUjRfUP9eO3rnMqtM/6qpGvLwk0z+X19m4t4bSPxY69CMOvNE/iVr/vVLT0D982gQUieDOP+pfOJW3zsw/VC/FiQCMyj86I+KR2WzIP0AbXfc5NMY/OklaND0SxT/SOZ3xhufEP75PlWac0MQ/VL5LxKuyxD+dyVydvcnEPystf2GzsMQ/B//p1QalxD9iLu6B/obEP3JImwrAj8Q/8v9biiaoxD/+lBtI+KTEP4znm+JBpcQ/xPP9ELumxD8DwmjijqrEP+O6IGL8q8Q/9/azFMaoxD8cIXACzajEP5ykIQkcqMQ/BNUTN4CoxD9GN0b7JKjEP2uryzZWqMQ/qPXOTEyoxD9mzVa9mafEP3oWANDIhbS/17DOlSOEtL9fV/0FAW60v7nVBijCZLS/meXRokBktL+La4z8nWO0v2kIoHpJY7S/RJ6iUt5itL+5ysfArWK0v7IoOQtkYrS/8JPi3yNitL8leW7JBGK0v5bFXw+KPbS/PDS5a375sr/zjbZWw+ytv6vBb4YdNp+/VeiaD0SOWL+EeTsrAHKgPwr9UxhI97E/qpC2TBUFvD8mlTUzLuvDP30XmOvW4Mk/B9Ct4mFj0D/DIE3y5uHTP6Qo0ny9GNc/zsG+lOP32T92vUdF1LTcP54FceorLd8/vA4+U5644D+7PmpzIMPhP6cG135bx+I/WB4USLKx4z/5+CFUxnnkPzWA0j2HHOU/7eoUD02j5T8A++Bf2Q7mPz30UKQVV+Y/cOUqrZCC5j8HBSZ6r5HmPxD77GP3h+Y/BB8R1aFm5j/DIL7NUC/mP6j7+xhS3+U/7M4DiwaA5T+1gYCaUw/lP01cedAmiuQ/EGnDrdbu4z+gx26RX0LjP+yQVt9vhOI/5QxsiJ644T/7L1AaqungPyp/M6W9E+A/UV2iWNx33j8+qtVIH7bcP71bDo6l69o/g3ZoPDDo2D8iHvk4+krXP3SzpWSkstU/2BncgEqN1D+nPu+vHMjTP0wmOReGPtM/c0B3TJF20j8K6E8aXsXRP0txnvuiONE/wBzISDSc0D+CBcQ8LsvPP8lZ7qDt7s4/n4FIADlPzj9sZ4M867PNPxOqobIkE80/uO4SFCEtzD8uX49DJlPLPyXOWBCHhso/bx4Nf6ofyj9A8Hgp183JPx+JWE3hosk/IRjQkEB+yT+ZD2fVXWvJPzd2CZBrdck/nFI4QYK1yT/V19lxUy3KP6IVjxkcY8o/vcJu7bRgyj/UMs21OkXKPzBq4nKiGco/bP2A9hzfyT+JQWLoV7fJP/GcVQlwisk/2chqWXdTyT+vge5cqCbJP5iwthj4Dck/elN/YjUUyT9ZZj9RrR7JP5i3qSWzHsk/6Zl7dOAQyT/71aJyIxDJP1kpL/7aEsk/DJIl1hgYyT9/6/862BbJP62WOZ4WE8k/jMv3/kkayT/a5ct4TSLJP5MsBGaLHsk/jDZ9/OYdyT8+dyKZDB7JP+OGtZr7Hck/qmL/0h4eyT+REwKI1R3JPwZ3PgT2Hck/D2Zidy8eyT/XCCgzEx7JP/64CQLlG8k/AjSc/NUWyT9JU92k0SHJP+JC6UD4U8k/jbLCekmIyT8HXxtvp7vJP2CGlKX64LS/Zs7vdtvPtL+bR6rECrm0vysrw0MxuLS/PFR1AOG3tL/gqYTp0Kq0v+kzVPcF7LO/RujRaWPisb+IbA6gjnqtvyCyk4o8U6S/Z/d6UeEdkb8bgDm8h+OHPwMcsp6pvaY/08FQkvY7tD9Z+vw7z0K9PzTYtAsef8M/sRfhI96lyD9PntFQ4f/NP4lPPxiWntE/Ggarv4g21D9DAIO/eqXWP9MHCyTfLdk/lO8gX+yl2z8CBKdhiNPdPxY0V40rHuA/eEY6OMJJ4T8I0SoumWfiP9eR2KGOduM/zngSwKNY5D+sojhVHAvlP6mRIFYEk+U/hBPDoZn45T8QRiFcUjrmP/DAdaibW+Y/OynIdydh5j/12di2F0vmP1Uy5MyhF+Y/jH0qsDrN5T975EKeg27lP0mDe82b8+Q/+Ocrtypq5D/uPc6XW6/jP1y555b91uI/YpmRtij94T+6KJWlTyThP3g6qokxP+A/3SqxajyW3j8ssFF/3pLcP+pwProuoto/tcf6rcPJ2D9VSjR6HhrXP8YGlhCm49U/LuNFgalW1T+ztO+NFyrVPyrXv3ji/NQ/My4AKy3D1D8ITnLFdGnUP6CZB8un4tM/0fMbrb8K0z8O3/wZzS7SP0z67dO2bNE/qwZrj7q80D+G4iMOqL3PP+e12HrTzc4/PMxPeLWDzj94a+kGWpXOP4zHnoK3gs4/VUYKvJh0zj++Th5eoXnOP9dQVpu9fM4/HQ6lX+o5zj/bMQptTtbNP0/+Bp8Rlc0/sDqeO2lAzT9G5UEYA2vMP0MM0XJJNMs/mETrU3DgyT9k406zr+7IP+EG3NMedMg/IDxKzN0uyD/NKWc5mCPIPwyw6ikpJcg/N61MOyEfyD8i6IKHNxnIP1HaxETpGcg/nuYGvtEUyD+mFbX/2xvIP7Q+yOxmFcg/+wlVWaQTyD+ZolaUXxLIPwAS/VClGMg/hYRsZPkeyD+ycFuZTKi0v7apgC95qLS/PUZnV3essr90wVvv0oSrv974pxJC4J6/yex/mQ8Pbr8pMEb3zo6bP1KQPNB7yq4/a39SLJKYuD8Zi3u2aJzBP4Pn7Z08ncc/fO8dJZoYzj9q3hW4523SP5Vh1CITltU/ZqzCmXZw2D8sCBQjyAHbP0/mNov47N0/IuGWFZoA4D+GTRCvRBHhP8Htr92mDOI/lidpiirt4j8cezGHL8bjP18K34OUj+Q/7urD9hRR5T+/SA6tZv7lP3TozskaheY/ZbNPAl/j5j/cbRQfmBjnP/xA5E1/M+c/vn8n/Ic45z/Bho1QdiznP5nyQUu5EOc/bQyBsf3n5j+9CA2wsbTmPz0cBFBHc+Y/BTejrbYf5j+M0aZPyb/lP+BJT/bDUOU/JCDdnlXD5D8czI+xvCvkP476KrJhjuM/T3Q8fycF4z8J5jqZLmziPynol9SP1+E/maiLy05H4T/6e62jcL/gP4ZwCKDkOuA/P4w6BuZq3z/8SV5ZFFDeP9LLufrpK90//IxWkIL52z+djiCdUKraPwkJ2xozOtk/gj8DVMDc1z8iGQhoJ6jWP3Q0m8ewqdU/1V/+j/fo1D8oZAc/n2/UP3l7Gm7/FNQ/8U21q47b0z9BkL+ZobnTP041JsFLiNM/2nAowCpH0z+FKTO4Fe3SPzlDZ0/bytI/vr59G2Cg0j//QMuJgLnSP/pckpVS1tI/dqIkURTb0j+9hvCxmI3SP5Kz9+iJQdI/xyYygLcS0j8WPfKk4OvRP4VoHJHv2NE/z299gmnC0T++2MhZVqvRP6Cfi6JjkNE/7yrjycN/0T/I55GzanLRP8RRCRmvdNE/eEEbBVZ50T+yRzr4iXrRP9W4AK0MetE/bk5HdCJ60T8d6Q4D/HnRPyM+6BoRetE/ujzYC9t50T8Sl80G2XnRPzfkBTfnedE/4ZWlwMV50T+mKtpP13nRP7koseIgedE/EihvNTN20T88l6XgoXbRPyEya4ghdtE/bF0/k9R60T+CmiGV6nzRPwyBgWPnf9E/KI1XlH160T8jKYJ8umvRP2PdccueU9E/bk8dOhs+0T8em/SNFi/RP6suee2/I9E/aCtsRsIX0T+hucDSNQbRPzqb7taA8rS/y4n7NGbxtL+mjVhlKdazv01+lfRwU66/Ibsll/NLob9SipfGv8uFv/K8ClNnmo4/o1WIgo/epT+9p4BUKX+yP8X0/I01z7k/GRqBnoLEwD/z865Qm0nEPy6hRbx0YMY/mL5qbwWsxz/SCNgOnn3JP1IcNfOTNMw/oQcPSXm1zz+xJ/ocLBXSPwiV1VuksdQ/gCaDNmNa1z9fB2f0K+bZP6Ts8BjAUtw/LfhA29yC3j+vLHhqAEDgP8oP3IjAIuE/pEI2Maru4T8W76hqTariP1zf2yIAV+M/CVYsrNH24z89Fm7Y74nkP3m0yzdqD+U/oB7sJup/5T9pdUERRuDlP4be45wiMeY/9C0eA3l25j9WY/0Zi7HmPxTL9HR11uY/owrtBujw5j9yfMEgN/bmP68GbLIm6+Y/eDJ2pMDQ5j+noBAXOKfmP65RyHo0ceY/jDWPPnAy5j9hy0jgG+3lP08MfNtdoeU/98tnOHNS5T+CBrW4gP3kPznOUx1rn+Q/+fHNpig95D+UzlL7mNzjP8fWx90LdeM/kiCRoEoF4z+xoCXcHY7iPzBSwnNFF+I/EDOsjvGT4T8VRYCOIQThP5sAp+dFcOA/4XX01jKu3z9q1ni6xHneP0wKJbwSJt0/HfCOMUTT2z+AdRDEIo/aPwoCoVXtS9k/t5n+ACIh2D8edw0xWQrXPxcUhmjeI9Y/3Xj/az101T/DGZRCE7DUPz9fDefr9dM/CQ6d1kpT0z/NJomwbL/SPz8UtniyRdI/OlnTfVCp0T/hf/kQBP/QPz8wRnhhP9A/NGwRw1PZzj+OBKYyazHNPywl1oF2ecs/JwIPmHj2yT/nDF2Ws3HIP0wd665bEsc/XyCPBdD0xT+GHYPiug/FP67DM5M3hMQ/Ws4QAO2PxD82F4O4FpfEP1R+4Xr+mcQ/GiOUbC6axD8Rll8e65jEP8BgwSn4oMQ/WM8GoAWhxD+S6KpAW7bEP+B6uYLhw8Q/KPm+KXDHxD+evBs5fcjEPxIRSvZDvcQ/eZkI0bmtxD8krKlXvJbEP+JCzZUPjsQ/lWDROVSMxD9oPv1oqqjEP8uglQPr7MQ/FN9CA335xD+aOmbAOdK1vxUJRHbEqrW/h7i5UFCFtb+STPX4E2y0vzgR38xDPLK/7kq8LGRYq789L4XOvwGiv0/jGm4z44u/YXJbd6EueT8pa++IDcmWPya2q3FO2KQ/WRo6K5c3rz8seAUeIeG1P7GOT1sfwr0/Iy0nP9DFwz/z2BYepXXJPzljiUfCns8/2w3CgEP+0j8R74cr/AzWPyhmK6ghzdg/syrikKEu2z9RGr8Uf0jdP6XOROts/N4/PQHfEGZO4D/sNJDKfA/hP9lLQpg3xuE/JtemOUKH4j8ecjF7SkTjP8wz0RVP7OM/tRQ89VKK5D/6f1GRcRLlP9MPr9IcoOU/1Zezh0EB5j/5H2sPKVjmP05WFsj+meY/BjuDJyXH5j+cUiSQqeHmP1LYwVeM7eY/4rumirHv5j+y1/xAnefmP9aEBPSf0OY/VqjcRPWs5j900lPY5X/mPxkzkCqpSOY/7Z8RZyQD5j9PcFuZ0LDlP+/a+LSMUuU/axLMWNLo5D+0l1RcBG3kP3krUEkB5OM/khhJUPhU4z/USuTL0L/iP9hl8dEIJeI/9CQxlqCD4T+kHUkskevgPx+q2HucXOA/ddh2L6Kw3z8xtLVP0dreP6803hDIKN4/ZjxvZZqI3T/Fn1HdwvTcPxArOUpUjtw/lCnoQfks3D+5STiSwb/bP7lPfi9nU9s/FgLn0pb/2j8Z3oiTK5HaPy5qntLLAdo/JwFFBoyI2T8UTAoiDhzZP71TRBo9gtg/doAlptnS1z8gCUSG7hTXPzNZvbwcY9Y/jrQVfzat1T9s6o6WLi/VP0l/Cvuh29Q/+VEIxi2e1D8X/X7MAzfUP8Zm7nnlztM/AVz5nYVm0z8VBc9ygwPTP+ptpOZejdI/XMRs0DYa0j9KZoqiIK3RP7SG6NZMLNE/4xJBVyii0D/fonyPQETQP0Vicrqxyc8/xZTNCE9lzz/ruMMlhfzOP5fM1u+Pms4/WiRBCeKdzj9cbHeBUpHOP+YWKabnkc4/f61a5vCQzj8yCV0tCZHOPygqAQB3ks4/cxGx+ZuNzj85LKUDgpDOPxB9tcUqj84/u1iUmi2Ozj/sfixMc47OP4bblXuIjs4/mbEPKv6Ozj8jEeCgIo/OP8+2PcwMkM4/WuMVLkuQzj/FUeZvDJHOP23I7FKgnc4/EOH27GSazj8Rln54fJrOP0EZqycDl84/enU/jCqXzj/lp+02RqjOP/CdwYKxyc4/pC6bd8Drzj/fBJqPrRXPP0mNStgiHc8/xCt1xToVzz+gUcOuPhDPP2PEgiEsj7O/+NhRkh3Bsr/D91YQp52tv7115ptCvaC/VzZ5SeFCbb/J7YanAR2fP/2Y7Ur46q8/BED+BvinvD8XhUGSXgDDP5YXB35CfMg/rtilgjYdzj9jOS3tHP3RP7gbolR66tQ/RAcc0My/1z9Jec3KG6raP4WJVVls2t0/sDE5jihF4D9U82enr2fhP7OnnuX5cOI/oWdvVYVv4z8WZS5Kgk/kPzKJyWTZ++Q/VDoH23mr5T9dO19SpBzmP5uiBUZIe+Y/K5z2tGS55j9lbe/e0NnmP/sQ+mQr4OY/TxNRHEjN5j9tfrew857mP8WNBLWjWOY/bwaaUq765T/lztiYJoTlP0/5PYM+9eQ/SLP8QEFJ5D9AFYP8QIXjP0CKpSWxtuI/fAxPJj3f4T9/1+vqqfrgP9YNCf6mBuA/stb569MF3j+9itdA1AncP1p7rF/9Nto/hxnQJmKm2D95CGDhkjXXPyTX8tem7dU/qOOVC0ff1D8mZOIGvAPUP+W9J2qNQdM/8/Ejxeiu0j++pDBZKTTSP4KAj9dJq9E/ATtbwMIo0T8PC2F+a73QP4ydLxJ4StA/oZ85LoJnzz+pO9TK3hXOP1BxM/NJc8w/iCvrkAP3yj8ZevN/lJ/JP14EjUjVt8g/79/hYQQLyD90K4GheKjHP47M0G5zCsc/jcvToGmmxj8SNmLg3grGP0eKK1z168U/JHDPKWTjxT9P2D4Vcc7FP9EnTH8ExsU/H6z9eFLFxT8ocTyEQsjFP5EqMG4GysU/fWJSzfTPxT/ZqIAMGhS2vw3uCZwoFra/Z/DwEDEqtr+PA3VDZCa2v9+tFBReJba/JLScYN8ktr9G74qa5yW2v3YBK1bSqLW/FBsnzrsVtL+aN8iT0G6xv1CY7dwMjq2/Shl8jdwgqL+AiMgu3n6iv1fq5M4qkpi/FajdANNJh79qdyhW6lRaP+gUA3/stI8/AV3ae7aDoj+yf9aIm++uP/0XU95hBLY/Kh/rDckHvT/ewsdtOCvCPyHB+YliccY/oWOF9sgxyz+RRXXtjzfQPzCPLzIt7NI/uvynY/qC1T9Fq/mPBPDXP0q5VKHWM9o/5Eb0UrBx3D8V9uEpk6zeP7F6N6/ZXuA/fvU7IXJX4T8+5Cz0/TniPzoXW8O/CeM/qx3AOg3O4z9/qX4CRonkP0rEPI1NKeU/mkTRqeCx5T9nPJJJ5BnmP+cWmw6UceY/j0Sz0UGs5j839JcbpcvmP200gtb60+Y/UhQyb4DI5j/No+sYR6nmP+iEUyA4dOY/7FyD3UEi5j9OE2mCCbflPyYesF44NuU/pY5Bal6k5D9HZtnP5frjP3SJXerwOuM/P0rEf7Bn4j8cjhplyZ/hP7MMkfbt8OA/CwlJ/LhM4D+AHBMMVGnfP20L/7aIUt4/0lo64XBs3T+GMwKw8IrcP0W4Vs1orts/OdUc/tzp2j+r1t67POTZP6FGm22C2dg/LIk0zO+y1z+hvbPMMnjWPyT+1Du3HdU/RbZBUGWW0z8SsKbp9O7RP0d/iaYlWNA/VM3Zj/zdzT9dy7og6WjLPzhkcE/rK8k/n9roiLE2xz9ZTES9c4vFPx+HDXpcSMQ/Ktl/rFRPwz+i2eUhj1TCPyZGhfWGDcE/SY1TiaGjvz8Tdxffxv+8P1fhJYLqgLk/NcjK7+5Xtj8QqTrYvke0P6FLJ4twnLI/N697K9vIsT9icZTERxuxP9BZtlW0368//5o026ZmrT+/HM8YzOusP8PrTSj3Dq0/CREVQ5UerT+fA9ifxCmtPwdR00VkJ60/jTcZbYg5rT+9HGkClWytP1ONmb7wbq0/f8mGcfW2rT+BSmtoseGtP82mepQeI64/yPVfjtqlrj8gVClSJaWvP56JH0BeY7A/wP3cnw4fsT83b9F+oaXMP6gjXRGKacw/vVH0VKdKyz/0VcbrWY7KPz5nxOc6HMo/7Li7a/QEyD8Sk4CJfxDIP29seRLqcsU/9bA0LrFdxT8oIJ6tC2HFP5OKRVcYXsU/jvUNoAVZxT9cAPWEOlfFP/yLeyNdV8U/yoNb0qtbxT+XeX2JKVfFPweJKYUpV8U/HdTRjhx5xT/ULogESYzJP/PVsLkXhMk/bceMq5z7xD+CqPeUVufEP5XpxquX7cQ/J1gHn6iSxD8HC6GeSnHEP3KXPVhGZcQ/2bxrkJRGxD8HRni/u//CP0Cln7Gmd8M/BDtcKYvvwj8jk1J+Qp/BPxZ+czBWU8A/kli1qlsozD+8eCSbCLjLPyChNT9cScs/sNPaXxJ4yj/PfIb5E2rKP5a2ay8kXco/rmUeueBvyT8qYQvYvaHIP1DaZMDj98g/O9tQVxEWyT92owE3uYvIP+NzglEeW8c/ixgdJevOxj9WUSmHRKrGP5ONEe2UssY/VhLBc31gxT/BJYaogPjEP0NLlhnZVsQ/fFb6PqeXxz/hUJ594BvHP1Uw50gZKMc//WS7YdUaxz9K6k75m5bHP9XhyBRZtsQ/C4pEMCx6wz9yugy0OmvDP6ZWPp86a8M/3ghTjJv6xD/ZZ9z9XKnEP9SzvForsMQ/fzKNOadLwz8XT6CikV7MPw8zMLSRXsw/AOTblwBayz/KhVinEFDKPySTv6QLEco/J1qFv0WKyD/oCbiDirjSPyF4V2HDDck/vhi9lOmVxz9OgTdNFfHFP+nX85vSaMY/tiOyQsT6xT9nMZcRooLEP3ACe6b2bsQ/Jxrt1zUYwz+P1X4clb/BPxcP4moJyME/sC3Dwnv3yz8xXlVC5KfLP3wYyYBmM80/yemeHqAg1D9ixD9Ow77TPxGxGhLhU9M/UERZ4y/N0z/ozO+xg3jTPwCcr9fPl9M/J/VS0G1t0z8xq3uj7//RP5yM/hx/89I/vvu7SkHS0T8/vlnVCw3TPwUqrR5SCNM/NH4WBmqf0T/39dYVap/RP/qXsLiVddE/RDtaRPxW0j9rGWyW8YfSP8VQxATsktI/TSGvsKwn0j8N9Gi9LCzSP+SWoG85ZNI/0KAJw+x40j+T79NZ6BLRP5S0PgnkENE/5LuLKOD60T+5WOC5cUvSP4rNpweQBNE/X7ObByDs0T+yan4HkATRP6sSyHy6BNE/qdZTjTDj0D8aXCTUS6jRP14Mdiwh4tA/4TpneSzF0D/4FeG/GeTQP3q2c8xLqNE/3lsFGrW70T/ZUiOY7L/RP4YmpIie+NA/KhuymSfJ0D9ncFK4BKrRP1ZlAhr5e9E/k1inIk7F0D++t8DB26XRP/ZQgjzewtE/Y+0xOd7C0T9BDKi+7oHRP8xgNw+4iNA/gm3lG2qr0T/niB4VxbXQP3NFivLEl9E/OsUDkDB90D9F1gpBpWzRP8a4o1LvztM/kbytO9Aoyz/NKLMTU4PLP0IIWAKvxco/l9LnHNhgyj9xZm/612DKP40K3bqzYMk/zZEZqMYyyT8aXB/QYanIPwMFlNFBOsg/Ja8IRdB5xT99V0PVdnbFPyIy8dTSlsQ/wv/I6s0JxT8FH7rEAqHEP3sHSGA+h8M/7kw5VT6Hwz+sNqItOBbOP3zOUAvfec0/whcNxI+BzT8wSB7+6B3OP6ykyg7E+ss/RHZxt25gyz/FeIMyUljJP6Ixvi37Vck/zc7tZnD5yT/h6jFCGGHJP1tAXiA2fsc/+tLSJ8yAxz/tDOojzIDHP1UxQ1Xz6cU/grM0NA/hxT+PfM247fbEP/LcBsQMk8o/zwJJT/4KyT/9mq5CYgrJP3d/Ad9PG8k/eENk6HEUyD+w3GcuhznJP8vT5S+HOck/rhwbpm66xj/59VdTgJHQP8YS1ltjT9A/qYdFEAym0D89CP64UwbQP00ZLbMufM8/zq+3pwTozj88NadUu1PPP5zx8T1Fkc4/n6N51K/zzT/pynTTr/PNP0WVq7yv880/iftA+KGlzT/Ctpts0GHNP+EKGrq4rsw/OQzeObhMzD+Pkz4biPHLPyara45t0so/UEgt8l/lyT9Ja0YCswTOP8goCSizBM4/uLefGbMEzj8GSGJUIzrNP7MdHWbb8sw/bW6bruVbzT876ZH0zqXMP37GedjADs0/2Y2xJ0+/zD8fW9fA6/XMPxvW/6pNEc0/q8kaCjhzzD+OBd9N+8XMP6XyDNXBFMw/SsLN7pq1yz+Dy5QUvwrMPxrL08PoLss/v17HF/E1yz800/CY6JHKP/eaoXINMco/GD4bwI4Eyj/e6edXDTHKP2+Pvz9Ci8k/aBl0+0NgyT/fSum232bJP6v8dtMagck/OTEsxUMGyT/mveWLBb7IP4tjkfX7Ncg/6FGDdq2DyD9eJIY8EkTIP4iJHwatA8g/VRLX6VzVxz9/d3LM3n3HP45eJe/ZP8c/pdog1rE80z9M0Z+HlWDTP+U+45ovW9M/8IQHAHnu0j8txLvCjSTTP1xT+8jS/NI//ddkE1zE0j8bYtwEzEXSPxie9PGZ/dE/dHm9pa/Q0T8kesTtmf3RPz0tFpFl/dE/TYoGzQPo0T+u5BfSA+jRPw8fX4V6i9E/DSHOCAs60T+GXJvsOxfRP6Y7jZ4eVsk/vU6IfBupyD8zEjiRE2HDPzuWv+Ry/MI/DFeT9PzOwj/l0BiHgWvCPzz0OmCR8sE/7NyCI+tUwj/9VHvKrNbBP4A72KpxdcE/AY66uifzwD/0FZu6J/PAP53eG2yj+8A/IL6JVsNbwT8VbGuup4XAP/ngGM2v5MA/FSykYvbbwD97+VdA7nzAPwGL+CMOtr8/JXEkPvo4wD8LrDwdr8S/Pzcw0KVKQMA/WIoPTvUuvz9vr7RnMnW+PxnMSCH1Lr8/Qgt7JjJ1vj9XC3SEvCu/P3X5PKb5cb4/kCxtkbwrvz9KGoW5+XG+P3p1xbYgQL0/7NwPjMb3vT+u1+dj7yK9P+kZMgH4e70/TtgEjOABvD+PUVANb7e8Py1uUIdBE70/pehl37JdvD8gRycHK0K8PyabvBlvt7w/5GilhOABvD9B2ihV4AG8P1flVT9vt7w/GjZR4eDQuj99X2qDXoS7Pxg1MYDMAbs/G5DDekq1uz/9icUMiba5P5IPTOviprk/4AFRFOOmuT+FoivMVVi6P24M2WRuF7o/r+vCvPtluT8Gg6W5Sm64P13sHuDcvrc/fhziA7jItz+Exvo0ObO4P/T5XJDLA7g/l566HxX+tT8+FMKjg6u2Pxh94xBc7LY/SRu+pnHjsj8SEOzk9eKyP2qV6UBX8bE/wfzgO2nwsT8=",
          "dtype": "f8"
         },
         "z": {
          "bdata": "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",
          "dtype": "f8"
         }
        },
        {
         "line": {
          "color": "gray",
          "width": 2
         },
         "marker": {
          "color": [
           "red",
           "red",
           "red",
           "red",
           "red",
           "red",
           "red",
           "red",
           "red",
           "red",
           "red",
           "red",
           "red",
           "red",
           "red",
           "red",
           "red",
           "red",
           "red",
           "red",
           "red",
           "red",
           "red",
           "red",
           "red",
           "red",
           "red",
           "red",
           "red",
           "red",
           "red",
           "red",
           "red",
           "red",
           "red",
           "red",
           "red",
           "red",
           "red",
           "red"
          ],
          "size": 5
         },
         "mode": "markers+lines",
         "name": "EEF Poses (Real Joints)",
         "type": "scatter3d",
         "x": {
          "bdata": "j2XjFAay4z+PZeP33bLjP49l46lDuOM/j2VjiwK74z+PZSPowpLjP49l49SYj+M/j2Wjlx+R4z+PZaMICZrjP49l4zaHwOM/j2VjM+jJ4z+PZeO7cczjP49l474j0+M/j2VjitDp4z+PZWORoe3jP49lY49k8+M/j2VjbZP14z+PZWMPePrjP49lY69i/eM/j2Vj9Pj74z+PZWOs+fvjP49lY53U8OM/j2Vj6Uvw4z+PZWPb/fLjP49lY7Tw8uM/j2Vjpj0Y5D+PZWNAvRbkP49lYwtYEOQ/j2Vj8N0O5D+PZWMQhw/kP49lY+bM++M/j2VjLa8F5D+PZWOvTfLjP49lYykuB+Q/j2Vj15EE5D+PZWPjcQTkP49lY1I39uM/j2VjB6gd5D+PZWM63gvkP49lY5EVDeQ/j2VjJ10Q5D8=",
          "dtype": "f8"
         },
         "y": {
          "bdata": "X/hzfmyTtL9f+OMOmJ20v1/4s9jwlrS/X/gjLOmetL9f+KOr/bW0v1/UobrIqLS/X/gG9eOotL9f+JexSKe0v1/4Iw5Pr7S/X/j7xpavtL9f+NM29bC0v1/4w690sbS/X/ize2X3tL9f+DOKdfG0v1/4MxTa/bS/X/izIvv5tL9f+LOxAG+1v1/4sws8VbW/X/izbKRStb9f+LO2PVO1v1/4sySr4rS/X/gz2QfUtL9f+HOWUrO0v1/4Z/0Zq7S/X/hTrba1tL9f+CX9Qqi0v1/4cwqdnbS/X/hzSOCNtL9f+HMKeYi0v1/4cwjOirS/X/gz4aiCtL9f+HMpO4e0v1/481Ijm7S/X/gz+taBtL9f+PMwb4e0v1/4k6XBm7S/X/gDNwigtL9f+FNCl5e0v1/4o8sqorS/X/izdBKgtL8=",
          "dtype": "f8"
         },
         "z": {
          "bdata": "LH4qVLux1j8sfqok553WPyx+Kl6wstY/LH6qfVmU1j8sfqqdNXvWPyx+qnRxYdY/LH6qg95x1j8sfipubIXWPyx+qm90eNY/LH6qsnCA1j8sfiqsYobWPyx+KlldedY/LH6qdmRv1j8sfqruLHXWPyx+qvupftY/LH4qV0yA1j8sfiqyspjWPyx+KjdWm9Y/LH6qltyb1j8sfirzCajWPyx+qh4bqdY/LH4qPpmq1j8sfqqGeKfWPyx+KgnJq9Y/LH5q6hhp1j8sfmoJRGjWPyx+qmI6btY/LH7qN1Jb1j8sfurFJGfWPyx+6sA6SdY/LH5qUn1d1j8sfmpEMEvWPyx+aqLKRtY/LH4q9LtB1j8sfgqXyz/WPyx+ClHhNtY/LH5qhO051j8s/oZT/SjWPyx+yl4sQNY/LH7qeWE31j8=",
          "dtype": "f8"
         }
        }
       ],
       "layout": {
        "scene": {
         "xaxis": {
          "title": {
           "text": "X"
          }
         },
         "yaxis": {
          "title": {
           "text": "Y"
          }
         },
         "zaxis": {
          "title": {
           "text": "Z"
          }
         }
        },
        "template": {
         "data": {
          "bar": [
           {
            "error_x": {
             "color": "#2a3f5f"
            },
            "error_y": {
             "color": "#2a3f5f"
            },
            "marker": {
             "line": {
              "color": "#E5ECF6",
              "width": 0.5
             },
             "pattern": {
              "fillmode": "overlay",
              "size": 10,
              "solidity": 0.2
             }
            },
            "type": "bar"
           }
          ],
          "barpolar": [
           {
            "marker": {
             "line": {
              "color": "#E5ECF6",
              "width": 0.5
             },
             "pattern": {
              "fillmode": "overlay",
              "size": 10,
              "solidity": 0.2
             }
            },
            "type": "barpolar"
           }
          ],
          "carpet": [
           {
            "aaxis": {
             "endlinecolor": "#2a3f5f",
             "gridcolor": "white",
             "linecolor": "white",
             "minorgridcolor": "white",
             "startlinecolor": "#2a3f5f"
            },
            "baxis": {
             "endlinecolor": "#2a3f5f",
             "gridcolor": "white",
             "linecolor": "white",
             "minorgridcolor": "white",
             "startlinecolor": "#2a3f5f"
            },
            "type": "carpet"
           }
          ],
          "choropleth": [
           {
            "colorbar": {
             "outlinewidth": 0,
             "ticks": ""
            },
            "type": "choropleth"
           }
          ],
          "contour": [
           {
            "colorbar": {
             "outlinewidth": 0,
             "ticks": ""
            },
            "colorscale": [
             [
              0,
              "#0d0887"
             ],
             [
              0.1111111111111111,
              "#46039f"
             ],
             [
              0.2222222222222222,
              "#7201a8"
             ],
             [
              0.3333333333333333,
              "#9c179e"
             ],
             [
              0.4444444444444444,
              "#bd3786"
             ],
             [
              0.5555555555555556,
              "#d8576b"
             ],
             [
              0.6666666666666666,
              "#ed7953"
             ],
             [
              0.7777777777777778,
              "#fb9f3a"
             ],
             [
              0.8888888888888888,
              "#fdca26"
             ],
             [
              1,
              "#f0f921"
             ]
            ],
            "type": "contour"
           }
          ],
          "contourcarpet": [
           {
            "colorbar": {
             "outlinewidth": 0,
             "ticks": ""
            },
            "type": "contourcarpet"
           }
          ],
          "heatmap": [
           {
            "colorbar": {
             "outlinewidth": 0,
             "ticks": ""
            },
            "colorscale": [
             [
              0,
              "#0d0887"
             ],
             [
              0.1111111111111111,
              "#46039f"
             ],
             [
              0.2222222222222222,
              "#7201a8"
             ],
             [
              0.3333333333333333,
              "#9c179e"
             ],
             [
              0.4444444444444444,
              "#bd3786"
             ],
             [
              0.5555555555555556,
              "#d8576b"
             ],
             [
              0.6666666666666666,
              "#ed7953"
             ],
             [
              0.7777777777777778,
              "#fb9f3a"
             ],
             [
              0.8888888888888888,
              "#fdca26"
             ],
             [
              1,
              "#f0f921"
             ]
            ],
            "type": "heatmap"
           }
          ],
          "histogram": [
           {
            "marker": {
             "pattern": {
              "fillmode": "overlay",
              "size": 10,
              "solidity": 0.2
             }
            },
            "type": "histogram"
           }
          ],
          "histogram2d": [
           {
            "colorbar": {
             "outlinewidth": 0,
             "ticks": ""
            },
            "colorscale": [
             [
              0,
              "#0d0887"
             ],
             [
              0.1111111111111111,
              "#46039f"
             ],
             [
              0.2222222222222222,
              "#7201a8"
             ],
             [
              0.3333333333333333,
              "#9c179e"
             ],
             [
              0.4444444444444444,
              "#bd3786"
             ],
             [
              0.5555555555555556,
              "#d8576b"
             ],
             [
              0.6666666666666666,
              "#ed7953"
             ],
             [
              0.7777777777777778,
              "#fb9f3a"
             ],
             [
              0.8888888888888888,
              "#fdca26"
             ],
             [
              1,
              "#f0f921"
             ]
            ],
            "type": "histogram2d"
           }
          ],
          "histogram2dcontour": [
           {
            "colorbar": {
             "outlinewidth": 0,
             "ticks": ""
            },
            "colorscale": [
             [
              0,
              "#0d0887"
             ],
             [
              0.1111111111111111,
              "#46039f"
             ],
             [
              0.2222222222222222,
              "#7201a8"
             ],
             [
              0.3333333333333333,
              "#9c179e"
             ],
             [
              0.4444444444444444,
              "#bd3786"
             ],
             [
              0.5555555555555556,
              "#d8576b"
             ],
             [
              0.6666666666666666,
              "#ed7953"
             ],
             [
              0.7777777777777778,
              "#fb9f3a"
             ],
             [
              0.8888888888888888,
              "#fdca26"
             ],
             [
              1,
              "#f0f921"
             ]
            ],
            "type": "histogram2dcontour"
           }
          ],
          "mesh3d": [
           {
            "colorbar": {
             "outlinewidth": 0,
             "ticks": ""
            },
            "type": "mesh3d"
           }
          ],
          "parcoords": [
           {
            "line": {
             "colorbar": {
              "outlinewidth": 0,
              "ticks": ""
             }
            },
            "type": "parcoords"
           }
          ],
          "pie": [
           {
            "automargin": true,
            "type": "pie"
           }
          ],
          "scatter": [
           {
            "fillpattern": {
             "fillmode": "overlay",
             "size": 10,
             "solidity": 0.2
            },
            "type": "scatter"
           }
          ],
          "scatter3d": [
           {
            "line": {
             "colorbar": {
              "outlinewidth": 0,
              "ticks": ""
             }
            },
            "marker": {
             "colorbar": {
              "outlinewidth": 0,
              "ticks": ""
             }
            },
            "type": "scatter3d"
           }
          ],
          "scattercarpet": [
           {
            "marker": {
             "colorbar": {
              "outlinewidth": 0,
              "ticks": ""
             }
            },
            "type": "scattercarpet"
           }
          ],
          "scattergeo": [
           {
            "marker": {
             "colorbar": {
              "outlinewidth": 0,
              "ticks": ""
             }
            },
            "type": "scattergeo"
           }
          ],
          "scattergl": [
           {
            "marker": {
             "colorbar": {
              "outlinewidth": 0,
              "ticks": ""
             }
            },
            "type": "scattergl"
           }
          ],
          "scattermap": [
           {
            "marker": {
             "colorbar": {
              "outlinewidth": 0,
              "ticks": ""
             }
            },
            "type": "scattermap"
           }
          ],
          "scattermapbox": [
           {
            "marker": {
             "colorbar": {
              "outlinewidth": 0,
              "ticks": ""
             }
            },
            "type": "scattermapbox"
           }
          ],
          "scatterpolar": [
           {
            "marker": {
             "colorbar": {
              "outlinewidth": 0,
              "ticks": ""
             }
            },
            "type": "scatterpolar"
           }
          ],
          "scatterpolargl": [
           {
            "marker": {
             "colorbar": {
              "outlinewidth": 0,
              "ticks": ""
             }
            },
            "type": "scatterpolargl"
           }
          ],
          "scatterternary": [
           {
            "marker": {
             "colorbar": {
              "outlinewidth": 0,
              "ticks": ""
             }
            },
            "type": "scatterternary"
           }
          ],
          "surface": [
           {
            "colorbar": {
             "outlinewidth": 0,
             "ticks": ""
            },
            "colorscale": [
             [
              0,
              "#0d0887"
             ],
             [
              0.1111111111111111,
              "#46039f"
             ],
             [
              0.2222222222222222,
              "#7201a8"
             ],
             [
              0.3333333333333333,
              "#9c179e"
             ],
             [
              0.4444444444444444,
              "#bd3786"
             ],
             [
              0.5555555555555556,
              "#d8576b"
             ],
             [
              0.6666666666666666,
              "#ed7953"
             ],
             [
              0.7777777777777778,
              "#fb9f3a"
             ],
             [
              0.8888888888888888,
              "#fdca26"
             ],
             [
              1,
              "#f0f921"
             ]
            ],
            "type": "surface"
           }
          ],
          "table": [
           {
            "cells": {
             "fill": {
              "color": "#EBF0F8"
             },
             "line": {
              "color": "white"
             }
            },
            "header": {
             "fill": {
              "color": "#C8D4E3"
             },
             "line": {
              "color": "white"
             }
            },
            "type": "table"
           }
          ]
         },
         "layout": {
          "annotationdefaults": {
           "arrowcolor": "#2a3f5f",
           "arrowhead": 0,
           "arrowwidth": 1
          },
          "autotypenumbers": "strict",
          "coloraxis": {
           "colorbar": {
            "outlinewidth": 0,
            "ticks": ""
           }
          },
          "colorscale": {
           "diverging": [
            [
             0,
             "#8e0152"
            ],
            [
             0.1,
             "#c51b7d"
            ],
            [
             0.2,
             "#de77ae"
            ],
            [
             0.3,
             "#f1b6da"
            ],
            [
             0.4,
             "#fde0ef"
            ],
            [
             0.5,
             "#f7f7f7"
            ],
            [
             0.6,
             "#e6f5d0"
            ],
            [
             0.7,
             "#b8e186"
            ],
            [
             0.8,
             "#7fbc41"
            ],
            [
             0.9,
             "#4d9221"
            ],
            [
             1,
             "#276419"
            ]
           ],
           "sequential": [
            [
             0,
             "#0d0887"
            ],
            [
             0.1111111111111111,
             "#46039f"
            ],
            [
             0.2222222222222222,
             "#7201a8"
            ],
            [
             0.3333333333333333,
             "#9c179e"
            ],
            [
             0.4444444444444444,
             "#bd3786"
            ],
            [
             0.5555555555555556,
             "#d8576b"
            ],
            [
             0.6666666666666666,
             "#ed7953"
            ],
            [
             0.7777777777777778,
             "#fb9f3a"
            ],
            [
             0.8888888888888888,
             "#fdca26"
            ],
            [
             1,
             "#f0f921"
            ]
           ],
           "sequentialminus": [
            [
             0,
             "#0d0887"
            ],
            [
             0.1111111111111111,
             "#46039f"
            ],
            [
             0.2222222222222222,
             "#7201a8"
            ],
            [
             0.3333333333333333,
             "#9c179e"
            ],
            [
             0.4444444444444444,
             "#bd3786"
            ],
            [
             0.5555555555555556,
             "#d8576b"
            ],
            [
             0.6666666666666666,
             "#ed7953"
            ],
            [
             0.7777777777777778,
             "#fb9f3a"
            ],
            [
             0.8888888888888888,
             "#fdca26"
            ],
            [
             1,
             "#f0f921"
            ]
           ]
          },
          "colorway": [
           "#636efa",
           "#EF553B",
           "#00cc96",
           "#ab63fa",
           "#FFA15A",
           "#19d3f3",
           "#FF6692",
           "#B6E880",
           "#FF97FF",
           "#FECB52"
          ],
          "font": {
           "color": "#2a3f5f"
          },
          "geo": {
           "bgcolor": "white",
           "lakecolor": "white",
           "landcolor": "#E5ECF6",
           "showlakes": true,
           "showland": true,
           "subunitcolor": "white"
          },
          "hoverlabel": {
           "align": "left"
          },
          "hovermode": "closest",
          "mapbox": {
           "style": "light"
          },
          "paper_bgcolor": "white",
          "plot_bgcolor": "#E5ECF6",
          "polar": {
           "angularaxis": {
            "gridcolor": "white",
            "linecolor": "white",
            "ticks": ""
           },
           "bgcolor": "#E5ECF6",
           "radialaxis": {
            "gridcolor": "white",
            "linecolor": "white",
            "ticks": ""
           }
          },
          "scene": {
           "xaxis": {
            "backgroundcolor": "#E5ECF6",
            "gridcolor": "white",
            "gridwidth": 2,
            "linecolor": "white",
            "showbackground": true,
            "ticks": "",
            "zerolinecolor": "white"
           },
           "yaxis": {
            "backgroundcolor": "#E5ECF6",
            "gridcolor": "white",
            "gridwidth": 2,
            "linecolor": "white",
            "showbackground": true,
            "ticks": "",
            "zerolinecolor": "white"
           },
           "zaxis": {
            "backgroundcolor": "#E5ECF6",
            "gridcolor": "white",
            "gridwidth": 2,
            "linecolor": "white",
            "showbackground": true,
            "ticks": "",
            "zerolinecolor": "white"
           }
          },
          "shapedefaults": {
           "line": {
            "color": "#2a3f5f"
           }
          },
          "ternary": {
           "aaxis": {
            "gridcolor": "white",
            "linecolor": "white",
            "ticks": ""
           },
           "baxis": {
            "gridcolor": "white",
            "linecolor": "white",
            "ticks": ""
           },
           "bgcolor": "#E5ECF6",
           "caxis": {
            "gridcolor": "white",
            "linecolor": "white",
            "ticks": ""
           }
          },
          "title": {
           "x": 0.05
          },
          "xaxis": {
           "automargin": true,
           "gridcolor": "white",
           "linecolor": "white",
           "ticks": "",
           "title": {
            "standoff": 15
           },
           "zerolinecolor": "white",
           "zerolinewidth": 2
          },
          "yaxis": {
           "automargin": true,
           "gridcolor": "white",
           "linecolor": "white",
           "ticks": "",
           "title": {
            "standoff": 15
           },
           "zerolinecolor": "white",
           "zerolinewidth": 2
          }
         }
        },
        "title": {
         "text": "Policy vs. Safe Set (Real Joints after Action)"
        }
       }
      }
     },
     "metadata": {},
     "output_type": "display_data"
    }
   ],
   "source": [
    "# 8) Visualize final real EEF poses vs. safe set\n",
    "all_poses_7d = np.array(all_poses_7d)\n",
    "all_inside_flags = np.array(all_inside_flags, dtype=bool)\n",
    "if len(all_poses_7d) > 0:\n",
    "    visualize_policy_predictions(\n",
    "        safe_set,\n",
    "        predicted_poses_7d=all_poses_7d,\n",
    "        inside_flags=all_inside_flags,\n",
    "        title=\"Policy vs. Safe Set (Real Joints after Action)\"\n",
    "    )\n",
    "else:\n",
    "    print(\"No EEF poses to visualize.\")"
   ]
  },
  {
   "cell_type": "code",
   "execution_count": null,
   "metadata": {},
   "outputs": [],
   "source": []
  },
  {
   "cell_type": "code",
   "execution_count": null,
   "metadata": {},
   "outputs": [],
   "source": []
  },
  {
   "cell_type": "code",
   "execution_count": null,
   "metadata": {},
   "outputs": [],
   "source": []
  },
  {
   "cell_type": "code",
   "execution_count": null,
   "metadata": {},
   "outputs": [],
   "source": []
  },
  {
   "cell_type": "code",
   "execution_count": null,
   "metadata": {},
   "outputs": [],
   "source": []
  },
  {
   "cell_type": "code",
   "execution_count": 36,
   "metadata": {},
   "outputs": [],
   "source": [
    "import os\n",
    "import time\n",
    "import numpy as np\n",
    "from scipy.spatial.transform import Rotation as R\n",
    "import plotly.graph_objects as go\n",
    "from scipy.spatial import ConvexHull\n",
    "\n",
    "# -----------------------------------------------------------------------------\n",
    "# 1) Utility Functions\n",
    "# -----------------------------------------------------------------------------\n",
    "def normalize_quaternion(q):\n",
    "    norm = np.linalg.norm(q)\n",
    "    if norm < 1e-6:\n",
    "        return np.array([0, 0, 0, 1])\n",
    "    return q / norm\n",
    "\n",
    "def dh_transform(a, alpha, d, theta):\n",
    "    return np.array([\n",
    "        [ np.cos(theta), -np.sin(theta)*np.cos(alpha),  np.sin(theta)*np.sin(alpha),  a*np.cos(theta)],\n",
    "        [ np.sin(theta),  np.cos(theta)*np.cos(alpha), -np.cos(theta)*np.sin(alpha),  a*np.sin(theta)],\n",
    "        [ 0,              np.sin(alpha),                np.cos(alpha),                d              ],\n",
    "        [ 0,              0,                            0,                            1              ]\n",
    "    ], dtype=float)\n",
    "\n",
    "def franka_forward_kinematics(joint_angles):\n",
    "    q1, q2, q3, q4, q5, q6, q7 = joint_angles\n",
    "    T1 = dh_transform(a=0,       alpha=0,         d=0.333,   theta=q1)\n",
    "    T2 = dh_transform(a=0,       alpha=-np.pi/2,  d=0,       theta=q2)\n",
    "    T3 = dh_transform(a=0,       alpha=np.pi/2,   d=0.316,   theta=q3)\n",
    "    T4 = dh_transform(a=0.0825,  alpha=np.pi/2,   d=0,       theta=q4)\n",
    "    T5 = dh_transform(a=-0.0825, alpha=-np.pi/2,  d=0.384,   theta=q5)\n",
    "    T6 = dh_transform(a=0,       alpha=np.pi/2,   d=0,       theta=q6)\n",
    "    T7 = dh_transform(a=0.088,   alpha=np.pi/2,   d=0,       theta=q7)\n",
    "    T = T1 @ T2 @ T3 @ T4 @ T5 @ T6 @ T7\n",
    "    # Flange offset\n",
    "    T_flange = dh_transform(a=0, alpha=0, d=0.107, theta=0)\n",
    "    return T @ T_flange\n",
    "\n",
    "def joint_angles_to_end_effector_pose(joint_angles):\n",
    "    \"\"\"\n",
    "    Compute the 7D pose [x, y, z, qx, qy, qz, qw] using forward kinematics.\n",
    "    \"\"\"\n",
    "    T = franka_forward_kinematics(joint_angles)\n",
    "    pos = T[:3, 3]\n",
    "    rot_mat = T[:3, :3]\n",
    "    quat = R.from_matrix(rot_mat).as_quat()  # [qx, qy, qz, qw]\n",
    "    quat = normalize_quaternion(quat)\n",
    "    return np.hstack([pos, quat])\n",
    "\n",
    "# -----------------------------------------------------------------------------\n",
    "# 2) Safe Set Functions\n",
    "# -----------------------------------------------------------------------------\n",
    "def load_safe_set(file_path=\"safe_set_6d_dummy.npz\"):\n",
    "    data = np.load(file_path)\n",
    "    return data[\"safe_set\"], data[\"hull_equations\"], data[\"hull_vertices\"]\n",
    "\n",
    "def pose7d_to_6d(pose7d):\n",
    "    \"\"\"\n",
    "    Convert a 7D pose (position + quaternion) to a minimal 6D representation:\n",
    "    [x, y, z, rx, ry, rz] where (rx, ry, rz) is the rotation vector.\n",
    "    \"\"\"\n",
    "    pos = pose7d[:3]\n",
    "    quat = pose7d[3:7]\n",
    "    norm = np.linalg.norm(quat)\n",
    "    quat = quat / norm if norm > 1e-6 else np.array([0, 0, 0, 1])\n",
    "    rotvec = R.from_quat(quat).as_rotvec()\n",
    "    return np.hstack([pos, rotvec])\n",
    "\n",
    "def is_pose_in_safe_set_6d(query_6d, hull_equations, tol=1e-8):\n",
    "    A = hull_equations[:, :-1]\n",
    "    b = hull_equations[:, -1]\n",
    "    norms = np.linalg.norm(A, axis=1)\n",
    "    distances = (A.dot(query_6d) + b) / norms\n",
    "    inside = np.all(distances <= tol)\n",
    "    return inside, distances\n",
    "\n",
    "def quat_to_axis_angle_pose(pose7d):\n",
    "    \"\"\"\n",
    "    Convert a 7D pose (position and quaternion) to a 6D pose (position and axis–angle).\n",
    "    \n",
    "    Parameters:\n",
    "      pose7d: A numpy array or list with 7 elements [x, y, z, qx, qy, qz, qw].\n",
    "      \n",
    "    Returns:\n",
    "      A numpy array with 6 elements [x, y, z, rx, ry, rz], where [rx, ry, rz]\n",
    "      is the rotation vector (axis–angle representation).\n",
    "    \"\"\"\n",
    "    pos = np.array(pose7d[:3])\n",
    "    quat = np.array(pose7d[3:7])\n",
    "    \n",
    "    # Normalize the quaternion to avoid errors.\n",
    "    norm = np.linalg.norm(quat)\n",
    "    if norm < 1e-6:\n",
    "        quat = np.array([0, 0, 0, 1])\n",
    "    else:\n",
    "        quat = quat / norm\n",
    "    \n",
    "    # Convert the normalized quaternion to a rotation vector (axis–angle).\n",
    "    rotvec = R.from_quat(quat).as_rotvec()\n",
    "    \n",
    "    # Combine position and rotation vector.\n",
    "    pose6d = np.hstack([pos, rotvec])\n",
    "    return pose6d\n",
    "\n",
    "# -----------------------------------------------------------------------------\n",
    "# 3) Pose Composition\n",
    "# -----------------------------------------------------------------------------\n",
    "def compose_new_pose_7d(current_pose_7d, delta_action, trans_scale=1.0, rot_scale=1.0):\n",
    "    \"\"\"\n",
    "    Compute a new 7D pose by applying a scaled delta action to the current 7D pose.\n",
    "    Parameters:\n",
    "      current_pose_7d: [x, y, z, qx, qy, qz, qw]\n",
    "      delta_action: [dx, dy, dz, dax, day, daz, gripper]\n",
    "      trans_scale: scaling for translation\n",
    "      rot_scale: scaling for rotation (axis-angle)\n",
    "    Returns:\n",
    "      new_pose_7d: [x, y, z, qx, qy, qz, qw]\n",
    "    \"\"\"\n",
    "    \n",
    "    delta_trans = trans_scale * delta_action[:3]\n",
    "    delta_rot = rot_scale * delta_action[3:6]\n",
    "    new_pos = current_pose_7d[:3] + delta_trans\n",
    "    current_quat = current_pose_7d[3:7]\n",
    "\n",
    "    delta_quat = R.from_rotvec(delta_rot).as_quat()\n",
    "    new_rot = R.from_quat(current_quat) * R.from_quat(delta_quat)\n",
    "    new_quat = normalize_quaternion(new_rot.as_quat())\n",
    "    \n",
    "    new_pose= np.hstack([new_pos, new_quat,current_pose_7d[-1]])\n",
    "    new_pose_axis=quat_to_axis_angle_pose(new_pose)\n",
    "    # absolute_correct_robot_pose(robot_interface, new_pose)\n",
    "    return new_pose,new_pose_axis\n",
    "\n",
    "def absolute_correct_robot_pose(robot_interface, desired_pose):\n",
    "    \"\"\"\n",
    "    Commands the robot with an absolute desired pose until it reaches that pose.\n",
    "    \n",
    "    Assumptions:\n",
    "      - desired_pose is a 7D pose: [x, y, z, qx, qy, qz, qw].\n",
    "      - robot_interface.last_q returns the current joint angles.\n",
    "      - joint_angles_to_end_effector_pose(js) converts joint angles to a 7D pose.\n",
    "      - pose7d_to_6d(pose7d) converts a 7D pose (with quaternion) into a 6D pose: [x, y, z, rx, ry, rz].\n",
    "      - The control function is configured with is_delta=False so that the command is interpreted as an exact pose.\n",
    "    \n",
    "    The function repeatedly sends the exact desired pose until the positional and rotational\n",
    "    errors are within specified tolerances.\n",
    "    \"\"\"\n",
    "    MAX_CORRECTION_ITERS = 100\n",
    "    for iter_count in range(MAX_CORRECTION_ITERS):\n",
    "        js_real = robot_interface.last_q\n",
    "        if js_real is None:\n",
    "            print(\"No joint angles read. Retrying...\")\n",
    "            continue\n",
    "\n",
    "        # Get the current end-effector pose in 7D.\n",
    "        actual_pose = joint_angles_to_end_effector_pose(js_real)\n",
    "        \n",
    "        # Compute errors between desired and actual pose.\n",
    "        pos_err, rot_err = compute_pose_error(desired_pose, actual_pose)\n",
    "        pos_norm = np.linalg.norm(pos_err)\n",
    "        rot_norm = np.linalg.norm(rot_err)\n",
    "        \n",
    "        print(f\"[Absolute Correction Iter {iter_count+1}] Pos Err: {pos_err} (norm {pos_norm}), \"\n",
    "              f\"Rot Err: {rot_err} (norm {rot_norm})\")\n",
    "\n",
    "        # If both errors are within tolerance, stop.\n",
    "        if pos_norm < POSITION_TOLERANCE and rot_norm < ROTATION_TOLERANCE:\n",
    "            print(\"Robot has reached the desired pose.\")\n",
    "            break\n",
    "\n",
    "        # Convert the desired 7D pose to a 6D pose command.\n",
    "        desired_pose_6d = pose7d_to_6d(desired_pose)\n",
    "        print(f\"Sending absolute desired pose: {desired_pose_6d}\")\n",
    "\n",
    "        # Send the absolute pose command to the robot.\n",
    "        robot_interface.control(\n",
    "            controller_type=controller_type,\n",
    "            action=desired_pose_6d,\n",
    "            controller_cfg=controller_cfg  # Ensure is_delta is set to False in this config.\n",
    "        )\n",
    "        time.sleep(0.1)\n",
    "\n",
    "# def compose_new_pose_7d(current_pose_7d, target_pose_7d):\n",
    "#     \"\"\"\n",
    "#     Compose a new absolute 7D pose from an exact target pose given in axis–angle form.\n",
    "    \n",
    "#     Parameters:\n",
    "#       robot_interface: The robot interface used to send commands.\n",
    "#       current_pose_7d: Current pose [x, y, z, qx, qy, qz, qw] (or 8D if a gripper value is appended).\n",
    "#       target_pose_6d: Absolute target pose [x, y, z, rx, ry, rz],\n",
    "#                       where [rx, ry, rz] is the rotation expressed as an axis–angle vector.\n",
    "    \n",
    "#     Returns:\n",
    "#       new_pose_7d: Absolute pose [x, y, z, qx, qy, qz, qw] (or with gripper value appended).\n",
    "#     \"\"\"\n",
    "#     # The position is given directly.\n",
    "#     new_pos = target_pose_7d[:3]\n",
    "    \n",
    "#     # Convert the target axis–angle rotation (3D rotation vector) to a quaternion.\n",
    "#     new_quat = R.from_rotvec(target_pose_7d[3:6]).as_quat()\n",
    "    \n",
    "#     # If the current pose includes a gripper value (8D), preserve it.\n",
    "#     if len(current_pose_7d) > 7:\n",
    "#         gripper_val = current_pose_7d[7]\n",
    "#         new_pose = np.hstack([new_pos, new_quat, gripper_val])\n",
    "#     else:\n",
    "#         new_pose = np.hstack([new_pos, new_quat,-1])\n",
    "    \n",
    "#     # Command the robot with the absolute (exact) desired pose.\n",
    "#     # absolute_correct_robot_pose(robot_interface, new_pose)\n",
    "    \n",
    "#     return new_pose\n",
    "\n",
    "\n",
    "# -----------------------------------------------------------------------------\n",
    "# 4) Visualization Function\n",
    "# -----------------------------------------------------------------------------\n",
    "def visualize_policy_predictions(safe_set, predicted_poses_7d, inside_flags, title=\"Policy Predictions vs. Safe Set\"):\n",
    "    \"\"\"\n",
    "    Visualize the safe set and the predicted 7D end-effector poses.\n",
    "    The safe set is plotted as a 3D convex hull (using the position part) and the\n",
    "    predicted poses are overlaid as scatter points.\n",
    "    Points that are inside the safe set are colored green; those outside are red.\n",
    "    \"\"\"\n",
    "    # Compute the convex hull from the safe set (positions only, first 3 dims)\n",
    "    hull = ConvexHull(safe_set[:, :3])\n",
    "    \n",
    "    # Create mesh data for the convex hull\n",
    "    x_hull = safe_set[:, 0]\n",
    "    y_hull = safe_set[:, 1]\n",
    "    z_hull = safe_set[:, 2]\n",
    "    \n",
    "    # Prepare colors based on inside_flags\n",
    "    colors = [\"green\" if flag else \"red\" for flag in inside_flags]\n",
    "    \n",
    "    fig = go.Figure()\n",
    "    # Plot the safe set hull as a 3D mesh.\n",
    "    fig.add_trace(go.Mesh3d(\n",
    "        x=x_hull, y=y_hull, z=z_hull,\n",
    "        i=hull.simplices[:, 0],\n",
    "        j=hull.simplices[:, 1],\n",
    "        k=hull.simplices[:, 2],\n",
    "        opacity=0.3,\n",
    "        color='lightblue',\n",
    "        name='Safe Set Hull'\n",
    "    ))\n",
    "    \n",
    "    # Plot the predicted poses as scatter points (using positions only).\n",
    "    fig.add_trace(go.Scatter3d(\n",
    "        x=predicted_poses_7d[:, 0],\n",
    "        y=predicted_poses_7d[:, 1],\n",
    "        z=predicted_poses_7d[:, 2],\n",
    "        mode='markers',\n",
    "        marker=dict(size=5, color=colors),\n",
    "        name='Predicted Poses'\n",
    "    ))\n",
    "    \n",
    "    fig.update_layout(\n",
    "        title=title,\n",
    "        scene=dict(xaxis_title=\"X\", yaxis_title=\"Y\", zaxis_title=\"Z\")\n",
    "    )\n",
    "    \n",
    "    fig.show()\n",
    "\n",
    "POSITION_TOLERANCE = 1e-2  # meters\n",
    "ROTATION_TOLERANCE = 1e-2  # radians\n",
    "\n",
    "def compute_pose_error(target_pose, current_pose):\n",
    "    \"\"\"\n",
    "    Compute position and orientation error between target_pose and current_pose.\n",
    "    \n",
    "    Both poses are assumed to be 7D: [x, y, z, qx, qy, qz, qw], where the quaternion is normalized.\n",
    "    \n",
    "    The rotational error is computed via the error quaternion:\n",
    "      q_error = q_target * (q_current)^(-1)\n",
    "    and converted to a rotation vector (axis-angle representation).\n",
    "    \"\"\"\n",
    "    # Position error:\n",
    "    pos_error = target_pose[:3] - current_pose[:3]\n",
    "    \n",
    "    # Rotational error:\n",
    "    q_target = target_pose[3:7]\n",
    "    q_current = current_pose[3:7]\n",
    "    # For unit quaternions, the inverse is the conjugate:\n",
    "    q_current_inv = np.array([-q_current[0], -q_current[1], -q_current[2], q_current[3]])\n",
    "    # Compute error quaternion:\n",
    "    q_error = R.from_quat(q_target) * R.from_quat(q_current_inv)\n",
    "    # Convert error quaternion to axis-angle (rotation vector)\n",
    "    rot_error = q_error.as_rotvec()\n",
    "    \n",
    "    return pos_error, rot_error\n",
    "\n",
    "def dynamic_correct_robot_pose(robot_interface, desired_pose):\n",
    "    MAX_CORRECTION_ITERS = 100\n",
    "    MIN_GAIN = 0.1\n",
    "    MAX_GAIN = 1.0\n",
    "    FIXED_ROT_GAIN = 0.5  # Tune this fixed gain for rotation as needed\n",
    "    \n",
    "    for iter_count in range(MAX_CORRECTION_ITERS):\n",
    "        js_real = robot_interface.last_q\n",
    "        if js_real is None:\n",
    "            print(\"No joint angles read. Retrying...\")\n",
    "            continue\n",
    "        \n",
    "        actual_pose = joint_angles_to_end_effector_pose(js_real)\n",
    "        pos_err, rot_err = compute_pose_error(desired_pose, actual_pose)\n",
    "        \n",
    "        pos_norm = np.linalg.norm(pos_err)\n",
    "        rot_norm = np.linalg.norm(rot_err)\n",
    "        print(f\"[Dynamic Correction Iter {iter_count+1}] Pos Err: {pos_err} (norm {pos_norm}), Rot Err: {rot_err} (norm {rot_norm})\")\n",
    "        \n",
    "        if pos_norm < POSITION_TOLERANCE and rot_norm < ROTATION_TOLERANCE:\n",
    "            print(\"Robot has reached the desired pose.\")\n",
    "            break\n",
    "        \n",
    "        # Dynamic gain for translation (capped between MIN_GAIN and MAX_GAIN)\n",
    "        trans_gain = np.clip(pos_norm, MIN_GAIN, MAX_GAIN)\n",
    "        # Use a fixed gain for rotation\n",
    "        rot_gain = FIXED_ROT_GAIN\n",
    "        \n",
    "        # Translation correction component:\n",
    "        trans_corr = pos_err * trans_gain\n",
    "        \n",
    "        # Rotational correction:\n",
    "        # rot_err is already an axis–angle vector (axis * angle)\n",
    "        # Scale the angle by rot_gain. Depending on your control convention you may need to invert the sign.\n",
    "        delta_rot = rot_err * rot_gain\n",
    "        # If your control function expects the correction in the opposite direction, use -delta_rot:\n",
    "        rot_corr = -delta_rot\n",
    "        \n",
    "        # Combine into a 6D correction vector: [dx, dy, dz, axis_x*delta_angle, axis_y*delta_angle, axis_z*delta_angle]\n",
    "        correction = np.hstack([trans_corr, rot_corr])\n",
    "        print(f\"Applying dynamic correction: {correction}\")\n",
    "        \n",
    "        robot_interface.control(\n",
    "            controller_type=controller_type,\n",
    "            action=correction,\n",
    "            controller_cfg=controller_cfg,\n",
    "        )\n",
    "        time.sleep(0.05)\n",
    "\n",
    "\n",
    "\n",
    "\n",
    "POSITION_TOLERANCE = 1e-1  # meters\n",
    "ROTATION_TOLERANCE = 1e-1  # radians\n",
    "MAX_CORRECTION_ITERS = 20  # Maximum iterations for safety\n",
    "TRANSLATIONAL_GAIN = 0.5   # Adjust as needed\n",
    "ROTATIONAL_GAIN = 0.5     # Adjust as needed\n",
    "\n",
    "def decoupled_correct_robot_pose(robot_interface, desired_pose):\n",
    "    \"\"\"\n",
    "    Corrects the robot's pose in two decoupled phases:\n",
    "      1. Orientation correction: apply pure rotational corrections.\n",
    "      2. Translation correction: apply pure translational corrections.\n",
    "    \"\"\"\n",
    "    iter_count = 0\n",
    "\n",
    "    # Phase 1: Correct Rotation First\n",
    "    while iter_count < MAX_CORRECTION_ITERS:\n",
    "        iter_count += 1\n",
    "        js_real = robot_interface.last_q\n",
    "        if js_real is None:\n",
    "            print(\"No joint angles read. Retrying rotation correction...\")\n",
    "            continue\n",
    "        \n",
    "        actual_pose = joint_angles_to_end_effector_pose(js_real)\n",
    "        pos_error, rot_error = compute_pose_error(desired_pose, actual_pose)\n",
    "        \n",
    "        if np.linalg.norm(rot_error) < ROTATION_TOLERANCE:\n",
    "            print(\"Rotation error within tolerance.\")\n",
    "            break\n",
    "        \n",
    "        # Apply only rotational correction (zero translation)\n",
    "        correction = np.hstack([np.zeros(3), -rot_error * ROTATIONAL_GAIN,desired_pose[-1]])\n",
    "        # print(f\"[Rotation Correction Iter {iter_count}] Applying correction: {correction}\")\n",
    "        robot_interface.control(\n",
    "            controller_type=controller_type,\n",
    "            action=correction,\n",
    "            controller_cfg=controller_cfg,\n",
    "        )\n",
    "        time.sleep(0.05)\n",
    "    \n",
    "    # Phase 2: Correct Translation Next\n",
    "    iter_count = 0\n",
    "    while iter_count < MAX_CORRECTION_ITERS:\n",
    "        iter_count += 1\n",
    "        js_real = robot_interface.last_q\n",
    "        if js_real is None:\n",
    "            print(\"No joint angles read. Retrying translation correction...\")\n",
    "            continue\n",
    "        \n",
    "        actual_pose = joint_angles_to_end_effector_pose(js_real)\n",
    "        pos_error, rot_error = compute_pose_error(desired_pose, actual_pose)\n",
    "        \n",
    "        if np.linalg.norm(pos_error) < POSITION_TOLERANCE:\n",
    "            print(\"Translation error within tolerance.\")\n",
    "            break\n",
    "        \n",
    "        # Apply only translational correction (zero rotation)\n",
    "        correction = np.hstack([pos_error * TRANSLATIONAL_GAIN, np.zeros(3),desired_pose[-1]])\n",
    "        # print(f\"[Translation Correction Iter {iter_count}] Applying correction: {correction}\")\n",
    "        robot_interface.control(\n",
    "            controller_type=controller_type,\n",
    "            action=correction,\n",
    "            controller_cfg=controller_cfg,\n",
    "        )\n",
    "        time.sleep(0.05)\n",
    "    \n",
    "    print(\"Decoupled correction completed.\")\n",
    "\n",
    "def absolute_correct_robot_pose(robot_interface, desired_pose):\n",
    "    \"\"\"\n",
    "    Commands the absolute desired pose (as a 6D vector: [x, y, z, rx, ry, rz])\n",
    "    repeatedly until the robot's current pose is within tolerances.\n",
    "\n",
    "    Assumes:\n",
    "      - desired_pose is a 7D vector: [x, y, z, qx, qy, qz, qw]\n",
    "      - robot_interface.last_q is used to compute the current pose via forward kinematics.\n",
    "      - pose7d_to_6d converts a 7D pose (with quaternion) into a 6D pose (position and rotation vector).\n",
    "      - The control function is configured with is_delta=False.\n",
    "    \"\"\"\n",
    "    MAX_CORRECTION_ITERS = 100\n",
    "    for iter_count in range(MAX_CORRECTION_ITERS):\n",
    "        js_real = robot_interface.last_q\n",
    "        if js_real is None:\n",
    "            print(\"No joint angles read. Retrying...\")\n",
    "            continue\n",
    "\n",
    "        actual_pose = joint_angles_to_end_effector_pose(js_real)\n",
    "        pos_err, rot_err = compute_pose_error(desired_pose, actual_pose)\n",
    "        pos_norm = np.linalg.norm(pos_err)\n",
    "        rot_norm = np.linalg.norm(rot_err)\n",
    "        print(f\"[Absolute Correction Iter {iter_count+1}] Pos Err: {pos_err} (norm {pos_norm}), Rot Err: {rot_err} (norm {rot_norm})\")\n",
    "\n",
    "        if pos_norm < POSITION_TOLERANCE and rot_norm < ROTATION_TOLERANCE:\n",
    "            print(\"Robot has reached the desired pose.\")\n",
    "            break\n",
    "\n",
    "        # Convert the desired 7D pose to a 6D absolute pose command.\n",
    "        desired_pose_6d = pose7d_to_6d(desired_pose)\n",
    "        print(f\"Sending absolute desired pose: {desired_pose_6d}\")\n",
    "        robot_interface.control(\n",
    "            controller_type=controller_type,\n",
    "            action=desired_pose_6d,\n",
    "            controller_cfg=controller_cfg,  # Ensure is_delta=False is set here.\n",
    "        )\n",
    "        time.sleep(0.1)\n",
    "\n",
    "\n",
    "# -----------------------------------------------------------------------------\n",
    "# 2) Main Policy Rollout Loop\n",
    "# -----------------------------------------------------------------------------\n",
    "\n",
    "# Controller configuration\n",
    "ACTION_SCALE_TRANSLATION = 0.05\n",
    "ACTION_SCALE_ROTATION = 1.0\n",
    "\n",
    "\n",
    "# Load safe set\n",
    "safe_set_file = \"Safe_diffusion_policy/safe_set_6d_dummy.npz\"\n",
    "safe_set, hull_equations, _ = load_safe_set(safe_set_file)\n"
   ]
  },
  {
   "cell_type": "code",
   "execution_count": 33,
   "metadata": {},
   "outputs": [
    {
     "name": "stdout",
     "output_type": "stream",
     "text": [
      "JOINT_POSITION\n"
     ]
    }
   ],
   "source": [
    "# Reset robot and policy\n",
    "set_gripper(open=True)\n",
    "reset_joints_to(robot_interface, reset_joint_positions)\n",
    "set_gripper(open=True)\n",
    "policy.reset()"
   ]
  },
  {
   "cell_type": "code",
   "execution_count": 38,
   "metadata": {},
   "outputs": [
    {
     "name": "stdout",
     "output_type": "stream",
     "text": [
      "JOINT_POSITION\n",
      "Initial computed 7D Pose from joint angles: [ 0.606 -0.081  0.346 -0.374  0.821 -0.175 -0.395]\n",
      "\n",
      "--- Step 1 ---\n",
      "from controller:  [0. 0. 0.] [0. 0. 0.]\n",
      "  Safe set check: inside = False\n",
      "Sending action 0 to robot: [ 0.32  -0.09   0.117 -0.016  0.137 -0.029 -0.987]\n",
      "Stored updated 7D pose for next iteration: [ 0.927 -0.171  0.463 -0.369  0.788 -0.188 -0.456 -0.395]\n",
      "  Safe set check: inside = False\n",
      "Sending action 1 to robot: [ 0.334 -0.092  0.079 -0.02   0.125 -0.012 -0.996]\n",
      "Stored updated 7D pose for next iteration: [ 1.26  -0.263  0.542 -0.357  0.757 -0.2   -0.509 -0.395]\n",
      "  Safe set check: inside = False\n",
      "Sending action 2 to robot: [ 0.365 -0.08   0.117 -0.028  0.118  0.003 -0.994]\n",
      "Stored updated 7D pose for next iteration: [ 1.625 -0.343  0.659 -0.336  0.729 -0.211 -0.558 -0.395]\n",
      "  Safe set check: inside = False\n",
      "Sending action 3 to robot: [ 0.361 -0.089  0.101 -0.033  0.14  -0.011 -0.994]\n",
      "Stored updated 7D pose for next iteration: [ 1.986 -0.432  0.76  -0.315  0.69  -0.219 -0.614 -0.395]\n",
      "\n",
      "--- Step 2 ---\n",
      "from controller:  [0. 0. 0.] [0. 0. 0.]\n",
      "  Safe set check: inside = False\n",
      "Sending action 0 to robot: [ 0.289 -0.049  0.141  0.022  0.097 -0.005 -1.   ]\n",
      "Stored updated 7D pose for next iteration: [ 2.276 -0.48   0.901 -0.313  0.656 -0.24  -0.644 -0.395]\n",
      "  Safe set check: inside = False\n",
      "Sending action 1 to robot: [ 0.305 -0.049  0.17   0.015  0.088 -0.006 -1.   ]\n",
      "Stored updated 7D pose for next iteration: [ 2.581 -0.529  1.071 -0.309  0.624 -0.257 -0.67  -0.395]\n",
      "  Safe set check: inside = False\n",
      "Sending action 2 to robot: [ 0.301 -0.038  0.175  0.02   0.071 -0.005 -1.   ]\n",
      "Stored updated 7D pose for next iteration: [ 2.881 -0.567  1.246 -0.308  0.597 -0.272 -0.689 -0.395]\n",
      "  Safe set check: inside = False\n",
      "Sending action 3 to robot: [ 0.311 -0.03   0.186  0.015  0.073 -0.002 -1.   ]\n",
      "Stored updated 7D pose for next iteration: [ 3.193 -0.597  1.432 -0.303  0.569 -0.287 -0.709 -0.395]\n",
      "\n",
      "--- Step 3 ---\n",
      "from controller:  [0. 0. 0.] [0. 0. 0.]\n",
      "  Safe set check: inside = False\n",
      "Sending action 0 to robot: [ 0.339 -0.026  0.187  0.013  0.08  -0.009 -1.   ]\n",
      "Stored updated 7D pose for next iteration: [ 3.531 -0.623  1.619 -0.299  0.537 -0.299 -0.73  -0.395]\n",
      "  Safe set check: inside = False\n",
      "Sending action 1 to robot: [ 0.354 -0.021  0.21   0.006  0.069 -0.004 -1.   ]\n",
      "Stored updated 7D pose for next iteration: [ 3.885 -0.643  1.829 -0.291  0.51  -0.31  -0.748 -0.395]\n",
      "  Safe set check: inside = False\n",
      "Sending action 2 to robot: [ 0.35  -0.007  0.204  0.001  0.057 -0.004 -1.   ]\n",
      "Stored updated 7D pose for next iteration: [ 4.236 -0.65   2.033 -0.284  0.487 -0.316 -0.763 -0.395]\n",
      "  Safe set check: inside = False\n",
      "Sending action 3 to robot: [ 0.352 -0.004  0.202  0.001  0.055 -0.006 -1.   ]\n",
      "Stored updated 7D pose for next iteration: [ 4.587 -0.654  2.235 -0.277  0.465 -0.322 -0.777 -0.395]\n",
      "\n",
      "--- Step 4 ---\n",
      "from controller:  [0. 0. 0.] [0. 0. 0.]\n"
     ]
    },
    {
     "ename": "KeyboardInterrupt",
     "evalue": "",
     "output_type": "error",
     "traceback": [
      "\u001b[0;31m---------------------------------------------------------------------------\u001b[0m",
      "\u001b[0;31mKeyboardInterrupt\u001b[0m                         Traceback (most recent call last)",
      "Cell \u001b[0;32mIn[38], line 39\u001b[0m\n\u001b[1;32m     36\u001b[0m obs \u001b[38;5;241m=\u001b[39m framestacker\u001b[38;5;241m.\u001b[39madd_new_obs(obs_dict)\n\u001b[1;32m     38\u001b[0m \u001b[38;5;66;03m# Policy predicts delta actions\u001b[39;00m\n\u001b[0;32m---> 39\u001b[0m action_pred \u001b[38;5;241m=\u001b[39m \u001b[43mpredict_action\u001b[49m\u001b[43m(\u001b[49m\u001b[43mobs\u001b[49m\u001b[43m)\u001b[49m\n\u001b[1;32m     41\u001b[0m \u001b[38;5;28;01mfor\u001b[39;00m i, delta_action \u001b[38;5;129;01min\u001b[39;00m \u001b[38;5;28menumerate\u001b[39m(action_pred[:\u001b[38;5;241m4\u001b[39m]):\n\u001b[1;32m     42\u001b[0m     \u001b[38;5;66;03m# Compute predicted pose using stored pose and delta action\u001b[39;00m\n\u001b[1;32m     43\u001b[0m     \u001b[38;5;66;03m# predicted_pose = compose_new_pose_7d(current_pose_7d, delta_action,\u001b[39;00m\n\u001b[1;32m     44\u001b[0m     \u001b[38;5;66;03m#                                      trans_scale=ACTION_SCALE_TRANSLATION,\u001b[39;00m\n\u001b[1;32m     45\u001b[0m     \u001b[38;5;66;03m#                                      rot_scale=ACTION_SCALE_ROTATION)\u001b[39;00m\n\u001b[1;32m     46\u001b[0m     predicted_pose,predicted_axis_pose \u001b[38;5;241m=\u001b[39m compose_new_pose_7d(current_pose_7d, delta_action)\n",
      "Cell \u001b[0;32mIn[29], line 15\u001b[0m, in \u001b[0;36mpredict_action\u001b[0;34m(obs)\u001b[0m\n\u001b[1;32m     11\u001b[0m     obs_dict[key]\u001b[38;5;241m=\u001b[39mobs_dict[key]\u001b[38;5;241m.\u001b[39munsqueeze(\u001b[38;5;241m0\u001b[39m) \n\u001b[1;32m     14\u001b[0m \u001b[38;5;28;01mwith\u001b[39;00m torch\u001b[38;5;241m.\u001b[39mno_grad():\n\u001b[0;32m---> 15\u001b[0m     action_dict \u001b[38;5;241m=\u001b[39m \u001b[43mpolicy\u001b[49m\u001b[38;5;241;43m.\u001b[39;49m\u001b[43mpredict_action\u001b[49m\u001b[43m(\u001b[49m\u001b[43mobs_dict\u001b[49m\u001b[43m)\u001b[49m\n\u001b[1;32m     17\u001b[0m \u001b[38;5;66;03m# device_transfer\u001b[39;00m\n\u001b[1;32m     18\u001b[0m np_action_dict \u001b[38;5;241m=\u001b[39m dict_apply(action_dict, \u001b[38;5;28;01mlambda\u001b[39;00m x: x\u001b[38;5;241m.\u001b[39mdetach()\u001b[38;5;241m.\u001b[39mto(\u001b[38;5;124m'\u001b[39m\u001b[38;5;124mcpu\u001b[39m\u001b[38;5;124m'\u001b[39m)\u001b[38;5;241m.\u001b[39mnumpy())\n",
      "File \u001b[0;32m~/diffusion_policy/diffusion_policy/policy/diffusion_unet_hybrid_image_policy.py:258\u001b[0m, in \u001b[0;36mDiffusionUnetHybridImagePolicy.predict_action\u001b[0;34m(self, obs_dict)\u001b[0m\n\u001b[1;32m    255\u001b[0m     cond_mask[:,:To,Da:] \u001b[38;5;241m=\u001b[39m \u001b[38;5;28;01mTrue\u001b[39;00m\n\u001b[1;32m    257\u001b[0m \u001b[38;5;66;03m# run sampling\u001b[39;00m\n\u001b[0;32m--> 258\u001b[0m nsample \u001b[38;5;241m=\u001b[39m \u001b[38;5;28;43mself\u001b[39;49m\u001b[38;5;241;43m.\u001b[39;49m\u001b[43mconditional_sample\u001b[49m\u001b[43m(\u001b[49m\n\u001b[1;32m    259\u001b[0m \u001b[43m    \u001b[49m\u001b[43mcond_data\u001b[49m\u001b[43m,\u001b[49m\u001b[43m \u001b[49m\n\u001b[1;32m    260\u001b[0m \u001b[43m    \u001b[49m\u001b[43mcond_mask\u001b[49m\u001b[43m,\u001b[49m\n\u001b[1;32m    261\u001b[0m \u001b[43m    \u001b[49m\u001b[43mlocal_cond\u001b[49m\u001b[38;5;241;43m=\u001b[39;49m\u001b[43mlocal_cond\u001b[49m\u001b[43m,\u001b[49m\n\u001b[1;32m    262\u001b[0m \u001b[43m    \u001b[49m\u001b[43mglobal_cond\u001b[49m\u001b[38;5;241;43m=\u001b[39;49m\u001b[43mglobal_cond\u001b[49m\u001b[43m,\u001b[49m\n\u001b[1;32m    263\u001b[0m \u001b[43m    \u001b[49m\u001b[38;5;241;43m*\u001b[39;49m\u001b[38;5;241;43m*\u001b[39;49m\u001b[38;5;28;43mself\u001b[39;49m\u001b[38;5;241;43m.\u001b[39;49m\u001b[43mkwargs\u001b[49m\u001b[43m)\u001b[49m\n\u001b[1;32m    265\u001b[0m \u001b[38;5;66;03m# unnormalize prediction\u001b[39;00m\n\u001b[1;32m    266\u001b[0m naction_pred \u001b[38;5;241m=\u001b[39m nsample[\u001b[38;5;241m.\u001b[39m\u001b[38;5;241m.\u001b[39m\u001b[38;5;241m.\u001b[39m,:Da]\n",
      "File \u001b[0;32m~/diffusion_policy/diffusion_policy/policy/diffusion_unet_hybrid_image_policy.py:199\u001b[0m, in \u001b[0;36mDiffusionUnetHybridImagePolicy.conditional_sample\u001b[0;34m(self, condition_data, condition_mask, local_cond, global_cond, generator, **kwargs)\u001b[0m\n\u001b[1;32m    196\u001b[0m trajectory[condition_mask] \u001b[38;5;241m=\u001b[39m condition_data[condition_mask]\n\u001b[1;32m    198\u001b[0m \u001b[38;5;66;03m# 2. predict model output\u001b[39;00m\n\u001b[0;32m--> 199\u001b[0m model_output \u001b[38;5;241m=\u001b[39m \u001b[43mmodel\u001b[49m\u001b[43m(\u001b[49m\u001b[43mtrajectory\u001b[49m\u001b[43m,\u001b[49m\u001b[43m \u001b[49m\u001b[43mt\u001b[49m\u001b[43m,\u001b[49m\u001b[43m \u001b[49m\n\u001b[1;32m    200\u001b[0m \u001b[43m    \u001b[49m\u001b[43mlocal_cond\u001b[49m\u001b[38;5;241;43m=\u001b[39;49m\u001b[43mlocal_cond\u001b[49m\u001b[43m,\u001b[49m\u001b[43m \u001b[49m\u001b[43mglobal_cond\u001b[49m\u001b[38;5;241;43m=\u001b[39;49m\u001b[43mglobal_cond\u001b[49m\u001b[43m)\u001b[49m\n\u001b[1;32m    202\u001b[0m \u001b[38;5;66;03m# 3. compute previous image: x_t -> x_t-1\u001b[39;00m\n\u001b[1;32m    203\u001b[0m trajectory \u001b[38;5;241m=\u001b[39m scheduler\u001b[38;5;241m.\u001b[39mstep(\n\u001b[1;32m    204\u001b[0m     model_output, t, trajectory, \n\u001b[1;32m    205\u001b[0m     generator\u001b[38;5;241m=\u001b[39mgenerator,\n\u001b[1;32m    206\u001b[0m     \u001b[38;5;241m*\u001b[39m\u001b[38;5;241m*\u001b[39mkwargs\n\u001b[1;32m    207\u001b[0m     )\u001b[38;5;241m.\u001b[39mprev_sample\n",
      "File \u001b[0;32m~/miniconda3/envs/robodiff_2/lib/python3.9/site-packages/torch/nn/modules/module.py:1739\u001b[0m, in \u001b[0;36mModule._wrapped_call_impl\u001b[0;34m(self, *args, **kwargs)\u001b[0m\n\u001b[1;32m   1737\u001b[0m     \u001b[38;5;28;01mreturn\u001b[39;00m \u001b[38;5;28mself\u001b[39m\u001b[38;5;241m.\u001b[39m_compiled_call_impl(\u001b[38;5;241m*\u001b[39margs, \u001b[38;5;241m*\u001b[39m\u001b[38;5;241m*\u001b[39mkwargs)  \u001b[38;5;66;03m# type: ignore[misc]\u001b[39;00m\n\u001b[1;32m   1738\u001b[0m \u001b[38;5;28;01melse\u001b[39;00m:\n\u001b[0;32m-> 1739\u001b[0m     \u001b[38;5;28;01mreturn\u001b[39;00m \u001b[38;5;28;43mself\u001b[39;49m\u001b[38;5;241;43m.\u001b[39;49m\u001b[43m_call_impl\u001b[49m\u001b[43m(\u001b[49m\u001b[38;5;241;43m*\u001b[39;49m\u001b[43margs\u001b[49m\u001b[43m,\u001b[49m\u001b[43m \u001b[49m\u001b[38;5;241;43m*\u001b[39;49m\u001b[38;5;241;43m*\u001b[39;49m\u001b[43mkwargs\u001b[49m\u001b[43m)\u001b[49m\n",
      "File \u001b[0;32m~/miniconda3/envs/robodiff_2/lib/python3.9/site-packages/torch/nn/modules/module.py:1750\u001b[0m, in \u001b[0;36mModule._call_impl\u001b[0;34m(self, *args, **kwargs)\u001b[0m\n\u001b[1;32m   1745\u001b[0m \u001b[38;5;66;03m# If we don't have any hooks, we want to skip the rest of the logic in\u001b[39;00m\n\u001b[1;32m   1746\u001b[0m \u001b[38;5;66;03m# this function, and just call forward.\u001b[39;00m\n\u001b[1;32m   1747\u001b[0m \u001b[38;5;28;01mif\u001b[39;00m \u001b[38;5;129;01mnot\u001b[39;00m (\u001b[38;5;28mself\u001b[39m\u001b[38;5;241m.\u001b[39m_backward_hooks \u001b[38;5;129;01mor\u001b[39;00m \u001b[38;5;28mself\u001b[39m\u001b[38;5;241m.\u001b[39m_backward_pre_hooks \u001b[38;5;129;01mor\u001b[39;00m \u001b[38;5;28mself\u001b[39m\u001b[38;5;241m.\u001b[39m_forward_hooks \u001b[38;5;129;01mor\u001b[39;00m \u001b[38;5;28mself\u001b[39m\u001b[38;5;241m.\u001b[39m_forward_pre_hooks\n\u001b[1;32m   1748\u001b[0m         \u001b[38;5;129;01mor\u001b[39;00m _global_backward_pre_hooks \u001b[38;5;129;01mor\u001b[39;00m _global_backward_hooks\n\u001b[1;32m   1749\u001b[0m         \u001b[38;5;129;01mor\u001b[39;00m _global_forward_hooks \u001b[38;5;129;01mor\u001b[39;00m _global_forward_pre_hooks):\n\u001b[0;32m-> 1750\u001b[0m     \u001b[38;5;28;01mreturn\u001b[39;00m \u001b[43mforward_call\u001b[49m\u001b[43m(\u001b[49m\u001b[38;5;241;43m*\u001b[39;49m\u001b[43margs\u001b[49m\u001b[43m,\u001b[49m\u001b[43m \u001b[49m\u001b[38;5;241;43m*\u001b[39;49m\u001b[38;5;241;43m*\u001b[39;49m\u001b[43mkwargs\u001b[49m\u001b[43m)\u001b[49m\n\u001b[1;32m   1752\u001b[0m result \u001b[38;5;241m=\u001b[39m \u001b[38;5;28;01mNone\u001b[39;00m\n\u001b[1;32m   1753\u001b[0m called_always_called_hooks \u001b[38;5;241m=\u001b[39m \u001b[38;5;28mset\u001b[39m()\n",
      "File \u001b[0;32m~/diffusion_policy/diffusion_policy/model/diffusion/conditional_unet1d.py:216\u001b[0m, in \u001b[0;36mConditionalUnet1D.forward\u001b[0;34m(self, sample, timestep, local_cond, global_cond, **kwargs)\u001b[0m\n\u001b[1;32m    214\u001b[0m h \u001b[38;5;241m=\u001b[39m []\n\u001b[1;32m    215\u001b[0m \u001b[38;5;28;01mfor\u001b[39;00m idx, (resnet, resnet2, downsample) \u001b[38;5;129;01min\u001b[39;00m \u001b[38;5;28menumerate\u001b[39m(\u001b[38;5;28mself\u001b[39m\u001b[38;5;241m.\u001b[39mdown_modules):\n\u001b[0;32m--> 216\u001b[0m     x \u001b[38;5;241m=\u001b[39m \u001b[43mresnet\u001b[49m\u001b[43m(\u001b[49m\u001b[43mx\u001b[49m\u001b[43m,\u001b[49m\u001b[43m \u001b[49m\u001b[43mglobal_feature\u001b[49m\u001b[43m)\u001b[49m\n\u001b[1;32m    217\u001b[0m     \u001b[38;5;28;01mif\u001b[39;00m idx \u001b[38;5;241m==\u001b[39m \u001b[38;5;241m0\u001b[39m \u001b[38;5;129;01mand\u001b[39;00m \u001b[38;5;28mlen\u001b[39m(h_local) \u001b[38;5;241m>\u001b[39m \u001b[38;5;241m0\u001b[39m:\n\u001b[1;32m    218\u001b[0m         x \u001b[38;5;241m=\u001b[39m x \u001b[38;5;241m+\u001b[39m h_local[\u001b[38;5;241m0\u001b[39m]\n",
      "File \u001b[0;32m~/miniconda3/envs/robodiff_2/lib/python3.9/site-packages/torch/nn/modules/module.py:1739\u001b[0m, in \u001b[0;36mModule._wrapped_call_impl\u001b[0;34m(self, *args, **kwargs)\u001b[0m\n\u001b[1;32m   1737\u001b[0m     \u001b[38;5;28;01mreturn\u001b[39;00m \u001b[38;5;28mself\u001b[39m\u001b[38;5;241m.\u001b[39m_compiled_call_impl(\u001b[38;5;241m*\u001b[39margs, \u001b[38;5;241m*\u001b[39m\u001b[38;5;241m*\u001b[39mkwargs)  \u001b[38;5;66;03m# type: ignore[misc]\u001b[39;00m\n\u001b[1;32m   1738\u001b[0m \u001b[38;5;28;01melse\u001b[39;00m:\n\u001b[0;32m-> 1739\u001b[0m     \u001b[38;5;28;01mreturn\u001b[39;00m \u001b[38;5;28;43mself\u001b[39;49m\u001b[38;5;241;43m.\u001b[39;49m\u001b[43m_call_impl\u001b[49m\u001b[43m(\u001b[49m\u001b[38;5;241;43m*\u001b[39;49m\u001b[43margs\u001b[49m\u001b[43m,\u001b[49m\u001b[43m \u001b[49m\u001b[38;5;241;43m*\u001b[39;49m\u001b[38;5;241;43m*\u001b[39;49m\u001b[43mkwargs\u001b[49m\u001b[43m)\u001b[49m\n",
      "File \u001b[0;32m~/miniconda3/envs/robodiff_2/lib/python3.9/site-packages/torch/nn/modules/module.py:1750\u001b[0m, in \u001b[0;36mModule._call_impl\u001b[0;34m(self, *args, **kwargs)\u001b[0m\n\u001b[1;32m   1745\u001b[0m \u001b[38;5;66;03m# If we don't have any hooks, we want to skip the rest of the logic in\u001b[39;00m\n\u001b[1;32m   1746\u001b[0m \u001b[38;5;66;03m# this function, and just call forward.\u001b[39;00m\n\u001b[1;32m   1747\u001b[0m \u001b[38;5;28;01mif\u001b[39;00m \u001b[38;5;129;01mnot\u001b[39;00m (\u001b[38;5;28mself\u001b[39m\u001b[38;5;241m.\u001b[39m_backward_hooks \u001b[38;5;129;01mor\u001b[39;00m \u001b[38;5;28mself\u001b[39m\u001b[38;5;241m.\u001b[39m_backward_pre_hooks \u001b[38;5;129;01mor\u001b[39;00m \u001b[38;5;28mself\u001b[39m\u001b[38;5;241m.\u001b[39m_forward_hooks \u001b[38;5;129;01mor\u001b[39;00m \u001b[38;5;28mself\u001b[39m\u001b[38;5;241m.\u001b[39m_forward_pre_hooks\n\u001b[1;32m   1748\u001b[0m         \u001b[38;5;129;01mor\u001b[39;00m _global_backward_pre_hooks \u001b[38;5;129;01mor\u001b[39;00m _global_backward_hooks\n\u001b[1;32m   1749\u001b[0m         \u001b[38;5;129;01mor\u001b[39;00m _global_forward_hooks \u001b[38;5;129;01mor\u001b[39;00m _global_forward_pre_hooks):\n\u001b[0;32m-> 1750\u001b[0m     \u001b[38;5;28;01mreturn\u001b[39;00m \u001b[43mforward_call\u001b[49m\u001b[43m(\u001b[49m\u001b[38;5;241;43m*\u001b[39;49m\u001b[43margs\u001b[49m\u001b[43m,\u001b[49m\u001b[43m \u001b[49m\u001b[38;5;241;43m*\u001b[39;49m\u001b[38;5;241;43m*\u001b[39;49m\u001b[43mkwargs\u001b[49m\u001b[43m)\u001b[49m\n\u001b[1;32m   1752\u001b[0m result \u001b[38;5;241m=\u001b[39m \u001b[38;5;28;01mNone\u001b[39;00m\n\u001b[1;32m   1753\u001b[0m called_always_called_hooks \u001b[38;5;241m=\u001b[39m \u001b[38;5;28mset\u001b[39m()\n",
      "File \u001b[0;32m~/diffusion_policy/diffusion_policy/model/diffusion/conditional_unet1d.py:64\u001b[0m, in \u001b[0;36mConditionalResidualBlock1D.forward\u001b[0;34m(self, x, cond)\u001b[0m\n\u001b[1;32m     62\u001b[0m \u001b[38;5;28;01melse\u001b[39;00m:\n\u001b[1;32m     63\u001b[0m     out \u001b[38;5;241m=\u001b[39m out \u001b[38;5;241m+\u001b[39m embed\n\u001b[0;32m---> 64\u001b[0m out \u001b[38;5;241m=\u001b[39m \u001b[38;5;28;43mself\u001b[39;49m\u001b[38;5;241;43m.\u001b[39;49m\u001b[43mblocks\u001b[49m\u001b[43m[\u001b[49m\u001b[38;5;241;43m1\u001b[39;49m\u001b[43m]\u001b[49m\u001b[43m(\u001b[49m\u001b[43mout\u001b[49m\u001b[43m)\u001b[49m\n\u001b[1;32m     65\u001b[0m out \u001b[38;5;241m=\u001b[39m out \u001b[38;5;241m+\u001b[39m \u001b[38;5;28mself\u001b[39m\u001b[38;5;241m.\u001b[39mresidual_conv(x)\n\u001b[1;32m     66\u001b[0m \u001b[38;5;28;01mreturn\u001b[39;00m out\n",
      "File \u001b[0;32m~/miniconda3/envs/robodiff_2/lib/python3.9/site-packages/torch/nn/modules/module.py:1739\u001b[0m, in \u001b[0;36mModule._wrapped_call_impl\u001b[0;34m(self, *args, **kwargs)\u001b[0m\n\u001b[1;32m   1737\u001b[0m     \u001b[38;5;28;01mreturn\u001b[39;00m \u001b[38;5;28mself\u001b[39m\u001b[38;5;241m.\u001b[39m_compiled_call_impl(\u001b[38;5;241m*\u001b[39margs, \u001b[38;5;241m*\u001b[39m\u001b[38;5;241m*\u001b[39mkwargs)  \u001b[38;5;66;03m# type: ignore[misc]\u001b[39;00m\n\u001b[1;32m   1738\u001b[0m \u001b[38;5;28;01melse\u001b[39;00m:\n\u001b[0;32m-> 1739\u001b[0m     \u001b[38;5;28;01mreturn\u001b[39;00m \u001b[38;5;28;43mself\u001b[39;49m\u001b[38;5;241;43m.\u001b[39;49m\u001b[43m_call_impl\u001b[49m\u001b[43m(\u001b[49m\u001b[38;5;241;43m*\u001b[39;49m\u001b[43margs\u001b[49m\u001b[43m,\u001b[49m\u001b[43m \u001b[49m\u001b[38;5;241;43m*\u001b[39;49m\u001b[38;5;241;43m*\u001b[39;49m\u001b[43mkwargs\u001b[49m\u001b[43m)\u001b[49m\n",
      "File \u001b[0;32m~/miniconda3/envs/robodiff_2/lib/python3.9/site-packages/torch/nn/modules/module.py:1750\u001b[0m, in \u001b[0;36mModule._call_impl\u001b[0;34m(self, *args, **kwargs)\u001b[0m\n\u001b[1;32m   1745\u001b[0m \u001b[38;5;66;03m# If we don't have any hooks, we want to skip the rest of the logic in\u001b[39;00m\n\u001b[1;32m   1746\u001b[0m \u001b[38;5;66;03m# this function, and just call forward.\u001b[39;00m\n\u001b[1;32m   1747\u001b[0m \u001b[38;5;28;01mif\u001b[39;00m \u001b[38;5;129;01mnot\u001b[39;00m (\u001b[38;5;28mself\u001b[39m\u001b[38;5;241m.\u001b[39m_backward_hooks \u001b[38;5;129;01mor\u001b[39;00m \u001b[38;5;28mself\u001b[39m\u001b[38;5;241m.\u001b[39m_backward_pre_hooks \u001b[38;5;129;01mor\u001b[39;00m \u001b[38;5;28mself\u001b[39m\u001b[38;5;241m.\u001b[39m_forward_hooks \u001b[38;5;129;01mor\u001b[39;00m \u001b[38;5;28mself\u001b[39m\u001b[38;5;241m.\u001b[39m_forward_pre_hooks\n\u001b[1;32m   1748\u001b[0m         \u001b[38;5;129;01mor\u001b[39;00m _global_backward_pre_hooks \u001b[38;5;129;01mor\u001b[39;00m _global_backward_hooks\n\u001b[1;32m   1749\u001b[0m         \u001b[38;5;129;01mor\u001b[39;00m _global_forward_hooks \u001b[38;5;129;01mor\u001b[39;00m _global_forward_pre_hooks):\n\u001b[0;32m-> 1750\u001b[0m     \u001b[38;5;28;01mreturn\u001b[39;00m \u001b[43mforward_call\u001b[49m\u001b[43m(\u001b[49m\u001b[38;5;241;43m*\u001b[39;49m\u001b[43margs\u001b[49m\u001b[43m,\u001b[49m\u001b[43m \u001b[49m\u001b[38;5;241;43m*\u001b[39;49m\u001b[38;5;241;43m*\u001b[39;49m\u001b[43mkwargs\u001b[49m\u001b[43m)\u001b[49m\n\u001b[1;32m   1752\u001b[0m result \u001b[38;5;241m=\u001b[39m \u001b[38;5;28;01mNone\u001b[39;00m\n\u001b[1;32m   1753\u001b[0m called_always_called_hooks \u001b[38;5;241m=\u001b[39m \u001b[38;5;28mset\u001b[39m()\n",
      "File \u001b[0;32m~/diffusion_policy/diffusion_policy/model/diffusion/conv1d_components.py:40\u001b[0m, in \u001b[0;36mConv1dBlock.forward\u001b[0;34m(self, x)\u001b[0m\n\u001b[1;32m     39\u001b[0m \u001b[38;5;28;01mdef\u001b[39;00m\u001b[38;5;250m \u001b[39m\u001b[38;5;21mforward\u001b[39m(\u001b[38;5;28mself\u001b[39m, x):\n\u001b[0;32m---> 40\u001b[0m     \u001b[38;5;28;01mreturn\u001b[39;00m \u001b[38;5;28;43mself\u001b[39;49m\u001b[38;5;241;43m.\u001b[39;49m\u001b[43mblock\u001b[49m\u001b[43m(\u001b[49m\u001b[43mx\u001b[49m\u001b[43m)\u001b[49m\n",
      "File \u001b[0;32m~/miniconda3/envs/robodiff_2/lib/python3.9/site-packages/torch/nn/modules/module.py:1739\u001b[0m, in \u001b[0;36mModule._wrapped_call_impl\u001b[0;34m(self, *args, **kwargs)\u001b[0m\n\u001b[1;32m   1737\u001b[0m     \u001b[38;5;28;01mreturn\u001b[39;00m \u001b[38;5;28mself\u001b[39m\u001b[38;5;241m.\u001b[39m_compiled_call_impl(\u001b[38;5;241m*\u001b[39margs, \u001b[38;5;241m*\u001b[39m\u001b[38;5;241m*\u001b[39mkwargs)  \u001b[38;5;66;03m# type: ignore[misc]\u001b[39;00m\n\u001b[1;32m   1738\u001b[0m \u001b[38;5;28;01melse\u001b[39;00m:\n\u001b[0;32m-> 1739\u001b[0m     \u001b[38;5;28;01mreturn\u001b[39;00m \u001b[38;5;28;43mself\u001b[39;49m\u001b[38;5;241;43m.\u001b[39;49m\u001b[43m_call_impl\u001b[49m\u001b[43m(\u001b[49m\u001b[38;5;241;43m*\u001b[39;49m\u001b[43margs\u001b[49m\u001b[43m,\u001b[49m\u001b[43m \u001b[49m\u001b[38;5;241;43m*\u001b[39;49m\u001b[38;5;241;43m*\u001b[39;49m\u001b[43mkwargs\u001b[49m\u001b[43m)\u001b[49m\n",
      "File \u001b[0;32m~/miniconda3/envs/robodiff_2/lib/python3.9/site-packages/torch/nn/modules/module.py:1750\u001b[0m, in \u001b[0;36mModule._call_impl\u001b[0;34m(self, *args, **kwargs)\u001b[0m\n\u001b[1;32m   1745\u001b[0m \u001b[38;5;66;03m# If we don't have any hooks, we want to skip the rest of the logic in\u001b[39;00m\n\u001b[1;32m   1746\u001b[0m \u001b[38;5;66;03m# this function, and just call forward.\u001b[39;00m\n\u001b[1;32m   1747\u001b[0m \u001b[38;5;28;01mif\u001b[39;00m \u001b[38;5;129;01mnot\u001b[39;00m (\u001b[38;5;28mself\u001b[39m\u001b[38;5;241m.\u001b[39m_backward_hooks \u001b[38;5;129;01mor\u001b[39;00m \u001b[38;5;28mself\u001b[39m\u001b[38;5;241m.\u001b[39m_backward_pre_hooks \u001b[38;5;129;01mor\u001b[39;00m \u001b[38;5;28mself\u001b[39m\u001b[38;5;241m.\u001b[39m_forward_hooks \u001b[38;5;129;01mor\u001b[39;00m \u001b[38;5;28mself\u001b[39m\u001b[38;5;241m.\u001b[39m_forward_pre_hooks\n\u001b[1;32m   1748\u001b[0m         \u001b[38;5;129;01mor\u001b[39;00m _global_backward_pre_hooks \u001b[38;5;129;01mor\u001b[39;00m _global_backward_hooks\n\u001b[1;32m   1749\u001b[0m         \u001b[38;5;129;01mor\u001b[39;00m _global_forward_hooks \u001b[38;5;129;01mor\u001b[39;00m _global_forward_pre_hooks):\n\u001b[0;32m-> 1750\u001b[0m     \u001b[38;5;28;01mreturn\u001b[39;00m \u001b[43mforward_call\u001b[49m\u001b[43m(\u001b[49m\u001b[38;5;241;43m*\u001b[39;49m\u001b[43margs\u001b[49m\u001b[43m,\u001b[49m\u001b[43m \u001b[49m\u001b[38;5;241;43m*\u001b[39;49m\u001b[38;5;241;43m*\u001b[39;49m\u001b[43mkwargs\u001b[49m\u001b[43m)\u001b[49m\n\u001b[1;32m   1752\u001b[0m result \u001b[38;5;241m=\u001b[39m \u001b[38;5;28;01mNone\u001b[39;00m\n\u001b[1;32m   1753\u001b[0m called_always_called_hooks \u001b[38;5;241m=\u001b[39m \u001b[38;5;28mset\u001b[39m()\n",
      "File \u001b[0;32m~/miniconda3/envs/robodiff_2/lib/python3.9/site-packages/torch/nn/modules/container.py:250\u001b[0m, in \u001b[0;36mSequential.forward\u001b[0;34m(self, input)\u001b[0m\n\u001b[1;32m    248\u001b[0m \u001b[38;5;28;01mdef\u001b[39;00m\u001b[38;5;250m \u001b[39m\u001b[38;5;21mforward\u001b[39m(\u001b[38;5;28mself\u001b[39m, \u001b[38;5;28minput\u001b[39m):\n\u001b[1;32m    249\u001b[0m     \u001b[38;5;28;01mfor\u001b[39;00m module \u001b[38;5;129;01min\u001b[39;00m \u001b[38;5;28mself\u001b[39m:\n\u001b[0;32m--> 250\u001b[0m         \u001b[38;5;28minput\u001b[39m \u001b[38;5;241m=\u001b[39m \u001b[43mmodule\u001b[49m\u001b[43m(\u001b[49m\u001b[38;5;28;43minput\u001b[39;49m\u001b[43m)\u001b[49m\n\u001b[1;32m    251\u001b[0m     \u001b[38;5;28;01mreturn\u001b[39;00m \u001b[38;5;28minput\u001b[39m\n",
      "File \u001b[0;32m~/miniconda3/envs/robodiff_2/lib/python3.9/site-packages/torch/nn/modules/module.py:1739\u001b[0m, in \u001b[0;36mModule._wrapped_call_impl\u001b[0;34m(self, *args, **kwargs)\u001b[0m\n\u001b[1;32m   1737\u001b[0m     \u001b[38;5;28;01mreturn\u001b[39;00m \u001b[38;5;28mself\u001b[39m\u001b[38;5;241m.\u001b[39m_compiled_call_impl(\u001b[38;5;241m*\u001b[39margs, \u001b[38;5;241m*\u001b[39m\u001b[38;5;241m*\u001b[39mkwargs)  \u001b[38;5;66;03m# type: ignore[misc]\u001b[39;00m\n\u001b[1;32m   1738\u001b[0m \u001b[38;5;28;01melse\u001b[39;00m:\n\u001b[0;32m-> 1739\u001b[0m     \u001b[38;5;28;01mreturn\u001b[39;00m \u001b[38;5;28;43mself\u001b[39;49m\u001b[38;5;241;43m.\u001b[39;49m\u001b[43m_call_impl\u001b[49m\u001b[43m(\u001b[49m\u001b[38;5;241;43m*\u001b[39;49m\u001b[43margs\u001b[49m\u001b[43m,\u001b[49m\u001b[43m \u001b[49m\u001b[38;5;241;43m*\u001b[39;49m\u001b[38;5;241;43m*\u001b[39;49m\u001b[43mkwargs\u001b[49m\u001b[43m)\u001b[49m\n",
      "File \u001b[0;32m~/miniconda3/envs/robodiff_2/lib/python3.9/site-packages/torch/nn/modules/module.py:1750\u001b[0m, in \u001b[0;36mModule._call_impl\u001b[0;34m(self, *args, **kwargs)\u001b[0m\n\u001b[1;32m   1745\u001b[0m \u001b[38;5;66;03m# If we don't have any hooks, we want to skip the rest of the logic in\u001b[39;00m\n\u001b[1;32m   1746\u001b[0m \u001b[38;5;66;03m# this function, and just call forward.\u001b[39;00m\n\u001b[1;32m   1747\u001b[0m \u001b[38;5;28;01mif\u001b[39;00m \u001b[38;5;129;01mnot\u001b[39;00m (\u001b[38;5;28mself\u001b[39m\u001b[38;5;241m.\u001b[39m_backward_hooks \u001b[38;5;129;01mor\u001b[39;00m \u001b[38;5;28mself\u001b[39m\u001b[38;5;241m.\u001b[39m_backward_pre_hooks \u001b[38;5;129;01mor\u001b[39;00m \u001b[38;5;28mself\u001b[39m\u001b[38;5;241m.\u001b[39m_forward_hooks \u001b[38;5;129;01mor\u001b[39;00m \u001b[38;5;28mself\u001b[39m\u001b[38;5;241m.\u001b[39m_forward_pre_hooks\n\u001b[1;32m   1748\u001b[0m         \u001b[38;5;129;01mor\u001b[39;00m _global_backward_pre_hooks \u001b[38;5;129;01mor\u001b[39;00m _global_backward_hooks\n\u001b[1;32m   1749\u001b[0m         \u001b[38;5;129;01mor\u001b[39;00m _global_forward_hooks \u001b[38;5;129;01mor\u001b[39;00m _global_forward_pre_hooks):\n\u001b[0;32m-> 1750\u001b[0m     \u001b[38;5;28;01mreturn\u001b[39;00m \u001b[43mforward_call\u001b[49m\u001b[43m(\u001b[49m\u001b[38;5;241;43m*\u001b[39;49m\u001b[43margs\u001b[49m\u001b[43m,\u001b[49m\u001b[43m \u001b[49m\u001b[38;5;241;43m*\u001b[39;49m\u001b[38;5;241;43m*\u001b[39;49m\u001b[43mkwargs\u001b[49m\u001b[43m)\u001b[49m\n\u001b[1;32m   1752\u001b[0m result \u001b[38;5;241m=\u001b[39m \u001b[38;5;28;01mNone\u001b[39;00m\n\u001b[1;32m   1753\u001b[0m called_always_called_hooks \u001b[38;5;241m=\u001b[39m \u001b[38;5;28mset\u001b[39m()\n",
      "File \u001b[0;32m~/miniconda3/envs/robodiff_2/lib/python3.9/site-packages/torch/nn/modules/conv.py:375\u001b[0m, in \u001b[0;36mConv1d.forward\u001b[0;34m(self, input)\u001b[0m\n\u001b[1;32m    374\u001b[0m \u001b[38;5;28;01mdef\u001b[39;00m\u001b[38;5;250m \u001b[39m\u001b[38;5;21mforward\u001b[39m(\u001b[38;5;28mself\u001b[39m, \u001b[38;5;28minput\u001b[39m: Tensor) \u001b[38;5;241m-\u001b[39m\u001b[38;5;241m>\u001b[39m Tensor:\n\u001b[0;32m--> 375\u001b[0m     \u001b[38;5;28;01mreturn\u001b[39;00m \u001b[38;5;28;43mself\u001b[39;49m\u001b[38;5;241;43m.\u001b[39;49m\u001b[43m_conv_forward\u001b[49m\u001b[43m(\u001b[49m\u001b[38;5;28;43minput\u001b[39;49m\u001b[43m,\u001b[49m\u001b[43m \u001b[49m\u001b[38;5;28;43mself\u001b[39;49m\u001b[38;5;241;43m.\u001b[39;49m\u001b[43mweight\u001b[49m\u001b[43m,\u001b[49m\u001b[43m \u001b[49m\u001b[38;5;28;43mself\u001b[39;49m\u001b[38;5;241;43m.\u001b[39;49m\u001b[43mbias\u001b[49m\u001b[43m)\u001b[49m\n",
      "File \u001b[0;32m~/miniconda3/envs/robodiff_2/lib/python3.9/site-packages/torch/nn/modules/conv.py:370\u001b[0m, in \u001b[0;36mConv1d._conv_forward\u001b[0;34m(self, input, weight, bias)\u001b[0m\n\u001b[1;32m    358\u001b[0m \u001b[38;5;28;01mif\u001b[39;00m \u001b[38;5;28mself\u001b[39m\u001b[38;5;241m.\u001b[39mpadding_mode \u001b[38;5;241m!=\u001b[39m \u001b[38;5;124m\"\u001b[39m\u001b[38;5;124mzeros\u001b[39m\u001b[38;5;124m\"\u001b[39m:\n\u001b[1;32m    359\u001b[0m     \u001b[38;5;28;01mreturn\u001b[39;00m F\u001b[38;5;241m.\u001b[39mconv1d(\n\u001b[1;32m    360\u001b[0m         F\u001b[38;5;241m.\u001b[39mpad(\n\u001b[1;32m    361\u001b[0m             \u001b[38;5;28minput\u001b[39m, \u001b[38;5;28mself\u001b[39m\u001b[38;5;241m.\u001b[39m_reversed_padding_repeated_twice, mode\u001b[38;5;241m=\u001b[39m\u001b[38;5;28mself\u001b[39m\u001b[38;5;241m.\u001b[39mpadding_mode\n\u001b[0;32m   (...)\u001b[0m\n\u001b[1;32m    368\u001b[0m         \u001b[38;5;28mself\u001b[39m\u001b[38;5;241m.\u001b[39mgroups,\n\u001b[1;32m    369\u001b[0m     )\n\u001b[0;32m--> 370\u001b[0m \u001b[38;5;28;01mreturn\u001b[39;00m \u001b[43mF\u001b[49m\u001b[38;5;241;43m.\u001b[39;49m\u001b[43mconv1d\u001b[49m\u001b[43m(\u001b[49m\n\u001b[1;32m    371\u001b[0m \u001b[43m    \u001b[49m\u001b[38;5;28;43minput\u001b[39;49m\u001b[43m,\u001b[49m\u001b[43m \u001b[49m\u001b[43mweight\u001b[49m\u001b[43m,\u001b[49m\u001b[43m \u001b[49m\u001b[43mbias\u001b[49m\u001b[43m,\u001b[49m\u001b[43m \u001b[49m\u001b[38;5;28;43mself\u001b[39;49m\u001b[38;5;241;43m.\u001b[39;49m\u001b[43mstride\u001b[49m\u001b[43m,\u001b[49m\u001b[43m \u001b[49m\u001b[38;5;28;43mself\u001b[39;49m\u001b[38;5;241;43m.\u001b[39;49m\u001b[43mpadding\u001b[49m\u001b[43m,\u001b[49m\u001b[43m \u001b[49m\u001b[38;5;28;43mself\u001b[39;49m\u001b[38;5;241;43m.\u001b[39;49m\u001b[43mdilation\u001b[49m\u001b[43m,\u001b[49m\u001b[43m \u001b[49m\u001b[38;5;28;43mself\u001b[39;49m\u001b[38;5;241;43m.\u001b[39;49m\u001b[43mgroups\u001b[49m\n\u001b[1;32m    372\u001b[0m \u001b[43m\u001b[49m\u001b[43m)\u001b[49m\n",
      "\u001b[0;31mKeyboardInterrupt\u001b[0m: "
     ]
    }
   ],
   "source": [
    "# Reset robot and policy\n",
    "set_gripper(open=True)\n",
    "reset_joints_to(robot_interface, reset_joint_positions)\n",
    "set_gripper(open=True)\n",
    "policy.reset()\n",
    "\n",
    "images = []\n",
    "all_poses_7d = []\n",
    "all_inside_flags = []\n",
    "\n",
    "# Compute the initial pose from joint angles\n",
    "js = robot_interface.last_q\n",
    "if js is None:\n",
    "    raise ValueError(\"No joint angles available to compute the initial pose.\")\n",
    "initial_pose = joint_angles_to_end_effector_pose(js)\n",
    "print(\"Initial computed 7D Pose from joint angles:\", initial_pose)\n",
    "\n",
    "# Store the current pose\n",
    "current_pose_7d = initial_pose.copy()\n",
    "\n",
    "# Policy Execution Loop\n",
    "for step in range(10):\n",
    "    print(f\"\\n--- Step {step+1} ---\")\n",
    "\n",
    "    # Acquire user input\n",
    "    action, grasp = input2action(device=spacemouse, controller_type=controller_type)\n",
    "    if action is None:\n",
    "        break\n",
    "    if len(robot_interface._state_buffer) == 0:\n",
    "        continue\n",
    "\n",
    "    # Get observation\n",
    "    obs_dict = get_current_obs(robot_interface)\n",
    "    img = obs_dict['eye_in_hand_rgb']\n",
    "    images.append(img)\n",
    "    obs = framestacker.add_new_obs(obs_dict)\n",
    "\n",
    "    # Policy predicts delta actions\n",
    "    action_pred = predict_action(obs)\n",
    "\n",
    "    for i, delta_action in enumerate(action_pred[:4]):\n",
    "        # Compute predicted pose using stored pose and delta action\n",
    "        # predicted_pose = compose_new_pose_7d(current_pose_7d, delta_action,\n",
    "        #                                      trans_scale=ACTION_SCALE_TRANSLATION,\n",
    "        #                                      rot_scale=ACTION_SCALE_ROTATION)\n",
    "        predicted_pose,predicted_axis_pose = compose_new_pose_7d(current_pose_7d, delta_action)\n",
    "        predicted_pose_6d = pose7d_to_6d(predicted_pose)\n",
    "        inside, distances = is_pose_in_safe_set_6d(predicted_pose_6d, hull_equations, tol=1e-1)\n",
    "\n",
    "        print(f\"  Safe set check: inside = {inside}\")\n",
    "\n",
    "        # Send the delta action to the robot\n",
    "        print(f\"Sending action {i} to robot: {delta_action}\")\n",
    "        robot_interface.control(\n",
    "            controller_type=controller_type,\n",
    "            action=delta_action,\n",
    "            controller_cfg=controller_cfg,\n",
    "        )\n",
    "        time.sleep(0.05)\n",
    "\n",
    "        \n",
    "\n",
    "        # **NEW: Correct the pose if necessary**\n",
    "        \n",
    "\n",
    "        # # Read the actual joint angles after action execution\n",
    "        # js_real = robot_interface.last_q\n",
    "        # if js_real is None:\n",
    "        #     print(\"No joint angles read. Skipping.\")\n",
    "        #     continue\n",
    "\n",
    "        # # Convert real joints => actual EEF pose => 6D representation\n",
    "        # eef_pose_7d = joint_angles_to_end_effector_pose(js_real)\n",
    "        # eef_pose_6d = pose7d_to_6d(eef_pose_7d)\n",
    "        # inside, distances = is_pose_in_safe_set_6d(eef_pose_6d, hull_equations, tol=1e-1)\n",
    "\n",
    "        # print(f\"   => Real Joints {js_real}, EEF pose {eef_pose_7d}\")\n",
    "        # print(f\"   => inside={inside}, distances={distances}\")\n",
    "\n",
    "        # Store for final visualization\n",
    "        all_poses_7d.append(predicted_pose)\n",
    "        all_inside_flags.append(inside)\n",
    "        \n",
    "\n",
    "        \n",
    "\n",
    "        # Update stored pose\n",
    "        current_pose_7d = predicted_pose.copy()\n",
    "        print(\"Stored updated 7D pose for next iteration:\", current_pose_7d)\n",
    "\n",
    "robot_interface.close()"
   ]
  },
  {
   "cell_type": "code",
   "execution_count": 37,
   "metadata": {},
   "outputs": [
    {
     "data": {
      "application/vnd.plotly.v1+json": {
       "config": {
        "plotlyServerURL": "https://plot.ly"
       },
       "data": [
        {
         "color": "lightblue",
         "i": {
          "bdata": "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",
          "dtype": "i4"
         },
         "j": {
          "bdata": "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",
          "dtype": "i4"
         },
         "k": {
          "bdata": "+wsAAOsLAABWCwAA6wsAAJ4MAADrCwAAHAEAAOsLAADrCwAAngwAAOsLAAD+BwAA/gcAAJQGAAD7CwAA+wsAAPsLAACFBgAAhQYAALwFAADlAAAA5QAAAIcGAADABQAAwAUAALwFAAC8BQAAhQYAAIUGAADeAAAAHAEAABwBAABWCwAAVgsAAKYLAAD7CwAAGQwAAOoLAACeDAAApgsAAAYBAAAGAQAA3AAAAKgCAAAPBgAAqAIAAKgCAABpAwAAqAIAANUAAAAcAQAABgEAAAYBAAAcAQAAHAEAAGkDAABWCwAA6wsAAOsLAAAPBgAAoQUAAA8GAAChBQAA/gcAAOsLAADrCwAA/gcAAMAFAAD+BwAAlAYAAOUAAACJBgAA5QAAAAMBAADlAAAA3AAAANwAAAAGAQAABgEAAIcGAADgAAAA3wAAAOAAAACmCwAApgsAAJ0MAAD/AwAAGwEAAP8DAADGBQAA/gcAAJgGAAD7CwAA6gsAAOsLAADrCwAA+wsAAPsLAAD7CwAA6gsAAOoLAAD7CwAAGQwAAPsLAACmCwAA2QAAAKgCAABHCgAAqAIAANUAAAClAgAA1gAAAGkDAABpAwAAAAQAAAAEAAD/AwAADQEAABwBAACoAwAAVgsAAFYLAACeDAAA/gcAAKsFAAD+BwAApgUAAHYGAABHCgAAewEAAHsBAABpAwAAagMAAKEFAAChBQAApAUAAIUGAACFBgAA/gcAAP4HAADcAAAAggYAANkAAADDBQAAkQYAAJEGAADDBQAAwwUAAMEFAACUBgAA8AAAAOUAAAAGAQAA5QAAAAMBAACSBgAAjAYAAIoGAACMBgAAwQUAAMEFAACYBgAA3QAAAIUGAADeAAAAhQYAAN0AAADdAAAAhgYAAIcGAACHBgAAnQwAABsBAACmCwAApgsAABsBAAANAQAA+wsAAA0BAAAGAQAABgEAAAcBAAADAQAABAEAAPsLAACdBgAAmwYAAJsGAACdBgAAlAYAAJgGAACWBgAAmAYAAJYGAACbBgAAmQYAAJsGAABFCgAA1QAAAKUCAAClAgAApQIAAAkBAAAMAQAAHgEAAGgDAAAcAQAAHAEAAKgDAADvBwAAqQUAAP4HAAD+BwAAqQUAAO0HAACrBQAA/gcAAP4HAACmBQAAygAAAMoAAADTAAAAVgIAANUAAADHAAAA1QAAAFYCAAB6AQAAeQEAAHkBAAALBgAAaQMAAGkDAAAQBgAAowUAAMcAAADHAAAAyQAAANoAAADZAAAA3AAAANwAAADZAAAAxgUAAP8HAADGBQAAkwYAAJIGAADwAAAAAwEAAJUGAADwAAAAlgYAAOYAAACMBgAAjAYAAJgGAAADAQAAmQYAAPoAAADDBQAAAwEAAAMBAAD6AAAAxgUAAMYFAADJCwAAlAYAAJQGAADGBQAADwYAAA8GAABqAwAAagMAAEUKAABaAgAAWgIAANgAAADWAAAA1gAAAP4HAAD+BwAAWAIAAB4BAAAeAQAAPQoAAAkBAAAMAQAACQEAAAwBAAALBgAAaAMAAKgDAACoAwAApgUAAO0HAAB2BgAAdgYAAHUGAACoBQAAqwUAAKsFAAD+BwAAugUAAIMGAAC0BQAAggYAAP4HAAD+BwAAWgIAAFoCAACCBgAAtAUAAIIGAABaAgAA2QAAAFoCAADZAAAA/gcAAP4HAAD4BwAA9gcAALEFAADKAAAAygAAAMkAAACkBQAApAUAAKUFAACmBQAApgUAAHUGAADNAAAAdQYAAM0AAADTAAAAdQYAAHUGAAB1CQAAygAAAMoAAADTAAAAqQUAAM0AAAB2BgAAeAYAAHYGAADPAAAAowUAAKMFAAAQBgAAxwAAAMcAAABHCgAAjQYAAI0GAADpAAAAkAYAAPAAAAADAQAAAwEAAJgGAACYBgAAAwEAAAMBAACZBgAAmQYAAMMFAADDBQAAjAYAAIwGAACNBgAA9gcAAPQHAADwBwAA9AcAAPQHAABYAgAA8AcAAPIHAADwBwAA8gcAAK4FAADyBwAArAUAAFcCAABWAgAAVgIAAP4HAAD+BwAAgwYAAIMGAAC3BQAAggYAAPkHAAD5BwAAggYAAIMGAAC0BQAAWwIAAPgHAAC0BQAA+QcAAKkFAACpBQAAdgYAAHYGAABUAgAAeAYAAHgGAABWAgAA0wAAAKsFAACrBQAAqgUAAM8AAADTAAAAzwAAANMAAAB4BgAA7gAAAOcAAACRBgAAkQYAAJIGAADnAAAA5wAAAOkAAACRBgAAAwEAAAMBAACXBgAAlwYAAPAAAADwAAAAlwYAABAGAAAPBgAADwYAAEcKAABHCgAARgoAAFgCAABYAgAAsQUAAPUHAAD2BwAA9gcAAOkAAADpAAAAkQYAAJEGAAA=",
          "dtype": "i4"
         },
         "name": "Safe Set Hull",
         "opacity": 0.3,
         "type": "mesh3d",
         "x": {
          "bdata": "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",
          "dtype": "f8"
         },
         "y": {
          "bdata": "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",
          "dtype": "f8"
         },
         "z": {
          "bdata": "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",
          "dtype": "f8"
         }
        },
        {
         "marker": {
          "color": [
           "red",
           "green",
           "red",
           "red",
           "red",
           "red",
           "red",
           "red",
           "red",
           "red",
           "red",
           "red",
           "red",
           "red",
           "red",
           "red",
           "red",
           "red",
           "red",
           "red"
          ],
          "size": 5
         },
         "mode": "markers",
         "name": "Predicted Poses",
         "type": "scatter3d",
         "x": {
          "bdata": "LgkcsWVn1j+vS6jcBTXkPy4J3FSYGdg/r0toxp8Y5T8uCVzWwBzaP69LKHGly+U/LgncYdSV2z+vS2jUCJPmPy4J3HZ0T90/r0vorsN/5z8uCdyilDXfP69LaBbSdeg/lwTubAqI4D+vS+iMAm3pP5cEbhHmf+E/r0voDH1o6j+XBC4jBFjiP69LKHs2bes/lwQur+RS4z+vS+hejGrsPw==",
          "dtype": "f8"
         },
         "y": {
          "bdata": "OmI9GSW6tL86Yt1l7sm0vzpijXqY1rS/OmINVnzjtL86Yo085EO1vzpijVE+lbW/OmINz83ctb86Yo02nyC2vzpijfbXzra/OmKNCMBvt786Yo2HB/y3vzpijWd+bri/OmINzgOcuL86Yr03rKi4vzpibbJHtbi/OmI9TGGpuL86Yj3FOwW5vzpifX5TQrm/OmJ9W6hsub86Yl30MYC5vw==",
          "dtype": "f8"
         },
         "z": {
          "bdata": "r0uolXEX5D8uCRyRwOPXP69LqImD9uQ/LgnctGCl2T+vS2iWYpTlPy4JXJRjJ9s/r0so4xlU5j8uCdyn47XcP69LaJ5oNuc/LgncOL6Y3j+vS+hqtifoP5cEbo0PQOA/r0toCPcb6T+XBO7nVjLhP69L6F0XFOo/lwRuGIIk4j+vS+ifBjbrP5cELl0bIeM/r0soaLk37D+XBC4+jBnkPw==",
          "dtype": "f8"
         }
        }
       ],
       "layout": {
        "scene": {
         "xaxis": {
          "title": {
           "text": "X"
          }
         },
         "yaxis": {
          "title": {
           "text": "Y"
          }
         },
         "zaxis": {
          "title": {
           "text": "Z"
          }
         }
        },
        "template": {
         "data": {
          "bar": [
           {
            "error_x": {
             "color": "#2a3f5f"
            },
            "error_y": {
             "color": "#2a3f5f"
            },
            "marker": {
             "line": {
              "color": "#E5ECF6",
              "width": 0.5
             },
             "pattern": {
              "fillmode": "overlay",
              "size": 10,
              "solidity": 0.2
             }
            },
            "type": "bar"
           }
          ],
          "barpolar": [
           {
            "marker": {
             "line": {
              "color": "#E5ECF6",
              "width": 0.5
             },
             "pattern": {
              "fillmode": "overlay",
              "size": 10,
              "solidity": 0.2
             }
            },
            "type": "barpolar"
           }
          ],
          "carpet": [
           {
            "aaxis": {
             "endlinecolor": "#2a3f5f",
             "gridcolor": "white",
             "linecolor": "white",
             "minorgridcolor": "white",
             "startlinecolor": "#2a3f5f"
            },
            "baxis": {
             "endlinecolor": "#2a3f5f",
             "gridcolor": "white",
             "linecolor": "white",
             "minorgridcolor": "white",
             "startlinecolor": "#2a3f5f"
            },
            "type": "carpet"
           }
          ],
          "choropleth": [
           {
            "colorbar": {
             "outlinewidth": 0,
             "ticks": ""
            },
            "type": "choropleth"
           }
          ],
          "contour": [
           {
            "colorbar": {
             "outlinewidth": 0,
             "ticks": ""
            },
            "colorscale": [
             [
              0,
              "#0d0887"
             ],
             [
              0.1111111111111111,
              "#46039f"
             ],
             [
              0.2222222222222222,
              "#7201a8"
             ],
             [
              0.3333333333333333,
              "#9c179e"
             ],
             [
              0.4444444444444444,
              "#bd3786"
             ],
             [
              0.5555555555555556,
              "#d8576b"
             ],
             [
              0.6666666666666666,
              "#ed7953"
             ],
             [
              0.7777777777777778,
              "#fb9f3a"
             ],
             [
              0.8888888888888888,
              "#fdca26"
             ],
             [
              1,
              "#f0f921"
             ]
            ],
            "type": "contour"
           }
          ],
          "contourcarpet": [
           {
            "colorbar": {
             "outlinewidth": 0,
             "ticks": ""
            },
            "type": "contourcarpet"
           }
          ],
          "heatmap": [
           {
            "colorbar": {
             "outlinewidth": 0,
             "ticks": ""
            },
            "colorscale": [
             [
              0,
              "#0d0887"
             ],
             [
              0.1111111111111111,
              "#46039f"
             ],
             [
              0.2222222222222222,
              "#7201a8"
             ],
             [
              0.3333333333333333,
              "#9c179e"
             ],
             [
              0.4444444444444444,
              "#bd3786"
             ],
             [
              0.5555555555555556,
              "#d8576b"
             ],
             [
              0.6666666666666666,
              "#ed7953"
             ],
             [
              0.7777777777777778,
              "#fb9f3a"
             ],
             [
              0.8888888888888888,
              "#fdca26"
             ],
             [
              1,
              "#f0f921"
             ]
            ],
            "type": "heatmap"
           }
          ],
          "histogram": [
           {
            "marker": {
             "pattern": {
              "fillmode": "overlay",
              "size": 10,
              "solidity": 0.2
             }
            },
            "type": "histogram"
           }
          ],
          "histogram2d": [
           {
            "colorbar": {
             "outlinewidth": 0,
             "ticks": ""
            },
            "colorscale": [
             [
              0,
              "#0d0887"
             ],
             [
              0.1111111111111111,
              "#46039f"
             ],
             [
              0.2222222222222222,
              "#7201a8"
             ],
             [
              0.3333333333333333,
              "#9c179e"
             ],
             [
              0.4444444444444444,
              "#bd3786"
             ],
             [
              0.5555555555555556,
              "#d8576b"
             ],
             [
              0.6666666666666666,
              "#ed7953"
             ],
             [
              0.7777777777777778,
              "#fb9f3a"
             ],
             [
              0.8888888888888888,
              "#fdca26"
             ],
             [
              1,
              "#f0f921"
             ]
            ],
            "type": "histogram2d"
           }
          ],
          "histogram2dcontour": [
           {
            "colorbar": {
             "outlinewidth": 0,
             "ticks": ""
            },
            "colorscale": [
             [
              0,
              "#0d0887"
             ],
             [
              0.1111111111111111,
              "#46039f"
             ],
             [
              0.2222222222222222,
              "#7201a8"
             ],
             [
              0.3333333333333333,
              "#9c179e"
             ],
             [
              0.4444444444444444,
              "#bd3786"
             ],
             [
              0.5555555555555556,
              "#d8576b"
             ],
             [
              0.6666666666666666,
              "#ed7953"
             ],
             [
              0.7777777777777778,
              "#fb9f3a"
             ],
             [
              0.8888888888888888,
              "#fdca26"
             ],
             [
              1,
              "#f0f921"
             ]
            ],
            "type": "histogram2dcontour"
           }
          ],
          "mesh3d": [
           {
            "colorbar": {
             "outlinewidth": 0,
             "ticks": ""
            },
            "type": "mesh3d"
           }
          ],
          "parcoords": [
           {
            "line": {
             "colorbar": {
              "outlinewidth": 0,
              "ticks": ""
             }
            },
            "type": "parcoords"
           }
          ],
          "pie": [
           {
            "automargin": true,
            "type": "pie"
           }
          ],
          "scatter": [
           {
            "fillpattern": {
             "fillmode": "overlay",
             "size": 10,
             "solidity": 0.2
            },
            "type": "scatter"
           }
          ],
          "scatter3d": [
           {
            "line": {
             "colorbar": {
              "outlinewidth": 0,
              "ticks": ""
             }
            },
            "marker": {
             "colorbar": {
              "outlinewidth": 0,
              "ticks": ""
             }
            },
            "type": "scatter3d"
           }
          ],
          "scattercarpet": [
           {
            "marker": {
             "colorbar": {
              "outlinewidth": 0,
              "ticks": ""
             }
            },
            "type": "scattercarpet"
           }
          ],
          "scattergeo": [
           {
            "marker": {
             "colorbar": {
              "outlinewidth": 0,
              "ticks": ""
             }
            },
            "type": "scattergeo"
           }
          ],
          "scattergl": [
           {
            "marker": {
             "colorbar": {
              "outlinewidth": 0,
              "ticks": ""
             }
            },
            "type": "scattergl"
           }
          ],
          "scattermap": [
           {
            "marker": {
             "colorbar": {
              "outlinewidth": 0,
              "ticks": ""
             }
            },
            "type": "scattermap"
           }
          ],
          "scattermapbox": [
           {
            "marker": {
             "colorbar": {
              "outlinewidth": 0,
              "ticks": ""
             }
            },
            "type": "scattermapbox"
           }
          ],
          "scatterpolar": [
           {
            "marker": {
             "colorbar": {
              "outlinewidth": 0,
              "ticks": ""
             }
            },
            "type": "scatterpolar"
           }
          ],
          "scatterpolargl": [
           {
            "marker": {
             "colorbar": {
              "outlinewidth": 0,
              "ticks": ""
             }
            },
            "type": "scatterpolargl"
           }
          ],
          "scatterternary": [
           {
            "marker": {
             "colorbar": {
              "outlinewidth": 0,
              "ticks": ""
             }
            },
            "type": "scatterternary"
           }
          ],
          "surface": [
           {
            "colorbar": {
             "outlinewidth": 0,
             "ticks": ""
            },
            "colorscale": [
             [
              0,
              "#0d0887"
             ],
             [
              0.1111111111111111,
              "#46039f"
             ],
             [
              0.2222222222222222,
              "#7201a8"
             ],
             [
              0.3333333333333333,
              "#9c179e"
             ],
             [
              0.4444444444444444,
              "#bd3786"
             ],
             [
              0.5555555555555556,
              "#d8576b"
             ],
             [
              0.6666666666666666,
              "#ed7953"
             ],
             [
              0.7777777777777778,
              "#fb9f3a"
             ],
             [
              0.8888888888888888,
              "#fdca26"
             ],
             [
              1,
              "#f0f921"
             ]
            ],
            "type": "surface"
           }
          ],
          "table": [
           {
            "cells": {
             "fill": {
              "color": "#EBF0F8"
             },
             "line": {
              "color": "white"
             }
            },
            "header": {
             "fill": {
              "color": "#C8D4E3"
             },
             "line": {
              "color": "white"
             }
            },
            "type": "table"
           }
          ]
         },
         "layout": {
          "annotationdefaults": {
           "arrowcolor": "#2a3f5f",
           "arrowhead": 0,
           "arrowwidth": 1
          },
          "autotypenumbers": "strict",
          "coloraxis": {
           "colorbar": {
            "outlinewidth": 0,
            "ticks": ""
           }
          },
          "colorscale": {
           "diverging": [
            [
             0,
             "#8e0152"
            ],
            [
             0.1,
             "#c51b7d"
            ],
            [
             0.2,
             "#de77ae"
            ],
            [
             0.3,
             "#f1b6da"
            ],
            [
             0.4,
             "#fde0ef"
            ],
            [
             0.5,
             "#f7f7f7"
            ],
            [
             0.6,
             "#e6f5d0"
            ],
            [
             0.7,
             "#b8e186"
            ],
            [
             0.8,
             "#7fbc41"
            ],
            [
             0.9,
             "#4d9221"
            ],
            [
             1,
             "#276419"
            ]
           ],
           "sequential": [
            [
             0,
             "#0d0887"
            ],
            [
             0.1111111111111111,
             "#46039f"
            ],
            [
             0.2222222222222222,
             "#7201a8"
            ],
            [
             0.3333333333333333,
             "#9c179e"
            ],
            [
             0.4444444444444444,
             "#bd3786"
            ],
            [
             0.5555555555555556,
             "#d8576b"
            ],
            [
             0.6666666666666666,
             "#ed7953"
            ],
            [
             0.7777777777777778,
             "#fb9f3a"
            ],
            [
             0.8888888888888888,
             "#fdca26"
            ],
            [
             1,
             "#f0f921"
            ]
           ],
           "sequentialminus": [
            [
             0,
             "#0d0887"
            ],
            [
             0.1111111111111111,
             "#46039f"
            ],
            [
             0.2222222222222222,
             "#7201a8"
            ],
            [
             0.3333333333333333,
             "#9c179e"
            ],
            [
             0.4444444444444444,
             "#bd3786"
            ],
            [
             0.5555555555555556,
             "#d8576b"
            ],
            [
             0.6666666666666666,
             "#ed7953"
            ],
            [
             0.7777777777777778,
             "#fb9f3a"
            ],
            [
             0.8888888888888888,
             "#fdca26"
            ],
            [
             1,
             "#f0f921"
            ]
           ]
          },
          "colorway": [
           "#636efa",
           "#EF553B",
           "#00cc96",
           "#ab63fa",
           "#FFA15A",
           "#19d3f3",
           "#FF6692",
           "#B6E880",
           "#FF97FF",
           "#FECB52"
          ],
          "font": {
           "color": "#2a3f5f"
          },
          "geo": {
           "bgcolor": "white",
           "lakecolor": "white",
           "landcolor": "#E5ECF6",
           "showlakes": true,
           "showland": true,
           "subunitcolor": "white"
          },
          "hoverlabel": {
           "align": "left"
          },
          "hovermode": "closest",
          "mapbox": {
           "style": "light"
          },
          "paper_bgcolor": "white",
          "plot_bgcolor": "#E5ECF6",
          "polar": {
           "angularaxis": {
            "gridcolor": "white",
            "linecolor": "white",
            "ticks": ""
           },
           "bgcolor": "#E5ECF6",
           "radialaxis": {
            "gridcolor": "white",
            "linecolor": "white",
            "ticks": ""
           }
          },
          "scene": {
           "xaxis": {
            "backgroundcolor": "#E5ECF6",
            "gridcolor": "white",
            "gridwidth": 2,
            "linecolor": "white",
            "showbackground": true,
            "ticks": "",
            "zerolinecolor": "white"
           },
           "yaxis": {
            "backgroundcolor": "#E5ECF6",
            "gridcolor": "white",
            "gridwidth": 2,
            "linecolor": "white",
            "showbackground": true,
            "ticks": "",
            "zerolinecolor": "white"
           },
           "zaxis": {
            "backgroundcolor": "#E5ECF6",
            "gridcolor": "white",
            "gridwidth": 2,
            "linecolor": "white",
            "showbackground": true,
            "ticks": "",
            "zerolinecolor": "white"
           }
          },
          "shapedefaults": {
           "line": {
            "color": "#2a3f5f"
           }
          },
          "ternary": {
           "aaxis": {
            "gridcolor": "white",
            "linecolor": "white",
            "ticks": ""
           },
           "baxis": {
            "gridcolor": "white",
            "linecolor": "white",
            "ticks": ""
           },
           "bgcolor": "#E5ECF6",
           "caxis": {
            "gridcolor": "white",
            "linecolor": "white",
            "ticks": ""
           }
          },
          "title": {
           "x": 0.05
          },
          "xaxis": {
           "automargin": true,
           "gridcolor": "white",
           "linecolor": "white",
           "ticks": "",
           "title": {
            "standoff": 15
           },
           "zerolinecolor": "white",
           "zerolinewidth": 2
          },
          "yaxis": {
           "automargin": true,
           "gridcolor": "white",
           "linecolor": "white",
           "ticks": "",
           "title": {
            "standoff": 15
           },
           "zerolinecolor": "white",
           "zerolinewidth": 2
          }
         }
        },
        "title": {
         "text": "Policy vs. Safe Set (Predicted Poses)"
        }
       }
      }
     },
     "metadata": {},
     "output_type": "display_data"
    }
   ],
   "source": [
    "# ---- Visualize the Final Real End-Effector Poses vs. the Safe Set ----\n",
    "all_poses_7d = np.array(all_poses_7d)\n",
    "all_inside_flags = np.array(all_inside_flags, dtype=bool)\n",
    "if len(all_poses_7d) > 0:\n",
    "    visualize_policy_predictions(\n",
    "        safe_set,\n",
    "        predicted_poses_7d=all_poses_7d,\n",
    "        inside_flags=all_inside_flags,\n",
    "        title=\"Policy vs. Safe Set (Predicted Poses)\"\n",
    "    )\n",
    "else:\n",
    "    print(\"No EEF poses to visualize.\")"
   ]
  },
  {
   "cell_type": "code",
   "execution_count": 27,
   "metadata": {},
   "outputs": [
    {
     "name": "stdout",
     "output_type": "stream",
     "text": [
      "Interpolated Trajectory:\n",
      "Step 0: [ 0.606 -0.081  0.346 -0.374  0.821 -0.175 -0.395]\n",
      "Step 1: [ 0.611 -0.081  0.348 -0.309  0.714 -0.148 -0.61 ]\n",
      "Step 2: [ 0.616 -0.081  0.35  -0.225  0.563 -0.113 -0.788]\n"
     ]
    }
   ],
   "source": [
    "import numpy as np\n",
    "from scipy.spatial.transform import Rotation as R, Slerp\n",
    "\n",
    "def linear_pose_interpolation(start_pose, goal_pose, t):\n",
    "    \"\"\"\n",
    "    Interpolate between two 7D poses (position and quaternion) linearly.\n",
    "    \n",
    "    Parameters:\n",
    "      start_pose: 7D pose as [x, y, z, qx, qy, qz, qw]\n",
    "      goal_pose: 7D pose as [x, y, z, qx, qy, qz, qw]\n",
    "      t: interpolation parameter in [0, 1]\n",
    "      \n",
    "    Returns:\n",
    "      interp_pose: 7D interpolated pose [x, y, z, qx, qy, qz, qw]\n",
    "    \"\"\"\n",
    "    # Linearly interpolate position (LERP)\n",
    "    pos_interp = (1 - t) * start_pose[:3] + t * goal_pose[:3]\n",
    "    \n",
    "    # Interpolate orientation using Slerp\n",
    "    # Create Rotation objects from quaternions (assumed in [qx, qy, qz, qw] format)\n",
    "    r_start = R.from_quat(start_pose[3:7])\n",
    "    r_goal  = R.from_quat(goal_pose[3:7])\n",
    "    \n",
    "    # Define key times for the two rotations\n",
    "    key_times = [0, 1]\n",
    "    key_rots = R.concatenate([r_start, r_goal])\n",
    "    \n",
    "    # Create a Slerp object and evaluate at time t.\n",
    "    slerp = Slerp(key_times, key_rots)\n",
    "    r_interp = slerp([t])[0]  # returns a Rotation object for the interpolated rotation\n",
    "    quat_interp = r_interp.as_quat()  # result in [qx, qy, qz, qw]\n",
    "    \n",
    "    # Combine the interpolated position and quaternion into a single 7D pose.\n",
    "    interp_pose = np.hstack([pos_interp, quat_interp])\n",
    "    return interp_pose\n",
    "\n",
    "# Example usage:\n",
    "if __name__ == \"__main__\":\n",
    "    # Define a start and goal pose (7D: position and quaternion)\n",
    "    # For example:\n",
    "    start_pose = np.array([ 0.606,-0.081,0.346,-0.374,0.821,-0.175,-0.395])\n",
    "    goal_pose  = np.array([0.616, -0.081, 0.35,  0.2, -0.5, 0.1, 0.7])\n",
    "    \n",
    "    # Generate a trajectory of 10 steps (t from 0 to 1)\n",
    "    num_steps = 3\n",
    "    trajectory = [linear_pose_interpolation(start_pose, goal_pose, t)\n",
    "                  for t in np.linspace(0, 1, num_steps)]\n",
    "    \n",
    "    print(\"Interpolated Trajectory:\")\n",
    "    for idx, pose in enumerate(trajectory):\n",
    "        print(f\"Step {idx}: {pose}\")\n"
   ]
  },
  {
   "cell_type": "code",
   "execution_count": null,
   "metadata": {},
   "outputs": [],
   "source": []
  },
  {
   "cell_type": "code",
   "execution_count": 57,
   "metadata": {},
   "outputs": [],
   "source": [
    "def dh_transform(a, alpha, d, theta):\n",
    "    return np.array([\n",
    "        [ np.cos(theta), -np.sin(theta)*np.cos(alpha),  np.sin(theta)*np.sin(alpha),  a*np.cos(theta)],\n",
    "        [ np.sin(theta),  np.cos(theta)*np.cos(alpha), -np.cos(theta)*np.sin(alpha),  a*np.sin(theta)],\n",
    "        [ 0,              np.sin(alpha),                np.cos(alpha),                d              ],\n",
    "        [ 0,              0,                            0,                            1              ]\n",
    "    ], dtype=float)\n",
    "\n",
    "def franka_forward_kinematics(joint_angles):\n",
    "    q1, q2, q3, q4, q5, q6, q7 = joint_angles\n",
    "    T1 = dh_transform(a=0,       alpha=0,         d=0.333,   theta=q1)\n",
    "    T2 = dh_transform(a=0,       alpha=-np.pi/2,  d=0,       theta=q2)\n",
    "    T3 = dh_transform(a=0,       alpha=np.pi/2,   d=0.316,   theta=q3)\n",
    "    T4 = dh_transform(a=0.0825,  alpha=np.pi/2,   d=0,       theta=q4)\n",
    "    T5 = dh_transform(a=-0.0825, alpha=-np.pi/2,  d=0.384,   theta=q5)\n",
    "    T6 = dh_transform(a=0,       alpha=np.pi/2,   d=0,       theta=q6)\n",
    "    T7 = dh_transform(a=0.088,   alpha=np.pi/2,   d=0,       theta=q7)\n",
    "    T = T1 @ T2 @ T3 @ T4 @ T5 @ T6 @ T7\n",
    "    # Apply flange offset\n",
    "    T_flange = dh_transform(a=0, alpha=0, d=0.107, theta=0)\n",
    "    return T @ T_flange\n",
    "\n",
    "def joint_angles_to_end_effector_pose(joint_angles):\n",
    "    \"\"\"\n",
    "    Compute the 7D pose [x, y, z, qx, qy, qz, qw] using forward kinematics.\n",
    "    \"\"\"\n",
    "    T = franka_forward_kinematics(joint_angles)\n",
    "    pos = T[:3, 3]\n",
    "    rot_mat = T[:3, :3]\n",
    "    quat = R.from_matrix(rot_mat).as_quat()  # [qx, qy, qz, qw]\n",
    "    quat = normalize_quaternion(quat)\n",
    "    return np.hstack([pos, quat])\n",
    "\n",
    "# -----------------------------------------------------------------------------\n",
    "# 2) Safe Set Loading and Checking Functions\n",
    "# -----------------------------------------------------------------------------\n",
    "def load_safe_set(file_path=\"safe_set_6d_dummy.npz\"):\n",
    "    data = np.load(file_path)\n",
    "    return data[\"safe_set\"], data[\"hull_equations\"], data[\"hull_vertices\"]\n",
    "\n",
    "def pose7d_to_6d(pose7d):\n",
    "    \"\"\"\n",
    "    Convert a 7D pose (position + quaternion) to a minimal 6D representation:\n",
    "    [x, y, z, rx, ry, rz] where (rx,ry,rz) is the rotation vector.\n",
    "    \"\"\"\n",
    "    pos = pose7d[:3]\n",
    "    quat = pose7d[3:7]\n",
    "    norm = np.linalg.norm(quat)\n",
    "    quat = quat / norm if norm > 1e-6 else np.array([0,0,0,1])\n",
    "    rotvec = R.from_quat(quat).as_rotvec()\n",
    "    return np.hstack([pos, rotvec])\n",
    "\n",
    "def is_pose_in_safe_set_6d(query_6d, hull_equations, tol=1e-8):\n",
    "    A = hull_equations[:, :-1]\n",
    "    b = hull_equations[:, -1]\n",
    "    norms = np.linalg.norm(A, axis=1)\n",
    "    distances = (A.dot(query_6d) + b) / norms\n",
    "    inside = np.all(distances <= tol)\n",
    "    return inside, distances\n",
    "\n",
    "def push_pose_outside_safe_set_7d(pose_7d, hull_equations, margin=1e-3, tol=1e-8):\n",
    "    pose_6d = pose7d_to_6d(pose_7d)\n",
    "    inside, distances = is_pose_in_safe_set_6d(pose_6d, hull_equations, tol)\n",
    "    if not inside:\n",
    "        return pose_7d\n",
    "    i_max = np.argmax(distances)\n",
    "    d_max = distances[i_max]\n",
    "    A_i = hull_equations[i_max, :-1]\n",
    "    norm_A = np.linalg.norm(A_i)\n",
    "    shift = ((tol - d_max) + margin) * (A_i / norm_A)\n",
    "    pose_6d_out = pose_6d + shift\n",
    "    new_pos = pose_6d_out[:3]\n",
    "    new_rotvec = pose_6d_out[3:]\n",
    "    new_quat = R.from_rotvec(new_rotvec).as_quat()\n",
    "    new_pose_7d = np.hstack([new_pos, new_quat])\n",
    "    return new_pose_7d\n",
    "\n",
    "# -----------------------------------------------------------------------------\n",
    "# 3) Normalize Quaternion Function\n",
    "# -----------------------------------------------------------------------------\n",
    "def normalize_quaternion(q):\n",
    "    norm = np.linalg.norm(q)\n",
    "    if norm < 1e-6:\n",
    "        return np.array([0, 0, 0, 1])\n",
    "    return q / norm\n",
    "\n",
    "# -----------------------------------------------------------------------------\n",
    "# 4) Compose New Pose Function (for reference, not used for predicted pose here)\n",
    "# -----------------------------------------------------------------------------\n",
    "def compose_new_pose_7d(current_pose_7d, delta_action, trans_scale=1.0, rot_scale=1.0):\n",
    "    \"\"\"\n",
    "    Compute a new 7D pose by applying a scaled delta action to the current 7D pose.\n",
    "    (Not used if using predict_action_0 for absolute pose prediction.)\n",
    "    \"\"\"\n",
    "    delta_trans = trans_scale * delta_action[:3]\n",
    "    delta_rot = rot_scale * delta_action[3:6]\n",
    "    \n",
    "    new_pos = current_pose_7d[:3] + delta_trans\n",
    "    current_quat = current_pose_7d[3:7]\n",
    "    delta_quat = R.from_rotvec(delta_rot).as_quat()\n",
    "    new_rot = R.from_quat(current_quat) * R.from_quat(delta_quat)\n",
    "    new_quat = new_rot.as_quat()\n",
    "    new_quat = normalize_quaternion(new_quat)\n",
    "    \n",
    "    return np.hstack([new_pos, new_quat])\n",
    "\n",
    "# -----------------------------------------------------------------------------\n",
    "# 5) Compute Scaling Factors from Measured Data\n",
    "# -----------------------------------------------------------------------------\n",
    "def compute_scaling_factors(initial_pose, measured_pose, delta_action):\n",
    "    # Translation scaling factor\n",
    "    trans_diff = measured_pose[:3] - initial_pose[:3]\n",
    "    norm_trans_diff = np.linalg.norm(trans_diff)\n",
    "    norm_delta_trans = np.linalg.norm(delta_action[:3])\n",
    "    factor_trans = norm_trans_diff / norm_delta_trans if norm_delta_trans > 1e-6 else 1.0\n",
    "    \n",
    "    # Rotation scaling factor\n",
    "    r_initial = R.from_quat(initial_pose[3:7])\n",
    "    r_measured = R.from_quat(measured_pose[3:7])\n",
    "    r_diff = r_measured * r_initial.inv()\n",
    "    rotvec_diff = r_diff.as_rotvec()\n",
    "    norm_rot_diff = np.linalg.norm(rotvec_diff)\n",
    "    norm_delta_rot = np.linalg.norm(delta_action[3:6])\n",
    "    factor_rot = norm_rot_diff / norm_delta_rot if norm_delta_rot > 1e-6 else 1.0\n",
    "    \n",
    "    return factor_trans, factor_rot\n",
    "\n",
    "# -----------------------------------------------------------------------------\n",
    "# 6) Main Policy Loop (Using Stored Pose, Joint-Angle Measurement, and Two Predict Functions)\n",
    "# -----------------------------------------------------------------------------\n",
    "\n",
    "# Use the controller config action_scale values directly:\n",
    "ACTION_SCALE_TRANSLATION = 0.05  # from controller config\n",
    "ACTION_SCALE_ROTATION = 1.0      # from controller config\n",
    "\n",
    "# Global scaling factors (initial guesses, then updated via filtering)\n",
    "TRANS_SCALE = 1.0\n",
    "ROT_SCALE = 1.0\n",
    "\n",
    "# Create lists for filtering scaling factors over a moving window.\n",
    "recent_trans_factors = []\n",
    "recent_rot_factors = []\n",
    "N = 5  # window size\n",
    "\n",
    "# Load the safe set (generated earlier)\n",
    "safe_set_file = \"Safe_diffusion_policy/safe_set_6d_dummy.npz\"\n",
    "safe_set, hull_equations, _ = load_safe_set(safe_set_file)"
   ]
  },
  {
   "cell_type": "code",
   "execution_count": 59,
   "metadata": {},
   "outputs": [
    {
     "name": "stdout",
     "output_type": "stream",
     "text": [
      "JOINT_POSITION\n",
      "Initial computed 7D Pose from joint angles:\n",
      "[ 0.606 -0.081  0.346 -0.373  0.821 -0.175 -0.395]\n",
      "\n",
      "--- Step 1 ---\n",
      "Predicted 7D Pose from predict_action_0:\n",
      "[ 0.248 -0.001  0.058  1.     0.005  0.01   0.003]\n",
      "Computed 7D Pose using joint_angles_to_end_effector_pose:\n",
      "[ 0.606 -0.08   0.346 -0.371  0.822 -0.174 -0.396]\n",
      "Measured 7D Pose from joint angles after action:\n",
      "[ 0.606 -0.079  0.346 -0.375  0.82  -0.176 -0.395]\n",
      "Difference between predicted and measured pose: 1.721504\n",
      "Stored updated 7D pose for next iteration:\n",
      "[ 0.606 -0.079  0.346 -0.375  0.82  -0.176 -0.395]\n",
      "Measured 7D Pose from joint angles after action:\n",
      "[ 0.608 -0.075  0.346 -0.383  0.816 -0.18  -0.393]\n",
      "Difference between predicted and measured pose: 1.726786\n",
      "Stored updated 7D pose for next iteration:\n",
      "[ 0.608 -0.075  0.346 -0.383  0.816 -0.18  -0.393]\n",
      "Measured 7D Pose from joint angles after action:\n",
      "[ 0.611 -0.068  0.346 -0.394  0.811 -0.186 -0.39 ]\n",
      "Difference between predicted and measured pose: 1.733520\n",
      "Stored updated 7D pose for next iteration:\n",
      "[ 0.611 -0.068  0.346 -0.394  0.811 -0.186 -0.39 ]\n",
      "Measured 7D Pose from joint angles after action:\n",
      "[ 0.613 -0.061  0.346 -0.406  0.805 -0.191 -0.388]\n",
      "Difference between predicted and measured pose: 1.740324\n",
      "Stored updated 7D pose for next iteration:\n",
      "[ 0.613 -0.061  0.346 -0.406  0.805 -0.191 -0.388]\n",
      "\n",
      "--- Step 2 ---\n"
     ]
    },
    {
     "ename": "KeyboardInterrupt",
     "evalue": "",
     "output_type": "error",
     "traceback": [
      "\u001b[0;31m---------------------------------------------------------------------------\u001b[0m",
      "\u001b[0;31mKeyboardInterrupt\u001b[0m                         Traceback (most recent call last)",
      "Cell \u001b[0;32mIn[59], line 41\u001b[0m\n\u001b[1;32m     37\u001b[0m obs \u001b[38;5;241m=\u001b[39m framestacker\u001b[38;5;241m.\u001b[39madd_new_obs(obs_dict)\n\u001b[1;32m     39\u001b[0m \u001b[38;5;66;03m# Use your prediction function that outputs 8D data.\u001b[39;00m\n\u001b[1;32m     40\u001b[0m \u001b[38;5;66;03m# Assume predict_action_0 returns an array of 8 poses (each 8D).\u001b[39;00m\n\u001b[0;32m---> 41\u001b[0m predicted_abs \u001b[38;5;241m=\u001b[39m \u001b[43mpredict_action_0\u001b[49m\u001b[43m(\u001b[49m\u001b[43mobs\u001b[49m\u001b[43m)\u001b[49m\n\u001b[1;32m     42\u001b[0m \u001b[38;5;66;03m# For example, take the first predicted pose and extract the first 7 elements.\u001b[39;00m\n\u001b[1;32m     43\u001b[0m predicted_pose \u001b[38;5;241m=\u001b[39m predicted_abs[\u001b[38;5;241m0\u001b[39m][:\u001b[38;5;241m7\u001b[39m]\n",
      "Cell \u001b[0;32mIn[49], line 15\u001b[0m, in \u001b[0;36mpredict_action_0\u001b[0;34m(obs)\u001b[0m\n\u001b[1;32m     11\u001b[0m     obs_dict[key]\u001b[38;5;241m=\u001b[39mobs_dict[key]\u001b[38;5;241m.\u001b[39munsqueeze(\u001b[38;5;241m0\u001b[39m) \n\u001b[1;32m     14\u001b[0m \u001b[38;5;28;01mwith\u001b[39;00m torch\u001b[38;5;241m.\u001b[39mno_grad():\n\u001b[0;32m---> 15\u001b[0m     action_dict \u001b[38;5;241m=\u001b[39m \u001b[43mpolicy\u001b[49m\u001b[38;5;241;43m.\u001b[39;49m\u001b[43mpredict_action\u001b[49m\u001b[43m(\u001b[49m\u001b[43mobs_dict\u001b[49m\u001b[43m)\u001b[49m\n\u001b[1;32m     17\u001b[0m \u001b[38;5;66;03m# device_transfer\u001b[39;00m\n\u001b[1;32m     18\u001b[0m np_action_dict \u001b[38;5;241m=\u001b[39m dict_apply(action_dict, \u001b[38;5;28;01mlambda\u001b[39;00m x: x\u001b[38;5;241m.\u001b[39mdetach()\u001b[38;5;241m.\u001b[39mto(\u001b[38;5;124m'\u001b[39m\u001b[38;5;124mcpu\u001b[39m\u001b[38;5;124m'\u001b[39m)\u001b[38;5;241m.\u001b[39mnumpy())\n",
      "File \u001b[0;32m~/diffusion_policy/diffusion_policy/policy/diffusion_unet_hybrid_image_policy.py:258\u001b[0m, in \u001b[0;36mDiffusionUnetHybridImagePolicy.predict_action\u001b[0;34m(self, obs_dict)\u001b[0m\n\u001b[1;32m    255\u001b[0m     cond_mask[:,:To,Da:] \u001b[38;5;241m=\u001b[39m \u001b[38;5;28;01mTrue\u001b[39;00m\n\u001b[1;32m    257\u001b[0m \u001b[38;5;66;03m# run sampling\u001b[39;00m\n\u001b[0;32m--> 258\u001b[0m nsample \u001b[38;5;241m=\u001b[39m \u001b[38;5;28;43mself\u001b[39;49m\u001b[38;5;241;43m.\u001b[39;49m\u001b[43mconditional_sample\u001b[49m\u001b[43m(\u001b[49m\n\u001b[1;32m    259\u001b[0m \u001b[43m    \u001b[49m\u001b[43mcond_data\u001b[49m\u001b[43m,\u001b[49m\u001b[43m \u001b[49m\n\u001b[1;32m    260\u001b[0m \u001b[43m    \u001b[49m\u001b[43mcond_mask\u001b[49m\u001b[43m,\u001b[49m\n\u001b[1;32m    261\u001b[0m \u001b[43m    \u001b[49m\u001b[43mlocal_cond\u001b[49m\u001b[38;5;241;43m=\u001b[39;49m\u001b[43mlocal_cond\u001b[49m\u001b[43m,\u001b[49m\n\u001b[1;32m    262\u001b[0m \u001b[43m    \u001b[49m\u001b[43mglobal_cond\u001b[49m\u001b[38;5;241;43m=\u001b[39;49m\u001b[43mglobal_cond\u001b[49m\u001b[43m,\u001b[49m\n\u001b[1;32m    263\u001b[0m \u001b[43m    \u001b[49m\u001b[38;5;241;43m*\u001b[39;49m\u001b[38;5;241;43m*\u001b[39;49m\u001b[38;5;28;43mself\u001b[39;49m\u001b[38;5;241;43m.\u001b[39;49m\u001b[43mkwargs\u001b[49m\u001b[43m)\u001b[49m\n\u001b[1;32m    265\u001b[0m \u001b[38;5;66;03m# unnormalize prediction\u001b[39;00m\n\u001b[1;32m    266\u001b[0m naction_pred \u001b[38;5;241m=\u001b[39m nsample[\u001b[38;5;241m.\u001b[39m\u001b[38;5;241m.\u001b[39m\u001b[38;5;241m.\u001b[39m,:Da]\n",
      "File \u001b[0;32m~/diffusion_policy/diffusion_policy/policy/diffusion_unet_hybrid_image_policy.py:199\u001b[0m, in \u001b[0;36mDiffusionUnetHybridImagePolicy.conditional_sample\u001b[0;34m(self, condition_data, condition_mask, local_cond, global_cond, generator, **kwargs)\u001b[0m\n\u001b[1;32m    196\u001b[0m trajectory[condition_mask] \u001b[38;5;241m=\u001b[39m condition_data[condition_mask]\n\u001b[1;32m    198\u001b[0m \u001b[38;5;66;03m# 2. predict model output\u001b[39;00m\n\u001b[0;32m--> 199\u001b[0m model_output \u001b[38;5;241m=\u001b[39m \u001b[43mmodel\u001b[49m\u001b[43m(\u001b[49m\u001b[43mtrajectory\u001b[49m\u001b[43m,\u001b[49m\u001b[43m \u001b[49m\u001b[43mt\u001b[49m\u001b[43m,\u001b[49m\u001b[43m \u001b[49m\n\u001b[1;32m    200\u001b[0m \u001b[43m    \u001b[49m\u001b[43mlocal_cond\u001b[49m\u001b[38;5;241;43m=\u001b[39;49m\u001b[43mlocal_cond\u001b[49m\u001b[43m,\u001b[49m\u001b[43m \u001b[49m\u001b[43mglobal_cond\u001b[49m\u001b[38;5;241;43m=\u001b[39;49m\u001b[43mglobal_cond\u001b[49m\u001b[43m)\u001b[49m\n\u001b[1;32m    202\u001b[0m \u001b[38;5;66;03m# 3. compute previous image: x_t -> x_t-1\u001b[39;00m\n\u001b[1;32m    203\u001b[0m trajectory \u001b[38;5;241m=\u001b[39m scheduler\u001b[38;5;241m.\u001b[39mstep(\n\u001b[1;32m    204\u001b[0m     model_output, t, trajectory, \n\u001b[1;32m    205\u001b[0m     generator\u001b[38;5;241m=\u001b[39mgenerator,\n\u001b[1;32m    206\u001b[0m     \u001b[38;5;241m*\u001b[39m\u001b[38;5;241m*\u001b[39mkwargs\n\u001b[1;32m    207\u001b[0m     )\u001b[38;5;241m.\u001b[39mprev_sample\n",
      "File \u001b[0;32m~/miniconda3/envs/robodiff_2/lib/python3.9/site-packages/torch/nn/modules/module.py:1739\u001b[0m, in \u001b[0;36mModule._wrapped_call_impl\u001b[0;34m(self, *args, **kwargs)\u001b[0m\n\u001b[1;32m   1737\u001b[0m     \u001b[38;5;28;01mreturn\u001b[39;00m \u001b[38;5;28mself\u001b[39m\u001b[38;5;241m.\u001b[39m_compiled_call_impl(\u001b[38;5;241m*\u001b[39margs, \u001b[38;5;241m*\u001b[39m\u001b[38;5;241m*\u001b[39mkwargs)  \u001b[38;5;66;03m# type: ignore[misc]\u001b[39;00m\n\u001b[1;32m   1738\u001b[0m \u001b[38;5;28;01melse\u001b[39;00m:\n\u001b[0;32m-> 1739\u001b[0m     \u001b[38;5;28;01mreturn\u001b[39;00m \u001b[38;5;28;43mself\u001b[39;49m\u001b[38;5;241;43m.\u001b[39;49m\u001b[43m_call_impl\u001b[49m\u001b[43m(\u001b[49m\u001b[38;5;241;43m*\u001b[39;49m\u001b[43margs\u001b[49m\u001b[43m,\u001b[49m\u001b[43m \u001b[49m\u001b[38;5;241;43m*\u001b[39;49m\u001b[38;5;241;43m*\u001b[39;49m\u001b[43mkwargs\u001b[49m\u001b[43m)\u001b[49m\n",
      "File \u001b[0;32m~/miniconda3/envs/robodiff_2/lib/python3.9/site-packages/torch/nn/modules/module.py:1750\u001b[0m, in \u001b[0;36mModule._call_impl\u001b[0;34m(self, *args, **kwargs)\u001b[0m\n\u001b[1;32m   1745\u001b[0m \u001b[38;5;66;03m# If we don't have any hooks, we want to skip the rest of the logic in\u001b[39;00m\n\u001b[1;32m   1746\u001b[0m \u001b[38;5;66;03m# this function, and just call forward.\u001b[39;00m\n\u001b[1;32m   1747\u001b[0m \u001b[38;5;28;01mif\u001b[39;00m \u001b[38;5;129;01mnot\u001b[39;00m (\u001b[38;5;28mself\u001b[39m\u001b[38;5;241m.\u001b[39m_backward_hooks \u001b[38;5;129;01mor\u001b[39;00m \u001b[38;5;28mself\u001b[39m\u001b[38;5;241m.\u001b[39m_backward_pre_hooks \u001b[38;5;129;01mor\u001b[39;00m \u001b[38;5;28mself\u001b[39m\u001b[38;5;241m.\u001b[39m_forward_hooks \u001b[38;5;129;01mor\u001b[39;00m \u001b[38;5;28mself\u001b[39m\u001b[38;5;241m.\u001b[39m_forward_pre_hooks\n\u001b[1;32m   1748\u001b[0m         \u001b[38;5;129;01mor\u001b[39;00m _global_backward_pre_hooks \u001b[38;5;129;01mor\u001b[39;00m _global_backward_hooks\n\u001b[1;32m   1749\u001b[0m         \u001b[38;5;129;01mor\u001b[39;00m _global_forward_hooks \u001b[38;5;129;01mor\u001b[39;00m _global_forward_pre_hooks):\n\u001b[0;32m-> 1750\u001b[0m     \u001b[38;5;28;01mreturn\u001b[39;00m \u001b[43mforward_call\u001b[49m\u001b[43m(\u001b[49m\u001b[38;5;241;43m*\u001b[39;49m\u001b[43margs\u001b[49m\u001b[43m,\u001b[49m\u001b[43m \u001b[49m\u001b[38;5;241;43m*\u001b[39;49m\u001b[38;5;241;43m*\u001b[39;49m\u001b[43mkwargs\u001b[49m\u001b[43m)\u001b[49m\n\u001b[1;32m   1752\u001b[0m result \u001b[38;5;241m=\u001b[39m \u001b[38;5;28;01mNone\u001b[39;00m\n\u001b[1;32m   1753\u001b[0m called_always_called_hooks \u001b[38;5;241m=\u001b[39m \u001b[38;5;28mset\u001b[39m()\n",
      "File \u001b[0;32m~/diffusion_policy/diffusion_policy/model/diffusion/conditional_unet1d.py:216\u001b[0m, in \u001b[0;36mConditionalUnet1D.forward\u001b[0;34m(self, sample, timestep, local_cond, global_cond, **kwargs)\u001b[0m\n\u001b[1;32m    214\u001b[0m h \u001b[38;5;241m=\u001b[39m []\n\u001b[1;32m    215\u001b[0m \u001b[38;5;28;01mfor\u001b[39;00m idx, (resnet, resnet2, downsample) \u001b[38;5;129;01min\u001b[39;00m \u001b[38;5;28menumerate\u001b[39m(\u001b[38;5;28mself\u001b[39m\u001b[38;5;241m.\u001b[39mdown_modules):\n\u001b[0;32m--> 216\u001b[0m     x \u001b[38;5;241m=\u001b[39m \u001b[43mresnet\u001b[49m\u001b[43m(\u001b[49m\u001b[43mx\u001b[49m\u001b[43m,\u001b[49m\u001b[43m \u001b[49m\u001b[43mglobal_feature\u001b[49m\u001b[43m)\u001b[49m\n\u001b[1;32m    217\u001b[0m     \u001b[38;5;28;01mif\u001b[39;00m idx \u001b[38;5;241m==\u001b[39m \u001b[38;5;241m0\u001b[39m \u001b[38;5;129;01mand\u001b[39;00m \u001b[38;5;28mlen\u001b[39m(h_local) \u001b[38;5;241m>\u001b[39m \u001b[38;5;241m0\u001b[39m:\n\u001b[1;32m    218\u001b[0m         x \u001b[38;5;241m=\u001b[39m x \u001b[38;5;241m+\u001b[39m h_local[\u001b[38;5;241m0\u001b[39m]\n",
      "File \u001b[0;32m~/miniconda3/envs/robodiff_2/lib/python3.9/site-packages/torch/nn/modules/module.py:1739\u001b[0m, in \u001b[0;36mModule._wrapped_call_impl\u001b[0;34m(self, *args, **kwargs)\u001b[0m\n\u001b[1;32m   1737\u001b[0m     \u001b[38;5;28;01mreturn\u001b[39;00m \u001b[38;5;28mself\u001b[39m\u001b[38;5;241m.\u001b[39m_compiled_call_impl(\u001b[38;5;241m*\u001b[39margs, \u001b[38;5;241m*\u001b[39m\u001b[38;5;241m*\u001b[39mkwargs)  \u001b[38;5;66;03m# type: ignore[misc]\u001b[39;00m\n\u001b[1;32m   1738\u001b[0m \u001b[38;5;28;01melse\u001b[39;00m:\n\u001b[0;32m-> 1739\u001b[0m     \u001b[38;5;28;01mreturn\u001b[39;00m \u001b[38;5;28;43mself\u001b[39;49m\u001b[38;5;241;43m.\u001b[39;49m\u001b[43m_call_impl\u001b[49m\u001b[43m(\u001b[49m\u001b[38;5;241;43m*\u001b[39;49m\u001b[43margs\u001b[49m\u001b[43m,\u001b[49m\u001b[43m \u001b[49m\u001b[38;5;241;43m*\u001b[39;49m\u001b[38;5;241;43m*\u001b[39;49m\u001b[43mkwargs\u001b[49m\u001b[43m)\u001b[49m\n",
      "File \u001b[0;32m~/miniconda3/envs/robodiff_2/lib/python3.9/site-packages/torch/nn/modules/module.py:1750\u001b[0m, in \u001b[0;36mModule._call_impl\u001b[0;34m(self, *args, **kwargs)\u001b[0m\n\u001b[1;32m   1745\u001b[0m \u001b[38;5;66;03m# If we don't have any hooks, we want to skip the rest of the logic in\u001b[39;00m\n\u001b[1;32m   1746\u001b[0m \u001b[38;5;66;03m# this function, and just call forward.\u001b[39;00m\n\u001b[1;32m   1747\u001b[0m \u001b[38;5;28;01mif\u001b[39;00m \u001b[38;5;129;01mnot\u001b[39;00m (\u001b[38;5;28mself\u001b[39m\u001b[38;5;241m.\u001b[39m_backward_hooks \u001b[38;5;129;01mor\u001b[39;00m \u001b[38;5;28mself\u001b[39m\u001b[38;5;241m.\u001b[39m_backward_pre_hooks \u001b[38;5;129;01mor\u001b[39;00m \u001b[38;5;28mself\u001b[39m\u001b[38;5;241m.\u001b[39m_forward_hooks \u001b[38;5;129;01mor\u001b[39;00m \u001b[38;5;28mself\u001b[39m\u001b[38;5;241m.\u001b[39m_forward_pre_hooks\n\u001b[1;32m   1748\u001b[0m         \u001b[38;5;129;01mor\u001b[39;00m _global_backward_pre_hooks \u001b[38;5;129;01mor\u001b[39;00m _global_backward_hooks\n\u001b[1;32m   1749\u001b[0m         \u001b[38;5;129;01mor\u001b[39;00m _global_forward_hooks \u001b[38;5;129;01mor\u001b[39;00m _global_forward_pre_hooks):\n\u001b[0;32m-> 1750\u001b[0m     \u001b[38;5;28;01mreturn\u001b[39;00m \u001b[43mforward_call\u001b[49m\u001b[43m(\u001b[49m\u001b[38;5;241;43m*\u001b[39;49m\u001b[43margs\u001b[49m\u001b[43m,\u001b[49m\u001b[43m \u001b[49m\u001b[38;5;241;43m*\u001b[39;49m\u001b[38;5;241;43m*\u001b[39;49m\u001b[43mkwargs\u001b[49m\u001b[43m)\u001b[49m\n\u001b[1;32m   1752\u001b[0m result \u001b[38;5;241m=\u001b[39m \u001b[38;5;28;01mNone\u001b[39;00m\n\u001b[1;32m   1753\u001b[0m called_always_called_hooks \u001b[38;5;241m=\u001b[39m \u001b[38;5;28mset\u001b[39m()\n",
      "File \u001b[0;32m~/diffusion_policy/diffusion_policy/model/diffusion/conditional_unet1d.py:54\u001b[0m, in \u001b[0;36mConditionalResidualBlock1D.forward\u001b[0;34m(self, x, cond)\u001b[0m\n\u001b[1;32m     46\u001b[0m \u001b[38;5;28;01mdef\u001b[39;00m\u001b[38;5;250m \u001b[39m\u001b[38;5;21mforward\u001b[39m(\u001b[38;5;28mself\u001b[39m, x, cond):\n\u001b[1;32m     47\u001b[0m \u001b[38;5;250m    \u001b[39m\u001b[38;5;124;03m'''\u001b[39;00m\n\u001b[1;32m     48\u001b[0m \u001b[38;5;124;03m        x : [ batch_size x in_channels x horizon ]\u001b[39;00m\n\u001b[1;32m     49\u001b[0m \u001b[38;5;124;03m        cond : [ batch_size x cond_dim]\u001b[39;00m\n\u001b[0;32m   (...)\u001b[0m\n\u001b[1;32m     52\u001b[0m \u001b[38;5;124;03m        out : [ batch_size x out_channels x horizon ]\u001b[39;00m\n\u001b[1;32m     53\u001b[0m \u001b[38;5;124;03m    '''\u001b[39;00m\n\u001b[0;32m---> 54\u001b[0m     out \u001b[38;5;241m=\u001b[39m \u001b[38;5;28;43mself\u001b[39;49m\u001b[38;5;241;43m.\u001b[39;49m\u001b[43mblocks\u001b[49m\u001b[43m[\u001b[49m\u001b[38;5;241;43m0\u001b[39;49m\u001b[43m]\u001b[49m\u001b[43m(\u001b[49m\u001b[43mx\u001b[49m\u001b[43m)\u001b[49m\n\u001b[1;32m     55\u001b[0m     embed \u001b[38;5;241m=\u001b[39m \u001b[38;5;28mself\u001b[39m\u001b[38;5;241m.\u001b[39mcond_encoder(cond)\n\u001b[1;32m     56\u001b[0m     \u001b[38;5;28;01mif\u001b[39;00m \u001b[38;5;28mself\u001b[39m\u001b[38;5;241m.\u001b[39mcond_predict_scale:\n",
      "File \u001b[0;32m~/miniconda3/envs/robodiff_2/lib/python3.9/site-packages/torch/nn/modules/module.py:1739\u001b[0m, in \u001b[0;36mModule._wrapped_call_impl\u001b[0;34m(self, *args, **kwargs)\u001b[0m\n\u001b[1;32m   1737\u001b[0m     \u001b[38;5;28;01mreturn\u001b[39;00m \u001b[38;5;28mself\u001b[39m\u001b[38;5;241m.\u001b[39m_compiled_call_impl(\u001b[38;5;241m*\u001b[39margs, \u001b[38;5;241m*\u001b[39m\u001b[38;5;241m*\u001b[39mkwargs)  \u001b[38;5;66;03m# type: ignore[misc]\u001b[39;00m\n\u001b[1;32m   1738\u001b[0m \u001b[38;5;28;01melse\u001b[39;00m:\n\u001b[0;32m-> 1739\u001b[0m     \u001b[38;5;28;01mreturn\u001b[39;00m \u001b[38;5;28;43mself\u001b[39;49m\u001b[38;5;241;43m.\u001b[39;49m\u001b[43m_call_impl\u001b[49m\u001b[43m(\u001b[49m\u001b[38;5;241;43m*\u001b[39;49m\u001b[43margs\u001b[49m\u001b[43m,\u001b[49m\u001b[43m \u001b[49m\u001b[38;5;241;43m*\u001b[39;49m\u001b[38;5;241;43m*\u001b[39;49m\u001b[43mkwargs\u001b[49m\u001b[43m)\u001b[49m\n",
      "File \u001b[0;32m~/miniconda3/envs/robodiff_2/lib/python3.9/site-packages/torch/nn/modules/module.py:1750\u001b[0m, in \u001b[0;36mModule._call_impl\u001b[0;34m(self, *args, **kwargs)\u001b[0m\n\u001b[1;32m   1745\u001b[0m \u001b[38;5;66;03m# If we don't have any hooks, we want to skip the rest of the logic in\u001b[39;00m\n\u001b[1;32m   1746\u001b[0m \u001b[38;5;66;03m# this function, and just call forward.\u001b[39;00m\n\u001b[1;32m   1747\u001b[0m \u001b[38;5;28;01mif\u001b[39;00m \u001b[38;5;129;01mnot\u001b[39;00m (\u001b[38;5;28mself\u001b[39m\u001b[38;5;241m.\u001b[39m_backward_hooks \u001b[38;5;129;01mor\u001b[39;00m \u001b[38;5;28mself\u001b[39m\u001b[38;5;241m.\u001b[39m_backward_pre_hooks \u001b[38;5;129;01mor\u001b[39;00m \u001b[38;5;28mself\u001b[39m\u001b[38;5;241m.\u001b[39m_forward_hooks \u001b[38;5;129;01mor\u001b[39;00m \u001b[38;5;28mself\u001b[39m\u001b[38;5;241m.\u001b[39m_forward_pre_hooks\n\u001b[1;32m   1748\u001b[0m         \u001b[38;5;129;01mor\u001b[39;00m _global_backward_pre_hooks \u001b[38;5;129;01mor\u001b[39;00m _global_backward_hooks\n\u001b[1;32m   1749\u001b[0m         \u001b[38;5;129;01mor\u001b[39;00m _global_forward_hooks \u001b[38;5;129;01mor\u001b[39;00m _global_forward_pre_hooks):\n\u001b[0;32m-> 1750\u001b[0m     \u001b[38;5;28;01mreturn\u001b[39;00m \u001b[43mforward_call\u001b[49m\u001b[43m(\u001b[49m\u001b[38;5;241;43m*\u001b[39;49m\u001b[43margs\u001b[49m\u001b[43m,\u001b[49m\u001b[43m \u001b[49m\u001b[38;5;241;43m*\u001b[39;49m\u001b[38;5;241;43m*\u001b[39;49m\u001b[43mkwargs\u001b[49m\u001b[43m)\u001b[49m\n\u001b[1;32m   1752\u001b[0m result \u001b[38;5;241m=\u001b[39m \u001b[38;5;28;01mNone\u001b[39;00m\n\u001b[1;32m   1753\u001b[0m called_always_called_hooks \u001b[38;5;241m=\u001b[39m \u001b[38;5;28mset\u001b[39m()\n",
      "File \u001b[0;32m~/diffusion_policy/diffusion_policy/model/diffusion/conv1d_components.py:40\u001b[0m, in \u001b[0;36mConv1dBlock.forward\u001b[0;34m(self, x)\u001b[0m\n\u001b[1;32m     39\u001b[0m \u001b[38;5;28;01mdef\u001b[39;00m\u001b[38;5;250m \u001b[39m\u001b[38;5;21mforward\u001b[39m(\u001b[38;5;28mself\u001b[39m, x):\n\u001b[0;32m---> 40\u001b[0m     \u001b[38;5;28;01mreturn\u001b[39;00m \u001b[38;5;28;43mself\u001b[39;49m\u001b[38;5;241;43m.\u001b[39;49m\u001b[43mblock\u001b[49m\u001b[43m(\u001b[49m\u001b[43mx\u001b[49m\u001b[43m)\u001b[49m\n",
      "File \u001b[0;32m~/miniconda3/envs/robodiff_2/lib/python3.9/site-packages/torch/nn/modules/module.py:1739\u001b[0m, in \u001b[0;36mModule._wrapped_call_impl\u001b[0;34m(self, *args, **kwargs)\u001b[0m\n\u001b[1;32m   1737\u001b[0m     \u001b[38;5;28;01mreturn\u001b[39;00m \u001b[38;5;28mself\u001b[39m\u001b[38;5;241m.\u001b[39m_compiled_call_impl(\u001b[38;5;241m*\u001b[39margs, \u001b[38;5;241m*\u001b[39m\u001b[38;5;241m*\u001b[39mkwargs)  \u001b[38;5;66;03m# type: ignore[misc]\u001b[39;00m\n\u001b[1;32m   1738\u001b[0m \u001b[38;5;28;01melse\u001b[39;00m:\n\u001b[0;32m-> 1739\u001b[0m     \u001b[38;5;28;01mreturn\u001b[39;00m \u001b[38;5;28;43mself\u001b[39;49m\u001b[38;5;241;43m.\u001b[39;49m\u001b[43m_call_impl\u001b[49m\u001b[43m(\u001b[49m\u001b[38;5;241;43m*\u001b[39;49m\u001b[43margs\u001b[49m\u001b[43m,\u001b[49m\u001b[43m \u001b[49m\u001b[38;5;241;43m*\u001b[39;49m\u001b[38;5;241;43m*\u001b[39;49m\u001b[43mkwargs\u001b[49m\u001b[43m)\u001b[49m\n",
      "File \u001b[0;32m~/miniconda3/envs/robodiff_2/lib/python3.9/site-packages/torch/nn/modules/module.py:1750\u001b[0m, in \u001b[0;36mModule._call_impl\u001b[0;34m(self, *args, **kwargs)\u001b[0m\n\u001b[1;32m   1745\u001b[0m \u001b[38;5;66;03m# If we don't have any hooks, we want to skip the rest of the logic in\u001b[39;00m\n\u001b[1;32m   1746\u001b[0m \u001b[38;5;66;03m# this function, and just call forward.\u001b[39;00m\n\u001b[1;32m   1747\u001b[0m \u001b[38;5;28;01mif\u001b[39;00m \u001b[38;5;129;01mnot\u001b[39;00m (\u001b[38;5;28mself\u001b[39m\u001b[38;5;241m.\u001b[39m_backward_hooks \u001b[38;5;129;01mor\u001b[39;00m \u001b[38;5;28mself\u001b[39m\u001b[38;5;241m.\u001b[39m_backward_pre_hooks \u001b[38;5;129;01mor\u001b[39;00m \u001b[38;5;28mself\u001b[39m\u001b[38;5;241m.\u001b[39m_forward_hooks \u001b[38;5;129;01mor\u001b[39;00m \u001b[38;5;28mself\u001b[39m\u001b[38;5;241m.\u001b[39m_forward_pre_hooks\n\u001b[1;32m   1748\u001b[0m         \u001b[38;5;129;01mor\u001b[39;00m _global_backward_pre_hooks \u001b[38;5;129;01mor\u001b[39;00m _global_backward_hooks\n\u001b[1;32m   1749\u001b[0m         \u001b[38;5;129;01mor\u001b[39;00m _global_forward_hooks \u001b[38;5;129;01mor\u001b[39;00m _global_forward_pre_hooks):\n\u001b[0;32m-> 1750\u001b[0m     \u001b[38;5;28;01mreturn\u001b[39;00m \u001b[43mforward_call\u001b[49m\u001b[43m(\u001b[49m\u001b[38;5;241;43m*\u001b[39;49m\u001b[43margs\u001b[49m\u001b[43m,\u001b[49m\u001b[43m \u001b[49m\u001b[38;5;241;43m*\u001b[39;49m\u001b[38;5;241;43m*\u001b[39;49m\u001b[43mkwargs\u001b[49m\u001b[43m)\u001b[49m\n\u001b[1;32m   1752\u001b[0m result \u001b[38;5;241m=\u001b[39m \u001b[38;5;28;01mNone\u001b[39;00m\n\u001b[1;32m   1753\u001b[0m called_always_called_hooks \u001b[38;5;241m=\u001b[39m \u001b[38;5;28mset\u001b[39m()\n",
      "File \u001b[0;32m~/miniconda3/envs/robodiff_2/lib/python3.9/site-packages/torch/nn/modules/container.py:250\u001b[0m, in \u001b[0;36mSequential.forward\u001b[0;34m(self, input)\u001b[0m\n\u001b[1;32m    248\u001b[0m \u001b[38;5;28;01mdef\u001b[39;00m\u001b[38;5;250m \u001b[39m\u001b[38;5;21mforward\u001b[39m(\u001b[38;5;28mself\u001b[39m, \u001b[38;5;28minput\u001b[39m):\n\u001b[1;32m    249\u001b[0m     \u001b[38;5;28;01mfor\u001b[39;00m module \u001b[38;5;129;01min\u001b[39;00m \u001b[38;5;28mself\u001b[39m:\n\u001b[0;32m--> 250\u001b[0m         \u001b[38;5;28minput\u001b[39m \u001b[38;5;241m=\u001b[39m \u001b[43mmodule\u001b[49m\u001b[43m(\u001b[49m\u001b[38;5;28;43minput\u001b[39;49m\u001b[43m)\u001b[49m\n\u001b[1;32m    251\u001b[0m     \u001b[38;5;28;01mreturn\u001b[39;00m \u001b[38;5;28minput\u001b[39m\n",
      "File \u001b[0;32m~/miniconda3/envs/robodiff_2/lib/python3.9/site-packages/torch/nn/modules/module.py:1739\u001b[0m, in \u001b[0;36mModule._wrapped_call_impl\u001b[0;34m(self, *args, **kwargs)\u001b[0m\n\u001b[1;32m   1737\u001b[0m     \u001b[38;5;28;01mreturn\u001b[39;00m \u001b[38;5;28mself\u001b[39m\u001b[38;5;241m.\u001b[39m_compiled_call_impl(\u001b[38;5;241m*\u001b[39margs, \u001b[38;5;241m*\u001b[39m\u001b[38;5;241m*\u001b[39mkwargs)  \u001b[38;5;66;03m# type: ignore[misc]\u001b[39;00m\n\u001b[1;32m   1738\u001b[0m \u001b[38;5;28;01melse\u001b[39;00m:\n\u001b[0;32m-> 1739\u001b[0m     \u001b[38;5;28;01mreturn\u001b[39;00m \u001b[38;5;28;43mself\u001b[39;49m\u001b[38;5;241;43m.\u001b[39;49m\u001b[43m_call_impl\u001b[49m\u001b[43m(\u001b[49m\u001b[38;5;241;43m*\u001b[39;49m\u001b[43margs\u001b[49m\u001b[43m,\u001b[49m\u001b[43m \u001b[49m\u001b[38;5;241;43m*\u001b[39;49m\u001b[38;5;241;43m*\u001b[39;49m\u001b[43mkwargs\u001b[49m\u001b[43m)\u001b[49m\n",
      "File \u001b[0;32m~/miniconda3/envs/robodiff_2/lib/python3.9/site-packages/torch/nn/modules/module.py:1750\u001b[0m, in \u001b[0;36mModule._call_impl\u001b[0;34m(self, *args, **kwargs)\u001b[0m\n\u001b[1;32m   1745\u001b[0m \u001b[38;5;66;03m# If we don't have any hooks, we want to skip the rest of the logic in\u001b[39;00m\n\u001b[1;32m   1746\u001b[0m \u001b[38;5;66;03m# this function, and just call forward.\u001b[39;00m\n\u001b[1;32m   1747\u001b[0m \u001b[38;5;28;01mif\u001b[39;00m \u001b[38;5;129;01mnot\u001b[39;00m (\u001b[38;5;28mself\u001b[39m\u001b[38;5;241m.\u001b[39m_backward_hooks \u001b[38;5;129;01mor\u001b[39;00m \u001b[38;5;28mself\u001b[39m\u001b[38;5;241m.\u001b[39m_backward_pre_hooks \u001b[38;5;129;01mor\u001b[39;00m \u001b[38;5;28mself\u001b[39m\u001b[38;5;241m.\u001b[39m_forward_hooks \u001b[38;5;129;01mor\u001b[39;00m \u001b[38;5;28mself\u001b[39m\u001b[38;5;241m.\u001b[39m_forward_pre_hooks\n\u001b[1;32m   1748\u001b[0m         \u001b[38;5;129;01mor\u001b[39;00m _global_backward_pre_hooks \u001b[38;5;129;01mor\u001b[39;00m _global_backward_hooks\n\u001b[1;32m   1749\u001b[0m         \u001b[38;5;129;01mor\u001b[39;00m _global_forward_hooks \u001b[38;5;129;01mor\u001b[39;00m _global_forward_pre_hooks):\n\u001b[0;32m-> 1750\u001b[0m     \u001b[38;5;28;01mreturn\u001b[39;00m \u001b[43mforward_call\u001b[49m\u001b[43m(\u001b[49m\u001b[38;5;241;43m*\u001b[39;49m\u001b[43margs\u001b[49m\u001b[43m,\u001b[49m\u001b[43m \u001b[49m\u001b[38;5;241;43m*\u001b[39;49m\u001b[38;5;241;43m*\u001b[39;49m\u001b[43mkwargs\u001b[49m\u001b[43m)\u001b[49m\n\u001b[1;32m   1752\u001b[0m result \u001b[38;5;241m=\u001b[39m \u001b[38;5;28;01mNone\u001b[39;00m\n\u001b[1;32m   1753\u001b[0m called_always_called_hooks \u001b[38;5;241m=\u001b[39m \u001b[38;5;28mset\u001b[39m()\n",
      "File \u001b[0;32m~/miniconda3/envs/robodiff_2/lib/python3.9/site-packages/torch/nn/modules/conv.py:375\u001b[0m, in \u001b[0;36mConv1d.forward\u001b[0;34m(self, input)\u001b[0m\n\u001b[1;32m    374\u001b[0m \u001b[38;5;28;01mdef\u001b[39;00m\u001b[38;5;250m \u001b[39m\u001b[38;5;21mforward\u001b[39m(\u001b[38;5;28mself\u001b[39m, \u001b[38;5;28minput\u001b[39m: Tensor) \u001b[38;5;241m-\u001b[39m\u001b[38;5;241m>\u001b[39m Tensor:\n\u001b[0;32m--> 375\u001b[0m     \u001b[38;5;28;01mreturn\u001b[39;00m \u001b[38;5;28;43mself\u001b[39;49m\u001b[38;5;241;43m.\u001b[39;49m\u001b[43m_conv_forward\u001b[49m\u001b[43m(\u001b[49m\u001b[38;5;28;43minput\u001b[39;49m\u001b[43m,\u001b[49m\u001b[43m \u001b[49m\u001b[38;5;28;43mself\u001b[39;49m\u001b[38;5;241;43m.\u001b[39;49m\u001b[43mweight\u001b[49m\u001b[43m,\u001b[49m\u001b[43m \u001b[49m\u001b[38;5;28;43mself\u001b[39;49m\u001b[38;5;241;43m.\u001b[39;49m\u001b[43mbias\u001b[49m\u001b[43m)\u001b[49m\n",
      "File \u001b[0;32m~/miniconda3/envs/robodiff_2/lib/python3.9/site-packages/torch/nn/modules/conv.py:370\u001b[0m, in \u001b[0;36mConv1d._conv_forward\u001b[0;34m(self, input, weight, bias)\u001b[0m\n\u001b[1;32m    358\u001b[0m \u001b[38;5;28;01mif\u001b[39;00m \u001b[38;5;28mself\u001b[39m\u001b[38;5;241m.\u001b[39mpadding_mode \u001b[38;5;241m!=\u001b[39m \u001b[38;5;124m\"\u001b[39m\u001b[38;5;124mzeros\u001b[39m\u001b[38;5;124m\"\u001b[39m:\n\u001b[1;32m    359\u001b[0m     \u001b[38;5;28;01mreturn\u001b[39;00m F\u001b[38;5;241m.\u001b[39mconv1d(\n\u001b[1;32m    360\u001b[0m         F\u001b[38;5;241m.\u001b[39mpad(\n\u001b[1;32m    361\u001b[0m             \u001b[38;5;28minput\u001b[39m, \u001b[38;5;28mself\u001b[39m\u001b[38;5;241m.\u001b[39m_reversed_padding_repeated_twice, mode\u001b[38;5;241m=\u001b[39m\u001b[38;5;28mself\u001b[39m\u001b[38;5;241m.\u001b[39mpadding_mode\n\u001b[0;32m   (...)\u001b[0m\n\u001b[1;32m    368\u001b[0m         \u001b[38;5;28mself\u001b[39m\u001b[38;5;241m.\u001b[39mgroups,\n\u001b[1;32m    369\u001b[0m     )\n\u001b[0;32m--> 370\u001b[0m \u001b[38;5;28;01mreturn\u001b[39;00m \u001b[43mF\u001b[49m\u001b[38;5;241;43m.\u001b[39;49m\u001b[43mconv1d\u001b[49m\u001b[43m(\u001b[49m\n\u001b[1;32m    371\u001b[0m \u001b[43m    \u001b[49m\u001b[38;5;28;43minput\u001b[39;49m\u001b[43m,\u001b[49m\u001b[43m \u001b[49m\u001b[43mweight\u001b[49m\u001b[43m,\u001b[49m\u001b[43m \u001b[49m\u001b[43mbias\u001b[49m\u001b[43m,\u001b[49m\u001b[43m \u001b[49m\u001b[38;5;28;43mself\u001b[39;49m\u001b[38;5;241;43m.\u001b[39;49m\u001b[43mstride\u001b[49m\u001b[43m,\u001b[49m\u001b[43m \u001b[49m\u001b[38;5;28;43mself\u001b[39;49m\u001b[38;5;241;43m.\u001b[39;49m\u001b[43mpadding\u001b[49m\u001b[43m,\u001b[49m\u001b[43m \u001b[49m\u001b[38;5;28;43mself\u001b[39;49m\u001b[38;5;241;43m.\u001b[39;49m\u001b[43mdilation\u001b[49m\u001b[43m,\u001b[49m\u001b[43m \u001b[49m\u001b[38;5;28;43mself\u001b[39;49m\u001b[38;5;241;43m.\u001b[39;49m\u001b[43mgroups\u001b[49m\n\u001b[1;32m    372\u001b[0m \u001b[43m\u001b[49m\u001b[43m)\u001b[49m\n",
      "\u001b[0;31mKeyboardInterrupt\u001b[0m: "
     ]
    }
   ],
   "source": [
    "# Reset robot and policy (assume these functions are defined elsewhere)\n",
    "set_gripper(open=True)\n",
    "reset_joints_to(robot_interface, reset_joint_positions)\n",
    "set_gripper(open=True)\n",
    "policy.reset()\n",
    "\n",
    "images = []\n",
    "all_poses_7d = []\n",
    "all_inside_flags = []\n",
    "\n",
    "# ---- Compute Initial Pose from Joint Angles ----\n",
    "js = robot_interface.last_q  # 7-element joint angle vector\n",
    "if js is None:\n",
    "    raise ValueError(\"No joint angles available to compute the initial pose.\")\n",
    "initial_pose = joint_angles_to_end_effector_pose(js)\n",
    "print(\"Initial computed 7D Pose from joint angles:\")\n",
    "print(initial_pose)\n",
    "\n",
    "# Use the computed initial pose as the stored current pose.\n",
    "current_pose_7d = initial_pose.copy()\n",
    "\n",
    "UPDATE_THRESHOLD = 1e-4  # threshold to update stored pose\n",
    "\n",
    "# ---- Policy Execution Loop ----\n",
    "for step in range(10):\n",
    "    print(f\"\\n--- Step {step+1} ---\")\n",
    "    \n",
    "    # 1) Acquire user input (e.g., from a spacemouse)\n",
    "    action, grasp = input2action(device=spacemouse, controller_type=controller_type)\n",
    "    if action is None:\n",
    "        break\n",
    "    if len(robot_interface._state_buffer) == 0:\n",
    "        continue\n",
    "\n",
    "    # Get an observation from the robot (using your usual method)\n",
    "    obs_dict = get_current_obs(robot_interface)\n",
    "    obs = framestacker.add_new_obs(obs_dict)\n",
    "\n",
    "    # Use your prediction function that outputs 8D data.\n",
    "    # Assume predict_action_0 returns an array of 8 poses (each 8D).\n",
    "    predicted_abs = predict_action_0(obs)\n",
    "    # For example, take the first predicted pose and extract the first 7 elements.\n",
    "    predicted_pose = predicted_abs[0][:7]\n",
    "\n",
    "    # Compute the pose from joint angles using our default method.\n",
    "    js = robot_interface.last_q  # 7-element joint angle vector from the robot.\n",
    "    computed_pose = joint_angles_to_end_effector_pose(js)\n",
    "\n",
    "    print(\"Predicted 7D Pose from predict_action_0:\")\n",
    "    print(predicted_pose)\n",
    "\n",
    "    print(\"Computed 7D Pose using joint_angles_to_end_effector_pose:\")\n",
    "    print(computed_pose)\n",
    "\n",
    "    # for i, pose in enumerate(predicted_abs):\n",
    "    #     # Extract raw quaternion from indices 3 to 7 of each 8D vector\n",
    "    #     raw_quat = pose[3:7]\n",
    "    #     # Our computed quaternion is simply the first 7 elements' quaternion part.\n",
    "    #     computed_pose = pose[:7]\n",
    "    #     computed_quat = computed_pose[3:7]\n",
    "    #     print(f\"Pose {i} raw predicted quaternion: {raw_quat}\")\n",
    "    #     print(f\"Pose {i} computed quaternion (first 7 elements): {computed_quat}\")\n",
    "    \n",
    "    # # For safety checks, we use one of the predicted poses.\n",
    "    # # For example, take the first predicted pose (first 7 elements)\n",
    "    # predicted_pose = predicted_abs[0][:7]\n",
    "    \n",
    "    # print(\"Using predicted absolute pose from predict_action_0 (first pose):\")\n",
    "    # print(predicted_pose)\n",
    "    \n",
    "    # Use predict_action to drive the robot (returns delta commands, 7D)\n",
    "    delta_actions = predict_action(obs)  # e.g., shape (N, 7)\n",
    "    \n",
    "    for i, delta_action in enumerate(delta_actions[:4]):\n",
    "        # Scale the raw delta action using the controller's action_scale values.\n",
    "        scaled_delta = np.hstack([ACTION_SCALE_TRANSLATION * delta_action[:3],\n",
    "                                  ACTION_SCALE_ROTATION * delta_action[3:6],\n",
    "                                  delta_action[6:7]])  # keep gripper as is\n",
    "        \n",
    "        # # For safety checking, convert predicted_pose to 6D.\n",
    "        # predicted_pose_6d = pose7d_to_6d(predicted_pose)\n",
    "        # inside, distances = is_pose_in_safe_set_6d(predicted_pose_6d, hull_equations, tol=1e-1)\n",
    "        \n",
    "        # # print(f\"\\nAction {i}: Delta action (raw): {delta_action}\")\n",
    "        # # print(f\"Scaled delta action (sent to robot): {scaled_delta}\")\n",
    "        # print(\"Predicted absolute pose (from predict_action_0):\")\n",
    "        # print(predicted_pose)\n",
    "        # # print(\"Minimal 6D representation of predicted pose:\")\n",
    "        # # print(predicted_pose_6d)\n",
    "        # print(\"Safe set check: inside =\", inside)\n",
    "        # # print(\"Facet distances:\", distances)\n",
    "        \n",
    "        # if not inside:\n",
    "        #     print(\"Warning: Predicted pose is unsafe!\")\n",
    "        \n",
    "        # Send the scaled delta action to the robot.\n",
    "        # print(f\"Sending action {i} to robot: {scaled_delta}\")\n",
    "        robot_interface.control(\n",
    "            controller_type=controller_type,\n",
    "            action=delta_action,\n",
    "            controller_cfg=controller_cfg,\n",
    "        )\n",
    "        time.sleep(0.05)\n",
    "        \n",
    "        # ---- After command, measure new pose from joint angles.\n",
    "        js_new = robot_interface.last_q\n",
    "        if js_new is not None:\n",
    "            measured_pose = joint_angles_to_end_effector_pose(js_new)\n",
    "            print(\"Measured 7D Pose from joint angles after action:\")\n",
    "            print(measured_pose)\n",
    "            diff = np.linalg.norm(measured_pose - predicted_pose)\n",
    "            print(f\"Difference between predicted and measured pose: {diff:.6f}\")\n",
    "            \n",
    "            # # Compute scaling factors based on stored pose and measured pose.\n",
    "            # factor_trans, factor_rot = compute_scaling_factors(current_pose_7d, measured_pose, delta_action)\n",
    "            # print(f\"Computed scaling factors: translation = {factor_trans:.4f}, rotation = {factor_rot:.4f}\")\n",
    "            \n",
    "            # # Filter scaling factors using moving average.\n",
    "            # recent_trans_factors.append(factor_trans)\n",
    "            # recent_rot_factors.append(factor_rot)\n",
    "            # if len(recent_trans_factors) > N:\n",
    "            #     recent_trans_factors.pop(0)\n",
    "            #     recent_rot_factors.pop(0)\n",
    "            # stable_trans_scale = np.mean(recent_trans_factors)\n",
    "            # stable_rot_scale = np.mean(recent_rot_factors)\n",
    "            # print(f\"Stable scaling factors (avg over {N} steps): translation = {stable_trans_scale:.4f}, rotation = {stable_rot_scale:.4f}\")\n",
    "            \n",
    "            # # Optionally update global scaling factors.\n",
    "            # TRANS_SCALE = stable_trans_scale\n",
    "            # ROT_SCALE = stable_rot_scale\n",
    "            \n",
    "            # Update stored pose if measured pose updated significantly.\n",
    "            if np.linalg.norm(measured_pose - current_pose_7d) > UPDATE_THRESHOLD:\n",
    "                current_pose_7d = measured_pose.copy()\n",
    "            else:\n",
    "                print(\"Measured pose did not update significantly. Retaining stored pose.\")\n",
    "        else:\n",
    "            print(\"No joint angles available after action. Using predicted pose.\")\n",
    "            current_pose_7d = predicted_pose.copy()\n",
    "        \n",
    "        all_poses_7d.append(current_pose_7d)\n",
    "        all_inside_flags.append(inside)\n",
    "        print(\"Stored updated 7D pose for next iteration:\")\n",
    "        print(current_pose_7d)\n",
    "\n",
    "robot_interface.close()"
   ]
  },
  {
   "cell_type": "code",
   "execution_count": 61,
   "metadata": {},
   "outputs": [
    {
     "data": {
      "text/plain": [
       "array([[ 0.248, -0.001,  0.058,  1.   ,  0.005,  0.01 ,  0.003, -0.996],\n",
       "       [ 0.306, -0.002,  0.084,  1.   ,  0.004,  0.011,  0.002, -0.996],\n",
       "       [ 0.32 , -0.001,  0.079,  1.   ,  0.006,  0.012, -0.001, -0.997],\n",
       "       [ 0.354, -0.001,  0.097,  1.   ,  0.004,  0.012, -0.001, -1.   ],\n",
       "       [ 0.376,  0.006,  0.066,  1.   ,  0.002,  0.011, -0.002, -1.   ],\n",
       "       [ 0.393,  0.003,  0.071,  1.   ,  0.   ,  0.012, -0.001, -1.   ],\n",
       "       [ 0.398,  0.003,  0.068,  1.   , -0.   ,  0.01 , -0.002, -1.   ],\n",
       "       [ 0.387,  0.   ,  0.068,  1.   ,  0.   ,  0.009, -0.001, -0.997]],\n",
       "      dtype=float32)"
      ]
     },
     "execution_count": 61,
     "metadata": {},
     "output_type": "execute_result"
    }
   ],
   "source": [
    "predicted_abs"
   ]
  },
  {
   "cell_type": "code",
   "execution_count": 62,
   "metadata": {},
   "outputs": [
    {
     "data": {
      "text/plain": [
       "array([ 0.606, -0.08 ,  0.346, -0.371,  0.822, -0.174, -0.396])"
      ]
     },
     "execution_count": 62,
     "metadata": {},
     "output_type": "execute_result"
    }
   ],
   "source": [
    "computed_pose "
   ]
  },
  {
   "cell_type": "code",
   "execution_count": 63,
   "metadata": {},
   "outputs": [
    {
     "ename": "SyntaxError",
     "evalue": "invalid syntax (2158657128.py, line 1)",
     "output_type": "error",
     "traceback": [
      "\u001b[0;36m  Cell \u001b[0;32mIn[63], line 1\u001b[0;36m\u001b[0m\n\u001b[0;31m    [ 0.606 -0.08   0.346 -0.371  0.822 -0.174 -0.396]\u001b[0m\n\u001b[0m                    ^\u001b[0m\n\u001b[0;31mSyntaxError\u001b[0m\u001b[0;31m:\u001b[0m invalid syntax\n"
     ]
    }
   ],
   "source": [
    "[ 0.606 -0.081  0.346 -0.373  0.821 -0.175 -0.395]"
   ]
  },
  {
   "cell_type": "markdown",
   "metadata": {},
   "source": [
    "### saving the images as video file"
   ]
  },
  {
   "cell_type": "code",
   "execution_count": 61,
   "metadata": {},
   "outputs": [
    {
     "name": "stdout",
     "output_type": "stream",
     "text": [
      "saving video to:  inference_videos/2025-01-28_18_33.mp4\n"
     ]
    }
   ],
   "source": [
    "import imageio \n",
    "from datetime import datetime\n",
    "\n",
    "now = datetime.now().strftime(\"%Y-%m-%d_%H_%M\")\n",
    "savepath = f\"inference_videos/{now}.mp4\"\n",
    "\n",
    "print('saving video to: ', savepath)\n",
    "\n",
    "writer = imageio.get_writer(savepath, fps=3)\n",
    "for img in images:\n",
    "    img = cv2.cvtColor(img, cv2.COLOR_BGR2RGB) \n",
    "    writer.append_data(img)\n",
    "writer.close()"
   ]
  },
  {
   "cell_type": "code",
   "execution_count": null,
   "metadata": {},
   "outputs": [
    {
     "name": "stdout",
     "output_type": "stream",
     "text": [
      "OSC_POSE\n"
     ]
    }
   ],
   "source": [
    "print(controller_type)"
   ]
  },
  {
   "cell_type": "code",
   "execution_count": null,
   "metadata": {},
   "outputs": [
    {
     "name": "stdout",
     "output_type": "stream",
     "text": [
      "[[ 0.303 -0.023  0.258 -0.218 -0.133 -0.093 -1.   ]\n",
      " [ 0.285 -0.017  0.171 -0.206 -0.129 -0.091 -1.   ]\n",
      " [ 0.277 -0.013  0.102 -0.196 -0.11  -0.083 -1.   ]\n",
      " [ 0.266  0.006  0.048 -0.184 -0.097 -0.07  -0.999]\n",
      " [ 0.238  0.009  0.02  -0.177 -0.076 -0.052 -1.   ]\n",
      " [ 0.163  0.009  0.008 -0.165 -0.057 -0.046 -0.996]\n",
      " [ 0.099 -0.006 -0.018 -0.148 -0.034 -0.033 -0.997]\n",
      " [ 0.091  0.058 -0.019 -0.138 -0.028 -0.024 -1.   ]]\n",
      "[ 0.  0.  0.  0.  0. -0. -1.]\n"
     ]
    }
   ],
   "source": [
    "print(action_pred)\n",
    "print(action)"
   ]
  },
  {
   "cell_type": "code",
   "execution_count": 136,
   "metadata": {},
   "outputs": [
    {
     "name": "stdout",
     "output_type": "stream",
     "text": [
      "Converted 7D Pose (Joint Angles): [ 0.037 -1.655  0.099 -2.993 -0.074  2.321  0.921]\n"
     ]
    },
    {
     "name": "stderr",
     "output_type": "stream",
     "text": [
      "Exception in thread Thread-8:\n",
      "Traceback (most recent call last):\n",
      "  File \"/home/franka_deoxys/miniconda3/envs/robodiff_2/lib/python3.9/threading.py\", line 980, in _bootstrap_inner\n",
      "    self.run()\n",
      "  File \"/home/franka_deoxys/miniconda3/envs/robodiff_2/lib/python3.9/threading.py\", line 917, in run\n",
      "    self._target(*self._args, **self._kwargs)\n",
      "  File \"/home/franka_deoxys/deoxys_control/deoxys/deoxys/utils/io_devices/spacemouse.py\", line 219, in run\n",
      "    d = self.device.read(13)\n",
      "  File \"hid.pyx\", line 235, in hid.device.read\n",
      "OSError: read error\n"
     ]
    }
   ],
   "source": [
    "import numpy as np\n",
    "from scipy.spatial.transform import Rotation as R\n",
    "\n",
    "def my_ik_solver(position, quaternion):\n",
    "    \"\"\"\n",
    "    Placeholder for your actual IK solver that converts a Cartesian pose\n",
    "    to 7 joint angles. Replace this with a call to your real IK solver\n",
    "    (PyBullet, ROS MoveIt, MuJoCo, or custom).\n",
    "    \"\"\"\n",
    "    # Example: Always return the same \"expected\" angles\n",
    "    return np.array([0.037, -1.655, 0.099, -2.993, -0.074, 2.321, 0.921])\n",
    "\n",
    "def predicted_to_expected_7d(predicted_7d_pose):\n",
    "    \"\"\"\n",
    "    Convert a predicted 7D Cartesian pose [x, y, z, qx, qy, qz, qw]\n",
    "    into the expected 7D joint angles [j1, j2, j3, j4, j5, j6, j7].\n",
    "    \"\"\"\n",
    "    # Ensure we have 7 values\n",
    "    predicted_7d_pose = np.asarray(predicted_7d_pose)\n",
    "    if predicted_7d_pose.shape != (7,):\n",
    "        raise ValueError(f\"predicted_7d_pose must be shape (7,), got {predicted_7d_pose.shape}\")\n",
    "\n",
    "    # 1) Split position and quaternion\n",
    "    position = predicted_7d_pose[:3]\n",
    "    quaternion = predicted_7d_pose[3:]\n",
    "\n",
    "    # 2) Normalize the quaternion\n",
    "    norm_q = np.linalg.norm(quaternion)\n",
    "    if norm_q < 1e-6:\n",
    "        quaternion = np.array([0, 0, 0, 1])\n",
    "    else:\n",
    "        quaternion /= norm_q\n",
    "\n",
    "    # 3) Call your IK solver to get the 7 joint angles\n",
    "    joint_angles_7d = my_ik_solver(position, quaternion)\n",
    "\n",
    "    return joint_angles_7d\n",
    "\n",
    "# -----------------------\n",
    "# Example Usage\n",
    "# -----------------------\n",
    "if __name__ == \"__main__\":\n",
    "    # Predicted 7D pose: [x, y, z, qx, qy, qz, qw]\n",
    "    predicted_7d = [0.297, -0.004, 0.094, 0.01, 0.043, 0.004, -0.999]\n",
    "    \n",
    "    # Convert to the expected 7D (joint angles)\n",
    "    expected_7d = predicted_to_expected_7d(predicted_7d)\n",
    "    print(\"Converted 7D Pose (Joint Angles):\", expected_7d)\n"
   ]
  },
  {
   "cell_type": "code",
   "execution_count": null,
   "metadata": {},
   "outputs": [],
   "source": []
  },
  {
   "cell_type": "code",
   "execution_count": null,
   "metadata": {},
   "outputs": [],
   "source": []
  },
  {
   "cell_type": "code",
   "execution_count": null,
   "metadata": {},
   "outputs": [],
   "source": []
  },
  {
   "cell_type": "code",
   "execution_count": null,
   "metadata": {},
   "outputs": [],
   "source": []
  },
  {
   "cell_type": "code",
   "execution_count": null,
   "metadata": {},
   "outputs": [],
   "source": []
  },
  {
   "cell_type": "code",
   "execution_count": 3,
   "metadata": {},
   "outputs": [
    {
     "name": "stdout",
     "output_type": "stream",
     "text": [
      "\u001b[1m\u001b[33m[Deoxys Examples WARNING] \u001b[0mRobot state not received (Ln 57)\n",
      "\u001b[1m\u001b[30m[Deoxys Examples INFO] \u001b[0mStarting IK of goint to absolute position ... (Ln 66)\n",
      "Current eef (pos):  [0.5946152  0.00793355 0.41496671]\n",
      "Predicted goal eef (pos):  [0.4  0.2  0.05]\n"
     ]
    },
    {
     "name": "stderr",
     "output_type": "stream",
     "text": [
      "100%|██████████| 100/100 [00:00<00:00, 1119.51it/s]"
     ]
    },
    {
     "name": "stdout",
     "output_type": "stream",
     "text": [
      "\u001b[1m\u001b[30m[Deoxys Examples INFO] \u001b[0mVisualizing IK results ... (Ln 71)\n",
      "increased joint sequence from 101 to 631\n"
     ]
    },
    {
     "name": "stderr",
     "output_type": "stream",
     "text": [
      "\n"
     ]
    },
    {
     "name": "stdout",
     "output_type": "stream",
     "text": [
      "\u001b[1m\u001b[30m[Deoxys Examples INFO] \u001b[0mStarting IK of moving delta position ... (Ln 77)\n",
      "Current eef (pos):  [0.5946152  0.00793355 0.41496671]\n",
      "Predicted goal eef (pos):  [0.7446152  0.00793355 0.41496671]\n"
     ]
    },
    {
     "name": "stderr",
     "output_type": "stream",
     "text": [
      "100%|██████████| 100/100 [00:00<00:00, 1281.18it/s]"
     ]
    },
    {
     "name": "stdout",
     "output_type": "stream",
     "text": [
      "\u001b[1m\u001b[30m[Deoxys Examples INFO] \u001b[0mVisualizing IK results ... (Ln 82)\n",
      "increased joint sequence from 101 to 253\n"
     ]
    },
    {
     "name": "stderr",
     "output_type": "stream",
     "text": [
      "\n"
     ]
    },
    {
     "name": "stdout",
     "output_type": "stream",
     "text": [
      "WARNING: Nan, Inf or huge value in QACC at DOF 1. The simulation is unstable. Time = 1.7140.\n",
      "\n"
     ]
    }
   ],
   "source": [
    "import argparse\n",
    "import os\n",
    "import time\n",
    "import sys\n",
    "import numpy as np\n",
    "sys.path.append(\"/home/franka_deoxys/deoxys_control/deoxys\")\n",
    "from deoxys import config_root\n",
    "from deoxys.franka_interface import FrankaInterface\n",
    "from deoxys.utils import YamlConfig\n",
    "from deoxys.utils.config_utils import robot_config_parse_args\n",
    "from deoxys.utils.log_utils import get_deoxys_example_logger\n",
    "from deoxys.utils.ik_utils import IKWrapper\n",
    "\n",
    "\n",
    "logger = get_deoxys_example_logger()\n",
    "\n",
    "def execute_ik_result(robot_interface, controller_type, controller_cfg, joint_traj):\n",
    "    valid_input = False\n",
    "    while not valid_input:\n",
    "        try:\n",
    "            execute = input(f\"Excute or not? (enter 0 - No or 1 - Yes)\")\n",
    "            execute = bool(int(execute))\n",
    "            valid_input = True\n",
    "        except ValueError:\n",
    "            print(\"Please input 1 or 0!\")\n",
    "            continue\n",
    "\n",
    "    if execute:\n",
    "        for joint in joint_traj:\n",
    "            # This example assumes the gripper is open\n",
    "            action = joint.tolist() + [-1.0]\n",
    "            robot_interface.control(\n",
    "                controller_type=controller_type,\n",
    "                action=action,\n",
    "                controller_cfg=controller_cfg,\n",
    "            )\n",
    "    robot_interface.close()\n",
    "    return bool(execute)\n",
    "\n",
    "def parse_args():\n",
    "    parser = argparse.ArgumentParser()\n",
    "    parser.add_argument(\"--motion-file\", type=str)\n",
    "    robot_config_parse_args(parser)\n",
    "    return parser.parse_args()\n",
    "\n",
    "def main():\n",
    "\n",
    "    args = parse_args()\n",
    "\n",
    "    # Franka Interface\n",
    "    robot_interface = FrankaInterface(os.path.join(config_root, args.interface_cfg))\n",
    "\n",
    "    controller_cfg = YamlConfig(os.path.join(config_root, \"joint-impedance-controller.yml\")).as_easydict()\n",
    "    controller_type = \"JOINT_IMPEDANCE\"\n",
    "\n",
    "    while robot_interface.state_buffer_size == 0:\n",
    "        logger.warning(\"Robot state not received\")\n",
    "        time.sleep(0.5)\n",
    "\n",
    "    last_q = np.array(robot_interface.last_q)\n",
    "\n",
    "    last_eef_pos, last_eef_mat = robot_interface.last_eef_rot_and_pos\n",
    "\n",
    "    ik_wrapper = IKWrapper()\n",
    "\n",
    "    logger.info(\"Starting IK of goint to absolute position ...\")\n",
    "    target_world_position = np.array([0.4, 0.2, 0.05])\n",
    "    # inverse kinematics will compute the trajectory based on the current joint configuration\n",
    "    joint_traj, debug_info = ik_wrapper.ik_trajectory_to_target_position(target_world_position, last_q.tolist(), num_points=100)\n",
    "\n",
    "    logger.info(\"Visualizing IK results ...\")\n",
    "    joint_traj = ik_wrapper.interpolate_dense_traj(joint_traj)\n",
    "    ik_wrapper.simulate_joint_sequence(joint_traj)\n",
    "\n",
    "    execute_ik_result(robot_interface, controller_type, controller_cfg, joint_traj)\n",
    "\n",
    "    logger.info(\"Starting IK of moving delta position ...\")\n",
    "    delta_position = np.array([0.15, 0., 0.0])\n",
    "    # inverse kinematics will compute the trajectory based on the current joint configuration\n",
    "    joint_traj, debug_info = ik_wrapper.ik_trajectory_delta_position(delta_position, last_q.tolist(), num_points=100)\n",
    "\n",
    "    logger.info(\"Visualizing IK results ...\")\n",
    "    joint_traj = ik_wrapper.interpolate_dense_traj(joint_traj)\n",
    "    ik_wrapper.simulate_joint_sequence(joint_traj)\n",
    "\n",
    "    execute_ik_result(robot_interface, controller_type, controller_cfg, joint_traj)\n",
    "    \n",
    "    \n",
    "if __name__ == \"__main__\":\n",
    "    main()"
   ]
  },
  {
   "cell_type": "code",
   "execution_count": null,
   "metadata": {},
   "outputs": [],
   "source": [
    "safe_set_file=\"Safe_diffusion_policy/safe_set_6d_dummy.npz\"\n",
    "safe_set, hull_equations, _ = load_safe_set(safe_set_file)"
   ]
  },
  {
   "cell_type": "markdown",
   "metadata": {},
   "source": [
    "### Now run inference in loop"
   ]
  },
  {
   "cell_type": "code",
   "execution_count": null,
   "metadata": {},
   "outputs": [
    {
     "name": "stdout",
     "output_type": "stream",
     "text": [
      "JOINT_POSITION\n"
     ]
    }
   ],
   "source": []
  },
  {
   "cell_type": "code",
   "execution_count": null,
   "metadata": {},
   "outputs": [
    {
     "name": "stdout",
     "output_type": "stream",
     "text": [
      "JOINT_POSITION\n",
      "from controller:  [0. 0. 0.] [0. 0. 0.]\n",
      "Sending to robot: action 0 => [ 0.389  0.     0.096  0.011 -0.009  0.004 -0.996]\n",
      "   => inside=True, distances=[-0.303 -0.076 -1.054 ... -0.129 -0.13  -0.126]\n",
      "Sending to robot: action 1 => [ 0.393 -0.001  0.085  0.015 -0.003  0.001 -1.   ]\n",
      "   => inside=True, distances=[-0.306 -0.075 -1.069 ... -0.141 -0.141 -0.138]\n",
      "Sending to robot: action 2 => [ 0.427  0.002  0.078  0.008  0.003 -0.003 -0.999]\n",
      "   => inside=True, distances=[-0.309 -0.072 -1.083 ... -0.154 -0.154 -0.151]\n",
      "Sending to robot: action 3 => [ 0.435  0.001  0.073  0.006  0.006 -0.004 -1.   ]\n",
      "   => inside=True, distances=[-0.315 -0.067 -1.104 ... -0.173 -0.173 -0.17 ]\n",
      "from controller:  [0. 0. 0.] [0. 0. 0.]\n",
      "Sending to robot: action 0 => [ 0.248 -0.003  0.113  0.008  0.034  0.006 -0.999]\n",
      "   => inside=True, distances=[-0.326 -0.057 -1.152 ... -0.219 -0.218 -0.216]\n",
      "Sending to robot: action 1 => [ 0.28  -0.     0.126  0.006  0.03   0.001 -1.   ]\n",
      "   => inside=True, distances=[-0.327 -0.056 -1.156 ... -0.224 -0.223 -0.221]\n",
      "Sending to robot: action 2 => [ 0.297  0.     0.126  0.006  0.031  0.003 -1.   ]\n",
      "   => inside=True, distances=[-0.331 -0.052 -1.169 ... -0.239 -0.238 -0.236]\n",
      "Sending to robot: action 3 => [ 0.321 -0.     0.136  0.004  0.03  -0.002 -1.   ]\n",
      "   => inside=True, distances=[-0.334 -0.049 -1.181 ... -0.253 -0.251 -0.25 ]\n",
      "from controller:  [0. 0. 0.] [0. 0. 0.]\n",
      "Sending to robot: action 0 => [ 0.439 -0.024  0.086  0.011  0.089  0.    -1.   ]\n",
      "   => inside=True, distances=[-0.343 -0.039 -1.211 ... -0.291 -0.289 -0.288]\n",
      "Sending to robot: action 1 => [ 0.462 -0.028  0.106  0.012  0.086 -0.001 -1.   ]\n",
      "   => inside=True, distances=[-0.345 -0.038 -1.216 ... -0.298 -0.295 -0.295]\n",
      "Sending to robot: action 2 => [ 0.475 -0.034  0.114  0.013  0.083 -0.002 -1.   ]\n",
      "   => inside=True, distances=[-0.35  -0.031 -1.233 ... -0.323 -0.32  -0.32 ]\n",
      "Sending to robot: action 3 => [ 0.483 -0.029  0.124  0.013  0.082 -0.003 -1.   ]\n",
      "   => inside=True, distances=[-0.354 -0.024 -1.249 ... -0.35  -0.347 -0.347]\n",
      "from controller:  [0. 0. 0.] [0. 0. 0.]\n",
      "Sending to robot: action 0 => [ 0.499 -0.068  0.128  0.027  0.119 -0.006 -1.   ]\n",
      "   => inside=True, distances=[-0.362 -0.012 -1.272 ... -0.398 -0.394 -0.396]\n",
      "Sending to robot: action 1 => [ 0.51  -0.073  0.145  0.025  0.107 -0.006 -1.   ]\n",
      "   => inside=True, distances=[-0.363 -0.011 -1.277 ... -0.407 -0.403 -0.405]\n",
      "Sending to robot: action 2 => [ 0.503 -0.071  0.149  0.027  0.098 -0.007 -1.   ]\n",
      "   => inside=True, distances=[-0.365 -0.006 -1.291 ... -0.436 -0.431 -0.434]\n",
      "Sending to robot: action 3 => [ 0.499 -0.076  0.178  0.031  0.088 -0.006 -1.   ]\n",
      "   => inside=True, distances=[-0.365 -0.003 -1.302 ... -0.462 -0.457 -0.46 ]\n",
      "from controller:  [0. 0. 0.] [0. 0. 0.]\n",
      "Sending to robot: action 0 => [ 0.452 -0.051  0.189  0.027  0.075 -0.007 -0.998]\n",
      "   => inside=True, distances=[-0.363  0.001 -1.322 ... -0.515 -0.509 -0.514]\n",
      "Sending to robot: action 1 => [ 0.445 -0.051  0.199  0.023  0.066 -0.005 -1.   ]\n",
      "   => inside=True, distances=[-0.362  0.001 -1.327 ... -0.527 -0.52  -0.525]\n",
      "Sending to robot: action 2 => [ 0.437 -0.032  0.198  0.019  0.061 -0.005 -1.   ]\n",
      "   => inside=True, distances=[-0.362  0.001 -1.339 ... -0.551 -0.544 -0.549]\n",
      "Sending to robot: action 3 => [ 0.43  -0.022  0.211  0.018  0.054 -0.003 -1.   ]\n",
      "   => inside=True, distances=[-0.361  0.    -1.348 ... -0.571 -0.563 -0.569]\n",
      "from controller:  [0. 0. 0.] [0. 0. 0.]\n",
      "Sending to robot: action 0 => [ 0.563 -0.001  0.075  0.009  0.024 -0.017 -1.   ]\n",
      "   => inside=True, distances=[-0.36  -0.005 -1.369 ... -0.617 -0.608 -0.615]\n",
      "Sending to robot: action 1 => [ 0.561  0.     0.088  0.007  0.013 -0.017 -1.   ]\n",
      "   => inside=True, distances=[-0.359 -0.007 -1.38  ... -0.635 -0.626 -0.633]\n",
      "Sending to robot: action 2 => [ 0.553  0.005  0.059  0.006  0.007 -0.016 -1.   ]\n",
      "   => inside=True, distances=[-0.358 -0.011 -1.398 ... -0.666 -0.657 -0.665]\n",
      "Sending to robot: action 3 => [ 0.555  0.008  0.077  0.005  0.004 -0.013 -1.   ]\n",
      "   => inside=True, distances=[-0.357 -0.016 -1.414 ... -0.694 -0.684 -0.693]\n",
      "from controller:  [0. 0. 0.] [0. 0. 0.]\n",
      "Sending to robot: action 0 => [ 0.537  0.006  0.035  0.016 -0.008 -0.014 -1.   ]\n",
      "   => inside=True, distances=[-0.354 -0.028 -1.446 ... -0.755 -0.744 -0.754]\n",
      "Sending to robot: action 1 => [ 0.547  0.011  0.062  0.012 -0.024 -0.011 -1.   ]\n",
      "   => inside=True, distances=[-0.353 -0.031 -1.454 ... -0.77  -0.758 -0.769]\n",
      "Sending to robot: action 2 => [ 0.484  0.011  0.024  0.018 -0.046 -0.011 -1.   ]\n",
      "   => inside=True, distances=[-0.349 -0.039 -1.474 ... -0.807 -0.795 -0.807]\n",
      "Sending to robot: action 3 => [ 0.504  0.009  0.039  0.017 -0.059 -0.009 -1.   ]\n",
      "   => inside=True, distances=[-0.345 -0.046 -1.491 ... -0.84  -0.827 -0.84 ]\n",
      "from controller:  [0. 0. 0.] [0. 0. 0.]\n",
      "Sending to robot: action 0 => [ 0.56   0.008  0.003  0.018 -0.041 -0.012 -1.   ]\n",
      "   => inside=True, distances=[-0.333 -0.067 -1.533 ... -0.924 -0.909 -0.925]\n",
      "Sending to robot: action 1 => [ 0.579  0.009  0.01   0.014 -0.057 -0.013 -1.   ]\n",
      "   => inside=True, distances=[-0.031 -0.076 -0.047 ... -0.263 -0.258 -0.261]\n",
      "Sending to robot: action 2 => [ 0.548  0.009  0.007  0.014 -0.07  -0.013 -1.   ]\n",
      "   => inside=True, distances=[-0.038 -0.068 -0.036 ... -0.239 -0.234 -0.237]\n",
      "Sending to robot: action 3 => [ 0.545  0.009  0.     0.015 -0.079 -0.011 -0.999]\n",
      "   => inside=True, distances=[-0.046 -0.06  -0.024 ... -0.212 -0.208 -0.21 ]\n",
      "from controller:  [0. 0. 0.] [0. 0. 0.]\n",
      "Sending to robot: action 0 => [ 0.582  0.005 -0.004  0.015 -0.082 -0.007 -1.   ]\n",
      "   => inside=True, distances=[-0.065 -0.045 -0.008 ... -0.159 -0.156 -0.157]\n",
      "Sending to robot: action 1 => [ 0.578  0.004  0.014  0.011 -0.092 -0.012 -1.   ]\n",
      "   => inside=True, distances=[-0.067 -0.043 -0.006 ... -0.15  -0.148 -0.148]\n",
      "Sending to robot: action 2 => [ 0.557  0.004  0.     0.012 -0.096 -0.009 -1.   ]\n",
      "   => inside=True, distances=[-0.072 -0.04  -0.003 ... -0.135 -0.133 -0.133]\n",
      "Sending to robot: action 3 => [ 0.544  0.003  0.014  0.015 -0.093 -0.008 -1.   ]\n",
      "   => inside=True, distances=[-0.08  -0.037 -0.001 ... -0.112 -0.11  -0.11 ]\n",
      "from controller:  [0. 0. 0.] [0. 0. 0.]\n",
      "Sending to robot: action 0 => [ 0.532  0.014 -0.004  0.009 -0.082 -0.005 -1.   ]\n",
      "   => inside=True, distances=[-0.094 -0.034 -0.008 ... -0.07  -0.069 -0.068]\n",
      "Sending to robot: action 1 => [ 0.517  0.013 -0.008  0.015 -0.073 -0.009 -1.   ]\n",
      "   => inside=True, distances=[-0.095 -0.035 -0.012 ... -0.063 -0.063 -0.061]\n",
      "Sending to robot: action 2 => [ 0.533  0.013 -0.009  0.012 -0.059 -0.008 -1.   ]\n",
      "   => inside=True, distances=[-0.097 -0.04  -0.02  ... -0.053 -0.053 -0.051]\n",
      "Sending to robot: action 3 => [ 0.535  0.017 -0.015  0.014 -0.054 -0.008 -1.   ]\n",
      "   => inside=True, distances=[-0.099 -0.043 -0.026 ... -0.046 -0.046 -0.044]\n",
      "from controller:  [0. 0. 0.] [0. 0. 0.]\n",
      "Sending to robot: action 0 => [ 0.605  0.077 -0.126  0.011 -0.054  0.002 -1.   ]\n",
      "   => inside=False, distances=[-0.106 -0.056 -0.048 ... -0.029 -0.03  -0.028]\n",
      "Sending to robot: action 1 => [ 0.621  0.092 -0.115  0.015 -0.038 -0.001 -1.   ]\n",
      "   => inside=False, distances=[-0.106 -0.059 -0.054 ... -0.027 -0.027 -0.025]\n",
      "Sending to robot: action 2 => [ 0.606  0.087 -0.106  0.015 -0.03  -0.001 -1.   ]\n",
      "   => inside=True, distances=[-0.106 -0.069 -0.07  ... -0.021 -0.022 -0.02 ]\n",
      "Sending to robot: action 3 => [ 0.593  0.087 -0.092  0.016 -0.027 -0.001 -1.   ]\n",
      "   => inside=True, distances=[-0.107 -0.079 -0.087 ... -0.016 -0.017 -0.015]\n",
      "from controller:  [0. 0. 0.] [0. 0. 0.]\n",
      "Sending to robot: action 0 => [ 0.471  0.128 -0.057  0.012 -0.024  0.001 -1.   ]\n",
      "   => inside=True, distances=[-0.108 -0.101 -0.124 ... -0.009 -0.01  -0.008]\n",
      "Sending to robot: action 1 => [ 0.475  0.114 -0.061  0.015 -0.018  0.003 -1.   ]\n",
      "   => inside=True, distances=[-0.108 -0.105 -0.131 ... -0.008 -0.009 -0.007]\n",
      "Sending to robot: action 2 => [ 0.478  0.12  -0.068  0.011 -0.009  0.002 -1.   ]\n",
      "   => inside=True, distances=[-0.108 -0.112 -0.144 ... -0.006 -0.008 -0.006]\n",
      "Sending to robot: action 3 => [ 0.473  0.109 -0.078  0.015 -0.007 -0.    -1.   ]\n",
      "   => inside=True, distances=[-0.108 -0.123 -0.161 ... -0.005 -0.006 -0.004]\n",
      "from controller:  [0. 0. 0.] [0. 0. 0.]\n",
      "Sending to robot: action 0 => [ 0.402  0.104 -0.031  0.01  -0.013  0.001 -0.999]\n",
      "   => inside=True, distances=[-0.108 -0.142 -0.195 ... -0.003 -0.004 -0.002]\n",
      "Sending to robot: action 1 => [ 0.411  0.094 -0.027  0.008 -0.006  0.002 -0.999]\n",
      "   => inside=True, distances=[-0.108 -0.147 -0.204 ... -0.002 -0.004 -0.002]\n",
      "Sending to robot: action 2 => [ 0.401  0.067 -0.042  0.007 -0.003  0.004 -0.997]\n",
      "   => inside=True, distances=[-0.108 -0.155 -0.219 ... -0.002 -0.003 -0.002]\n",
      "Sending to robot: action 3 => [ 0.404  0.05  -0.045  0.009  0.     0.002 -0.995]\n",
      "   => inside=True, distances=[-0.108 -0.163 -0.233 ... -0.002 -0.003 -0.001]\n",
      "from controller:  [0. 0. 0.] [0. 0. 0.]\n",
      "Sending to robot: action 0 => [ 0.333  0.014 -0.027  0.007 -0.008 -0.001 -1.   ]\n",
      "   => inside=True, distances=[-0.108 -0.181 -0.268 ... -0.002 -0.003 -0.001]\n",
      "Sending to robot: action 1 => [ 0.319  0.011 -0.036  0.006 -0.009 -0.    -0.998]\n",
      "   => inside=True, distances=[-0.108 -0.184 -0.273 ... -0.002 -0.003 -0.002]\n",
      "Sending to robot: action 2 => [ 0.329  0.005 -0.036  0.006 -0.003 -0.    -0.999]\n",
      "   => inside=True, distances=[-0.109 -0.189 -0.285 ... -0.002 -0.003 -0.002]\n",
      "Sending to robot: action 3 => [ 0.306  0.007 -0.039  0.007 -0.004 -0.    -1.   ]\n",
      "   => inside=True, distances=[-0.109 -0.194 -0.295 ... -0.002 -0.004 -0.002]\n",
      "from controller:  [0. 0. 0.] [0. 0. 0.]\n",
      "Sending to robot: action 0 => [ 0.272  0.005  0.002  0.006 -0.017 -0.001 -1.   ]\n",
      "   => inside=True, distances=[-0.109 -0.206 -0.32  ... -0.003 -0.005 -0.003]\n",
      "Sending to robot: action 1 => [ 0.286  0.003  0.002  0.006 -0.014 -0.001 -1.   ]\n",
      "   => inside=True, distances=[-0.109 -0.209 -0.326 ... -0.003 -0.005 -0.003]\n",
      "Sending to robot: action 2 => [ 0.281 -0.003 -0.011  0.007 -0.013 -0.001 -1.   ]\n",
      "   => inside=True, distances=[-0.109 -0.212 -0.334 ... -0.004 -0.005 -0.004]\n",
      "Sending to robot: action 3 => [ 0.278 -0.004 -0.011  0.009 -0.011 -0.002 -1.   ]\n",
      "   => inside=True, distances=[-0.11  -0.216 -0.342 ... -0.004 -0.006 -0.004]\n",
      "from controller:  [0. 0. 0.] [0. 0. 0.]\n",
      "Sending to robot: action 0 => [ 0.342  0.     0.006  0.017 -0.009 -0.004 -1.   ]\n",
      "   => inside=True, distances=[-0.11  -0.225 -0.364 ... -0.006 -0.007 -0.006]\n",
      "Sending to robot: action 1 => [ 0.333 -0.003 -0.001  0.02  -0.003 -0.003 -0.999]\n",
      "   => inside=True, distances=[-0.11  -0.227 -0.368 ... -0.006 -0.007 -0.006]\n",
      "Sending to robot: action 2 => [ 0.331 -0.002  0.001  0.02   0.002 -0.002 -1.   ]\n",
      "   => inside=True, distances=[-0.11  -0.232 -0.378 ... -0.007 -0.008 -0.007]\n",
      "Sending to robot: action 3 => [ 0.3   -0.005 -0.014  0.023  0.005 -0.003 -1.   ]\n",
      "   => inside=True, distances=[-0.111 -0.236 -0.389 ... -0.008 -0.009 -0.008]\n",
      "from controller:  [0. 0. 0.] [0. 0. 0.]\n",
      "Sending to robot: action 0 => [ 0.31  -0.003 -0.01   0.027 -0.    -0.003 -1.   ]\n",
      "   => inside=False, distances=[-0.111 -0.245 -0.411 ... -0.01  -0.011 -0.01 ]\n",
      "Sending to robot: action 1 => [ 0.281  0.002  0.017  0.017  0.001 -0.001 -0.994]\n",
      "   => inside=False, distances=[-0.111 -0.247 -0.416 ... -0.01  -0.011 -0.01 ]\n",
      "Sending to robot: action 2 => [ 0.202 -0.002  0.015  0.016 -0.005 -0.001 -1.   ]\n",
      "   => inside=False, distances=[-0.111 -0.251 -0.425 ... -0.011 -0.012 -0.011]\n",
      "Sending to robot: action 3 => [ 0.204 -0.006 -0.003  0.019  0.001  0.006  0.997]\n",
      "   => inside=False, distances=[-0.112 -0.252 -0.43  ... -0.011 -0.013 -0.012]\n",
      "from controller:  [0. 0. 0.] [0. 0. 0.]\n",
      "Sending to robot: action 0 => [ 0.199 -0.001  0.017  0.016 -0.001 -0.003 -0.988]\n",
      "   => inside=False, distances=[-0.112 -0.256 -0.441 ... -0.012 -0.014 -0.013]\n",
      "Sending to robot: action 1 => [ 0.175 -0.004  0.004  0.019  0.001  0.003  0.997]\n",
      "   => inside=False, distances=[-0.112 -0.257 -0.442 ... -0.013 -0.014 -0.013]\n",
      "Sending to robot: action 2 => [ 0.157 -0.01   0.     0.026  0.003  0.007  1.   ]\n",
      "   => inside=False, distances=[-0.112 -0.258 -0.444 ... -0.013 -0.014 -0.013]\n",
      "Sending to robot: action 3 => [ 0.124 -0.001  0.006  0.001  0.009  0.001  0.999]\n",
      "   => inside=False, distances=[-0.112 -0.258 -0.445 ... -0.013 -0.014 -0.013]\n",
      "from controller:  [0. 0. 0.] [0. 0. 0.]\n",
      "Sending to robot: action 0 => [ 0.078 -0.002  0.009 -0.001  0.005  0.003  1.   ]\n",
      "   => inside=False, distances=[-0.112 -0.258 -0.445 ... -0.013 -0.014 -0.013]\n",
      "Sending to robot: action 1 => [ 0.027  0.001  0.001 -0.006  0.003 -0.001  0.999]\n",
      "   => inside=False, distances=[-0.112 -0.258 -0.445 ... -0.013 -0.014 -0.013]\n",
      "Sending to robot: action 2 => [ 0.011  0.001  0.001 -0.006  0.005  0.001  0.998]\n",
      "   => inside=False, distances=[-0.112 -0.258 -0.445 ... -0.013 -0.014 -0.013]\n",
      "Sending to robot: action 3 => [ 0.003  0.001  0.003 -0.004  0.002 -0.003  0.998]\n",
      "   => inside=False, distances=[-0.112 -0.258 -0.445 ... -0.013 -0.014 -0.013]\n",
      "from controller:  [0. 0. 0.] [0. 0. 0.]\n",
      "Sending to robot: action 0 => [ 0.037  0.003 -0.    -0.007  0.003  0.001  0.999]\n",
      "   => inside=False, distances=[-0.112 -0.258 -0.445 ... -0.013 -0.014 -0.013]\n",
      "Sending to robot: action 1 => [ 0.027  0.005  0.003 -0.011  0.006 -0.001  0.999]\n",
      "   => inside=False, distances=[-0.112 -0.258 -0.444 ... -0.013 -0.014 -0.013]\n",
      "Sending to robot: action 2 => [ 0.006  0.005  0.002 -0.009  0.005 -0.002  0.997]\n",
      "   => inside=False, distances=[-0.112 -0.258 -0.444 ... -0.013 -0.014 -0.013]\n",
      "Sending to robot: action 3 => [-0.01   0.007  0.001 -0.007  0.005 -0.001  0.997]\n",
      "   => inside=False, distances=[-0.112 -0.258 -0.444 ... -0.013 -0.014 -0.013]\n",
      "from controller:  [0. 0. 0.] [0. 0. 0.]\n",
      "Sending to robot: action 0 => [-0.015  0.034 -0.002 -0.026 -0.008  0.001  1.   ]\n",
      "   => inside=False, distances=[-0.112 -0.258 -0.445 ... -0.013 -0.014 -0.013]\n",
      "Sending to robot: action 1 => [-0.007  0.035  0.001 -0.031 -0.002 -0.001  1.   ]\n",
      "   => inside=False, distances=[-0.112 -0.258 -0.445 ... -0.013 -0.014 -0.013]\n",
      "Sending to robot: action 2 => [-0.015  0.036 -0.001 -0.03  -0.003 -0.002  1.   ]\n",
      "   => inside=False, distances=[-0.111 -0.258 -0.444 ... -0.013 -0.014 -0.013]\n",
      "Sending to robot: action 3 => [-0.008  0.032  0.005 -0.027 -0.004 -0.001  1.   ]\n",
      "   => inside=False, distances=[-0.109 -0.258 -0.444 ... -0.012 -0.014 -0.012]\n",
      "from controller:  [0. 0. 0.] [0. 0. 0.]\n",
      "Sending to robot: action 0 => [ 0.011  0.002  0.106 -0.014  0.002 -0.001 -1.   ]\n",
      "   => inside=False, distances=[-0.108 -0.258 -0.444 ... -0.012 -0.013 -0.012]\n",
      "Sending to robot: action 1 => [-0.001  0.002  0.103 -0.011 -0.003 -0.003 -1.   ]\n",
      "   => inside=False, distances=[-0.108 -0.258 -0.444 ... -0.012 -0.013 -0.012]\n",
      "Sending to robot: action 2 => [ 0.004 -0.004  0.06  -0.006 -0.002 -0.    -1.   ]\n",
      "   => inside=False, distances=[-0.108 -0.258 -0.444 ... -0.012 -0.013 -0.012]\n",
      "Sending to robot: action 3 => [ 0.    -0.006  0.007 -0.006 -0.001 -0.001 -1.   ]\n",
      "   => inside=False, distances=[-0.108 -0.258 -0.444 ... -0.012 -0.013 -0.012]\n",
      "from controller:  [0. 0. 0.] [0. 0. 0.]\n",
      "Sending to robot: action 0 => [ 0.001  0.003  0.106 -0.011 -0.004  0.001 -1.   ]\n",
      "   => inside=False, distances=[-0.108 -0.258 -0.444 ... -0.012 -0.013 -0.012]\n",
      "Sending to robot: action 1 => [ 0.001 -0.002  0.069 -0.009 -0.004 -0.002 -1.   ]\n",
      "   => inside=False, distances=[-0.108 -0.258 -0.444 ... -0.012 -0.013 -0.012]\n",
      "Sending to robot: action 2 => [ 0.003 -0.01   0.011 -0.006 -0.003 -0.001 -1.   ]\n",
      "   => inside=False, distances=[-0.108 -0.258 -0.444 ... -0.012 -0.013 -0.012]\n",
      "Sending to robot: action 3 => [ 0.001 -0.008  0.007 -0.01  -0.003 -0.001 -1.   ]\n",
      "   => inside=False, distances=[-0.108 -0.258 -0.444 ... -0.012 -0.013 -0.012]\n",
      "from controller:  [0. 0. 0.] [0. 0. 0.]\n",
      "Sending to robot: action 0 => [ 0.074  0.002  0.009 -0.002  0.004  0.003  0.989]\n",
      "   => inside=False, distances=[-0.108 -0.258 -0.444 ... -0.012 -0.013 -0.012]\n",
      "Sending to robot: action 1 => [ 0.059 -0.001  0.01   0.003  0.005  0.     0.995]\n",
      "   => inside=False, distances=[-0.108 -0.258 -0.444 ... -0.012 -0.013 -0.012]\n",
      "Sending to robot: action 2 => [ 0.033  0.007  0.009 -0.009  0.003 -0.001  0.998]\n",
      "   => inside=False, distances=[-0.108 -0.258 -0.444 ... -0.012 -0.013 -0.012]\n",
      "Sending to robot: action 3 => [ 0.01   0.002  0.007 -0.012  0.007 -0.003  0.997]\n",
      "   => inside=False, distances=[-0.108 -0.258 -0.444 ... -0.012 -0.013 -0.012]\n",
      "from controller:  [0. 0. 0.] [0. 0. 0.]\n",
      "Sending to robot: action 0 => [ 0.027 -0.001 -0.    -0.002  0.002  0.002  1.   ]\n",
      "   => inside=False, distances=[-0.108 -0.258 -0.444 ... -0.012 -0.013 -0.012]\n",
      "Sending to robot: action 1 => [ 0.018  0.003  0.001 -0.008  0.002  0.001  1.   ]\n",
      "   => inside=False, distances=[-0.108 -0.258 -0.444 ... -0.012 -0.013 -0.012]\n",
      "Sending to robot: action 2 => [ 0.02   0.006  0.005 -0.01   0.006 -0.001  1.   ]\n",
      "   => inside=False, distances=[-0.108 -0.258 -0.444 ... -0.012 -0.013 -0.012]\n",
      "Sending to robot: action 3 => [-0.009  0.012  0.002 -0.008  0.004 -0.001  1.   ]\n",
      "   => inside=False, distances=[-0.108 -0.258 -0.444 ... -0.012 -0.013 -0.012]\n",
      "from controller:  [0. 0. 0.] [0. 0. 0.]\n",
      "Sending to robot: action 0 => [-0.006  0.042 -0.002 -0.028 -0.002  0.002  1.   ]\n",
      "   => inside=False, distances=[-0.108 -0.258 -0.444 ... -0.012 -0.013 -0.012]\n",
      "Sending to robot: action 1 => [-0.014  0.043  0.    -0.036 -0.003 -0.002  1.   ]\n",
      "   => inside=False, distances=[-0.108 -0.258 -0.444 ... -0.012 -0.013 -0.012]\n",
      "Sending to robot: action 2 => [-0.013  0.062  0.007 -0.041 -0.005 -0.003  1.   ]\n",
      "   => inside=False, distances=[-0.107 -0.258 -0.444 ... -0.012 -0.013 -0.012]\n",
      "Sending to robot: action 3 => [-0.015  0.054  0.007 -0.04  -0.007 -0.003  1.   ]\n",
      "   => inside=False, distances=[-0.106 -0.258 -0.444 ... -0.011 -0.013 -0.012]\n",
      "from controller:  [0. 0. 0.] [0. 0. 0.]\n"
     ]
    },
    {
     "ename": "KeyboardInterrupt",
     "evalue": "",
     "output_type": "error",
     "traceback": [
      "\u001b[0;31m---------------------------------------------------------------------------\u001b[0m\n",
      "\u001b[0;31mKeyboardInterrupt\u001b[0m                         Traceback (most recent call last)\n",
      "Cell \u001b[0;32mIn[42], line 27\u001b[0m\n",
      "\u001b[1;32m     23\u001b[0m obs \u001b[38;5;241m=\u001b[39m framestacker\u001b[38;5;241m.\u001b[39madd_new_obs(obs_dict)\n",
      "\u001b[1;32m     25\u001b[0m \u001b[38;5;66;03m# 3) Policy predicts an action (whatever format: delta pose, EEF pose, etc.)\u001b[39;00m\n",
      "\u001b[1;32m     26\u001b[0m \u001b[38;5;66;03m#    We'll send it to the robot\u001b[39;00m\n",
      "\u001b[0;32m---> 27\u001b[0m action_pred \u001b[38;5;241m=\u001b[39m \u001b[43mpredict_action\u001b[49m\u001b[43m(\u001b[49m\u001b[43mobs\u001b[49m\u001b[43m)\u001b[49m  \u001b[38;5;66;03m# shape is up to your policy\u001b[39;00m\n",
      "\u001b[1;32m     28\u001b[0m \u001b[38;5;66;03m# print(\"Raw policy prediction:\", action_pred)\u001b[39;00m\n",
      "\u001b[1;32m     29\u001b[0m \n",
      "\u001b[1;32m     30\u001b[0m \n",
      "\u001b[1;32m     31\u001b[0m \n",
      "\u001b[1;32m     32\u001b[0m \u001b[38;5;66;03m# 4) Let's say we control the robot with the first 4 predicted actions\u001b[39;00m\n",
      "\u001b[1;32m     33\u001b[0m \u001b[38;5;28;01mfor\u001b[39;00m i, single_cmd \u001b[38;5;129;01min\u001b[39;00m \u001b[38;5;28menumerate\u001b[39m(action_pred[:\u001b[38;5;241m4\u001b[39m]):\n",
      "\n",
      "Cell \u001b[0;32mIn[29], line 15\u001b[0m, in \u001b[0;36mpredict_action\u001b[0;34m(obs)\u001b[0m\n",
      "\u001b[1;32m     11\u001b[0m     obs_dict[key]\u001b[38;5;241m=\u001b[39mobs_dict[key]\u001b[38;5;241m.\u001b[39munsqueeze(\u001b[38;5;241m0\u001b[39m) \n",
      "\u001b[1;32m     14\u001b[0m \u001b[38;5;28;01mwith\u001b[39;00m torch\u001b[38;5;241m.\u001b[39mno_grad():\n",
      "\u001b[0;32m---> 15\u001b[0m     action_dict \u001b[38;5;241m=\u001b[39m \u001b[43mpolicy\u001b[49m\u001b[38;5;241;43m.\u001b[39;49m\u001b[43mpredict_action\u001b[49m\u001b[43m(\u001b[49m\u001b[43mobs_dict\u001b[49m\u001b[43m)\u001b[49m\n",
      "\u001b[1;32m     17\u001b[0m \u001b[38;5;66;03m# device_transfer\u001b[39;00m\n",
      "\u001b[1;32m     18\u001b[0m np_action_dict \u001b[38;5;241m=\u001b[39m dict_apply(action_dict, \u001b[38;5;28;01mlambda\u001b[39;00m x: x\u001b[38;5;241m.\u001b[39mdetach()\u001b[38;5;241m.\u001b[39mto(\u001b[38;5;124m'\u001b[39m\u001b[38;5;124mcpu\u001b[39m\u001b[38;5;124m'\u001b[39m)\u001b[38;5;241m.\u001b[39mnumpy())\n",
      "\n",
      "File \u001b[0;32m~/diffusion_policy/diffusion_policy/policy/diffusion_unet_hybrid_image_policy.py:258\u001b[0m, in \u001b[0;36mDiffusionUnetHybridImagePolicy.predict_action\u001b[0;34m(self, obs_dict)\u001b[0m\n",
      "\u001b[1;32m    255\u001b[0m     cond_mask[:,:To,Da:] \u001b[38;5;241m=\u001b[39m \u001b[38;5;28;01mTrue\u001b[39;00m\n",
      "\u001b[1;32m    257\u001b[0m \u001b[38;5;66;03m# run sampling\u001b[39;00m\n",
      "\u001b[0;32m--> 258\u001b[0m nsample \u001b[38;5;241m=\u001b[39m \u001b[38;5;28;43mself\u001b[39;49m\u001b[38;5;241;43m.\u001b[39;49m\u001b[43mconditional_sample\u001b[49m\u001b[43m(\u001b[49m\n",
      "\u001b[1;32m    259\u001b[0m \u001b[43m    \u001b[49m\u001b[43mcond_data\u001b[49m\u001b[43m,\u001b[49m\u001b[43m \u001b[49m\n",
      "\u001b[1;32m    260\u001b[0m \u001b[43m    \u001b[49m\u001b[43mcond_mask\u001b[49m\u001b[43m,\u001b[49m\n",
      "\u001b[1;32m    261\u001b[0m \u001b[43m    \u001b[49m\u001b[43mlocal_cond\u001b[49m\u001b[38;5;241;43m=\u001b[39;49m\u001b[43mlocal_cond\u001b[49m\u001b[43m,\u001b[49m\n",
      "\u001b[1;32m    262\u001b[0m \u001b[43m    \u001b[49m\u001b[43mglobal_cond\u001b[49m\u001b[38;5;241;43m=\u001b[39;49m\u001b[43mglobal_cond\u001b[49m\u001b[43m,\u001b[49m\n",
      "\u001b[1;32m    263\u001b[0m \u001b[43m    \u001b[49m\u001b[38;5;241;43m*\u001b[39;49m\u001b[38;5;241;43m*\u001b[39;49m\u001b[38;5;28;43mself\u001b[39;49m\u001b[38;5;241;43m.\u001b[39;49m\u001b[43mkwargs\u001b[49m\u001b[43m)\u001b[49m\n",
      "\u001b[1;32m    265\u001b[0m \u001b[38;5;66;03m# unnormalize prediction\u001b[39;00m\n",
      "\u001b[1;32m    266\u001b[0m naction_pred \u001b[38;5;241m=\u001b[39m nsample[\u001b[38;5;241m.\u001b[39m\u001b[38;5;241m.\u001b[39m\u001b[38;5;241m.\u001b[39m,:Da]\n",
      "\n",
      "File \u001b[0;32m~/diffusion_policy/diffusion_policy/policy/diffusion_unet_hybrid_image_policy.py:199\u001b[0m, in \u001b[0;36mDiffusionUnetHybridImagePolicy.conditional_sample\u001b[0;34m(self, condition_data, condition_mask, local_cond, global_cond, generator, **kwargs)\u001b[0m\n",
      "\u001b[1;32m    196\u001b[0m trajectory[condition_mask] \u001b[38;5;241m=\u001b[39m condition_data[condition_mask]\n",
      "\u001b[1;32m    198\u001b[0m \u001b[38;5;66;03m# 2. predict model output\u001b[39;00m\n",
      "\u001b[0;32m--> 199\u001b[0m model_output \u001b[38;5;241m=\u001b[39m \u001b[43mmodel\u001b[49m\u001b[43m(\u001b[49m\u001b[43mtrajectory\u001b[49m\u001b[43m,\u001b[49m\u001b[43m \u001b[49m\u001b[43mt\u001b[49m\u001b[43m,\u001b[49m\u001b[43m \u001b[49m\n",
      "\u001b[1;32m    200\u001b[0m \u001b[43m    \u001b[49m\u001b[43mlocal_cond\u001b[49m\u001b[38;5;241;43m=\u001b[39;49m\u001b[43mlocal_cond\u001b[49m\u001b[43m,\u001b[49m\u001b[43m \u001b[49m\u001b[43mglobal_cond\u001b[49m\u001b[38;5;241;43m=\u001b[39;49m\u001b[43mglobal_cond\u001b[49m\u001b[43m)\u001b[49m\n",
      "\u001b[1;32m    202\u001b[0m \u001b[38;5;66;03m# 3. compute previous image: x_t -> x_t-1\u001b[39;00m\n",
      "\u001b[1;32m    203\u001b[0m trajectory \u001b[38;5;241m=\u001b[39m scheduler\u001b[38;5;241m.\u001b[39mstep(\n",
      "\u001b[1;32m    204\u001b[0m     model_output, t, trajectory, \n",
      "\u001b[1;32m    205\u001b[0m     generator\u001b[38;5;241m=\u001b[39mgenerator,\n",
      "\u001b[1;32m    206\u001b[0m     \u001b[38;5;241m*\u001b[39m\u001b[38;5;241m*\u001b[39mkwargs\n",
      "\u001b[1;32m    207\u001b[0m     )\u001b[38;5;241m.\u001b[39mprev_sample\n",
      "\n",
      "File \u001b[0;32m~/miniconda3/envs/robodiff_2/lib/python3.9/site-packages/torch/nn/modules/module.py:1739\u001b[0m, in \u001b[0;36mModule._wrapped_call_impl\u001b[0;34m(self, *args, **kwargs)\u001b[0m\n",
      "\u001b[1;32m   1737\u001b[0m     \u001b[38;5;28;01mreturn\u001b[39;00m \u001b[38;5;28mself\u001b[39m\u001b[38;5;241m.\u001b[39m_compiled_call_impl(\u001b[38;5;241m*\u001b[39margs, \u001b[38;5;241m*\u001b[39m\u001b[38;5;241m*\u001b[39mkwargs)  \u001b[38;5;66;03m# type: ignore[misc]\u001b[39;00m\n",
      "\u001b[1;32m   1738\u001b[0m \u001b[38;5;28;01melse\u001b[39;00m:\n",
      "\u001b[0;32m-> 1739\u001b[0m     \u001b[38;5;28;01mreturn\u001b[39;00m \u001b[38;5;28;43mself\u001b[39;49m\u001b[38;5;241;43m.\u001b[39;49m\u001b[43m_call_impl\u001b[49m\u001b[43m(\u001b[49m\u001b[38;5;241;43m*\u001b[39;49m\u001b[43margs\u001b[49m\u001b[43m,\u001b[49m\u001b[43m \u001b[49m\u001b[38;5;241;43m*\u001b[39;49m\u001b[38;5;241;43m*\u001b[39;49m\u001b[43mkwargs\u001b[49m\u001b[43m)\u001b[49m\n",
      "\n",
      "File \u001b[0;32m~/miniconda3/envs/robodiff_2/lib/python3.9/site-packages/torch/nn/modules/module.py:1750\u001b[0m, in \u001b[0;36mModule._call_impl\u001b[0;34m(self, *args, **kwargs)\u001b[0m\n",
      "\u001b[1;32m   1745\u001b[0m \u001b[38;5;66;03m# If we don't have any hooks, we want to skip the rest of the logic in\u001b[39;00m\n",
      "\u001b[1;32m   1746\u001b[0m \u001b[38;5;66;03m# this function, and just call forward.\u001b[39;00m\n",
      "\u001b[1;32m   1747\u001b[0m \u001b[38;5;28;01mif\u001b[39;00m \u001b[38;5;129;01mnot\u001b[39;00m (\u001b[38;5;28mself\u001b[39m\u001b[38;5;241m.\u001b[39m_backward_hooks \u001b[38;5;129;01mor\u001b[39;00m \u001b[38;5;28mself\u001b[39m\u001b[38;5;241m.\u001b[39m_backward_pre_hooks \u001b[38;5;129;01mor\u001b[39;00m \u001b[38;5;28mself\u001b[39m\u001b[38;5;241m.\u001b[39m_forward_hooks \u001b[38;5;129;01mor\u001b[39;00m \u001b[38;5;28mself\u001b[39m\u001b[38;5;241m.\u001b[39m_forward_pre_hooks\n",
      "\u001b[1;32m   1748\u001b[0m         \u001b[38;5;129;01mor\u001b[39;00m _global_backward_pre_hooks \u001b[38;5;129;01mor\u001b[39;00m _global_backward_hooks\n",
      "\u001b[1;32m   1749\u001b[0m         \u001b[38;5;129;01mor\u001b[39;00m _global_forward_hooks \u001b[38;5;129;01mor\u001b[39;00m _global_forward_pre_hooks):\n",
      "\u001b[0;32m-> 1750\u001b[0m     \u001b[38;5;28;01mreturn\u001b[39;00m \u001b[43mforward_call\u001b[49m\u001b[43m(\u001b[49m\u001b[38;5;241;43m*\u001b[39;49m\u001b[43margs\u001b[49m\u001b[43m,\u001b[49m\u001b[43m \u001b[49m\u001b[38;5;241;43m*\u001b[39;49m\u001b[38;5;241;43m*\u001b[39;49m\u001b[43mkwargs\u001b[49m\u001b[43m)\u001b[49m\n",
      "\u001b[1;32m   1752\u001b[0m result \u001b[38;5;241m=\u001b[39m \u001b[38;5;28;01mNone\u001b[39;00m\n",
      "\u001b[1;32m   1753\u001b[0m called_always_called_hooks \u001b[38;5;241m=\u001b[39m \u001b[38;5;28mset\u001b[39m()\n",
      "\n",
      "File \u001b[0;32m~/diffusion_policy/diffusion_policy/model/diffusion/conditional_unet1d.py:228\u001b[0m, in \u001b[0;36mConditionalUnet1D.forward\u001b[0;34m(self, sample, timestep, local_cond, global_cond, **kwargs)\u001b[0m\n",
      "\u001b[1;32m    226\u001b[0m \u001b[38;5;28;01mfor\u001b[39;00m idx, (resnet, resnet2, upsample) \u001b[38;5;129;01min\u001b[39;00m \u001b[38;5;28menumerate\u001b[39m(\u001b[38;5;28mself\u001b[39m\u001b[38;5;241m.\u001b[39mup_modules):\n",
      "\u001b[1;32m    227\u001b[0m     x \u001b[38;5;241m=\u001b[39m torch\u001b[38;5;241m.\u001b[39mcat((x, h\u001b[38;5;241m.\u001b[39mpop()), dim\u001b[38;5;241m=\u001b[39m\u001b[38;5;241m1\u001b[39m)\n",
      "\u001b[0;32m--> 228\u001b[0m     x \u001b[38;5;241m=\u001b[39m \u001b[43mresnet\u001b[49m\u001b[43m(\u001b[49m\u001b[43mx\u001b[49m\u001b[43m,\u001b[49m\u001b[43m \u001b[49m\u001b[43mglobal_feature\u001b[49m\u001b[43m)\u001b[49m\n",
      "\u001b[1;32m    229\u001b[0m     \u001b[38;5;66;03m# The correct condition should be:\u001b[39;00m\n",
      "\u001b[1;32m    230\u001b[0m     \u001b[38;5;66;03m# if idx == (len(self.up_modules)-1) and len(h_local) > 0:\u001b[39;00m\n",
      "\u001b[1;32m    231\u001b[0m     \u001b[38;5;66;03m# However this change will break compatibility with published checkpoints.\u001b[39;00m\n",
      "\u001b[1;32m    232\u001b[0m     \u001b[38;5;66;03m# Therefore it is left as a comment.\u001b[39;00m\n",
      "\u001b[1;32m    233\u001b[0m     \u001b[38;5;28;01mif\u001b[39;00m idx \u001b[38;5;241m==\u001b[39m \u001b[38;5;28mlen\u001b[39m(\u001b[38;5;28mself\u001b[39m\u001b[38;5;241m.\u001b[39mup_modules) \u001b[38;5;129;01mand\u001b[39;00m \u001b[38;5;28mlen\u001b[39m(h_local) \u001b[38;5;241m>\u001b[39m \u001b[38;5;241m0\u001b[39m:\n",
      "\n",
      "File \u001b[0;32m~/miniconda3/envs/robodiff_2/lib/python3.9/site-packages/torch/nn/modules/module.py:1739\u001b[0m, in \u001b[0;36mModule._wrapped_call_impl\u001b[0;34m(self, *args, **kwargs)\u001b[0m\n",
      "\u001b[1;32m   1737\u001b[0m     \u001b[38;5;28;01mreturn\u001b[39;00m \u001b[38;5;28mself\u001b[39m\u001b[38;5;241m.\u001b[39m_compiled_call_impl(\u001b[38;5;241m*\u001b[39margs, \u001b[38;5;241m*\u001b[39m\u001b[38;5;241m*\u001b[39mkwargs)  \u001b[38;5;66;03m# type: ignore[misc]\u001b[39;00m\n",
      "\u001b[1;32m   1738\u001b[0m \u001b[38;5;28;01melse\u001b[39;00m:\n",
      "\u001b[0;32m-> 1739\u001b[0m     \u001b[38;5;28;01mreturn\u001b[39;00m \u001b[38;5;28;43mself\u001b[39;49m\u001b[38;5;241;43m.\u001b[39;49m\u001b[43m_call_impl\u001b[49m\u001b[43m(\u001b[49m\u001b[38;5;241;43m*\u001b[39;49m\u001b[43margs\u001b[49m\u001b[43m,\u001b[49m\u001b[43m \u001b[49m\u001b[38;5;241;43m*\u001b[39;49m\u001b[38;5;241;43m*\u001b[39;49m\u001b[43mkwargs\u001b[49m\u001b[43m)\u001b[49m\n",
      "\n",
      "File \u001b[0;32m~/miniconda3/envs/robodiff_2/lib/python3.9/site-packages/torch/nn/modules/module.py:1750\u001b[0m, in \u001b[0;36mModule._call_impl\u001b[0;34m(self, *args, **kwargs)\u001b[0m\n",
      "\u001b[1;32m   1745\u001b[0m \u001b[38;5;66;03m# If we don't have any hooks, we want to skip the rest of the logic in\u001b[39;00m\n",
      "\u001b[1;32m   1746\u001b[0m \u001b[38;5;66;03m# this function, and just call forward.\u001b[39;00m\n",
      "\u001b[1;32m   1747\u001b[0m \u001b[38;5;28;01mif\u001b[39;00m \u001b[38;5;129;01mnot\u001b[39;00m (\u001b[38;5;28mself\u001b[39m\u001b[38;5;241m.\u001b[39m_backward_hooks \u001b[38;5;129;01mor\u001b[39;00m \u001b[38;5;28mself\u001b[39m\u001b[38;5;241m.\u001b[39m_backward_pre_hooks \u001b[38;5;129;01mor\u001b[39;00m \u001b[38;5;28mself\u001b[39m\u001b[38;5;241m.\u001b[39m_forward_hooks \u001b[38;5;129;01mor\u001b[39;00m \u001b[38;5;28mself\u001b[39m\u001b[38;5;241m.\u001b[39m_forward_pre_hooks\n",
      "\u001b[1;32m   1748\u001b[0m         \u001b[38;5;129;01mor\u001b[39;00m _global_backward_pre_hooks \u001b[38;5;129;01mor\u001b[39;00m _global_backward_hooks\n",
      "\u001b[1;32m   1749\u001b[0m         \u001b[38;5;129;01mor\u001b[39;00m _global_forward_hooks \u001b[38;5;129;01mor\u001b[39;00m _global_forward_pre_hooks):\n",
      "\u001b[0;32m-> 1750\u001b[0m     \u001b[38;5;28;01mreturn\u001b[39;00m \u001b[43mforward_call\u001b[49m\u001b[43m(\u001b[49m\u001b[38;5;241;43m*\u001b[39;49m\u001b[43margs\u001b[49m\u001b[43m,\u001b[49m\u001b[43m \u001b[49m\u001b[38;5;241;43m*\u001b[39;49m\u001b[38;5;241;43m*\u001b[39;49m\u001b[43mkwargs\u001b[49m\u001b[43m)\u001b[49m\n",
      "\u001b[1;32m   1752\u001b[0m result \u001b[38;5;241m=\u001b[39m \u001b[38;5;28;01mNone\u001b[39;00m\n",
      "\u001b[1;32m   1753\u001b[0m called_always_called_hooks \u001b[38;5;241m=\u001b[39m \u001b[38;5;28mset\u001b[39m()\n",
      "\n",
      "File \u001b[0;32m~/diffusion_policy/diffusion_policy/model/diffusion/conditional_unet1d.py:54\u001b[0m, in \u001b[0;36mConditionalResidualBlock1D.forward\u001b[0;34m(self, x, cond)\u001b[0m\n",
      "\u001b[1;32m     46\u001b[0m \u001b[38;5;28;01mdef\u001b[39;00m\u001b[38;5;250m \u001b[39m\u001b[38;5;21mforward\u001b[39m(\u001b[38;5;28mself\u001b[39m, x, cond):\n",
      "\u001b[1;32m     47\u001b[0m \u001b[38;5;250m    \u001b[39m\u001b[38;5;124;03m'''\u001b[39;00m\n",
      "\u001b[1;32m     48\u001b[0m \u001b[38;5;124;03m        x : [ batch_size x in_channels x horizon ]\u001b[39;00m\n",
      "\u001b[1;32m     49\u001b[0m \u001b[38;5;124;03m        cond : [ batch_size x cond_dim]\u001b[39;00m\n",
      "\u001b[0;32m   (...)\u001b[0m\n",
      "\u001b[1;32m     52\u001b[0m \u001b[38;5;124;03m        out : [ batch_size x out_channels x horizon ]\u001b[39;00m\n",
      "\u001b[1;32m     53\u001b[0m \u001b[38;5;124;03m    '''\u001b[39;00m\n",
      "\u001b[0;32m---> 54\u001b[0m     out \u001b[38;5;241m=\u001b[39m \u001b[38;5;28;43mself\u001b[39;49m\u001b[38;5;241;43m.\u001b[39;49m\u001b[43mblocks\u001b[49m\u001b[43m[\u001b[49m\u001b[38;5;241;43m0\u001b[39;49m\u001b[43m]\u001b[49m\u001b[43m(\u001b[49m\u001b[43mx\u001b[49m\u001b[43m)\u001b[49m\n",
      "\u001b[1;32m     55\u001b[0m     embed \u001b[38;5;241m=\u001b[39m \u001b[38;5;28mself\u001b[39m\u001b[38;5;241m.\u001b[39mcond_encoder(cond)\n",
      "\u001b[1;32m     56\u001b[0m     \u001b[38;5;28;01mif\u001b[39;00m \u001b[38;5;28mself\u001b[39m\u001b[38;5;241m.\u001b[39mcond_predict_scale:\n",
      "\n",
      "File \u001b[0;32m~/miniconda3/envs/robodiff_2/lib/python3.9/site-packages/torch/nn/modules/module.py:1739\u001b[0m, in \u001b[0;36mModule._wrapped_call_impl\u001b[0;34m(self, *args, **kwargs)\u001b[0m\n",
      "\u001b[1;32m   1737\u001b[0m     \u001b[38;5;28;01mreturn\u001b[39;00m \u001b[38;5;28mself\u001b[39m\u001b[38;5;241m.\u001b[39m_compiled_call_impl(\u001b[38;5;241m*\u001b[39margs, \u001b[38;5;241m*\u001b[39m\u001b[38;5;241m*\u001b[39mkwargs)  \u001b[38;5;66;03m# type: ignore[misc]\u001b[39;00m\n",
      "\u001b[1;32m   1738\u001b[0m \u001b[38;5;28;01melse\u001b[39;00m:\n",
      "\u001b[0;32m-> 1739\u001b[0m     \u001b[38;5;28;01mreturn\u001b[39;00m \u001b[38;5;28;43mself\u001b[39;49m\u001b[38;5;241;43m.\u001b[39;49m\u001b[43m_call_impl\u001b[49m\u001b[43m(\u001b[49m\u001b[38;5;241;43m*\u001b[39;49m\u001b[43margs\u001b[49m\u001b[43m,\u001b[49m\u001b[43m \u001b[49m\u001b[38;5;241;43m*\u001b[39;49m\u001b[38;5;241;43m*\u001b[39;49m\u001b[43mkwargs\u001b[49m\u001b[43m)\u001b[49m\n",
      "\n",
      "File \u001b[0;32m~/miniconda3/envs/robodiff_2/lib/python3.9/site-packages/torch/nn/modules/module.py:1750\u001b[0m, in \u001b[0;36mModule._call_impl\u001b[0;34m(self, *args, **kwargs)\u001b[0m\n",
      "\u001b[1;32m   1745\u001b[0m \u001b[38;5;66;03m# If we don't have any hooks, we want to skip the rest of the logic in\u001b[39;00m\n",
      "\u001b[1;32m   1746\u001b[0m \u001b[38;5;66;03m# this function, and just call forward.\u001b[39;00m\n",
      "\u001b[1;32m   1747\u001b[0m \u001b[38;5;28;01mif\u001b[39;00m \u001b[38;5;129;01mnot\u001b[39;00m (\u001b[38;5;28mself\u001b[39m\u001b[38;5;241m.\u001b[39m_backward_hooks \u001b[38;5;129;01mor\u001b[39;00m \u001b[38;5;28mself\u001b[39m\u001b[38;5;241m.\u001b[39m_backward_pre_hooks \u001b[38;5;129;01mor\u001b[39;00m \u001b[38;5;28mself\u001b[39m\u001b[38;5;241m.\u001b[39m_forward_hooks \u001b[38;5;129;01mor\u001b[39;00m \u001b[38;5;28mself\u001b[39m\u001b[38;5;241m.\u001b[39m_forward_pre_hooks\n",
      "\u001b[1;32m   1748\u001b[0m         \u001b[38;5;129;01mor\u001b[39;00m _global_backward_pre_hooks \u001b[38;5;129;01mor\u001b[39;00m _global_backward_hooks\n",
      "\u001b[1;32m   1749\u001b[0m         \u001b[38;5;129;01mor\u001b[39;00m _global_forward_hooks \u001b[38;5;129;01mor\u001b[39;00m _global_forward_pre_hooks):\n",
      "\u001b[0;32m-> 1750\u001b[0m     \u001b[38;5;28;01mreturn\u001b[39;00m \u001b[43mforward_call\u001b[49m\u001b[43m(\u001b[49m\u001b[38;5;241;43m*\u001b[39;49m\u001b[43margs\u001b[49m\u001b[43m,\u001b[49m\u001b[43m \u001b[49m\u001b[38;5;241;43m*\u001b[39;49m\u001b[38;5;241;43m*\u001b[39;49m\u001b[43mkwargs\u001b[49m\u001b[43m)\u001b[49m\n",
      "\u001b[1;32m   1752\u001b[0m result \u001b[38;5;241m=\u001b[39m \u001b[38;5;28;01mNone\u001b[39;00m\n",
      "\u001b[1;32m   1753\u001b[0m called_always_called_hooks \u001b[38;5;241m=\u001b[39m \u001b[38;5;28mset\u001b[39m()\n",
      "\n",
      "File \u001b[0;32m~/diffusion_policy/diffusion_policy/model/diffusion/conv1d_components.py:40\u001b[0m, in \u001b[0;36mConv1dBlock.forward\u001b[0;34m(self, x)\u001b[0m\n",
      "\u001b[1;32m     39\u001b[0m \u001b[38;5;28;01mdef\u001b[39;00m\u001b[38;5;250m \u001b[39m\u001b[38;5;21mforward\u001b[39m(\u001b[38;5;28mself\u001b[39m, x):\n",
      "\u001b[0;32m---> 40\u001b[0m     \u001b[38;5;28;01mreturn\u001b[39;00m \u001b[38;5;28;43mself\u001b[39;49m\u001b[38;5;241;43m.\u001b[39;49m\u001b[43mblock\u001b[49m\u001b[43m(\u001b[49m\u001b[43mx\u001b[49m\u001b[43m)\u001b[49m\n",
      "\n",
      "File \u001b[0;32m~/miniconda3/envs/robodiff_2/lib/python3.9/site-packages/torch/nn/modules/module.py:1739\u001b[0m, in \u001b[0;36mModule._wrapped_call_impl\u001b[0;34m(self, *args, **kwargs)\u001b[0m\n",
      "\u001b[1;32m   1737\u001b[0m     \u001b[38;5;28;01mreturn\u001b[39;00m \u001b[38;5;28mself\u001b[39m\u001b[38;5;241m.\u001b[39m_compiled_call_impl(\u001b[38;5;241m*\u001b[39margs, \u001b[38;5;241m*\u001b[39m\u001b[38;5;241m*\u001b[39mkwargs)  \u001b[38;5;66;03m# type: ignore[misc]\u001b[39;00m\n",
      "\u001b[1;32m   1738\u001b[0m \u001b[38;5;28;01melse\u001b[39;00m:\n",
      "\u001b[0;32m-> 1739\u001b[0m     \u001b[38;5;28;01mreturn\u001b[39;00m \u001b[38;5;28;43mself\u001b[39;49m\u001b[38;5;241;43m.\u001b[39;49m\u001b[43m_call_impl\u001b[49m\u001b[43m(\u001b[49m\u001b[38;5;241;43m*\u001b[39;49m\u001b[43margs\u001b[49m\u001b[43m,\u001b[49m\u001b[43m \u001b[49m\u001b[38;5;241;43m*\u001b[39;49m\u001b[38;5;241;43m*\u001b[39;49m\u001b[43mkwargs\u001b[49m\u001b[43m)\u001b[49m\n",
      "\n",
      "File \u001b[0;32m~/miniconda3/envs/robodiff_2/lib/python3.9/site-packages/torch/nn/modules/module.py:1750\u001b[0m, in \u001b[0;36mModule._call_impl\u001b[0;34m(self, *args, **kwargs)\u001b[0m\n",
      "\u001b[1;32m   1745\u001b[0m \u001b[38;5;66;03m# If we don't have any hooks, we want to skip the rest of the logic in\u001b[39;00m\n",
      "\u001b[1;32m   1746\u001b[0m \u001b[38;5;66;03m# this function, and just call forward.\u001b[39;00m\n",
      "\u001b[1;32m   1747\u001b[0m \u001b[38;5;28;01mif\u001b[39;00m \u001b[38;5;129;01mnot\u001b[39;00m (\u001b[38;5;28mself\u001b[39m\u001b[38;5;241m.\u001b[39m_backward_hooks \u001b[38;5;129;01mor\u001b[39;00m \u001b[38;5;28mself\u001b[39m\u001b[38;5;241m.\u001b[39m_backward_pre_hooks \u001b[38;5;129;01mor\u001b[39;00m \u001b[38;5;28mself\u001b[39m\u001b[38;5;241m.\u001b[39m_forward_hooks \u001b[38;5;129;01mor\u001b[39;00m \u001b[38;5;28mself\u001b[39m\u001b[38;5;241m.\u001b[39m_forward_pre_hooks\n",
      "\u001b[1;32m   1748\u001b[0m         \u001b[38;5;129;01mor\u001b[39;00m _global_backward_pre_hooks \u001b[38;5;129;01mor\u001b[39;00m _global_backward_hooks\n",
      "\u001b[1;32m   1749\u001b[0m         \u001b[38;5;129;01mor\u001b[39;00m _global_forward_hooks \u001b[38;5;129;01mor\u001b[39;00m _global_forward_pre_hooks):\n",
      "\u001b[0;32m-> 1750\u001b[0m     \u001b[38;5;28;01mreturn\u001b[39;00m \u001b[43mforward_call\u001b[49m\u001b[43m(\u001b[49m\u001b[38;5;241;43m*\u001b[39;49m\u001b[43margs\u001b[49m\u001b[43m,\u001b[49m\u001b[43m \u001b[49m\u001b[38;5;241;43m*\u001b[39;49m\u001b[38;5;241;43m*\u001b[39;49m\u001b[43mkwargs\u001b[49m\u001b[43m)\u001b[49m\n",
      "\u001b[1;32m   1752\u001b[0m result \u001b[38;5;241m=\u001b[39m \u001b[38;5;28;01mNone\u001b[39;00m\n",
      "\u001b[1;32m   1753\u001b[0m called_always_called_hooks \u001b[38;5;241m=\u001b[39m \u001b[38;5;28mset\u001b[39m()\n",
      "\n",
      "File \u001b[0;32m~/miniconda3/envs/robodiff_2/lib/python3.9/site-packages/torch/nn/modules/container.py:250\u001b[0m, in \u001b[0;36mSequential.forward\u001b[0;34m(self, input)\u001b[0m\n",
      "\u001b[1;32m    248\u001b[0m \u001b[38;5;28;01mdef\u001b[39;00m\u001b[38;5;250m \u001b[39m\u001b[38;5;21mforward\u001b[39m(\u001b[38;5;28mself\u001b[39m, \u001b[38;5;28minput\u001b[39m):\n",
      "\u001b[1;32m    249\u001b[0m     \u001b[38;5;28;01mfor\u001b[39;00m module \u001b[38;5;129;01min\u001b[39;00m \u001b[38;5;28mself\u001b[39m:\n",
      "\u001b[0;32m--> 250\u001b[0m         \u001b[38;5;28minput\u001b[39m \u001b[38;5;241m=\u001b[39m \u001b[43mmodule\u001b[49m\u001b[43m(\u001b[49m\u001b[38;5;28;43minput\u001b[39;49m\u001b[43m)\u001b[49m\n",
      "\u001b[1;32m    251\u001b[0m     \u001b[38;5;28;01mreturn\u001b[39;00m \u001b[38;5;28minput\u001b[39m\n",
      "\n",
      "File \u001b[0;32m~/miniconda3/envs/robodiff_2/lib/python3.9/site-packages/torch/nn/modules/module.py:1739\u001b[0m, in \u001b[0;36mModule._wrapped_call_impl\u001b[0;34m(self, *args, **kwargs)\u001b[0m\n",
      "\u001b[1;32m   1737\u001b[0m     \u001b[38;5;28;01mreturn\u001b[39;00m \u001b[38;5;28mself\u001b[39m\u001b[38;5;241m.\u001b[39m_compiled_call_impl(\u001b[38;5;241m*\u001b[39margs, \u001b[38;5;241m*\u001b[39m\u001b[38;5;241m*\u001b[39mkwargs)  \u001b[38;5;66;03m# type: ignore[misc]\u001b[39;00m\n",
      "\u001b[1;32m   1738\u001b[0m \u001b[38;5;28;01melse\u001b[39;00m:\n",
      "\u001b[0;32m-> 1739\u001b[0m     \u001b[38;5;28;01mreturn\u001b[39;00m \u001b[38;5;28;43mself\u001b[39;49m\u001b[38;5;241;43m.\u001b[39;49m\u001b[43m_call_impl\u001b[49m\u001b[43m(\u001b[49m\u001b[38;5;241;43m*\u001b[39;49m\u001b[43margs\u001b[49m\u001b[43m,\u001b[49m\u001b[43m \u001b[49m\u001b[38;5;241;43m*\u001b[39;49m\u001b[38;5;241;43m*\u001b[39;49m\u001b[43mkwargs\u001b[49m\u001b[43m)\u001b[49m\n",
      "\n",
      "File \u001b[0;32m~/miniconda3/envs/robodiff_2/lib/python3.9/site-packages/torch/nn/modules/module.py:1750\u001b[0m, in \u001b[0;36mModule._call_impl\u001b[0;34m(self, *args, **kwargs)\u001b[0m\n",
      "\u001b[1;32m   1745\u001b[0m \u001b[38;5;66;03m# If we don't have any hooks, we want to skip the rest of the logic in\u001b[39;00m\n",
      "\u001b[1;32m   1746\u001b[0m \u001b[38;5;66;03m# this function, and just call forward.\u001b[39;00m\n",
      "\u001b[1;32m   1747\u001b[0m \u001b[38;5;28;01mif\u001b[39;00m \u001b[38;5;129;01mnot\u001b[39;00m (\u001b[38;5;28mself\u001b[39m\u001b[38;5;241m.\u001b[39m_backward_hooks \u001b[38;5;129;01mor\u001b[39;00m \u001b[38;5;28mself\u001b[39m\u001b[38;5;241m.\u001b[39m_backward_pre_hooks \u001b[38;5;129;01mor\u001b[39;00m \u001b[38;5;28mself\u001b[39m\u001b[38;5;241m.\u001b[39m_forward_hooks \u001b[38;5;129;01mor\u001b[39;00m \u001b[38;5;28mself\u001b[39m\u001b[38;5;241m.\u001b[39m_forward_pre_hooks\n",
      "\u001b[1;32m   1748\u001b[0m         \u001b[38;5;129;01mor\u001b[39;00m _global_backward_pre_hooks \u001b[38;5;129;01mor\u001b[39;00m _global_backward_hooks\n",
      "\u001b[1;32m   1749\u001b[0m         \u001b[38;5;129;01mor\u001b[39;00m _global_forward_hooks \u001b[38;5;129;01mor\u001b[39;00m _global_forward_pre_hooks):\n",
      "\u001b[0;32m-> 1750\u001b[0m     \u001b[38;5;28;01mreturn\u001b[39;00m \u001b[43mforward_call\u001b[49m\u001b[43m(\u001b[49m\u001b[38;5;241;43m*\u001b[39;49m\u001b[43margs\u001b[49m\u001b[43m,\u001b[49m\u001b[43m \u001b[49m\u001b[38;5;241;43m*\u001b[39;49m\u001b[38;5;241;43m*\u001b[39;49m\u001b[43mkwargs\u001b[49m\u001b[43m)\u001b[49m\n",
      "\u001b[1;32m   1752\u001b[0m result \u001b[38;5;241m=\u001b[39m \u001b[38;5;28;01mNone\u001b[39;00m\n",
      "\u001b[1;32m   1753\u001b[0m called_always_called_hooks \u001b[38;5;241m=\u001b[39m \u001b[38;5;28mset\u001b[39m()\n",
      "\n",
      "File \u001b[0;32m~/miniconda3/envs/robodiff_2/lib/python3.9/site-packages/torch/nn/modules/conv.py:375\u001b[0m, in \u001b[0;36mConv1d.forward\u001b[0;34m(self, input)\u001b[0m\n",
      "\u001b[1;32m    374\u001b[0m \u001b[38;5;28;01mdef\u001b[39;00m\u001b[38;5;250m \u001b[39m\u001b[38;5;21mforward\u001b[39m(\u001b[38;5;28mself\u001b[39m, \u001b[38;5;28minput\u001b[39m: Tensor) \u001b[38;5;241m-\u001b[39m\u001b[38;5;241m>\u001b[39m Tensor:\n",
      "\u001b[0;32m--> 375\u001b[0m     \u001b[38;5;28;01mreturn\u001b[39;00m \u001b[38;5;28;43mself\u001b[39;49m\u001b[38;5;241;43m.\u001b[39;49m\u001b[43m_conv_forward\u001b[49m\u001b[43m(\u001b[49m\u001b[38;5;28;43minput\u001b[39;49m\u001b[43m,\u001b[49m\u001b[43m \u001b[49m\u001b[38;5;28;43mself\u001b[39;49m\u001b[38;5;241;43m.\u001b[39;49m\u001b[43mweight\u001b[49m\u001b[43m,\u001b[49m\u001b[43m \u001b[49m\u001b[38;5;28;43mself\u001b[39;49m\u001b[38;5;241;43m.\u001b[39;49m\u001b[43mbias\u001b[49m\u001b[43m)\u001b[49m\n",
      "\n",
      "File \u001b[0;32m~/miniconda3/envs/robodiff_2/lib/python3.9/site-packages/torch/nn/modules/conv.py:370\u001b[0m, in \u001b[0;36mConv1d._conv_forward\u001b[0;34m(self, input, weight, bias)\u001b[0m\n",
      "\u001b[1;32m    358\u001b[0m \u001b[38;5;28;01mif\u001b[39;00m \u001b[38;5;28mself\u001b[39m\u001b[38;5;241m.\u001b[39mpadding_mode \u001b[38;5;241m!=\u001b[39m \u001b[38;5;124m\"\u001b[39m\u001b[38;5;124mzeros\u001b[39m\u001b[38;5;124m\"\u001b[39m:\n",
      "\u001b[1;32m    359\u001b[0m     \u001b[38;5;28;01mreturn\u001b[39;00m F\u001b[38;5;241m.\u001b[39mconv1d(\n",
      "\u001b[1;32m    360\u001b[0m         F\u001b[38;5;241m.\u001b[39mpad(\n",
      "\u001b[1;32m    361\u001b[0m             \u001b[38;5;28minput\u001b[39m, \u001b[38;5;28mself\u001b[39m\u001b[38;5;241m.\u001b[39m_reversed_padding_repeated_twice, mode\u001b[38;5;241m=\u001b[39m\u001b[38;5;28mself\u001b[39m\u001b[38;5;241m.\u001b[39mpadding_mode\n",
      "\u001b[0;32m   (...)\u001b[0m\n",
      "\u001b[1;32m    368\u001b[0m         \u001b[38;5;28mself\u001b[39m\u001b[38;5;241m.\u001b[39mgroups,\n",
      "\u001b[1;32m    369\u001b[0m     )\n",
      "\u001b[0;32m--> 370\u001b[0m \u001b[38;5;28;01mreturn\u001b[39;00m \u001b[43mF\u001b[49m\u001b[38;5;241;43m.\u001b[39;49m\u001b[43mconv1d\u001b[49m\u001b[43m(\u001b[49m\n",
      "\u001b[1;32m    371\u001b[0m \u001b[43m    \u001b[49m\u001b[38;5;28;43minput\u001b[39;49m\u001b[43m,\u001b[49m\u001b[43m \u001b[49m\u001b[43mweight\u001b[49m\u001b[43m,\u001b[49m\u001b[43m \u001b[49m\u001b[43mbias\u001b[49m\u001b[43m,\u001b[49m\u001b[43m \u001b[49m\u001b[38;5;28;43mself\u001b[39;49m\u001b[38;5;241;43m.\u001b[39;49m\u001b[43mstride\u001b[49m\u001b[43m,\u001b[49m\u001b[43m \u001b[49m\u001b[38;5;28;43mself\u001b[39;49m\u001b[38;5;241;43m.\u001b[39;49m\u001b[43mpadding\u001b[49m\u001b[43m,\u001b[49m\u001b[43m \u001b[49m\u001b[38;5;28;43mself\u001b[39;49m\u001b[38;5;241;43m.\u001b[39;49m\u001b[43mdilation\u001b[49m\u001b[43m,\u001b[49m\u001b[43m \u001b[49m\u001b[38;5;28;43mself\u001b[39;49m\u001b[38;5;241;43m.\u001b[39;49m\u001b[43mgroups\u001b[49m\n",
      "\u001b[1;32m    372\u001b[0m \u001b[43m\u001b[49m\u001b[43m)\u001b[49m\n",
      "\n",
      "\u001b[0;31mKeyboardInterrupt\u001b[0m: "
     ]
    }
   ],
   "source": [
    "# # reset robot\n",
    "set_gripper(open=True)\n",
    "reset_joints_to(robot_interface, reset_joint_positions)\n",
    "set_gripper(open=True)\n",
    "policy.reset()\n",
    "\n",
    "images = []\n",
    "all_poses_7d = []\n",
    "all_inside_flags = []\n",
    "\n",
    "for _ in range(50):\n",
    "    # 1) Acquire user input\n",
    "    action, grasp = input2action(device=spacemouse, controller_type=controller_type)\n",
    "    if action is None:\n",
    "        break\n",
    "    if len(robot_interface._state_buffer) == 0:\n",
    "        continue\n",
    "\n",
    "    # 2) Get observation\n",
    "    obs_dict = get_current_obs(robot_interface)\n",
    "    img = obs_dict['eye_in_hand_rgb']\n",
    "    images.append(img)\n",
    "    obs = framestacker.add_new_obs(obs_dict)\n",
    "\n",
    "    # 3) Policy predicts an action (whatever format: delta pose, EEF pose, etc.)\n",
    "    #    We'll send it to the robot\n",
    "    action_pred = predict_action(obs)  # shape is up to your policy\n",
    "    # print(\"Raw policy prediction:\", action_pred)\n",
    "\n",
    "    \n",
    "\n",
    "    # 4) Let's say we control the robot with the first 4 predicted actions\n",
    "    for i, single_cmd in enumerate(action_pred[:4]):\n",
    "        print(f\"Sending to robot: action {i} =>\", single_cmd)\n",
    "        robot_interface.control(\n",
    "            controller_type=controller_type,\n",
    "            action=single_cmd,\n",
    "            controller_cfg=controller_cfg,\n",
    "        )\n",
    "\n",
    "        # (Optional) short delay for the robot to move\n",
    "        time.sleep(0.05)\n",
    "\n",
    "        # 5) Now read the *actual* real joint angles from the robot\n",
    "        #    e.g. shape (7,) => [q1, q2, q3, q4, q5, q6, q7]\n",
    "        js_real = robot_interface.last_q  \n",
    "        if js_real is None:\n",
    "            print(\"No joint angles read. Skipping.\")\n",
    "            continue\n",
    "\n",
    "        # 6) Convert those real joints => 7D EEF pose => 6D => safe-set check\n",
    "        eef_pose_7d = joint_angles_to_end_effector_pose(js_real)  # shape (7,)\n",
    "        eef_pose_6d = pose7d_to_6d(eef_pose_7d)\n",
    "        inside, distances = is_pose_in_safe_set_6d(eef_pose_6d, hull_equations, tol=1e-1)\n",
    "\n",
    "        # print(f\"   => Real Joints {js_real}, EEF pose {eef_pose_7d}\")\n",
    "        print(f\"   => inside={inside}, distances={distances}\")\n",
    "\n",
    "        # 7) Collect for final visualization\n",
    "        all_poses_7d.append(eef_pose_7d)\n",
    "        all_inside_flags.append(inside)\n",
    "\n",
    "robot_interface.close()"
   ]
  },
  {
   "cell_type": "code",
   "execution_count": null,
   "metadata": {},
   "outputs": [],
   "source": []
  },
  {
   "cell_type": "code",
   "execution_count": null,
   "metadata": {},
   "outputs": [],
   "source": []
  },
  {
   "cell_type": "code",
   "execution_count": null,
   "metadata": {},
   "outputs": [],
   "source": []
  },
  {
   "cell_type": "code",
   "execution_count": null,
   "metadata": {},
   "outputs": [],
   "source": []
  }
 ],
 "metadata": {
  "kernelspec": {
   "display_name": "robodiff_2",
   "language": "python",
   "name": "python3"
  },
  "language_info": {
   "codemirror_mode": {
    "name": "ipython",
    "version": 3
   },
   "file_extension": ".py",
   "mimetype": "text/x-python",
   "name": "python",
   "nbconvert_exporter": "python",
   "pygments_lexer": "ipython3",
   "version": "3.9.18"
  }
 },
 "nbformat": 4,
 "nbformat_minor": 2
}
