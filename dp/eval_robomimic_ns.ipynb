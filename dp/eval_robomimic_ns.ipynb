{
 "cells": [
  {
   "cell_type": "code",
   "execution_count": 1,
   "metadata": {},
   "outputs": [
    {
     "name": "stderr",
     "output_type": "stream",
     "text": [
      "/home/ns1254/miniforge3/envs/robodiff/lib/python3.9/site-packages/torchvision/io/image.py:13: UserWarning: Failed to load image Python extension: libtorch_cuda_cu.so: cannot open shared object file: No such file or directory\n",
      "  warn(f\"Failed to load image Python extension: {e}\")\n",
      "/home/ns1254/miniforge3/envs/robodiff/lib/python3.9/site-packages/tqdm/auto.py:22: TqdmWarning: IProgress not found. Please update jupyter and ipywidgets. See https://ipywidgets.readthedocs.io/en/stable/user_install.html\n",
      "  from .autonotebook import tqdm as notebook_tqdm\n"
     ]
    }
   ],
   "source": [
    "import sys \n",
    "import os\n",
    "import pathlib\n",
    "import click\n",
    "import hydra\n",
    "import torch\n",
    "import dill\n",
    "import wandb\n",
    "import json\n",
    "from diffusion_policy.workspace.base_workspace import BaseWorkspace\n",
    "from diffusion_policy.env_runner.robomimic_image_runner import RobomimicImageRunner\n",
    "\n",
    " \n",
    "import numpy as np \n",
    "import collections \n",
    "import tqdm\n",
    "import h5py\n",
    "import math \n",
    "import wandb.sdk.data_types.video as wv\n",
    "from diffusion_policy.gym_util.async_vector_env import AsyncVectorEnv\n",
    "from diffusion_policy.gym_util.sync_vector_env import SyncVectorEnv\n",
    "from diffusion_policy.gym_util.multistep_wrapper import MultiStepWrapper\n",
    "from diffusion_policy.gym_util.video_recording_wrapper import VideoRecordingWrapper, VideoRecorder\n",
    "from diffusion_policy.model.common.rotation_transformer import RotationTransformer\n",
    "\n",
    "from diffusion_policy.policy.base_image_policy import BaseImagePolicy\n",
    "from diffusion_policy.common.pytorch_util import dict_apply\n",
    "from diffusion_policy.env_runner.base_image_runner import BaseImageRunner\n",
    "from diffusion_policy.env.robomimic.robomimic_image_wrapper import RobomimicImageWrapper\n",
    "import robomimic.utils.file_utils as FileUtils\n",
    "import robomimic.utils.env_utils as EnvUtils\n",
    "import robomimic.utils.obs_utils as ObsUtils \n",
    "from diffusion_policy.workspace.train_diffusion_unet_hybrid_workspace import TrainDiffusionUnetHybridWorkspace\n",
    "from collections import defaultdict, deque"
   ]
  },
  {
   "cell_type": "code",
   "execution_count": 2,
   "metadata": {},
   "outputs": [
    {
     "data": {
      "text/plain": [
       "device(type='cuda')"
      ]
     },
     "execution_count": 2,
     "metadata": {},
     "output_type": "execute_result"
    }
   ],
   "source": [
    "device = torch.device(\"cuda\" if torch.cuda.is_available() else \"cpu\")\n",
    "# device = \"cuda:0\"\n",
    "device "
   ]
  },
  {
   "cell_type": "code",
   "execution_count": 3,
   "metadata": {},
   "outputs": [],
   "source": [
    "checkpoint = \"data/outputs/2024.11.03/01.29.56_train_diffusion_unet_hybrid_lift_image/checkpoints/epoch=0550-test_mean_score=0.940.ckpt\"\n",
    "dataset_path=\"/home/ns1254/data_robomimic/lift/ph/image_v141_f40_abs.hdf5\""
   ]
  },
  {
   "cell_type": "code",
   "execution_count": 4,
   "metadata": {},
   "outputs": [],
   "source": [
    "checkpoint = \"/home/ns1254/diffusion_policy/data/outputs/2024.11.03/12.20.14_train_diffusion_unet_hybrid_can_image/checkpoints/epoch=0450-test_mean_score=0.360.ckpt\"\n",
    "dataset_path=\"/home/ns1254/data_robomimic/nn/can_image_v141_20p_train_abs.hdf5\""
   ]
  },
  {
   "cell_type": "code",
   "execution_count": 5,
   "metadata": {},
   "outputs": [
    {
     "name": "stdout",
     "output_type": "stream",
     "text": [
      "\n",
      "============= Initialized Observation Utils with Obs Spec =============\n",
      "\n",
      "using obs modality: low_dim with keys: ['robot0_eef_quat', 'robot0_gripper_qpos', 'robot0_eef_pos']\n",
      "using obs modality: rgb with keys: ['robot0_eye_in_hand_image', 'agentview_image']\n",
      "using obs modality: depth with keys: []\n",
      "using obs modality: scan with keys: []\n"
     ]
    },
    {
     "name": "stderr",
     "output_type": "stream",
     "text": [
      "/home/ns1254/miniforge3/envs/robodiff/lib/python3.9/site-packages/torchvision/models/_utils.py:208: UserWarning: The parameter 'pretrained' is deprecated since 0.13 and will be removed in 0.15, please use 'weights' instead.\n",
      "  warnings.warn(\n",
      "/home/ns1254/miniforge3/envs/robodiff/lib/python3.9/site-packages/torchvision/models/_utils.py:223: UserWarning: Arguments other than a weight enum or `None` for 'weights' are deprecated since 0.13 and will be removed in 0.15. The current behavior is equivalent to passing `weights=None`.\n",
      "  warnings.warn(msg)\n"
     ]
    },
    {
     "name": "stdout",
     "output_type": "stream",
     "text": [
      "Diffusion params: 2.556120e+08\n",
      "Vision params: 2.239418e+07\n"
     ]
    }
   ],
   "source": [
    "payload = torch.load(open(checkpoint, 'rb'), pickle_module=dill)\n",
    "cfg = payload['cfg'] \n",
    "workspace = TrainDiffusionUnetHybridWorkspace(cfg, output_dir=None) \n",
    "workspace.load_payload(payload, exclude_keys=None, include_keys=None)"
   ]
  },
  {
   "cell_type": "code",
   "execution_count": 6,
   "metadata": {},
   "outputs": [],
   "source": [
    "# get policy from workspace\n",
    "policy = workspace.model\n",
    "if cfg.training.use_ema:\n",
    "    policy = workspace.ema_model\n",
    "\n",
    "device = torch.device(device)\n",
    "policy.to(device)\n",
    "policy.eval()\n",
    "pass "
   ]
  },
  {
   "cell_type": "code",
   "execution_count": null,
   "metadata": {},
   "outputs": [],
   "source": [
    "# policy"
   ]
  },
  {
   "cell_type": "code",
   "execution_count": null,
   "metadata": {},
   "outputs": [],
   "source": []
  },
  {
   "cell_type": "code",
   "execution_count": 7,
   "metadata": {},
   "outputs": [],
   "source": [
    "def create_env(env_meta, shape_meta, enable_render=True):\n",
    "    modality_mapping = collections.defaultdict(list)\n",
    "    for key, attr in shape_meta['obs'].items():\n",
    "        modality_mapping[attr.get('type', 'low_dim')].append(key)\n",
    "    ObsUtils.initialize_obs_modality_mapping_from_dict(modality_mapping)\n",
    "\n",
    "    env = EnvUtils.create_env_from_metadata(\n",
    "        env_meta=env_meta,\n",
    "        render=False, \n",
    "        render_offscreen=enable_render,\n",
    "        use_image_obs=enable_render, \n",
    "    )\n",
    "    return env"
   ]
  },
  {
   "cell_type": "code",
   "execution_count": null,
   "metadata": {},
   "outputs": [],
   "source": []
  },
  {
   "cell_type": "code",
   "execution_count": 8,
   "metadata": {},
   "outputs": [],
   "source": [
    "abs_action=True\n",
    "\n",
    "crf=22\n",
    "fps=10\n",
    "n_obs_steps=2\n",
    "max_steps=500\n",
    "n_action_steps=8\n",
    "render_obs_key=\"agentview_image\"\n",
    "\n",
    "robosuite_fps = 20\n",
    "steps_per_render = max(robosuite_fps // fps, 1)"
   ]
  },
  {
   "cell_type": "code",
   "execution_count": 9,
   "metadata": {},
   "outputs": [
    {
     "name": "stdout",
     "output_type": "stream",
     "text": [
      "Created environment with name PickPlaceCan\n",
      "Action size is 7\n"
     ]
    }
   ],
   "source": [
    "env_meta = FileUtils.get_env_metadata_from_dataset(dataset_path)\n",
    "# disable object state observation\n",
    "env_meta['env_kwargs']['use_object_obs'] = False\n",
    "\n",
    "rotation_transformer = None\n",
    "if abs_action:\n",
    "    env_meta['env_kwargs']['controller_configs']['control_delta'] = False\n",
    "    rotation_transformer = RotationTransformer('axis_angle', 'rotation_6d')\n",
    "\n",
    "shape_meta={'action': {'shape': [10]}, 'obs': {'agentview_image': {'shape': [3, 84, 84], 'type': 'rgb'}, 'robot0_eef_pos': {'shape': [3]}, 'robot0_eef_quat': {'shape': [4]}, 'robot0_eye_in_hand_image': {'shape': [3, 84, 84], 'type': 'rgb'}, 'robot0_gripper_qpos': {'shape': [2]}}}\n",
    "\n",
    "robomimic_env = create_env(\n",
    "    env_meta=env_meta, \n",
    "    shape_meta=shape_meta\n",
    ")"
   ]
  },
  {
   "cell_type": "code",
   "execution_count": 10,
   "metadata": {},
   "outputs": [],
   "source": [
    "def undo_transform_action( action):\n",
    "    raw_shape = action.shape\n",
    "    if raw_shape[-1] == 20:\n",
    "        # dual arm\n",
    "        action = action.reshape(-1,2,10)\n",
    "\n",
    "    d_rot = action.shape[-1] - 4\n",
    "    pos = action[...,:3]\n",
    "    rot = action[...,3:3+d_rot]\n",
    "    gripper = action[...,[-1]]\n",
    "    rot = rotation_transformer.inverse(rot)\n",
    "    uaction = np.concatenate([\n",
    "        pos, rot, gripper\n",
    "    ], axis=-1)\n",
    "\n",
    "    if raw_shape[-1] == 20:\n",
    "        # dual arm\n",
    "        uaction = uaction.reshape(*raw_shape[:-1], 14)\n",
    "\n",
    "    return uaction\n"
   ]
  },
  {
   "cell_type": "code",
   "execution_count": 13,
   "metadata": {},
   "outputs": [],
   "source": [
    "keys_select = ['agentview_image', 'robot0_eef_pos', 'robot0_eef_quat', 'robot0_eye_in_hand_image', 'robot0_gripper_qpos']\n",
    "\n",
    "imgs=[]\n",
    "\n",
    "env=robomimic_env\n",
    "\n",
    "framestacker=FrameStackForTrans(n_obs_steps)\n",
    "obs = env.reset()\n",
    "policy.reset()\n",
    "obs=framestacker.reset(obs)"
   ]
  },
  {
   "cell_type": "code",
   "execution_count": 14,
   "metadata": {},
   "outputs": [
    {
     "name": "stderr",
     "output_type": "stream",
     "text": [
      "/home/ns1254/miniforge3/envs/robodiff/lib/python3.9/site-packages/torch/nn/modules/conv.py:456: UserWarning: Applied workaround for CuDNN issue, install nvrtc.so (Triggered internally at ../aten/src/ATen/native/cudnn/Conv_v8.cpp:80.)\n",
      "  return F.conv2d(input, weight, bias, self.stride,\n"
     ]
    }
   ],
   "source": [
    "np_obs_dict = {key:obs[key][None,:]   for key in keys_select} \n",
    "obs_dict = dict_apply(np_obs_dict, lambda x: torch.from_numpy(x).to(device=device))\n",
    "\n",
    "with torch.no_grad():\n",
    "    action_dict = policy.predict_action(obs_dict) \n",
    "np_action_dict = dict_apply(action_dict, lambda x: x.detach().to('cpu').numpy())\n",
    "\n",
    "# step env\n",
    "env_action =  np_action_dict['action']\n",
    "env_action =  undo_transform_action(env_action)  \n",
    "env_action=env_action.squeeze()  "
   ]
  },
  {
   "cell_type": "code",
   "execution_count": 15,
   "metadata": {},
   "outputs": [
    {
     "data": {
      "text/plain": [
       "(1, 8, 10)"
      ]
     },
     "execution_count": 15,
     "metadata": {},
     "output_type": "execute_result"
    }
   ],
   "source": [
    "env_action =  np_action_dict['action']\n",
    "env_action.shape"
   ]
  },
  {
   "cell_type": "code",
   "execution_count": null,
   "metadata": {},
   "outputs": [],
   "source": []
  },
  {
   "cell_type": "code",
   "execution_count": 11,
   "metadata": {},
   "outputs": [],
   "source": [
    "class FrameStackForTrans:\n",
    "    def __init__(self, num_frames):\n",
    "        self.num_frames = num_frames\n",
    "        self.obs_history = {}\n",
    "        \n",
    "    def reset(self, init_obs):\n",
    "        \"\"\" \n",
    "        init_obs: dict of initial observation at the start of the episode\n",
    "        return stacked obs by repeating the first observation num_frames times\n",
    "        \"\"\"\n",
    "        \n",
    "        self.obs_history = {}\n",
    "        for k in init_obs:\n",
    "            self.obs_history[k] = deque([init_obs[k][None] for _ in range(self.num_frames)], maxlen=self.num_frames,)\n",
    "        obs = { k : np.concatenate(self.obs_history[k], axis=0) for k in self.obs_history }\n",
    "        return obs \n",
    "\n",
    "    def add_new_obs(self, new_obs):\n",
    "        \"\"\" \n",
    "        new_obs: dict of new observation at current timestep\n",
    "        return stacked obs\n",
    "        \"\"\"\n",
    "        for k in new_obs:\n",
    "            if 'timesteps' in k or 'actions' in k: continue\n",
    "            self.obs_history[k].append(new_obs[k][None])\n",
    "\n",
    "        obs= { k : np.concatenate(self.obs_history[k], axis=0) for k in self.obs_history }\n",
    "        return obs "
   ]
  },
  {
   "cell_type": "code",
   "execution_count": 11,
   "metadata": {},
   "outputs": [],
   "source": [
    "def rollout_diffusion(env, policy, n_obs_steps, n_action_steps, max_steps, return_imgs=False):\n",
    "    keys_select = ['agentview_image', 'robot0_eef_pos', 'robot0_eef_quat', 'robot0_eye_in_hand_image', 'robot0_gripper_qpos']\n",
    "\n",
    "    imgs=[]\n",
    "\n",
    "    framestacker=FrameStackForTrans(n_obs_steps)\n",
    "    obs = env.reset()\n",
    "    policy.reset()\n",
    "    obs=framestacker.reset(obs)\n",
    "    done = False\n",
    "    success = False\n",
    "    step =0\n",
    "    while not done:\n",
    "        np_obs_dict = {key:obs[key][None,:]   for key in keys_select} \n",
    "        obs_dict = dict_apply(np_obs_dict, lambda x: torch.from_numpy(x).to(device=device))\n",
    " \n",
    "        with torch.no_grad():\n",
    "            action_dict = policy.predict_action(obs_dict) \n",
    "        np_action_dict = dict_apply(action_dict, lambda x: x.detach().to('cpu').numpy())\n",
    "    \n",
    "        # step env\n",
    "        env_action =  np_action_dict['action']\n",
    "        env_action =  undo_transform_action(env_action)  \n",
    "        env_action=env_action.squeeze()  \n",
    "\n",
    "        #receding horizon control\n",
    "        for act in env_action:  \n",
    "            if return_imgs:\n",
    "                img = env.render(mode=\"rgb_array\", height=512, width=512, camera_name=\"agentview\")\n",
    "                imgs.append(img)\n",
    "\n",
    "            next_obs, reward, done, info = env.step(act)\n",
    "            success = env.is_success()[\"task\"] \n",
    "            step += 1\n",
    "            if step == max_steps:\n",
    "                done = True\n",
    "                break\n",
    "            \n",
    "            obs=framestacker.add_new_obs(next_obs)\n",
    "            if done or success:\n",
    "                # print(f'---------------------done={done} -- success={success}-------------- ')\n",
    "                done = True\n",
    "                break   \n",
    "\n",
    "        if done:\n",
    "            break \n",
    "    return success, imgs "
   ]
  },
  {
   "cell_type": "code",
   "execution_count": null,
   "metadata": {},
   "outputs": [],
   "source": []
  },
  {
   "cell_type": "code",
   "execution_count": 12,
   "metadata": {},
   "outputs": [
    {
     "name": "stderr",
     "output_type": "stream",
     "text": [
      "/home/ns1254/miniforge3/envs/robodiff/lib/python3.9/site-packages/torch/nn/modules/conv.py:456: UserWarning: Applied workaround for CuDNN issue, install nvrtc.so (Triggered internally at ../aten/src/ATen/native/cudnn/Conv_v8.cpp:80.)\n",
      "  return F.conv2d(input, weight, bias, self.stride,\n"
     ]
    },
    {
     "data": {
      "text/plain": [
       "(True, 149)"
      ]
     },
     "execution_count": 12,
     "metadata": {},
     "output_type": "execute_result"
    }
   ],
   "source": [
    "success, imgs = rollout_diffusion(robomimic_env, policy, n_obs_steps=2, n_action_steps=8, max_steps=400, return_imgs=True)\n",
    "success, len(imgs)"
   ]
  },
  {
   "cell_type": "code",
   "execution_count": null,
   "metadata": {},
   "outputs": [],
   "source": []
  },
  {
   "cell_type": "code",
   "execution_count": 14,
   "metadata": {},
   "outputs": [
    {
     "name": "stderr",
     "output_type": "stream",
     "text": [
      " 10%|█         | 1/10 [01:49<16:23, 109.23s/it]"
     ]
    },
    {
     "name": "stdout",
     "output_type": "stream",
     "text": [
      "i=0 success=False\n"
     ]
    },
    {
     "name": "stderr",
     "output_type": "stream",
     "text": [
      " 20%|██        | 2/10 [03:39<14:38, 109.80s/it]"
     ]
    },
    {
     "name": "stdout",
     "output_type": "stream",
     "text": [
      "i=1 success=False\n"
     ]
    },
    {
     "name": "stderr",
     "output_type": "stream",
     "text": [
      " 30%|███       | 3/10 [05:29<12:49, 109.94s/it]"
     ]
    },
    {
     "name": "stdout",
     "output_type": "stream",
     "text": [
      "i=2 success=False\n"
     ]
    },
    {
     "name": "stderr",
     "output_type": "stream",
     "text": [
      " 40%|████      | 4/10 [05:59<07:51, 78.53s/it] "
     ]
    },
    {
     "name": "stdout",
     "output_type": "stream",
     "text": [
      "i=3 success=True\n"
     ]
    },
    {
     "name": "stderr",
     "output_type": "stream",
     "text": [
      " 50%|█████     | 5/10 [07:50<07:30, 90.10s/it]"
     ]
    },
    {
     "name": "stdout",
     "output_type": "stream",
     "text": [
      "i=4 success=False\n"
     ]
    },
    {
     "name": "stderr",
     "output_type": "stream",
     "text": [
      " 60%|██████    | 6/10 [09:40<06:27, 96.86s/it]"
     ]
    },
    {
     "name": "stdout",
     "output_type": "stream",
     "text": [
      "i=5 success=False\n"
     ]
    },
    {
     "name": "stderr",
     "output_type": "stream",
     "text": [
      " 70%|███████   | 7/10 [11:29<05:02, 100.82s/it]"
     ]
    },
    {
     "name": "stdout",
     "output_type": "stream",
     "text": [
      "i=6 success=False\n"
     ]
    },
    {
     "name": "stderr",
     "output_type": "stream",
     "text": [
      " 80%|████████  | 8/10 [12:01<02:37, 78.89s/it] "
     ]
    },
    {
     "name": "stdout",
     "output_type": "stream",
     "text": [
      "i=7 success=True\n"
     ]
    },
    {
     "name": "stderr",
     "output_type": "stream",
     "text": [
      " 90%|█████████ | 9/10 [12:31<01:03, 63.70s/it]"
     ]
    },
    {
     "name": "stdout",
     "output_type": "stream",
     "text": [
      "i=8 success=True\n"
     ]
    },
    {
     "name": "stderr",
     "output_type": "stream",
     "text": [
      "100%|██████████| 10/10 [13:19<00:00, 79.98s/it]"
     ]
    },
    {
     "name": "stdout",
     "output_type": "stream",
     "text": [
      "i=9 success=True\n",
      "mean success: 0.4\n"
     ]
    },
    {
     "name": "stderr",
     "output_type": "stream",
     "text": [
      "\n"
     ]
    }
   ],
   "source": [
    "successs=[]\n",
    "for i in tqdm.tqdm(range(10)):\n",
    "    success, imgs = rollout_diffusion(robomimic_env, policy, n_obs_steps=2, n_action_steps=8, max_steps=400, return_imgs=True)\n",
    "    successs.append(success)\n",
    "    print(f\"i={i} success={success}\")\n",
    "\n",
    "mean_success = np.mean(successs)\n",
    "print('mean success:', mean_success)"
   ]
  },
  {
   "cell_type": "code",
   "execution_count": null,
   "metadata": {},
   "outputs": [],
   "source": []
  },
  {
   "cell_type": "code",
   "execution_count": null,
   "metadata": {},
   "outputs": [],
   "source": []
  },
  {
   "cell_type": "code",
   "execution_count": 13,
   "metadata": {},
   "outputs": [],
   "source": [
    "import imageio\n",
    "# imgs2=[np.transpose(img, (1,2,0)) for img in imgs]\n",
    "imageio.mimsave(\"eval_env3.gif\", imgs , duration=0.1)"
   ]
  },
  {
   "cell_type": "code",
   "execution_count": null,
   "metadata": {},
   "outputs": [],
   "source": []
  },
  {
   "cell_type": "code",
   "execution_count": null,
   "metadata": {},
   "outputs": [],
   "source": []
  },
  {
   "cell_type": "code",
   "execution_count": null,
   "metadata": {},
   "outputs": [],
   "source": []
  },
  {
   "cell_type": "code",
   "execution_count": null,
   "metadata": {},
   "outputs": [],
   "source": []
  },
  {
   "cell_type": "code",
   "execution_count": null,
   "metadata": {},
   "outputs": [],
   "source": []
  },
  {
   "cell_type": "code",
   "execution_count": null,
   "metadata": {},
   "outputs": [],
   "source": []
  }
 ],
 "metadata": {
  "kernelspec": {
   "display_name": "Python 3",
   "language": "python",
   "name": "python3"
  },
  "language_info": {
   "codemirror_mode": {
    "name": "ipython",
    "version": 3
   },
   "file_extension": ".py",
   "mimetype": "text/x-python",
   "name": "python",
   "nbconvert_exporter": "python",
   "pygments_lexer": "ipython3",
   "version": "3.9.18"
  }
 },
 "nbformat": 4,
 "nbformat_minor": 2
}
