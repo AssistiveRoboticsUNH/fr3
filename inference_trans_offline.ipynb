{
 "cells": [
  {
   "cell_type": "code",
   "execution_count": null,
   "metadata": {},
   "outputs": [],
   "source": [
    "import json\n",
    "import numpy as np\n",
    "import time\n",
    "import os \n",
    "import psutil \n",
    "from collections import OrderedDict\n",
    "\n",
    "import torch\n",
    "from torch.utils.data import DataLoader\n",
    " \n",
    "import robomimic.utils.train_utils as TrainUtils\n",
    "import robomimic.utils.torch_utils as TorchUtils\n",
    "import robomimic.utils.tensor_utils as TensorUtils\n",
    "import robomimic.utils.obs_utils as ObsUtils\n",
    "import robomimic.utils.env_utils as EnvUtils\n",
    "import robomimic.utils.file_utils as FileUtils\n",
    "from robomimic.config import config_factory\n",
    "from robomimic.algo import algo_factory, RolloutPolicy\n",
    "from robomimic.utils.log_utils import PrintLogger, DataLogger, flush_warnings\n",
    "import imageio \n",
    "\n",
    "import matplotlib.pyplot as plt\n",
    "\n",
    "from robomimic.envs.wrappers import EnvWrapper\n",
    "from copy import deepcopy\n",
    "import textwrap\n",
    "import numpy as np\n",
    "from collections import deque\n",
    "\n",
    "np.set_printoptions(precision=3, suppress=True)"
   ]
  },
  {
   "cell_type": "code",
   "execution_count": null,
   "metadata": {},
   "outputs": [],
   "source": [
    "ckpt_path = \"/home/franka_deoxys/data_franka/lift_blue/policy/trans_epoch_140_lift_blue.pth\"\n",
    "assert os.path.exists(ckpt_path)"
   ]
  },
  {
   "cell_type": "code",
   "execution_count": null,
   "metadata": {},
   "outputs": [],
   "source": []
  },
  {
   "cell_type": "code",
   "execution_count": null,
   "metadata": {},
   "outputs": [],
   "source": [
    "from copy import deepcopy\n",
    "def rollout(policy, env, horizon, render=False, video_writer=None, video_skip=5, camera_names=None):\n",
    "    \"\"\"\n",
    "    Helper function to carry out rollouts. Supports on-screen rendering, off-screen rendering to a video, \n",
    "    and returns the rollout trajectory.\n",
    "    Args:\n",
    "        policy (instance of RolloutPolicy): policy loaded from a checkpoint\n",
    "        env (instance of EnvBase): env loaded from a checkpoint or demonstration metadata\n",
    "        horizon (int): maximum horizon for the rollout\n",
    "        render (bool): whether to render rollout on-screen\n",
    "        video_writer (imageio writer): if provided, use to write rollout to video\n",
    "        video_skip (int): how often to write video frames\n",
    "        camera_names (list): determines which camera(s) are used for rendering. Pass more than\n",
    "            one to output a video with multiple camera views concatenated horizontally.\n",
    "    Returns:\n",
    "        stats (dict): some statistics for the rollout - such as return, horizon, and task success\n",
    "    \"\"\"\n",
    " \n",
    "    policy.start_episode()\n",
    "    obs = env.reset()\n",
    "    state_dict = env.get_state()\n",
    "\n",
    "    # hack that is necessary for robosuite tasks for deterministic action playback\n",
    "    obs = env.reset_to(state_dict)\n",
    "\n",
    "    results = {}\n",
    "    video_count = 0  # video frame counter\n",
    "    total_reward = 0.\n",
    "    try:\n",
    "        for step_i in range(horizon):\n",
    "            act = policy(ob=obs)\n",
    "            next_obs, r, done, _ = env.step(act)\n",
    "            total_reward += r\n",
    "            success = env.is_success()[\"task\"]\n",
    "\n",
    "            if video_writer is not None:\n",
    "                if video_count % video_skip == 0:\n",
    "                    video_img = []\n",
    "                    for cam_name in camera_names:\n",
    "                        video_img.append(env.render(mode=\"rgb_array\", height=512, width=512, camera_name=cam_name))\n",
    "                    video_img = np.concatenate(video_img, axis=1) # concatenate horizontally\n",
    "                    video_writer.append_data(video_img)\n",
    "                video_count += 1\n",
    "\n",
    "            if done or success:\n",
    "                break\n",
    "\n",
    "            # update for next iter\n",
    "            obs = deepcopy(next_obs)\n",
    "            state_dict = env.get_state()\n",
    "\n",
    "    except env.rollout_exceptions as e:\n",
    "        print(\"WARNING: got rollout exception {}\".format(e))\n",
    "    stats = dict(Return=total_reward, Horizon=(step_i + 1), Success_Rate=float(success))\n",
    "\n",
    "    return stats"
   ]
  },
  {
   "cell_type": "code",
   "execution_count": null,
   "metadata": {},
   "outputs": [],
   "source": [
    "device = TorchUtils.get_torch_device(try_to_use_cuda=True)\n",
    "\n",
    "# restore policy\n",
    "policy, ckpt_dict = FileUtils.policy_from_checkpoint(ckpt_path=ckpt_path, device=device, verbose=False)\n",
    "ckpt_dict = FileUtils.maybe_dict_from_checkpoint(ckpt_path=ckpt_path, ckpt_dict=None)\n",
    "# algo name and config from model dict\n",
    "algo_name, _ = FileUtils.algo_name_from_checkpoint(ckpt_dict=ckpt_dict)\n",
    "config, _ = FileUtils.config_from_checkpoint(algo_name=algo_name, ckpt_dict=ckpt_dict, verbose=False)"
   ]
  },
  {
   "cell_type": "code",
   "execution_count": null,
   "metadata": {},
   "outputs": [],
   "source": []
  },
  {
   "cell_type": "code",
   "execution_count": null,
   "metadata": {},
   "outputs": [],
   "source": [
    "config.unlock()\n",
    "config.train.data=\"/home/franka_deoxys/data_franka/lift_blue/lift_blue_imgs30.hdf5\"\n",
    "config.lock() \n",
    "config.train.data"
   ]
  },
  {
   "cell_type": "code",
   "execution_count": null,
   "metadata": {},
   "outputs": [],
   "source": []
  },
  {
   "cell_type": "code",
   "execution_count": null,
   "metadata": {},
   "outputs": [],
   "source": [
    "class FrameStackWrapper(EnvWrapper):\n",
    "    \"\"\"\n",
    "    Wrapper for frame stacking observations during rollouts. The agent\n",
    "    receives a sequence of past observations instead of a single observation\n",
    "    when it calls @env.reset, @env.reset_to, or @env.step in the rollout loop.\n",
    "    \"\"\"\n",
    "    def __init__(self, env, num_frames):\n",
    "        \"\"\"\n",
    "        Args:\n",
    "            env (EnvBase instance): The environment to wrap.\n",
    "            num_frames (int): number of past observations (including current observation)\n",
    "                to stack together. Must be greater than 1 (otherwise this wrapper would\n",
    "                be a no-op).\n",
    "        \"\"\"\n",
    "        assert num_frames > 1, \"error: FrameStackWrapper must have num_frames > 1 but got num_frames of {}\".format(num_frames)\n",
    "\n",
    "        super(FrameStackWrapper, self).__init__(env=env)\n",
    "        self.num_frames = num_frames\n",
    "\n",
    "        # keep track of last @num_frames observations for each obs key\n",
    "        self.obs_history = None\n",
    "\n",
    "    def _get_initial_obs_history(self, init_obs):\n",
    "        \"\"\"\n",
    "        Helper method to get observation history from the initial observation, by\n",
    "        repeating it.\n",
    "\n",
    "        Returns:\n",
    "            obs_history (dict): a deque for each observation key, with an extra\n",
    "                leading dimension of 1 for each key (for easy concatenation later)\n",
    "        \"\"\"\n",
    "        obs_history = {}\n",
    "        for k in init_obs:\n",
    "            obs_history[k] = deque(\n",
    "                [init_obs[k][None] for _ in range(self.num_frames)], \n",
    "                maxlen=self.num_frames,\n",
    "            )\n",
    "        return obs_history\n",
    "\n",
    "    def _get_stacked_obs_from_history(self):\n",
    "        \"\"\"\n",
    "        Helper method to convert internal variable @self.obs_history to a \n",
    "        stacked observation where each key is a numpy array with leading dimension\n",
    "        @self.num_frames.\n",
    "        \"\"\"\n",
    "        # concatenate all frames per key so we return a numpy array per key\n",
    "        return { k : np.concatenate(self.obs_history[k], axis=0) for k in self.obs_history }\n",
    "\n",
    "    def cache_obs_history(self):\n",
    "        self.obs_history_cache = deepcopy(self.obs_history)\n",
    "\n",
    "    def uncache_obs_history(self):\n",
    "        self.obs_history = self.obs_history_cache\n",
    "        self.obs_history_cache = None\n",
    "\n",
    "    def reset(self):\n",
    "        \"\"\"\n",
    "        Modify to return frame stacked observation which is @self.num_frames copies of \n",
    "        the initial observation.\n",
    "\n",
    "        Returns:\n",
    "            obs_stacked (dict): each observation key in original observation now has\n",
    "                leading shape @self.num_frames and consists of the previous @self.num_frames\n",
    "                observations\n",
    "        \"\"\"\n",
    "        obs = self.env.reset()\n",
    "        self.timestep = 0  # always zero regardless of timestep type\n",
    "        self.update_obs(obs, reset=True)\n",
    "        self.obs_history = self._get_initial_obs_history(init_obs=obs)\n",
    "        return self._get_stacked_obs_from_history()\n",
    "\n",
    "    def reset_to(self, state):\n",
    "        \"\"\"\n",
    "        Modify to return frame stacked observation which is @self.num_frames copies of \n",
    "        the initial observation.\n",
    "\n",
    "        Returns:\n",
    "            obs_stacked (dict): each observation key in original observation now has\n",
    "                leading shape @self.num_frames and consists of the previous @self.num_frames\n",
    "                observations\n",
    "        \"\"\"\n",
    "        obs = self.env.reset_to(state)\n",
    "        self.timestep = 0  # always zero regardless of timestep type\n",
    "        self.update_obs(obs, reset=True)\n",
    "        self.obs_history = self._get_initial_obs_history(init_obs=obs)\n",
    "        return self._get_stacked_obs_from_history()\n",
    "\n",
    "    def step(self, action):\n",
    "        \"\"\"\n",
    "        Modify to update the internal frame history and return frame stacked observation,\n",
    "        which will have leading dimension @self.num_frames for each key.\n",
    "\n",
    "        Args:\n",
    "            action (np.array): action to take\n",
    "\n",
    "        Returns:\n",
    "            obs_stacked (dict): each observation key in original observation now has\n",
    "                leading shape @self.num_frames and consists of the previous @self.num_frames\n",
    "                observations\n",
    "            reward (float): reward for this step\n",
    "            done (bool): whether the task is done\n",
    "            info (dict): extra information\n",
    "        \"\"\"\n",
    "        obs, r, done, info = self.env.step(action)\n",
    "        self.update_obs(obs, action=action, reset=False)\n",
    "        # update frame history\n",
    "        for k in obs:\n",
    "            # make sure to have leading dim of 1 for easy concatenation\n",
    "            self.obs_history[k].append(obs[k][None])\n",
    "        obs_ret = self._get_stacked_obs_from_history()\n",
    "        return obs_ret, r, done, info\n",
    "\n",
    "    def update_obs(self, obs, action=None, reset=False):\n",
    "        obs[\"timesteps\"] = np.array([self.timestep])\n",
    "        \n",
    "        if reset:\n",
    "            obs[\"actions\"] = np.zeros(self.env.action_dimension)\n",
    "        else:\n",
    "            self.timestep += 1\n",
    "            obs[\"actions\"] = action[: self.env.action_dimension]\n",
    "\n",
    "    def _to_string(self):\n",
    "        \"\"\"Info to pretty print.\"\"\"\n",
    "        return \"num_frames={}\".format(self.num_frames)"
   ]
  },
  {
   "cell_type": "code",
   "execution_count": null,
   "metadata": {},
   "outputs": [],
   "source": [
    "ObsUtils.initialize_obs_utils_with_config(config)\n",
    "\n",
    "env_meta = FileUtils.get_env_metadata_from_dataset(dataset_path=config.train.data)\n",
    "shape_meta = FileUtils.get_shape_metadata_from_dataset(\n",
    "    dataset_path=config.train.data,\n",
    "    all_obs_keys=config.all_obs_keys,\n",
    "    verbose=True\n",
    ")\n",
    "\n",
    " "
   ]
  },
  {
   "cell_type": "code",
   "execution_count": null,
   "metadata": {},
   "outputs": [],
   "source": []
  },
  {
   "cell_type": "code",
   "execution_count": null,
   "metadata": {},
   "outputs": [],
   "source": [
    "# env = EnvUtils.wrap_env_from_config(env0, config=config) # apply environment warpper, if applicable\n",
    "env = FrameStackWrapper(env0, num_frames=config.train.frame_stack)"
   ]
  },
  {
   "cell_type": "code",
   "execution_count": null,
   "metadata": {},
   "outputs": [],
   "source": []
  },
  {
   "cell_type": "code",
   "execution_count": null,
   "metadata": {},
   "outputs": [],
   "source": [
    "rs=[]\n",
    "for i in range(5):\n",
    "    stats=rollout(policy, env, 500)\n",
    "    rs.append(stats['Return'])\n",
    "    print('i=',i,' stats=', stats)\n",
    "np.mean(rs)"
   ]
  },
  {
   "cell_type": "code",
   "execution_count": null,
   "metadata": {},
   "outputs": [],
   "source": []
  },
  {
   "cell_type": "markdown",
   "metadata": {},
   "source": [
    "### one episode"
   ]
  },
  {
   "cell_type": "code",
   "execution_count": null,
   "metadata": {},
   "outputs": [],
   "source": [
    "policy.start_episode()\n",
    "obs = env.reset()\n",
    "state_dict = env.get_state()\n",
    "\n",
    "# hack that is necessary for robosuite tasks for deterministic action playback\n",
    "obs = env.reset_to(state_dict)\n",
    "horizon = 500"
   ]
  },
  {
   "cell_type": "code",
   "execution_count": null,
   "metadata": {},
   "outputs": [],
   "source": [
    "obs['agentview_image'].shape"
   ]
  },
  {
   "cell_type": "code",
   "execution_count": null,
   "metadata": {},
   "outputs": [],
   "source": [
    "for step_i in range(horizon):\n",
    "    act = policy(ob=obs)\n",
    "    next_obs, r, done, _ = env.step(act)\n",
    "    success = env.is_success()[\"task\"]\n",
    "    if done or success:\n",
    "        break \n",
    "    # update for next iter\n",
    "    obs = deepcopy(next_obs) \n",
    "\n",
    "print('success: ', success, step_i)"
   ]
  },
  {
   "cell_type": "code",
   "execution_count": null,
   "metadata": {},
   "outputs": [],
   "source": []
  },
  {
   "cell_type": "markdown",
   "metadata": {},
   "source": [
    "### one episode on the original unwrapped env"
   ]
  },
  {
   "cell_type": "code",
   "execution_count": null,
   "metadata": {},
   "outputs": [],
   "source": [
    "def stacked_get_init(init_obs, num_frames):\n",
    "    obs_history = {}\n",
    "    for k in init_obs:\n",
    "        obs_history[k] = deque([init_obs[k][None] for _ in range(num_frames)], maxlen=num_frames,)\n",
    "    obs = { k : np.concatenate(obs_history[k], axis=0) for k in obs_history }\n",
    "    return obs_history, obs \n",
    "\n",
    "def stacked_add_new(obs_history, new_obs):\n",
    "    for k in new_obs:\n",
    "        if 'timesteps' in k or 'actions' in k: continue\n",
    "        obs_history[k].append(new_obs[k][None])\n",
    "\n",
    "    obs= { k : np.concatenate(obs_history[k], axis=0) for k in obs_history }\n",
    "    return obs_history, obs "
   ]
  },
  {
   "cell_type": "code",
   "execution_count": null,
   "metadata": {},
   "outputs": [],
   "source": [
    "policy.start_episode()\n",
    "obs = env0.reset()\n",
    "state_dict = env0.get_state()\n",
    "\n",
    "\n",
    "all_obs=[]\n",
    "all_actions=[]\n",
    "\n",
    "# hack that is necessary for robosuite tasks for deterministic action playback\n",
    "init_obs = env0.reset_to(state_dict)\n",
    "horizon = 500\n",
    "num_frames=10\n",
    "\n",
    "all_obs.append(init_obs)\n",
    "\n",
    "init_obs['agentview_image'].shape"
   ]
  },
  {
   "cell_type": "code",
   "execution_count": null,
   "metadata": {},
   "outputs": [],
   "source": [
    "obs_history, obs = stacked_get_init(init_obs, num_frames)\n",
    "obs['agentview_image'].shape"
   ]
  },
  {
   "cell_type": "code",
   "execution_count": null,
   "metadata": {},
   "outputs": [],
   "source": [
    "for step_i in range(horizon):\n",
    "    act = policy(ob=obs)\n",
    "    all_actions.append(act)\n",
    "\n",
    "    next_obs, r, done, info =  env0.step(act)\n",
    "\n",
    "    success = env.is_success()[\"task\"]\n",
    "    if done or success:\n",
    "        break \n",
    "\n",
    "    all_obs.append(next_obs)\n",
    "    obs_history, obs = stacked_add_new(obs_history, next_obs)\n",
    "     \n",
    "print('success: ', success, step_i)"
   ]
  },
  {
   "cell_type": "code",
   "execution_count": null,
   "metadata": {},
   "outputs": [],
   "source": [
    "all_actions=np.stack(all_actions)\n",
    "all_actions.shape  , len(all_obs)"
   ]
  },
  {
   "cell_type": "code",
   "execution_count": null,
   "metadata": {},
   "outputs": [],
   "source": [
    "all_obss={key: [] for key in all_obs[0].keys()}\n",
    "\n",
    "for i in range(len(all_obs)):\n",
    "    for key in all_obs[i].keys(): \n",
    "        if 'image' in key:\n",
    "            all_obs[i][key]=all_obs[i][key].transpose(2, 1, 0)\n",
    "        all_obss[key].append(all_obs[i][key][None])\n",
    "\n",
    "# for key in next_obs.keys():\n",
    "#     if 'image' in key:\n",
    "#         next_obs[key]=next_obs[key].transpose(2, 1, 0)\n",
    "\n",
    "for key in all_obss.keys():\n",
    "    all_obss[key]=np.concatenate(all_obss[key], axis=0)"
   ]
  },
  {
   "cell_type": "code",
   "execution_count": null,
   "metadata": {},
   "outputs": [],
   "source": [
    "for key in all_obss.keys():\n",
    "    print(key, all_obss[key].shape)"
   ]
  },
  {
   "cell_type": "code",
   "execution_count": null,
   "metadata": {},
   "outputs": [],
   "source": []
  },
  {
   "cell_type": "code",
   "execution_count": null,
   "metadata": {},
   "outputs": [],
   "source": []
  },
  {
   "cell_type": "markdown",
   "metadata": {},
   "source": [
    "### inference test on the rollout"
   ]
  },
  {
   "cell_type": "code",
   "execution_count": null,
   "metadata": {},
   "outputs": [],
   "source": [
    "obss=all_obss\n",
    "action_org = all_actions\n",
    "T = action_org.shape[0]\n",
    "\n",
    "action_org.shape , T "
   ]
  },
  {
   "cell_type": "code",
   "execution_count": null,
   "metadata": {},
   "outputs": [],
   "source": [
    "obs_0={k:obss[k][0] for k in obss.keys()}\n",
    "for key in obs_0.keys():\n",
    "    if 'image' in key:\n",
    "        obs_0[key]=obs_0[key].transpose(2, 1, 0)\n",
    "\n",
    "init_obs = obs_0\n",
    "obs_history, obs = stacked_get_init(init_obs, num_frames)\n",
    "obs['agentview_image'].shape"
   ]
  },
  {
   "cell_type": "code",
   "execution_count": null,
   "metadata": {},
   "outputs": [],
   "source": [
    "action_pred=[]\n",
    "for t in range(T):\n",
    "    next_obs={k:obss[k][t] for k in obss.keys()}\n",
    "    for key in next_obs.keys():\n",
    "        if 'image' in key:\n",
    "            next_obs[key]=next_obs[key].transpose(2, 1, 0)\n",
    "\n",
    "    if t==0:\n",
    "        obs_history, obs = stacked_get_init(next_obs, num_frames)\n",
    "    else:\n",
    "        obs_history, obs = stacked_add_new(obs_history, next_obs)\n",
    "    act = policy(ob=obs)\n",
    "    action_pred.append(act)\n",
    "action_pred = np.stack(action_pred)"
   ]
  },
  {
   "cell_type": "code",
   "execution_count": null,
   "metadata": {},
   "outputs": [],
   "source": [
    "action_pred.shape"
   ]
  },
  {
   "cell_type": "code",
   "execution_count": null,
   "metadata": {},
   "outputs": [],
   "source": [
    "plt.plot(action_org, color='blue')\n",
    "plt.plot(action_pred, color='red')\n",
    "plt.show()"
   ]
  },
  {
   "cell_type": "code",
   "execution_count": null,
   "metadata": {},
   "outputs": [],
   "source": []
  },
  {
   "cell_type": "code",
   "execution_count": null,
   "metadata": {},
   "outputs": [],
   "source": []
  },
  {
   "cell_type": "code",
   "execution_count": null,
   "metadata": {},
   "outputs": [],
   "source": []
  },
  {
   "cell_type": "code",
   "execution_count": null,
   "metadata": {},
   "outputs": [],
   "source": []
  },
  {
   "cell_type": "markdown",
   "metadata": {},
   "source": [
    "### Inference on offline trajectory"
   ]
  },
  {
   "cell_type": "code",
   "execution_count": null,
   "metadata": {},
   "outputs": [],
   "source": [
    "trainset, validset = TrainUtils.load_data_for_training(\n",
    "    config, obs_keys=shape_meta[\"all_obs_keys\"])\n",
    "len(trainset.demos)"
   ]
  },
  {
   "cell_type": "code",
   "execution_count": null,
   "metadata": {},
   "outputs": [],
   "source": [
    "demo_name = 'demo_1'\n",
    "demo_name = 'demo_33'\n",
    "demo=trainset.hdf5_file['data'][demo_name]\n",
    "action_org=demo['actions']\n",
    "obss = demo['obs']\n",
    "T = action_org.shape[0]\n",
    "\n",
    "action_org.shape , T "
   ]
  },
  {
   "cell_type": "code",
   "execution_count": null,
   "metadata": {},
   "outputs": [],
   "source": [
    "obs_0={k:obss[k][0] for k in obss.keys()}\n",
    "for key in obs_0.keys():\n",
    "    if 'image' in key:\n",
    "        obs_0[key]=obs_0[key].transpose(2, 1, 0)\n",
    "\n",
    "init_obs = obs_0\n",
    "obs_history, obs = stacked_get_init(init_obs, num_frames)\n",
    "obs['agentview_image'].shape"
   ]
  },
  {
   "cell_type": "code",
   "execution_count": null,
   "metadata": {},
   "outputs": [],
   "source": [
    "action_pred=[]\n",
    "for t in range(T):\n",
    "    next_obs={k:obss[k][t] for k in obss.keys()}\n",
    "    for key in next_obs.keys():\n",
    "        if 'image' in key:\n",
    "            next_obs[key]=next_obs[key].transpose(2, 1, 0)\n",
    "\n",
    "    if t==0:\n",
    "        obs_history, obs = stacked_get_init(next_obs, num_frames)\n",
    "    else:\n",
    "        obs_history, obs = stacked_add_new(obs_history, next_obs)\n",
    "    act = policy(ob=obs)\n",
    "    action_pred.append(act)\n",
    "action_pred = np.stack(action_pred)"
   ]
  },
  {
   "cell_type": "code",
   "execution_count": null,
   "metadata": {},
   "outputs": [],
   "source": [
    "action_pred.shape"
   ]
  },
  {
   "cell_type": "code",
   "execution_count": null,
   "metadata": {},
   "outputs": [],
   "source": [
    "plt.plot(action_org, color='blue')\n",
    "plt.plot(action_pred, color='red')\n",
    "plt.show()"
   ]
  },
  {
   "cell_type": "code",
   "execution_count": null,
   "metadata": {},
   "outputs": [],
   "source": []
  },
  {
   "cell_type": "code",
   "execution_count": null,
   "metadata": {},
   "outputs": [],
   "source": []
  },
  {
   "cell_type": "code",
   "execution_count": null,
   "metadata": {},
   "outputs": [],
   "source": []
  },
  {
   "cell_type": "code",
   "execution_count": null,
   "metadata": {},
   "outputs": [],
   "source": []
  },
  {
   "cell_type": "code",
   "execution_count": null,
   "metadata": {},
   "outputs": [],
   "source": []
  },
  {
   "cell_type": "code",
   "execution_count": null,
   "metadata": {},
   "outputs": [],
   "source": []
  },
  {
   "cell_type": "markdown",
   "metadata": {},
   "source": [
    "### transformer inference analysis"
   ]
  },
  {
   "cell_type": "code",
   "execution_count": null,
   "metadata": {},
   "outputs": [],
   "source": [
    "policy.start_episode()\n",
    "obs = env.reset()\n",
    "state_dict = env.get_state()"
   ]
  },
  {
   "cell_type": "code",
   "execution_count": null,
   "metadata": {},
   "outputs": [],
   "source": [
    "# hack that is necessary for robosuite tasks for deterministic action playback\n",
    "obs = env.reset_to(state_dict)\n",
    "\n",
    "results = {}\n",
    "video_count = 0  # video frame counter\n",
    "total_reward = 0."
   ]
  },
  {
   "cell_type": "code",
   "execution_count": null,
   "metadata": {},
   "outputs": [],
   "source": [
    "obs.keys(), obs['agentview_image'].shape, obs['robot0_eef_pos'].shape"
   ]
  },
  {
   "cell_type": "code",
   "execution_count": null,
   "metadata": {},
   "outputs": [],
   "source": []
  },
  {
   "cell_type": "code",
   "execution_count": null,
   "metadata": {},
   "outputs": [],
   "source": [
    "obs['robot0_eef_pos']"
   ]
  },
  {
   "cell_type": "code",
   "execution_count": null,
   "metadata": {},
   "outputs": [],
   "source": [
    "act = policy(ob=obs)\n",
    "act.shape"
   ]
  },
  {
   "cell_type": "code",
   "execution_count": null,
   "metadata": {},
   "outputs": [],
   "source": [
    "for k in obs.keys():\n",
    "    print(k, obs[k].shape)"
   ]
  },
  {
   "cell_type": "code",
   "execution_count": null,
   "metadata": {},
   "outputs": [],
   "source": [
    "obs['actions']"
   ]
  },
  {
   "cell_type": "code",
   "execution_count": null,
   "metadata": {},
   "outputs": [],
   "source": []
  },
  {
   "cell_type": "code",
   "execution_count": null,
   "metadata": {},
   "outputs": [],
   "source": [
    "obs['robot0_eef_pos']"
   ]
  },
  {
   "cell_type": "code",
   "execution_count": null,
   "metadata": {},
   "outputs": [],
   "source": [
    "act = policy(ob=obs)\n",
    "act "
   ]
  },
  {
   "cell_type": "code",
   "execution_count": null,
   "metadata": {},
   "outputs": [],
   "source": [
    "obs, r, done, _ = env.step(act)\n",
    "obs['robot0_eef_pos']"
   ]
  },
  {
   "cell_type": "code",
   "execution_count": null,
   "metadata": {},
   "outputs": [],
   "source": [
    "act = policy(ob=obs)\n",
    "act "
   ]
  },
  {
   "cell_type": "code",
   "execution_count": null,
   "metadata": {},
   "outputs": [],
   "source": [
    "obs, r, done, _ = env.step(act)\n",
    "obs['robot0_eef_pos']"
   ]
  },
  {
   "cell_type": "code",
   "execution_count": null,
   "metadata": {},
   "outputs": [],
   "source": [
    "act = policy(ob=obs)\n",
    "obs, r, done, _ = env.step(act)\n",
    "obs['robot0_eef_pos']"
   ]
  },
  {
   "cell_type": "code",
   "execution_count": null,
   "metadata": {},
   "outputs": [],
   "source": [
    "act = policy(ob=obs)\n",
    "obs, r, done, _ = env.step(act)\n",
    "obs['robot0_eef_pos']"
   ]
  },
  {
   "cell_type": "code",
   "execution_count": null,
   "metadata": {},
   "outputs": [],
   "source": [
    "act = policy(ob=obs)\n",
    "obs, r, done, _ = env.step(act)\n",
    "obs['robot0_eef_pos']"
   ]
  },
  {
   "cell_type": "code",
   "execution_count": null,
   "metadata": {},
   "outputs": [],
   "source": []
  },
  {
   "cell_type": "code",
   "execution_count": null,
   "metadata": {},
   "outputs": [],
   "source": []
  },
  {
   "cell_type": "markdown",
   "metadata": {},
   "source": [
    "### inference on training trajectory"
   ]
  },
  {
   "cell_type": "code",
   "execution_count": null,
   "metadata": {},
   "outputs": [],
   "source": [
    "trainset, validset = TrainUtils.load_data_for_training(\n",
    "    config, obs_keys=shape_meta[\"all_obs_keys\"])\n",
    "len(trainset.demos)"
   ]
  },
  {
   "cell_type": "code",
   "execution_count": null,
   "metadata": {},
   "outputs": [],
   "source": [
    "demo=trainset.hdf5_file['data']['demo_1']\n",
    "demo.keys()"
   ]
  },
  {
   "cell_type": "code",
   "execution_count": null,
   "metadata": {},
   "outputs": [],
   "source": [
    "action_org=demo['actions']\n",
    "action_org.shape"
   ]
  },
  {
   "cell_type": "code",
   "execution_count": null,
   "metadata": {},
   "outputs": [],
   "source": [
    "obss=demo['obs']\n",
    "N=obss['robot0_eye_in_hand_image'].shape[0]\n",
    "N, obss.keys()"
   ]
  },
  {
   "cell_type": "code",
   "execution_count": null,
   "metadata": {},
   "outputs": [],
   "source": [
    "def get_trans_obs(obs10, t):\n",
    "    \n",
    "    if obs10 is None and t>0:\n",
    "        print('please provide obs10 for t>0')\n",
    "        return None\n",
    "\n",
    "    obs_t={k:np.expand_dims(obss[k][t], axis=0) for k in obss.keys()}\n",
    "    for key in obs_t.keys():\n",
    "        if 'image' in key:\n",
    "            obs_t[key]=obs_t[key].transpose(0, 3, 1, 2)\n",
    "     \n",
    "    if obs10 is None and t==0: \n",
    "        obs10={k:np.repeat(obs_t[k], 10, axis=0) for k in obs_t.keys()}        #initial repeated 10 times\n",
    "    else: \n",
    "        obs10={k:np.concatenate([obs10[k][1:], obs_t[k]], axis=0) for k in obs10.keys()}\n",
    "    \n",
    "    obs10=TensorUtils.to_tensor(obs10)\n",
    "    return obs10"
   ]
  },
  {
   "cell_type": "code",
   "execution_count": null,
   "metadata": {},
   "outputs": [],
   "source": [
    "t=0\n",
    "# obs_t={k:np.expand_dims(obss[k][t], axis=0) for k in obss.keys()}\n",
    "# obs10={k:np.repeat(obs_t[k], 10, axis=0) for k in obs_t.keys()}        #initial repeated 10 times\n",
    "\n",
    "obs10=get_trans_obs(None, 0)\n",
    "for key in obs10.keys():\n",
    "    print(key, obs10[key].shape) \n",
    "  "
   ]
  },
  {
   "cell_type": "code",
   "execution_count": null,
   "metadata": {},
   "outputs": [],
   "source": [
    "obs10['robot0_eef_pos']"
   ]
  },
  {
   "cell_type": "code",
   "execution_count": null,
   "metadata": {},
   "outputs": [],
   "source": [
    "obs10=get_trans_obs(obs10, 1)"
   ]
  },
  {
   "cell_type": "code",
   "execution_count": null,
   "metadata": {},
   "outputs": [],
   "source": [
    "obs10['robot0_eef_pos']"
   ]
  },
  {
   "cell_type": "code",
   "execution_count": null,
   "metadata": {},
   "outputs": [],
   "source": [
    "obs10=get_trans_obs(obs10, 2)\n",
    "obs10['robot0_eef_pos']"
   ]
  },
  {
   "cell_type": "code",
   "execution_count": null,
   "metadata": {},
   "outputs": [],
   "source": [
    "obs10=get_trans_obs(obs10, 3)\n",
    "obs10['robot0_eef_pos']"
   ]
  },
  {
   "cell_type": "code",
   "execution_count": null,
   "metadata": {},
   "outputs": [],
   "source": [
    "act = policy(ob=obs10)"
   ]
  },
  {
   "cell_type": "code",
   "execution_count": null,
   "metadata": {},
   "outputs": [],
   "source": [
    "act"
   ]
  },
  {
   "cell_type": "code",
   "execution_count": null,
   "metadata": {},
   "outputs": [],
   "source": []
  },
  {
   "cell_type": "code",
   "execution_count": null,
   "metadata": {},
   "outputs": [],
   "source": []
  },
  {
   "cell_type": "code",
   "execution_count": null,
   "metadata": {},
   "outputs": [],
   "source": [
    "obss=demo['obs']\n",
    "N=obss['robot0_eye_in_hand_image'].shape[0] \n",
    "obs10=get_trans_obs(None, 0)\n",
    "\n",
    "action_pred=[]\n",
    "obs10=None\n",
    "for t in range(N):\n",
    "    obs10=get_trans_obs(obs10, t)\n",
    "    act = policy(ob=obs10)\n",
    "    action_pred.append(act)\n",
    "\n",
    "action_pred=np.vstack(action_pred)\n",
    "action_pred.shape"
   ]
  },
  {
   "cell_type": "code",
   "execution_count": null,
   "metadata": {},
   "outputs": [],
   "source": [
    "# obs10['robot0_eef_pos']\n",
    "action_pred[0]"
   ]
  },
  {
   "cell_type": "code",
   "execution_count": null,
   "metadata": {},
   "outputs": [],
   "source": []
  },
  {
   "cell_type": "code",
   "execution_count": null,
   "metadata": {},
   "outputs": [],
   "source": [
    "plt.plot(action_org, color='blue')\n",
    "plt.plot(action_pred, color='red')\n",
    "plt.show()"
   ]
  },
  {
   "cell_type": "code",
   "execution_count": null,
   "metadata": {},
   "outputs": [],
   "source": []
  },
  {
   "cell_type": "code",
   "execution_count": null,
   "metadata": {},
   "outputs": [],
   "source": []
  },
  {
   "cell_type": "code",
   "execution_count": null,
   "metadata": {},
   "outputs": [],
   "source": [
    "# plot the actions\n",
    "\n",
    "import matplotlib.pyplot as plt\n",
    "\n",
    "# plt.plot(action_org[:,0], label='org')\n",
    "# plt.plot(action_pred[:,0], label='pred')\n",
    "# plt.legend()\n",
    "# plt.show()\n",
    "\n",
    "#plot all the channels\n",
    "\n",
    "for i in range(7):\n",
    "    plt.plot(action_org[:,i], label='org')\n",
    "    plt.plot(action_pred[:,i], label='pred')\n",
    "    plt.legend()\n",
    "    plt.show()"
   ]
  },
  {
   "cell_type": "code",
   "execution_count": null,
   "metadata": {},
   "outputs": [],
   "source": []
  },
  {
   "cell_type": "code",
   "execution_count": null,
   "metadata": {},
   "outputs": [],
   "source": []
  },
  {
   "cell_type": "code",
   "execution_count": null,
   "metadata": {},
   "outputs": [],
   "source": []
  },
  {
   "cell_type": "code",
   "execution_count": null,
   "metadata": {},
   "outputs": [],
   "source": []
  },
  {
   "cell_type": "code",
   "execution_count": null,
   "metadata": {},
   "outputs": [],
   "source": []
  },
  {
   "cell_type": "code",
   "execution_count": null,
   "metadata": {},
   "outputs": [],
   "source": []
  },
  {
   "cell_type": "code",
   "execution_count": null,
   "metadata": {},
   "outputs": [],
   "source": []
  },
  {
   "cell_type": "code",
   "execution_count": null,
   "metadata": {},
   "outputs": [],
   "source": []
  },
  {
   "cell_type": "code",
   "execution_count": null,
   "metadata": {},
   "outputs": [],
   "source": []
  },
  {
   "cell_type": "code",
   "execution_count": null,
   "metadata": {},
   "outputs": [],
   "source": []
  },
  {
   "cell_type": "code",
   "execution_count": null,
   "metadata": {},
   "outputs": [],
   "source": []
  },
  {
   "cell_type": "code",
   "execution_count": null,
   "metadata": {},
   "outputs": [],
   "source": []
  },
  {
   "cell_type": "code",
   "execution_count": null,
   "metadata": {},
   "outputs": [],
   "source": []
  }
 ],
 "metadata": {
  "kernelspec": {
   "display_name": "robomimic_venv",
   "language": "python",
   "name": "python3"
  },
  "language_info": {
   "codemirror_mode": {
    "name": "ipython",
    "version": 3
   },
   "file_extension": ".py",
   "mimetype": "text/x-python",
   "name": "python",
   "nbconvert_exporter": "python",
   "pygments_lexer": "ipython3",
   "version": "3.8.20"
  },
  "orig_nbformat": 4,
  "vscode": {
   "interpreter": {
    "hash": "0470c1ad2f0fb27cfc2238567a653f05115d47bf4fc5f86d0f161d89abc1f79a"
   }
  }
 },
 "nbformat": 4,
 "nbformat_minor": 2
}
