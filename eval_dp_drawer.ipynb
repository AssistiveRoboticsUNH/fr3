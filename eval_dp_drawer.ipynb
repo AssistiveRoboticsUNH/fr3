{
 "cells": [
  {
   "cell_type": "code",
   "execution_count": 1,
   "metadata": {},
   "outputs": [
    {
     "name": "stderr",
     "output_type": "stream",
     "text": [
      "/home/franka_deoxys/miniconda3/envs/robodiff/lib/python3.9/site-packages/tqdm/auto.py:22: TqdmWarning: IProgress not found. Please update jupyter and ipywidgets. See https://ipywidgets.readthedocs.io/en/stable/user_install.html\n",
      "  from .autonotebook import tqdm as notebook_tqdm\n",
      "/home/franka_deoxys/miniconda3/envs/robodiff/lib/python3.9/site-packages/scipy/__init__.py:155: UserWarning: A NumPy version >=1.18.5 and <1.25.0 is required for this version of SciPy (detected version 1.26.4\n",
      "  warnings.warn(f\"A NumPy version >={np_minversion} and <{np_maxversion}\"\n",
      "pybullet build time: Nov 28 2023 23:52:03\n"
     ]
    }
   ],
   "source": [
    "import sys \n",
    "from pathlib import Path\n",
    "import torch\n",
    "import os\n",
    "import dill\n",
    "import numpy as np\n",
    "import matplotlib.pyplot as plt\n",
    "import tqdm\n",
    "import os\n",
    "from pathlib import Path\n",
    "import cv2\n",
    "import time\n",
    "\n",
    "sys.path.append(\"/home/franka_deoxys/diffusion_policy\")\n",
    "from diffusion_policy.workspace.base_workspace import BaseWorkspace\n",
    "from diffusion_policy.model.common.rotation_transformer import RotationTransformer\n",
    "from diffusion_policy.common.pytorch_util import dict_apply\n",
    "from diffusion_policy.workspace.train_diffusion_unet_hybrid_workspace import TrainDiffusionUnetHybridWorkspace\n",
    "\n",
    "\n",
    "sys.path.append(\"/home/franka_deoxys/deoxys_control/deoxys\")\n",
    "from deoxys import config_root\n",
    "from deoxys.franka_interface import FrankaInterface\n",
    "from deoxys.utils import  YamlConfig\n",
    "from deoxys.utils.config_utils import robot_config_parse_args\n",
    "from deoxys.utils.input_utils import input2action\n",
    "from deoxys.utils.io_devices import SpaceMouse\n",
    "from deoxys.utils.log_utils import get_deoxys_example_logger\n",
    "from deoxys.experimental.motion_utils import follow_joint_traj, reset_joints_to\n",
    "\n",
    "\n",
    "from deoxys_vision.networking.camera_redis_interface import CameraRedisSubInterface\n",
    "from deoxys_vision.utils.camera_utils import assert_camera_ref_convention, get_camera_info\n",
    "\n",
    "\n",
    "from util_eval import RobotStateRawObsDictGenerator, FrameStackForTrans\n",
    "\n",
    "np.set_printoptions(precision=3, suppress=True)\n",
    "\n",
    "logger = get_deoxys_example_logger()"
   ]
  },
  {
   "cell_type": "code",
   "execution_count": 2,
   "metadata": {},
   "outputs": [
    {
     "data": {
      "text/plain": [
       "device(type='cuda')"
      ]
     },
     "execution_count": 2,
     "metadata": {},
     "output_type": "execute_result"
    }
   ],
   "source": [
    "device = torch.device(\"cuda\" if torch.cuda.is_available() else \"cpu\")\n",
    "device"
   ]
  },
  {
   "cell_type": "code",
   "execution_count": 3,
   "metadata": {},
   "outputs": [
    {
     "name": "stdout",
     "output_type": "stream",
     "text": [
      "Opening SpaceMouse device\n"
     ]
    },
    {
     "ename": "OSError",
     "evalue": "open failed",
     "output_type": "error",
     "traceback": [
      "\u001b[0;31m---------------------------------------------------------------------------\u001b[0m",
      "\u001b[0;31mOSError\u001b[0m                                   Traceback (most recent call last)",
      "Cell \u001b[0;32mIn[3], line 10\u001b[0m\n\u001b[1;32m      6\u001b[0m controller_type \u001b[38;5;241m=\u001b[39m args\u001b[38;5;241m.\u001b[39mcontroller_type\n\u001b[1;32m      8\u001b[0m \u001b[38;5;66;03m# spacemouse = SpaceMouse(vendor_id=9583, product_id=50734) \u001b[39;00m\n\u001b[1;32m      9\u001b[0m \u001b[38;5;66;03m#old spacemoue not wireless\u001b[39;00m\n\u001b[0;32m---> 10\u001b[0m spacemouse \u001b[38;5;241m=\u001b[39m \u001b[43mSpaceMouse\u001b[49m\u001b[43m(\u001b[49m\u001b[43mvendor_id\u001b[49m\u001b[38;5;241;43m=\u001b[39;49m\u001b[38;5;241;43m9583\u001b[39;49m\u001b[43m,\u001b[49m\u001b[43m \u001b[49m\u001b[43mproduct_id\u001b[49m\u001b[38;5;241;43m=\u001b[39;49m\u001b[38;5;241;43m50770\u001b[39;49m\u001b[43m)\u001b[49m\n\u001b[1;32m     11\u001b[0m spacemouse\u001b[38;5;241m.\u001b[39mstart_control()\n\u001b[1;32m     12\u001b[0m raw_obs_dict_generator \u001b[38;5;241m=\u001b[39m RobotStateRawObsDictGenerator()\n",
      "File \u001b[0;32m~/deoxys_control/deoxys/deoxys/utils/io_devices/spacemouse.py:118\u001b[0m, in \u001b[0;36mSpaceMouse.__init__\u001b[0;34m(self, vendor_id, product_id, pos_sensitivity, rot_sensitivity)\u001b[0m\n\u001b[1;32m    116\u001b[0m \u001b[38;5;28mprint\u001b[39m(\u001b[38;5;124m\"\u001b[39m\u001b[38;5;124mOpening SpaceMouse device\u001b[39m\u001b[38;5;124m\"\u001b[39m)\n\u001b[1;32m    117\u001b[0m \u001b[38;5;28mself\u001b[39m\u001b[38;5;241m.\u001b[39mdevice \u001b[38;5;241m=\u001b[39m hid\u001b[38;5;241m.\u001b[39mdevice()\n\u001b[0;32m--> 118\u001b[0m \u001b[38;5;28;43mself\u001b[39;49m\u001b[38;5;241;43m.\u001b[39;49m\u001b[43mdevice\u001b[49m\u001b[38;5;241;43m.\u001b[39;49m\u001b[43mopen\u001b[49m\u001b[43m(\u001b[49m\u001b[43mvendor_id\u001b[49m\u001b[43m,\u001b[49m\u001b[43m \u001b[49m\u001b[43mproduct_id\u001b[49m\u001b[43m)\u001b[49m  \u001b[38;5;66;03m# SpaceMouse\u001b[39;00m\n\u001b[1;32m    120\u001b[0m \u001b[38;5;28mself\u001b[39m\u001b[38;5;241m.\u001b[39mpos_sensitivity \u001b[38;5;241m=\u001b[39m pos_sensitivity\n\u001b[1;32m    121\u001b[0m \u001b[38;5;28mself\u001b[39m\u001b[38;5;241m.\u001b[39mrot_sensitivity \u001b[38;5;241m=\u001b[39m rot_sensitivity\n",
      "File \u001b[0;32mhid.pyx:143\u001b[0m, in \u001b[0;36mhid.device.open\u001b[0;34m()\u001b[0m\n",
      "\u001b[0;31mOSError\u001b[0m: open failed"
     ]
    }
   ],
   "source": [
    "args = robot_config_parse_args()\n",
    "robot_interface = FrankaInterface(os.path.join(config_root, args.interface_cfg))\n",
    "controller_cfg = YamlConfig(\n",
    "    os.path.join(config_root, args.controller_cfg)\n",
    ").as_easydict()\n",
    "controller_type = args.controller_type\n",
    "\n",
    "# spacemouse = SpaceMouse(vendor_id=9583, product_id=50734) \n",
    "#old spacemoue not wireless\n",
    "spacemouse = SpaceMouse(vendor_id=9583, product_id=50770)\n",
    "spacemouse.start_control()\n",
    "raw_obs_dict_generator = RobotStateRawObsDictGenerator()"
   ]
  },
  {
   "cell_type": "code",
   "execution_count": null,
   "metadata": {},
   "outputs": [],
   "source": [
    "def set_gripper(open=True):\n",
    "    d=-1. if open else 1.0\n",
    "    action_close=np.array([ 0.,  0., -0.,  0.,  0., -0., d])\n",
    "    robot_interface.control(\n",
    "        controller_type=controller_type,\n",
    "        action=action_close,\n",
    "        controller_cfg=controller_cfg,\n",
    "    )"
   ]
  },
  {
   "cell_type": "markdown",
   "metadata": {},
   "source": [
    "### reset robot position (no need to do it from terminal)"
   ]
  },
  {
   "cell_type": "code",
   "execution_count": null,
   "metadata": {},
   "outputs": [],
   "source": [
    "# copied from reset_robot_joints.py\n",
    "# Golden resetting joints\n",
    "reset_joint_positions = [\n",
    "    0.09162008114028396,\n",
    "    -0.19826458111314524,\n",
    "    -0.01990020486871322,\n",
    "    -2.4732269941140346,\n",
    "    -0.01307073642274261,\n",
    "    2.30396583422025,\n",
    "    0.8480939705504309,\n",
    "]"
   ]
  },
  {
   "cell_type": "code",
   "execution_count": null,
   "metadata": {},
   "outputs": [
    {
     "name": "stdout",
     "output_type": "stream",
     "text": [
      "JOINT_POSITION\n"
     ]
    }
   ],
   "source": [
    "reset_joints_to(robot_interface, reset_joint_positions)\n",
    "set_gripper(open=True)"
   ]
  },
  {
   "cell_type": "code",
   "execution_count": null,
   "metadata": {},
   "outputs": [],
   "source": [
    "if robot_interface._state_buffer:\n",
    "    last_state = robot_interface._state_buffer[-1]\n",
    "else:\n",
    "    print(\"The state buffer is empty.\")\n",
    "    "
   ]
  },
  {
   "cell_type": "markdown",
   "metadata": {},
   "source": [
    "### getting lowdim obs + camera obs"
   ]
  },
  {
   "cell_type": "code",
   "execution_count": null,
   "metadata": {},
   "outputs": [
    {
     "name": "stdout",
     "output_type": "stream",
     "text": [
      "---------****-----------\n",
      "{'camera_id': 0, 'camera_type': 'rs', 'camera_name': 'camera_rs_0'}\n",
      "--------------------------\n",
      "CameraRedisSubInterface:: {'camera_id': 0, 'camera_type': 'rs', 'camera_name': 'camera_rs_0'} True False\n",
      "---------****-----------\n",
      "{'camera_id': 1, 'camera_type': 'rs', 'camera_name': 'camera_rs_1'}\n",
      "--------------------------\n",
      "CameraRedisSubInterface:: {'camera_id': 1, 'camera_type': 'rs', 'camera_name': 'camera_rs_1'} True False\n"
     ]
    }
   ],
   "source": [
    "camera_ids = [0, 1]\n",
    "# camera_ids = [0]\n",
    "cr_interfaces = {}\n",
    "\n",
    "use_depth = False\n",
    "for camera_id in camera_ids:\n",
    "    camera_ref=f\"rs_{camera_id}\"\n",
    "    assert_camera_ref_convention(camera_ref)\n",
    "    camera_info = get_camera_info(camera_ref)\n",
    "    print('---------****-----------')\n",
    "    print(camera_info)\n",
    "    print('--------------------------')\n",
    "    # camera_info=  {'camera_id': 0, 'camera_type': 'rs', 'camera_name': 'camera_rs_0'}\n",
    "# \n",
    "\n",
    "    cr_interface = CameraRedisSubInterface(camera_info=camera_info, use_depth=use_depth, redis_host='127.0.0.1')\n",
    "    cr_interface.start()\n",
    "    cr_interfaces[camera_id] = cr_interface"
   ]
  },
  {
   "cell_type": "code",
   "execution_count": null,
   "metadata": {},
   "outputs": [],
   "source": []
  },
  {
   "cell_type": "code",
   "execution_count": null,
   "metadata": {},
   "outputs": [],
   "source": [
    "def get_imgs(use_depth=False):\n",
    "    data = {}\n",
    "    for camera_id in camera_ids:\n",
    "        img_info = cr_interfaces[camera_id].get_img_info()\n",
    "        data[f\"camera_{camera_id}\"]=img_info\n",
    "\n",
    "        imgs = cr_interfaces[camera_id].get_img()\n",
    "    \n",
    "        color_img = imgs[\"color\"][..., ::-1]\n",
    "        \n",
    "        # color_img = cv2.resize(color_img, (128, 128))  \n",
    "        # depth_img = cv2.resize(depth_img, (128, 128))\n",
    "        \n",
    "        # color_img = cv2.resize(color_img, ) \n",
    "\n",
    "\n",
    "        # color_img = cv2.resize(color_img, (224, 224), fx=0.5, fy=0.5)\n",
    "\n",
    "        color_img = cv2.resize(color_img, None, fx=0.5, fy=0.5)\n",
    "\n",
    "        data[f\"camera_{camera_id}_color\"]=color_img\n",
    "\n",
    "        if use_depth:\n",
    "            depth_img = imgs[\"depth\"]\n",
    "            depth_img = cv2.resize(depth_img, (224, 224)) \n",
    "            data[f\"camera_{camera_id}_depth\"]=depth_img\n",
    "    return data"
   ]
  },
  {
   "cell_type": "code",
   "execution_count": null,
   "metadata": {},
   "outputs": [
    {
     "name": "stdout",
     "output_type": "stream",
     "text": [
      "keys:  dict_keys(['camera_0', 'camera_0_color', 'camera_1', 'camera_1_color'])\n"
     ]
    },
    {
     "data": {
      "text/plain": [
       "((240, 320, 3), (240, 320, 3))"
      ]
     },
     "execution_count": 10,
     "metadata": {},
     "output_type": "execute_result"
    }
   ],
   "source": [
    "data = get_imgs()\n",
    "print('keys: ', data.keys())\n",
    "\n",
    "img_wrist = data['camera_0_color']\n",
    "img_front = data['camera_1_color']\n",
    "\n",
    "agentview_rgb=img_wrist \n",
    "eye_in_hand_rgb=img_front\n",
    "agentview_rgb.shape, eye_in_hand_rgb.shape"
   ]
  },
  {
   "cell_type": "code",
   "execution_count": null,
   "metadata": {},
   "outputs": [
    {
     "data": {
      "text/plain": [
       "<matplotlib.image.AxesImage at 0x7da2293c9340>"
      ]
     },
     "execution_count": 11,
     "metadata": {},
     "output_type": "execute_result"
    },
    {
     "data": {
      "image/png": "[encoded data removed]",
      "text/plain": [
       "<Figure size 640x480 with 2 Axes>"
      ]
     },
     "metadata": {},
     "output_type": "display_data"
    }
   ],
   "source": [
    "plt.subplot(121)\n",
    "plt.imshow(agentview_rgb[:,:,::-1])\n",
    "plt.subplot(122)\n",
    "plt.imshow(eye_in_hand_rgb[:,:,::-1])"
   ]
  },
  {
   "cell_type": "code",
   "execution_count": null,
   "metadata": {},
   "outputs": [],
   "source": []
  },
  {
   "cell_type": "code",
   "execution_count": null,
   "metadata": {},
   "outputs": [],
   "source": [
    "def get_current_obs(robot_interface):\n",
    "    last_state = robot_interface._state_buffer[-1]\n",
    "    # print(last_state)\n",
    "    last_gripper_state = robot_interface._gripper_state_buffer[-1]\n",
    "    \n",
    "    obs_dict = raw_obs_dict_generator.get_raw_obs_dict(\n",
    "    {\"last_state\": last_state, \"last_gripper_state\": last_gripper_state})\n",
    "    # obs_dict={} #rgb only \n",
    "\n",
    "    data = get_imgs()\n",
    "    img_wrist = data['camera_0_color']\n",
    "    img_front = data['camera_1_color']\n",
    "\n",
    "    agentview_rgb=img_wrist\n",
    "    eye_in_hand_rgb=img_front\n",
    "    # agentview_rgb=cv2.resize(img_wrist, (120, 120))  \n",
    "    # eye_in_hand_rgb=cv2.resize(img_front, (120, 120)) \n",
    "\n",
    "    # agentview_rgb.shape, eye_in_hand_rgb.shape\n",
    "\n",
    "    obs_dict['agentview_rgb']=agentview_rgb.transpose(2, 1, 0)\n",
    "    obs_dict['eye_in_hand_rgb']=eye_in_hand_rgb.transpose(2, 1, 0)\n",
    "    return obs_dict"
   ]
  },
  {
   "cell_type": "code",
   "execution_count": null,
   "metadata": {},
   "outputs": [
    {
     "name": "stdout",
     "output_type": "stream",
     "text": [
      "ee_states (1, 16)\n",
      "joint_states (1, 7)\n",
      "gripper_states (1, 1)\n",
      "agentview_rgb (1, 3, 320, 240)\n",
      "eye_in_hand_rgb (1, 3, 320, 240)\n"
     ]
    }
   ],
   "source": [
    "obs_dict=get_current_obs(robot_interface)\n",
    "for key in obs_dict.keys():\n",
    "    obs_dict[key]=obs_dict[key][None]\n",
    "    print(key, obs_dict[key].shape)"
   ]
  },
  {
   "cell_type": "code",
   "execution_count": null,
   "metadata": {},
   "outputs": [],
   "source": []
  },
  {
   "cell_type": "markdown",
   "metadata": {},
   "source": [
    "### Now load dp policy"
   ]
  },
  {
   "cell_type": "code",
   "execution_count": null,
   "metadata": {},
   "outputs": [
    {
     "name": "stdout",
     "output_type": "stream",
     "text": [
      "\n",
      "============= Initialized Observation Utils with Obs Spec =============\n",
      "\n",
      "using obs modality: low_dim with keys: ['ee_states', 'gripper_states', 'joint_states']\n",
      "using obs modality: rgb with keys: ['agentview_rgb', 'eye_in_hand_rgb']\n",
      "using obs modality: depth with keys: []\n",
      "using obs modality: scan with keys: []\n"
     ]
    },
    {
     "name": "stderr",
     "output_type": "stream",
     "text": [
      "/home/franka_deoxys/miniconda3/envs/robodiff/lib/python3.9/site-packages/torchvision/models/_utils.py:208: UserWarning: The parameter 'pretrained' is deprecated since 0.13 and will be removed in 0.15, please use 'weights' instead.\n",
      "  warnings.warn(\n",
      "/home/franka_deoxys/miniconda3/envs/robodiff/lib/python3.9/site-packages/torchvision/models/_utils.py:223: UserWarning: Arguments other than a weight enum or `None` for 'weights' are deprecated since 0.13 and will be removed in 0.15. The current behavior is equivalent to passing `weights=None`.\n",
      "  warnings.warn(msg)\n"
     ]
    },
    {
     "name": "stdout",
     "output_type": "stream",
     "text": [
      "Diffusion params: 2.564722e+08\n",
      "Vision params: 2.239418e+07\n"
     ]
    }
   ],
   "source": [
    "# checkpoint = \"/home/franka_deoxys/data_franka/dp_policy/after_train.ckpt\"\n",
    "\n",
    "# checkpoint = \"/home/franka_deoxys/data_franka/gib_epoch_100_20250122_162234.ckpt\"\n",
    "# checkpoint = \"/home/franka_deoxys/data_franka/40good_epoch_700_20250102_033222.ckpt\"\n",
    "# checkpoint = \"/home/franka_deoxys/data_franka/epoch_400_20250104_131502.ckpt\"\n",
    "# checkpoint = \"/home/franka_deoxys/data_franka/1000_epochs_40_old_ola.ckpt\"\n",
    "# checkpoint = \"/home/franka_deoxys/data_franka/bell180_after_train.ckpt\"\n",
    "# checkpoint = \"/home/franka_deoxys/data_franka/drawer_mixed_700.ckpt\"\n",
    "# checkpoint = \"/home/franka_deoxys/data_franka/40good_bell_epoch_900_20250121_072728.ckpt\"\n",
    "\n",
    "# checkpoint = \"/home/franka_deoxys/data_franka/gib2_epoch_700_20250124_102842.ckpt\"\n",
    "# checkpoint = \"/home/franka_deoxys/data_franka/drawer_mixed_700.ckpt\"\n",
    "\n",
    "# checkpoint = \"/home/franka_deoxys/data_franka/policies/epoch_700_drawer_bell40.ckpt\"\n",
    "# checkpoint = \"/home/franka_deoxys/data_franka/policies/epoch_700_drawer_bell_60.ckpt\"\n",
    "# checkpoint = \"/home/franka_deoxys/data_franka/policies/epoch_600_20250127_111354.ckpt\"\n",
    "# checkpoint = \"/home/franka_deoxys/data_franka/policies/epoch_700_drawer_bellpepper_bed.ckpt\"\n",
    "# checkpoint = \"/home/franka_deoxys/data_franka/policies/epoch_700_20250127_131921_gib.ckpt\"\n",
    "checkpoint = \"/home/franka_deoxys/data_franka/100_drawer_ola.ckpt\"\n",
    "\n",
    "payload = torch.load(open(checkpoint, 'rb'), pickle_module=dill)\n",
    "cfg = payload['cfg'] \n",
    "workspace = TrainDiffusionUnetHybridWorkspace(cfg, output_dir=None)\n",
    "workspace: BaseWorkspace\n",
    "workspace.load_payload(payload, exclude_keys=None, include_keys=None)"
   ]
  },
  {
   "cell_type": "code",
   "execution_count": null,
   "metadata": {},
   "outputs": [],
   "source": [
    "# get policy from workspace\n",
    "policy = workspace.model\n",
    "if cfg.training.use_ema:\n",
    "    policy = workspace.ema_model\n",
    "\n",
    "device = torch.device(device)\n",
    "policy.to(device)\n",
    "policy.eval()\n",
    "pass "
   ]
  },
  {
   "cell_type": "code",
   "execution_count": null,
   "metadata": {},
   "outputs": [],
   "source": [
    "rotation_transformer = RotationTransformer('axis_angle', 'rotation_6d')\n",
    "\n",
    "def undo_transform_action( action):\n",
    "    raw_shape = action.shape\n",
    "    if raw_shape[-1] == 20:\n",
    "        # dual arm\n",
    "        action = action.reshape(-1,2,10)\n",
    "\n",
    "    d_rot = action.shape[-1] - 4\n",
    "    pos = action[...,:3]\n",
    "    rot = action[...,3:3+d_rot]\n",
    "    gripper = action[...,[-1]]\n",
    "    rot = rotation_transformer.inverse(rot)\n",
    "    uaction = np.concatenate([\n",
    "        pos, rot, gripper\n",
    "    ], axis=-1)\n",
    "\n",
    "    if raw_shape[-1] == 20:\n",
    "        # dual arm\n",
    "        uaction = uaction.reshape(*raw_shape[:-1], 14)\n",
    "\n",
    "    return uaction\n"
   ]
  },
  {
   "cell_type": "markdown",
   "metadata": {},
   "source": [
    "### test prediction on a obs"
   ]
  },
  {
   "cell_type": "code",
   "execution_count": null,
   "metadata": {},
   "outputs": [],
   "source": [
    "def predict_action(obs):\n",
    "    \"\"\" \n",
    "    obs: 2x...\n",
    "    \"\"\"\n",
    "    np_obs_dict = {key:obs[key] for key in keys_select}\n",
    "    obs_dict = dict_apply(np_obs_dict, \n",
    "        lambda x: torch.from_numpy(x).to(\n",
    "            device=device))\n",
    "    \n",
    "    for key in obs_dict.keys():\n",
    "        obs_dict[key]=obs_dict[key].unsqueeze(0) \n",
    "\n",
    "    \n",
    "    with torch.no_grad():\n",
    "        action_dict = policy.predict_action(obs_dict)\n",
    "\n",
    "    # device_transfer\n",
    "    np_action_dict = dict_apply(action_dict, lambda x: x.detach().to('cpu').numpy())\n",
    "\n",
    "\n",
    "    # step env\n",
    "    env_action =  np_action_dict['action']\n",
    "    env_action = undo_transform_action(env_action)\n",
    "\n",
    "    env_action=env_action.squeeze()\n",
    "    return env_action"
   ]
  },
  {
   "cell_type": "code",
   "execution_count": null,
   "metadata": {},
   "outputs": [],
   "source": [
    "framestacker=FrameStackForTrans(2)\n",
    "keys_select = ['agentview_rgb', 'joint_states', 'ee_states', 'eye_in_hand_rgb', 'gripper_states']"
   ]
  },
  {
   "cell_type": "code",
   "execution_count": null,
   "metadata": {},
   "outputs": [
    {
     "name": "stdout",
     "output_type": "stream",
     "text": [
      "ee_states (16,)\n",
      "joint_states (7,)\n",
      "gripper_states (1,)\n",
      "agentview_rgb (3, 320, 240)\n",
      "eye_in_hand_rgb (3, 320, 240)\n"
     ]
    }
   ],
   "source": [
    "obs_dict=get_current_obs(robot_interface)\n",
    "for key in obs_dict.keys(): \n",
    "    print(key, obs_dict[key].shape)"
   ]
  },
  {
   "cell_type": "code",
   "execution_count": null,
   "metadata": {},
   "outputs": [],
   "source": []
  },
  {
   "cell_type": "code",
   "execution_count": null,
   "metadata": {},
   "outputs": [],
   "source": [
    "framestacker=FrameStackForTrans(2) \n",
    "policy.reset()\n",
    "\n",
    "obs_dict=get_current_obs(robot_interface)\n",
    "obs = framestacker.reset(obs_dict)"
   ]
  },
  {
   "cell_type": "code",
   "execution_count": null,
   "metadata": {},
   "outputs": [
    {
     "data": {
      "text/plain": [
       "array([[ 0.05 ,  0.033, -0.233, -0.003, -0.008, -0.001, -0.997],\n",
       "       [ 0.05 ,  0.039, -0.241, -0.004, -0.007, -0.002, -0.997],\n",
       "       [ 0.048,  0.039, -0.239, -0.004, -0.006, -0.003, -0.998],\n",
       "       [ 0.045,  0.041, -0.24 , -0.005, -0.003, -0.001, -0.998],\n",
       "       [ 0.043,  0.039, -0.242, -0.004, -0.004, -0.002, -0.997],\n",
       "       [ 0.042,  0.039, -0.241, -0.004, -0.004, -0.004, -0.997],\n",
       "       [ 0.046,  0.036, -0.24 , -0.005, -0.004, -0.002, -0.997],\n",
       "       [ 0.05 ,  0.035, -0.238, -0.005, -0.005, -0.003, -0.998]],\n",
       "      dtype=float32)"
      ]
     },
     "execution_count": 21,
     "metadata": {},
     "output_type": "execute_result"
    }
   ],
   "source": [
    "obs_dict=get_current_obs(robot_interface)\n",
    "obs = framestacker.add_new_obs(obs_dict)\n",
    "action_pred=predict_action(obs)\n",
    "action_pred"
   ]
  },
  {
   "cell_type": "code",
   "execution_count": null,
   "metadata": {},
   "outputs": [
    {
     "name": "stdout",
     "output_type": "stream",
     "text": [
      "agentview_rgb torch.Size([2, 3, 320, 240])\n",
      "joint_states torch.Size([2, 7])\n",
      "ee_states torch.Size([2, 16])\n",
      "eye_in_hand_rgb torch.Size([2, 3, 320, 240])\n",
      "gripper_states torch.Size([2, 1])\n"
     ]
    }
   ],
   "source": [
    "np_obs_dict = {key:obs[key] for key in keys_select}\n",
    "obs_dict = dict_apply(np_obs_dict, \n",
    "    lambda x: torch.from_numpy(x).to(\n",
    "        device=device))\n",
    "\n",
    "for key in obs_dict.keys(): \n",
    "    print(key, obs_dict[key].shape)"
   ]
  },
  {
   "cell_type": "code",
   "execution_count": null,
   "metadata": {},
   "outputs": [
    {
     "name": "stdout",
     "output_type": "stream",
     "text": [
      "agentview_rgb torch.Size([1, 2, 3, 320, 240])\n",
      "joint_states torch.Size([1, 2, 7])\n",
      "ee_states torch.Size([1, 2, 16])\n",
      "eye_in_hand_rgb torch.Size([1, 2, 3, 320, 240])\n",
      "gripper_states torch.Size([1, 2, 1])\n"
     ]
    }
   ],
   "source": [
    "for key in obs_dict.keys():\n",
    "    obs_dict[key]=obs_dict[key].unsqueeze(0) \n",
    "\n",
    "\n",
    "for key in obs_dict.keys(): \n",
    "    print(key, obs_dict[key].shape)"
   ]
  },
  {
   "cell_type": "code",
   "execution_count": null,
   "metadata": {},
   "outputs": [],
   "source": []
  },
  {
   "cell_type": "markdown",
   "metadata": {},
   "source": [
    "### Now run inference in loop"
   ]
  },
  {
   "cell_type": "code",
   "execution_count": null,
   "metadata": {},
   "outputs": [
    {
     "name": "stdout",
     "output_type": "stream",
     "text": [
      "JOINT_POSITION\n"
     ]
    }
   ],
   "source": [
    "# # reset robot\n",
    "reset_joints_to(robot_interface, reset_joint_positions)\n",
    "set_gripper(open=True)"
   ]
  },
  {
   "cell_type": "code",
   "execution_count": null,
   "metadata": {},
   "outputs": [
    {
     "name": "stdout",
     "output_type": "stream",
     "text": [
      "from controller:  [0. 0. 0.] [ 0.  0. -0.]\n",
      "from controller:  [0. 0. 0.] [ 0.  0. -0.]\n",
      "from controller:  [0. 0. 0.] [ 0.  0. -0.]\n",
      "from controller:  [0. 0. 0.] [ 0.  0. -0.]\n",
      "from controller:  [0. 0. 0.] [ 0.  0. -0.]\n",
      "from controller:  [0. 0. 0.] [ 0.  0. -0.]\n",
      "from controller:  [0. 0. 0.] [ 0.  0. -0.]\n",
      "from controller:  [0. 0. 0.] [ 0.  0. -0.]\n",
      "from controller:  [0. 0. 0.] [ 0.  0. -0.]\n",
      "from controller:  [0. 0. 0.] [ 0.  0. -0.]\n",
      "from controller:  [0. 0. 0.] [ 0.  0. -0.]\n",
      "from controller:  [0. 0. 0.] [ 0. -0.  0.]\n",
      "from controller:  [-0.001 -0.001  0.   ] [-0.001  0.     0.003]\n",
      "from controller:  [0. 0. 0.] [ 0.  0. -0.]\n",
      "from controller:  [0. 0. 0.] [ 0.  0. -0.]\n",
      "from controller:  [0. 0. 0.] [ 0.  0. -0.]\n",
      "from controller:  [0. 0. 0.] [ 0.  0. -0.]\n",
      "from controller:  [0. 0. 0.] [ 0.  0. -0.]\n",
      "from controller:  [0. 0. 0.] [ 0.  0. -0.]\n",
      "from controller:  [0. 0. 0.] [ 0.  0. -0.]\n",
      "from controller:  [0. 0. 0.] [ 0.  0. -0.]\n",
      "from controller:  [0. 0. 0.] [ 0.  0. -0.]\n",
      "from controller:  [0. 0. 0.] [ 0.  0. -0.]\n",
      "from controller:  [0. 0. 0.] [ 0.  0. -0.]\n",
      "from controller:  [0. 0. 0.] [ 0.  0. -0.]\n",
      "from controller:  [0. 0. 0.] [ 0.  0. -0.]\n",
      "from controller:  [0. 0. 0.] [ 0.  0. -0.]\n",
      "from controller:  [0. 0. 0.] [ 0.  0. -0.]\n",
      "from controller:  [0. 0. 0.] [ 0.  0. -0.]\n",
      "from controller:  [0. 0. 0.] [ 0.  0. -0.]\n",
      "from controller:  [0. 0. 0.] [ 0.  0. -0.]\n",
      "from controller:  [0. 0. 0.] [ 0.  0. -0.]\n",
      "from controller:  [0. 0. 0.] [ 0.  0. -0.]\n",
      "from controller:  [0. 0. 0.] [ 0.  0. -0.]\n",
      "from controller:  [0. 0. 0.] [ 0.  0. -0.]\n",
      "from controller:  [0. 0. 0.] [ 0.  0. -0.]\n",
      "from controller:  [0. 0. 0.] [ 0.  0. -0.]\n",
      "from controller:  [0. 0. 0.] [ 0.  0. -0.]\n",
      "from controller:  [0. 0. 0.] [ 0.  0. -0.]\n",
      "from controller:  [0. 0. 0.] [ 0.  0. -0.]\n",
      "from controller:  [0. 0. 0.] [ 0.  0. -0.]\n",
      "from controller:  [0. 0. 0.] [ 0.  0. -0.]\n",
      "from controller:  [0. 0. 0.] [ 0.  0. -0.]\n",
      "from controller:  [0. 0. 0.] [ 0.  0. -0.]\n",
      "from controller:  [0. 0. 0.] [ 0.  0. -0.]\n",
      "from controller:  [0. 0. 0.] [ 0.  0. -0.]\n",
      "from controller:  [0. 0. 0.] [ 0.  0. -0.]\n",
      "from controller:  [0. 0. 0.] [ 0.  0. -0.]\n",
      "from controller:  [0. 0. 0.] [ 0.  0. -0.]\n",
      "from controller:  [0. 0. 0.] [ 0.  0. -0.]\n",
      "from controller:  [0. 0. 0.] [ 0.  0. -0.]\n",
      "from controller:  [0. 0. 0.] [ 0.  0. -0.]\n",
      "from controller:  [0. 0. 0.] [ 0.  0. -0.]\n",
      "from controller:  [0. 0. 0.] [ 0.  0. -0.]\n",
      "from controller:  [0. 0. 0.] [ 0.  0. -0.]\n",
      "from controller:  [0. 0. 0.] [ 0.  0. -0.]\n",
      "from controller:  [0. 0. 0.] [ 0.  0. -0.]\n",
      "from controller:  [0. 0. 0.] [ 0.  0. -0.]\n",
      "from controller:  [0. 0. 0.] [ 0.  0. -0.]\n",
      "from controller:  [0. 0. 0.] [ 0.  0. -0.]\n",
      "from controller:  [0. 0. 0.] [ 0.  0. -0.]\n",
      "from controller:  [0. 0. 0.] [ 0.  0. -0.]\n"
     ]
    },
    {
     "name": "stderr",
     "output_type": "stream",
     "text": [
      "Exception in thread Thread-6:\n",
      "Traceback (most recent call last):\n",
      "  File \"/home/franka_deoxys/miniconda3/envs/robodiff/lib/python3.9/threading.py\", line 980, in _bootstrap_inner\n",
      "    self.run()\n",
      "  File \"/home/franka_deoxys/miniconda3/envs/robodiff/lib/python3.9/threading.py\", line 917, in run\n",
      "    self._target(*self._args, **self._kwargs)\n",
      "  File \"/home/franka_deoxys/deoxys_control/deoxys/deoxys/utils/io_devices/spacemouse.py\", line 225, in run\n",
      "    d = self.device.read(13)\n",
      "  File \"hid.pyx\", line 235, in hid.device.read\n",
      "OSError: read error\n"
     ]
    },
    {
     "name": "stdout",
     "output_type": "stream",
     "text": [
      "from controller:  [0. 0. 0.] [ 0.  0. -0.]\n",
      "from controller:  [0. 0. 0.] [ 0.  0. -0.]\n",
      "from controller:  [0. 0. 0.] [ 0.  0. -0.]\n",
      "from controller:  [0. 0. 0.] [ 0.  0. -0.]\n",
      "from controller:  [0. 0. 0.] [ 0.  0. -0.]\n",
      "from controller:  [0. 0. 0.] [ 0.  0. -0.]\n",
      "from controller:  [0. 0. 0.] [ 0.  0. -0.]\n",
      "from controller:  [0. 0. 0.] [ 0.  0. -0.]\n",
      "from controller:  [0. 0. 0.] [ 0.  0. -0.]\n",
      "from controller:  [0. 0. 0.] [ 0.  0. -0.]\n",
      "from controller:  [0. 0. 0.] [ 0.  0. -0.]\n",
      "from controller:  [0. 0. 0.] [ 0.  0. -0.]\n",
      "from controller:  [0. 0. 0.] [ 0.  0. -0.]\n",
      "from controller:  [0. 0. 0.] [ 0.  0. -0.]\n",
      "from controller:  [0. 0. 0.] [ 0.  0. -0.]\n",
      "from controller:  [0. 0. 0.] [ 0.  0. -0.]\n",
      "from controller:  [0. 0. 0.] [ 0.  0. -0.]\n",
      "from controller:  [0. 0. 0.] [ 0.  0. -0.]\n",
      "from controller:  [0. 0. 0.] [ 0.  0. -0.]\n",
      "from controller:  [0. 0. 0.] [ 0.  0. -0.]\n",
      "from controller:  [0. 0. 0.] [ 0.  0. -0.]\n",
      "from controller:  [0. 0. 0.] [ 0.  0. -0.]\n",
      "from controller:  [0. 0. 0.] [ 0.  0. -0.]\n",
      "from controller:  [0. 0. 0.] [ 0.  0. -0.]\n",
      "from controller:  [0. 0. 0.] [ 0.  0. -0.]\n",
      "from controller:  [0. 0. 0.] [ 0.  0. -0.]\n",
      "from controller:  [0. 0. 0.] [ 0.  0. -0.]\n",
      "from controller:  [0. 0. 0.] [ 0.  0. -0.]\n",
      "from controller:  [0. 0. 0.] [ 0.  0. -0.]\n",
      "from controller:  [0. 0. 0.] [ 0.  0. -0.]\n",
      "from controller:  [0. 0. 0.] [ 0.  0. -0.]\n",
      "from controller:  [0. 0. 0.] [ 0.  0. -0.]\n",
      "from controller:  [0. 0. 0.] [ 0.  0. -0.]\n",
      "from controller:  [0. 0. 0.] [ 0.  0. -0.]\n",
      "from controller:  [0. 0. 0.] [ 0.  0. -0.]\n",
      "from controller:  [0. 0. 0.] [ 0.  0. -0.]\n",
      "from controller:  [0. 0. 0.] [ 0.  0. -0.]\n",
      "from controller:  [0. 0. 0.] [ 0.  0. -0.]\n",
      "from controller:  [0. 0. 0.] [ 0.  0. -0.]\n",
      "from controller:  [0. 0. 0.] [ 0.  0. -0.]\n",
      "from controller:  [0. 0. 0.] [ 0.  0. -0.]\n",
      "from controller:  [0. 0. 0.] [ 0.  0. -0.]\n",
      "from controller:  [0. 0. 0.] [ 0.  0. -0.]\n",
      "from controller:  [0. 0. 0.] [ 0.  0. -0.]\n",
      "from controller:  [0. 0. 0.] [ 0.  0. -0.]\n",
      "from controller:  [0. 0. 0.] [ 0.  0. -0.]\n",
      "from controller:  [0. 0. 0.] [ 0.  0. -0.]\n",
      "from controller:  [0. 0. 0.] [ 0.  0. -0.]\n",
      "from controller:  [0. 0. 0.] [ 0.  0. -0.]\n",
      "from controller:  [0. 0. 0.] [ 0.  0. -0.]\n",
      "from controller:  [0. 0. 0.] [ 0.  0. -0.]\n",
      "from controller:  [0. 0. 0.] [ 0.  0. -0.]\n",
      "from controller:  [0. 0. 0.] [ 0.  0. -0.]\n",
      "from controller:  [0. 0. 0.] [ 0.  0. -0.]\n",
      "from controller:  [0. 0. 0.] [ 0.  0. -0.]\n",
      "from controller:  [0. 0. 0.] [ 0.  0. -0.]\n",
      "from controller:  [0. 0. 0.] [ 0.  0. -0.]\n",
      "from controller:  [0. 0. 0.] [ 0.  0. -0.]\n",
      "from controller:  [0. 0. 0.] [ 0.  0. -0.]\n",
      "from controller:  [0. 0. 0.] [ 0.  0. -0.]\n",
      "from controller:  [0. 0. 0.] [ 0.  0. -0.]\n",
      "from controller:  [0. 0. 0.] [ 0.  0. -0.]\n",
      "from controller:  [0. 0. 0.] [ 0.  0. -0.]\n",
      "from controller:  [0. 0. 0.] [ 0.  0. -0.]\n",
      "from controller:  [0. 0. 0.] [ 0.  0. -0.]\n",
      "from controller:  [0. 0. 0.] [ 0.  0. -0.]\n",
      "from controller:  [0. 0. 0.] [ 0.  0. -0.]\n",
      "from controller:  [0. 0. 0.] [ 0.  0. -0.]\n",
      "from controller:  [0. 0. 0.] [ 0.  0. -0.]\n",
      "from controller:  [0. 0. 0.] [ 0.  0. -0.]\n",
      "from controller:  [0. 0. 0.] [ 0.  0. -0.]\n",
      "from controller:  [0. 0. 0.] [ 0.  0. -0.]\n",
      "from controller:  [0. 0. 0.] [ 0.  0. -0.]\n",
      "from controller:  [0. 0. 0.] [ 0.  0. -0.]\n",
      "from controller:  [0. 0. 0.] [ 0.  0. -0.]\n",
      "from controller:  [0. 0. 0.] [ 0.  0. -0.]\n",
      "from controller:  [0. 0. 0.] [ 0.  0. -0.]\n",
      "from controller:  [0. 0. 0.] [ 0.  0. -0.]\n",
      "from controller:  [0. 0. 0.] [ 0.  0. -0.]\n",
      "from controller:  [0. 0. 0.] [ 0.  0. -0.]\n",
      "from controller:  [0. 0. 0.] [ 0.  0. -0.]\n",
      "from controller:  [0. 0. 0.] [ 0.  0. -0.]\n",
      "from controller:  [0. 0. 0.] [ 0.  0. -0.]\n",
      "from controller:  [0. 0. 0.] [ 0.  0. -0.]\n",
      "from controller:  [0. 0. 0.] [ 0.  0. -0.]\n",
      "from controller:  [0. 0. 0.] [ 0.  0. -0.]\n",
      "from controller:  [0. 0. 0.] [ 0.  0. -0.]\n",
      "from controller:  [0. 0. 0.] [ 0.  0. -0.]\n",
      "from controller:  [0. 0. 0.] [ 0.  0. -0.]\n",
      "from controller:  [0. 0. 0.] [ 0.  0. -0.]\n",
      "from controller:  [0. 0. 0.] [ 0.  0. -0.]\n",
      "from controller:  [0. 0. 0.] [ 0.  0. -0.]\n",
      "from controller:  [0. 0. 0.] [ 0.  0. -0.]\n",
      "from controller:  [0. 0. 0.] [ 0.  0. -0.]\n",
      "from controller:  [0. 0. 0.] [ 0.  0. -0.]\n",
      "from controller:  [0. 0. 0.] [ 0.  0. -0.]\n",
      "from controller:  [0. 0. 0.] [ 0.  0. -0.]\n",
      "from controller:  [0. 0. 0.] [ 0.  0. -0.]\n",
      "from controller:  [0. 0. 0.] [ 0.  0. -0.]\n",
      "from controller:  [0. 0. 0.] [ 0.  0. -0.]\n",
      "from controller:  [0. 0. 0.] [ 0.  0. -0.]\n",
      "from controller:  [0. 0. 0.] [ 0.  0. -0.]\n",
      "from controller:  [0. 0. 0.] [ 0.  0. -0.]\n",
      "from controller:  [0. 0. 0.] [ 0.  0. -0.]\n",
      "from controller:  [0. 0. 0.] [ 0.  0. -0.]\n",
      "from controller:  [0. 0. 0.] [ 0.  0. -0.]\n",
      "from controller:  [0. 0. 0.] [ 0.  0. -0.]\n",
      "from controller:  [0. 0. 0.] [ 0.  0. -0.]\n",
      "from controller:  [0. 0. 0.] [ 0.  0. -0.]\n",
      "from controller:  [0. 0. 0.] [ 0.  0. -0.]\n",
      "from controller:  [0. 0. 0.] [ 0.  0. -0.]\n",
      "from controller:  [0. 0. 0.] [ 0.  0. -0.]\n",
      "from controller:  [0. 0. 0.] [ 0.  0. -0.]\n",
      "from controller:  [0. 0. 0.] [ 0.  0. -0.]\n",
      "from controller:  [0. 0. 0.] [ 0.  0. -0.]\n",
      "from controller:  [0. 0. 0.] [ 0.  0. -0.]\n",
      "from controller:  [0. 0. 0.] [ 0.  0. -0.]\n",
      "from controller:  [0. 0. 0.] [ 0.  0. -0.]\n",
      "from controller:  [0. 0. 0.] [ 0.  0. -0.]\n",
      "from controller:  [0. 0. 0.] [ 0.  0. -0.]\n",
      "from controller:  [0. 0. 0.] [ 0.  0. -0.]\n",
      "from controller:  [0. 0. 0.] [ 0.  0. -0.]\n",
      "from controller:  [0. 0. 0.] [ 0.  0. -0.]\n",
      "from controller:  [0. 0. 0.] [ 0.  0. -0.]\n",
      "from controller:  [0. 0. 0.] [ 0.  0. -0.]\n",
      "from controller:  [0. 0. 0.] [ 0.  0. -0.]\n",
      "from controller:  [0. 0. 0.] [ 0.  0. -0.]\n",
      "from controller:  [0. 0. 0.] [ 0.  0. -0.]\n",
      "from controller:  [0. 0. 0.] [ 0.  0. -0.]\n",
      "from controller:  [0. 0. 0.] [ 0.  0. -0.]\n",
      "from controller:  [0. 0. 0.] [ 0.  0. -0.]\n",
      "from controller:  [0. 0. 0.] [ 0.  0. -0.]\n",
      "from controller:  [0. 0. 0.] [ 0.  0. -0.]\n",
      "from controller:  [0. 0. 0.] [ 0.  0. -0.]\n"
     ]
    }
   ],
   "source": [
    "policy.reset()\n",
    " \n",
    "images = []\n",
    "for _ in range(500):\n",
    "    action, grasp = input2action(\n",
    "        device=spacemouse,\n",
    "        controller_type=controller_type,\n",
    "    )\n",
    "    if action is None:\n",
    "        break\n",
    "    if len(robot_interface._state_buffer) == 0:\n",
    "        continue\n",
    "\n",
    "    obs_dict=get_current_obs(robot_interface)\n",
    "    imgs1=obs_dict['agentview_rgb']\n",
    "    imgs2=obs_dict['eye_in_hand_rgb']\n",
    "    img=np.concatenate([imgs1, imgs2], axis=1).transpose(2,1,0)\n",
    "    images.append(img)\n",
    "\n",
    "    obs = framestacker.add_new_obs(obs_dict)\n",
    "    action_pred=predict_action(obs)\n",
    "    # print(action_pred)\n",
    "    # print(f'actions: {action[0]:.3f} {action[1]:.3f} {action[2]:.3f} {action[-1]:.3f}')\n",
    "    \n",
    "    for action in action_pred[:4]:  \n",
    "        robot_interface.control(\n",
    "            controller_type=controller_type,\n",
    "            action=action,\n",
    "            controller_cfg=controller_cfg,\n",
    "        )\n",
    "\n",
    "    time.sleep(0.045)\n",
    "\n",
    "    \n",
    "robot_interface.close()"
   ]
  },
  {
   "cell_type": "markdown",
   "metadata": {},
   "source": [
    "### saving the images as video file"
   ]
  },
  {
   "cell_type": "code",
   "execution_count": null,
   "metadata": {},
   "outputs": [
    {
     "name": "stdout",
     "output_type": "stream",
     "text": [
      "saving video to:  inference_videos/2025-01-28_18_33.mp4\n"
     ]
    }
   ],
   "source": [
    "import imageio \n",
    "from datetime import datetime\n",
    "\n",
    "now = datetime.now().strftime(\"%Y-%m-%d_%H_%M\")\n",
    "savepath = f\"inference_videos/{now}.mp4\"\n",
    "\n",
    "print('saving video to: ', savepath)\n",
    "\n",
    "writer = imageio.get_writer(savepath, fps=3)\n",
    "for img in images:\n",
    "    img = cv2.cvtColor(img, cv2.COLOR_BGR2RGB) \n",
    "    writer.append_data(img)\n",
    "writer.close()"
   ]
  },
  {
   "cell_type": "code",
   "execution_count": null,
   "metadata": {},
   "outputs": [
    {
     "name": "stdout",
     "output_type": "stream",
     "text": [
      "OSC_POSE\n"
     ]
    }
   ],
   "source": [
    "print(controller_type)"
   ]
  },
  {
   "cell_type": "code",
   "execution_count": null,
   "metadata": {},
   "outputs": [
    {
     "name": "stdout",
     "output_type": "stream",
     "text": [
      "[[ 0.303 -0.023  0.258 -0.218 -0.133 -0.093 -1.   ]\n",
      " [ 0.285 -0.017  0.171 -0.206 -0.129 -0.091 -1.   ]\n",
      " [ 0.277 -0.013  0.102 -0.196 -0.11  -0.083 -1.   ]\n",
      " [ 0.266  0.006  0.048 -0.184 -0.097 -0.07  -0.999]\n",
      " [ 0.238  0.009  0.02  -0.177 -0.076 -0.052 -1.   ]\n",
      " [ 0.163  0.009  0.008 -0.165 -0.057 -0.046 -0.996]\n",
      " [ 0.099 -0.006 -0.018 -0.148 -0.034 -0.033 -0.997]\n",
      " [ 0.091  0.058 -0.019 -0.138 -0.028 -0.024 -1.   ]]\n",
      "[ 0.  0.  0.  0.  0. -0. -1.]\n"
     ]
    }
   ],
   "source": [
    "print(action_pred)\n",
    "print(action)"
   ]
  },
  {
   "cell_type": "code",
   "execution_count": null,
   "metadata": {},
   "outputs": [],
   "source": []
  },
  {
   "cell_type": "code",
   "execution_count": null,
   "metadata": {},
   "outputs": [],
   "source": []
  },
  {
   "cell_type": "code",
   "execution_count": null,
   "metadata": {},
   "outputs": [],
   "source": []
  },
  {
   "cell_type": "code",
   "execution_count": null,
   "metadata": {},
   "outputs": [],
   "source": []
  },
  {
   "cell_type": "code",
   "execution_count": null,
   "metadata": {},
   "outputs": [],
   "source": []
  }
 ],
 "metadata": {
  "kernelspec": {
   "display_name": "robodiff",
   "language": "python",
   "name": "python3"
  },
  "language_info": {
   "codemirror_mode": {
    "name": "ipython",
    "version": 3
   },
   "file_extension": ".py",
   "mimetype": "text/x-python",
   "name": "python",
   "nbconvert_exporter": "python",
   "pygments_lexer": "ipython3",
   "version": "3.9.18"
  }
 },
 "nbformat": 4,
 "nbformat_minor": 2
}
