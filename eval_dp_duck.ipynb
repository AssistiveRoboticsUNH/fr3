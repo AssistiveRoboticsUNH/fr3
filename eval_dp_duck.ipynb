{
 "cells": [
  {
   "cell_type": "code",
   "execution_count": 1,
   "metadata": {},
   "outputs": [
    {
     "ename": "ModuleNotFoundError",
     "evalue": "No module named 'deoxys_vision'",
     "output_type": "error",
     "traceback": [
      "\u001b[0;31m---------------------------------------------------------------------------\u001b[0m",
      "\u001b[0;31mModuleNotFoundError\u001b[0m                       Traceback (most recent call last)",
      "Cell \u001b[0;32mIn[1], line 26\u001b[0m\n\u001b[1;32m     22\u001b[0m \u001b[38;5;28;01mfrom\u001b[39;00m\u001b[38;5;250m \u001b[39m\u001b[38;5;21;01mdeoxys\u001b[39;00m\u001b[38;5;21;01m.\u001b[39;00m\u001b[38;5;21;01mutils\u001b[39;00m\u001b[38;5;21;01m.\u001b[39;00m\u001b[38;5;21;01mlog_utils\u001b[39;00m\u001b[38;5;250m \u001b[39m\u001b[38;5;28;01mimport\u001b[39;00m get_deoxys_example_logger\n\u001b[1;32m     23\u001b[0m \u001b[38;5;28;01mfrom\u001b[39;00m\u001b[38;5;250m \u001b[39m\u001b[38;5;21;01mdeoxys\u001b[39;00m\u001b[38;5;21;01m.\u001b[39;00m\u001b[38;5;21;01mexperimental\u001b[39;00m\u001b[38;5;21;01m.\u001b[39;00m\u001b[38;5;21;01mmotion_utils\u001b[39;00m\u001b[38;5;250m \u001b[39m\u001b[38;5;28;01mimport\u001b[39;00m follow_joint_traj, reset_joints_to\n\u001b[0;32m---> 26\u001b[0m \u001b[38;5;28;01mfrom\u001b[39;00m\u001b[38;5;250m \u001b[39m\u001b[38;5;21;01mdeoxys_vision\u001b[39;00m\u001b[38;5;21;01m.\u001b[39;00m\u001b[38;5;21;01mnetworking\u001b[39;00m\u001b[38;5;21;01m.\u001b[39;00m\u001b[38;5;21;01mcamera_redis_interface\u001b[39;00m\u001b[38;5;250m \u001b[39m\u001b[38;5;28;01mimport\u001b[39;00m CameraRedisSubInterface\n\u001b[1;32m     27\u001b[0m \u001b[38;5;28;01mfrom\u001b[39;00m\u001b[38;5;250m \u001b[39m\u001b[38;5;21;01mdeoxys_vision\u001b[39;00m\u001b[38;5;21;01m.\u001b[39;00m\u001b[38;5;21;01mutils\u001b[39;00m\u001b[38;5;21;01m.\u001b[39;00m\u001b[38;5;21;01mcamera_utils\u001b[39;00m\u001b[38;5;250m \u001b[39m\u001b[38;5;28;01mimport\u001b[39;00m assert_camera_ref_convention, get_camera_info\n\u001b[1;32m     29\u001b[0m \u001b[38;5;28;01mimport\u001b[39;00m\u001b[38;5;250m \u001b[39m\u001b[38;5;21;01mrobomimic\u001b[39;00m\n",
      "\u001b[0;31mModuleNotFoundError\u001b[0m: No module named 'deoxys_vision'"
     ]
    }
   ],
   "source": [
    "import sys \n",
    "from pathlib import Path\n",
    "import torch\n",
    "import os\n",
    "# import dill\n",
    "import numpy as np\n",
    "import matplotlib.pyplot as plt\n",
    "import tqdm\n",
    "import os\n",
    "from pathlib import Path\n",
    "import cv2\n",
    "import time\n",
    "\n",
    "\n",
    "sys.path.append(\"/home/franka_deoxys/deoxys_control/deoxys\")\n",
    "from deoxys import config_root\n",
    "from deoxys.franka_interface import FrankaInterface\n",
    "from deoxys.utils import  YamlConfig\n",
    "from deoxys.utils.config_utils import robot_config_parse_args\n",
    "from deoxys.utils.input_utils import input2action\n",
    "from deoxys.utils.io_devices import SpaceMouse\n",
    "from deoxys.utils.log_utils import get_deoxys_example_logger\n",
    "from deoxys.experimental.motion_utils import follow_joint_traj, reset_joints_to\n",
    "\n",
    "\n",
    "from deoxys_vision.networking.camera_redis_interface import CameraRedisSubInterface\n",
    "from deoxys_vision.utils.camera_utils import assert_camera_ref_convention, get_camera_info\n",
    "\n",
    "import robomimic\n",
    "import robomimic.utils.train_utils as TrainUtils\n",
    "import robomimic.utils.torch_utils as TorchUtils\n",
    "import robomimic.utils.obs_utils as ObsUtils\n",
    "import robomimic.utils.env_utils as EnvUtils\n",
    "import robomimic.utils.file_utils as FileUtils\n",
    "from robomimic.config import config_factory\n",
    "from robomimic.algo import algo_factory, RolloutPolicy\n",
    "from robomimic.utils.log_utils import PrintLogger, DataLogger, flush_warnings\n",
    "\n",
    "\n",
    "import robomimic.utils.train_utils as TrainUtils\n",
    "import robomimic.utils.torch_utils as TorchUtils\n",
    "import robomimic.utils.tensor_utils as TensorUtils\n",
    "import robomimic.utils.obs_utils as ObsUtils\n",
    "import robomimic.utils.env_utils as EnvUtils\n",
    "import robomimic.utils.file_utils as FileUtils\n",
    "\n",
    "\n",
    "from util_eval import RobotStateRawObsDictGenerator, FrameStackForTrans\n",
    "\n",
    "np.set_printoptions(precision=3, suppress=True)\n",
    "\n",
    "logger = get_deoxys_example_logger()"
   ]
  },
  {
   "cell_type": "code",
   "execution_count": null,
   "metadata": {},
   "outputs": [
    {
     "data": {
      "text/plain": [
       "device(type='cuda')"
      ]
     },
     "metadata": {},
     "output_type": "display_data"
    }
   ],
   "source": [
    "device = torch.device(\"cuda\" if torch.cuda.is_available() else \"cpu\")\n",
    "device"
   ]
  },
  {
   "cell_type": "code",
   "execution_count": null,
   "metadata": {},
   "outputs": [
    {
     "name": "stdout",
     "output_type": "stream",
     "text": [
      "Opening SpaceMouse device\n",
      "Manufacturer: 3Dconnexion\n",
      "Product: SpaceMouse Wireless\n",
      "\n",
      "Control                       \tCommand\n",
      "Right button                  \treset simulation\n",
      "Left button (hold)            \tclose gripper\n",
      "Move mouse laterally          \tmove arm horizontally in x-y plane\n",
      "Move mouse vertically         \tmove arm vertically\n",
      "Twist mouse about an axis     \trotate arm about a corresponding axis\n",
      "ESC                           \tquit\n",
      "\n"
     ]
    }
   ],
   "source": [
    "args = robot_config_parse_args()\n",
    "robot_interface = FrankaInterface(os.path.join(config_root, args.interface_cfg))\n",
    "controller_cfg = YamlConfig(\n",
    "    os.path.join(config_root, args.controller_cfg)\n",
    ").as_easydict()\n",
    "controller_type = args.controller_type\n",
    "\n",
    "spacemouse = SpaceMouse(vendor_id=9583, product_id=50734) \n",
    "#old spacemoue not wireless\n",
    "# spacemouse = SpaceMouse(vendor_id=9583, product_id=50770)\n",
    "spacemouse.start_control()\n",
    "raw_obs_dict_generator = RobotStateRawObsDictGenerator()"
   ]
  },
  {
   "cell_type": "code",
   "execution_count": null,
   "metadata": {},
   "outputs": [],
   "source": [
    "def set_gripper(open=True):\n",
    "    d=-1. if open else 1.0\n",
    "    action_close=np.array([ 0.,  0., -0.,  0.,  0., -0., d])\n",
    "    robot_interface.control(\n",
    "        controller_type=controller_type,\n",
    "        action=action_close,\n",
    "        controller_cfg=controller_cfg,\n",
    "    )"
   ]
  },
  {
   "cell_type": "markdown",
   "metadata": {},
   "source": [
    "### reset robot position (no need to do it from terminal)"
   ]
  },
  {
   "cell_type": "code",
   "execution_count": null,
   "metadata": {},
   "outputs": [],
   "source": [
    "# copied from reset_robot_joints.py\n",
    "# Golden resetting joints\n",
    "reset_joint_positions = [\n",
    "    0.09162008114028396,\n",
    "    -0.19826458111314524,\n",
    "    -0.01990020486871322,\n",
    "    -2.4732269941140346,\n",
    "    -0.01307073642274261,\n",
    "    2.30396583422025,\n",
    "    0.8480939705504309,\n",
    "]"
   ]
  },
  {
   "cell_type": "code",
   "execution_count": null,
   "metadata": {},
   "outputs": [
    {
     "name": "stdout",
     "output_type": "stream",
     "text": [
      "JOINT_POSITION\n"
     ]
    }
   ],
   "source": [
    "reset_joints_to(robot_interface, reset_joint_positions)\n",
    "set_gripper(open=True)"
   ]
  },
  {
   "cell_type": "code",
   "execution_count": null,
   "metadata": {},
   "outputs": [],
   "source": []
  },
  {
   "cell_type": "markdown",
   "metadata": {},
   "source": [
    "### getting lowdim obs + camera obs"
   ]
  },
  {
   "cell_type": "code",
   "execution_count": null,
   "metadata": {},
   "outputs": [
    {
     "name": "stdout",
     "output_type": "stream",
     "text": [
      "---------****-----------\n",
      "{'camera_id': 0, 'camera_type': 'rs', 'camera_name': 'camera_rs_0'}\n",
      "--------------------------\n",
      "CameraRedisSubInterface:: {'camera_id': 0, 'camera_type': 'rs', 'camera_name': 'camera_rs_0'} True False\n",
      "---------****-----------\n",
      "{'camera_id': 1, 'camera_type': 'rs', 'camera_name': 'camera_rs_1'}\n",
      "--------------------------\n",
      "CameraRedisSubInterface:: {'camera_id': 1, 'camera_type': 'rs', 'camera_name': 'camera_rs_1'} True False\n"
     ]
    }
   ],
   "source": [
    "camera_ids = [0, 1]\n",
    "# camera_ids = [0]\n",
    "cr_interfaces = {}\n",
    "\n",
    "use_depth = False\n",
    "for camera_id in camera_ids:\n",
    "    camera_ref=f\"rs_{camera_id}\"\n",
    "    assert_camera_ref_convention(camera_ref)\n",
    "    camera_info = get_camera_info(camera_ref)\n",
    "    print('---------****-----------')\n",
    "    print(camera_info)\n",
    "    print('--------------------------')\n",
    "    # camera_info=  {'camera_id': 0, 'camera_type': 'rs', 'camera_name': 'camera_rs_0'}\n",
    "# \n",
    "\n",
    "    cr_interface = CameraRedisSubInterface(camera_info=camera_info, use_depth=use_depth, redis_host='127.0.0.1')\n",
    "    cr_interface.start()\n",
    "    cr_interfaces[camera_id] = cr_interface"
   ]
  },
  {
   "cell_type": "code",
   "execution_count": null,
   "metadata": {},
   "outputs": [],
   "source": []
  },
  {
   "cell_type": "code",
   "execution_count": null,
   "metadata": {},
   "outputs": [],
   "source": [
    "def get_imgs(use_depth=False):\n",
    "    data = {}\n",
    "    for camera_id in camera_ids:\n",
    "        img_info = cr_interfaces[camera_id].get_img_info()\n",
    "        data[f\"camera_{camera_id}\"]=img_info\n",
    "\n",
    "        imgs = cr_interfaces[camera_id].get_img()\n",
    "    \n",
    "        color_img = imgs[\"color\"][..., ::-1]\n",
    "\n",
    "        # color_img = cv2.resize(color_img, (128, 128))  \n",
    "        # depth_img = cv2.resize(depth_img, (128, 128))\n",
    "\n",
    "        # color_img = cv2.resize(color_img, (224, 224))  \n",
    "        color_img = cv2.resize(color_img, None, fx=0.5, fy=0.5)\n",
    "\n",
    "        data[f\"camera_{camera_id}_color\"]=color_img\n",
    "\n",
    "        if use_depth:\n",
    "            depth_img = imgs[\"depth\"]\n",
    "            depth_img = cv2.resize(depth_img, (224, 224)) \n",
    "            data[f\"camera_{camera_id}_depth\"]=depth_img\n",
    "    return data"
   ]
  },
  {
   "cell_type": "code",
   "execution_count": null,
   "metadata": {},
   "outputs": [
    {
     "name": "stdout",
     "output_type": "stream",
     "text": [
      "keys:  dict_keys(['camera_0', 'camera_0_color', 'camera_1', 'camera_1_color'])\n"
     ]
    },
    {
     "data": {
      "text/plain": [
       "((240, 320, 3), (240, 320, 3))"
      ]
     },
     "metadata": {},
     "output_type": "display_data"
    }
   ],
   "source": [
    "data = get_imgs()\n",
    "print('keys: ', data.keys())\n",
    "\n",
    "img_wrist = data['camera_0_color']\n",
    "img_front = data['camera_1_color']\n",
    "\n",
    "agentview_rgb=img_wrist \n",
    "eye_in_hand_rgb=img_front\n",
    "agentview_rgb.shape, eye_in_hand_rgb.shape"
   ]
  },
  {
   "cell_type": "code",
   "execution_count": null,
   "metadata": {},
   "outputs": [
    {
     "data": {
      "text/plain": [
       "<matplotlib.image.AxesImage at 0x75a3d351e2c0>"
      ]
     },
     "metadata": {},
     "output_type": "display_data"
    },
    {
     "data": {
      "image/png": "[encoded data removed]",
      "text/plain": [
       "<Figure size 640x480 with 2 Axes>"
      ]
     },
     "metadata": {},
     "output_type": "display_data"
    }
   ],
   "source": [
    "plt.subplot(121)\n",
    "plt.imshow(agentview_rgb[:,:,::-1])\n",
    "plt.subplot(122)\n",
    "plt.imshow(eye_in_hand_rgb[:,:,::-1])"
   ]
  },
  {
   "cell_type": "code",
   "execution_count": null,
   "metadata": {},
   "outputs": [],
   "source": []
  },
  {
   "cell_type": "code",
   "execution_count": null,
   "metadata": {},
   "outputs": [],
   "source": [
    "def get_current_obs(robot_interface):\n",
    "    last_state = robot_interface._state_buffer[-1]\n",
    "    last_gripper_state = robot_interface._gripper_state_buffer[-1]\n",
    "\n",
    "    obs_dict = raw_obs_dict_generator.get_raw_obs_dict(\n",
    "    {\"last_state\": last_state, \"last_gripper_state\": last_gripper_state})\n",
    "    # obs_dict={} #rgb only \n",
    "\n",
    "    data = get_imgs()\n",
    "    img_wrist = data['camera_0_color']\n",
    "    img_front = data['camera_1_color']\n",
    "\n",
    "    agentview_rgb=img_wrist\n",
    "    eye_in_hand_rgb=img_front\n",
    "    # agentview_rgb=cv2.resize(img_wrist, (120, 120))  \n",
    "    # eye_in_hand_rgb=cv2.resize(img_front, (120, 120)) \n",
    "\n",
    "    # agentview_rgb.shape, eye_in_hand_rgb.shape\n",
    "\n",
    "    obs_dict['agentview_rgb']=agentview_rgb.transpose(2, 1, 0)\n",
    "    obs_dict['eye_in_hand_rgb']=eye_in_hand_rgb.transpose(2, 1, 0)\n",
    "    return obs_dict"
   ]
  },
  {
   "cell_type": "code",
   "execution_count": null,
   "metadata": {},
   "outputs": [
    {
     "name": "stdout",
     "output_type": "stream",
     "text": [
      "ee_states (1, 16)\n",
      "joint_states (1, 7)\n",
      "gripper_states (1, 1)\n",
      "agentview_rgb (1, 3, 320, 240)\n",
      "eye_in_hand_rgb (1, 3, 320, 240)\n"
     ]
    }
   ],
   "source": [
    "obs_dict=get_current_obs(robot_interface)\n",
    "for key in obs_dict.keys():\n",
    "    obs_dict[key]=obs_dict[key][None]\n",
    "    print(key, obs_dict[key].shape)"
   ]
  },
  {
   "cell_type": "markdown",
   "metadata": {},
   "source": [
    "### now load trans policy"
   ]
  },
  {
   "cell_type": "code",
   "execution_count": null,
   "metadata": {},
   "outputs": [
    {
     "name": "stderr",
     "output_type": "stream",
     "text": [
      "/home/franka_deoxys/robomimic/robomimic/utils/file_utils.py:186: FutureWarning: You are using `torch.load` with `weights_only=False` (the current default value), which uses the default pickle module implicitly. It is possible to construct malicious pickle data which will execute arbitrary code during unpickling (See https://github.com/pytorch/pytorch/blob/main/SECURITY.md#untrusted-models for more details). In a future release, the default value for `weights_only` will be flipped to `True`. This limits the functions that could be executed during unpickling. Arbitrary objects will no longer be allowed to be loaded via this mode unless they are explicitly allowlisted by the user via `torch.serialization.add_safe_globals`. We recommend you start setting `weights_only=True` for any use case where you don't have full control of the loaded file. Please open an issue on GitHub for any issues related to this experimental feature.\n",
      "  ckpt_dict = torch.load(ckpt_path)\n"
     ]
    },
    {
     "name": "stdout",
     "output_type": "stream",
     "text": [
      "\n",
      "============= Initialized Observation Utils with Obs Spec =============\n",
      "\n",
      "using obs modality: low_dim with keys: ['joint_states', 'ee_states', 'gripper_states']\n",
      "using obs modality: rgb with keys: ['agentview_rgb', 'eye_in_hand_rgb']\n",
      "using obs modality: depth with keys: []\n",
      "using obs modality: scan with keys: []\n"
     ]
    },
    {
     "name": "stderr",
     "output_type": "stream",
     "text": [
      "/home/franka_deoxys/.local/lib/python3.10/site-packages/torchvision/models/_utils.py:208: UserWarning: The parameter 'pretrained' is deprecated since 0.13 and may be removed in the future, please use 'weights' instead.\n",
      "  warnings.warn(\n",
      "/home/franka_deoxys/.local/lib/python3.10/site-packages/torchvision/models/_utils.py:223: UserWarning: Arguments other than a weight enum or `None` for 'weights' are deprecated since 0.13 and may be removed in the future. The current behavior is equivalent to passing `weights=None`.\n",
      "  warnings.warn(msg)\n"
     ]
    },
    {
     "name": "stdout",
     "output_type": "stream",
     "text": [
      "Created GPT_Backbone model with number of parameters: 18906112\n",
      "\n",
      "============= Initialized Observation Utils with Obs Spec =============\n",
      "\n",
      "using obs modality: low_dim with keys: ['joint_states', 'ee_states', 'gripper_states']\n",
      "using obs modality: rgb with keys: ['agentview_rgb', 'eye_in_hand_rgb']\n",
      "using obs modality: depth with keys: []\n",
      "using obs modality: scan with keys: []\n"
     ]
    }
   ],
   "source": [
    "# ckpt_path = \"/home/franka_deoxys/data_franka/policies/drawer_trans_lay53/model_epoch_400.pth\"\n",
    "ckpt_path = \"/home/franka_deoxys/data_franka/policies/drawer_trans_lay53/trans_2p5_model_epoch_320.pth\"\n",
    "\n",
    "\n",
    "\n",
    "assert os.path.exists(ckpt_path)\n",
    "\n",
    " \n",
    "# restore policy\n",
    "policy, ckpt_dict = FileUtils.policy_from_checkpoint(ckpt_path=ckpt_path, device=device, verbose=False)\n",
    "ckpt_dict = FileUtils.maybe_dict_from_checkpoint(ckpt_path=ckpt_path, ckpt_dict=None)\n",
    "# algo name and config from model dict\n",
    "algo_name, _ = FileUtils.algo_name_from_checkpoint(ckpt_dict=ckpt_dict)\n",
    "config, _ = FileUtils.config_from_checkpoint(algo_name=algo_name, ckpt_dict=ckpt_dict, verbose=False)\n",
    "\n",
    "config.unlock()\n",
    "config.train.data=\"/media/franka_deoxys/DATA/demo_rss_paper/drawer/zahid11/demo.hdf5\"\n",
    "config.lock() \n",
    "\n",
    "\n",
    "ObsUtils.initialize_obs_utils_with_config(config)\n",
    "\n",
    "# shape_meta = FileUtils.get_shape_metadata_from_dataset(\n",
    "#     dataset_path=config.train.data,\n",
    "#     all_obs_keys=config.all_obs_keys,\n",
    "#     verbose=False\n",
    "# )\n",
    "# trainset, validset = TrainUtils.load_data_for_training(\n",
    "#     config, obs_keys=shape_meta[\"all_obs_keys\"])\n",
    "# len(trainset.demos)"
   ]
  },
  {
   "cell_type": "code",
   "execution_count": null,
   "metadata": {},
   "outputs": [],
   "source": [
    "model = policy.policy\n",
    "model.set_eval()"
   ]
  },
  {
   "cell_type": "code",
   "execution_count": null,
   "metadata": {},
   "outputs": [],
   "source": [
    "# num_frames=10\n",
    "# framestacker=FrameStackForTrans(num_frames=num_frames)"
   ]
  },
  {
   "cell_type": "code",
   "execution_count": null,
   "metadata": {},
   "outputs": [],
   "source": [
    "framestacker=FrameStackForTrans(10)\n",
    "keys_select = ['agentview_rgb', 'joint_states', 'ee_states', 'eye_in_hand_rgb', 'gripper_states']"
   ]
  },
  {
   "cell_type": "code",
   "execution_count": null,
   "metadata": {},
   "outputs": [
    {
     "name": "stdout",
     "output_type": "stream",
     "text": [
      "ee_states (16,)\n",
      "joint_states (7,)\n",
      "gripper_states (1,)\n",
      "agentview_rgb (3, 320, 240)\n",
      "eye_in_hand_rgb (3, 320, 240)\n"
     ]
    }
   ],
   "source": [
    "obs_dict=get_current_obs(robot_interface)\n",
    "for key in obs_dict.keys(): \n",
    "    print(key, obs_dict[key].shape)"
   ]
  },
  {
   "cell_type": "code",
   "execution_count": null,
   "metadata": {},
   "outputs": [],
   "source": [
    "init_obs =get_current_obs(robot_interface)\n",
    "obs=framestacker.reset(init_obs)"
   ]
  },
  {
   "cell_type": "code",
   "execution_count": null,
   "metadata": {},
   "outputs": [
    {
     "data": {
      "text/plain": [
       "array([-0.   ,  0.002, -0.004, -0.   , -0.001, -0.003,  0.   ],\n",
       "      dtype=float32)"
      ]
     },
     "metadata": {},
     "output_type": "display_data"
    }
   ],
   "source": [
    "init_obs =get_current_obs(robot_interface)\n",
    "obs=framestacker.reset(init_obs)\n",
    "obs=TensorUtils.to_torch(obs, device=device)\n",
    "\n",
    "batch_obs={key:obs[key][None] for key in obs} \n",
    "pred = model.get_action(obs_dict=batch_obs , goal_dict=None)\n",
    "ac=pred.detach().cpu().numpy().squeeze()\n",
    "ac"
   ]
  },
  {
   "cell_type": "code",
   "execution_count": null,
   "metadata": {},
   "outputs": [
    {
     "data": {
      "text/plain": [
       "array([ 0.004, -0.004, -0.023,  0.004,  0.004, -0.001, -0.   ],\n",
       "      dtype=float32)"
      ]
     },
     "metadata": {},
     "output_type": "display_data"
    }
   ],
   "source": [
    "obs_t = get_current_obs(robot_interface)\n",
    "obs=framestacker.add_new_obs(obs_t)\n",
    "obs=TensorUtils.to_torch(obs, device=device)\n",
    "batch_obs={key:obs[key][None] for key in obs} \n",
    "pred = model.get_action(obs_dict=batch_obs , goal_dict=None)\n",
    "action=pred.detach().cpu().numpy().squeeze() \n",
    "action "
   ]
  },
  {
   "cell_type": "code",
   "execution_count": null,
   "metadata": {},
   "outputs": [],
   "source": [
    "import h5py \n",
    "hdf5_file_path = \"/media/franka_deoxys/DATA/demo_rss_paper/drawer/zahid11/demo.hdf5\"\n",
    "file = h5py.File(hdf5_file_path, \"r\")\n",
    "demos = file['data']\n",
    "demo = file['data']['demo_1']"
   ]
  },
  {
   "cell_type": "code",
   "execution_count": null,
   "metadata": {},
   "outputs": [
    {
     "data": {
      "text/plain": [
       "array([ 0.183, -0.009, -0.   ,  0.   ,  0.05 , -0.   , -1.   ])"
      ]
     },
     "metadata": {},
     "output_type": "display_data"
    }
   ],
   "source": [
    "demo['actions'][:][0]"
   ]
  },
  {
   "cell_type": "code",
   "execution_count": null,
   "metadata": {},
   "outputs": [],
   "source": [
    "prev_pos = np.array([0, 0, 0, 0, 0, 0, -1])\n",
    "# prev_pos = np.array([ 0.183, -0.009, -0.   ,  0.   ,  0.05 , -0.   , -1.   ])"
   ]
  },
  {
   "cell_type": "code",
   "execution_count": null,
   "metadata": {},
   "outputs": [
    {
     "data": {
      "text/plain": [
       "array([ 0.,  0.,  0.,  0.,  0.,  0., -1.])"
      ]
     },
     "metadata": {},
     "output_type": "display_data"
    }
   ],
   "source": [
    "new_pos = prev_pos + action\n",
    "new_pos "
   ]
  },
  {
   "cell_type": "code",
   "execution_count": null,
   "metadata": {},
   "outputs": [],
   "source": []
  },
  {
   "cell_type": "markdown",
   "metadata": {},
   "source": [
    "### Now run inference in loop"
   ]
  },
  {
   "cell_type": "code",
   "execution_count": null,
   "metadata": {},
   "outputs": [
    {
     "name": "stdout",
     "output_type": "stream",
     "text": [
      "JOINT_POSITION\n"
     ]
    }
   ],
   "source": [
    "# reset robot\n",
    "reset_joints_to(robot_interface, reset_joint_positions)\n",
    "set_gripper(open=True)"
   ]
  },
  {
   "cell_type": "code",
   "execution_count": null,
   "metadata": {},
   "outputs": [
    {
     "data": {
      "text/plain": [
       "'OSC_POSE'"
      ]
     },
     "metadata": {},
     "output_type": "display_data"
    }
   ],
   "source": [
    "controller_type"
   ]
  },
  {
   "cell_type": "code",
   "execution_count": null,
   "metadata": {},
   "outputs": [],
   "source": [
    "controller_type = 'CARTESIAN_VELOCITY'\n",
    "controller_type = 'OSC_POSE'"
   ]
  },
  {
   "cell_type": "code",
   "execution_count": null,
   "metadata": {},
   "outputs": [],
   "source": []
  },
  {
   "cell_type": "code",
   "execution_count": null,
   "metadata": {},
   "outputs": [
    {
     "ename": "KeyboardInterrupt",
     "evalue": "",
     "output_type": "error",
     "traceback": [
      "\u001b[0;31m---------------------------------------------------------------------------\u001b[0m\n",
      "\u001b[0;31mKeyboardInterrupt\u001b[0m                         Traceback (most recent call last)\n",
      "Cell \u001b[0;32mIn[43], line 40\u001b[0m\n",
      "\u001b[1;32m     32\u001b[0m     robot_interface\u001b[38;5;241m.\u001b[39mcontrol(\n",
      "\u001b[1;32m     33\u001b[0m         controller_type\u001b[38;5;241m=\u001b[39mcontroller_type,\n",
      "\u001b[1;32m     34\u001b[0m         action\u001b[38;5;241m=\u001b[39maction,\n",
      "\u001b[1;32m     35\u001b[0m         controller_cfg\u001b[38;5;241m=\u001b[39mcontroller_cfg,\n",
      "\u001b[1;32m     36\u001b[0m     )\n",
      "\u001b[1;32m     38\u001b[0m     prev_pos \u001b[38;5;241m=\u001b[39m new_pos\n",
      "\u001b[0;32m---> 40\u001b[0m     \u001b[43mtime\u001b[49m\u001b[38;5;241;43m.\u001b[39;49m\u001b[43msleep\u001b[49m\u001b[43m(\u001b[49m\u001b[38;5;241;43m0.045\u001b[39;49m\u001b[43m)\u001b[49m\n",
      "\u001b[1;32m     43\u001b[0m robot_interface\u001b[38;5;241m.\u001b[39mclose()\n",
      "\n",
      "\u001b[0;31mKeyboardInterrupt\u001b[0m: "
     ]
    }
   ],
   "source": [
    "# policy.reset()\n",
    " \n",
    "images = []\n",
    "actions_executed = []\n",
    "for _ in range(500):\n",
    "    action, grasp = input2action(\n",
    "        device=spacemouse,\n",
    "        controller_type=controller_type,\n",
    "    )\n",
    "    if action is None:\n",
    "        break\n",
    "    if len(robot_interface._state_buffer) == 0:\n",
    "        continue\n",
    "\n",
    "    obs_t = get_current_obs(robot_interface)\n",
    "    imgs1=obs_t['agentview_rgb']\n",
    "    imgs2=obs_t['eye_in_hand_rgb']\n",
    "    img=np.concatenate([imgs1, imgs2], axis=1).transpose(2,1,0)\n",
    "    images.append(img)\n",
    "\n",
    "\n",
    "    obs=framestacker.add_new_obs(obs_t)\n",
    "    obs=TensorUtils.to_torch(obs, device=device)\n",
    "    batch_obs={key:obs[key][None] for key in obs} \n",
    "    pred = model.get_action(obs_dict=batch_obs , goal_dict=None)\n",
    "    action=pred.detach().cpu().numpy().squeeze() \n",
    "\n",
    "    new_pos = prev_pos + action*(1.0/2.5)\n",
    "    action = new_pos \n",
    "    actions_executed.append(action)\n",
    "\n",
    "    robot_interface.control(\n",
    "        controller_type=controller_type,\n",
    "        action=action,\n",
    "        controller_cfg=controller_cfg,\n",
    "    )\n",
    "\n",
    "    prev_pos = new_pos\n",
    "\n",
    "    time.sleep(0.045)\n",
    "\n",
    "    \n",
    "robot_interface.close()"
   ]
  },
  {
   "cell_type": "code",
   "execution_count": null,
   "metadata": {},
   "outputs": [
    {
     "data": {
      "text/plain": [
       "[array([ 0.002, -0.002, -0.01 ,  0.001,  0.002, -0.001, -1.   ]),\n",
       " array([ 0.002, -0.001, -0.012,  0.001,  0.001, -0.002, -1.   ]),\n",
       " array([-0.001, -0.022, -0.018,  0.002,  0.001, -0.004, -1.   ]),\n",
       " array([-0.002, -0.022, -0.018,  0.002,  0.001, -0.005, -0.999]),\n",
       " array([-0.001, -0.024, -0.028,  0.003,  0.003, -0.005, -0.999]),\n",
       " array([-0.002, -0.023, -0.028,  0.003,  0.003, -0.005, -0.999]),\n",
       " array([-0.003, -0.023, -0.029,  0.003,  0.003, -0.006, -0.999]),\n",
       " array([-0.004, -0.023, -0.029,  0.002,  0.003, -0.006, -0.999]),\n",
       " array([-0.002, -0.025, -0.039,  0.004,  0.005, -0.006, -0.999]),\n",
       " array([-0.002, -0.024, -0.041,  0.004,  0.004, -0.008, -0.999]),\n",
       " array([-0.003, -0.024, -0.041,  0.004,  0.004, -0.008, -0.999]),\n",
       " array([-0.005, -0.024, -0.042,  0.003,  0.005, -0.008, -0.999]),\n",
       " array([-0.006, -0.024, -0.042,  0.003,  0.005, -0.009, -0.998]),\n",
       " array([-0.005, -0.024, -0.044,  0.003,  0.004, -0.01 , -0.998]),\n",
       " array([-0.007, -0.023, -0.045,  0.003,  0.004, -0.01 , -0.998]),\n",
       " array([-0.008, -0.023, -0.045,  0.003,  0.004, -0.011, -0.998]),\n",
       " array([-0.008, -0.023, -0.047,  0.003,  0.004, -0.012, -0.998]),\n",
       " array([-0.006, -0.025, -0.057,  0.004,  0.006, -0.012, -0.998]),\n",
       " array([-0.006, -0.024, -0.059,  0.004,  0.006, -0.014, -0.998]),\n",
       " array([-0.007, -0.024, -0.06 ,  0.004,  0.006, -0.014, -0.997]),\n",
       " array([-0.007, -0.024, -0.062,  0.004,  0.006, -0.015, -0.997]),\n",
       " array([-0.006, -0.026, -0.056,  0.004,  0.006, -0.018, -1.068]),\n",
       " array([-0.004, -0.029, -0.066,  0.005,  0.008, -0.018, -1.068]),\n",
       " array([-0.005, -0.028, -0.067,  0.005,  0.008, -0.018, -1.068]),\n",
       " array([-0.008, -0.05 , -0.074,  0.006,  0.008, -0.021, -1.068]),\n",
       " array([-0.008, -0.05 , -0.076,  0.006,  0.008, -0.022, -1.068]),\n",
       " array([-0.006, -0.052, -0.086,  0.007,  0.01 , -0.023, -1.068]),\n",
       " array([-0.007, -0.052, -0.087,  0.007,  0.01 , -0.023, -1.068]),\n",
       " array([-0.008, -0.052, -0.088,  0.007,  0.01 , -0.024, -1.067]),\n",
       " array([-0.008, -0.052, -0.09 ,  0.007,  0.009, -0.025, -1.067]),\n",
       " array([-0.008, -0.052, -0.092,  0.007,  0.009, -0.026, -1.067]),\n",
       " array([-0.008, -0.053, -0.095,  0.007,  0.009, -0.027, -1.067]),\n",
       " array([-0.006, -0.055, -0.106,  0.009,  0.011, -0.028, -1.067]),\n",
       " array([-0.007, -0.055, -0.106,  0.008,  0.011, -0.028, -1.067]),\n",
       " array([-0.005, -0.058, -0.118,  0.01 ,  0.013, -0.029, -1.067]),\n",
       " array([-0.006, -0.058, -0.118,  0.01 ,  0.013, -0.029, -1.067]),\n",
       " array([-0.008, -0.058, -0.119,  0.009,  0.013, -0.03 , -1.066]),\n",
       " array([-0.006, -0.061, -0.13 ,  0.011,  0.015, -0.03 , -1.067]),\n",
       " array([-0.008, -0.085, -0.139,  0.012,  0.016, -0.034, -1.066]),\n",
       " array([-0.009, -0.085, -0.139,  0.012,  0.016, -0.034, -1.066]),\n",
       " array([-0.009, -0.086, -0.142,  0.012,  0.016, -0.035, -1.066]),\n",
       " array([-0.01 , -0.086, -0.143,  0.011,  0.016, -0.036, -1.066]),\n",
       " array([-0.01 , -0.087, -0.145,  0.011,  0.015, -0.037, -1.065])]"
      ]
     },
     "metadata": {},
     "output_type": "display_data"
    }
   ],
   "source": [
    "actions_executed"
   ]
  },
  {
   "cell_type": "code",
   "execution_count": null,
   "metadata": {},
   "outputs": [],
   "source": []
  },
  {
   "cell_type": "markdown",
   "metadata": {},
   "source": [
    "### saving the images as video file"
   ]
  },
  {
   "cell_type": "code",
   "execution_count": null,
   "metadata": {},
   "outputs": [
    {
     "name": "stdout",
     "output_type": "stream",
     "text": [
      "saving video to:  inference_videos/trans_2024-12-29_14_15.mp4\n"
     ]
    }
   ],
   "source": [
    "import imageio \n",
    "from datetime import datetime\n",
    "\n",
    "now = datetime.now().strftime(\"%Y-%m-%d_%H_%M\")\n",
    "savepath = f\"inference_videos/trans_{now}.mp4\"\n",
    "\n",
    "print('saving video to: ', savepath)\n",
    "\n",
    "writer = imageio.get_writer(savepath, fps=10)\n",
    "for img in images:\n",
    "    img = cv2.cvtColor(img, cv2.COLOR_BGR2RGB) \n",
    "    writer.append_data(img)\n",
    "writer.close()"
   ]
  },
  {
   "cell_type": "code",
   "execution_count": null,
   "metadata": {},
   "outputs": [
    {
     "data": {
      "text/plain": [
       "[array([ 0.184, -0.007,  0.001,  0.001,  0.05 ,  0.001, -1.001]),\n",
       " array([ 0.185, -0.006,  0.002,  0.002,  0.05 ,  0.001, -1.001]),\n",
       " array([ 0.186, -0.005,  0.003,  0.003,  0.049,  0.002, -1.002]),\n",
       " array([ 0.185, -0.003, -0.005,  0.003,  0.049,  0.002, -1.003]),\n",
       " array([ 0.186, -0.001, -0.004,  0.004,  0.048,  0.002, -1.003]),\n",
       " array([ 0.187,  0.   , -0.003,  0.005,  0.048,  0.003, -1.004]),\n",
       " array([ 0.186,  0.002, -0.012,  0.004,  0.047,  0.003, -1.005]),\n",
       " array([ 0.185,  0.003, -0.02 ,  0.003,  0.047,  0.003, -1.006]),\n",
       " array([ 0.186,  0.005, -0.019,  0.004,  0.047,  0.003, -1.007]),\n",
       " array([ 0.187,  0.006, -0.018,  0.006,  0.046,  0.004, -1.008]),\n",
       " array([ 0.188,  0.008, -0.018,  0.007,  0.046,  0.005, -1.008]),\n",
       " array([ 0.189,  0.009, -0.017,  0.008,  0.045,  0.005, -1.009]),\n",
       " array([ 0.19 ,  0.011, -0.016,  0.009,  0.045,  0.005, -1.01 ]),\n",
       " array([ 0.191,  0.012, -0.015,  0.01 ,  0.045,  0.006, -1.01 ]),\n",
       " array([ 0.189,  0.016, -0.01 ,  0.018,  0.039,  0.004, -2.01 ]),\n",
       " array([ 0.188,  0.018, -0.019,  0.017,  0.039,  0.004, -2.012]),\n",
       " array([ 0.189,  0.019, -0.018,  0.018,  0.039,  0.004, -2.012]),\n",
       " array([ 0.19 ,  0.02 , -0.017,  0.019,  0.039,  0.005, -2.013]),\n",
       " array([ 0.191,  0.022, -0.017,  0.021,  0.038,  0.005, -2.014]),\n",
       " array([ 0.192,  0.023, -0.016,  0.022,  0.038,  0.006, -2.014]),\n",
       " array([ 0.193,  0.025, -0.015,  0.023,  0.038,  0.006, -2.015]),\n",
       " array([ 0.194,  0.026, -0.015,  0.024,  0.037,  0.007, -2.015]),\n",
       " array([ 0.195,  0.027, -0.014,  0.025,  0.037,  0.008, -2.016]),\n",
       " array([ 0.196,  0.029, -0.013,  0.026,  0.037,  0.008, -2.016]),\n",
       " array([ 0.197,  0.03 , -0.013,  0.028,  0.037,  0.009, -2.017]),\n",
       " array([ 0.198,  0.031, -0.012,  0.029,  0.037,  0.009, -2.018]),\n",
       " array([ 0.199,  0.033, -0.012,  0.03 ,  0.036,  0.01 , -2.018]),\n",
       " array([ 0.2  ,  0.034, -0.011,  0.031,  0.036,  0.011, -2.019]),\n",
       " array([ 0.2  ,  0.035, -0.011,  0.032,  0.036,  0.011, -2.019]),\n",
       " array([ 0.201,  0.037, -0.01 ,  0.033,  0.035,  0.012, -2.02 ]),\n",
       " array([ 0.202,  0.038, -0.01 ,  0.034,  0.035,  0.012, -2.02 ]),\n",
       " array([ 0.203,  0.039, -0.009,  0.036,  0.035,  0.013, -2.021]),\n",
       " array([ 0.204,  0.041, -0.009,  0.037,  0.034,  0.014, -2.022]),\n",
       " array([ 0.205,  0.042, -0.008,  0.038,  0.034,  0.015, -2.022]),\n",
       " array([ 0.206,  0.043, -0.008,  0.039,  0.034,  0.015, -2.023]),\n",
       " array([ 0.207,  0.044, -0.007,  0.041,  0.034,  0.016, -2.024]),\n",
       " array([ 0.208,  0.046, -0.007,  0.042,  0.034,  0.016, -2.024]),\n",
       " array([ 0.208,  0.047, -0.017,  0.041,  0.034,  0.016, -2.025]),\n",
       " array([ 0.209,  0.048, -0.017,  0.042,  0.033,  0.017, -2.026]),\n",
       " array([ 0.209,  0.049, -0.027,  0.042,  0.033,  0.017, -2.027]),\n",
       " array([ 0.21 ,  0.051, -0.027,  0.043,  0.033,  0.018, -2.028]),\n",
       " array([ 0.21 ,  0.052, -0.027,  0.044,  0.033,  0.019, -2.028]),\n",
       " array([ 0.211,  0.053, -0.026,  0.045,  0.032,  0.019, -2.029]),\n",
       " array([ 0.212,  0.054, -0.026,  0.046,  0.032,  0.02 , -2.03 ]),\n",
       " array([ 0.213,  0.055, -0.026,  0.047,  0.032,  0.021, -2.03 ]),\n",
       " array([ 0.214,  0.057, -0.026,  0.049,  0.032,  0.021, -2.031]),\n",
       " array([ 0.215,  0.058, -0.025,  0.05 ,  0.031,  0.022, -2.032]),\n",
       " array([ 0.216,  0.06 , -0.025,  0.051,  0.031,  0.022, -2.032]),\n",
       " array([ 0.216,  0.061, -0.036,  0.05 ,  0.031,  0.023, -2.034]),\n",
       " array([ 0.216,  0.063, -0.047,  0.05 ,  0.031,  0.023, -2.035]),\n",
       " array([ 0.217,  0.064, -0.047,  0.051,  0.03 ,  0.024, -2.035]),\n",
       " array([ 0.218,  0.066, -0.046,  0.053,  0.03 ,  0.025, -2.036]),\n",
       " array([ 0.219,  0.067, -0.046,  0.054,  0.03 ,  0.025, -2.037]),\n",
       " array([ 0.22 ,  0.068, -0.046,  0.055,  0.029,  0.026, -2.037]),\n",
       " array([ 0.221,  0.069, -0.045,  0.056,  0.029,  0.027, -2.038]),\n",
       " array([ 0.221,  0.071, -0.056,  0.055,  0.029,  0.028, -2.039]),\n",
       " array([ 0.222,  0.073, -0.056,  0.057,  0.028,  0.028, -2.04 ]),\n",
       " array([ 0.223,  0.074, -0.056,  0.058,  0.028,  0.029, -2.041])]"
      ]
     },
     "metadata": {},
     "output_type": "display_data"
    }
   ],
   "source": [
    "actions_executed"
   ]
  }
 ],
 "metadata": {
  "kernelspec": {
   "display_name": "robodiff_2",
   "language": "python",
   "name": "python3"
  },
  "language_info": {
   "codemirror_mode": {
    "name": "ipython",
    "version": 3
   },
   "file_extension": ".py",
   "mimetype": "text/x-python",
   "name": "python",
   "nbconvert_exporter": "python",
   "pygments_lexer": "ipython3",
   "version": "3.9.18"
  }
 },
 "nbformat": 4,
 "nbformat_minor": 2
}
