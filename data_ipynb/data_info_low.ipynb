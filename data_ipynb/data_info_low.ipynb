{
 "cells": [
  {
   "cell_type": "code",
   "execution_count": 1,
   "metadata": {},
   "outputs": [
    {
     "name": "stderr",
     "output_type": "stream",
     "text": [
      "/home/franka_deoxys/.local/lib/python3.10/site-packages/matplotlib/projections/__init__.py:63: UserWarning: Unable to import Axes3D. This may be due to multiple versions of Matplotlib being installed (e.g. as a system package and as a pip package). As a result, the 3D projection is not available.\n",
      "  warnings.warn(\"Unable to import Axes3D. This may be due to multiple versions of \"\n"
     ]
    }
   ],
   "source": [
    "import numpy as np\n",
    "import matplotlib.pyplot as plt \n",
    "import h5py\n",
    "\n",
    "np.set_printoptions(precision=2, suppress=True)"
   ]
  },
  {
   "cell_type": "code",
   "execution_count": 3,
   "metadata": {},
   "outputs": [
    {
     "data": {
      "text/plain": [
       "<KeysViewHDF5 ['data']>"
      ]
     },
     "execution_count": 3,
     "metadata": {},
     "output_type": "execute_result"
    }
   ],
   "source": [
    "dataset_path = \"/home/franka_deoxys/data_franka/run1/recorded_trajecotry.hdf5\"\n",
    "dataset_path = \"/home/franka_deoxys/data_franka/run3/recorded_trajecotry.hdf5\"\n",
    "dataset_path = \"/home/franka_deoxys/data_franka/low/run4/recorded_trajecotry.hdf5\"\n",
    "\n",
    "f=h5py.File(dataset_path, 'r')\n",
    "f.keys()"
   ]
  },
  {
   "cell_type": "code",
   "execution_count": 4,
   "metadata": {},
   "outputs": [
    {
     "data": {
      "text/plain": [
       "<KeysViewHDF5 ['actions', 'ee_states', 'gripper_states', 'joint_states']>"
      ]
     },
     "execution_count": 4,
     "metadata": {},
     "output_type": "execute_result"
    }
   ],
   "source": [
    "f['data'].keys()"
   ]
  },
  {
   "cell_type": "code",
   "execution_count": 5,
   "metadata": {},
   "outputs": [
    {
     "data": {
      "text/plain": [
       "(732, 7)"
      ]
     },
     "execution_count": 5,
     "metadata": {},
     "output_type": "execute_result"
    }
   ],
   "source": [
    "f['data']['actions'].shape"
   ]
  },
  {
   "cell_type": "code",
   "execution_count": 6,
   "metadata": {},
   "outputs": [
    {
     "data": {
      "text/plain": [
       "array([[ 0.  ,  0.  , -0.01,  0.  ,  0.  , -0.  , -1.  ],\n",
       "       [ 0.  ,  0.  , -0.02,  0.  ,  0.  , -0.  , -1.  ],\n",
       "       [ 0.  ,  0.  , -0.03,  0.  ,  0.  , -0.  , -1.  ],\n",
       "       [ 0.  ,  0.  , -0.03,  0.  ,  0.  , -0.  , -1.  ],\n",
       "       [ 0.  ,  0.  , -0.05,  0.  ,  0.  , -0.  , -1.  ],\n",
       "       [ 0.  ,  0.  , -0.06,  0.  ,  0.  , -0.  , -1.  ],\n",
       "       [ 0.  ,  0.  , -0.08,  0.  ,  0.  , -0.  , -1.  ],\n",
       "       [ 0.  ,  0.  , -0.09,  0.  ,  0.  , -0.  , -1.  ],\n",
       "       [ 0.  ,  0.  , -0.08,  0.  ,  0.  , -0.  , -1.  ],\n",
       "       [ 0.  ,  0.  , -0.09,  0.  ,  0.  , -0.  , -1.  ],\n",
       "       [ 0.  ,  0.  , -0.07,  0.  ,  0.  , -0.  , -1.  ],\n",
       "       [ 0.  ,  0.  , -0.09,  0.  ,  0.  , -0.  , -1.  ],\n",
       "       [ 0.  ,  0.  , -0.09,  0.  ,  0.  , -0.  , -1.  ],\n",
       "       [ 0.  ,  0.  , -0.1 ,  0.  ,  0.  , -0.  , -1.  ],\n",
       "       [ 0.  ,  0.  , -0.1 ,  0.  ,  0.  , -0.  , -1.  ],\n",
       "       [ 0.  ,  0.  , -0.1 ,  0.  ,  0.  , -0.  , -1.  ],\n",
       "       [ 0.  ,  0.  , -0.11,  0.  ,  0.  , -0.  , -1.  ],\n",
       "       [ 0.  ,  0.  , -0.12,  0.  ,  0.  , -0.  , -1.  ],\n",
       "       [ 0.  ,  0.  , -0.12,  0.  ,  0.  , -0.  , -1.  ],\n",
       "       [ 0.  ,  0.  , -0.13,  0.  ,  0.  , -0.  , -1.  ],\n",
       "       [ 0.  ,  0.  , -0.13,  0.  ,  0.  , -0.  , -1.  ],\n",
       "       [ 0.  ,  0.  , -0.13,  0.  ,  0.  , -0.  , -1.  ],\n",
       "       [ 0.  ,  0.  , -0.13,  0.  ,  0.  , -0.  , -1.  ],\n",
       "       [ 0.  ,  0.  , -0.14,  0.  ,  0.  , -0.  , -1.  ],\n",
       "       [ 0.  ,  0.  , -0.13,  0.  ,  0.  , -0.  , -1.  ],\n",
       "       [ 0.  ,  0.  , -0.13,  0.  ,  0.  , -0.  , -1.  ],\n",
       "       [ 0.  ,  0.  , -0.15,  0.  ,  0.  , -0.  , -1.  ],\n",
       "       [ 0.  ,  0.  , -0.15,  0.  ,  0.  , -0.  , -1.  ],\n",
       "       [ 0.  ,  0.  , -0.15,  0.  ,  0.  , -0.  , -1.  ],\n",
       "       [ 0.  ,  0.  , -0.15,  0.  ,  0.  , -0.  , -1.  ],\n",
       "       [ 0.  ,  0.  , -0.16,  0.  ,  0.  , -0.  , -1.  ],\n",
       "       [ 0.  ,  0.  , -0.16,  0.  ,  0.  , -0.  , -1.  ],\n",
       "       [ 0.  ,  0.  , -0.17,  0.  ,  0.  , -0.  , -1.  ],\n",
       "       [ 0.  ,  0.  , -0.17,  0.  ,  0.  , -0.  , -1.  ],\n",
       "       [ 0.  ,  0.  , -0.17,  0.  ,  0.  , -0.  , -1.  ],\n",
       "       [ 0.  ,  0.  , -0.17,  0.  ,  0.  , -0.  , -1.  ],\n",
       "       [ 0.  ,  0.  , -0.17,  0.  ,  0.  , -0.  , -1.  ],\n",
       "       [ 0.  ,  0.  , -0.17,  0.  ,  0.  , -0.  , -1.  ],\n",
       "       [ 0.  ,  0.  , -0.17,  0.  ,  0.  , -0.  , -1.  ],\n",
       "       [ 0.  ,  0.  , -0.17,  0.  ,  0.  , -0.  , -1.  ],\n",
       "       [ 0.  ,  0.  , -0.17,  0.  ,  0.  , -0.  , -1.  ],\n",
       "       [ 0.  ,  0.  , -0.17,  0.  ,  0.  , -0.  , -1.  ],\n",
       "       [ 0.  ,  0.  , -0.16,  0.  ,  0.  , -0.  , -1.  ],\n",
       "       [ 0.  ,  0.  , -0.15,  0.  ,  0.  , -0.  , -1.  ],\n",
       "       [ 0.  ,  0.  , -0.15,  0.  ,  0.  , -0.  , -1.  ],\n",
       "       [ 0.  ,  0.  , -0.16,  0.  ,  0.  , -0.  , -1.  ],\n",
       "       [ 0.  ,  0.  , -0.16,  0.  ,  0.  , -0.  , -1.  ],\n",
       "       [ 0.  ,  0.  , -0.17,  0.  ,  0.  , -0.  , -1.  ],\n",
       "       [ 0.  ,  0.  , -0.17,  0.  ,  0.  , -0.  , -1.  ],\n",
       "       [ 0.  ,  0.  , -0.15,  0.  ,  0.  , -0.  , -1.  ],\n",
       "       [ 0.  ,  0.  , -0.15,  0.  ,  0.  , -0.  , -1.  ],\n",
       "       [ 0.  ,  0.  , -0.15,  0.  ,  0.  , -0.  , -1.  ],\n",
       "       [ 0.  ,  0.  , -0.15,  0.  ,  0.  , -0.  , -1.  ],\n",
       "       [ 0.  ,  0.  , -0.14,  0.  ,  0.  , -0.  , -1.  ],\n",
       "       [ 0.  ,  0.  , -0.14,  0.  ,  0.  , -0.  , -1.  ],\n",
       "       [ 0.  ,  0.  , -0.14,  0.  ,  0.  , -0.  , -1.  ],\n",
       "       [ 0.  ,  0.  , -0.13,  0.  ,  0.  , -0.  , -1.  ],\n",
       "       [ 0.  ,  0.  , -0.13,  0.  ,  0.  , -0.  , -1.  ],\n",
       "       [ 0.  ,  0.  , -0.12,  0.  ,  0.  , -0.  , -1.  ],\n",
       "       [ 0.  ,  0.  , -0.07,  0.  ,  0.  , -0.  , -1.  ],\n",
       "       [ 0.  ,  0.  , -0.  ,  0.  ,  0.  , -0.  , -1.  ],\n",
       "       [ 0.  ,  0.  , -0.  ,  0.  ,  0.  , -0.  , -1.  ],\n",
       "       [ 0.  ,  0.  , -0.  ,  0.  ,  0.  , -0.  , -1.  ],\n",
       "       [ 0.  ,  0.  , -0.  ,  0.  ,  0.  , -0.  , -1.  ],\n",
       "       [ 0.  ,  0.  , -0.  ,  0.  ,  0.  , -0.  , -1.  ],\n",
       "       [ 0.  ,  0.  , -0.  ,  0.  ,  0.  , -0.  , -1.  ],\n",
       "       [ 0.  ,  0.  , -0.  ,  0.  ,  0.  , -0.  , -1.  ],\n",
       "       [ 0.  ,  0.  , -0.  ,  0.  ,  0.  , -0.  , -1.  ],\n",
       "       [ 0.  ,  0.  , -0.  ,  0.  ,  0.  , -0.  , -1.  ],\n",
       "       [ 0.  ,  0.  , -0.  ,  0.  ,  0.  , -0.  , -1.  ],\n",
       "       [ 0.  ,  0.  , -0.  ,  0.  ,  0.  , -0.  , -1.  ],\n",
       "       [ 0.  ,  0.  , -0.  ,  0.  ,  0.  , -0.  , -1.  ],\n",
       "       [ 0.  ,  0.  , -0.  ,  0.  ,  0.  , -0.  , -1.  ],\n",
       "       [ 0.  ,  0.  , -0.  ,  0.  ,  0.  , -0.  , -1.  ],\n",
       "       [ 0.  ,  0.  , -0.  ,  0.  ,  0.  , -0.  , -1.  ],\n",
       "       [ 0.  ,  0.  , -0.  ,  0.  ,  0.  , -0.  , -1.  ],\n",
       "       [ 0.  ,  0.  , -0.  ,  0.  ,  0.  , -0.  , -1.  ],\n",
       "       [ 0.  ,  0.  , -0.  ,  0.  ,  0.  , -0.  , -1.  ],\n",
       "       [ 0.  ,  0.  , -0.  ,  0.  ,  0.  , -0.  , -1.  ],\n",
       "       [ 0.  ,  0.  , -0.  ,  0.  ,  0.  , -0.  , -1.  ],\n",
       "       [ 0.  ,  0.  , -0.  ,  0.  ,  0.  , -0.  , -1.  ],\n",
       "       [ 0.  ,  0.  , -0.  ,  0.  ,  0.  , -0.  , -1.  ],\n",
       "       [ 0.  ,  0.  , -0.  ,  0.  ,  0.  , -0.  , -1.  ],\n",
       "       [ 0.  ,  0.  , -0.  ,  0.  ,  0.  , -0.  , -1.  ],\n",
       "       [ 0.  ,  0.  , -0.  ,  0.  ,  0.  , -0.  , -1.  ],\n",
       "       [ 0.  ,  0.  , -0.  ,  0.  ,  0.  , -0.  , -1.  ],\n",
       "       [ 0.  ,  0.  , -0.  ,  0.  ,  0.  , -0.  , -1.  ],\n",
       "       [ 0.  ,  0.  , -0.  ,  0.  ,  0.  , -0.  , -1.  ],\n",
       "       [ 0.  ,  0.  , -0.  ,  0.  ,  0.  , -0.  , -1.  ],\n",
       "       [ 0.  ,  0.  , -0.  ,  0.  ,  0.  , -0.  , -1.  ],\n",
       "       [ 0.  ,  0.  , -0.  ,  0.  ,  0.  , -0.  , -1.  ],\n",
       "       [ 0.01,  0.  , -0.  ,  0.  ,  0.  , -0.  , -1.  ],\n",
       "       [ 0.02,  0.  , -0.  ,  0.  ,  0.  , -0.  , -1.  ],\n",
       "       [ 0.03,  0.  , -0.  ,  0.  ,  0.  , -0.  , -1.  ],\n",
       "       [ 0.05,  0.  , -0.  ,  0.  ,  0.  , -0.  , -1.  ],\n",
       "       [ 0.06,  0.  , -0.  ,  0.  ,  0.  , -0.  , -1.  ],\n",
       "       [ 0.08,  0.  , -0.  ,  0.  ,  0.  , -0.  , -1.  ],\n",
       "       [ 0.11,  0.  , -0.  ,  0.  ,  0.  , -0.  , -1.  ],\n",
       "       [ 0.12,  0.  , -0.  ,  0.  ,  0.  , -0.  , -1.  ],\n",
       "       [ 0.14,  0.  , -0.  ,  0.  ,  0.  , -0.  , -1.  ]])"
      ]
     },
     "execution_count": 6,
     "metadata": {},
     "output_type": "execute_result"
    }
   ],
   "source": [
    "f['data']['actions'][:100]"
   ]
  },
  {
   "cell_type": "code",
   "execution_count": 7,
   "metadata": {},
   "outputs": [
    {
     "data": {
      "text/plain": [
       "(732, 3)"
      ]
     },
     "execution_count": 7,
     "metadata": {},
     "output_type": "execute_result"
    }
   ],
   "source": [
    "xyz=f['data']['actions'][:,:3]\n",
    "xyz.shape"
   ]
  },
  {
   "cell_type": "code",
   "execution_count": 8,
   "metadata": {},
   "outputs": [
    {
     "data": {
      "text/plain": [
       "<matplotlib.legend.Legend at 0x7a0268107610>"
      ]
     },
     "execution_count": 8,
     "metadata": {},
     "output_type": "execute_result"
    },
    {
     "data": {
      "image/png": "[encoded data removed]",
      "text/plain": [
       "<Figure size 640x480 with 1 Axes>"
      ]
     },
     "metadata": {},
     "output_type": "display_data"
    }
   ],
   "source": [
    "plt.plot(xyz[:,0], label='x')\n",
    "plt.plot(xyz[:,1], label='y')\n",
    "plt.plot(xyz[:,2], label='z')\n",
    "plt.legend()"
   ]
  },
  {
   "cell_type": "code",
   "execution_count": null,
   "metadata": {},
   "outputs": [],
   "source": []
  },
  {
   "cell_type": "code",
   "execution_count": 9,
   "metadata": {},
   "outputs": [
    {
     "data": {
      "text/plain": [
       "'{\"controller_cfg\": {\"controller_type\": \"OSC_POSE\", \"is_delta\": true, \"traj_interpolator_cfg\": {\"traj_interpolator_type\": \"LINEAR_POSE\", \"time_fraction\": 0.3}, \"Kp\": {\"translation\": [150.0, 150.0, 150.0], \"rotation\": [250.0, 250.0, 250.0]}, \"action_scale\": {\"translation\": 0.05, \"rotation\": 1.0}, \"residual_mass_vec\": [0.0, 0.0, 0.0, 0.0, 0.1, 0.5, 0.5], \"state_estimator_cfg\": {\"is_estimation\": false, \"state_estimator_type\": \"EXPONENTIAL_SMOOTHING\", \"alpha_q\": 0.9, \"alpha_dq\": 0.9, \"alpha_eef\": 1.0, \"alpha_eef_vel\": 1.0}}, \"controller_type\": \"OSC_POSE\"}'"
      ]
     },
     "execution_count": 9,
     "metadata": {},
     "output_type": "execute_result"
    }
   ],
   "source": [
    "f[\"data\"].attrs[\"config\"]"
   ]
  },
  {
   "cell_type": "code",
   "execution_count": null,
   "metadata": {},
   "outputs": [],
   "source": []
  },
  {
   "cell_type": "code",
   "execution_count": null,
   "metadata": {},
   "outputs": [],
   "source": []
  },
  {
   "cell_type": "code",
   "execution_count": 10,
   "metadata": {},
   "outputs": [],
   "source": [
    "f.close()"
   ]
  },
  {
   "cell_type": "code",
   "execution_count": null,
   "metadata": {},
   "outputs": [],
   "source": []
  },
  {
   "cell_type": "code",
   "execution_count": null,
   "metadata": {},
   "outputs": [],
   "source": []
  },
  {
   "cell_type": "code",
   "execution_count": null,
   "metadata": {},
   "outputs": [],
   "source": []
  },
  {
   "cell_type": "code",
   "execution_count": null,
   "metadata": {},
   "outputs": [],
   "source": []
  },
  {
   "cell_type": "code",
   "execution_count": null,
   "metadata": {},
   "outputs": [],
   "source": []
  }
 ],
 "metadata": {
  "kernelspec": {
   "display_name": "base",
   "language": "python",
   "name": "python3"
  },
  "language_info": {
   "codemirror_mode": {
    "name": "ipython",
    "version": 3
   },
   "file_extension": ".py",
   "mimetype": "text/x-python",
   "name": "python",
   "nbconvert_exporter": "python",
   "pygments_lexer": "ipython3",
   "version": "3.10.12"
  }
 },
 "nbformat": 4,
 "nbformat_minor": 2
}
