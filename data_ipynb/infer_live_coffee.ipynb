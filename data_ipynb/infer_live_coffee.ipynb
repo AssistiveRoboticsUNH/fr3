{
 "cells": [
  {
   "cell_type": "code",
   "execution_count": 1,
   "metadata": {},
   "outputs": [
    {
     "name": "stdout",
     "output_type": "stream",
     "text": [
      "\u001b[33mROBOMIMIC WARNING(\n",
      "    No private macro file found!\n",
      "    It is recommended to use a private macro file\n",
      "    To setup, run: python /home/carl/robomimic/robomimic/scripts/setup_macros.py\n",
      ")\u001b[0m\n"
     ]
    }
   ],
   "source": [
    "from robot_library_py import *\n",
    "import rclpy\n",
    "from rclpy.node import Node\n",
    "from sensor_msgs.msg import Joy, JointState\n",
    "from intera_core_msgs.msg import JointCommand\n",
    "\n",
    "from threading import Thread\n",
    "import time\n",
    "import numpy as np \n",
    "from std_msgs.msg import Bool\n",
    "import rotm2euler\n",
    " \n",
    "import cv2\n",
    "from matplotlib import pyplot as plt\n",
    "import pickle\n",
    "import datetime\n",
    "import os \n",
    "import argparse\n",
    "\n",
    "import argparse\n",
    "import json\n",
    "import numpy as np\n",
    "import time\n",
    "import os\n",
    "import shutil\n",
    "import psutil\n",
    "import sys\n",
    "import socket\n",
    "import traceback\n",
    "\n",
    "from collections import OrderedDict\n",
    "\n",
    "import torch\n",
    "from torch.utils.data import DataLoader\n",
    "\n",
    "import robomimic\n",
    "import robomimic.utils.train_utils as TrainUtils\n",
    "import robomimic.utils.torch_utils as TorchUtils\n",
    "import robomimic.utils.obs_utils as ObsUtils\n",
    "import robomimic.utils.env_utils as EnvUtils\n",
    "import robomimic.utils.file_utils as FileUtils\n",
    "from robomimic.config import config_factory\n",
    "from robomimic.algo import algo_factory, RolloutPolicy\n",
    "from robomimic.utils.log_utils import PrintLogger, DataLogger, flush_warnings\n",
    "\n",
    "import matplotlib.pyplot as plt\n",
    "import h5py\n",
    "\n",
    "import os\n",
    "import time \n",
    "\n",
    "from utils_ros import ROSInterface\n",
    "import traceback"
   ]
  },
  {
   "cell_type": "code",
   "execution_count": 2,
   "metadata": {},
   "outputs": [],
   "source": [
    "import beepy as beep\n",
    "beep_start = lambda : beep.beep('coin')"
   ]
  },
  {
   "cell_type": "code",
   "execution_count": 3,
   "metadata": {},
   "outputs": [],
   "source": [
    "tb=Thread(target=beep_start)\n",
    "tb.start()"
   ]
  },
  {
   "cell_type": "code",
   "execution_count": null,
   "metadata": {},
   "outputs": [],
   "source": []
  },
  {
   "cell_type": "code",
   "execution_count": 4,
   "metadata": {},
   "outputs": [],
   "source": [
    "ckpt_path = \"/home/carl/data_sawyer/policy/trans_coffee_200_84.pth\"\n",
    "assert os.path.exists(ckpt_path)"
   ]
  },
  {
   "cell_type": "code",
   "execution_count": null,
   "metadata": {},
   "outputs": [],
   "source": []
  },
  {
   "cell_type": "code",
   "execution_count": null,
   "metadata": {},
   "outputs": [],
   "source": []
  },
  {
   "cell_type": "code",
   "execution_count": null,
   "metadata": {},
   "outputs": [],
   "source": [
    "device = TorchUtils.get_torch_device(try_to_use_cuda=True)\n",
    "\n",
    "# restore policy\n",
    "policy, ckpt_dict = FileUtils.policy_from_checkpoint(ckpt_path=ckpt_path, device=device, verbose=True)\n",
    "pass "
   ]
  },
  {
   "cell_type": "code",
   "execution_count": 6,
   "metadata": {},
   "outputs": [
    {
     "name": "stdout",
     "output_type": "stream",
     "text": [
      "\n",
      "============= Initialized Observation Utils with Obs Spec =============\n",
      "\n",
      "using obs modality: low_dim with keys: ['robot0_eef_pos']\n",
      "using obs modality: rgb with keys: ['agentview_image', 'robot0_eye_in_hand_image']\n",
      "using obs modality: depth with keys: []\n",
      "using obs modality: scan with keys: []\n",
      "obs key agentview_image with shape (84, 84, 3)\n",
      "obs key robot0_eef_pos with shape (6,)\n",
      "obs key robot0_eye_in_hand_image with shape (84, 84, 3)\n"
     ]
    }
   ],
   "source": [
    "ckpt_dict = FileUtils.maybe_dict_from_checkpoint(ckpt_path=ckpt_path, ckpt_dict=None)\n",
    "# algo name and config from model dict\n",
    "algo_name, _ = FileUtils.algo_name_from_checkpoint(ckpt_dict=ckpt_dict)\n",
    "config, _ = FileUtils.config_from_checkpoint(algo_name=algo_name, ckpt_dict=ckpt_dict, verbose=False)\n",
    "\n",
    "config.unlock()\n",
    "config.train.data =\"/home/carl/data_sawyer/coffee/sawyer_coffee_gfs76.hdf5\"\n",
    "config.lock()\n",
    "\n",
    "ObsUtils.initialize_obs_utils_with_config(config)\n",
    "dataset_path = os.path.expanduser(config.train.data)\n",
    "shape_meta = FileUtils.get_shape_metadata_from_dataset(\n",
    "    dataset_path=config.train.data,\n",
    "    all_obs_keys=config.all_obs_keys,\n",
    "    verbose=True\n",
    ")"
   ]
  },
  {
   "cell_type": "code",
   "execution_count": null,
   "metadata": {},
   "outputs": [],
   "source": []
  },
  {
   "cell_type": "code",
   "execution_count": 7,
   "metadata": {},
   "outputs": [],
   "source": [
    "def demo2actions(hdf5_file, demo_key, rollout_policy): \n",
    "    rollout_policy.start_episode()\n",
    "\n",
    "\n",
    "    demo=hdf5_file['data'][demo_key]\n",
    "    actions_real=demo['actions']\n",
    "    obs=demo['obs']\n",
    "    N=obs['robot0_eye_in_hand_image'].shape[0]\n",
    "\n",
    "    obss=[]\n",
    "    for i in range(N):\n",
    "        ob={k:obs[k][i] for k in obs.keys()} \n",
    "        ob['robot0_eye_in_hand_image']=ob['robot0_eye_in_hand_image'].transpose(2,0,1)\n",
    "        ob['agentview_image']=ob['agentview_image'].transpose(2,0,1)\n",
    "        obss.append(ob)\n",
    "\n",
    "    acs=[]\n",
    "    for ob in obss: \n",
    "        ob = rollout_policy._prepare_observation(ob)\n",
    "        ac = rollout_policy.policy.get_action(obs_dict=ob, goal_dict=None)\n",
    "        ac=ac.detach().cpu().numpy()[0]\n",
    "        acs.append(ac)\n",
    "\n",
    "    actions_pred=np.array(acs)\n",
    "    return actions_real, actions_pred"
   ]
  },
  {
   "cell_type": "code",
   "execution_count": 8,
   "metadata": {},
   "outputs": [
    {
     "name": "stdout",
     "output_type": "stream",
     "text": [
      "sawyer\n",
      "link: 0\n",
      "\tcog: 0 0 0\n",
      "\tinertia: 1 1 1 0 0 0\n",
      "\tmass: 1\n",
      "\tname: base\n",
      "link: 1\n",
      "\tcog: 0 0 0\n",
      "\tinertia: 1e-08 1e-08 1e-08     0     0     0\n",
      "\tmass: 0.0001\n",
      "\tname: torso\n",
      "link: 2\n",
      "\tcog:    0    0 -0.5\n",
      "\tinertia:    5.06359    6.08689    4.96192 0.00105311   0.801996 0.00103417\n",
      "\tmass: 60.864\n",
      "\tname: pedestal\n",
      "link: 3\n",
      "\tcog: 0 0 0\n",
      "\tinertia: 1 1 1 0 0 0\n",
      "\tmass: 1\n",
      "\tname: controller_box\n",
      "link: 4\n",
      "\tcog: 0 0 0\n",
      "\tinertia: 1 1 1 0 0 0\n",
      "\tmass: 1\n",
      "\tname: pedestal_feet\n",
      "link: 5\n",
      "\tcog:  -0.0006241 -2.8025e-05    0.065404\n",
      "\tinertia:   0.0067599   0.0067877   0.0074031  1.5888e-05 -6.1904e-07 -4.2024e-05\n",
      "\tmass: 2.0687\n",
      "\tname: right_arm_base_link\n",
      "link: 6\n",
      "\tcog: 0.024366 0.010969  0.14363\n",
      "\tinertia:  0.053314  0.057902  0.023659 0.0080179  0.011734 0.0047093\n",
      "\tmass: 5.3213\n",
      "\tname: right_l0\n",
      "link: 7\n",
      "\tcog:   0.0053207 -2.6549e-05      0.1021\n",
      "\tinertia:    0.011833   0.0082709   0.0049661  4.2124e-07  4.9425e-05 -4.4669e-06\n",
      "\tmass: 1.5795\n",
      "\tname: head\n",
      "link: 8\n",
      "\tcog: 0 0 0\n",
      "\tinertia: 1e-08 1e-08 1e-08     0     0     0\n",
      "\tmass: 0.0001\n",
      "\tname: right_torso_itb\n",
      "link: 9\n",
      "\tcog: -0.0030849  -0.026811   0.092521\n",
      "\tinertia:    0.022398    0.014613    0.017295  -0.0060875 -0.00029362 -0.00023986\n",
      "\tmass: 4.505\n",
      "\tname: right_l1\n",
      "link: 10\n",
      "\tcog: -0.00016044   -0.014967     0.13582\n",
      "\tinertia:   0.025506     0.0253  0.0034179 -0.0033204 1.4955e-05 4.4101e-06\n",
      "\tmass: 1.745\n",
      "\tname: right_l2\n",
      "link: 11\n",
      "\tcog: -0.0048135    -0.0281  -0.084154\n",
      "\tinertia:     0.01016   0.0065685   0.0069078   0.0030316  0.00026624 -9.7452e-06\n",
      "\tmass: 2.5097\n",
      "\tname: right_l3\n",
      "link: 12\n",
      "\tcog: -0.0018844  0.0069001     0.1341\n",
      "\tinertia:   0.013557   0.013555  0.0013658  0.0010561 0.00013523 1.8109e-05\n",
      "\tmass: 1.1136\n",
      "\tname: right_l4\n",
      "link: 13\n",
      "\tcog: 0 0 0\n",
      "\tinertia: 1e-08 1e-08 1e-08     0     0     0\n",
      "\tmass: 0.0001\n",
      "\tname: right_arm_itb\n",
      "link: 14\n",
      "\tcog: 0.0061133 -0.023697  0.076416\n",
      "\tinertia:  0.0047328  0.0029676  0.0031762 -0.0011557 4.6269e-05 0.00011526\n",
      "\tmass: 1.5625\n",
      "\tname: right_l5\n",
      "link: 15\n",
      "\tcog: 0 0 0\n",
      "\tinertia: 1 1 1 0 0 0\n",
      "\tmass: 0\n",
      "\tname: right_hand_camera\n",
      "link: 16\n",
      "\tcog: 0 0 0\n",
      "\tinertia: 1 1 1 0 0 0\n",
      "\tmass: 1\n",
      "\tname: right_wrist\n",
      "link: 17\n",
      "\tcog: -8.0726e-06   0.0085838  -0.0049566\n",
      "\tinertia:  0.00031105  0.00021549  0.00035976 -8.4533e-06 -3.7074e-07  1.4771e-06\n",
      "\tmass: 0.3292\n",
      "\tname: right_l6\n",
      "link: 18\n",
      "\tcog: 1e-08 1e-08 1e-08\n",
      "\tinertia: 1e-08 1e-08 1e-08 1e-08 1e-08 1e-08\n",
      "\tmass: 1e-08\n",
      "\tname: right_hand\n",
      "link: 19\n",
      "\tcog: 1e-08 1e-08 1e-08\n",
      "\tinertia: 1e-08 1e-08 1e-08 1e-08 1e-08 1e-08\n",
      "\tmass: 1e-08\n",
      "\tname: right_l1_2\n",
      "link: 20\n",
      "\tcog: 1e-08 1e-08 1e-08\n",
      "\tinertia: 1e-08 1e-08 1e-08 1e-08 1e-08 1e-08\n",
      "\tmass: 1e-08\n",
      "\tname: right_l2_2\n",
      "link: 21\n",
      "\tcog: 1e-08 1e-08 1e-08\n",
      "\tinertia: 1e-08 1e-08 1e-08 1e-08 1e-08 1e-08\n",
      "\tmass: 1e-08\n",
      "\tname: right_l4_2\n",
      "link: 22\n",
      "\tcog: 0 0 0\n",
      "\tinertia: 1e-08 1e-08 1e-08     0     0     0\n",
      "\tmass: 0.0001\n",
      "\tname: screen\n",
      "link: 23\n",
      "\tcog: 0 0 0\n",
      "\tinertia: 1 1 1 0 0 0\n",
      "\tmass: 1\n",
      "\tname: head_camera\n",
      "link: 24\n",
      "\tcog: 0 0 0\n",
      "\tinertia: 1 1 1 0 0 0\n",
      "\tmass: 1\n",
      "\tname: camera_base_link\n",
      "link: 25\n",
      "\tcog: 0 0 0\n",
      "\tinertia: 1 1 1 0 0 0\n",
      "\tmass: 1\n",
      "\tname: camera_bottom_screw_frame\n",
      "link: 26\n",
      "\tcog: 0 0 0\n",
      "\tinertia: 0.00388124 0.00049894 0.00387926          0          0          0\n",
      "\tmass: 0.072\n",
      "\tname: camera_link\n",
      "link: 27\n",
      "\tcog:  0.0028 -0.0004  0.0343\n",
      "\tinertia: 1e-08 1e-08 1e-08     0     0     0\n",
      "\tmass: 0.47\n",
      "\tname: right_gripper_base\n",
      "link: 28\n",
      "\tcog: 0 0 0\n",
      "\tinertia: 1.1e-09 1.1e-09 1.1e-09       0       0       0\n",
      "\tmass: 2e-06\n",
      "\tname: right_electric_gripper_base\n",
      "link: 29\n",
      "\tcog: 0 0 0\n",
      "\tinertia:  6.9922e-05  6.8188e-05  0.00012392 -1.6118e-08 -1.7042e-06  6.1026e-08\n",
      "\tmass: 0\n",
      "\tname: right_connector_plate_base\n",
      "link: 30\n",
      "\tcog: 0 0 0\n",
      "\tinertia: 1 1 1 0 0 0\n",
      "\tmass: 1\n",
      "\tname: right_connector_plate_mount\n",
      "link: 31\n",
      "\tcog: 0 0 0\n",
      "\tinertia: 0.01 0.01 0.01    0    0    0\n",
      "\tmass: 0.001\n",
      "\tname: right_gripper_l_finger\n",
      "link: 32\n",
      "\tcog: 0 0 0\n",
      "\tinertia: 0.01 0.01 0.01    0    0    0\n",
      "\tmass: 0.001\n",
      "\tname: right_gripper_l_finger_tip\n",
      "link: 33\n",
      "\tcog: 0 0 0\n",
      "\tinertia: 0.01 0.01 0.01    0    0    0\n",
      "\tmass: 0.001\n",
      "\tname: right_gripper_r_finger\n",
      "link: 34\n",
      "\tcog: 0 0 0\n",
      "\tinertia: 0.01 0.01 0.01    0    0    0\n",
      "\tmass: 0.001\n",
      "\tname: right_gripper_r_finger_tip\n",
      "link: 35\n",
      "\tcog: 0 0 0\n",
      "\tinertia: 1.1e-09 1.1e-09 1.1e-09       0       0       0\n",
      "\tmass: 2e-06\n",
      "\tname: right_gripper_tip\n",
      "joint: 0\n",
      "\tparent: base\n",
      "\tchild: controller_box\n",
      "\torigin.translation: 0 0 0\n",
      "\torigin.rotation:  0 -0  0\n",
      "\ttype: fixed\n",
      "\tname: controller_box_fixed\n",
      "joint: 1\n",
      "\tparent: base\n",
      "\tchild: pedestal_feet\n",
      "\torigin.translation: 0 0 0\n",
      "\torigin.rotation:  0 -0  0\n",
      "\ttype: fixed\n",
      "\tname: pedestal_feet_fixed\n",
      "joint: 2\n",
      "\tparent: base\n",
      "\tchild: pedestal\n",
      "\torigin.translation: 0 0 0\n",
      "\torigin.rotation:  0 -0  0\n",
      "\ttype: fixed\n",
      "\tname: pedestal_fixed\n",
      "joint: 3\n",
      "\tparent: base\n",
      "\tchild: right_arm_base_link\n",
      "\torigin.translation: 0 0 0\n",
      "\torigin.rotation:  0 -0  0\n",
      "\ttype: fixed\n",
      "\tname: right_arm_mount\n",
      "joint: 4\n",
      "\tparent: base\n",
      "\tchild: torso\n",
      "\torigin.translation: 0 0 0\n",
      "\torigin.rotation:  0 -0  0\n",
      "\ttype: fixed\n",
      "\tname: torso_t0\n",
      "joint: 5\n",
      "\tparent: right_arm_base_link\n",
      "\tchild: right_l0\n",
      "\torigin.translation:    0    0 0.08\n",
      "\torigin.rotation:  0 -0  0\n",
      "\ttype: revolute\n",
      "\tmax: 174.769\n",
      "\tmin: -174.769\n",
      "\tspeed: 99.6947\n",
      "\taxis: 0 0 1\n",
      "\tname: right_j0\n",
      "joint: 6\n",
      "\tparent: right_l0\n",
      "\tchild: head\n",
      "\torigin.translation:      0      0 0.2965\n",
      "\torigin.rotation:  0 -0  0\n",
      "\ttype: revolute\n",
      "\tmax: 51.9329\n",
      "\tmin: -291.933\n",
      "\tspeed: 103.132\n",
      "\taxis: 0 0 1\n",
      "\tname: head_pan\n",
      "joint: 7\n",
      "\tparent: right_l0\n",
      "\tchild: right_torso_itb\n",
      "\torigin.translation: -0.055      0   0.22\n",
      "\torigin.rotation:  -0 -90   0\n",
      "\ttype: fixed\n",
      "\tname: right_torso_itb\n",
      "joint: 8\n",
      "\tparent: right_l0\n",
      "\tchild: right_l1\n",
      "\torigin.translation: 0.081  0.05 0.237\n",
      "\torigin.rotation: -90  90   0\n",
      "\ttype: revolute\n",
      "\tmax: 130.268\n",
      "\tmin: -218.268\n",
      "\tspeed: 76.0888\n",
      "\taxis: 0 0 1\n",
      "\tname: right_j1\n",
      "joint: 9\n",
      "\tparent: right_l1\n",
      "\tchild: right_l2\n",
      "\torigin.translation:      0  -0.14 0.1425\n",
      "\torigin.rotation: 90 -0  0\n",
      "\ttype: revolute\n",
      "\tmax: 174.328\n",
      "\tmin: -174.328\n",
      "\tspeed: 112.128\n",
      "\taxis: 0 0 1\n",
      "\tname: right_j2\n",
      "joint: 10\n",
      "\tparent: right_l2\n",
      "\tchild: right_l3\n",
      "\torigin.translation:      0 -0.042   0.26\n",
      "\torigin.rotation: -90  -0   0\n",
      "\ttype: revolute\n",
      "\tmax: 174.403\n",
      "\tmin: -174.403\n",
      "\tspeed: 112.128\n",
      "\taxis: 0 0 1\n",
      "\tname: right_j3\n",
      "joint: 11\n",
      "\tparent: right_l3\n",
      "\tchild: right_l4\n",
      "\torigin.translation:       0  -0.125 -0.1265\n",
      "\torigin.rotation: 90 -0  0\n",
      "\ttype: revolute\n",
      "\tmax: 170.518\n",
      "\tmin: -170.518\n",
      "\tspeed: 199.676\n",
      "\taxis: 0 0 1\n",
      "\tname: right_j4\n",
      "joint: 12\n",
      "\tparent: right_l4\n",
      "\tchild: right_arm_itb\n",
      "\torigin.translation: -0.055      0  0.075\n",
      "\torigin.rotation:  -0 -90   0\n",
      "\ttype: fixed\n",
      "\tname: right_arm_itb\n",
      "joint: 13\n",
      "\tparent: right_l4\n",
      "\tchild: right_l5\n",
      "\torigin.translation:     0 0.031 0.275\n",
      "\torigin.rotation: -90  -0   0\n",
      "\ttype: revolute\n",
      "\tmax: 170.518\n",
      "\tmin: -170.518\n",
      "\tspeed: 199.676\n",
      "\taxis: 0 0 1\n",
      "\tname: right_j5\n",
      "joint: 14\n",
      "\tparent: right_l5\n",
      "\tchild: right_hand_camera\n",
      "\torigin.translation: 0.039552   -0.033   0.0695\n",
      "\torigin.rotation:  0 90  0\n",
      "\ttype: fixed\n",
      "\tname: right_hand_camera\n",
      "joint: 15\n",
      "\tparent: right_l5\n",
      "\tchild: right_wrist\n",
      "\torigin.translation:       0       0 0.10541\n",
      "\torigin.rotation: 90 -0  0\n",
      "\ttype: fixed\n",
      "\tname: right_wrist\n",
      "joint: 16\n",
      "\tparent: right_l5\n",
      "\tchild: right_l6\n",
      "\torigin.translation:      0  -0.11 0.1053\n",
      "\torigin.rotation:          90        -170 0.000420918\n",
      "\ttype: revolute\n",
      "\tmax: 270.001\n",
      "\tmin: -270.001\n",
      "\tspeed: 260.409\n",
      "\taxis: 0 0 1\n",
      "\tname: right_j6\n",
      "joint: 17\n",
      "\tparent: right_l6\n",
      "\tchild: right_hand\n",
      "\torigin.translation:      0      0 0.0245\n",
      "\torigin.rotation:  0 -0 90\n",
      "\ttype: fixed\n",
      "\tname: right_hand\n",
      "joint: 18\n",
      "\tparent: right_l1\n",
      "\tchild: right_l1_2\n",
      "\torigin.translation: 0 0 0\n",
      "\torigin.rotation:  0 -0  0\n",
      "\ttype: fixed\n",
      "\tname: right_j1_2\n",
      "joint: 19\n",
      "\tparent: right_l2\n",
      "\tchild: right_l2_2\n",
      "\torigin.translation: 0 0 0\n",
      "\torigin.rotation:  0 -0  0\n",
      "\ttype: fixed\n",
      "\tname: right_j2_2\n",
      "joint: 20\n",
      "\tparent: right_l4\n",
      "\tchild: right_l4_2\n",
      "\torigin.translation: 0 0 0\n",
      "\torigin.rotation:  0 -0  0\n",
      "\ttype: fixed\n",
      "\tname: right_j4_2\n",
      "joint: 21\n",
      "\tparent: head\n",
      "\tchild: screen\n",
      "\torigin.translation:  0.03     0 0.105\n",
      "\torigin.rotation: 90 -0 90\n",
      "\ttype: fixed\n",
      "\tname: display_joint\n",
      "joint: 22\n",
      "\tparent: head\n",
      "\tchild: head_camera\n",
      "\torigin.translation: 0.0228027         0  0.216572\n",
      "\torigin.rotation: 58.0001    -180      90\n",
      "\ttype: fixed\n",
      "\tname: head_camera\n",
      "joint: 23\n",
      "\tparent: right_l6\n",
      "\tchild: camera_base_link\n",
      "\torigin.translation:        0 0.038279 0.028525\n",
      "\torigin.rotation:  90 -90 180\n",
      "\ttype: fixed\n",
      "\tname: right_l6_to_camera\n",
      "joint: 24\n",
      "\tparent: camera_base_link\n",
      "\tchild: camera_bottom_screw_frame\n",
      "\torigin.translation: 0 0 0\n",
      "\torigin.rotation:  0 -0  0\n",
      "\ttype: fixed\n",
      "\tname: camera_joint\n",
      "joint: 25\n",
      "\tparent: camera_bottom_screw_frame\n",
      "\tchild: camera_link\n",
      "\torigin.translation: 0.0106 0.0175 0.0125\n",
      "\torigin.rotation:  0 -0  0\n",
      "\ttype: fixed\n",
      "\tname: camera_link_joint\n",
      "joint: 26\n",
      "\tparent: right_gripper_base\n",
      "\tchild: right_connector_plate_base\n",
      "\torigin.translation:      0      0 0.0018\n",
      "\torigin.rotation:  0 -0  0\n",
      "\ttype: fixed\n",
      "\tname: right_connector_plate_base_joint\n",
      "joint: 27\n",
      "\tparent: right_connector_plate_base\n",
      "\tchild: right_connector_plate_mount\n",
      "\torigin.translation:      0      0 0.0176\n",
      "\torigin.rotation:  0 -0  0\n",
      "\ttype: fixed\n",
      "\tname: right_connector_plate_mount_joint\n",
      "joint: 28\n",
      "\tparent: right_connector_plate_mount\n",
      "\tchild: right_electric_gripper_base\n",
      "\torigin.translation: 0 0 0\n",
      "\torigin.rotation:  0 -0  0\n",
      "\ttype: fixed\n",
      "\tname: right_electric_gripper_base_joint\n",
      "joint: 29\n",
      "\tparent: right_gripper_l_finger\n",
      "\tchild: right_gripper_l_finger_tip\n",
      "\torigin.translation:       0 0.01725   0.075\n",
      "\torigin.rotation:  0 -0  0\n",
      "\ttype: fixed\n",
      "\tname: right_gripper_l_finger_tip_joint\n",
      "joint: 30\n",
      "\tparent: right_gripper_r_finger\n",
      "\tchild: right_gripper_r_finger_tip\n",
      "\torigin.translation:        0 -0.01725    0.075\n",
      "\torigin.rotation:  0 -0  0\n",
      "\ttype: fixed\n",
      "\tname: right_gripper_r_finger_tip_joint\n",
      "joint: 31\n",
      "\tparent: right_hand\n",
      "\tchild: right_gripper_base\n",
      "\torigin.translation:      0      0 -0.005\n",
      "\torigin.rotation:  0 -0  0\n",
      "\ttype: fixed\n",
      "\tname: right_gripper_base_joint\n",
      "joint: 32\n",
      "\tparent: right_gripper_base\n",
      "\tchild: right_gripper_tip\n",
      "\torigin.translation:       0       0 0.14062\n",
      "\torigin.rotation:  0 -0  0\n",
      "\ttype: fixed\n",
      "\tname: right_gripper_tip_joint\n",
      "joint: 33\n",
      "\tparent: right_electric_gripper_base\n",
      "\tchild: right_gripper_l_finger\n",
      "\torigin.translation:   0.003 -0.0015 0.04552\n",
      "\torigin.rotation:  0 -0  0\n",
      "\ttype: prismatic\n",
      "\tmax: 0.020833\n",
      "\tmin: 0\n",
      "\tspeed: 5\n",
      "\taxis: 0 1 0\n",
      "\tname: right_gripper_l_finger_joint\n",
      "joint: 34\n",
      "\tparent: right_electric_gripper_base\n",
      "\tchild: right_gripper_r_finger\n",
      "\torigin.translation:   0.003  0.0015 0.04552\n",
      "\torigin.rotation:  0 -0  0\n",
      "\ttype: prismatic\n",
      "\tmax: 0\n",
      "\tmin: -0.020833\n",
      "\tspeed: 5\n",
      "\taxis: 0 1 0\n",
      "\tname: right_gripper_r_finger_joint\n",
      "root: base\n"
     ]
    }
   ],
   "source": [
    "rclpy.init()\n",
    "\n",
    "urdf_path = os.getcwd() +'/'+'sawyer.urdf'  #'/home/carl/sawyer_robot_ros2/src/teleop_script/sawyer.urdf'\n",
    "robot = URDFModel(urdf_path)\n",
    "jointMap = {name: ind for ind, name in enumerate(robot.jointNames)}\n",
    "\n",
    "\n",
    "joint_names=['right_j0', 'right_j1', 'right_j2', 'right_j3', 'right_j4', 'right_j5', 'right_j6']\n",
    "joint_inds=[jointMap[name] for name in joint_names]\n",
    "\n",
    "\n",
    "node = Node('infer_live')\n",
    "q = robot.getJoints()\n",
    "ros_interface = ROSInterface(node, robot)\n",
    "cmd_pub = node.create_publisher(JointCommand, '/robot/limb/right/joint_command', 10)\n",
    "cmd_pub_en = node.create_publisher(Bool, '/script_ctrl', 10)\n",
    "\n",
    "t1 = Thread(target=ros_interface.spin_thread)\n",
    "t1.start()"
   ]
  },
  {
   "cell_type": "code",
   "execution_count": 9,
   "metadata": {},
   "outputs": [],
   "source": [
    "def set_script_ctrl(tof):\n",
    "    msgB = Bool()\n",
    "    msgB.data = tof\n",
    "    cmd_pub_en.publish(msgB)"
   ]
  },
  {
   "cell_type": "code",
   "execution_count": 10,
   "metadata": {},
   "outputs": [],
   "source": [
    "def get_ee(jointmsg):\n",
    "    msg=jointmsg    \n",
    "    q =  robot.getJoints() \n",
    "    for ind, name in enumerate(msg.name):\n",
    "        if name in jointMap:\n",
    "            q[jointMap[name]] = msg.position[ind]\n",
    "    robot.setJoints(q)\n",
    "    \n",
    "    # T=robot.getBodyTransform('right_l6');\n",
    "    T=robot.getBodyTransform('camera_link');\n",
    "    xyz=T[0:3,3]\n",
    "    e1 = rotm2euler.rotationMatrixToEulerAngles(T[0:3, 0:3])\n",
    "    ee6=np.concatenate([xyz, e1])\n",
    "    return ee6\n",
    "\n",
    "def set_vels(vels):\n",
    "    cmd_msg = JointCommand()\n",
    "    cmd_msg.names = robot.jointNames\n",
    "    cmd_msg.mode = cmd_msg.VELOCITY_MODE\n",
    "    cmd_msg.header.stamp = rclpy.clock.Clock().now().to_msg()\n",
    "    cmd_msg.velocity =vels \n",
    "    cmd_pub.publish(cmd_msg)\n",
    "\n",
    "def goto_xyzrpy(target, delay=0.1, tol=0.05, max_step=100, gain=1.0, stop=True):\n",
    "    ee6=get_ee(ros_interface.latest_joint_states)\n",
    "    xd=ee6-target\n",
    "    xd[3:6]=0 \n",
    "\n",
    "    # print('xd: ', xd)\n",
    "\n",
    "    alpha = .0001\n",
    "    I = np.eye(q.shape[0])\n",
    "\n",
    "    step=0\n",
    "    while np.linalg.norm(xd)>tol:\n",
    "        ee6=get_ee(ros_interface.latest_joint_states)\n",
    "        xd=target-ee6 \n",
    "        xd = xd * gain\n",
    "        xd[3:6]=0        # only xyz, rpy not working yet\n",
    "\n",
    "        J = robot.getJacobian('camera_link')\n",
    "        \n",
    "        qd = np.linalg.inv(J.T @ J + alpha * I) @ J.T @ xd\n",
    "\n",
    "        set_vels(list(qd))\n",
    "        time.sleep(delay)\n",
    "\n",
    "        step = step+1 \n",
    "        if step>=max_step:\n",
    "            break \n",
    "    \n",
    "    # stop\n",
    "    if stop:\n",
    "        set_vels([0.0]*10)\n",
    "\n",
    "# apos=0\n",
    "# def goto_q_pos_velocity_ctrl(target_q, alpha=0.7, tol=0.01,  delay=0.1, maxstep=50):\n",
    "#     global apos\n",
    "#     target_jointpos=target_q\n",
    "#     cpos=robot.getJoints()\n",
    "#     dpos=np.linalg.norm(target_jointpos-cpos)\n",
    "\n",
    "#     step =0\n",
    "#     while dpos>tol: \n",
    "#         cpos=robot.getJoints()\n",
    "#         dpos=np.linalg.norm(target_jointpos-cpos)\n",
    "          \n",
    "\n",
    "#         qd =(target_jointpos-cpos)*alpha\n",
    "#         apos=qd \n",
    "#         if np.max(qd) <0.001:\n",
    "#             print('reached')\n",
    "#             break \n",
    "\n",
    "\n",
    "#         set_vels(list(qd))\n",
    "#         time.sleep(delay)\n",
    "#         step +=1\n",
    "\n",
    "#         if step>=maxstep:\n",
    "#             break \n",
    "        \n",
    "#     set_vels([0.0]*10)\n",
    "\n",
    "apos=0\n",
    "def goto_q_pos_velocity_ctrl(target_q, alpha=0.7, tol=0.01,  delay=0.1, maxstep=50):\n",
    "    global apos\n",
    "    target_jointpos=target_q\n",
    "    cpos=robot.getJoints()\n",
    "    dpos=np.linalg.norm(target_jointpos-cpos)\n",
    "\n",
    "    set_script_ctrl(True)\n",
    "    time.sleep(1)\n",
    "\n",
    "    step =0\n",
    "    while dpos>tol: \n",
    "        cpos=robot.getJoints()\n",
    "        dpos=np.linalg.norm(target_jointpos-cpos)\n",
    "          \n",
    "\n",
    "        qd =(target_jointpos-cpos)*alpha\n",
    "        apos=qd \n",
    "        if np.max(qd) <0.001:\n",
    "            print('reached')\n",
    "            break \n",
    "\n",
    "\n",
    "        set_vels(list(qd))\n",
    "        time.sleep(delay)\n",
    "        step +=1\n",
    "\n",
    "        if step>=maxstep:\n",
    "            break \n",
    "        \n",
    "    set_vels([0.0]*10)\n",
    "\n",
    "    set_script_ctrl(False)\n"
   ]
  },
  {
   "cell_type": "code",
   "execution_count": null,
   "metadata": {},
   "outputs": [],
   "source": []
  },
  {
   "cell_type": "markdown",
   "metadata": {},
   "source": [
    "### Robot safety check"
   ]
  },
  {
   "cell_type": "code",
   "execution_count": 12,
   "metadata": {},
   "outputs": [
    {
     "data": {
      "text/plain": [
       "array([ 1.01325098,  0.10701465,  0.42728027, -1.49230664,  1.53894043,\n",
       "       -1.16489453, -1.49287109,  2.73164355,  0.        ,  0.        ])"
      ]
     },
     "execution_count": 12,
     "metadata": {},
     "output_type": "execute_result"
    }
   ],
   "source": [
    "pos1=robot.getJoints()\n",
    "pos1"
   ]
  },
  {
   "cell_type": "markdown",
   "metadata": {},
   "source": [
    "### move little by hand, then execute the following"
   ]
  },
  {
   "cell_type": "code",
   "execution_count": 12,
   "metadata": {},
   "outputs": [],
   "source": [
    "goto_q_pos_velocity_ctrl(pos1, tol=0.005)"
   ]
  },
  {
   "cell_type": "code",
   "execution_count": null,
   "metadata": {},
   "outputs": [],
   "source": []
  },
  {
   "cell_type": "markdown",
   "metadata": {},
   "source": [
    "### init"
   ]
  },
  {
   "cell_type": "code",
   "execution_count": 26,
   "metadata": {},
   "outputs": [],
   "source": [
    "init_coffee1 = np.array([ 1.01335352,  0.70604199,  0.42728027, -1.49230664,  1.53894043,\n",
    "       -1.16489453, -1.49287109,  2.73164355,  0.04069973,  0.        ])"
   ]
  },
  {
   "cell_type": "code",
   "execution_count": 14,
   "metadata": {},
   "outputs": [],
   "source": [
    "goto_q_pos_velocity_ctrl(init_coffee1, tol=0.005, maxstep=200)"
   ]
  },
  {
   "cell_type": "code",
   "execution_count": null,
   "metadata": {},
   "outputs": [],
   "source": []
  },
  {
   "cell_type": "markdown",
   "metadata": {},
   "source": [
    "### Trajectory playing test"
   ]
  },
  {
   "cell_type": "code",
   "execution_count": 13,
   "metadata": {},
   "outputs": [
    {
     "name": "stdout",
     "output_type": "stream",
     "text": [
      "dataset_path: /home/carl/data_sawyer/coffee/sawyer_coffee_gfs76.hdf5\n"
     ]
    },
    {
     "data": {
      "text/plain": [
       "76"
      ]
     },
     "execution_count": 13,
     "metadata": {},
     "output_type": "execute_result"
    }
   ],
   "source": [
    "dataset_path =  config.train.data \n",
    "print(f'dataset_path: {dataset_path}')\n",
    "\n",
    "f = h5py.File(dataset_path, \"r\")\n",
    "demos = list(f[\"data\"].keys())\n",
    "len(demos)"
   ]
  },
  {
   "cell_type": "code",
   "execution_count": 14,
   "metadata": {},
   "outputs": [
    {
     "data": {
      "text/plain": [
       "(679, 6)"
      ]
     },
     "execution_count": 14,
     "metadata": {},
     "output_type": "execute_result"
    }
   ],
   "source": [
    "demo_name=\"demo_1\"\n",
    "demo=f['data'][demo_name]\n",
    "actions=demo['actions']\n",
    "ee_pos=demo['obs']['robot0_eef_pos']\n",
    "ee_pos.shape"
   ]
  },
  {
   "cell_type": "code",
   "execution_count": 15,
   "metadata": {},
   "outputs": [
    {
     "data": {
      "text/plain": [
       "<KeysViewHDF5 ['agentview_image', 'robot0_eef_pos', 'robot0_eye_in_hand_image', 'robot0_joint_pos', 'robot0_joint_vel']>"
      ]
     },
     "execution_count": 15,
     "metadata": {},
     "output_type": "execute_result"
    }
   ],
   "source": [
    "f['data'][demo_name]['obs'].keys()"
   ]
  },
  {
   "cell_type": "code",
   "execution_count": null,
   "metadata": {},
   "outputs": [],
   "source": []
  },
  {
   "cell_type": "code",
   "execution_count": 16,
   "metadata": {},
   "outputs": [],
   "source": [
    "goto_xyzrpy(ee_pos[0], tol=0.005) "
   ]
  },
  {
   "cell_type": "code",
   "execution_count": 17,
   "metadata": {},
   "outputs": [],
   "source": [
    "for i in range(len(ee_pos)):\n",
    "    goto_xyzrpy(ee_pos[i], delay=0.001, tol=0.02) \n",
    "\n",
    "goto_xyzrpy(ee_pos[i], tol=0.005)  # last one with precision"
   ]
  },
  {
   "cell_type": "code",
   "execution_count": 18,
   "metadata": {},
   "outputs": [],
   "source": [
    "goto_xyzrpy(ee_pos[-1], tol=0.005)"
   ]
  },
  {
   "cell_type": "code",
   "execution_count": null,
   "metadata": {},
   "outputs": [],
   "source": []
  },
  {
   "cell_type": "code",
   "execution_count": 17,
   "metadata": {},
   "outputs": [
    {
     "data": {
      "text/plain": [
       "array([ 0.41599406,  0.13853751,  0.12253274, -0.87225216,  1.5505728 ,\n",
       "       -2.42463191])"
      ]
     },
     "execution_count": 17,
     "metadata": {},
     "output_type": "execute_result"
    }
   ],
   "source": [
    "eepos_current=ee_pos[0]\n",
    "eepos_current"
   ]
  },
  {
   "cell_type": "code",
   "execution_count": null,
   "metadata": {},
   "outputs": [],
   "source": []
  },
  {
   "cell_type": "code",
   "execution_count": null,
   "metadata": {},
   "outputs": [],
   "source": []
  },
  {
   "cell_type": "markdown",
   "metadata": {},
   "source": [
    "### Robot is ready"
   ]
  },
  {
   "cell_type": "code",
   "execution_count": 18,
   "metadata": {},
   "outputs": [],
   "source": [
    "policy.start_episode()"
   ]
  },
  {
   "cell_type": "code",
   "execution_count": 8,
   "metadata": {},
   "outputs": [],
   "source": []
  },
  {
   "cell_type": "code",
   "execution_count": 19,
   "metadata": {},
   "outputs": [],
   "source": [
    "def get_current_obs():\n",
    "    # img_wrist=cam_wrist.get_current_frame(scale=0.5)  \n",
    "    # img_front=cam_front.get_current_frame(scale=0.5) \n",
    "\n",
    "    image_wrist=ros_interface.image_wrist\n",
    "    image_front=ros_interface.image_front\n",
    "\n",
    "    if image_front.sum()==0.0:\n",
    "        print('image front None')\n",
    "        return None\n",
    "    if image_wrist.sum()==0:\n",
    "        print('image wrist None')\n",
    "        return None \n",
    "\n",
    "    scale=0.5\n",
    "    img_wrist = cv2.resize(image_wrist, (int(image_wrist.shape[1]*scale), int(image_wrist.shape[0]*scale) ) , interpolation = cv2.INTER_AREA)\n",
    "    img_front = cv2.resize(image_front, (int(image_front.shape[1]*scale), int(image_front.shape[0]*scale) ) , interpolation = cv2.INTER_AREA)\n",
    "\n",
    "\n",
    "    # print('shape: ', image_wrist.shape, image_front.shape)\n",
    "    msg=ros_interface.latest_joint_states\n",
    "    gripper_isopen=ros_interface.latest_gripper_state\n",
    "\n",
    "    ee=get_ee(msg)\n",
    "\n",
    "    try:\n",
    "        pos =np.array([msg.position[ind] for ind in joint_inds])\n",
    "        vel =np.array([msg.velocity[ind] for ind in joint_inds])\n",
    "        t=msg.header.stamp.sec+msg.header.stamp.nanosec*1e-9\n",
    "    except Exception as e:\n",
    "        # print('msg=', msg)\n",
    "        # print('Error=',e, e.st)\n",
    "        # traceback.print_exc()\n",
    "        return None \n",
    "\n",
    "    img_wrist=cv2.cvtColor(img_wrist, cv2.COLOR_BGR2RGB)\n",
    "    img_front=cv2.cvtColor(img_front, cv2.COLOR_BGR2RGB)\n",
    "\n",
    "    img_wrist=cv2.resize(img_wrist, (84,84))\n",
    "    img_front=cv2.resize(img_front, (84,84))\n",
    "\n",
    "\n",
    "    ob={'agentview_image': img_front, 'robot0_eye_in_hand_image': img_wrist, 'robot0_joint_pos': pos, 'robot0_joint_vel':vel, 'robot0_eef_pos': ee}\n",
    "    ob['robot0_eye_in_hand_image']=ob['robot0_eye_in_hand_image'].transpose(2,0,1)\n",
    "    ob['agentview_image']=ob['agentview_image'].transpose(2,0,1)\n",
    "\n",
    "    return ob"
   ]
  },
  {
   "cell_type": "code",
   "execution_count": 20,
   "metadata": {},
   "outputs": [
    {
     "data": {
      "text/plain": [
       "True"
      ]
     },
     "execution_count": 20,
     "metadata": {},
     "output_type": "execute_result"
    }
   ],
   "source": [
    "ob=get_current_obs()\n",
    "ob!=None "
   ]
  },
  {
   "cell_type": "code",
   "execution_count": 21,
   "metadata": {},
   "outputs": [
    {
     "data": {
      "text/plain": [
       "dict_keys(['agentview_image', 'robot0_eye_in_hand_image', 'robot0_joint_pos', 'robot0_joint_vel', 'robot0_eef_pos'])"
      ]
     },
     "execution_count": 21,
     "metadata": {},
     "output_type": "execute_result"
    }
   ],
   "source": [
    "ob.keys()"
   ]
  },
  {
   "cell_type": "code",
   "execution_count": 51,
   "metadata": {},
   "outputs": [],
   "source": []
  },
  {
   "cell_type": "code",
   "execution_count": 22,
   "metadata": {},
   "outputs": [],
   "source": [
    "goto_xyzrpy(ee_pos[0], tol=0.005) "
   ]
  },
  {
   "cell_type": "code",
   "execution_count": 23,
   "metadata": {},
   "outputs": [
    {
     "data": {
      "text/plain": [
       "array([ 0.41599406,  0.13853751,  0.12253274, -0.87225216,  1.5505728 ,\n",
       "       -2.42463191])"
      ]
     },
     "execution_count": 23,
     "metadata": {},
     "output_type": "execute_result"
    }
   ],
   "source": [
    "eepos_start=ee_pos[0]\n",
    "eepos_current=eepos_start\n",
    "eepos_current"
   ]
  },
  {
   "cell_type": "code",
   "execution_count": 24,
   "metadata": {},
   "outputs": [],
   "source": [
    "cv2.destroyAllWindows() "
   ]
  },
  {
   "cell_type": "code",
   "execution_count": 27,
   "metadata": {},
   "outputs": [],
   "source": [
    "goto_q_pos_velocity_ctrl(init_coffee1, tol=0.005, maxstep=200)"
   ]
  },
  {
   "cell_type": "code",
   "execution_count": null,
   "metadata": {},
   "outputs": [],
   "source": []
  },
  {
   "cell_type": "code",
   "execution_count": null,
   "metadata": {},
   "outputs": [],
   "source": []
  },
  {
   "cell_type": "code",
   "execution_count": null,
   "metadata": {},
   "outputs": [],
   "source": []
  },
  {
   "cell_type": "code",
   "execution_count": null,
   "metadata": {},
   "outputs": [],
   "source": []
  },
  {
   "cell_type": "markdown",
   "metadata": {},
   "source": [
    "### try"
   ]
  },
  {
   "cell_type": "code",
   "execution_count": 28,
   "metadata": {},
   "outputs": [
    {
     "name": "stderr",
     "output_type": "stream",
     "text": [
      "/home/carl/.local/lib/python3.10/site-packages/torch/nn/modules/conv.py:456: UserWarning: Applied workaround for CuDNN issue, install nvrtc.so (Triggered internally at ../aten/src/ATen/native/cudnn/Conv_v8.cpp:80.)\n",
      "  return F.conv2d(input, weight, bias, self.stride,\n"
     ]
    },
    {
     "name": "stdout",
     "output_type": "stream",
     "text": [
      "i=0 ac=[-0.00250738  0.00328677 -0.00501301 -0.01303758  0.00836326 -0.01449115\n",
      "  0.9997623 ]\n",
      "---------------------------------\n",
      "grip now-----------------------\n",
      "\n",
      "---------------------------------------\n",
      "eepos_togo: [ 0.41348668  0.14182428  0.11751973 -0.87225216  1.5505728  -2.42463191]\n",
      "i=1 ac=[ 0.00164268 -0.00441422 -0.00154139  0.01002436  0.00549421  0.00598545\n",
      " -0.00046488]\n",
      "eepos_togo: [ 0.41512936  0.13741006  0.11597833 -0.87225216  1.5505728  -2.42463191]\n",
      "i=2 ac=[ 0.00155449 -0.00424421 -0.00182286  0.01014987  0.00543258  0.00594397\n",
      " -0.00023442]\n",
      "eepos_togo: [ 0.41668384  0.13316585  0.11415548 -0.87225216  1.5505728  -2.42463191]\n",
      "i=3 ac=[ 0.0013658  -0.00424736 -0.00181591  0.00983691  0.00557658  0.00565354\n",
      " -0.00031007]\n",
      "eepos_togo: [ 0.41804965  0.12891849  0.11233956 -0.87225216  1.5505728  -2.42463191]\n",
      "i=4 ac=[ 0.00135685 -0.00419346 -0.00166153  0.01009375  0.00541456  0.00592486\n",
      " -0.00033559]\n",
      "eepos_togo: [ 0.4194065   0.12472504  0.11067804 -0.87225216  1.5505728  -2.42463191]\n",
      "i=5 ac=[ 0.00141878 -0.0050421  -0.00263799  0.00973125  0.00247805  0.00629646\n",
      " -0.00014987]\n",
      "eepos_togo: [ 0.42082528  0.11968294  0.10804004 -0.87225216  1.5505728  -2.42463191]\n",
      "i=7 ac=[ 0.00123946 -0.00471953 -0.00267562  0.00969636  0.00238614  0.006275\n",
      " -0.00033343]\n",
      "eepos_togo: [ 0.42206474  0.11496341  0.10536443 -0.87225216  1.5505728  -2.42463191]\n",
      "i=8 ac=[ 0.00121139 -0.00504666 -0.00257648  0.00964863  0.00239864  0.0063157\n",
      " -0.00021608]\n",
      "eepos_togo: [ 0.42327613  0.10991675  0.10278794 -0.87225216  1.5505728  -2.42463191]\n",
      "i=9 ac=[ 0.00133145 -0.00492927 -0.0026772   0.00958008  0.00218589  0.00662912\n",
      " -0.00031478]\n",
      "eepos_togo: [ 0.42460758  0.10498748  0.10011075 -0.87225216  1.5505728  -2.42463191]\n",
      "i=10 ac=[ 6.2563107e-05  4.4301338e-03 -4.8358743e-03 -1.8128799e-02\n",
      "  7.9129022e-03 -1.8706135e-02  1.0000488e+00]\n",
      "---------------------------------\n",
      "grip now-----------------------\n",
      "\n",
      "---------------------------------------\n",
      "eepos_togo: [ 0.42467014  0.10941761  0.09527487 -0.87225216  1.5505728  -2.42463191]\n",
      "i=11 ac=[ 0.0014375  -0.00484294 -0.00256739  0.01055973  0.00237733  0.0075175\n",
      " -0.00027383]\n",
      "eepos_togo: [ 0.42610764  0.10457467  0.09270748 -0.87225216  1.5505728  -2.42463191]\n",
      "i=12 ac=[ 9.6344840e-05  4.4101612e-03 -4.8172916e-03 -1.5841834e-02\n",
      "  7.9019954e-03 -1.6484506e-02  1.0000204e+00]\n",
      "---------------------------------\n",
      "grip now-----------------------\n",
      "\n",
      "---------------------------------------\n",
      "eepos_togo: [ 0.42620398  0.10898484  0.08789019 -0.87225216  1.5505728  -2.42463191]\n",
      "i=13 ac=[ 0.00121272 -0.00482694 -0.00266271  0.01081525  0.00230375  0.00743737\n",
      " -0.00031918]\n",
      "eepos_togo: [ 0.4274167   0.1041579   0.08522748 -0.87225216  1.5505728  -2.42463191]\n",
      "i=14 ac=[ 0.00143846 -0.004831   -0.00250591  0.01079852  0.00239898  0.00771483\n",
      " -0.00034881]\n",
      "eepos_togo: [ 0.42885516  0.0993269   0.08272157 -0.87225216  1.5505728  -2.42463191]\n",
      "i=15 ac=[-3.09456736e-05  4.38385736e-03 -4.87151090e-03 -1.55361025e-02\n",
      "  7.51267094e-03 -1.66295245e-02  1.00005209e+00]\n",
      "---------------------------------\n",
      "grip now-----------------------\n",
      "\n",
      "---------------------------------------\n",
      "eepos_togo: [ 0.42882421  0.10371076  0.07785006 -0.87225216  1.5505728  -2.42463191]\n",
      "i=17 ac=[ 0.00131586 -0.00468694 -0.00246024  0.01054437  0.00241514  0.00746238\n",
      " -0.00018153]\n",
      "eepos_togo: [ 0.43014008  0.09902382  0.07538982 -0.87225216  1.5505728  -2.42463191]\n",
      "i=18 ac=[ 0.00138829 -0.00479084 -0.00267318  0.01083084  0.00236938  0.00755216\n",
      " -0.00025635]\n",
      "eepos_togo: [ 0.43152837  0.09423298  0.07271664 -0.87225216  1.5505728  -2.42463191]\n",
      "i=19 ac=[-0.00178536 -0.00204699 -0.0011007   0.01563321 -0.00027285  0.02037276\n",
      "  0.00027396]\n",
      "eepos_togo: [ 0.42974301  0.09218599  0.07161593 -0.87225216  1.5505728  -2.42463191]\n",
      "i=20 ac=[ 0.00134163 -0.00485063 -0.00266275  0.01055082  0.002466    0.00758872\n",
      " -0.00016596]\n",
      "eepos_togo: [ 0.43108464  0.08733537  0.06895318 -0.87225216  1.5505728  -2.42463191]\n",
      "i=21 ac=[ 0.0014293  -0.0048611  -0.00264188  0.01066567  0.00240965  0.00735528\n",
      " -0.00018245]\n",
      "eepos_togo: [ 0.43251394  0.08247427  0.0663113  -0.87225216  1.5505728  -2.42463191]\n",
      "i=22 ac=[ 0.00055293 -0.00454741 -0.00285825  0.00889609  0.00134524  0.00671344\n",
      " -0.0002308 ]\n",
      "eepos_togo: [ 0.43306688  0.07792686  0.06345305 -0.87225216  1.5505728  -2.42463191]\n",
      "i=24 ac=[ 0.00140265 -0.00412391 -0.001888    0.00898345  0.00569014  0.00502476\n",
      " -0.0004611 ]\n",
      "eepos_togo: [ 0.43446953  0.07380295  0.06156505 -0.87225216  1.5505728  -2.42463191]\n",
      "i=25 ac=[-0.00023141 -0.00369862 -0.00189018  0.00899868  0.00372806  0.0063935\n",
      " -0.0001564 ]\n",
      "eepos_togo: [ 0.43423812  0.07010433  0.05967487 -0.87225216  1.5505728  -2.42463191]\n",
      "i=26 ac=[-0.00180374  0.00388575 -0.00391156 -0.01329386  0.00726576 -0.01563867\n",
      "  1.0000863 ]\n",
      "---------------------------------\n",
      "grip now-----------------------\n",
      "\n",
      "---------------------------------------\n",
      "eepos_togo: [ 0.43243439  0.07399008  0.05576332 -0.87225216  1.5505728  -2.42463191]\n",
      "i=28 ac=[-0.00043393 -0.00370469 -0.00210274  0.00910741  0.00366521  0.00677101\n",
      " -0.00017608]\n",
      "eepos_togo: [ 0.43200046  0.07028539  0.05366058 -0.87225216  1.5505728  -2.42463191]\n",
      "i=29 ac=[-0.00017836 -0.00362208 -0.00237266  0.00914527  0.00339987  0.00670732\n",
      " -0.00029227]\n",
      "eepos_togo: [ 0.43182209  0.06666331  0.05128792 -0.87225216  1.5505728  -2.42463191]\n",
      "i=30 ac=[-0.00176005 -0.00548607 -0.00151787  0.00691787 -0.00280867 -0.00394697\n",
      " -0.00023897]\n",
      "eepos_togo: [ 0.43006204  0.06117724  0.04977005 -0.87225216  1.5505728  -2.42463191]\n",
      "i=32 ac=[-0.00296774 -0.00538042  0.00020297  0.00602833 -0.00054959 -0.00855936\n",
      " -0.00011779]\n",
      "eepos_togo: [ 0.4270943   0.05579682  0.04997302 -0.87225216  1.5505728  -2.42463191]\n",
      "i=33 ac=[-0.00108395 -0.00740778  0.00118002 -0.00383287 -0.00225704 -0.01373113\n",
      " -0.00016119]\n",
      "eepos_togo: [ 0.42601035  0.04838904  0.05115304 -0.87225216  1.5505728  -2.42463191]\n",
      "i=34 ac=[-0.00136839 -0.00017146 -0.00238145 -0.00163328 -0.00050964 -0.00110644\n",
      "  0.00031478]\n",
      "eepos_togo: [ 0.42464197  0.04821758  0.04877159 -0.87225216  1.5505728  -2.42463191]\n",
      "i=35 ac=[-0.00304134  0.00014716 -0.00251219 -0.00166704 -0.00237501  0.00031598\n",
      "  0.00045622]\n",
      "eepos_togo: [ 0.42160063  0.04836474  0.0462594  -0.87225216  1.5505728  -2.42463191]\n",
      "i=36 ac=[-0.00302948  0.00046154 -0.00051373  0.02199273  0.00288765  0.02653108\n",
      "  0.00038183]\n",
      "eepos_togo: [ 0.41857115  0.04882628  0.04574567 -0.87225216  1.5505728  -2.42463191]\n",
      "i=37 ac=[-0.00068178  0.00211761 -0.00230792  0.00743286  0.00538827  0.01643422\n",
      "  0.0002747 ]\n",
      "eepos_togo: [ 0.41788937  0.05094389  0.04343775 -0.87225216  1.5505728  -2.42463191]\n",
      "i=38 ac=[ 0.00166172  0.00011662 -0.00154728  0.00911132 -0.00120787  0.00772256\n",
      "  0.00031909]\n",
      "eepos_togo: [ 0.41955109  0.05106051  0.04189046 -0.87225216  1.5505728  -2.42463191]\n",
      "i=39 ac=[-0.0022128   0.00058658 -0.00120318  0.01034453  0.0003765   0.01159893\n",
      "  0.00026637]\n",
      "eepos_togo: [ 0.41733829  0.05164709  0.04068729 -0.87225216  1.5505728  -2.42463191]\n",
      "i=40 ac=[-2.0299915e-03  6.8517349e-04 -1.1696283e-03  1.0313486e-02\n",
      "  9.5730633e-05  1.1577518e-02  2.8237668e-04]\n",
      "eepos_togo: [ 0.41530829  0.05233226  0.03951766 -0.87225216  1.5505728  -2.42463191]\n",
      "i=41 ac=[-1.6837605e-04  1.2374592e-03 -5.0320933e-03 -9.6729258e-05\n",
      " -5.2847983e-03 -4.3946775e-03  9.9977696e-01]\n",
      "---------------------------------\n",
      "grip now-----------------------\n",
      "\n",
      "---------------------------------------\n",
      "eepos_togo: [ 0.41513992  0.05356972  0.03448557 -0.87225216  1.5505728  -2.42463191]\n",
      "i=43 ac=[ 6.9888963e-05  3.7628831e-03 -1.9709647e-03 -1.7275210e-03\n",
      " -3.6040435e-03 -3.1354409e-03  1.0001824e+00]\n",
      "---------------------------------\n",
      "grip now-----------------------\n",
      "\n",
      "---------------------------------------\n",
      "eepos_togo: [ 0.41520981  0.05733261  0.0325146  -0.87225216  1.5505728  -2.42463191]\n",
      "i=44 ac=[-0.00071291 -0.00126647  0.00361144  0.00450011 -0.01122878  0.00685674\n",
      "  0.00034649]\n",
      "eepos_togo: [ 0.4144969   0.05606614  0.03612604 -0.87225216  1.5505728  -2.42463191]\n",
      "i=45 ac=[ 0.00105833  0.00323124  0.00124142 -0.00498283 -0.00486257 -0.01457824\n",
      "  0.99995357]\n",
      "---------------------------------\n",
      "grip now-----------------------\n",
      "\n",
      "---------------------------------------\n",
      "eepos_togo: [ 0.41555523  0.05929738  0.03736746 -0.87225216  1.5505728  -2.42463191]\n",
      "i=46 ac=[-0.00121981 -0.00290315 -0.00266149 -0.00348409  0.00344323 -0.00981414\n",
      " -0.00021451]\n",
      "eepos_togo: [ 0.41433542  0.05639423  0.03470597 -0.87225216  1.5505728  -2.42463191]\n",
      "i=47 ac=[ 0.00055787 -0.0039838  -0.00214283 -0.00341322  0.00153885 -0.01499104\n",
      " -0.00011782]\n",
      "eepos_togo: [ 0.41489329  0.05241044  0.03256314 -0.87225216  1.5505728  -2.42463191]\n",
      "i=48 ac=[ 0.00037063 -0.00398088 -0.00197236 -0.0035326   0.00144085 -0.01505196\n",
      " -0.00016001]\n",
      "eepos_togo: [ 0.41526392  0.04842956  0.03059078 -0.87225216  1.5505728  -2.42463191]\n",
      "i=49 ac=[ 0.00166686 -0.00276055 -0.00267245 -0.00373718  0.00658481 -0.00721141\n",
      " -0.0002684 ]\n",
      "eepos_togo: [ 0.41693079  0.04566901  0.02791833 -0.87225216  1.5505728  -2.42463191]\n",
      "i=50 ac=[-0.00135043 -0.0032756   0.000138    0.00295901  0.00375864 -0.00629475\n",
      " -0.00024184]\n",
      "eepos_togo: [ 0.41558036  0.04239341  0.02805633 -0.87225216  1.5505728  -2.42463191]\n",
      "i=51 ac=[-0.00280291 -0.00512359  0.00035858  0.00706605 -0.00054075 -0.00780539\n",
      " -0.00030565]\n",
      "eepos_togo: [ 0.41277745  0.03726982  0.02841491 -0.87225216  1.5505728  -2.42463191]\n",
      "i=53 ac=[-0.001354   -0.00244412  0.00087014  0.00776495  0.00171668  0.00416494\n",
      "  0.00022534]\n",
      "eepos_togo: [ 0.41142345  0.03482571  0.02928505 -0.87225216  1.5505728  -2.42463191]\n",
      "i=54 ac=[ 8.4735249e-04  3.4052068e-03 -3.1246084e-03 -1.9895002e-02\n",
      "  1.0151964e-02 -2.0136585e-02  1.0000489e+00]\n",
      "---------------------------------\n",
      "grip now-----------------------\n",
      "\n",
      "---------------------------------------\n",
      "eepos_togo: [ 0.4122708   0.03823091  0.02616044 -0.87225216  1.5505728  -2.42463191]\n",
      "i=56 ac=[ 5.8015442e-04  3.3428813e-03 -3.1682763e-03 -1.9767424e-02\n",
      "  1.0183559e-02 -2.0036783e-02  9.9982208e-01]\n",
      "---------------------------------\n",
      "grip now-----------------------\n",
      "\n",
      "---------------------------------------\n",
      "eepos_togo: [ 0.41285095  0.04157379  0.02299217 -0.87225216  1.5505728  -2.42463191]\n",
      "i=57 ac=[ 3.7044112e-05 -5.1689143e-03 -9.1394264e-04  6.6078887e-03\n",
      "  3.4805799e-03 -1.6817401e-04 -2.7891886e-04]\n",
      "eepos_togo: [ 0.412888    0.03640488  0.02207823 -0.87225216  1.5505728  -2.42463191]\n",
      "i=58 ac=[-2.1839736e-05 -5.2966448e-03 -1.0707313e-03  6.5044672e-03\n",
      "  3.6092761e-03 -1.3472330e-04 -3.1636757e-04]\n",
      "eepos_togo: [ 0.41286616  0.03110824  0.02100749 -0.87225216  1.5505728  -2.42463191]\n",
      "i=59 ac=[-6.9460570e-05 -5.0285291e-03 -9.8543428e-04  6.3858097e-03\n",
      "  3.5695028e-03 -4.1800231e-06 -4.1832836e-04]\n",
      "eepos_togo: [ 0.4127967   0.02607971  0.02002206 -0.87225216  1.5505728  -2.42463191]\n",
      "i=60 ac=[-2.1661966e-05 -4.4673719e-03 -7.3161721e-04  2.4732838e-03\n",
      "  2.5010717e-03 -7.2387294e-03 -3.6952621e-04]\n",
      "eepos_togo: [ 0.41277503  0.02161233  0.01929044 -0.87225216  1.5505728  -2.42463191]\n",
      "i=61 ac=[ 0.00015773 -0.00520454 -0.00101446  0.00641124  0.00353439 -0.00013056\n",
      " -0.0003102 ]\n",
      "eepos_togo: [ 0.41293276  0.01640779  0.01827598 -0.87225216  1.5505728  -2.42463191]\n",
      "i=63 ac=[-3.2116408e-05 -4.9450430e-03 -1.0088094e-03  6.4588436e-03\n",
      "  3.6052621e-03 -2.7635286e-04 -3.4497716e-04]\n",
      "eepos_togo: [ 0.41290064  0.01146275  0.01726718 -0.87225216  1.5505728  -2.42463191]\n",
      "i=64 ac=[-6.6348533e-05 -5.1603373e-03 -1.0963826e-03  6.5356097e-03\n",
      "  3.7274400e-03  5.2693329e-05 -3.8050898e-04]\n",
      "eepos_togo: [ 0.41283429  0.00630241  0.01617079 -0.87225216  1.5505728  -2.42463191]\n",
      "i=65 ac=[-0.00028052 -0.00512426 -0.00090196  0.0065893   0.00337917 -0.00013874\n",
      " -0.00041121]\n",
      "eepos_togo: [ 4.12553779e-01  1.17815485e-03  1.52688361e-02 -8.72252160e-01\n",
      "  1.55057280e+00 -2.42463191e+00]\n",
      "i=66 ac=[-7.33414199e-05 -5.08235535e-03 -8.89247982e-04  6.68296684e-03\n",
      "  3.39279580e-03 -1.15794006e-04 -4.92527965e-04]\n",
      "eepos_togo: [ 0.41248044 -0.0039042   0.01437959 -0.87225216  1.5505728  -2.42463191]\n",
      "i=67 ac=[-3.2789285e-05 -5.2697100e-03 -1.0425569e-03  6.3897460e-03\n",
      "  3.7007092e-03 -3.0957639e-05 -4.0490174e-04]\n",
      "eepos_togo: [ 0.41244765 -0.00917391  0.01333703 -0.87225216  1.5505728  -2.42463191]\n",
      "i=68 ac=[ 7.0807553e-04  3.3366147e-03 -3.0254058e-03 -1.9789394e-02\n",
      "  1.0237807e-02 -2.0256687e-02  1.0002075e+00]\n",
      "---------------------------------\n",
      "grip now-----------------------\n",
      "\n",
      "---------------------------------------\n",
      "eepos_togo: [ 0.41315572 -0.0058373   0.01031163 -0.87225216  1.5505728  -2.42463191]\n",
      "i=69 ac=[ 8.6284697e-04  3.1863495e-03 -3.0958822e-03 -1.9978546e-02\n",
      "  1.0271722e-02 -2.0251952e-02  1.0000497e+00]\n",
      "---------------------------------\n",
      "grip now-----------------------\n",
      "\n",
      "---------------------------------------\n",
      "eepos_togo: [ 0.41401857 -0.00265095  0.00721574 -0.87225216  1.5505728  -2.42463191]\n",
      "i=72 ac=[-6.9788366e-05 -5.2047945e-03 -9.7216712e-04  6.4108307e-03\n",
      "  3.5969070e-03 -1.8232295e-04 -3.5046274e-04]\n",
      "eepos_togo: [ 0.41394878 -0.00785574  0.00624358 -0.87225216  1.5505728  -2.42463191]\n"
     ]
    },
    {
     "ename": "KeyboardInterrupt",
     "evalue": "",
     "output_type": "error",
     "traceback": [
      "\u001b[0;31m---------------------------------------------------------------------------\u001b[0m",
      "\u001b[0;31mKeyboardInterrupt\u001b[0m                         Traceback (most recent call last)",
      "Cell \u001b[0;32mIn[28], line 33\u001b[0m\n\u001b[1;32m     30\u001b[0m eepos_current[:\u001b[38;5;241m3\u001b[39m] \u001b[38;5;241m+\u001b[39m\u001b[38;5;241m=\u001b[39m ac[:\u001b[38;5;241m3\u001b[39m]\n\u001b[1;32m     31\u001b[0m \u001b[38;5;28mprint\u001b[39m(\u001b[38;5;124mf\u001b[39m\u001b[38;5;124m'\u001b[39m\u001b[38;5;124meepos_togo: \u001b[39m\u001b[38;5;132;01m{\u001b[39;00meepos_current\u001b[38;5;132;01m}\u001b[39;00m\u001b[38;5;124m'\u001b[39m)\n\u001b[0;32m---> 33\u001b[0m \u001b[43mgoto_xyzrpy\u001b[49m\u001b[43m(\u001b[49m\u001b[43meepos_current\u001b[49m\u001b[43m,\u001b[49m\u001b[43m \u001b[49m\u001b[43mtol\u001b[49m\u001b[38;5;241;43m=\u001b[39;49m\u001b[38;5;241;43m0.01\u001b[39;49m\u001b[43m,\u001b[49m\u001b[43m \u001b[49m\u001b[43mmax_step\u001b[49m\u001b[38;5;241;43m=\u001b[39;49m\u001b[38;5;241;43m2\u001b[39;49m\u001b[43m,\u001b[49m\u001b[43m \u001b[49m\u001b[43mstop\u001b[49m\u001b[38;5;241;43m=\u001b[39;49m\u001b[38;5;28;43;01mFalse\u001b[39;49;00m\u001b[43m)\u001b[49m\n\u001b[1;32m     37\u001b[0m image_front\u001b[38;5;241m=\u001b[39mob[\u001b[38;5;124m'\u001b[39m\u001b[38;5;124magentview_image\u001b[39m\u001b[38;5;124m'\u001b[39m]\u001b[38;5;241m.\u001b[39mtranspose(\u001b[38;5;241m2\u001b[39m,\u001b[38;5;241m1\u001b[39m,\u001b[38;5;241m0\u001b[39m) \n\u001b[1;32m     38\u001b[0m image_wrist\u001b[38;5;241m=\u001b[39mob[\u001b[38;5;124m'\u001b[39m\u001b[38;5;124mrobot0_eye_in_hand_image\u001b[39m\u001b[38;5;124m'\u001b[39m]\u001b[38;5;241m.\u001b[39mtranspose(\u001b[38;5;241m2\u001b[39m,\u001b[38;5;241m1\u001b[39m,\u001b[38;5;241m0\u001b[39m)\n",
      "Cell \u001b[0;32mIn[10], line 46\u001b[0m, in \u001b[0;36mgoto_xyzrpy\u001b[0;34m(target, delay, tol, max_step, gain, stop)\u001b[0m\n\u001b[1;32m     43\u001b[0m qd \u001b[38;5;241m=\u001b[39m np\u001b[38;5;241m.\u001b[39mlinalg\u001b[38;5;241m.\u001b[39minv(J\u001b[38;5;241m.\u001b[39mT \u001b[38;5;241m@\u001b[39m J \u001b[38;5;241m+\u001b[39m alpha \u001b[38;5;241m*\u001b[39m I) \u001b[38;5;241m@\u001b[39m J\u001b[38;5;241m.\u001b[39mT \u001b[38;5;241m@\u001b[39m xd\n\u001b[1;32m     45\u001b[0m set_vels(\u001b[38;5;28mlist\u001b[39m(qd))\n\u001b[0;32m---> 46\u001b[0m \u001b[43mtime\u001b[49m\u001b[38;5;241;43m.\u001b[39;49m\u001b[43msleep\u001b[49m\u001b[43m(\u001b[49m\u001b[43mdelay\u001b[49m\u001b[43m)\u001b[49m\n\u001b[1;32m     48\u001b[0m step \u001b[38;5;241m=\u001b[39m step\u001b[38;5;241m+\u001b[39m\u001b[38;5;241m1\u001b[39m \n\u001b[1;32m     49\u001b[0m \u001b[38;5;28;01mif\u001b[39;00m step\u001b[38;5;241m>\u001b[39m\u001b[38;5;241m=\u001b[39mmax_step:\n",
      "\u001b[0;31mKeyboardInterrupt\u001b[0m: "
     ]
    }
   ],
   "source": [
    "frequency = 20.0   # similar to robomimic\n",
    "\n",
    "\n",
    "eepos_start=ee_pos[0]\n",
    "eepos_current=eepos_start\n",
    "\n",
    "\n",
    "st=time.time()\n",
    "acs=[]\n",
    "for i in range(1000000):\n",
    "    ob=get_current_obs()\n",
    "    if ob==None:\n",
    "        continue\n",
    "\n",
    "    ob2 = policy._prepare_observation(ob)\n",
    "    # ac = policy.policy.get_action(obs_dict=ob2, goal_dict=None)\n",
    "    # ac=ac.detach().cpu().numpy()[0]\n",
    "    ac=policy(ob2)\n",
    "    print(f'i={i} ac={ac}')\n",
    "    acs.append(ac)\n",
    "\n",
    "    if ac[-1]>0.9:\n",
    "        print('---------------------------------')\n",
    "        print('grip now-----------------------')\n",
    "        print('\\n---------------------------------------')\n",
    "        tb=Thread(target=beep_start)\n",
    "        tb.start()\n",
    "        # break \n",
    "\n",
    "    eepos_current[:3] += ac[:3]\n",
    "    print(f'eepos_togo: {eepos_current}')\n",
    "\n",
    "    goto_xyzrpy(eepos_current, tol=0.01, max_step=2, stop=False)\n",
    "    \n",
    "\n",
    "\n",
    "    image_front=ob['agentview_image'].transpose(2,1,0) \n",
    "    image_wrist=ob['robot0_eye_in_hand_image'].transpose(2,1,0)\n",
    "    \n",
    "\n",
    "    image=np.concatenate([image_wrist, image_front], axis=1) \n",
    "    image= cv2.cvtColor(image, cv2.COLOR_RGB2BGR)\n",
    "    cv2.imshow('frame',image)\n",
    "    if cv2.waitKey(1) == 27: \n",
    "        print('UI closed')\n",
    "        break  # esc to quit\n",
    "\n",
    "    time.sleep(1.0/frequency)\n",
    "\n",
    "cv2.destroyAllWindows() "
   ]
  },
  {
   "cell_type": "code",
   "execution_count": 38,
   "metadata": {},
   "outputs": [],
   "source": [
    "goto_xyzrpy(ee_pos[0], tol=0.005)  "
   ]
  },
  {
   "cell_type": "code",
   "execution_count": 29,
   "metadata": {},
   "outputs": [
    {
     "data": {
      "text/plain": [
       "array([-3.6969720e-04,  1.2310240e-03,  3.0301284e-04, -1.6575159e-03,\n",
       "        4.3890024e-05, -1.8973439e-03, -2.0936792e-04], dtype=float32)"
      ]
     },
     "execution_count": 29,
     "metadata": {},
     "output_type": "execute_result"
    }
   ],
   "source": [
    "ac"
   ]
  },
  {
   "cell_type": "code",
   "execution_count": 42,
   "metadata": {},
   "outputs": [],
   "source": [
    "cv2.destroyAllWindows() "
   ]
  },
  {
   "cell_type": "code",
   "execution_count": null,
   "metadata": {},
   "outputs": [],
   "source": []
  },
  {
   "cell_type": "code",
   "execution_count": null,
   "metadata": {},
   "outputs": [],
   "source": []
  },
  {
   "cell_type": "code",
   "execution_count": 23,
   "metadata": {},
   "outputs": [],
   "source": [
    "ob=get_current_obs()"
   ]
  },
  {
   "cell_type": "code",
   "execution_count": null,
   "metadata": {},
   "outputs": [],
   "source": []
  },
  {
   "cell_type": "code",
   "execution_count": null,
   "metadata": {},
   "outputs": [],
   "source": []
  },
  {
   "cell_type": "code",
   "execution_count": 24,
   "metadata": {},
   "outputs": [],
   "source": [
    "ob2 = policy._prepare_observation(ob)"
   ]
  },
  {
   "cell_type": "code",
   "execution_count": 25,
   "metadata": {},
   "outputs": [
    {
     "data": {
      "text/plain": [
       "torch.Size([1, 3, 84, 84])"
      ]
     },
     "execution_count": 25,
     "metadata": {},
     "output_type": "execute_result"
    }
   ],
   "source": [
    "ob2['agentview_image'].shape"
   ]
  },
  {
   "cell_type": "code",
   "execution_count": 26,
   "metadata": {},
   "outputs": [
    {
     "name": "stderr",
     "output_type": "stream",
     "text": [
      "/home/carl/.local/lib/python3.10/site-packages/torch/nn/modules/conv.py:456: UserWarning: Applied workaround for CuDNN issue, install nvrtc.so (Triggered internally at ../aten/src/ATen/native/cudnn/Conv_v8.cpp:80.)\n",
      "  return F.conv2d(input, weight, bias, self.stride,\n"
     ]
    }
   ],
   "source": [
    "ac=policy(ob2)"
   ]
  },
  {
   "cell_type": "code",
   "execution_count": 27,
   "metadata": {},
   "outputs": [
    {
     "data": {
      "text/plain": [
       "array([ 0.00154207, -0.00443313, -0.0015523 ,  0.01016796,  0.00538594,\n",
       "        0.0060267 , -0.00034769], dtype=float32)"
      ]
     },
     "execution_count": 27,
     "metadata": {},
     "output_type": "execute_result"
    }
   ],
   "source": [
    "ac"
   ]
  },
  {
   "cell_type": "code",
   "execution_count": 29,
   "metadata": {},
   "outputs": [
    {
     "data": {
      "text/plain": [
       "(7,)"
      ]
     },
     "execution_count": 29,
     "metadata": {},
     "output_type": "execute_result"
    }
   ],
   "source": [
    "ac.shape"
   ]
  },
  {
   "cell_type": "code",
   "execution_count": null,
   "metadata": {},
   "outputs": [],
   "source": []
  },
  {
   "cell_type": "code",
   "execution_count": 1,
   "metadata": {},
   "outputs": [
    {
     "ename": "NameError",
     "evalue": "name 'ob2' is not defined",
     "output_type": "error",
     "traceback": [
      "\u001b[0;31m---------------------------------------------------------------------------\u001b[0m",
      "\u001b[0;31mNameError\u001b[0m                                 Traceback (most recent call last)",
      "Cell \u001b[0;32mIn[1], line 1\u001b[0m\n\u001b[0;32m----> 1\u001b[0m \u001b[43mob2\u001b[49m\n",
      "\u001b[0;31mNameError\u001b[0m: name 'ob2' is not defined"
     ]
    }
   ],
   "source": [
    "ob2"
   ]
  },
  {
   "cell_type": "code",
   "execution_count": null,
   "metadata": {},
   "outputs": [],
   "source": [
    "obs2={}\n",
    "for key in obs.keys():\n",
    "    obs2[key]=obs[key][0] \n",
    "    obs2[key]=np.expand_dims(obs2[key], axis=0)"
   ]
  },
  {
   "cell_type": "code",
   "execution_count": null,
   "metadata": {},
   "outputs": [],
   "source": []
  },
  {
   "cell_type": "code",
   "execution_count": null,
   "metadata": {},
   "outputs": [],
   "source": []
  },
  {
   "cell_type": "code",
   "execution_count": null,
   "metadata": {},
   "outputs": [],
   "source": [
    "ac = policy.policy.get_action(obs_dict=ob2, goal_dict=None)"
   ]
  },
  {
   "cell_type": "code",
   "execution_count": null,
   "metadata": {},
   "outputs": [],
   "source": [
    "ac=ac.detach().cpu().numpy()[0]\n",
    "print(f'i={i} ac={ac}')"
   ]
  },
  {
   "cell_type": "code",
   "execution_count": null,
   "metadata": {},
   "outputs": [],
   "source": []
  },
  {
   "cell_type": "code",
   "execution_count": null,
   "metadata": {},
   "outputs": [],
   "source": []
  },
  {
   "cell_type": "code",
   "execution_count": null,
   "metadata": {},
   "outputs": [],
   "source": []
  },
  {
   "cell_type": "code",
   "execution_count": null,
   "metadata": {},
   "outputs": [],
   "source": []
  },
  {
   "cell_type": "code",
   "execution_count": null,
   "metadata": {},
   "outputs": [],
   "source": []
  },
  {
   "cell_type": "code",
   "execution_count": null,
   "metadata": {},
   "outputs": [],
   "source": []
  }
 ],
 "metadata": {
  "kernelspec": {
   "display_name": "Python 3",
   "language": "python",
   "name": "python3"
  },
  "language_info": {
   "codemirror_mode": {
    "name": "ipython",
    "version": 3
   },
   "file_extension": ".py",
   "mimetype": "text/x-python",
   "name": "python",
   "nbconvert_exporter": "python",
   "pygments_lexer": "ipython3",
   "version": "3.10.12"
  },
  "orig_nbformat": 4
 },
 "nbformat": 4,
 "nbformat_minor": 2
}
