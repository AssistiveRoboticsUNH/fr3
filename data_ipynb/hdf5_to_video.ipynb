{
 "cells": [
  {
   "cell_type": "code",
   "execution_count": 1,
   "metadata": {},
   "outputs": [],
   "source": [
    "import os\n",
    "import json\n",
    "import h5py\n",
    "import numpy as np\n",
    "import imageio\n",
    "import cv2 "
   ]
  },
  {
   "cell_type": "code",
   "execution_count": 2,
   "metadata": {},
   "outputs": [],
   "source": [
    "# dataset_path = \"/home/franka_deoxys/data_franka/lift_blue/demo.hdf5\"\n",
    "dataset_path = \"/home/franka_deoxys/data_franka/imgs_demo/demo.hdf5\""
   ]
  },
  {
   "cell_type": "code",
   "execution_count": 3,
   "metadata": {},
   "outputs": [
    {
     "name": "stdout",
     "output_type": "stream",
     "text": [
      "Number of demos:  5\n",
      "Max length:  88\n",
      "Min length:  70\n",
      "Mean length:  80.4\n"
     ]
    }
   ],
   "source": [
    "f = h5py.File(dataset_path, \"r\")\n",
    "demos = list(f[\"data\"].keys())\n",
    "\n",
    "lengths=[]\n",
    "for demo_name in demos:\n",
    "    demo=f['data'][demo_name]\n",
    "    # num_samples=demo.attrs['num_samples']\n",
    "    num_samples = demo['actions'].shape[0]\n",
    "    lengths.append(num_samples)\n",
    "\n",
    "lengths=np.array(lengths)\n",
    "\n",
    "print('Number of demos: ', len(demos))\n",
    "print('Max length: ', np.max(lengths))\n",
    "print('Min length: ', np.min(lengths))\n",
    "print('Mean length: ', np.mean(lengths))"
   ]
  },
  {
   "cell_type": "code",
   "execution_count": 7,
   "metadata": {},
   "outputs": [
    {
     "data": {
      "text/plain": [
       "<KeysViewHDF5 ['actions', 'camera_0_color', 'camera_1_color', 'proprio_ee', 'proprio_gripper_state', 'proprio_joints']>"
      ]
     },
     "execution_count": 7,
     "metadata": {},
     "output_type": "execute_result"
    }
   ],
   "source": [
    "demo=f['data'][demo_name]\n",
    "demo.keys()"
   ]
  },
  {
   "cell_type": "code",
   "execution_count": null,
   "metadata": {},
   "outputs": [],
   "source": []
  },
  {
   "cell_type": "code",
   "execution_count": 4,
   "metadata": {},
   "outputs": [],
   "source": [
    "def render_video(demo_name):\n",
    "    demo=f['data'][demo_name]\n",
    "    imgs1=demo['camera_0_color']\n",
    "    imgs2=demo['camera_1_color']\n",
    "    imgs=np.concatenate([imgs1, imgs2], axis=2)\n",
    "\n",
    "    savepath=f\"/home/franka_deoxys/data_franka/imgs_demo/videos/{demo_name}.mp4\"\n",
    "\n",
    "    writer = imageio.get_writer(savepath, fps=20)\n",
    "    for img in imgs:\n",
    "        image_rgb = cv2.cvtColor(img, cv2.COLOR_BGR2RGB) \n",
    "        writer.append_data(image_rgb)\n",
    "    writer.close()"
   ]
  },
  {
   "cell_type": "code",
   "execution_count": 6,
   "metadata": {},
   "outputs": [
    {
     "name": "stdout",
     "output_type": "stream",
     "text": [
      "processing ep_0\n",
      "processing ep_1\n",
      "processing ep_2\n",
      "processing ep_3\n",
      "processing ep_4\n"
     ]
    }
   ],
   "source": [
    "# demo_name=demos[0]\n",
    "for demo_name in demos:\n",
    "    print('processing', demo_name)\n",
    "    render_video(demo_name)"
   ]
  },
  {
   "cell_type": "code",
   "execution_count": null,
   "metadata": {},
   "outputs": [],
   "source": []
  },
  {
   "cell_type": "code",
   "execution_count": null,
   "metadata": {},
   "outputs": [],
   "source": []
  },
  {
   "cell_type": "code",
   "execution_count": null,
   "metadata": {},
   "outputs": [],
   "source": []
  },
  {
   "cell_type": "code",
   "execution_count": null,
   "metadata": {},
   "outputs": [],
   "source": []
  }
 ],
 "metadata": {
  "kernelspec": {
   "display_name": "Python 3",
   "language": "python",
   "name": "python3"
  },
  "language_info": {
   "codemirror_mode": {
    "name": "ipython",
    "version": 3
   },
   "file_extension": ".py",
   "mimetype": "text/x-python",
   "name": "python",
   "nbconvert_exporter": "python",
   "pygments_lexer": "ipython3",
   "version": "3.10.12"
  }
 },
 "nbformat": 4,
 "nbformat_minor": 2
}
