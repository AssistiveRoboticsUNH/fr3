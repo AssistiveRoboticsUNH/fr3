{
 "cells": [
  {
   "cell_type": "code",
   "execution_count": 1,
   "metadata": {},
   "outputs": [
    {
     "name": "stdout",
     "output_type": "stream",
     "text": [
      "\u001b[33mROBOMIMIC WARNING(\n",
      "    No private macro file found!\n",
      "    It is recommended to use a private macro file\n",
      "    To setup, run: python /home/franka_deoxys/robomimic/robomimic/scripts/setup_macros.py\n",
      ")\u001b[0m\n"
     ]
    },
    {
     "name": "stderr",
     "output_type": "stream",
     "text": [
      "/home/franka_deoxys/.local/lib/python3.10/site-packages/matplotlib/projections/__init__.py:63: UserWarning: Unable to import Axes3D. This may be due to multiple versions of Matplotlib being installed (e.g. as a system package and as a pip package). As a result, the 3D projection is not available.\n",
      "  warnings.warn(\"Unable to import Axes3D. This may be due to multiple versions of \"\n"
     ]
    }
   ],
   "source": [
    "import json\n",
    "import numpy as np\n",
    "import time\n",
    "import os \n",
    "import psutil \n",
    "from collections import OrderedDict\n",
    "\n",
    "import torch\n",
    "from torch.utils.data import DataLoader\n",
    " \n",
    "import robomimic.utils.train_utils as TrainUtils\n",
    "import robomimic.utils.torch_utils as TorchUtils\n",
    "import robomimic.utils.tensor_utils as TensorUtils\n",
    "import robomimic.utils.obs_utils as ObsUtils\n",
    "import robomimic.utils.env_utils as EnvUtils\n",
    "import robomimic.utils.file_utils as FileUtils\n",
    "from robomimic.config import config_factory\n",
    "from robomimic.algo import algo_factory, RolloutPolicy\n",
    "from robomimic.utils.log_utils import PrintLogger, DataLogger, flush_warnings\n",
    "import imageio \n",
    "\n",
    "import matplotlib.pyplot as plt\n",
    "\n",
    "from robomimic.envs.wrappers import EnvWrapper\n",
    "from copy import deepcopy\n",
    "import textwrap\n",
    "import numpy as np\n",
    "from collections import deque\n",
    "\n",
    "np.set_printoptions(precision=3, suppress=True)"
   ]
  },
  {
   "cell_type": "code",
   "execution_count": 2,
   "metadata": {},
   "outputs": [],
   "source": [
    "# ckpt_path = \"/home/franka_deoxys/data_franka/lift_blue/policy/trans_epoch_140_lift_blue.pth\"\n",
    "ckpt_path = \"/home/franka_deoxys/data_franka/lift_blue/policy/model_epoch_300.pth\"\n",
    "assert os.path.exists(ckpt_path)"
   ]
  },
  {
   "cell_type": "code",
   "execution_count": 3,
   "metadata": {},
   "outputs": [
    {
     "name": "stderr",
     "output_type": "stream",
     "text": [
      "/home/franka_deoxys/robomimic/robomimic/utils/file_utils.py:186: FutureWarning: You are using `torch.load` with `weights_only=False` (the current default value), which uses the default pickle module implicitly. It is possible to construct malicious pickle data which will execute arbitrary code during unpickling (See https://github.com/pytorch/pytorch/blob/main/SECURITY.md#untrusted-models for more details). In a future release, the default value for `weights_only` will be flipped to `True`. This limits the functions that could be executed during unpickling. Arbitrary objects will no longer be allowed to be loaded via this mode unless they are explicitly allowlisted by the user via `torch.serialization.add_safe_globals`. We recommend you start setting `weights_only=True` for any use case where you don't have full control of the loaded file. Please open an issue on GitHub for any issues related to this experimental feature.\n",
      "  ckpt_dict = torch.load(ckpt_path)\n"
     ]
    },
    {
     "name": "stdout",
     "output_type": "stream",
     "text": [
      "\n",
      "============= Initialized Observation Utils with Obs Spec =============\n",
      "\n",
      "using obs modality: low_dim with keys: ['gripper_states', 'joint_states', 'ee_states']\n",
      "using obs modality: rgb with keys: ['eye_in_hand_rgb', 'agentview_rgb']\n",
      "using obs modality: depth with keys: []\n",
      "using obs modality: scan with keys: []\n"
     ]
    },
    {
     "name": "stderr",
     "output_type": "stream",
     "text": [
      "/home/franka_deoxys/.local/lib/python3.10/site-packages/torchvision/models/_utils.py:208: UserWarning: The parameter 'pretrained' is deprecated since 0.13 and may be removed in the future, please use 'weights' instead.\n",
      "  warnings.warn(\n",
      "/home/franka_deoxys/.local/lib/python3.10/site-packages/torchvision/models/_utils.py:223: UserWarning: Arguments other than a weight enum or `None` for 'weights' are deprecated since 0.13 and may be removed in the future. The current behavior is equivalent to passing `weights=None`.\n",
      "  warnings.warn(msg)\n"
     ]
    },
    {
     "name": "stdout",
     "output_type": "stream",
     "text": [
      "Created GPT_Backbone model with number of parameters: 18906112\n"
     ]
    }
   ],
   "source": [
    "device = TorchUtils.get_torch_device(try_to_use_cuda=True)\n",
    "\n",
    "# restore policy\n",
    "policy, ckpt_dict = FileUtils.policy_from_checkpoint(ckpt_path=ckpt_path, device=device, verbose=False)\n",
    "ckpt_dict = FileUtils.maybe_dict_from_checkpoint(ckpt_path=ckpt_path, ckpt_dict=None)\n",
    "# algo name and config from model dict\n",
    "algo_name, _ = FileUtils.algo_name_from_checkpoint(ckpt_dict=ckpt_dict)\n",
    "config, _ = FileUtils.config_from_checkpoint(algo_name=algo_name, ckpt_dict=ckpt_dict, verbose=False)"
   ]
  },
  {
   "cell_type": "code",
   "execution_count": 4,
   "metadata": {},
   "outputs": [
    {
     "data": {
      "text/plain": [
       "'/home/franka_deoxys/data_franka/lift_blue/lift_blue_imgs30.hdf5'"
      ]
     },
     "execution_count": 4,
     "metadata": {},
     "output_type": "execute_result"
    }
   ],
   "source": [
    "config.unlock()\n",
    "config.train.data=\"/home/franka_deoxys/data_franka/lift_blue/lift_blue_imgs30.hdf5\"\n",
    "config.lock() \n",
    "config.train.data"
   ]
  },
  {
   "cell_type": "code",
   "execution_count": 5,
   "metadata": {},
   "outputs": [
    {
     "name": "stdout",
     "output_type": "stream",
     "text": [
      "\n",
      "============= Initialized Observation Utils with Obs Spec =============\n",
      "\n",
      "using obs modality: low_dim with keys: ['gripper_states', 'joint_states', 'ee_states']\n",
      "using obs modality: rgb with keys: ['eye_in_hand_rgb', 'agentview_rgb']\n",
      "using obs modality: depth with keys: []\n",
      "using obs modality: scan with keys: []\n",
      "SequenceDataset: loading dataset into memory...\n",
      "100%|██████████| 30/30 [00:00<00:00, 160.44it/s]\n",
      "SequenceDataset: caching get_item calls...\n",
      "100%|██████████| 3767/3767 [00:01<00:00, 2218.22it/s]\n"
     ]
    },
    {
     "data": {
      "text/plain": [
       "30"
      ]
     },
     "execution_count": 5,
     "metadata": {},
     "output_type": "execute_result"
    }
   ],
   "source": [
    "ObsUtils.initialize_obs_utils_with_config(config)\n",
    "\n",
    "shape_meta = FileUtils.get_shape_metadata_from_dataset(\n",
    "    dataset_path=config.train.data,\n",
    "    all_obs_keys=config.all_obs_keys,\n",
    "    verbose=False\n",
    ")\n",
    "trainset, validset = TrainUtils.load_data_for_training(\n",
    "    config, obs_keys=shape_meta[\"all_obs_keys\"])\n",
    "len(trainset.demos)"
   ]
  },
  {
   "cell_type": "code",
   "execution_count": 6,
   "metadata": {},
   "outputs": [],
   "source": [
    "# initialize data loaders\n",
    "train_loader = DataLoader(\n",
    "    dataset=trainset,\n",
    "    sampler=None,\n",
    "    batch_size=config.train.batch_size,\n",
    "    shuffle=True,\n",
    "    num_workers=config.train.num_data_workers,\n",
    "    drop_last=True\n",
    ")"
   ]
  },
  {
   "cell_type": "code",
   "execution_count": 7,
   "metadata": {},
   "outputs": [],
   "source": [
    "batch=next(iter(train_loader))"
   ]
  },
  {
   "cell_type": "code",
   "execution_count": 8,
   "metadata": {},
   "outputs": [
    {
     "data": {
      "text/plain": [
       "torch.Size([100, 10, 120, 120, 3])"
      ]
     },
     "execution_count": 8,
     "metadata": {},
     "output_type": "execute_result"
    }
   ],
   "source": [
    "batch['obs']['agentview_rgb'].shape"
   ]
  },
  {
   "cell_type": "code",
   "execution_count": null,
   "metadata": {},
   "outputs": [],
   "source": []
  },
  {
   "cell_type": "code",
   "execution_count": 9,
   "metadata": {},
   "outputs": [],
   "source": [
    "model = policy.policy\n",
    "\n",
    "input_batch = model.process_batch_for_training(batch)\n",
    "input_batch = model.postprocess_batch_for_training(input_batch, obs_normalization_stats=None)"
   ]
  },
  {
   "cell_type": "code",
   "execution_count": 92,
   "metadata": {},
   "outputs": [
    {
     "data": {
      "text/plain": [
       "torch.Size([100, 10, 3, 120, 120])"
      ]
     },
     "execution_count": 92,
     "metadata": {},
     "output_type": "execute_result"
    }
   ],
   "source": [
    "input_batch['obs']['agentview_rgb'].shape"
   ]
  },
  {
   "cell_type": "code",
   "execution_count": 11,
   "metadata": {},
   "outputs": [],
   "source": [
    "model.set_train()"
   ]
  },
  {
   "cell_type": "code",
   "execution_count": 12,
   "metadata": {},
   "outputs": [],
   "source": [
    "epoch=1\n",
    "info = model.train_on_batch(input_batch, epoch, validate=False)"
   ]
  },
  {
   "cell_type": "code",
   "execution_count": 13,
   "metadata": {},
   "outputs": [
    {
     "data": {
      "text/plain": [
       "tensor([27.4544, 29.2420, 33.3187, 34.6614, 36.5148, 34.2542, 40.8441, 35.1582,\n",
       "        37.2867, 40.3586, 40.8840, 30.4175, 40.9702, 35.8761, 33.5643, 37.7734,\n",
       "        32.8059, 26.6060, 35.4593, 33.1531, 38.9156, 42.4689, 37.5167, 36.4718,\n",
       "        37.3105, 34.2207, 35.8390, 36.9135, 27.8255, 39.7112, 28.3308, 32.1768,\n",
       "        35.2249, 27.0291, 35.8067, 40.5067, 30.1791, 31.0595, 32.0750, 42.2863,\n",
       "        29.8422, 35.4120, 36.8997, 31.1337, 39.7720, 40.4967, 38.1884, 39.3062,\n",
       "        33.6809, 38.6629, 32.6382, 33.1562, 31.1744, 36.0568, 32.1237, 37.6454,\n",
       "        38.6001, 32.8896, 32.1173, 28.2138, 38.1188, 37.6701, 32.5566, 27.1303,\n",
       "        29.8183, 32.8366, 35.3553, 40.0643, 31.8365, 36.4301, 40.1167, 40.2483,\n",
       "        38.9024, 40.0915, 41.3719, 34.8725, 31.9168, 39.0131, 32.4820, 36.8578,\n",
       "        34.8798, 30.6602, 31.8413, 36.8714, 31.8507, 41.0457, 40.0770, 42.3503,\n",
       "        37.9751, 30.2602, 41.7487, 38.9444, 39.5371, 38.5094, 32.7607, 34.1003,\n",
       "        33.1137, 37.0044, 39.1945, 32.1567], device='cuda:0')"
      ]
     },
     "execution_count": 13,
     "metadata": {},
     "output_type": "execute_result"
    }
   ],
   "source": [
    "info['predictions']['log_probs']"
   ]
  },
  {
   "cell_type": "code",
   "execution_count": null,
   "metadata": {},
   "outputs": [],
   "source": []
  },
  {
   "cell_type": "code",
   "execution_count": null,
   "metadata": {},
   "outputs": [],
   "source": []
  },
  {
   "cell_type": "code",
   "execution_count": 14,
   "metadata": {},
   "outputs": [],
   "source": [
    "model.set_eval()"
   ]
  },
  {
   "cell_type": "code",
   "execution_count": 15,
   "metadata": {},
   "outputs": [],
   "source": [
    "pred = model.get_action(obs_dict=input_batch['obs'], goal_dict=None)"
   ]
  },
  {
   "cell_type": "code",
   "execution_count": 16,
   "metadata": {},
   "outputs": [
    {
     "data": {
      "text/plain": [
       "torch.Size([100, 7])"
      ]
     },
     "execution_count": 16,
     "metadata": {},
     "output_type": "execute_result"
    }
   ],
   "source": [
    "pred.shape"
   ]
  },
  {
   "cell_type": "code",
   "execution_count": 17,
   "metadata": {},
   "outputs": [
    {
     "name": "stdout",
     "output_type": "stream",
     "text": [
      "agentview_rgb torch.Size([100, 10, 3, 120, 120])\n",
      "ee_states torch.Size([100, 10, 16])\n",
      "eye_in_hand_rgb torch.Size([100, 10, 3, 120, 120])\n",
      "gripper_states torch.Size([100, 10, 1])\n",
      "joint_states torch.Size([100, 10, 7])\n"
     ]
    }
   ],
   "source": [
    "for key in input_batch['obs'].keys():\n",
    "    print(key, input_batch['obs'][key].shape)"
   ]
  },
  {
   "cell_type": "code",
   "execution_count": null,
   "metadata": {},
   "outputs": [],
   "source": []
  },
  {
   "cell_type": "code",
   "execution_count": null,
   "metadata": {},
   "outputs": [],
   "source": []
  },
  {
   "cell_type": "code",
   "execution_count": 55,
   "metadata": {},
   "outputs": [],
   "source": [
    "def stacked_get_init(init_obs, num_frames):\n",
    "    obs_history = {}\n",
    "    for k in init_obs:\n",
    "        obs_history[k] = deque([init_obs[k][None] for _ in range(num_frames)], maxlen=num_frames,)\n",
    "    obs = { k : np.concatenate(obs_history[k], axis=0) for k in obs_history }\n",
    "    return obs_history, obs \n",
    "\n",
    "def stacked_add_new(obs_history, new_obs):\n",
    "    for k in new_obs:\n",
    "        if 'timesteps' in k or 'actions' in k: continue\n",
    "        obs_history[k].append(new_obs[k][None])\n",
    "\n",
    "    obs= { k : np.concatenate(obs_history[k], axis=0) for k in obs_history }\n",
    "    return obs_history, obs "
   ]
  },
  {
   "cell_type": "code",
   "execution_count": null,
   "metadata": {},
   "outputs": [],
   "source": []
  },
  {
   "cell_type": "code",
   "execution_count": 93,
   "metadata": {},
   "outputs": [
    {
     "data": {
      "text/plain": [
       "((119, 7), 119)"
      ]
     },
     "execution_count": 93,
     "metadata": {},
     "output_type": "execute_result"
    }
   ],
   "source": [
    "demo_name = 'demo_1'\n",
    "# demo_name = 'demo_33'\n",
    "demo=trainset.hdf5_file['data'][demo_name]\n",
    "action_org=demo['actions']\n",
    "obss = demo['obs']\n",
    "T = action_org.shape[0]\n",
    "\n",
    "action_org.shape , T "
   ]
  },
  {
   "cell_type": "code",
   "execution_count": 94,
   "metadata": {},
   "outputs": [
    {
     "data": {
      "text/plain": [
       "(torch.Size([10, 3, 120, 120]), torch.Size([10, 3, 120, 120]))"
      ]
     },
     "execution_count": 94,
     "metadata": {},
     "output_type": "execute_result"
    }
   ],
   "source": [
    "num_frames=10\n",
    "\n",
    "t=0\n",
    "obs_0={k:obss[k][t] for k in obss.keys()}\n",
    "for key in obs_0.keys():\n",
    "    if 'rgb' in key:\n",
    "        obs_0[key]=obs_0[key].transpose(2, 1, 0)\n",
    "\n",
    "    # obs_0[key]=obs_0[key][None,:]\n",
    "\n",
    "init_obs = obs_0\n",
    "obs_history, obs = stacked_get_init(init_obs, num_frames) \n",
    "obs=TensorUtils.to_torch(obs, device=device)\n",
    "\n",
    "obs['agentview_rgb'].shape, obs['eye_in_hand_rgb'].shape"
   ]
  },
  {
   "cell_type": "code",
   "execution_count": 89,
   "metadata": {},
   "outputs": [],
   "source": [
    "# batch_obs={}\n",
    "# for key in obs:\n",
    "#     batch_obs[key]=obs[key][None]\n",
    "#     print(key, batch_obs[key].shape)\n",
    "# pred = model.get_action(obs_dict=batch_obs , goal_dict=None)\n",
    "# pred.shape"
   ]
  },
  {
   "cell_type": "code",
   "execution_count": 90,
   "metadata": {},
   "outputs": [],
   "source": [
    "# t=1\n",
    "# obs_t={k:obss[k][t] for k in obss.keys()}\n",
    "# for key in obs_t.keys():\n",
    "#     if 'rgb' in key:\n",
    "#         obs_t[key]=obs_t[key].transpose(2, 1, 0)\n",
    " \n",
    "\n",
    "# obs_history, obs = stacked_add_new(obs_history, obs_t) \n",
    "# obs=TensorUtils.to_torch(obs, device=device)\n",
    "\n",
    "# obs['agentview_rgb'].shape, obs['eye_in_hand_rgb'].shape"
   ]
  },
  {
   "cell_type": "code",
   "execution_count": null,
   "metadata": {},
   "outputs": [],
   "source": []
  },
  {
   "cell_type": "code",
   "execution_count": 91,
   "metadata": {},
   "outputs": [
    {
     "data": {
      "text/plain": [
       "(119, 7)"
      ]
     },
     "execution_count": 91,
     "metadata": {},
     "output_type": "execute_result"
    }
   ],
   "source": [
    "action_pred=[]\n",
    "for t in range(T): \n",
    "    obs_t={k:obss[k][t] for k in obss.keys()}\n",
    "    for key in obs_t.keys():\n",
    "        if 'rgb' in key:\n",
    "            obs_t[key]=obs_t[key].transpose(2, 1, 0)\n",
    "    \n",
    "\n",
    "    obs_history, obs = stacked_add_new(obs_history, obs_t) \n",
    "    obs=TensorUtils.to_torch(obs, device=device)\n",
    "    batch_obs={}\n",
    "    for key in obs:\n",
    "        batch_obs[key]=obs[key][None] \n",
    "    pred = model.get_action(obs_dict=batch_obs , goal_dict=None)\n",
    "    ac=pred[0].detach().cpu().numpy()\n",
    "    action_pred.append(ac)\n",
    "\n",
    "action_pred=np.vstack(action_pred)\n",
    "action_pred.shape"
   ]
  },
  {
   "cell_type": "code",
   "execution_count": 86,
   "metadata": {},
   "outputs": [
    {
     "data": {
      "text/plain": [
       "(7,)"
      ]
     },
     "execution_count": 86,
     "metadata": {},
     "output_type": "execute_result"
    }
   ],
   "source": [
    "ac.shape"
   ]
  },
  {
   "cell_type": "code",
   "execution_count": null,
   "metadata": {},
   "outputs": [],
   "source": []
  },
  {
   "cell_type": "code",
   "execution_count": 84,
   "metadata": {},
   "outputs": [
    {
     "data": {
      "image/png": "[encoded data removed]",
      "text/plain": [
       "<Figure size 640x480 with 1 Axes>"
      ]
     },
     "metadata": {},
     "output_type": "display_data"
    }
   ],
   "source": [
    "plt.plot(action_org[:,:6], color='blue', label='org')\n",
    "plt.plot(action_pred[:,:6], color='red', label='pred')\n",
    "plt.legend()\n",
    "plt.show()"
   ]
  },
  {
   "cell_type": "code",
   "execution_count": null,
   "metadata": {},
   "outputs": [],
   "source": []
  },
  {
   "cell_type": "code",
   "execution_count": 104,
   "metadata": {},
   "outputs": [
    {
     "data": {
      "text/plain": [
       "(120, 120, 3)"
      ]
     },
     "execution_count": 104,
     "metadata": {},
     "output_type": "execute_result"
    }
   ],
   "source": [
    "obs['agentview_rgb'].shape\n",
    "\n",
    "img=obs['agentview_rgb'][0].permute(2,1,0).detach().cpu().numpy() /255.0\n",
    "img.shape"
   ]
  },
  {
   "cell_type": "code",
   "execution_count": 105,
   "metadata": {},
   "outputs": [
    {
     "data": {
      "text/plain": [
       "<matplotlib.image.AxesImage at 0x799c1831d360>"
      ]
     },
     "execution_count": 105,
     "metadata": {},
     "output_type": "execute_result"
    },
    {
     "data": {
      "image/png": "[encoded data removed]",
      "text/plain": [
       "<Figure size 640x480 with 1 Axes>"
      ]
     },
     "metadata": {},
     "output_type": "display_data"
    }
   ],
   "source": [
    "plt.imshow(img)"
   ]
  },
  {
   "cell_type": "code",
   "execution_count": 107,
   "metadata": {},
   "outputs": [
    {
     "name": "stdout",
     "output_type": "stream",
     "text": [
      "agentview_rgb torch.Size([10, 3, 120, 120])\n",
      "ee_states torch.Size([10, 16])\n",
      "eye_in_hand_rgb torch.Size([10, 3, 120, 120])\n",
      "gripper_states torch.Size([10, 1])\n",
      "joint_states torch.Size([10, 7])\n"
     ]
    }
   ],
   "source": [
    "for key in obs.keys():\n",
    "    print(key, obs[key].shape)"
   ]
  },
  {
   "cell_type": "code",
   "execution_count": null,
   "metadata": {},
   "outputs": [],
   "source": []
  },
  {
   "cell_type": "code",
   "execution_count": null,
   "metadata": {},
   "outputs": [],
   "source": []
  },
  {
   "cell_type": "code",
   "execution_count": null,
   "metadata": {},
   "outputs": [],
   "source": []
  },
  {
   "cell_type": "code",
   "execution_count": null,
   "metadata": {},
   "outputs": [],
   "source": []
  },
  {
   "cell_type": "code",
   "execution_count": null,
   "metadata": {},
   "outputs": [],
   "source": []
  },
  {
   "cell_type": "code",
   "execution_count": null,
   "metadata": {},
   "outputs": [],
   "source": []
  }
 ],
 "metadata": {
  "kernelspec": {
   "display_name": "robomimic_venv",
   "language": "python",
   "name": "python3"
  },
  "language_info": {
   "codemirror_mode": {
    "name": "ipython",
    "version": 3
   },
   "file_extension": ".py",
   "mimetype": "text/x-python",
   "name": "python",
   "nbconvert_exporter": "python",
   "pygments_lexer": "ipython3",
   "version": "3.10.12"
  },
  "orig_nbformat": 4,
  "vscode": {
   "interpreter": {
    "hash": "0470c1ad2f0fb27cfc2238567a653f05115d47bf4fc5f86d0f161d89abc1f79a"
   }
  }
 },
 "nbformat": 4,
 "nbformat_minor": 2
}
